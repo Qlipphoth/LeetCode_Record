{
 "cells": [
  {
   "cell_type": "markdown",
   "id": "eff5a61d-f729-4c66-98bc-6d6fab2a8083",
   "metadata": {},
   "source": [
    "## 3. 无重复字符的最长子串"
   ]
  },
  {
   "cell_type": "markdown",
   "id": "fa1857ad-dfa5-41c6-955b-abeedc1234bf",
   "metadata": {},
   "source": [
    "滑窗 + 哈希表"
   ]
  },
  {
   "cell_type": "code",
   "execution_count": 37,
   "id": "77f7d997-48c3-4f83-8950-b49e4498383d",
   "metadata": {},
   "outputs": [],
   "source": [
    "from collections import defaultdict\n",
    "class Solution:\n",
    "    def lengthOfLongestSubstring(self, s: str) -> int:\n",
    "        cnt = defaultdict(int)\n",
    "        left = right = 0\n",
    "        ans = 0\n",
    "        while right < len(s):\n",
    "            # print(cnt)\n",
    "            cur = s[right]\n",
    "            cnt[cur] += 1\n",
    "            while cnt[cur] > 1 and left <= right:\n",
    "                cnt[s[left]] -= 1\n",
    "                left += 1\n",
    "            right += 1\n",
    "            ans = max(ans, right - left)\n",
    "        return ans"
   ]
  },
  {
   "cell_type": "code",
   "execution_count": 38,
   "id": "949d3972-e08e-4180-93d4-fb044c293142",
   "metadata": {},
   "outputs": [],
   "source": [
    "s = \"\""
   ]
  },
  {
   "cell_type": "code",
   "execution_count": 39,
   "id": "29df213e-885e-42de-a990-940aef8dc344",
   "metadata": {},
   "outputs": [
    {
     "data": {
      "text/plain": [
       "0"
      ]
     },
     "execution_count": 39,
     "metadata": {},
     "output_type": "execute_result"
    }
   ],
   "source": [
    "S = Solution()\n",
    "S.lengthOfLongestSubstring(s)"
   ]
  },
  {
   "cell_type": "markdown",
   "id": "3ecf8f07-2615-446d-a90b-8ee94b0fc0a6",
   "metadata": {},
   "source": [
    "也可以用set代替哈希表的作用"
   ]
  },
  {
   "cell_type": "markdown",
   "id": "aed01b4e-a666-4f8d-9cbe-ab33ec27d893",
   "metadata": {},
   "source": [
    "## 206. 反转链表"
   ]
  },
  {
   "cell_type": "markdown",
   "id": "95098a47-d956-4c88-ac4b-4414481a8f73",
   "metadata": {},
   "source": [
    "链表常见双指针"
   ]
  },
  {
   "cell_type": "code",
   "execution_count": 40,
   "id": "1215f95d-87b8-4eda-8c3a-fa9d2fb88f5b",
   "metadata": {},
   "outputs": [],
   "source": [
    "# Definition for singly-linked list.\n",
    "class ListNode:\n",
    "    def __init__(self, val=0, next=None):\n",
    "        self.val = val\n",
    "        self.next = next"
   ]
  },
  {
   "cell_type": "code",
   "execution_count": 43,
   "id": "2cde8fdb-407b-4982-8792-d46c85f26331",
   "metadata": {},
   "outputs": [],
   "source": [
    "from typing import Optional\n",
    "class Solution:\n",
    "    def reverseList(self, head: Optional[ListNode]) -> Optional[ListNode]:\n",
    "        pre, cur = None, head\n",
    "        while cur:\n",
    "            nxt = cur.next\n",
    "            cur.next = pre\n",
    "            pre = cur\n",
    "            cur = nxt\n",
    "        return pre"
   ]
  },
  {
   "cell_type": "markdown",
   "id": "e9d92aa3-b830-4aaf-b2be-102b3fbc9efa",
   "metadata": {},
   "source": [
    "### 递归"
   ]
  },
  {
   "cell_type": "code",
   "execution_count": 45,
   "id": "8bf55503-2a0c-4c7c-9937-833df4a812fa",
   "metadata": {},
   "outputs": [],
   "source": [
    "class Solution:\n",
    "    def reverseList(self, head: Optional[ListNode]) -> Optional[ListNode]:\n",
    "        def reverse(pre, cur):\n",
    "            if not cur: return pre\n",
    "            nxt = cur.next\n",
    "            cur.next = pre\n",
    "            return reverse(cur, nxt)\n",
    "        return reverse(None, head)"
   ]
  },
  {
   "cell_type": "markdown",
   "id": "6984328d-f6c0-4a3d-9bf8-95cd36957155",
   "metadata": {},
   "source": [
    "## 146. LRU缓存 (重要)"
   ]
  },
  {
   "cell_type": "markdown",
   "id": "15b94312-69c0-4555-a5cf-cd45b256024f",
   "metadata": {},
   "source": [
    "双向链表 + 哈希表"
   ]
  },
  {
   "cell_type": "markdown",
   "id": "fa402a1b-4ef8-4939-a537-9d7b092a9df5",
   "metadata": {},
   "source": [
    "哈希表中存放双向链表的节点，这样就能以 O(1) 的复杂度进行查询；定位到要操作的节点之后，双链表的增删改都是 O(1) 的复杂度。 同时双向链表中存储键值对，查询映射关系。"
   ]
  },
  {
   "cell_type": "code",
   "execution_count": 9,
   "id": "5d65fc60-8104-49bb-a4d8-2fdb1324bf5f",
   "metadata": {},
   "outputs": [],
   "source": [
    "class DLinkedNode:\n",
    "    \"\"\"双向链表\"\"\"\n",
    "    def __init__(self, key = 0, value = 0):\n",
    "        self.key = key\n",
    "        self.value = value\n",
    "        self.prev = None\n",
    "        self.next = None\n",
    "\n",
    "class LRUCache:\n",
    "\n",
    "    def __init__(self, capacity: int):\n",
    "        self.head = DLinkedNode()\n",
    "        self.tail = DLinkedNode()\n",
    "        self.head.next = self.tail\n",
    "        self.tail.prev = self.head\n",
    "        self.capacity = capacity\n",
    "        self.size = 0\n",
    "        self.cache = dict()\n",
    "        \n",
    "    def get(self, key: int) -> int:\n",
    "        if key not in self.cache:\n",
    "            return -1\n",
    "        node = self.cache[key]\n",
    "        self.moveToHead(node)\n",
    "        return node.value\n",
    "        \n",
    "    def put(self, key: int, value: int) -> None:\n",
    "        if key not in self.cache:\n",
    "            node = DLinkedNode(key, value)\n",
    "            self.cache[key] = node\n",
    "            self.addToHead(node)\n",
    "            self.size += 1\n",
    "            if self.size > self.capacity:\n",
    "                removed = self.removeTail()\n",
    "                self.cache.pop(removed.key)\n",
    "                self.size -= 1\n",
    "        else:\n",
    "            node = self.cache[key]\n",
    "            node.value = value\n",
    "            self.moveToHead(node)\n",
    "    \n",
    "    def addToHead(self, node):\n",
    "        node.prev = self.head\n",
    "        node.next = self.head.next\n",
    "        self.head.next.prev = node\n",
    "        self.head.next = node\n",
    "        \n",
    "    def removeNode(self, node):\n",
    "        node.next.prev = node.prev\n",
    "        node.prev.next = node.next\n",
    "    \n",
    "    def moveToHead(self, node):\n",
    "        self.removeNode(node)\n",
    "        self.addToHead(node)\n",
    "        \n",
    "    def removeTail(self):\n",
    "        node = self.tail.prev\n",
    "        self.removeNode(node)\n",
    "        return node\n",
    "        \n",
    "        "
   ]
  },
  {
   "cell_type": "markdown",
   "id": "e33a05e2-091b-42de-b889-282d7b5d5d73",
   "metadata": {},
   "source": [
    "## 215. 数组中的第K个最大元素"
   ]
  },
  {
   "cell_type": "markdown",
   "id": "a2c1618b-bf03-4611-97c6-5bd20713c80e",
   "metadata": {},
   "source": [
    "### 快速选择"
   ]
  },
  {
   "cell_type": "code",
   "execution_count": 13,
   "id": "4b1c369f-aef4-4873-bc29-95ee1674869f",
   "metadata": {},
   "outputs": [],
   "source": [
    "import random\n",
    "from typing import List\n",
    "class Solution:\n",
    "    def findKthLargest(self, nums: List[int], k: int) -> int:\n",
    "        def partition(nums, l, r):\n",
    "            cur = random.randint(l, r)\n",
    "            x, i = nums[cur], l\n",
    "            nums[cur], nums[r] = nums[r], nums[cur]\n",
    "            for j in range(l, r):\n",
    "                if nums[j] <= x:\n",
    "                    nums[j], nums[i] = nums[i], nums[j]\n",
    "                    i += 1\n",
    "            nums[r], nums[i] = nums[i], nums[r]\n",
    "            return i\n",
    "        \n",
    "        def quick_select(nums, l, r, k):\n",
    "            idx = partition(nums, l, r)\n",
    "            if idx == k: return nums[idx]\n",
    "            return quick_select(nums, idx + 1, r, k) if idx < k else\\\n",
    "            quick_select(nums, l, idx - 1, k)\n",
    "        \n",
    "        return quick_select(nums, 0, len(nums) - 1, len(nums) - k)"
   ]
  },
  {
   "cell_type": "markdown",
   "id": "f042a4e5-4ace-44ef-b76c-d8bb45fb02cd",
   "metadata": {},
   "source": [
    "### 最小堆"
   ]
  },
  {
   "cell_type": "code",
   "execution_count": 16,
   "id": "8ed6a376-54d0-4867-97ff-c575b20a49c4",
   "metadata": {},
   "outputs": [],
   "source": [
    "import heapq\n",
    "class Solution:\n",
    "    def findKthLargest(self, nums: List[int], k: int) -> int:\n",
    "        heap = []\n",
    "        for n in nums:\n",
    "            if len(heap) == k: heapq.heappushpop(heap, n)\n",
    "            else: heapq.heappush(heap, n)\n",
    "        return heap[0]"
   ]
  },
  {
   "cell_type": "markdown",
   "id": "6bc16f12-777d-4cee-a266-c9ff49763ce6",
   "metadata": {},
   "source": [
    "## 25. K个一组反转链表"
   ]
  },
  {
   "cell_type": "markdown",
   "id": "58fccbe3-a72f-44d8-b351-7bbfdf920f67",
   "metadata": {},
   "source": [
    "重点在于细节的考虑"
   ]
  },
  {
   "cell_type": "code",
   "execution_count": 1,
   "id": "0f1710f7-68a4-48cb-ae62-a921a9d7364f",
   "metadata": {},
   "outputs": [],
   "source": [
    "# Definition for singly-linked list.\n",
    "class ListNode:\n",
    "    def __init__(self, val=0, next=None):\n",
    "        self.val = val\n",
    "        self.next = next"
   ]
  },
  {
   "cell_type": "code",
   "execution_count": 3,
   "id": "689a475b-5c04-4531-a9dc-a674d2589aa3",
   "metadata": {},
   "outputs": [],
   "source": [
    "class Solution:\n",
    "    def reverse(self, head: ListNode, tail: ListNode):\n",
    "        \"\"\"翻转一个子链表，并且返回新的头与尾\"\"\"\n",
    "        pre = tail.next\n",
    "        cur = head\n",
    "        while pre != tail:\n",
    "            nxt = cur.next\n",
    "            cur.next = pre\n",
    "            pre = cur\n",
    "            cur = nxt\n",
    "        return tail, head\n",
    "    \n",
    "    def reverseKGroup(self, head: ListNode, k: int) -> ListNode:\n",
    "        dumb = ListNode(0, head)\n",
    "        pre = dumb\n",
    "    \n",
    "        while head:\n",
    "            tail = pre\n",
    "            # 判断剩余部分长度是否大于等于 k\n",
    "            # 大于的话定位到 要翻转的最后一个节点，否则之间返回链表的头节点\n",
    "            for _ in range(k):\n",
    "                tail = tail.next\n",
    "                if not tail:\n",
    "                    return dumb.next\n",
    "            nxt = tail.next\n",
    "            head, tail = self.reverse(head, tail)\n",
    "            # 把子链表重新接回原链表\n",
    "            pre.next = head\n",
    "            tail.next = nxt\n",
    "            pre = tail\n",
    "            head = tail.next\n",
    "            \n",
    "        return dumb.next"
   ]
  },
  {
   "cell_type": "markdown",
   "id": "5d0e8993-2f72-4c9a-aada-c563df24e5af",
   "metadata": {},
   "source": [
    "## 15. 三数之和"
   ]
  },
  {
   "cell_type": "markdown",
   "id": "93e5de61-5acd-441e-b00d-6c582cf11eec",
   "metadata": {},
   "source": [
    "要点：在第二层遍历中使用双指针反向查询目标和"
   ]
  },
  {
   "cell_type": "code",
   "execution_count": 8,
   "id": "3911fa89-6fb4-44cf-acae-728a23f6031b",
   "metadata": {},
   "outputs": [],
   "source": [
    "from typing import List\n",
    "class Solution:\n",
    "    def threeSum(self, nums: List[int]) -> List[List[int]]:\n",
    "        nums.sort()\n",
    "        n, res = len(nums), []\n",
    "        for i in range(n):\n",
    "            if i > 0 and nums[i] == nums[i - 1]: continue\n",
    "            tgt = -nums[i]\n",
    "            k = n - 1  # 每次都重新枚举一遍 k\n",
    "            for j in range(i + 1, n):\n",
    "                if j > i + 1 and nums[j] == nums[j - 1]: continue\n",
    "                while j < k + 1 and nums[j] + nums[k] > tgt: k -= 1\n",
    "                if j == k: break  # 指针重合时特判，直接 break\n",
    "                if nums[j] + nums[k] == tgt:\n",
    "                    res.append([nums[i], nums[j], nums[k]])\n",
    "        return res"
   ]
  },
  {
   "cell_type": "markdown",
   "id": "34a1689a-ca85-45a8-a29e-2e0c4b1920a4",
   "metadata": {},
   "source": [
    "## 53. 最大子数组和"
   ]
  },
  {
   "cell_type": "markdown",
   "id": "6238f222-20d6-4c5c-b887-a24ead3b953a",
   "metadata": {},
   "source": [
    "### 动态规划"
   ]
  },
  {
   "cell_type": "markdown",
   "id": "831c44d4-a01b-4c68-88b0-dc6836fe10be",
   "metadata": {},
   "source": [
    "思路：考虑以 nums[i] 为结尾的最大子数组和，则 nums[i] 可以单独成段或与前面的数字一起，即：\n",
    "\n",
    "dp[i] = max(nums[i], dp[i - 1] + nums[i])， dp[-1] = -∞，遍历时维护最大值即可。"
   ]
  },
  {
   "cell_type": "code",
   "execution_count": 9,
   "id": "a77b3e04-365f-4bd1-b414-d863d8c7657c",
   "metadata": {},
   "outputs": [],
   "source": [
    "class Solution:\n",
    "    def maxSubArray(self, nums: List[int]) -> int:\n",
    "        ans = nums[0]\n",
    "        pre = -float(\"Inf\")\n",
    "        for n in nums:\n",
    "            pre = n if pre < 0 else pre + n\n",
    "            ans = max(ans, pre)\n",
    "        return ans"
   ]
  },
  {
   "cell_type": "markdown",
   "id": "305064de-adcd-4941-90e6-22a48728fa3f",
   "metadata": {},
   "source": [
    "## 912. 排序数组"
   ]
  },
  {
   "cell_type": "code",
   "execution_count": 48,
   "id": "39c949fa-2407-43a4-9bfd-afe19ec197ac",
   "metadata": {},
   "outputs": [],
   "source": [
    "from random import randint\n",
    "from typing import List\n",
    "class Solution:\n",
    "    def sortArray(self, nums: List[int]) -> List[int]:\n",
    "        def quick_sort(l, r):\n",
    "            if l < r:\n",
    "                x, cur = randint(l, r), l\n",
    "                nums[x], nums[r] = nums[r], nums[x]\n",
    "                for i in range(l, r):\n",
    "                    if nums[i] < nums[r]:\n",
    "                        nums[cur], nums[i] = nums[i], nums[cur]\n",
    "                        cur += 1\n",
    "                nums[cur], nums[r] = nums[r], nums[cur]\n",
    "                quick_sort(l, cur - 1)\n",
    "                quick_sort(cur + 1, r)\n",
    "        quick_sort(0, len(nums) - 1)\n",
    "        return nums"
   ]
  },
  {
   "cell_type": "code",
   "execution_count": 27,
   "id": "75452450-2f8a-4fde-a82d-7e0becba91e5",
   "metadata": {},
   "outputs": [],
   "source": [
    "nums = [5,1,1,2,0,0]"
   ]
  },
  {
   "cell_type": "code",
   "execution_count": 28,
   "id": "72e68ecf-11e7-4ed1-96bf-f6c2a4747424",
   "metadata": {},
   "outputs": [
    {
     "data": {
      "text/plain": [
       "[0, 0, 1, 1, 2, 5]"
      ]
     },
     "execution_count": 28,
     "metadata": {},
     "output_type": "execute_result"
    }
   ],
   "source": [
    "s = Solution()\n",
    "s.sortArray(nums)"
   ]
  },
  {
   "cell_type": "markdown",
   "id": "979d18a8-f685-4d77-8f37-a75b2d3c9c95",
   "metadata": {},
   "source": [
    "原始的快排过不了最后一个重复数字很多的例子，需用到三路快排"
   ]
  },
  {
   "cell_type": "markdown",
   "id": "7519e66b-226c-4103-be12-34ff4dc4926f",
   "metadata": {},
   "source": [
    "### 三路快排"
   ]
  },
  {
   "cell_type": "markdown",
   "id": "655afee7-e8f5-4755-b1d9-416cc0445a61",
   "metadata": {},
   "source": [
    "将排序的数据分为三部分，小于 x 等于 x 和大于 x，这样只需对前后两部分进行排序即可，用于解决重复数字较多的情况。"
   ]
  },
  {
   "cell_type": "code",
   "execution_count": 26,
   "id": "44c4d563-6f4c-4377-b963-6851335256fd",
   "metadata": {},
   "outputs": [],
   "source": [
    "from random import randint\n",
    "from typing import List\n",
    "class Solution:\n",
    "    def sortArray(self, nums: List[int]) -> List[int]:\n",
    "        def quick_sort(arr, l, r):\n",
    "            if l >= r:\n",
    "                return\n",
    "            random_index = random.randint(l, r)\n",
    "            pivot = arr[random_index]\n",
    "            arr[l], arr[random_index] = arr[random_index], arr[l]\n",
    "            i = l + 1\n",
    "            j = l \n",
    "            k = r + 1\n",
    "            while i < k:\n",
    "                if arr[i] < pivot:\n",
    "                    arr[i], arr[j + 1] = arr[j + 1], arr[i]\n",
    "                    j += 1\n",
    "                    i += 1\n",
    "                elif arr[i] > pivot:\n",
    "                    arr[i], arr[k - 1] = arr[k - 1], arr[i]\n",
    "                    k -= 1\n",
    "                else: \n",
    "                    i += 1\n",
    "            arr[l], arr[j] = arr[j], arr[l]\n",
    "            quick_sort(arr, l, j - 1)\n",
    "            quick_sort(arr, k, r)\n",
    "                \n",
    "        quick_sort(nums, 0, len(nums) - 1)\n",
    "        return nums"
   ]
  },
  {
   "cell_type": "code",
   "execution_count": 7,
   "id": "6faecdab-51ab-4b74-91bf-027933cd45b8",
   "metadata": {},
   "outputs": [],
   "source": [
    "import random\n",
    "def quick_sort(arr, l, r):\n",
    "    if l >= r:\n",
    "        return\n",
    "    random_index = random.randint(l, r)\n",
    "    pivot = arr[random_index]\n",
    "    arr[l], arr[random_index] = arr[random_index], arr[l]\n",
    "    i = l + 1\n",
    "    j = l \n",
    "    k = r + 1\n",
    "    while i < k:\n",
    "        if arr[i] < pivot:\n",
    "            arr[i], arr[j + 1] = arr[j + 1], arr[i]\n",
    "            j += 1\n",
    "            i += 1\n",
    "        elif arr[i] > pivot:\n",
    "            arr[i], arr[k - 1] = arr[k - 1], arr[i]\n",
    "            k -= 1\n",
    "        else: \n",
    "            i += 1\n",
    "    arr[l], arr[j] = arr[j], arr[l]\n",
    "    quick_sort(arr, l, j - 1)\n",
    "    quick_sort(arr, k, r)"
   ]
  },
  {
   "cell_type": "code",
   "execution_count": 19,
   "id": "0ccedc4e-2715-46ad-abb7-a331dc5bb88a",
   "metadata": {},
   "outputs": [
    {
     "data": {
      "text/plain": [
       "[0, 1, 2, 3, 4, 5]"
      ]
     },
     "execution_count": 19,
     "metadata": {},
     "output_type": "execute_result"
    }
   ],
   "source": [
    "arr = [5,4,3,2,1,0]\n",
    "quick_sort(arr, 0, 5)\n",
    "arr"
   ]
  },
  {
   "cell_type": "markdown",
   "id": "72a308e2-1ade-4cf8-b024-ff36e12a64e9",
   "metadata": {},
   "source": [
    "## 21. 合并两个有序链表"
   ]
  },
  {
   "cell_type": "code",
   "execution_count": 1,
   "id": "5fd9f8f5-2c72-4177-8bff-37621fba2a07",
   "metadata": {},
   "outputs": [],
   "source": [
    "# Definition for singly-linked list.\n",
    "class ListNode:\n",
    "    def __init__(self, val=0, next=None):\n",
    "        self.val = val\n",
    "        self.next = next"
   ]
  },
  {
   "cell_type": "markdown",
   "id": "c7496684-dc8a-49fb-ba5c-39e2e37a1557",
   "metadata": {},
   "source": [
    "### 迭代"
   ]
  },
  {
   "cell_type": "code",
   "execution_count": 3,
   "id": "258b7e19-8446-4f2b-86a1-3d6b41b5a0d1",
   "metadata": {},
   "outputs": [],
   "source": [
    "from typing import Optional\n",
    "class Solution:\n",
    "    def mergeTwoLists(self, list1: Optional[ListNode], list2: Optional[ListNode]) -> Optional[ListNode]:\n",
    "        dumb = ListNode()\n",
    "        cur = dumb\n",
    "        while list1 and list2:\n",
    "            if list1.val <= list2.val:\n",
    "                cur.next = list1\n",
    "                list1 = list1.next\n",
    "            else:\n",
    "                cur.next = list2\n",
    "                list2 = list2.next\n",
    "            cur = cur.next\n",
    "        if list1: cur.next = list1\n",
    "        if list2: cur.next = list2\n",
    "        return dumb.next"
   ]
  },
  {
   "cell_type": "markdown",
   "id": "b20adbf6-3fdb-4b59-9a77-2379f9859434",
   "metadata": {},
   "source": [
    "### 递归"
   ]
  },
  {
   "cell_type": "code",
   "execution_count": 6,
   "id": "2bab3871-0328-4276-98c0-bef8aa0e35e9",
   "metadata": {},
   "outputs": [],
   "source": [
    "from typing import Optional\n",
    "class Solution:\n",
    "    def mergeTwoLists(self, list1: Optional[ListNode], list2: Optional[ListNode]) -> Optional[ListNode]:\n",
    "        if not list1: return list2\n",
    "        if not list2: return list1\n",
    "        if list1.val <= list2.val:\n",
    "            list1.next = self.mergeTwoLists(list1.next, list2)\n",
    "        else: list2.next = self.mergeTwoLists(list1, list2.next)\n",
    "        return list1 if list1.val <= list2.val else list2"
   ]
  },
  {
   "cell_type": "markdown",
   "id": "2b13df77-c473-4c44-9cf9-288465753b3c",
   "metadata": {},
   "source": [
    "## 20. 有效的括号"
   ]
  },
  {
   "cell_type": "code",
   "execution_count": 10,
   "id": "c7a48b03-ef3b-4b48-83cf-b3f3073b3ffb",
   "metadata": {},
   "outputs": [],
   "source": [
    "class Solution:\n",
    "    def isValid(self, s: str) -> bool:\n",
    "        tab = {\")\": \"(\", \"]\": \"[\", \"}\": \"{\"}\n",
    "        stk = []\n",
    "        for c in s:\n",
    "            if c in tab:\n",
    "                if not stk or tab[c] != stk.pop(): \n",
    "                    return False\n",
    "            else: stk.append(c)\n",
    "        return not stk"
   ]
  },
  {
   "cell_type": "markdown",
   "id": "6a09709a-cb3c-4c74-9926-5529e37dd445",
   "metadata": {},
   "source": [
    "## 121. 买卖股票的最佳时机"
   ]
  },
  {
   "cell_type": "code",
   "execution_count": 12,
   "id": "84585b26-c516-4e73-8320-d25da493c8a7",
   "metadata": {},
   "outputs": [],
   "source": [
    "from typing import List\n",
    "class Solution:\n",
    "    def maxProfit(self, prices: List[int]) -> int:\n",
    "        min_ = float(\"inf\")\n",
    "        ans = 0\n",
    "        for n in prices:\n",
    "            min_ = min(min_, n)\n",
    "            ans = max(ans, n - min_)\n",
    "        return ans"
   ]
  },
  {
   "cell_type": "markdown",
   "id": "5e3f6ede-0923-495a-9de3-3cdb5d710b66",
   "metadata": {},
   "source": [
    "## 141. 环形链表"
   ]
  },
  {
   "cell_type": "code",
   "execution_count": 13,
   "id": "de3a227e-4ae8-46dc-bc1f-ae3d24c6235e",
   "metadata": {},
   "outputs": [],
   "source": [
    "# Definition for singly-linked list.\n",
    "class ListNode:\n",
    "    def __init__(self, x):\n",
    "        self.val = x\n",
    "        self.next = None"
   ]
  },
  {
   "cell_type": "code",
   "execution_count": 16,
   "id": "10678269-fae3-4c1c-8ea9-6a3238d40f8d",
   "metadata": {},
   "outputs": [],
   "source": [
    "class Solution:\n",
    "    def hasCycle(self, head: Optional[ListNode]) -> bool:\n",
    "        slow = fast = head\n",
    "        while fast and fast.next and fast.next.next:\n",
    "            slow = slow.next\n",
    "            fast = fast.next.next\n",
    "            if slow == fast:\n",
    "                return True\n",
    "        return False"
   ]
  },
  {
   "cell_type": "markdown",
   "id": "597f69a4-3cf5-470c-888c-2d5a035fa29f",
   "metadata": {},
   "source": [
    "## 5. 最长回文串"
   ]
  },
  {
   "cell_type": "code",
   "execution_count": 18,
   "id": "4588bacd-efa2-4f37-b306-513d4df2de4d",
   "metadata": {},
   "outputs": [],
   "source": [
    "class Solution:\n",
    "    def longestPalindrome(self, s: str) -> str:\n",
    "        def expand(l, r):\n",
    "            while l >= 0 and r < n and s[l] == s[r]:\n",
    "                l -= 1\n",
    "                r += 1\n",
    "            return l + 1, r  # 返回的值刚好可以作为索引\n",
    "        \n",
    "        n = len(s)\n",
    "        left = right = 0\n",
    "        for i in range(n):\n",
    "            l1, r1 = expand(i, i + 1)\n",
    "            l2, r2 = expand(i, i)\n",
    "            if r1 - l1 > right - left: left, right = l1, r1\n",
    "            if r2 - l2 > right - left: left, right = l2, r2\n",
    "            \n",
    "        return s[left: right]"
   ]
  },
  {
   "cell_type": "markdown",
   "id": "1cb0eba4-8c16-495b-9988-3636cb280037",
   "metadata": {},
   "source": [
    "## 236. 二叉树的最近公共祖先"
   ]
  },
  {
   "cell_type": "code",
   "execution_count": 19,
   "id": "ac90782b-054f-49cc-87db-f216ad40a862",
   "metadata": {},
   "outputs": [],
   "source": [
    "# Definition for a binary tree node.\n",
    "class TreeNode:\n",
    "    def __init__(self, x):\n",
    "        self.val = x\n",
    "        self.left = None\n",
    "        self.right = None"
   ]
  },
  {
   "cell_type": "code",
   "execution_count": 29,
   "id": "9ccf7d94-960c-4b5b-8d08-0ed6ca7c0781",
   "metadata": {},
   "outputs": [],
   "source": [
    "class Solution:\n",
    "    def lowestCommonAncestor(self, root: 'TreeNode', p: 'TreeNode', q: 'TreeNode') -> 'TreeNode':\n",
    "        def dfs(node, path):\n",
    "            if node == p or node == q:\n",
    "                res.append(path)\n",
    "            if node.left:\n",
    "                dfs(node.left, path + [node.left])\n",
    "            if node.right:\n",
    "                dfs(node.right, path + [node.right])\n",
    "        res = []\n",
    "        dfs(root, [root])\n",
    "        res.sort(key = lambda x: len(x))\n",
    "        # print(res)\n",
    "        for node in res[1]:\n",
    "            if node in res[0]:\n",
    "                ans = node\n",
    "        return ans"
   ]
  },
  {
   "cell_type": "markdown",
   "id": "0282f652-c701-4c33-811a-e150ec98bbb0",
   "metadata": {},
   "source": [
    "### 存储父节点"
   ]
  },
  {
   "cell_type": "code",
   "execution_count": 38,
   "id": "f3e3a5ad-75c3-4cf8-9e7e-211880853d65",
   "metadata": {},
   "outputs": [],
   "source": [
    "class Solution:\n",
    "    def lowestCommonAncestor(self, root: 'TreeNode', p: 'TreeNode', q: 'TreeNode') -> 'TreeNode':\n",
    "        def dfs(node, fa):\n",
    "            cnt[node] = fa\n",
    "            if node.left:\n",
    "                dfs(node.left, node)\n",
    "            if node.right:\n",
    "                dfs(node.right, node)\n",
    "        \n",
    "        cnt = {}\n",
    "        dfs(root, None)\n",
    "        vis = set()\n",
    "        cur = p\n",
    "        while cur:\n",
    "            vis.add(cur)\n",
    "            cur = cnt[cur]\n",
    "        cur = q\n",
    "        while cur:\n",
    "            if cur in vis: return cur\n",
    "            cur = cnt[cur]\n",
    "        return "
   ]
  },
  {
   "cell_type": "markdown",
   "id": "dc84d327-d0f4-4c77-8883-b9dd4f2843d8",
   "metadata": {},
   "source": [
    "### 巧妙的递归"
   ]
  },
  {
   "cell_type": "markdown",
   "id": "ca09965d-b6b5-46d7-9ab4-ce952447e3cd",
   "metadata": {},
   "source": [
    "> 我们递归遍历整棵二叉树，定义 $f_x$ 表示 $x$ 节点的子树中是否包含 $p$ 节点或 $q$ 节点，如果包含为 $true$，否则为 $false$。那么符合条件的最近公共祖先 $x$ 一定满足如下条件：\n",
    "$$(f_{lson}\\ \\&\\&\\ f_{rson})\\ ||\\ (x = p || x = q)\\ \\&\\&\\ (f_{lson}\\ ||\\ f_{rson})$$"
   ]
  },
  {
   "cell_type": "code",
   "execution_count": 40,
   "id": "2f703812-c524-400c-a506-a185d623348a",
   "metadata": {},
   "outputs": [],
   "source": [
    "class Solution:\n",
    "    def lowestCommonAncestor(self, root: 'TreeNode', p: 'TreeNode', q: 'TreeNode') -> 'TreeNode':\n",
    "        def dfs(x, p, q):\n",
    "            nonlocal ans\n",
    "            if not x: return False\n",
    "            lson = dfs(x.left, p, q)\n",
    "            rson = dfs(x.right, p, q)\n",
    "            # 满足LCA节点的条件\n",
    "            if (lson and rson) or (x.val == p.val or x.val == q.val) and (lson or rson):\n",
    "                ans = x\n",
    "            # 每个节点应当返回的值\n",
    "            return lson or rson or x.val == p.val or x.val == q.val\n",
    "        ans = None\n",
    "        dfs(root, p, q)\n",
    "        return ans"
   ]
  },
  {
   "cell_type": "code",
   "execution_count": null,
   "id": "a565ed73-a6aa-43e2-bd59-fe49d310937e",
   "metadata": {},
   "outputs": [],
   "source": []
  },
  {
   "cell_type": "code",
   "execution_count": null,
   "id": "e084e83a-7cbe-4855-bc28-b5e3be7fd3d1",
   "metadata": {},
   "outputs": [],
   "source": []
  },
  {
   "cell_type": "code",
   "execution_count": null,
   "id": "ad7adc96-ac37-4e62-afa3-5da21e2f98b8",
   "metadata": {},
   "outputs": [],
   "source": []
  },
  {
   "cell_type": "code",
   "execution_count": null,
   "id": "dce3e123-1e0b-4c74-95fe-213eeb208ad8",
   "metadata": {},
   "outputs": [],
   "source": []
  },
  {
   "cell_type": "code",
   "execution_count": null,
   "id": "90a6e895-69e0-4b28-8a0c-b33e25a24346",
   "metadata": {},
   "outputs": [],
   "source": []
  },
  {
   "cell_type": "code",
   "execution_count": null,
   "id": "1eb4ca90-140b-448b-892e-463836c04675",
   "metadata": {},
   "outputs": [],
   "source": []
  },
  {
   "cell_type": "code",
   "execution_count": null,
   "id": "faa8843c-e5ea-4350-acb2-81f9518368ac",
   "metadata": {},
   "outputs": [],
   "source": []
  },
  {
   "cell_type": "code",
   "execution_count": null,
   "id": "25e96039-0230-47c2-9ad8-37f860f409a3",
   "metadata": {},
   "outputs": [],
   "source": []
  },
  {
   "cell_type": "code",
   "execution_count": null,
   "id": "57610255-52a0-4661-929e-83e6c4a4aae5",
   "metadata": {},
   "outputs": [],
   "source": []
  },
  {
   "cell_type": "code",
   "execution_count": null,
   "id": "7f4ba9ec-4f0a-476e-a557-6e38480cc92e",
   "metadata": {},
   "outputs": [],
   "source": []
  },
  {
   "cell_type": "code",
   "execution_count": null,
   "id": "1c3c88ae-a114-4e94-a8a8-a15877a47e9f",
   "metadata": {},
   "outputs": [],
   "source": []
  },
  {
   "cell_type": "code",
   "execution_count": null,
   "id": "f311e73a-4b25-4a84-8a21-73cd859cb4bf",
   "metadata": {},
   "outputs": [],
   "source": []
  }
 ],
 "metadata": {
  "kernelspec": {
   "display_name": "Python 3 (ipykernel)",
   "language": "python",
   "name": "python3"
  },
  "language_info": {
   "codemirror_mode": {
    "name": "ipython",
    "version": 3
   },
   "file_extension": ".py",
   "mimetype": "text/x-python",
   "name": "python",
   "nbconvert_exporter": "python",
   "pygments_lexer": "ipython3",
   "version": "3.6.3"
  }
 },
 "nbformat": 4,
 "nbformat_minor": 5
}
