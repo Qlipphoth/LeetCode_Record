{
 "cells": [
  {
   "cell_type": "markdown",
   "id": "a2bc3d1e-d9cb-4449-a7f6-399c3845799f",
   "metadata": {},
   "source": [
    "## 2331. 计算布尔二叉树的值 (2.6)"
   ]
  },
  {
   "cell_type": "code",
   "execution_count": 1,
   "id": "cf84cfff-2aee-4a27-bfbf-bd146b008449",
   "metadata": {},
   "outputs": [],
   "source": [
    "# Definition for a binary tree node.\n",
    "class TreeNode:\n",
    "    def __init__(self, val=0, left=None, right=None):\n",
    "        self.val = val\n",
    "        self.left = left\n",
    "        self.right = right"
   ]
  },
  {
   "cell_type": "code",
   "execution_count": 8,
   "id": "f8527398-0f83-4f14-93ff-1707d856bed3",
   "metadata": {},
   "outputs": [],
   "source": [
    "from typing import Optional\n",
    "class Solution:\n",
    "    def evaluateTree(self, root: Optional[TreeNode]) -> bool:\n",
    "        if not root.left and not root.right:\n",
    "            return bool(root.val)\n",
    "        left = self.evaluateTree(root.left)\n",
    "        right = self.evaluateTree(root.right)\n",
    "        return bool(left or right) if root.val == 2 else bool(left and right)"
   ]
  },
  {
   "cell_type": "markdown",
   "id": "9d1b84d3-19ab-4e76-8fb5-c1730488f134",
   "metadata": {},
   "source": [
    "## 1798. 你能构造出连续值的最大数目"
   ]
  },
  {
   "cell_type": "markdown",
   "id": "21b177fd-85a4-49f7-a48a-7a8723a1558b",
   "metadata": {},
   "source": [
    "有序是一个强大的性质，如果对数组排序不影响答案的话，可以尝试将数组排序后，再重新思考，看看能否发现新的思路。"
   ]
  },
  {
   "cell_type": "markdown",
   "id": "15e9bce3-da32-4c4a-9c6a-f5079fd2200e",
   "metadata": {},
   "source": [
    "> 首先我们用\\[l, r\\]，0≤l,r表示一段连续的从 l 到 r 的连续整数区间，不妨设我们现在能构造出\\[0,x\\]区间的整数，现在我们新增一个整数y，那么我们可以构造出的区间为\\[0, x\\]和\\[y,x ＋ y\\], 那么如果y ≤ x + 1，则加入整数 y 后我们能构造出\\[0, x＋y\\]区间的整数，否则我们还是只能构造出\\[0,x\\]区间的数字。因此我们每次从数组中找到未选择数字中的最小值来作为y，因为如果此时的最小值y都不能更新区间\\[0,x\\]，那么剩下的其他元素都不能更新区间\\[0,x\\]。那么我们初始从 x = 0 开始，按照升序来遍历数组nums的元素来作为 y，如果 y ≤ x + 1 那么我们扩充区间为\\[0, x ＋ y\\]，否则我们无论选任何未选的数字都不能使答案区间变大，此时直接退出即可。"
   ]
  },
  {
   "cell_type": "code",
   "execution_count": 19,
   "id": "58240c8c-93e7-4f4e-a8ce-ad3c0a8badf1",
   "metadata": {},
   "outputs": [],
   "source": [
    "from typing import List\n",
    "class Solution:\n",
    "    def getMaximumConsecutive(self, coins: List[int]) -> int:\n",
    "        m = 0\n",
    "        coins.sort()\n",
    "        for n in coins:\n",
    "            if n > m + 1: break\n",
    "            m += n\n",
    "        return m + 1"
   ]
  },
  {
   "cell_type": "code",
   "execution_count": 20,
   "id": "6c5dcd65-9299-4b2c-b6de-73c187ef2a66",
   "metadata": {},
   "outputs": [],
   "source": [
    "coins = [1,1,1,4]"
   ]
  },
  {
   "cell_type": "code",
   "execution_count": 21,
   "id": "469f28c8-a60c-41d3-b21f-1c2c5a83afd6",
   "metadata": {},
   "outputs": [
    {
     "data": {
      "text/plain": [
       "8"
      ]
     },
     "execution_count": 21,
     "metadata": {},
     "output_type": "execute_result"
    }
   ],
   "source": [
    "s = Solution()\n",
    "s.getMaximumConsecutive(coins)"
   ]
  },
  {
   "cell_type": "markdown",
   "id": "f66bf377-d90f-4d59-a2bd-4215c741e0fe",
   "metadata": {},
   "source": [
    "## 1145. 二叉树着色游戏"
   ]
  },
  {
   "cell_type": "code",
   "execution_count": 22,
   "id": "fcf802e2-0d00-4d7e-8a3c-070a3af97311",
   "metadata": {},
   "outputs": [],
   "source": [
    "# Definition for a binary tree node.\n",
    "class TreeNode:\n",
    "    def __init__(self, val=0, left=None, right=None):\n",
    "        self.val = val\n",
    "        self.left = left\n",
    "        self.right = right"
   ]
  },
  {
   "cell_type": "code",
   "execution_count": 44,
   "id": "1bf1b633-acc8-4315-aebf-a27d3ae3213d",
   "metadata": {},
   "outputs": [],
   "source": [
    "from collections import defaultdict\n",
    "class Solution:\n",
    "    def btreeGameWinningMove(self, root: Optional[TreeNode], n: int, x: int) -> bool:\n",
    "        cnt = defaultdict(int)\n",
    "        def dfs(node):\n",
    "            num = 1\n",
    "            if node.val in cnt: return cnt[node.val]\n",
    "            if node.left: num += dfs(node.left)\n",
    "            if node.right: num += dfs(node.right)\n",
    "            if node.val == x: num = 0\n",
    "            cnt[node.val] = num\n",
    "            return num\n",
    "        dfs(root)\n",
    "        return True if any(cnt[key] > n // 2 for key in cnt) else False"
   ]
  },
  {
   "cell_type": "markdown",
   "id": "0ad95239-55bb-4cda-8adf-2cae4c5a029d",
   "metadata": {},
   "source": [
    "## 1604. 警告一小时内使用相同员工卡大于等于三次的人 (2.7)"
   ]
  },
  {
   "cell_type": "code",
   "execution_count": 22,
   "id": "eb2108f9-d0f2-4f38-90fb-b060860b201c",
   "metadata": {},
   "outputs": [],
   "source": [
    "from collections import defaultdict\n",
    "from typing import List\n",
    "class Solution:\n",
    "    def alertNames(self, keyName: List[str], keyTime: List[str]) -> List[str]:\n",
    "        cnt = defaultdict(list)\n",
    "        ans = []\n",
    "        for name, time in zip(*(keyName, keyTime)):\n",
    "            h, m = time.split(\":\")\n",
    "            cnt[name].append(int(h) * 60 + int(m))\n",
    "        for name in cnt:\n",
    "            cnt[name].sort()\n",
    "            for i in range(2, len(cnt[name])):\n",
    "                if cnt[name][i] - cnt[name][i - 2] <= 60:\n",
    "                    ans.append(name)\n",
    "                    break\n",
    "        return sorted(ans)"
   ]
  },
  {
   "cell_type": "code",
   "execution_count": 23,
   "id": "8a8f2362-47ec-4d55-a80a-67092a2b6ae4",
   "metadata": {},
   "outputs": [],
   "source": [
    "keyName = [\"leslie\",\"leslie\",\"leslie\",\"clare\",\"clare\",\"clare\",\"clare\"]\n",
    "keyTime = [\"13:00\",\"13:20\",\"14:00\",\"18:00\",\"18:51\",\"19:30\",\"19:49\"]"
   ]
  },
  {
   "cell_type": "code",
   "execution_count": 24,
   "id": "0780b9a5-a4fa-44c5-98a2-9badc92486aa",
   "metadata": {},
   "outputs": [
    {
     "data": {
      "text/plain": [
       "['clare', 'leslie']"
      ]
     },
     "execution_count": 24,
     "metadata": {},
     "output_type": "execute_result"
    }
   ],
   "source": [
    "s = Solution()\n",
    "s.alertNames(keyName, keyTime)"
   ]
  },
  {
   "cell_type": "markdown",
   "id": "ee9d1209-9f4f-458e-9fd2-5d389a79d7cb",
   "metadata": {},
   "source": [
    "## 1210. 穿过迷宫的最少移动次数"
   ]
  },
  {
   "cell_type": "code",
   "execution_count": 59,
   "id": "fcbe2164-b1d9-475d-bbfb-a9c065a9372d",
   "metadata": {},
   "outputs": [],
   "source": [
    "from collections import deque\n",
    "class Solution:\n",
    "    def minimumMoves(self, grid: List[List[int]]) -> int:\n",
    "        def isvalid(tail, s):\n",
    "            r, c = tail\n",
    "            # 蛇只有 - 与 | 两种状态, 且始终朝下或朝右, 根据尾巴坐标与蛇的状态可唯一确定蛇的位置\n",
    "            head = (r, c + 1) if s == 0 else (r + 1, c)\n",
    "            # 蛇始终向右下方移动, 因此只需判断是否越过右边界与下边界, 此外需判断移动后头的位置是否有障碍\n",
    "            if any(x >= n for x in head) or grid[head[0]][head[1]] == 1 or grid[r][c] == 1:\n",
    "                return False\n",
    "            return True\n",
    "        \n",
    "        n = len(grid)\n",
    "        memo = set()\n",
    "        d = [(0, 1), (1, 0)]\n",
    "        nxt = deque([(0, 0, 0, 0)])\n",
    "        while nxt:\n",
    "            r, c, s, step = nxt.popleft()\n",
    "            # print(r, c, s, step)\n",
    "            if (r, c, s) == (n - 1, n - 2, 0): return step\n",
    "            if (r, c, s) in memo: continue\n",
    "            if isvalid((r, c + 1), s):\n",
    "                nxt.append((r, c + 1, s, step + 1))\n",
    "            if isvalid((r + 1, c), s):\n",
    "                nxt.append((r + 1, c, s, step + 1))\n",
    "            # 两种旋转的变换判断融合为一种, 看不懂的把分别的判断写出来就能看懂了\n",
    "            tail = [r, c]\n",
    "            tail[s] += 1\n",
    "            if all(x < n for x in [tail[0], tail[1], r + 1, c + 1]):\n",
    "                if grid[tail[0]][tail[1]] == grid[r + 1][c + 1] == 0:\n",
    "                    nxt.append((r, c, 1 - s, step + 1))\n",
    "                    memo.add((r, c, s))\n",
    "        return -1"
   ]
  },
  {
   "cell_type": "code",
   "execution_count": 60,
   "id": "8a348ce3-baca-4cd4-8c3e-3ef5ffa6a27d",
   "metadata": {},
   "outputs": [],
   "source": [
    "grid = [[0,0,1,1,1,1], [0,0,0,0,1,1], [1,1,0,0,0,1], [1,1,1,0,0,1], [1,1,1,0,0,1], [1,1,1,0,0,0]]"
   ]
  },
  {
   "cell_type": "code",
   "execution_count": 61,
   "id": "08df04fc-1aba-4bfd-b60b-d560a156dd5b",
   "metadata": {},
   "outputs": [
    {
     "data": {
      "text/plain": [
       "9"
      ]
     },
     "execution_count": 61,
     "metadata": {},
     "output_type": "execute_result"
    }
   ],
   "source": [
    "s = Solution()\n",
    "s.minimumMoves(grid)"
   ]
  },
  {
   "cell_type": "markdown",
   "id": "d5cee102-c071-4743-9af7-2a26c96af759",
   "metadata": {},
   "source": [
    "## 1129. 颜色交替的最短路径"
   ]
  },
  {
   "cell_type": "markdown",
   "id": "0c53d5d5-3fdd-4f0a-843e-83fb17f13907",
   "metadata": {},
   "source": [
    "颜色交替状态下的重复访问指的是以同一种颜色访问同一节点。"
   ]
  },
  {
   "cell_type": "code",
   "execution_count": 26,
   "id": "8b60ce1c-ebc5-486f-8b5b-37d0706be510",
   "metadata": {},
   "outputs": [],
   "source": [
    "from collections import defaultdict, deque\n",
    "from typing import List\n",
    "class Solution:\n",
    "    def shortestAlternatingPaths(self, n: int, redEdges: List[List[int]], \n",
    "                                 blueEdges: List[List[int]]) -> List[int]:\n",
    "        g = defaultdict(list)\n",
    "        for a, b in redEdges:\n",
    "            g[a].append((b, 0))\n",
    "        for a, b in blueEdges:\n",
    "            g[a].append((b, 1))\n",
    "        \n",
    "        vis = {(0, 0), (0, 1)}\n",
    "        stk = deque(g[0])\n",
    "        res = [float(\"inf\")] * n\n",
    "        res[0] = 0\n",
    "        step = 0\n",
    "        while stk:\n",
    "            step += 1\n",
    "            for i in range(len(stk)):\n",
    "                nxt, c = stk.popleft()\n",
    "                if (nxt, c) in vis: continue\n",
    "                res[nxt] = min(res[nxt], step)\n",
    "                vis.add((nxt, c))\n",
    "                for nnxt, cc in g[nxt]:\n",
    "                    if cc != c:\n",
    "                        stk.append((nnxt, cc))\n",
    "        for i, n in enumerate(res):\n",
    "            if n == float(\"inf\"):\n",
    "                res[i] = -1\n",
    "        return res"
   ]
  },
  {
   "cell_type": "code",
   "execution_count": 27,
   "id": "39109f79-fc76-4c11-aa9b-5be38b28ee5b",
   "metadata": {},
   "outputs": [],
   "source": [
    "n = 5\n",
    "red_edges = [[0,1],[1,2],[2,3],[3,4]]\n",
    "blue_edges = [[1,2],[2,3],[3,1]]"
   ]
  },
  {
   "cell_type": "code",
   "execution_count": 28,
   "id": "b944e6b1-c127-4569-9de4-adafc660ed89",
   "metadata": {},
   "outputs": [
    {
     "data": {
      "text/plain": [
       "[0, 1, 2, 3, 7]"
      ]
     },
     "execution_count": 28,
     "metadata": {},
     "output_type": "execute_result"
    }
   ],
   "source": [
    "s = Solution()\n",
    "s.shortestAlternatingPaths(n, red_edges, blue_edges)"
   ]
  },
  {
   "cell_type": "markdown",
   "id": "577477c3-bc59-4ba1-ba27-8729daf097da",
   "metadata": {},
   "source": [
    "## 1233. 删除子文件夹 (2.8)"
   ]
  },
  {
   "cell_type": "markdown",
   "id": "3d8eef61-46ba-41fd-825c-bc06b3ddb977",
   "metadata": {},
   "source": [
    "### 方法一：排序"
   ]
  },
  {
   "cell_type": "code",
   "execution_count": 53,
   "id": "b32ccff9-60f5-4f81-9383-61c157b29f7a",
   "metadata": {},
   "outputs": [],
   "source": [
    "class Solution:\n",
    "    def removeSubfolders(self, folder: List[str]) -> List[str]:\n",
    "        folder.sort()\n",
    "        left, right = 0, 1\n",
    "        flag = [1] * len(folder)\n",
    "        while right < len(folder):\n",
    "            l, r = len(folder[left]), len(folder[right])\n",
    "            if l < r and folder[right][:l] == folder[left] and folder[right][l] == \"/\":\n",
    "                flag[right] = 0\n",
    "            else:\n",
    "                i = 1\n",
    "                while flag[left + i] == 0:\n",
    "                    i += 1\n",
    "                left += i\n",
    "            right += 1\n",
    "        res = []\n",
    "        for i in range(len(folder)):\n",
    "            if flag[i]: res.append(folder[i])\n",
    "        return res"
   ]
  },
  {
   "cell_type": "markdown",
   "id": "a464e95c-2fd0-4eb1-9f94-870e89e83420",
   "metadata": {},
   "source": [
    "### 方法二: 字典树"
   ]
  },
  {
   "cell_type": "code",
   "execution_count": 91,
   "id": "23247074-8141-4874-a086-d67f465112d7",
   "metadata": {},
   "outputs": [],
   "source": [
    "class Trie:\n",
    "    def __init__(self):\n",
    "        self.children = dict()\n",
    "        self.ref = -1\n",
    "\n",
    "class Solution:\n",
    "    def removeSubfolders(self, folder: List[str]) -> List[str]:\n",
    "        root = Trie()\n",
    "        for i, path in enumerate(folder):\n",
    "            path = path.split(\"/\")\n",
    "            cur = root\n",
    "            for name in path:\n",
    "                if name not in cur.children:\n",
    "                    cur.children[name] = Trie()\n",
    "                cur = cur.children[name]\n",
    "            cur.ref = i\n",
    "        \n",
    "        ans = list()\n",
    "\n",
    "        def dfs(cur: Trie):\n",
    "            if cur.ref != -1:\n",
    "                ans.append(folder[cur.ref])\n",
    "                return\n",
    "            for child in cur.children.values():\n",
    "                dfs(child)\n",
    "\n",
    "        dfs(root)\n",
    "        return ans"
   ]
  },
  {
   "cell_type": "code",
   "execution_count": 97,
   "id": "fcda6634-27a7-4c4c-af4e-8877b1611f22",
   "metadata": {},
   "outputs": [],
   "source": [
    "class Tree:\n",
    "    def __init__(self):\n",
    "        self.kids = {}\n",
    "        self.end = -1\n",
    "    \n",
    "class Solution:\n",
    "    def removeSubfolders(self, folder: List[str]) -> List[str]:\n",
    "        root = Tree()\n",
    "        for i, path in enumerate(folder):\n",
    "            path = path.split(\"/\")[1:]\n",
    "            cur = root\n",
    "            for p in path:\n",
    "                if p not in cur.kids:\n",
    "                    cur.kids[p] = Tree()\n",
    "                cur = cur.kids[p]\n",
    "            cur.end = i  # 已存在的文件, 否则为 -1 代表仅为中间目录\n",
    "        \n",
    "        res = []\n",
    "        def dfs(node):\n",
    "            if node.end != -1:\n",
    "                res.append(folder[node.end])\n",
    "                return  # 发现已经存在的目录直接返回, 其下的都是子目录\n",
    "            for k in node.kids.values():\n",
    "                dfs(k)\n",
    "                \n",
    "        dfs(root)\n",
    "        return res"
   ]
  },
  {
   "cell_type": "code",
   "execution_count": 98,
   "id": "b4fb4119-9e08-4c10-a60a-22b243db714e",
   "metadata": {},
   "outputs": [],
   "source": [
    "folder = [\"/a\",\"/a/b\",\"/c/d\",\"/c/d/e\",\"/c/f\"]"
   ]
  },
  {
   "cell_type": "code",
   "execution_count": 99,
   "id": "6bf8ef2e-4682-4964-aa30-84958946082a",
   "metadata": {},
   "outputs": [
    {
     "data": {
      "text/plain": [
       "['/a', '/c/d', '/c/f']"
      ]
     },
     "execution_count": 99,
     "metadata": {},
     "output_type": "execute_result"
    }
   ],
   "source": [
    "s = Solution()\n",
    "s.removeSubfolders(folder)"
   ]
  },
  {
   "cell_type": "markdown",
   "id": "2578aea6-6771-4ea2-a4ef-9dae2890cb2d",
   "metadata": {},
   "source": [
    "## 1223. 掷骰子模拟"
   ]
  },
  {
   "cell_type": "code",
   "execution_count": 23,
   "id": "162e533d-9a7a-4a9a-b914-be69745a7bbe",
   "metadata": {},
   "outputs": [],
   "source": [
    "from typing import List\n",
    "from functools import lru_cache\n",
    "class Solution:\n",
    "    def dieSimulator(self, n: int, rollMax: List[int]) -> int:\n",
    "        @lru_cache(2000)\n",
    "        def dfs(i, cur, c):\n",
    "            if i >= n: return 1\n",
    "            ans = 0\n",
    "            for j in range(6):\n",
    "                if j != cur:\n",
    "                    ans += dfs(i + 1, j, 1)\n",
    "                elif c < rollMax[cur]:\n",
    "                    ans += dfs(i + 1, cur, c + 1)\n",
    "            return ans\n",
    "        return dfs(0, -1, 0)"
   ]
  },
  {
   "cell_type": "code",
   "execution_count": 24,
   "id": "bbc7b771-194b-4ce7-b3e0-a9ea9ba0a819",
   "metadata": {},
   "outputs": [],
   "source": [
    "n = 3\n",
    "rollMax = [1,1,1,2,2,3]"
   ]
  },
  {
   "cell_type": "code",
   "execution_count": 25,
   "id": "66e09eb6-153a-4c98-a66f-cb3879573f34",
   "metadata": {},
   "outputs": [
    {
     "data": {
      "text/plain": [
       "181"
      ]
     },
     "execution_count": 25,
     "metadata": {},
     "output_type": "execute_result"
    }
   ],
   "source": [
    "s = Solution()\n",
    "s.dieSimulator(n, rollMax)"
   ]
  },
  {
   "cell_type": "markdown",
   "id": "0d6c979b-12e9-467c-a3e5-d9d56b6819fe",
   "metadata": {},
   "source": [
    "## 2335. 装满杯子需要的最短总时长"
   ]
  },
  {
   "cell_type": "markdown",
   "id": "20b8eb5f-6688-48a1-a043-cd591d3a18c6",
   "metadata": {},
   "source": [
    "贪心：每次都同时装满第一多的和次多的，最后再装单独的"
   ]
  },
  {
   "cell_type": "code",
   "execution_count": 56,
   "id": "425029fb-f6e3-4621-8db4-9f07184c9241",
   "metadata": {},
   "outputs": [],
   "source": [
    "class Solution:\n",
    "    def fillCups(self, amount: List[int]) -> int:\n",
    "        ans = 0\n",
    "        while sum(amount) != 0:\n",
    "            amount.sort(reverse=True)\n",
    "            # print(amount)\n",
    "            amount[0] = max(0, amount[0] - 1)\n",
    "            amount[1] = max(0, amount[1] - 1)\n",
    "            ans += 1\n",
    "        return ans "
   ]
  },
  {
   "cell_type": "code",
   "execution_count": 57,
   "id": "5f400588-b877-4158-81fe-6e576e4d7846",
   "metadata": {},
   "outputs": [],
   "source": [
    "amount = [5,100, 60]"
   ]
  },
  {
   "cell_type": "code",
   "execution_count": 58,
   "id": "2230f0ef-ac8f-44dd-aebd-6ce6f627a07f",
   "metadata": {},
   "outputs": [
    {
     "data": {
      "text/plain": [
       "100"
      ]
     },
     "execution_count": 58,
     "metadata": {},
     "output_type": "execute_result"
    }
   ],
   "source": [
    "s = Solution()\n",
    "s.fillCups(amount)"
   ]
  },
  {
   "cell_type": "markdown",
   "id": "2f8c79c6-4ef5-435d-8e57-7d009915fcad",
   "metadata": {},
   "source": [
    "分类讨论  \n",
    "https://leetcode.cn/problems/minimum-amount-of-time-to-fill-cups/solution/zhuang-man-bei-zi-xu-yao-de-zui-duan-zon-c7y4/"
   ]
  },
  {
   "cell_type": "code",
   "execution_count": 59,
   "id": "d1a35c01-f825-4ba2-90f5-a545abbac1c9",
   "metadata": {},
   "outputs": [],
   "source": [
    "class Solution:\n",
    "    def fillCups(self, amount: List[int]) -> int:\n",
    "        amount.sort()\n",
    "        if amount[2] > amount[1] + amount[0]:\n",
    "            return amount[2]\n",
    "        return (sum(amount) + 1) // 2"
   ]
  },
  {
   "cell_type": "markdown",
   "id": "c9f402ca-c947-4322-93e5-69f969f7eddd",
   "metadata": {},
   "source": [
    "## 1138. 字母板上的路径（2.12）"
   ]
  },
  {
   "cell_type": "code",
   "execution_count": 39,
   "id": "d05c278c-e11a-4e48-9b94-a1038ab77ce6",
   "metadata": {},
   "outputs": [],
   "source": [
    "class Solution:\n",
    "    def alphabetBoardPath(self, target: str) -> str:\n",
    "        tab = {'a': (0, 0),'b': (0, 1),'c': (0, 2),'d': (0, 3),'e': (0, 4),'f': (1, 0),'g': (1, 1),'h': (1, 2),'i': (1, 3),\n",
    "               'j': (1, 4),'k': (2, 0),'l': (2, 1),'m': (2, 2),'n': (2, 3),'o': (2, 4),'p': (3, 0),'q': (3, 1),'r': (3, 2),\n",
    "               's': (3, 3),'t': (3, 4),'u': (4, 0),'v': (4, 1),'w': (4, 2),'x': (4, 3),'y': (4, 4),'z': (5, 0)}\n",
    "        res = \"\"\n",
    "        cur = (0, 0)\n",
    "        for c in target:\n",
    "            if c == \"z\":\n",
    "                res += \"D\" * (4 - cur[0]) + \"L\" * cur[1] + \"D\" * (cur[0] != 5) + \"!\"\n",
    "                cur = (5, 0)\n",
    "            else:\n",
    "                r, c = tab[c]\n",
    "                dr, dc = r - cur[0], c - cur[1]\n",
    "                rpath = \"D\" * dr if dr > 0 else \"U\" * abs(dr)\n",
    "                cpath = \"R\" * dc if dc > 0 else \"L\" * abs(dc)\n",
    "                res += rpath + cpath + \"!\"\n",
    "                cur = (r, c)\n",
    "        return res"
   ]
  },
  {
   "cell_type": "code",
   "execution_count": 40,
   "id": "978a52f7-db8f-4767-a43f-d68ccc0c5297",
   "metadata": {},
   "outputs": [],
   "source": [
    "target = \"zz\""
   ]
  },
  {
   "cell_type": "code",
   "execution_count": 41,
   "id": "21b639b7-ebef-4ef4-93e5-1c00d0c69632",
   "metadata": {},
   "outputs": [
    {
     "data": {
      "text/plain": [
       "'DDDDD!!'"
      ]
     },
     "execution_count": 41,
     "metadata": {},
     "output_type": "execute_result"
    }
   ],
   "source": [
    "s = Solution()\n",
    "s.alphabetBoardPath(target)"
   ]
  },
  {
   "cell_type": "markdown",
   "id": "2896223e-ce88-46e4-aee5-cd7de29b17da",
   "metadata": {},
   "source": [
    "## 2341. 数组能形成多少数对（2.16）"
   ]
  },
  {
   "cell_type": "code",
   "execution_count": 4,
   "id": "2658b671-8f0d-485b-bc5c-b7aeea19801b",
   "metadata": {},
   "outputs": [],
   "source": [
    "from collections import Counter\n",
    "from typing import List\n",
    "class Solution:\n",
    "    def numberOfPairs(self, nums: List[int]) -> List[int]:\n",
    "        cnt = Counter(nums)\n",
    "        ans = [0, 0]\n",
    "        for key in cnt:\n",
    "            a, b = divmod(cnt[key], 2)\n",
    "            ans[0], ans[1] = ans[0] + a, ans[1] + b\n",
    "        return ans"
   ]
  },
  {
   "cell_type": "markdown",
   "id": "9e1cf773-babb-42de-ae28-b790d1178e89",
   "metadata": {},
   "source": [
    "## 1124. 表现良好的最长时间段"
   ]
  },
  {
   "cell_type": "markdown",
   "id": "26701495-cc73-4398-888a-f10237262647",
   "metadata": {},
   "source": [
    "1. 由工作时长转化为是否大于 8 的判断，就能将 “表现良好的时间段” 转化为子数组和大于零的问题。本题要求最长时间段，转换后即为和大于零的子数组的最大长度，实际上就是和等于 1 的区间的长度。\n",
    "2. 两种情况需要区分：\n",
    "    1. 某一个位置的前缀和大于零（等于1），则说明从开始到这个位置满足条件，但是否为最长还需判断。\n",
    "    2. 前缀和小于零，则说明从数组最左端开始计算不合适，需要从其他的点开始计算，即要找到一个前面位置使得这两处的前缀和相减等于1。"
   ]
  },
  {
   "cell_type": "code",
   "execution_count": 36,
   "id": "a0d038af-c3f1-470e-90de-a8640caeeca4",
   "metadata": {},
   "outputs": [],
   "source": [
    "class Solution:\n",
    "    def longestWPI(self, hours: List[int]) -> int:\n",
    "        pre, ans, memo = 0, 0, {}\n",
    "        for i, n in enumerate(hours):\n",
    "            pre += 1 if n > 8 else -1\n",
    "            # 使用哈希表记录每一个特定的前缀和出现的最早位置\n",
    "            if pre not in memo: memo[pre] = i\n",
    "            if pre > 0: ans = max(ans, i + 1)\n",
    "            elif pre - 1 in memo:\n",
    "                ans = max(ans, i - memo[pre - 1])\n",
    "        return ans"
   ]
  },
  {
   "cell_type": "markdown",
   "id": "80bf3665-05e9-44e7-9482-e1af20f7444b",
   "metadata": {},
   "source": [
    "## 1234. 替换子串得到平衡字符串"
   ]
  },
  {
   "cell_type": "code",
   "execution_count": 214,
   "id": "63fc7df6-3c2e-40da-90e0-0b7719685356",
   "metadata": {},
   "outputs": [],
   "source": [
    "from collections import Counter\n",
    "class Solution:\n",
    "    def balancedString(self, s: str) -> int:\n",
    "        n, cnt = len(s), Counter(s)\n",
    "        judge = {}\n",
    "        for c in \"QWER\":\n",
    "            judge[c] = max(cnt[c] - n // 4, 0)\n",
    "        print(judge, \"***\")\n",
    "        if sum(judge.values()) == 0: return 0\n",
    "        left = right = 0\n",
    "        ans = float(\"Inf\")\n",
    "        cur = {\"Q\":0, \"W\":0, \"E\":0, \"R\":0}\n",
    "        while right < n:\n",
    "            # print(cur)\n",
    "            cur[s[right]] += 1\n",
    "            right += 1\n",
    "            while all(cur[i] >= judge[i] for i in \"QWER\") and left < right:\n",
    "                ans = min(ans, right - left)\n",
    "                cur[s[left]] -= 1\n",
    "                left += 1\n",
    "        return ans"
   ]
  },
  {
   "cell_type": "code",
   "execution_count": 215,
   "id": "c9128a88-cdb2-4a7f-b393-ebab4105832c",
   "metadata": {},
   "outputs": [],
   "source": [
    "s = \"WWEQERQWQWWRWWERQWEQ\""
   ]
  },
  {
   "cell_type": "code",
   "execution_count": 216,
   "id": "384c651c-bfc7-4eaf-8adc-4ea4fda0a954",
   "metadata": {},
   "outputs": [
    {
     "name": "stdout",
     "output_type": "stream",
     "text": [
      "{'Q': 0, 'W': 3, 'E': 0, 'R': 0} ***\n"
     ]
    },
    {
     "data": {
      "text/plain": [
       "4"
      ]
     },
     "execution_count": 216,
     "metadata": {},
     "output_type": "execute_result"
    }
   ],
   "source": [
    "So = Solution()\n",
    "So.balancedString(s)"
   ]
  },
  {
   "cell_type": "markdown",
   "id": "eda1d704-0d1a-459f-a22b-df5fc74460e1",
   "metadata": {},
   "source": [
    "## 1139. 最大的以1为边界的正方形（2.17）"
   ]
  },
  {
   "cell_type": "markdown",
   "id": "78f3407d-c473-49ba-898a-2a415d537480",
   "metadata": {},
   "source": [
    "之前做过很多类似的题，最终的要点只有两条：\n",
    "1. 肯定是要用dp\n",
    "2. 把方向数量降低，比如此处虽然要考虑四个方向，但是能优化成上和左两个方向，大大提高代码的简洁性"
   ]
  },
  {
   "cell_type": "code",
   "execution_count": 82,
   "id": "5c35139d-f6e7-4752-b84e-a3aa83eca84c",
   "metadata": {},
   "outputs": [],
   "source": [
    "class Solution:\n",
    "    def largest1BorderedSquare(self, grid):\n",
    "        m, n = len(grid), len(grid[0])\n",
    "        left = [[0] * (n + 1) for _ in range(m + 1)]\n",
    "        up = [[0] * (n + 1) for _ in range(m + 1)]\n",
    "        maxBorder = 0\n",
    "        for i in range(1, m + 1):\n",
    "            for j in range(1, n + 1):\n",
    "                if grid[i - 1][j - 1]:\n",
    "                    left[i][j] = left[i][j - 1] + 1\n",
    "                    up[i][j] = up[i - 1][j] + 1\n",
    "                    border = min(left[i][j], up[i][j])\n",
    "                    while left[i - border + 1][j] < border or up[i][j - border + 1] < border:\n",
    "                        border -= 1\n",
    "                    maxBorder = max(maxBorder, border)\n",
    "        return maxBorder ** 2"
   ]
  },
  {
   "cell_type": "markdown",
   "id": "76f15868-1924-4341-9624-eabdfde35009",
   "metadata": {},
   "source": [
    "## 2347. 最好的扑克手牌（2.20）"
   ]
  },
  {
   "cell_type": "code",
   "execution_count": 7,
   "id": "369b5dec-3a74-4782-8fc6-b13d3d627aa8",
   "metadata": {},
   "outputs": [],
   "source": [
    "from collections import Counter\n",
    "from typing import List\n",
    "class Solution:\n",
    "    def bestHand(self, ranks: List[int], suits: List[str]) -> str:\n",
    "        ranks = Counter(ranks)\n",
    "        suits = set(suits)\n",
    "        if len(suits) == 1: return \"Flush\"\n",
    "        m = max(ranks.values())\n",
    "        if m >= 3: return \"Three of a Kind\"\n",
    "        if m >= 2: return \"Pair\"\n",
    "        return \"High Card\""
   ]
  },
  {
   "cell_type": "markdown",
   "id": "dacb0721-5565-43fe-b448-5a62a6be5b17",
   "metadata": {},
   "source": [
    "## 1238. 循环码排列"
   ]
  },
  {
   "cell_type": "code",
   "execution_count": 35,
   "id": "b0ba1bbf-f3df-4666-9426-4920d31d1d0a",
   "metadata": {},
   "outputs": [],
   "source": [
    "from typing import List\n",
    "class Solution:\n",
    "    def circularPermutation(self, n: int, start: int) -> List[int]:\n",
    "        def dfs(i):\n",
    "            nonlocal res\n",
    "            if i == 1: return res\n",
    "            cur = []\n",
    "            for n in res:\n",
    "                cur.append(\"0\" + n)\n",
    "            for n in res[::-1]:\n",
    "                cur.append(\"1\" + n)\n",
    "            res = cur\n",
    "            return dfs(i - 1)\n",
    "        res = [\"0\", \"1\"]\n",
    "        dfs(n)\n",
    "        for i, n in enumerate(res):\n",
    "            num = int(\"0b\" + n, 2)\n",
    "            if num == start: idx = i\n",
    "            res[i] = num\n",
    "        # print(res, idx)\n",
    "        return res[idx:] + res[:idx]"
   ]
  },
  {
   "cell_type": "code",
   "execution_count": 36,
   "id": "ce8573c6-4fba-4d37-a6e0-a09829dc37fa",
   "metadata": {},
   "outputs": [
    {
     "data": {
      "text/plain": [
       "[2, 6, 7, 5, 4, 0, 1, 3]"
      ]
     },
     "execution_count": 36,
     "metadata": {},
     "output_type": "execute_result"
    }
   ],
   "source": [
    "s = Solution()\n",
    "s.circularPermutation(3, 2)"
   ]
  },
  {
   "cell_type": "markdown",
   "id": "31f3d817-57aa-4456-8a1a-dba9db063280",
   "metadata": {},
   "source": [
    "## 2357. 使数组中所有元素都等于零"
   ]
  },
  {
   "cell_type": "code",
   "execution_count": 5,
   "id": "d0955594-97a1-4408-9de4-5cffa165f884",
   "metadata": {},
   "outputs": [],
   "source": [
    "from collections import Counter\n",
    "from typing import List\n",
    "class Solution:\n",
    "    def minimumOperations(self, nums: List[int]) -> int:\n",
    "        cnt = Counter(nums)\n",
    "        return len(cnt) - int(0 in cnt)"
   ]
  },
  {
   "cell_type": "markdown",
   "id": "1b703963-8b25-4a6e-94dc-a59be2358d31",
   "metadata": {},
   "source": [
    "## 1247. 交换字符使得字符串相同"
   ]
  },
  {
   "cell_type": "code",
   "execution_count": 26,
   "id": "e3677902-1d9e-4012-81bf-d41eabce0dfd",
   "metadata": {},
   "outputs": [],
   "source": [
    "class Solution:\n",
    "    def minimumSwap(self, s1: str, s2: str) -> int:\n",
    "        cnt1 = cnt2 = 0\n",
    "        for c1, c2 in zip(*(s1, s2)):\n",
    "            if c1 < c2: cnt1 += 1\n",
    "            if c1 > c2: cnt2 += 1\n",
    "        if (cnt1 ^ cnt2) & 1: return -1\n",
    "        ans = (cnt1 >> 1) + (cnt2 >> 1)\n",
    "        return ans + 2 if cnt1 & cnt2 & 1 else ans"
   ]
  },
  {
   "cell_type": "markdown",
   "id": "c5af3ccd-f1bf-4ed0-9018-13e2136f6a32",
   "metadata": {},
   "source": [
    "## 1144. 递减元素使数组呈锯齿状（2.27）"
   ]
  },
  {
   "cell_type": "code",
   "execution_count": 2,
   "id": "6813965b-cbdc-46e3-90a9-97ddfc041e47",
   "metadata": {},
   "outputs": [],
   "source": [
    "from typing import List\n",
    "class Solution:\n",
    "    def movesToMakeZigzag(self, nums: List[int]) -> int:\n",
    "        def help(pos: int) -> int:\n",
    "            res = 0\n",
    "            for i in range(pos, len(nums), 2):\n",
    "                a = 0\n",
    "                if i - 1 >= 0:\n",
    "                    a = max(a, nums[i] - nums[i - 1] + 1)\n",
    "                if i + 1 < len(nums):\n",
    "                    a = max(a, nums[i] - nums[i + 1] + 1)\n",
    "                res += a\n",
    "            return res\n",
    "\n",
    "        return min(help(0), help(1))"
   ]
  },
  {
   "cell_type": "code",
   "execution_count": null,
   "id": "f044b983-6d1f-4c76-91ce-cf8d0dd2108c",
   "metadata": {},
   "outputs": [],
   "source": []
  },
  {
   "cell_type": "code",
   "execution_count": null,
   "id": "2b9d0a42-cd5d-4464-ad9b-0ea7daa67d28",
   "metadata": {},
   "outputs": [],
   "source": []
  },
  {
   "cell_type": "code",
   "execution_count": null,
   "id": "7ca73e22-208c-46ce-ace4-907e020a6e15",
   "metadata": {},
   "outputs": [],
   "source": []
  },
  {
   "cell_type": "code",
   "execution_count": null,
   "id": "c27ede22-aa73-4648-b259-f4dae7d36b2e",
   "metadata": {},
   "outputs": [],
   "source": []
  },
  {
   "cell_type": "code",
   "execution_count": null,
   "id": "888f0e11-d6cd-4573-8d23-374787ea9fe1",
   "metadata": {},
   "outputs": [],
   "source": []
  },
  {
   "cell_type": "code",
   "execution_count": null,
   "id": "8c565227-2687-4cbc-8733-b49b209d786f",
   "metadata": {},
   "outputs": [],
   "source": []
  },
  {
   "cell_type": "code",
   "execution_count": null,
   "id": "342d6cd9-159b-4d85-a572-cbbf25676032",
   "metadata": {},
   "outputs": [],
   "source": []
  },
  {
   "cell_type": "code",
   "execution_count": null,
   "id": "863f920c-dcf8-4113-8fda-6e2777df3e58",
   "metadata": {},
   "outputs": [],
   "source": []
  },
  {
   "cell_type": "code",
   "execution_count": null,
   "id": "b0aa6ca8-3a27-472c-b98c-8aa588a0b405",
   "metadata": {},
   "outputs": [],
   "source": []
  },
  {
   "cell_type": "code",
   "execution_count": null,
   "id": "9ee6a500-e2bc-4929-aa89-c7b82063b0cf",
   "metadata": {},
   "outputs": [],
   "source": []
  },
  {
   "cell_type": "code",
   "execution_count": null,
   "id": "713b6da9-e044-4370-ad92-487c2bdaff48",
   "metadata": {},
   "outputs": [],
   "source": []
  },
  {
   "cell_type": "code",
   "execution_count": null,
   "id": "fe2af85f-c49b-4002-9e0f-43f77fc52a3d",
   "metadata": {},
   "outputs": [],
   "source": []
  },
  {
   "cell_type": "code",
   "execution_count": null,
   "id": "a5058fa1-d72d-4038-ae51-be45d092a400",
   "metadata": {},
   "outputs": [],
   "source": []
  },
  {
   "cell_type": "code",
   "execution_count": null,
   "id": "d8e1ddba-751c-41fc-a932-9dc24da9eb12",
   "metadata": {},
   "outputs": [],
   "source": []
  },
  {
   "cell_type": "code",
   "execution_count": null,
   "id": "4686f77b-38f4-4944-8841-7d1b870019d3",
   "metadata": {},
   "outputs": [],
   "source": []
  },
  {
   "cell_type": "code",
   "execution_count": null,
   "id": "49063c4e-a4d3-4ae2-83a7-b8f06fe03b37",
   "metadata": {},
   "outputs": [],
   "source": []
  },
  {
   "cell_type": "code",
   "execution_count": null,
   "id": "1ec46796-625d-4e6b-b06d-aac5f998c3ae",
   "metadata": {},
   "outputs": [],
   "source": []
  },
  {
   "cell_type": "code",
   "execution_count": null,
   "id": "1378698f-cba0-458b-a977-42a01a9d94e9",
   "metadata": {},
   "outputs": [],
   "source": []
  },
  {
   "cell_type": "code",
   "execution_count": null,
   "id": "b8aa7aad-c366-4023-94c7-8e0409d78c90",
   "metadata": {},
   "outputs": [],
   "source": []
  },
  {
   "cell_type": "code",
   "execution_count": null,
   "id": "79cc307a-913a-45b6-8c40-e112b20208b6",
   "metadata": {},
   "outputs": [],
   "source": []
  },
  {
   "cell_type": "code",
   "execution_count": null,
   "id": "ef362361-f893-478a-97fa-33a644014f0d",
   "metadata": {},
   "outputs": [],
   "source": []
  }
 ],
 "metadata": {
  "kernelspec": {
   "display_name": "Python 3 (ipykernel)",
   "language": "python",
   "name": "python3"
  },
  "language_info": {
   "codemirror_mode": {
    "name": "ipython",
    "version": 3
   },
   "file_extension": ".py",
   "mimetype": "text/x-python",
   "name": "python",
   "nbconvert_exporter": "python",
   "pygments_lexer": "ipython3",
   "version": "3.6.3"
  }
 },
 "nbformat": 4,
 "nbformat_minor": 5
}
