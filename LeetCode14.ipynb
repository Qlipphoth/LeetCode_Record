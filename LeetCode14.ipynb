{
 "cells": [
  {
   "cell_type": "markdown",
   "id": "a2bc3d1e-d9cb-4449-a7f6-399c3845799f",
   "metadata": {},
   "source": [
    "## 2331. 计算布尔二叉树的值 (2.6)"
   ]
  },
  {
   "cell_type": "code",
   "execution_count": 1,
   "id": "cf84cfff-2aee-4a27-bfbf-bd146b008449",
   "metadata": {},
   "outputs": [],
   "source": [
    "# Definition for a binary tree node.\n",
    "class TreeNode:\n",
    "    def __init__(self, val=0, left=None, right=None):\n",
    "        self.val = val\n",
    "        self.left = left\n",
    "        self.right = right"
   ]
  },
  {
   "cell_type": "code",
   "execution_count": 8,
   "id": "f8527398-0f83-4f14-93ff-1707d856bed3",
   "metadata": {},
   "outputs": [],
   "source": [
    "from typing import Optional\n",
    "class Solution:\n",
    "    def evaluateTree(self, root: Optional[TreeNode]) -> bool:\n",
    "        if not root.left and not root.right:\n",
    "            return bool(root.val)\n",
    "        left = self.evaluateTree(root.left)\n",
    "        right = self.evaluateTree(root.right)\n",
    "        return bool(left or right) if root.val == 2 else bool(left and right)"
   ]
  },
  {
   "cell_type": "markdown",
   "id": "9d1b84d3-19ab-4e76-8fb5-c1730488f134",
   "metadata": {},
   "source": [
    "## 1798. 你能构造出连续值的最大数目"
   ]
  },
  {
   "cell_type": "markdown",
   "id": "21b177fd-85a4-49f7-a48a-7a8723a1558b",
   "metadata": {},
   "source": [
    "有序是一个强大的性质，如果对数组排序不影响答案的话，可以尝试将数组排序后，再重新思考，看看能否发现新的思路。"
   ]
  },
  {
   "cell_type": "markdown",
   "id": "15e9bce3-da32-4c4a-9c6a-f5079fd2200e",
   "metadata": {},
   "source": [
    "> 首先我们用\\[l, r\\]，0≤l,r表示一段连续的从 l 到 r 的连续整数区间，不妨设我们现在能构造出\\[0,x\\]区间的整数，现在我们新增一个整数y，那么我们可以构造出的区间为\\[0, x\\]和\\[y,x ＋ y\\], 那么如果y ≤ x + 1，则加入整数 y 后我们能构造出\\[0, x＋y\\]区间的整数，否则我们还是只能构造出\\[0,x\\]区间的数字。因此我们每次从数组中找到未选择数字中的最小值来作为y，因为如果此时的最小值y都不能更新区间\\[0,x\\]，那么剩下的其他元素都不能更新区间\\[0,x\\]。那么我们初始从 x = 0 开始，按照升序来遍历数组nums的元素来作为 y，如果 y ≤ x + 1 那么我们扩充区间为\\[0, x ＋ y\\]，否则我们无论选任何未选的数字都不能使答案区间变大，此时直接退出即可。"
   ]
  },
  {
   "cell_type": "code",
   "execution_count": 19,
   "id": "58240c8c-93e7-4f4e-a8ce-ad3c0a8badf1",
   "metadata": {},
   "outputs": [],
   "source": [
    "from typing import List\n",
    "class Solution:\n",
    "    def getMaximumConsecutive(self, coins: List[int]) -> int:\n",
    "        m = 0\n",
    "        coins.sort()\n",
    "        for n in coins:\n",
    "            if n > m + 1: break\n",
    "            m += n\n",
    "        return m + 1"
   ]
  },
  {
   "cell_type": "code",
   "execution_count": 20,
   "id": "6c5dcd65-9299-4b2c-b6de-73c187ef2a66",
   "metadata": {},
   "outputs": [],
   "source": [
    "coins = [1,1,1,4]"
   ]
  },
  {
   "cell_type": "code",
   "execution_count": 21,
   "id": "469f28c8-a60c-41d3-b21f-1c2c5a83afd6",
   "metadata": {},
   "outputs": [
    {
     "data": {
      "text/plain": [
       "8"
      ]
     },
     "execution_count": 21,
     "metadata": {},
     "output_type": "execute_result"
    }
   ],
   "source": [
    "s = Solution()\n",
    "s.getMaximumConsecutive(coins)"
   ]
  },
  {
   "cell_type": "markdown",
   "id": "f66bf377-d90f-4d59-a2bd-4215c741e0fe",
   "metadata": {},
   "source": [
    "## 1145. 二叉树着色游戏"
   ]
  },
  {
   "cell_type": "code",
   "execution_count": 22,
   "id": "fcf802e2-0d00-4d7e-8a3c-070a3af97311",
   "metadata": {},
   "outputs": [],
   "source": [
    "# Definition for a binary tree node.\n",
    "class TreeNode:\n",
    "    def __init__(self, val=0, left=None, right=None):\n",
    "        self.val = val\n",
    "        self.left = left\n",
    "        self.right = right"
   ]
  },
  {
   "cell_type": "code",
   "execution_count": 44,
   "id": "1bf1b633-acc8-4315-aebf-a27d3ae3213d",
   "metadata": {},
   "outputs": [],
   "source": [
    "from collections import defaultdict\n",
    "class Solution:\n",
    "    def btreeGameWinningMove(self, root: Optional[TreeNode], n: int, x: int) -> bool:\n",
    "        cnt = defaultdict(int)\n",
    "        def dfs(node):\n",
    "            num = 1\n",
    "            if node.val in cnt: return cnt[node.val]\n",
    "            if node.left: num += dfs(node.left)\n",
    "            if node.right: num += dfs(node.right)\n",
    "            if node.val == x: num = 0\n",
    "            cnt[node.val] = num\n",
    "            return num\n",
    "        dfs(root)\n",
    "        return True if any(cnt[key] > n // 2 for key in cnt) else False"
   ]
  },
  {
   "cell_type": "markdown",
   "id": "0ad95239-55bb-4cda-8adf-2cae4c5a029d",
   "metadata": {},
   "source": [
    "## 1604. 警告一小时内使用相同员工卡大于等于三次的人 (2.7)"
   ]
  },
  {
   "cell_type": "code",
   "execution_count": 22,
   "id": "eb2108f9-d0f2-4f38-90fb-b060860b201c",
   "metadata": {},
   "outputs": [],
   "source": [
    "from collections import defaultdict\n",
    "from typing import List\n",
    "class Solution:\n",
    "    def alertNames(self, keyName: List[str], keyTime: List[str]) -> List[str]:\n",
    "        cnt = defaultdict(list)\n",
    "        ans = []\n",
    "        for name, time in zip(*(keyName, keyTime)):\n",
    "            h, m = time.split(\":\")\n",
    "            cnt[name].append(int(h) * 60 + int(m))\n",
    "        for name in cnt:\n",
    "            cnt[name].sort()\n",
    "            for i in range(2, len(cnt[name])):\n",
    "                if cnt[name][i] - cnt[name][i - 2] <= 60:\n",
    "                    ans.append(name)\n",
    "                    break\n",
    "        return sorted(ans)"
   ]
  },
  {
   "cell_type": "code",
   "execution_count": 23,
   "id": "8a8f2362-47ec-4d55-a80a-67092a2b6ae4",
   "metadata": {},
   "outputs": [],
   "source": [
    "keyName = [\"leslie\",\"leslie\",\"leslie\",\"clare\",\"clare\",\"clare\",\"clare\"]\n",
    "keyTime = [\"13:00\",\"13:20\",\"14:00\",\"18:00\",\"18:51\",\"19:30\",\"19:49\"]"
   ]
  },
  {
   "cell_type": "code",
   "execution_count": 24,
   "id": "0780b9a5-a4fa-44c5-98a2-9badc92486aa",
   "metadata": {},
   "outputs": [
    {
     "data": {
      "text/plain": [
       "['clare', 'leslie']"
      ]
     },
     "execution_count": 24,
     "metadata": {},
     "output_type": "execute_result"
    }
   ],
   "source": [
    "s = Solution()\n",
    "s.alertNames(keyName, keyTime)"
   ]
  },
  {
   "cell_type": "markdown",
   "id": "ee9d1209-9f4f-458e-9fd2-5d389a79d7cb",
   "metadata": {},
   "source": [
    "## 1210. 穿过迷宫的最少移动次数"
   ]
  },
  {
   "cell_type": "code",
   "execution_count": 59,
   "id": "fcbe2164-b1d9-475d-bbfb-a9c065a9372d",
   "metadata": {},
   "outputs": [],
   "source": [
    "from collections import deque\n",
    "class Solution:\n",
    "    def minimumMoves(self, grid: List[List[int]]) -> int:\n",
    "        def isvalid(tail, s):\n",
    "            r, c = tail\n",
    "            # 蛇只有 - 与 | 两种状态, 且始终朝下或朝右, 根据尾巴坐标与蛇的状态可唯一确定蛇的位置\n",
    "            head = (r, c + 1) if s == 0 else (r + 1, c)\n",
    "            # 蛇始终向右下方移动, 因此只需判断是否越过右边界与下边界, 此外需判断移动后头的位置是否有障碍\n",
    "            if any(x >= n for x in head) or grid[head[0]][head[1]] == 1 or grid[r][c] == 1:\n",
    "                return False\n",
    "            return True\n",
    "        \n",
    "        n = len(grid)\n",
    "        memo = set()\n",
    "        d = [(0, 1), (1, 0)]\n",
    "        nxt = deque([(0, 0, 0, 0)])\n",
    "        while nxt:\n",
    "            r, c, s, step = nxt.popleft()\n",
    "            # print(r, c, s, step)\n",
    "            if (r, c, s) == (n - 1, n - 2, 0): return step\n",
    "            if (r, c, s) in memo: continue\n",
    "            if isvalid((r, c + 1), s):\n",
    "                nxt.append((r, c + 1, s, step + 1))\n",
    "            if isvalid((r + 1, c), s):\n",
    "                nxt.append((r + 1, c, s, step + 1))\n",
    "            # 两种旋转的变换判断融合为一种, 看不懂的把分别的判断写出来就能看懂了\n",
    "            tail = [r, c]\n",
    "            tail[s] += 1\n",
    "            if all(x < n for x in [tail[0], tail[1], r + 1, c + 1]):\n",
    "                if grid[tail[0]][tail[1]] == grid[r + 1][c + 1] == 0:\n",
    "                    nxt.append((r, c, 1 - s, step + 1))\n",
    "                    memo.add((r, c, s))\n",
    "        return -1"
   ]
  },
  {
   "cell_type": "code",
   "execution_count": 60,
   "id": "8a348ce3-baca-4cd4-8c3e-3ef5ffa6a27d",
   "metadata": {},
   "outputs": [],
   "source": [
    "grid = [[0,0,1,1,1,1], [0,0,0,0,1,1], [1,1,0,0,0,1], [1,1,1,0,0,1], [1,1,1,0,0,1], [1,1,1,0,0,0]]"
   ]
  },
  {
   "cell_type": "code",
   "execution_count": 61,
   "id": "08df04fc-1aba-4bfd-b60b-d560a156dd5b",
   "metadata": {},
   "outputs": [
    {
     "data": {
      "text/plain": [
       "9"
      ]
     },
     "execution_count": 61,
     "metadata": {},
     "output_type": "execute_result"
    }
   ],
   "source": [
    "s = Solution()\n",
    "s.minimumMoves(grid)"
   ]
  },
  {
   "cell_type": "markdown",
   "id": "d5cee102-c071-4743-9af7-2a26c96af759",
   "metadata": {},
   "source": [
    "## 1129. 颜色交替的最短路径"
   ]
  },
  {
   "cell_type": "markdown",
   "id": "0c53d5d5-3fdd-4f0a-843e-83fb17f13907",
   "metadata": {},
   "source": [
    "颜色交替状态下的重复访问指的是以同一种颜色访问同一节点。"
   ]
  },
  {
   "cell_type": "code",
   "execution_count": 26,
   "id": "8b60ce1c-ebc5-486f-8b5b-37d0706be510",
   "metadata": {},
   "outputs": [],
   "source": [
    "from collections import defaultdict, deque\n",
    "from typing import List\n",
    "class Solution:\n",
    "    def shortestAlternatingPaths(self, n: int, redEdges: List[List[int]], \n",
    "                                 blueEdges: List[List[int]]) -> List[int]:\n",
    "        g = defaultdict(list)\n",
    "        for a, b in redEdges:\n",
    "            g[a].append((b, 0))\n",
    "        for a, b in blueEdges:\n",
    "            g[a].append((b, 1))\n",
    "        \n",
    "        vis = {(0, 0), (0, 1)}\n",
    "        stk = deque(g[0])\n",
    "        res = [float(\"inf\")] * n\n",
    "        res[0] = 0\n",
    "        step = 0\n",
    "        while stk:\n",
    "            step += 1\n",
    "            for i in range(len(stk)):\n",
    "                nxt, c = stk.popleft()\n",
    "                if (nxt, c) in vis: continue\n",
    "                res[nxt] = min(res[nxt], step)\n",
    "                vis.add((nxt, c))\n",
    "                for nnxt, cc in g[nxt]:\n",
    "                    if cc != c:\n",
    "                        stk.append((nnxt, cc))\n",
    "        for i, n in enumerate(res):\n",
    "            if n == float(\"inf\"):\n",
    "                res[i] = -1\n",
    "        return res"
   ]
  },
  {
   "cell_type": "code",
   "execution_count": 27,
   "id": "39109f79-fc76-4c11-aa9b-5be38b28ee5b",
   "metadata": {},
   "outputs": [],
   "source": [
    "n = 5\n",
    "red_edges = [[0,1],[1,2],[2,3],[3,4]]\n",
    "blue_edges = [[1,2],[2,3],[3,1]]"
   ]
  },
  {
   "cell_type": "code",
   "execution_count": 28,
   "id": "b944e6b1-c127-4569-9de4-adafc660ed89",
   "metadata": {},
   "outputs": [
    {
     "data": {
      "text/plain": [
       "[0, 1, 2, 3, 7]"
      ]
     },
     "execution_count": 28,
     "metadata": {},
     "output_type": "execute_result"
    }
   ],
   "source": [
    "s = Solution()\n",
    "s.shortestAlternatingPaths(n, red_edges, blue_edges)"
   ]
  },
  {
   "cell_type": "markdown",
   "id": "577477c3-bc59-4ba1-ba27-8729daf097da",
   "metadata": {},
   "source": [
    "## 1233. 删除子文件夹 (2.8)"
   ]
  },
  {
   "cell_type": "markdown",
   "id": "3d8eef61-46ba-41fd-825c-bc06b3ddb977",
   "metadata": {},
   "source": [
    "### 方法一：排序"
   ]
  },
  {
   "cell_type": "code",
   "execution_count": 53,
   "id": "b32ccff9-60f5-4f81-9383-61c157b29f7a",
   "metadata": {},
   "outputs": [],
   "source": [
    "class Solution:\n",
    "    def removeSubfolders(self, folder: List[str]) -> List[str]:\n",
    "        folder.sort()\n",
    "        left, right = 0, 1\n",
    "        flag = [1] * len(folder)\n",
    "        while right < len(folder):\n",
    "            l, r = len(folder[left]), len(folder[right])\n",
    "            if l < r and folder[right][:l] == folder[left] and folder[right][l] == \"/\":\n",
    "                flag[right] = 0\n",
    "            else:\n",
    "                i = 1\n",
    "                while flag[left + i] == 0:\n",
    "                    i += 1\n",
    "                left += i\n",
    "            right += 1\n",
    "        res = []\n",
    "        for i in range(len(folder)):\n",
    "            if flag[i]: res.append(folder[i])\n",
    "        return res"
   ]
  },
  {
   "cell_type": "markdown",
   "id": "a464e95c-2fd0-4eb1-9f94-870e89e83420",
   "metadata": {},
   "source": [
    "### 方法二: 字典树"
   ]
  },
  {
   "cell_type": "code",
   "execution_count": 91,
   "id": "23247074-8141-4874-a086-d67f465112d7",
   "metadata": {},
   "outputs": [],
   "source": [
    "class Trie:\n",
    "    def __init__(self):\n",
    "        self.children = dict()\n",
    "        self.ref = -1\n",
    "\n",
    "class Solution:\n",
    "    def removeSubfolders(self, folder: List[str]) -> List[str]:\n",
    "        root = Trie()\n",
    "        for i, path in enumerate(folder):\n",
    "            path = path.split(\"/\")\n",
    "            cur = root\n",
    "            for name in path:\n",
    "                if name not in cur.children:\n",
    "                    cur.children[name] = Trie()\n",
    "                cur = cur.children[name]\n",
    "            cur.ref = i\n",
    "        \n",
    "        ans = list()\n",
    "\n",
    "        def dfs(cur: Trie):\n",
    "            if cur.ref != -1:\n",
    "                ans.append(folder[cur.ref])\n",
    "                return\n",
    "            for child in cur.children.values():\n",
    "                dfs(child)\n",
    "\n",
    "        dfs(root)\n",
    "        return ans"
   ]
  },
  {
   "cell_type": "code",
   "execution_count": 97,
   "id": "fcda6634-27a7-4c4c-af4e-8877b1611f22",
   "metadata": {},
   "outputs": [],
   "source": [
    "class Tree:\n",
    "    def __init__(self):\n",
    "        self.kids = {}\n",
    "        self.end = -1\n",
    "    \n",
    "class Solution:\n",
    "    def removeSubfolders(self, folder: List[str]) -> List[str]:\n",
    "        root = Tree()\n",
    "        for i, path in enumerate(folder):\n",
    "            path = path.split(\"/\")[1:]\n",
    "            cur = root\n",
    "            for p in path:\n",
    "                if p not in cur.kids:\n",
    "                    cur.kids[p] = Tree()\n",
    "                cur = cur.kids[p]\n",
    "            cur.end = i  # 已存在的文件, 否则为 -1 代表仅为中间目录\n",
    "        \n",
    "        res = []\n",
    "        def dfs(node):\n",
    "            if node.end != -1:\n",
    "                res.append(folder[node.end])\n",
    "                return  # 发现已经存在的目录直接返回, 其下的都是子目录\n",
    "            for k in node.kids.values():\n",
    "                dfs(k)\n",
    "                \n",
    "        dfs(root)\n",
    "        return res"
   ]
  },
  {
   "cell_type": "code",
   "execution_count": 98,
   "id": "b4fb4119-9e08-4c10-a60a-22b243db714e",
   "metadata": {},
   "outputs": [],
   "source": [
    "folder = [\"/a\",\"/a/b\",\"/c/d\",\"/c/d/e\",\"/c/f\"]"
   ]
  },
  {
   "cell_type": "code",
   "execution_count": 99,
   "id": "6bf8ef2e-4682-4964-aa30-84958946082a",
   "metadata": {},
   "outputs": [
    {
     "data": {
      "text/plain": [
       "['/a', '/c/d', '/c/f']"
      ]
     },
     "execution_count": 99,
     "metadata": {},
     "output_type": "execute_result"
    }
   ],
   "source": [
    "s = Solution()\n",
    "s.removeSubfolders(folder)"
   ]
  },
  {
   "cell_type": "code",
   "execution_count": null,
   "id": "d9f39355-909f-4ce8-b43a-ae1c24682979",
   "metadata": {},
   "outputs": [],
   "source": []
  },
  {
   "cell_type": "code",
   "execution_count": null,
   "id": "2b3a4569-e1ce-4c6e-9f5b-d0eca7f8fc9a",
   "metadata": {},
   "outputs": [],
   "source": []
  },
  {
   "cell_type": "code",
   "execution_count": null,
   "id": "82cf991c-282e-4394-b0ac-a8db6c634eb5",
   "metadata": {},
   "outputs": [],
   "source": []
  },
  {
   "cell_type": "code",
   "execution_count": null,
   "id": "5ea143da-8830-46d1-bc21-aecf8551598b",
   "metadata": {},
   "outputs": [],
   "source": []
  },
  {
   "cell_type": "code",
   "execution_count": null,
   "id": "8003e3b4-ab0d-4576-a2d2-66b97b5a11b2",
   "metadata": {},
   "outputs": [],
   "source": []
  },
  {
   "cell_type": "code",
   "execution_count": null,
   "id": "ef12ff83-316b-4d65-99e8-8146bf8bfcca",
   "metadata": {},
   "outputs": [],
   "source": []
  },
  {
   "cell_type": "code",
   "execution_count": null,
   "id": "4a053b37-401c-416f-a9b8-4e1c0699c1f1",
   "metadata": {},
   "outputs": [],
   "source": []
  },
  {
   "cell_type": "code",
   "execution_count": null,
   "id": "2df2ac23-3292-44a6-81a5-c5033582312e",
   "metadata": {},
   "outputs": [],
   "source": []
  },
  {
   "cell_type": "code",
   "execution_count": null,
   "id": "2eccd059-e903-4c8b-bca8-00745d2651bc",
   "metadata": {},
   "outputs": [],
   "source": []
  },
  {
   "cell_type": "code",
   "execution_count": null,
   "id": "162e533d-9a7a-4a9a-b914-be69745a7bbe",
   "metadata": {},
   "outputs": [],
   "source": []
  },
  {
   "cell_type": "code",
   "execution_count": null,
   "id": "bbc7b771-194b-4ce7-b3e0-a9ea9ba0a819",
   "metadata": {},
   "outputs": [],
   "source": []
  },
  {
   "cell_type": "code",
   "execution_count": null,
   "id": "66e09eb6-153a-4c98-a66f-cb3879573f34",
   "metadata": {},
   "outputs": [],
   "source": []
  },
  {
   "cell_type": "code",
   "execution_count": null,
   "id": "b89192f9-6d33-4332-8d35-95880c0f524e",
   "metadata": {},
   "outputs": [],
   "source": []
  },
  {
   "cell_type": "code",
   "execution_count": null,
   "id": "306ab470-b1e0-4c9a-9418-121d7ac893ad",
   "metadata": {},
   "outputs": [],
   "source": []
  },
  {
   "cell_type": "code",
   "execution_count": null,
   "id": "425029fb-f6e3-4621-8db4-9f07184c9241",
   "metadata": {},
   "outputs": [],
   "source": []
  },
  {
   "cell_type": "code",
   "execution_count": null,
   "id": "402d2fea-887d-4b67-a443-d49bd638bc58",
   "metadata": {},
   "outputs": [],
   "source": []
  },
  {
   "cell_type": "code",
   "execution_count": null,
   "id": "5f400588-b877-4158-81fe-6e576e4d7846",
   "metadata": {},
   "outputs": [],
   "source": []
  },
  {
   "cell_type": "code",
   "execution_count": null,
   "id": "2230f0ef-ac8f-44dd-aebd-6ce6f627a07f",
   "metadata": {},
   "outputs": [],
   "source": []
  },
  {
   "cell_type": "code",
   "execution_count": null,
   "id": "433ccdc2-7e74-4963-8da1-85e74160ce10",
   "metadata": {},
   "outputs": [],
   "source": []
  },
  {
   "cell_type": "code",
   "execution_count": null,
   "id": "ee6c485f-4762-45f6-a254-e30e600b775f",
   "metadata": {},
   "outputs": [],
   "source": []
  },
  {
   "cell_type": "code",
   "execution_count": null,
   "id": "d05c278c-e11a-4e48-9b94-a1038ab77ce6",
   "metadata": {},
   "outputs": [],
   "source": []
  },
  {
   "cell_type": "code",
   "execution_count": null,
   "id": "53f98d36-b32b-49ca-8684-5a7d50155b46",
   "metadata": {},
   "outputs": [],
   "source": []
  },
  {
   "cell_type": "code",
   "execution_count": null,
   "id": "c6b34ec5-c960-4222-970b-c8d411f2c3f3",
   "metadata": {},
   "outputs": [],
   "source": []
  }
 ],
 "metadata": {
  "kernelspec": {
   "display_name": "Python 3 (ipykernel)",
   "language": "python",
   "name": "python3"
  },
  "language_info": {
   "codemirror_mode": {
    "name": "ipython",
    "version": 3
   },
   "file_extension": ".py",
   "mimetype": "text/x-python",
   "name": "python",
   "nbconvert_exporter": "python",
   "pygments_lexer": "ipython3",
   "version": "3.6.3"
  }
 },
 "nbformat": 4,
 "nbformat_minor": 5
}
