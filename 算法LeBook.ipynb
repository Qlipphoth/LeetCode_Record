{
 "cells": [
  {
   "cell_type": "markdown",
   "id": "6c97e53c-ed78-400f-8415-d748c153c46d",
   "metadata": {},
   "source": [
    "# Day1 二分查找"
   ]
  },
  {
   "cell_type": "markdown",
   "id": "9b0319c0-82f0-424c-9151-4b7f48a485de",
   "metadata": {},
   "source": [
    "## 34. 在排序数组中查找元素的第一个和最后一个位置"
   ]
  },
  {
   "cell_type": "code",
   "execution_count": 45,
   "id": "2e10a581-ef04-4c54-806c-7066551c0aa4",
   "metadata": {},
   "outputs": [],
   "source": [
    "from typing import List\n",
    "class Solution:\n",
    "    def searchRange(self, nums: List[int], target: int) -> List[int]:\n",
    "        def bisect_left(a, x):\n",
    "            l, r = 0, len(a)\n",
    "            while l < r:\n",
    "                mid = (l + r) // 2\n",
    "                # 由于是左查找，因此最后一定要停在第一个大于等于 x 的数字的 idx\n",
    "                # 因此要先判断不符合的情况，如果 mid 小于 x 的话直接从 mid + 1 开始向右搜\n",
    "                # 但是针对 mid 大于等于 x 的情况则不能舍弃这个 mid，因此要以 mid 为右边界而不是 mid - 1\n",
    "                # 另。由于 // 取得是下界，因此 l 必须要为 mid + 1，否则会陷入循环，因此无论是左搜还是右搜都要设计使得\n",
    "                # l = mid + 1 的条件\n",
    "                if a[mid] < x: l = mid + 1\n",
    "                else: r = mid\n",
    "            return l\n",
    "        def bisect_right(a, x):\n",
    "            l, r = 0, len(a)\n",
    "            while l < r:\n",
    "                mid = (l + r) // 2\n",
    "                if a[mid] <= x: l = mid + 1\n",
    "                else: r = mid\n",
    "            return l\n",
    "        a, b = bisect_left(nums, target), bisect_right(nums, target)\n",
    "        # 特判是精髓，bisectleft返回的idx一定是原数组中最接近 x 的那个数字的 idx，除非当前数组的所有数字均小于 x\n",
    "        # 此时会插在最后一个位置，会越界，因此要用 min 来特判\n",
    "        if not nums or nums[min(a, len(nums) - 1)] != target: return [-1, -1]\n",
    "        return [a, b - 1]"
   ]
  },
  {
   "cell_type": "code",
   "execution_count": 46,
   "id": "d9c6d21c-1dd4-4d88-a99d-5627b19cf2d1",
   "metadata": {},
   "outputs": [],
   "source": [
    "nums = [5,7,7,8,8,10]\n",
    "target = 8"
   ]
  },
  {
   "cell_type": "code",
   "execution_count": 47,
   "id": "634b212b-129e-466b-9f73-9bcb57afc7dd",
   "metadata": {},
   "outputs": [
    {
     "data": {
      "text/plain": [
       "[3, 4]"
      ]
     },
     "execution_count": 47,
     "metadata": {},
     "output_type": "execute_result"
    }
   ],
   "source": [
    "s = Solution()\n",
    "s.searchRange(nums, target)"
   ]
  },
  {
   "cell_type": "markdown",
   "id": "6cd3e8b6-464a-4448-beff-d6bd5cc60243",
   "metadata": {},
   "source": [
    "## 33. 搜索旋转排序数组"
   ]
  },
  {
   "cell_type": "code",
   "execution_count": 103,
   "id": "a14619ec-249f-405e-8e4c-869da03bf2ae",
   "metadata": {},
   "outputs": [],
   "source": [
    "class Solution:\n",
    "    def search(self, nums: List[int], target: int) -> int:\n",
    "        l, r = 0, len(nums) - 1\n",
    "        while l <= r:\n",
    "            print(l, r)\n",
    "            mid = (l + r) // 2\n",
    "            if nums[mid] == target:\n",
    "                return mid\n",
    "            # 分成四种情况\n",
    "            if nums[0] <= target:  # 在左半段搜\n",
    "                # 注意这里要加一个等号，以考虑恰好搜到第一个数字的情况，此时还是向右搜\n",
    "                if nums[0] <= nums[mid] < target:\n",
    "                    l = mid + 1\n",
    "                else: r = mid - 1\n",
    "            else:  # 在右半段搜\n",
    "                if target < nums[mid] < nums[0]:\n",
    "                    r = mid - 1\n",
    "                else: l = mid + 1\n",
    "        return -1"
   ]
  },
  {
   "cell_type": "code",
   "execution_count": 104,
   "id": "823edea4-9df4-4cf0-bab2-4b3297758d87",
   "metadata": {},
   "outputs": [],
   "source": [
    "nums = [1, 3]\n",
    "target = 3"
   ]
  },
  {
   "cell_type": "code",
   "execution_count": 105,
   "id": "57418d2b-f5d3-4646-a59b-fc0f7f6711c1",
   "metadata": {},
   "outputs": [
    {
     "name": "stdout",
     "output_type": "stream",
     "text": [
      "0 1\n",
      "1 1\n"
     ]
    },
    {
     "data": {
      "text/plain": [
       "1"
      ]
     },
     "execution_count": 105,
     "metadata": {},
     "output_type": "execute_result"
    }
   ],
   "source": [
    "s = Solution()\n",
    "s.search(nums, target)"
   ]
  },
  {
   "cell_type": "markdown",
   "id": "da0abe8e-4454-4fea-a76b-fa0a594bfdf1",
   "metadata": {},
   "source": [
    "## 74. 搜索二维矩阵"
   ]
  },
  {
   "cell_type": "code",
   "execution_count": 211,
   "id": "763b9350-6a04-48e2-8f06-6e50da744f57",
   "metadata": {},
   "outputs": [],
   "source": [
    "class Solution:\n",
    "    def searchMatrix(self, matrix: List[List[int]], target: int) -> bool:\n",
    "        m, n = len(matrix), len(matrix[0])\n",
    "        left, right = 0, m * n\n",
    "        while left < right:\n",
    "            # print(left, right)\n",
    "            mid = (left + right) // 2\n",
    "            r, c = divmod(mid, n)\n",
    "            # print(\"**\", r, c, matrix[r][c])\n",
    "            if matrix[r][c] == target: return True\n",
    "            elif matrix[r][c] > target: right = mid\n",
    "            else: left = mid + 1\n",
    "            # print(\"***\", left, right)\n",
    "        return False"
   ]
  },
  {
   "cell_type": "code",
   "execution_count": 216,
   "id": "c714e5ad-f0b9-4fa9-aa4a-f7d6512aa2e8",
   "metadata": {},
   "outputs": [],
   "source": [
    "matrix = [[1]]\n",
    "target = 0"
   ]
  },
  {
   "cell_type": "code",
   "execution_count": 217,
   "id": "b474f454-5680-4913-8ec0-5c4c6104617f",
   "metadata": {},
   "outputs": [
    {
     "data": {
      "text/plain": [
       "False"
      ]
     },
     "execution_count": 217,
     "metadata": {},
     "output_type": "execute_result"
    }
   ],
   "source": [
    "s = Solution()\n",
    "s.searchMatrix(matrix, target)"
   ]
  },
  {
   "cell_type": "markdown",
   "id": "7122cf71-afe5-4b3d-8315-6d19c2538207",
   "metadata": {},
   "source": [
    "# Day2 "
   ]
  },
  {
   "cell_type": "markdown",
   "id": "479e4756-e215-4975-bf06-162a669ab49a",
   "metadata": {},
   "source": [
    "## 153. 寻找旋转排序数组中的最小值"
   ]
  },
  {
   "cell_type": "code",
   "execution_count": 3,
   "id": "4cee5ec5-bd2a-4f70-8739-56145e71f4df",
   "metadata": {},
   "outputs": [],
   "source": [
    "from typing import List\n",
    "class Solution:\n",
    "    def findMin(self, nums: List[int]) -> int:\n",
    "        left, right = 0, len(nums)\n",
    "        if nums[0] <= nums[-1]: return nums[0]\n",
    "        while left < right:\n",
    "            mid = (left + right) // 2\n",
    "            if nums[mid] >= nums[0]: left = mid + 1\n",
    "            else: right = mid\n",
    "        return nums[left]"
   ]
  },
  {
   "cell_type": "code",
   "execution_count": 6,
   "id": "9763c135-35a8-4d67-b972-38f84b10f992",
   "metadata": {},
   "outputs": [],
   "source": [
    "from typing import List\n",
    "class Solution:\n",
    "    def findMin(self, nums: List[int]) -> int:\n",
    "        left, right = 0, len(nums) - 1\n",
    "        while left < right:\n",
    "            mid = (left + right) // 2\n",
    "            if nums[mid] < nums[right]: right = mid\n",
    "            else: left = mid + 1\n",
    "        return nums[left]"
   ]
  },
  {
   "cell_type": "code",
   "execution_count": 11,
   "id": "a0b486b1-419d-4309-9d33-d6e67a4f4fd0",
   "metadata": {},
   "outputs": [],
   "source": [
    "nums = [3,4,5,1,2]"
   ]
  },
  {
   "cell_type": "code",
   "execution_count": 12,
   "id": "da5e0b4e-f519-4ac9-8de3-ab9eccbcddf8",
   "metadata": {},
   "outputs": [
    {
     "data": {
      "text/plain": [
       "4"
      ]
     },
     "execution_count": 12,
     "metadata": {},
     "output_type": "execute_result"
    }
   ],
   "source": [
    "s = Solution()\n",
    "s.findMin(nums)"
   ]
  },
  {
   "cell_type": "markdown",
   "id": "80b5621f-d4c3-4a07-a44d-9691a5dd47a1",
   "metadata": {},
   "source": [
    "## 162. 寻找峰值"
   ]
  },
  {
   "cell_type": "code",
   "execution_count": 87,
   "id": "6a34c6c5-60b3-47a6-bebc-4755107ea12c",
   "metadata": {},
   "outputs": [],
   "source": [
    "class Solution:\n",
    "    def findPeakElement(self, nums: List[int]) -> int:\n",
    "        n = len(nums)\n",
    "        left, right = 0, n - 1\n",
    "        getitem = lambda i: nums[i] if 0 <= i < n else float(\"-inf\") \n",
    "        while left <= right:\n",
    "            print(left, right)\n",
    "            mid = (left + right) // 2\n",
    "            l, m, r = getitem(mid - 1), getitem(mid), getitem(mid + 1)\n",
    "            if l < m > r: return mid\n",
    "            if m < r: left = mid + 1\n",
    "            else: right = mid - 1"
   ]
  },
  {
   "cell_type": "code",
   "execution_count": 88,
   "id": "ce888771-40d2-44e8-b6e7-09ad19771e01",
   "metadata": {},
   "outputs": [],
   "source": [
    "nums = [1]"
   ]
  },
  {
   "cell_type": "code",
   "execution_count": 89,
   "id": "9dc8e425-3582-49de-8511-9e7c9d8d1eb1",
   "metadata": {},
   "outputs": [
    {
     "name": "stdout",
     "output_type": "stream",
     "text": [
      "0 0\n"
     ]
    },
    {
     "data": {
      "text/plain": [
       "0"
      ]
     },
     "execution_count": 89,
     "metadata": {},
     "output_type": "execute_result"
    }
   ],
   "source": [
    "s = Solution()\n",
    "s.findPeakElement(nums)"
   ]
  },
  {
   "cell_type": "markdown",
   "id": "735d7f80-68fe-4a3e-9dad-0dc24656d700",
   "metadata": {},
   "source": [
    "# Day3"
   ]
  },
  {
   "cell_type": "markdown",
   "id": "39fa0fc9-0851-4efb-bf39-56500997b76c",
   "metadata": {},
   "source": [
    "## 82. 删除排序链表中的重复元素 Ⅱ"
   ]
  },
  {
   "cell_type": "code",
   "execution_count": 1,
   "id": "5c416236-06ee-44e5-a07f-979fa965d937",
   "metadata": {},
   "outputs": [],
   "source": [
    "# Definition for singly-linked list.\n",
    "class ListNode:\n",
    "    def __init__(self, val=0, next=None):\n",
    "        self.val = val\n",
    "        self.next = next"
   ]
  },
  {
   "cell_type": "code",
   "execution_count": 6,
   "id": "5a937e28-17fc-484e-a2de-fcdb4791d6fb",
   "metadata": {},
   "outputs": [],
   "source": [
    "from typing import Optional\n",
    "class Solution:\n",
    "    def deleteDuplicates(self, head: Optional[ListNode]) -> Optional[ListNode]:\n",
    "        dumb = ListNode()\n",
    "        dumb.next = head\n",
    "        pre, cur, nxt = dumb, head, head.next\n",
    "        while cur:\n",
    "            flag = 0\n",
    "            while nxt and cur.val == nxt.val:\n",
    "                flag = 1\n",
    "                nxt = nxt.next\n",
    "                if not nxt: break\n",
    "            if flag: pre.next, cur, nxt = nxt, nxt, nxt.next\n",
    "            pre, cur, nxt = pre.next, cur.next, nxt.next\n",
    "        return dumb.next"
   ]
  },
  {
   "cell_type": "markdown",
   "id": "757ccf3a-f65e-4d98-ba95-c869a292ed7e",
   "metadata": {},
   "source": [
    "## 15. 三数之和"
   ]
  },
  {
   "cell_type": "markdown",
   "id": "2135e8a7-f4ca-42cd-9968-8b1e03c334aa",
   "metadata": {},
   "source": [
    "最内层循环不要干太多事情"
   ]
  },
  {
   "cell_type": "code",
   "execution_count": 37,
   "id": "501c3aca-7cbd-4e93-836f-b17511842d50",
   "metadata": {},
   "outputs": [],
   "source": [
    "from typing import List\n",
    "class Solution:\n",
    "    def threeSum(self, nums: List[int]) -> List[List[int]]:\n",
    "        nums.sort()\n",
    "        # print(nums)\n",
    "        n, res = len(nums), []\n",
    "        for i in range(n):\n",
    "            if i and nums[i - 1] == nums[i]: continue\n",
    "            cur, k = nums[i], n - 1\n",
    "            for j in range(i + 1, n):\n",
    "                if j > i + 1 and nums[j - 1] == nums[j]: continue\n",
    "                ## 这部分的逻辑值得改进，在最内层的循环里引入了太多计算\n",
    "                while j < k:\n",
    "                    # print(j, k)\n",
    "                    jk = nums[j] + nums[k]\n",
    "                    if jk <= -cur: \n",
    "                        if jk == -cur: res.append([cur, nums[j], nums[k]])\n",
    "                        break\n",
    "                    k -= 1\n",
    "                ####\n",
    "        return res"
   ]
  },
  {
   "cell_type": "code",
   "execution_count": 41,
   "id": "2989f265-764f-464d-9bf0-45a56f5f8be6",
   "metadata": {},
   "outputs": [],
   "source": [
    "nums = [-1,0,1,2,-1,-4]"
   ]
  },
  {
   "cell_type": "code",
   "execution_count": 42,
   "id": "2c0dfdb8-cfe1-4768-9f5f-5088931394d1",
   "metadata": {},
   "outputs": [
    {
     "data": {
      "text/plain": [
       "[[-1, -1, 2], [-1, 0, 1]]"
      ]
     },
     "execution_count": 42,
     "metadata": {},
     "output_type": "execute_result"
    }
   ],
   "source": [
    "s = Solution()\n",
    "s.threeSum(nums)"
   ]
  },
  {
   "cell_type": "code",
   "execution_count": 43,
   "id": "d6abb1a2-ddf9-49d6-abb5-1cf193adb59e",
   "metadata": {},
   "outputs": [],
   "source": [
    "from typing import List\n",
    "class Solution:\n",
    "    def threeSum(self, nums: List[int]) -> List[List[int]]:\n",
    "        nums.sort()\n",
    "        # print(nums)\n",
    "        n, res = len(nums), []\n",
    "        for i in range(n):\n",
    "            if i and nums[i - 1] == nums[i]: continue\n",
    "            tgt, k = -nums[i], n - 1\n",
    "            for j in range(i + 1, n):\n",
    "                if j > i + 1 and nums[j - 1] == nums[j]: continue\n",
    "                # 枚举第三个参数有两个限制条件\n",
    "                while j < k and nums[j] + nums[k] > tgt: k -= 1\n",
    "                if j == k: break  # 找不到合适的解，直接跳出\n",
    "                if nums[j] + nums[k] == tgt:  # 有合适的解\n",
    "                    res.append([-tgt, nums[j], nums[k]])\n",
    "        return res"
   ]
  },
  {
   "cell_type": "markdown",
   "id": "ea1af3ba-2e95-492a-915a-221a21aeac14",
   "metadata": {},
   "source": [
    "# Day4"
   ]
  },
  {
   "cell_type": "markdown",
   "id": "50e1fdba-b6e8-4790-a824-09b0091c06b8",
   "metadata": {},
   "source": [
    "## 844. 比较含退格的字符串"
   ]
  },
  {
   "cell_type": "code",
   "execution_count": 53,
   "id": "3b35dafa-02fb-441a-89a7-e66141f7f395",
   "metadata": {},
   "outputs": [],
   "source": [
    "class Solution:\n",
    "    def backspaceCompare(self, s: str, t: str) -> bool:\n",
    "        def judge(s):\n",
    "            stk = []\n",
    "            for c in s:\n",
    "                if c != \"#\": stk.append(c)\n",
    "                elif c == \"#\" and stk: stk.pop()\n",
    "            return \"\".join(stk)\n",
    "        print(judge(s), judge(t))\n",
    "        return judge(s) == judge(t)"
   ]
  },
  {
   "cell_type": "code",
   "execution_count": 54,
   "id": "f412347d-f4fc-4647-9c35-7c7346294946",
   "metadata": {},
   "outputs": [],
   "source": [
    "s = \"y#fo##f\"\n",
    "t = \"y#f#o##f\""
   ]
  },
  {
   "cell_type": "code",
   "execution_count": 55,
   "id": "71c32120-594a-40a4-abed-a95573d118f5",
   "metadata": {},
   "outputs": [
    {
     "name": "stdout",
     "output_type": "stream",
     "text": [
      "f f\n"
     ]
    },
    {
     "data": {
      "text/plain": [
       "True"
      ]
     },
     "execution_count": 55,
     "metadata": {},
     "output_type": "execute_result"
    }
   ],
   "source": [
    "So = Solution()\n",
    "So.backspaceCompare(s, t)"
   ]
  },
  {
   "cell_type": "markdown",
   "id": "9060e847-c0d4-4341-8c7e-1443640d56ca",
   "metadata": {},
   "source": [
    "### 空间 O(1) 的双指针版本"
   ]
  },
  {
   "cell_type": "code",
   "execution_count": 1,
   "id": "bf63a490-47e6-47a5-b736-50cebcaf0018",
   "metadata": {},
   "outputs": [],
   "source": [
    "class Solution:\n",
    "    def backspaceCompare(self, S: str, T: str) -> bool:\n",
    "        i, j = len(S) - 1, len(T) - 1\n",
    "        skipS = skipT = 0\n",
    "\n",
    "        while i >= 0 or j >= 0:\n",
    "            while i >= 0:\n",
    "                if S[i] == \"#\":\n",
    "                    skipS += 1\n",
    "                    i -= 1\n",
    "                elif skipS > 0:\n",
    "                    skipS -= 1\n",
    "                    i -= 1\n",
    "                else:\n",
    "                    break\n",
    "            while j >= 0:\n",
    "                if T[j] == \"#\":\n",
    "                    skipT += 1\n",
    "                    j -= 1\n",
    "                elif skipT > 0:\n",
    "                    skipT -= 1\n",
    "                    j -= 1\n",
    "                else:\n",
    "                    break\n",
    "            if i >= 0 and j >= 0:\n",
    "                if S[i] != T[j]:\n",
    "                    return False\n",
    "            elif i >= 0 or j >= 0:\n",
    "                return False\n",
    "            i -= 1\n",
    "            j -= 1\n",
    "        \n",
    "        return True"
   ]
  },
  {
   "cell_type": "markdown",
   "id": "3340d4e2-27de-47c2-92ff-36651964ff35",
   "metadata": {},
   "source": [
    "## 986. 区间列表的交集"
   ]
  },
  {
   "cell_type": "code",
   "execution_count": 3,
   "id": "89eb9632-9349-4d70-8b6d-13bafad6b935",
   "metadata": {},
   "outputs": [],
   "source": [
    "from typing import List\n",
    "class Solution:\n",
    "    def intervalIntersection(self, firstList: List[List[int]], secondList: List[List[int]]) -> List[List[int]]:\n",
    "        def inter(s1, s2):\n",
    "            if s1[1] < s2[0] or s2[1] < s1[0]:\n",
    "                return\n",
    "            res = sorted([s1[0], s1[1], s2[0],s2[1]])\n",
    "            return res[1:3]\n",
    "        p1 = p2 = 0\n",
    "        m, n = len(firstList), len(secondList)\n",
    "        ans = []\n",
    "        while p1 < m and p2 < n:\n",
    "            cur = inter(firstList[p1], secondList[p2])\n",
    "            if cur: ans.append(cur)\n",
    "            if firstList[p1][1] >= secondList[p2][1]: p2 += 1\n",
    "            else: p1 += 1\n",
    "        return ans"
   ]
  },
  {
   "cell_type": "code",
   "execution_count": 9,
   "id": "f50fce00-9c1e-4704-a01e-a76f46954deb",
   "metadata": {},
   "outputs": [],
   "source": [
    "firstList = [[1,7]]\n",
    "secondList = [[3,10]]"
   ]
  },
  {
   "cell_type": "code",
   "execution_count": 10,
   "id": "689411db-8be6-4a40-ab86-34394ac72800",
   "metadata": {},
   "outputs": [
    {
     "data": {
      "text/plain": [
       "[[3, 7]]"
      ]
     },
     "execution_count": 10,
     "metadata": {},
     "output_type": "execute_result"
    }
   ],
   "source": [
    "s = Solution()\n",
    "s.intervalIntersection(firstList, secondList)"
   ]
  },
  {
   "cell_type": "markdown",
   "id": "c5084edd-7f2c-4ba7-9311-3518eea25bd5",
   "metadata": {},
   "source": [
    "## 11. 盛水最多的容器"
   ]
  },
  {
   "cell_type": "markdown",
   "id": "7b621dde-df4f-4631-9625-bdd500c9616b",
   "metadata": {},
   "source": [
    "> 贪心的正确性说明：（即使用每次都移动较小边界的策略）https://leetcode.cn/problems/container-with-most-water/solution/sheng-zui-duo-shui-de-rong-qi-by-leetcode-solution/  \n",
    "简要来说盛水的容量是由两个边界的距离及最小的那条边的高度确定的，假设当前左右两个边的高度为x, y，同时有 x <= y，且这两条边的距离为 t，不难看出，若保持最小边不动，那么当前的容量： min（y，x）* t 为后续所有情况中的最大值。因为决定容器高度的永远是最小边，而向左移动右边界只会使得 t 越来越小，因此后续的容量只会越来越小，所以在后续的遍历中必须每一步都舍弃最小边界，才能不断地获得当前情况下的最大值。"
   ]
  },
  {
   "cell_type": "code",
   "execution_count": 11,
   "id": "3a206002-a588-4ef2-b3fc-65fce56cfc29",
   "metadata": {},
   "outputs": [],
   "source": [
    "class Solution:\n",
    "    def maxArea(self, height: List[int]) -> int:\n",
    "        left, right, ans = 0, len(height) - 1, 0\n",
    "        while left < right:\n",
    "            h = min(height[left], height[right])\n",
    "            ans = max(ans, (right - left) * h)\n",
    "            if h == height[left]: left += 1\n",
    "            else: right -= 1\n",
    "        return ans"
   ]
  },
  {
   "cell_type": "markdown",
   "id": "978e0a82-073a-4061-aa7c-3c70d6633474",
   "metadata": {},
   "source": [
    "# Day5"
   ]
  },
  {
   "cell_type": "markdown",
   "id": "238a7c55-5e47-445c-8b4c-a316965872c2",
   "metadata": {},
   "source": [
    "## 438. 找到字符串中所有字母异位词"
   ]
  },
  {
   "cell_type": "code",
   "execution_count": 61,
   "id": "0a5cace9-5e75-4ca4-9caf-2fbcb28f6181",
   "metadata": {},
   "outputs": [],
   "source": [
    "from collections import Counter, defaultdict\n",
    "class Solution:\n",
    "    def findAnagrams(self, s: str, p: str) -> List[int]:\n",
    "        ans = []\n",
    "        ls, lp = len(s), len(p)\n",
    "        if ls < lp: return ans \n",
    "        cnt_s, cnt_p = Counter(s[:lp - 1]), Counter(p) \n",
    "        left, right = 0, lp - 1\n",
    "        while right < len(s):\n",
    "            cnt_s[s[right]] += 1\n",
    "            # print(cnt_s)\n",
    "            if cnt_s == cnt_p: ans.append(left)\n",
    "            cnt_s[s[left]] -= 1\n",
    "            if cnt_s[s[left]] == 0: del(cnt_s[s[left]])\n",
    "            left, right = left + 1, right + 1\n",
    "        return ans"
   ]
  },
  {
   "cell_type": "code",
   "execution_count": 70,
   "id": "2da2668e-97d8-47fe-af98-09974bfc6852",
   "metadata": {},
   "outputs": [],
   "source": [
    "s = \"ccc\"\n",
    "p = \"c\""
   ]
  },
  {
   "cell_type": "code",
   "execution_count": 71,
   "id": "99ccd0a1-f5e3-4aa0-ba77-cbf2ccb9adff",
   "metadata": {},
   "outputs": [
    {
     "data": {
      "text/plain": [
       "[0, 1, 2]"
      ]
     },
     "execution_count": 71,
     "metadata": {},
     "output_type": "execute_result"
    }
   ],
   "source": [
    "S = Solution()\n",
    "S.findAnagrams(s, p)"
   ]
  },
  {
   "cell_type": "markdown",
   "id": "f99536b9-971e-4e24-b90f-85069c464b55",
   "metadata": {},
   "source": [
    "## 713. 乘积小于k的子数组"
   ]
  },
  {
   "cell_type": "code",
   "execution_count": 2,
   "id": "1d084dd8-d619-4c49-a581-d4114b7fdb85",
   "metadata": {},
   "outputs": [],
   "source": [
    "from typing import List\n",
    "class Solution:\n",
    "    def numSubarrayProductLessThanK(self, nums: List[int], k: int) -> int:\n",
    "        ans, prod, i = 0, 1, 0\n",
    "        for j, num in enumerate(nums):\n",
    "            prod *= num\n",
    "            while i <= j and prod >= k:\n",
    "                prod //= nums[i]\n",
    "                i += 1\n",
    "            ans += j - i + 1  # 对于固定左端点的所有符合要求的子数组个数\n",
    "        return ans"
   ]
  },
  {
   "cell_type": "code",
   "execution_count": 4,
   "id": "14c19f0e-a907-49a0-b433-a3c8f353591e",
   "metadata": {},
   "outputs": [],
   "source": [
    "class Solution:\n",
    "    def numSubarrayProductLessThanK(self, nums: List[int], k: int) -> int:\n",
    "        left, cur, ans = 0, 1, 0\n",
    "        for i, n in enumerate(nums):\n",
    "            cur *= n\n",
    "            while left <= i and cur >= k:  # 考虑 k 可能为 0 的情况\n",
    "                cur //= nums[left]\n",
    "                left += 1\n",
    "            ans += i - left + 1\n",
    "        return ans"
   ]
  },
  {
   "cell_type": "markdown",
   "id": "b171e7d9-6214-48ae-899e-21fb2d27919e",
   "metadata": {},
   "source": [
    "## 209. 长度最小的子数组"
   ]
  },
  {
   "cell_type": "markdown",
   "id": "9f0f66ce-91ae-42b9-b2df-f01845a71772",
   "metadata": {},
   "source": [
    "### 滑窗"
   ]
  },
  {
   "cell_type": "code",
   "execution_count": 5,
   "id": "9be8a932-82dc-4222-a2ab-18faaf264c9b",
   "metadata": {},
   "outputs": [],
   "source": [
    "class Solution:\n",
    "    def minSubArrayLen(self, target: int, nums: List[int]) -> int:\n",
    "        left, cur, ans = 0, 0, float(\"inf\")\n",
    "        for i, n in enumerate(nums):\n",
    "            cur += n\n",
    "            while left <= i and cur >= target:\n",
    "                ans = min(ans, i - left + 1)\n",
    "                cur -= nums[left]\n",
    "                left += 1\n",
    "        return 0 if ans == float(\"inf\") else ans"
   ]
  },
  {
   "cell_type": "markdown",
   "id": "2a6490e8-3cbf-48d6-bee2-3e0da8a78106",
   "metadata": {},
   "source": [
    "### 前缀和 + 二分"
   ]
  },
  {
   "cell_type": "code",
   "execution_count": 10,
   "id": "cb7bc5c2-d8cb-4ec6-b2d2-e8c22a243432",
   "metadata": {},
   "outputs": [],
   "source": [
    "class Solution:\n",
    "    def minSubArrayLen(self, s: int, nums: List[int]) -> int:\n",
    "        if not nums: return 0\n",
    "        n = len(nums)\n",
    "        ans = n + 1\n",
    "        sums = [0]\n",
    "        \n",
    "        for i in range(n):\n",
    "            sums.append(sums[-1] + nums[i])\n",
    "        \n",
    "        for i in range(1, n + 1):\n",
    "            target = s + sums[i - 1]\n",
    "            bound = bisect.bisect_left(sums, target)\n",
    "            if bound != len(sums):\n",
    "                ans = min(ans, bound - (i - 1))\n",
    "        \n",
    "        return 0 if ans == n + 1 else ans"
   ]
  },
  {
   "cell_type": "markdown",
   "id": "89bc42af-df09-41fd-81a9-f28352a98727",
   "metadata": {},
   "source": [
    "# Day6"
   ]
  },
  {
   "cell_type": "markdown",
   "id": "372f8965-40e1-4dcc-a9e2-dc8766997f47",
   "metadata": {},
   "source": [
    "## 200. 岛屿数量"
   ]
  },
  {
   "cell_type": "markdown",
   "id": "c5a52eab-ff3b-4320-a6bc-c3757e22235c",
   "metadata": {},
   "source": [
    "### DFS"
   ]
  },
  {
   "cell_type": "code",
   "execution_count": 13,
   "id": "7576dadb-d424-4e70-9c0b-753351c2ce22",
   "metadata": {},
   "outputs": [],
   "source": [
    "class Solution:\n",
    "    def numIslands(self, grid: List[List[str]]) -> int:\n",
    "        def dfs(r, c):\n",
    "            for dr, dc in ((0, 1), (0, -1), (1, 0), (-1, 0)):\n",
    "                nr, nc = r + dr, c + dc\n",
    "                if 0 <= nr < m and 0 <= nc < n and grid[nr][nc] == \"1\":\n",
    "                    grid[nr][nc] = \"0\"\n",
    "                    dfs(nr, nc)\n",
    "        cnt = 0\n",
    "        m, n = len(grid), len(grid[0])\n",
    "        for i in range(m):\n",
    "            for j in range(n):\n",
    "                if grid[i][j] == \"1\":\n",
    "                    cnt += 1\n",
    "                    dfs(i, j)\n",
    "        return cnt"
   ]
  },
  {
   "cell_type": "markdown",
   "id": "ec15aaea-ad7b-44b9-a666-f30d1f53e7b2",
   "metadata": {},
   "source": [
    "### 并查集"
   ]
  },
  {
   "cell_type": "code",
   "execution_count": 28,
   "id": "e1724ea3-2004-41f5-89ff-b0304a01f758",
   "metadata": {},
   "outputs": [],
   "source": [
    "class UnionFind:\n",
    "    def __init__(self, grid):\n",
    "        m, n = len(grid), len(grid[0])\n",
    "        self.count = 0\n",
    "        self.parent = [-1] * (m * n)\n",
    "        self.rank = [0] * (m * n)\n",
    "        for i in range(m):\n",
    "            for j in range(n):\n",
    "                if grid[i][j] == \"1\":\n",
    "                    self.parent[i * n + j] = i * n + j\n",
    "                    self.count += 1\n",
    "    \n",
    "    def find(self, i):\n",
    "        if self.parent[i] != i:\n",
    "            self.parent[i] = self.find(self.parent[i])\n",
    "        return self.parent[i]\n",
    "    \n",
    "    def union(self, x, y):\n",
    "        rootx = self.find(x)\n",
    "        rooty = self.find(y)\n",
    "        if rootx != rooty:\n",
    "            if self.rank[rootx] < self.rank[rooty]:\n",
    "                rootx, rooty = rooty, rootx\n",
    "            self.parent[rooty] = rootx\n",
    "            if self.rank[rootx] == self.rank[rooty]:\n",
    "                self.rank[rootx] += 1\n",
    "            self.count -= 1\n",
    "    \n",
    "    def getCount(self):\n",
    "        return self.count\n",
    "\n",
    "class Solution:\n",
    "    def numIslands(self, grid: List[List[str]]) -> int:\n",
    "        nr = len(grid)\n",
    "        if nr == 0:\n",
    "            return 0\n",
    "        nc = len(grid[0])\n",
    "\n",
    "        uf = UnionFind(grid)\n",
    "        num_islands = 0\n",
    "        for r in range(nr):\n",
    "            for c in range(nc):\n",
    "                if grid[r][c] == \"1\":\n",
    "                    grid[r][c] = \"0\"\n",
    "                    for x, y in [(r - 1, c), (r + 1, c), (r, c - 1), (r, c + 1)]:\n",
    "                        # 每进行一次 union，就说明有一块陆地属于一个岛屿，count减一，最后的count就代表岛屿数量\n",
    "                        if 0 <= x < nr and 0 <= y < nc and grid[x][y] == \"1\":\n",
    "                            uf.union(r * nc + c, x * nc + y)\n",
    "        \n",
    "        return uf.getCount()"
   ]
  },
  {
   "cell_type": "markdown",
   "id": "e4e93766-c12f-4d6b-b6da-6819f3263680",
   "metadata": {},
   "source": [
    "## 547. 省份数量"
   ]
  },
  {
   "cell_type": "code",
   "execution_count": 29,
   "id": "9fc3f870-fb3c-4a1c-80ce-efead300a091",
   "metadata": {},
   "outputs": [],
   "source": [
    "class UF:\n",
    "    def __init__(self, n):\n",
    "        self.fa = [i for i in range(n)]\n",
    "        self.rank = [1] * n\n",
    "    \n",
    "    def find(self, x):\n",
    "        if self.fa[x] != x:\n",
    "            self.fa[x] = self.find(self.fa[x])\n",
    "        return self.fa[x]\n",
    "    \n",
    "    def union(self, x, y):\n",
    "        fx, fy = self.find(x), self.find(y)\n",
    "        if fx != fy:\n",
    "            if self.rank[fx] > self.rank[fy]:\n",
    "                fx, fy = fy, fx\n",
    "            self.fa[fx] = fy\n",
    "            if self.rank[fx] == self.rank[fy]: self.rank[fy] += 1\n",
    "\n",
    "class Solution:\n",
    "    def findCircleNum(self, isConnected: List[List[int]]) -> int:\n",
    "        n = len(isConnected)\n",
    "        uf = UF(n)\n",
    "        for i in range(n - 1):\n",
    "            for j in range(i + 1, n):\n",
    "                if isConnected[i][j]:\n",
    "                    uf.union(i, j)\n",
    "        return sum(uf.fa[i] == i for i in range(n))"
   ]
  },
  {
   "cell_type": "markdown",
   "id": "01fe9358-adb5-4f1d-b534-2f92ffd5d3c3",
   "metadata": {},
   "source": [
    "# Day7"
   ]
  },
  {
   "cell_type": "markdown",
   "id": "6ad567b2-cf0a-44f2-918f-63c2787c2666",
   "metadata": {},
   "source": [
    "## 117. 填充每个节点的下一个右侧节点指针Ⅱ"
   ]
  },
  {
   "cell_type": "code",
   "execution_count": 30,
   "id": "e3ff157d-d0d8-4866-a89f-664423889f2a",
   "metadata": {},
   "outputs": [],
   "source": [
    "# Definition for a Node.\n",
    "class Node:\n",
    "    def __init__(self, val: int = 0, left: 'Node' = None, right: 'Node' = None, next: 'Node' = None):\n",
    "        self.val = val\n",
    "        self.left = left\n",
    "        self.right = right\n",
    "        self.next = next"
   ]
  },
  {
   "cell_type": "code",
   "execution_count": 35,
   "id": "d6b64e53-f8a3-4beb-a3d3-e45b1607b12f",
   "metadata": {},
   "outputs": [],
   "source": [
    "from collections import deque\n",
    "class Solution:\n",
    "    def connect(self, root: 'Node') -> 'Node':\n",
    "        queue = deque([(None, root)])\n",
    "        while queue:\n",
    "            fa, cur = queue.popleft()\n",
    "            if cur.left: queue.append((cur, cur.left))\n",
    "            if cur.right: queue.append((cur, cur.right))\n",
    "            if not fa: continue\n",
    "            if fa.left == cur and fa.right:\n",
    "                cur.next = fa.right\n",
    "            else:\n",
    "                uncle = fa.next\n",
    "                while uncle and not uncle.left and not uncle.right:\n",
    "                    uncle = uncle.next\n",
    "                if uncle:\n",
    "                    if uncle.left: cur.next = uncle.left\n",
    "                    else: cur.next = uncle.right\n",
    "        return root"
   ]
  },
  {
   "cell_type": "code",
   "execution_count": null,
   "id": "54bbfdd7-3c7e-4c47-90a5-94de6503747a",
   "metadata": {},
   "outputs": [],
   "source": []
  },
  {
   "cell_type": "code",
   "execution_count": null,
   "id": "67e26e6c-2318-40e9-a47c-c43fe770f645",
   "metadata": {},
   "outputs": [],
   "source": []
  },
  {
   "cell_type": "code",
   "execution_count": null,
   "id": "7e8128ee-eea4-41f0-a4d5-d153e963aeb5",
   "metadata": {},
   "outputs": [],
   "source": []
  },
  {
   "cell_type": "code",
   "execution_count": null,
   "id": "5f7b57fd-96cd-4b7a-ae5d-2f0f536a4c13",
   "metadata": {},
   "outputs": [],
   "source": []
  },
  {
   "cell_type": "code",
   "execution_count": null,
   "id": "ca8fa2ca-52c0-4591-bc8f-52841ca88909",
   "metadata": {},
   "outputs": [],
   "source": []
  },
  {
   "cell_type": "code",
   "execution_count": null,
   "id": "4cc5c6a4-1821-48af-b382-9dfbca0a8da5",
   "metadata": {},
   "outputs": [],
   "source": []
  },
  {
   "cell_type": "code",
   "execution_count": null,
   "id": "199a5839-4eb3-4673-a9ff-a6d42830c0b7",
   "metadata": {},
   "outputs": [],
   "source": []
  },
  {
   "cell_type": "code",
   "execution_count": null,
   "id": "082835ef-61b0-40e8-a6cd-e05e6afc7c34",
   "metadata": {},
   "outputs": [],
   "source": []
  },
  {
   "cell_type": "code",
   "execution_count": null,
   "id": "fbbb8c3c-0889-44c4-9653-2b1c480b1abd",
   "metadata": {},
   "outputs": [],
   "source": []
  },
  {
   "cell_type": "code",
   "execution_count": null,
   "id": "731e62c0-a993-4c9a-b435-c3887ba28574",
   "metadata": {},
   "outputs": [],
   "source": []
  },
  {
   "cell_type": "code",
   "execution_count": null,
   "id": "2e0ad13c-af42-43e4-b327-63076c4ce2bb",
   "metadata": {},
   "outputs": [],
   "source": []
  },
  {
   "cell_type": "code",
   "execution_count": null,
   "id": "17c15649-91cf-4094-9d35-f0df7b06f6d9",
   "metadata": {},
   "outputs": [],
   "source": []
  },
  {
   "cell_type": "code",
   "execution_count": null,
   "id": "07dfe3ba-b6bb-48ea-b143-032f772d886d",
   "metadata": {},
   "outputs": [],
   "source": []
  },
  {
   "cell_type": "code",
   "execution_count": null,
   "id": "04be3e70-8c1f-44f5-b2a5-a6e6a42d039c",
   "metadata": {},
   "outputs": [],
   "source": []
  },
  {
   "cell_type": "code",
   "execution_count": null,
   "id": "d7b65b30-8879-4c7e-8f42-90b5f7f63b31",
   "metadata": {},
   "outputs": [],
   "source": []
  },
  {
   "cell_type": "code",
   "execution_count": null,
   "id": "b49ed829-db8e-4e06-a7a6-85b95fb9f6a5",
   "metadata": {},
   "outputs": [],
   "source": []
  },
  {
   "cell_type": "code",
   "execution_count": null,
   "id": "28d1d269-c5e2-4acb-a733-b098af52f334",
   "metadata": {},
   "outputs": [],
   "source": []
  },
  {
   "cell_type": "code",
   "execution_count": null,
   "id": "578149df-fd93-4a4e-811b-9e7893bfce05",
   "metadata": {},
   "outputs": [],
   "source": []
  },
  {
   "cell_type": "code",
   "execution_count": null,
   "id": "47c965a1-3329-4a2f-9095-fb51f61f440f",
   "metadata": {},
   "outputs": [],
   "source": []
  },
  {
   "cell_type": "code",
   "execution_count": null,
   "id": "0a6b4ffc-ed32-47a5-8961-43f602e72649",
   "metadata": {},
   "outputs": [],
   "source": []
  },
  {
   "cell_type": "code",
   "execution_count": null,
   "id": "91977482-98c8-46c7-8a11-2527b0958d9a",
   "metadata": {},
   "outputs": [],
   "source": []
  },
  {
   "cell_type": "code",
   "execution_count": null,
   "id": "cac78e97-faa6-4037-8671-e3437a1b3f13",
   "metadata": {},
   "outputs": [],
   "source": []
  },
  {
   "cell_type": "code",
   "execution_count": null,
   "id": "d9053e8b-abe6-4cde-bcd1-5743a2cdbc37",
   "metadata": {},
   "outputs": [],
   "source": []
  },
  {
   "cell_type": "code",
   "execution_count": null,
   "id": "0ec0ab52-2aac-4d08-b2e6-6540e51e8541",
   "metadata": {},
   "outputs": [],
   "source": []
  },
  {
   "cell_type": "code",
   "execution_count": null,
   "id": "c108a2eb-7fe5-4cd2-8096-d4f23cbaa2c8",
   "metadata": {},
   "outputs": [],
   "source": []
  },
  {
   "cell_type": "code",
   "execution_count": null,
   "id": "a3cedffc-3973-4093-a533-d1e45d45cdc3",
   "metadata": {},
   "outputs": [],
   "source": []
  }
 ],
 "metadata": {
  "kernelspec": {
   "display_name": "Python 3 (ipykernel)",
   "language": "python",
   "name": "python3"
  },
  "language_info": {
   "codemirror_mode": {
    "name": "ipython",
    "version": 3
   },
   "file_extension": ".py",
   "mimetype": "text/x-python",
   "name": "python",
   "nbconvert_exporter": "python",
   "pygments_lexer": "ipython3",
   "version": "3.6.3"
  }
 },
 "nbformat": 4,
 "nbformat_minor": 5
}
