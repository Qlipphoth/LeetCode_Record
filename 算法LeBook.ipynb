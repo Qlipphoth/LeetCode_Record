{
 "cells": [
  {
   "cell_type": "markdown",
   "id": "6c97e53c-ed78-400f-8415-d748c153c46d",
   "metadata": {},
   "source": [
    "# Day1 二分查找"
   ]
  },
  {
   "cell_type": "markdown",
   "id": "9b0319c0-82f0-424c-9151-4b7f48a485de",
   "metadata": {},
   "source": [
    "## 34. 在排序数组中查找元素的第一个和最后一个位置"
   ]
  },
  {
   "cell_type": "code",
   "execution_count": 45,
   "id": "2e10a581-ef04-4c54-806c-7066551c0aa4",
   "metadata": {},
   "outputs": [],
   "source": [
    "from typing import List\n",
    "class Solution:\n",
    "    def searchRange(self, nums: List[int], target: int) -> List[int]:\n",
    "        def bisect_left(a, x):\n",
    "            l, r = 0, len(a)\n",
    "            while l < r:\n",
    "                mid = (l + r) // 2\n",
    "                # 由于是左查找，因此最后一定要停在第一个大于等于 x 的数字的 idx\n",
    "                # 因此要先判断不符合的情况，如果 mid 小于 x 的话直接从 mid + 1 开始向右搜\n",
    "                # 但是针对 mid 大于等于 x 的情况则不能舍弃这个 mid，因此要以 mid 为右边界而不是 mid - 1\n",
    "                # 另。由于 // 取得是下界，因此 l 必须要为 mid + 1，否则会陷入循环，因此无论是左搜还是右搜都要设计使得\n",
    "                # l = mid + 1 的条件\n",
    "                if a[mid] < x: l = mid + 1\n",
    "                else: r = mid\n",
    "            return l\n",
    "        def bisect_right(a, x):\n",
    "            l, r = 0, len(a)\n",
    "            while l < r:\n",
    "                mid = (l + r) // 2\n",
    "                if a[mid] <= x: l = mid + 1\n",
    "                else: r = mid\n",
    "            return l\n",
    "        a, b = bisect_left(nums, target), bisect_right(nums, target)\n",
    "        # 特判是精髓，bisectleft返回的idx一定是原数组中最接近 x 的那个数字的 idx，除非当前数组的所有数字均小于 x\n",
    "        # 此时会插在最后一个位置，会越界，因此要用 min 来特判\n",
    "        if not nums or nums[min(a, len(nums) - 1)] != target: return [-1, -1]\n",
    "        return [a, b - 1]"
   ]
  },
  {
   "cell_type": "code",
   "execution_count": 46,
   "id": "d9c6d21c-1dd4-4d88-a99d-5627b19cf2d1",
   "metadata": {},
   "outputs": [],
   "source": [
    "nums = [5,7,7,8,8,10]\n",
    "target = 8"
   ]
  },
  {
   "cell_type": "code",
   "execution_count": 47,
   "id": "634b212b-129e-466b-9f73-9bcb57afc7dd",
   "metadata": {},
   "outputs": [
    {
     "data": {
      "text/plain": [
       "[3, 4]"
      ]
     },
     "execution_count": 47,
     "metadata": {},
     "output_type": "execute_result"
    }
   ],
   "source": [
    "s = Solution()\n",
    "s.searchRange(nums, target)"
   ]
  },
  {
   "cell_type": "markdown",
   "id": "6cd3e8b6-464a-4448-beff-d6bd5cc60243",
   "metadata": {},
   "source": [
    "## 33. 搜索旋转排序数组"
   ]
  },
  {
   "cell_type": "code",
   "execution_count": 103,
   "id": "a14619ec-249f-405e-8e4c-869da03bf2ae",
   "metadata": {},
   "outputs": [],
   "source": [
    "class Solution:\n",
    "    def search(self, nums: List[int], target: int) -> int:\n",
    "        l, r = 0, len(nums) - 1\n",
    "        while l <= r:\n",
    "            print(l, r)\n",
    "            mid = (l + r) // 2\n",
    "            if nums[mid] == target:\n",
    "                return mid\n",
    "            # 分成四种情况\n",
    "            if nums[0] <= target:  # 在左半段搜\n",
    "                # 注意这里要加一个等号，以考虑恰好搜到第一个数字的情况，此时还是向右搜\n",
    "                if nums[0] <= nums[mid] < target:\n",
    "                    l = mid + 1\n",
    "                else: r = mid - 1\n",
    "            else:  # 在右半段搜\n",
    "                if target < nums[mid] < nums[0]:\n",
    "                    r = mid - 1\n",
    "                else: l = mid + 1\n",
    "        return -1"
   ]
  },
  {
   "cell_type": "code",
   "execution_count": 104,
   "id": "823edea4-9df4-4cf0-bab2-4b3297758d87",
   "metadata": {},
   "outputs": [],
   "source": [
    "nums = [1, 3]\n",
    "target = 3"
   ]
  },
  {
   "cell_type": "code",
   "execution_count": 105,
   "id": "57418d2b-f5d3-4646-a59b-fc0f7f6711c1",
   "metadata": {},
   "outputs": [
    {
     "name": "stdout",
     "output_type": "stream",
     "text": [
      "0 1\n",
      "1 1\n"
     ]
    },
    {
     "data": {
      "text/plain": [
       "1"
      ]
     },
     "execution_count": 105,
     "metadata": {},
     "output_type": "execute_result"
    }
   ],
   "source": [
    "s = Solution()\n",
    "s.search(nums, target)"
   ]
  },
  {
   "cell_type": "markdown",
   "id": "da0abe8e-4454-4fea-a76b-fa0a594bfdf1",
   "metadata": {},
   "source": [
    "## 74. 搜索二维矩阵"
   ]
  },
  {
   "cell_type": "code",
   "execution_count": 211,
   "id": "763b9350-6a04-48e2-8f06-6e50da744f57",
   "metadata": {},
   "outputs": [],
   "source": [
    "class Solution:\n",
    "    def searchMatrix(self, matrix: List[List[int]], target: int) -> bool:\n",
    "        m, n = len(matrix), len(matrix[0])\n",
    "        left, right = 0, m * n\n",
    "        while left < right:\n",
    "            # print(left, right)\n",
    "            mid = (left + right) // 2\n",
    "            r, c = divmod(mid, n)\n",
    "            # print(\"**\", r, c, matrix[r][c])\n",
    "            if matrix[r][c] == target: return True\n",
    "            elif matrix[r][c] > target: right = mid\n",
    "            else: left = mid + 1\n",
    "            # print(\"***\", left, right)\n",
    "        return False"
   ]
  },
  {
   "cell_type": "code",
   "execution_count": 216,
   "id": "c714e5ad-f0b9-4fa9-aa4a-f7d6512aa2e8",
   "metadata": {},
   "outputs": [],
   "source": [
    "matrix = [[1]]\n",
    "target = 0"
   ]
  },
  {
   "cell_type": "code",
   "execution_count": 217,
   "id": "b474f454-5680-4913-8ec0-5c4c6104617f",
   "metadata": {},
   "outputs": [
    {
     "data": {
      "text/plain": [
       "False"
      ]
     },
     "execution_count": 217,
     "metadata": {},
     "output_type": "execute_result"
    }
   ],
   "source": [
    "s = Solution()\n",
    "s.searchMatrix(matrix, target)"
   ]
  },
  {
   "cell_type": "markdown",
   "id": "7122cf71-afe5-4b3d-8315-6d19c2538207",
   "metadata": {},
   "source": [
    "# Day2 "
   ]
  },
  {
   "cell_type": "markdown",
   "id": "479e4756-e215-4975-bf06-162a669ab49a",
   "metadata": {},
   "source": [
    "## 153. 寻找旋转排序数组中的最小值"
   ]
  },
  {
   "cell_type": "code",
   "execution_count": 3,
   "id": "4cee5ec5-bd2a-4f70-8739-56145e71f4df",
   "metadata": {},
   "outputs": [],
   "source": [
    "from typing import List\n",
    "class Solution:\n",
    "    def findMin(self, nums: List[int]) -> int:\n",
    "        left, right = 0, len(nums)\n",
    "        if nums[0] <= nums[-1]: return nums[0]\n",
    "        while left < right:\n",
    "            mid = (left + right) // 2\n",
    "            if nums[mid] >= nums[0]: left = mid + 1\n",
    "            else: right = mid\n",
    "        return nums[left]"
   ]
  },
  {
   "cell_type": "code",
   "execution_count": 6,
   "id": "9763c135-35a8-4d67-b972-38f84b10f992",
   "metadata": {},
   "outputs": [],
   "source": [
    "from typing import List\n",
    "class Solution:\n",
    "    def findMin(self, nums: List[int]) -> int:\n",
    "        left, right = 0, len(nums) - 1\n",
    "        while left < right:\n",
    "            mid = (left + right) // 2\n",
    "            if nums[mid] < nums[right]: right = mid\n",
    "            else: left = mid + 1\n",
    "        return nums[left]"
   ]
  },
  {
   "cell_type": "code",
   "execution_count": 11,
   "id": "a0b486b1-419d-4309-9d33-d6e67a4f4fd0",
   "metadata": {},
   "outputs": [],
   "source": [
    "nums = [3,4,5,1,2]"
   ]
  },
  {
   "cell_type": "code",
   "execution_count": 12,
   "id": "da5e0b4e-f519-4ac9-8de3-ab9eccbcddf8",
   "metadata": {},
   "outputs": [
    {
     "data": {
      "text/plain": [
       "4"
      ]
     },
     "execution_count": 12,
     "metadata": {},
     "output_type": "execute_result"
    }
   ],
   "source": [
    "s = Solution()\n",
    "s.findMin(nums)"
   ]
  },
  {
   "cell_type": "markdown",
   "id": "80b5621f-d4c3-4a07-a44d-9691a5dd47a1",
   "metadata": {},
   "source": [
    "## 162. 寻找峰值"
   ]
  },
  {
   "cell_type": "code",
   "execution_count": 87,
   "id": "6a34c6c5-60b3-47a6-bebc-4755107ea12c",
   "metadata": {},
   "outputs": [],
   "source": [
    "class Solution:\n",
    "    def findPeakElement(self, nums: List[int]) -> int:\n",
    "        n = len(nums)\n",
    "        left, right = 0, n - 1\n",
    "        getitem = lambda i: nums[i] if 0 <= i < n else float(\"-inf\") \n",
    "        while left <= right:\n",
    "            print(left, right)\n",
    "            mid = (left + right) // 2\n",
    "            l, m, r = getitem(mid - 1), getitem(mid), getitem(mid + 1)\n",
    "            if l < m > r: return mid\n",
    "            if m < r: left = mid + 1\n",
    "            else: right = mid - 1"
   ]
  },
  {
   "cell_type": "code",
   "execution_count": 88,
   "id": "ce888771-40d2-44e8-b6e7-09ad19771e01",
   "metadata": {},
   "outputs": [],
   "source": [
    "nums = [1]"
   ]
  },
  {
   "cell_type": "code",
   "execution_count": 89,
   "id": "9dc8e425-3582-49de-8511-9e7c9d8d1eb1",
   "metadata": {},
   "outputs": [
    {
     "name": "stdout",
     "output_type": "stream",
     "text": [
      "0 0\n"
     ]
    },
    {
     "data": {
      "text/plain": [
       "0"
      ]
     },
     "execution_count": 89,
     "metadata": {},
     "output_type": "execute_result"
    }
   ],
   "source": [
    "s = Solution()\n",
    "s.findPeakElement(nums)"
   ]
  },
  {
   "cell_type": "markdown",
   "id": "735d7f80-68fe-4a3e-9dad-0dc24656d700",
   "metadata": {},
   "source": [
    "# Day3"
   ]
  },
  {
   "cell_type": "markdown",
   "id": "39fa0fc9-0851-4efb-bf39-56500997b76c",
   "metadata": {},
   "source": [
    "## 82. 删除排序链表中的重复元素 Ⅱ"
   ]
  },
  {
   "cell_type": "code",
   "execution_count": 1,
   "id": "5c416236-06ee-44e5-a07f-979fa965d937",
   "metadata": {},
   "outputs": [],
   "source": [
    "# Definition for singly-linked list.\n",
    "class ListNode:\n",
    "    def __init__(self, val=0, next=None):\n",
    "        self.val = val\n",
    "        self.next = next"
   ]
  },
  {
   "cell_type": "code",
   "execution_count": 6,
   "id": "5a937e28-17fc-484e-a2de-fcdb4791d6fb",
   "metadata": {},
   "outputs": [],
   "source": [
    "from typing import Optional\n",
    "class Solution:\n",
    "    def deleteDuplicates(self, head: Optional[ListNode]) -> Optional[ListNode]:\n",
    "        dumb = ListNode()\n",
    "        dumb.next = head\n",
    "        pre, cur, nxt = dumb, head, head.next\n",
    "        while cur:\n",
    "            flag = 0\n",
    "            while nxt and cur.val == nxt.val:\n",
    "                flag = 1\n",
    "                nxt = nxt.next\n",
    "                if not nxt: break\n",
    "            if flag: pre.next, cur, nxt = nxt, nxt, nxt.next\n",
    "            pre, cur, nxt = pre.next, cur.next, nxt.next\n",
    "        return dumb.next"
   ]
  },
  {
   "cell_type": "markdown",
   "id": "757ccf3a-f65e-4d98-ba95-c869a292ed7e",
   "metadata": {},
   "source": [
    "## 15. 三数之和"
   ]
  },
  {
   "cell_type": "markdown",
   "id": "2135e8a7-f4ca-42cd-9968-8b1e03c334aa",
   "metadata": {},
   "source": [
    "最内层循环不要干太多事情"
   ]
  },
  {
   "cell_type": "code",
   "execution_count": 37,
   "id": "501c3aca-7cbd-4e93-836f-b17511842d50",
   "metadata": {},
   "outputs": [],
   "source": [
    "from typing import List\n",
    "class Solution:\n",
    "    def threeSum(self, nums: List[int]) -> List[List[int]]:\n",
    "        nums.sort()\n",
    "        # print(nums)\n",
    "        n, res = len(nums), []\n",
    "        for i in range(n):\n",
    "            if i and nums[i - 1] == nums[i]: continue\n",
    "            cur, k = nums[i], n - 1\n",
    "            for j in range(i + 1, n):\n",
    "                if j > i + 1 and nums[j - 1] == nums[j]: continue\n",
    "                ## 这部分的逻辑值得改进，在最内层的循环里引入了太多计算\n",
    "                while j < k:\n",
    "                    # print(j, k)\n",
    "                    jk = nums[j] + nums[k]\n",
    "                    if jk <= -cur: \n",
    "                        if jk == -cur: res.append([cur, nums[j], nums[k]])\n",
    "                        break\n",
    "                    k -= 1\n",
    "                ####\n",
    "        return res"
   ]
  },
  {
   "cell_type": "code",
   "execution_count": 41,
   "id": "2989f265-764f-464d-9bf0-45a56f5f8be6",
   "metadata": {},
   "outputs": [],
   "source": [
    "nums = [-1,0,1,2,-1,-4]"
   ]
  },
  {
   "cell_type": "code",
   "execution_count": 42,
   "id": "2c0dfdb8-cfe1-4768-9f5f-5088931394d1",
   "metadata": {},
   "outputs": [
    {
     "data": {
      "text/plain": [
       "[[-1, -1, 2], [-1, 0, 1]]"
      ]
     },
     "execution_count": 42,
     "metadata": {},
     "output_type": "execute_result"
    }
   ],
   "source": [
    "s = Solution()\n",
    "s.threeSum(nums)"
   ]
  },
  {
   "cell_type": "code",
   "execution_count": 43,
   "id": "d6abb1a2-ddf9-49d6-abb5-1cf193adb59e",
   "metadata": {},
   "outputs": [],
   "source": [
    "from typing import List\n",
    "class Solution:\n",
    "    def threeSum(self, nums: List[int]) -> List[List[int]]:\n",
    "        nums.sort()\n",
    "        # print(nums)\n",
    "        n, res = len(nums), []\n",
    "        for i in range(n):\n",
    "            if i and nums[i - 1] == nums[i]: continue\n",
    "            tgt, k = -nums[i], n - 1\n",
    "            for j in range(i + 1, n):\n",
    "                if j > i + 1 and nums[j - 1] == nums[j]: continue\n",
    "                # 枚举第三个参数有两个限制条件\n",
    "                while j < k and nums[j] + nums[k] > tgt: k -= 1\n",
    "                if j == k: break  # 找不到合适的解，直接跳出\n",
    "                if nums[j] + nums[k] == tgt:  # 有合适的解\n",
    "                    res.append([-tgt, nums[j], nums[k]])\n",
    "        return res"
   ]
  },
  {
   "cell_type": "markdown",
   "id": "ea1af3ba-2e95-492a-915a-221a21aeac14",
   "metadata": {},
   "source": [
    "# Day4"
   ]
  },
  {
   "cell_type": "markdown",
   "id": "50e1fdba-b6e8-4790-a824-09b0091c06b8",
   "metadata": {},
   "source": [
    "## 844. 比较含退格的字符串"
   ]
  },
  {
   "cell_type": "code",
   "execution_count": 53,
   "id": "3b35dafa-02fb-441a-89a7-e66141f7f395",
   "metadata": {},
   "outputs": [],
   "source": [
    "class Solution:\n",
    "    def backspaceCompare(self, s: str, t: str) -> bool:\n",
    "        def judge(s):\n",
    "            stk = []\n",
    "            for c in s:\n",
    "                if c != \"#\": stk.append(c)\n",
    "                elif c == \"#\" and stk: stk.pop()\n",
    "            return \"\".join(stk)\n",
    "        print(judge(s), judge(t))\n",
    "        return judge(s) == judge(t)"
   ]
  },
  {
   "cell_type": "code",
   "execution_count": 54,
   "id": "f412347d-f4fc-4647-9c35-7c7346294946",
   "metadata": {},
   "outputs": [],
   "source": [
    "s = \"y#fo##f\"\n",
    "t = \"y#f#o##f\""
   ]
  },
  {
   "cell_type": "code",
   "execution_count": 55,
   "id": "71c32120-594a-40a4-abed-a95573d118f5",
   "metadata": {},
   "outputs": [
    {
     "name": "stdout",
     "output_type": "stream",
     "text": [
      "f f\n"
     ]
    },
    {
     "data": {
      "text/plain": [
       "True"
      ]
     },
     "execution_count": 55,
     "metadata": {},
     "output_type": "execute_result"
    }
   ],
   "source": [
    "So = Solution()\n",
    "So.backspaceCompare(s, t)"
   ]
  },
  {
   "cell_type": "markdown",
   "id": "9060e847-c0d4-4341-8c7e-1443640d56ca",
   "metadata": {},
   "source": [
    "### 空间 O(1) 的双指针版本"
   ]
  },
  {
   "cell_type": "code",
   "execution_count": null,
   "id": "bf63a490-47e6-47a5-b736-50cebcaf0018",
   "metadata": {},
   "outputs": [],
   "source": [
    "class Solution:\n",
    "    def backspaceCompare(self, s: str, t: str) -> bool:\n",
    "        p1, p2 = len(s) - 1, len(t) - 1\n",
    "        back1 = back2 = 0\n",
    "        \n",
    "        def getc(s, idx, back):\n",
    "            ans = \"\"\n",
    "            while idx > 0:\n",
    "                if s[idx] != \"#\" and back == 0:\n",
    "                    return s[idx]\n",
    "                if \n",
    "        \n",
    "        while p1 or p2:\n",
    "            c1 = c2 = \"\"\n",
    "            while p1:\n",
    "                \n",
    "        \n",
    "        \n",
    "        "
   ]
  },
  {
   "cell_type": "code",
   "execution_count": null,
   "id": "60f3eb22-6fb4-4ccb-ace6-d88bcda39e74",
   "metadata": {},
   "outputs": [],
   "source": []
  },
  {
   "cell_type": "code",
   "execution_count": null,
   "id": "89eb9632-9349-4d70-8b6d-13bafad6b935",
   "metadata": {},
   "outputs": [],
   "source": []
  },
  {
   "cell_type": "code",
   "execution_count": null,
   "id": "f50fce00-9c1e-4704-a01e-a76f46954deb",
   "metadata": {},
   "outputs": [],
   "source": []
  },
  {
   "cell_type": "code",
   "execution_count": null,
   "id": "689411db-8be6-4a40-ab86-34394ac72800",
   "metadata": {},
   "outputs": [],
   "source": []
  },
  {
   "cell_type": "code",
   "execution_count": null,
   "id": "f8676b87-3aa0-4b0d-b49d-a5f645dbaa8b",
   "metadata": {},
   "outputs": [],
   "source": []
  },
  {
   "cell_type": "code",
   "execution_count": null,
   "id": "3a206002-a588-4ef2-b3fc-65fce56cfc29",
   "metadata": {},
   "outputs": [],
   "source": []
  },
  {
   "cell_type": "code",
   "execution_count": null,
   "id": "a2d6cd65-ab30-47bc-ae6d-0978e40c025f",
   "metadata": {},
   "outputs": [],
   "source": []
  },
  {
   "cell_type": "code",
   "execution_count": null,
   "id": "e0af6527-e9db-4f25-a06f-3d97e36d5681",
   "metadata": {},
   "outputs": [],
   "source": []
  }
 ],
 "metadata": {
  "kernelspec": {
   "display_name": "Python 3 (ipykernel)",
   "language": "python",
   "name": "python3"
  },
  "language_info": {
   "codemirror_mode": {
    "name": "ipython",
    "version": 3
   },
   "file_extension": ".py",
   "mimetype": "text/x-python",
   "name": "python",
   "nbconvert_exporter": "python",
   "pygments_lexer": "ipython3",
   "version": "3.6.3"
  }
 },
 "nbformat": 4,
 "nbformat_minor": 5
}
