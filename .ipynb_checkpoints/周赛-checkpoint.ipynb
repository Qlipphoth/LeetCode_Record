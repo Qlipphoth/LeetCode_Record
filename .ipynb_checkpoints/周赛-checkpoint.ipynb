{
 "cells": [
  {
   "cell_type": "markdown",
   "id": "397ba959-f840-4d91-a215-61c588f60c13",
   "metadata": {
    "tags": []
   },
   "source": [
    "## 周赛 (11.20)"
   ]
  },
  {
   "cell_type": "markdown",
   "id": "bbe79800-075d-4323-baf8-8b594ce75234",
   "metadata": {
    "tags": []
   },
   "source": [
    "## 1."
   ]
  },
  {
   "cell_type": "code",
   "execution_count": 47,
   "id": "cedc83f9-34ec-450b-8f21-1d2aea19cdf0",
   "metadata": {},
   "outputs": [],
   "source": [
    "from typing import List\n",
    "class Solution:\n",
    "    def unequalTriplets(self, nums: List[int]) -> int:\n",
    "        n = len(nums)\n",
    "        ans = 0\n",
    "        for i in range(n):\n",
    "            for j in range(i + 1, n):\n",
    "                for k in range(j + 1, n):\n",
    "                    if len(set((nums[i], nums[j], nums[k]))) == 3:\n",
    "                        ans += 1\n",
    "        return ans"
   ]
  },
  {
   "cell_type": "code",
   "execution_count": 48,
   "id": "c0531495-fb3d-4a58-bd17-8c50f163aa0c",
   "metadata": {},
   "outputs": [],
   "source": [
    "nums = [1,3,1,2,4]"
   ]
  },
  {
   "cell_type": "code",
   "execution_count": 49,
   "id": "001a9d84-4635-4916-8d64-b2cacc073d24",
   "metadata": {},
   "outputs": [
    {
     "data": {
      "text/plain": [
       "7"
      ]
     },
     "execution_count": 49,
     "metadata": {},
     "output_type": "execute_result"
    }
   ],
   "source": [
    "s = Solution()\n",
    "s.unequalTriplets(nums)"
   ]
  },
  {
   "cell_type": "markdown",
   "id": "e6db69c6-30b3-4360-80c7-7d9144c8becc",
   "metadata": {
    "tags": []
   },
   "source": [
    "## 2."
   ]
  },
  {
   "cell_type": "code",
   "execution_count": 50,
   "id": "69ad4312-cdbf-475b-9698-9ac2159e90f5",
   "metadata": {},
   "outputs": [],
   "source": [
    "# Definition for a binary tree node.\n",
    "class TreeNode:\n",
    "    def __init__(self, val=0, left=None, right=None):\n",
    "        self.val = val\n",
    "        self.left = left\n",
    "        self.right = right"
   ]
  },
  {
   "cell_type": "code",
   "execution_count": 57,
   "id": "d56425d2-99db-4a92-b4af-91a4bcfae78e",
   "metadata": {},
   "outputs": [],
   "source": [
    "from bisect import bisect_left, bisect_right\n",
    "from typing import Optional\n",
    "class Solution:\n",
    "    def closestNodes(self, root: Optional[TreeNode], queries: List[int]) -> List[List[int]]:\n",
    "        def dfs(root):\n",
    "            if not root: return\n",
    "            dfs(root.left)\n",
    "            res.append(root.val)\n",
    "            dfs(root.right)\n",
    "        res = []\n",
    "        dfs(root)\n",
    "        \n",
    "        ans = []\n",
    "        n = len(res)\n",
    "        for q in queries:\n",
    "            left = right = -1\n",
    "            idx = bisect_left(res, q)\n",
    "            if idx == 0:\n",
    "                left = -1 if res[0] != q else res[0]\n",
    "                right = res[0]\n",
    "            elif idx == n:\n",
    "                right = -1 if res[n - 1] != q else res[n - 1]\n",
    "                left = res[n - 1]\n",
    "            else:\n",
    "                left = res[idx] if q == res[idx] else res[idx - 1]\n",
    "                right = res[idx]\n",
    "            ans.append([left, right])\n",
    "        return ans"
   ]
  },
  {
   "cell_type": "code",
   "execution_count": 64,
   "id": "76ea4186-ca18-4c61-966b-fb803d9f1faf",
   "metadata": {},
   "outputs": [],
   "source": [
    "res = [4,9]\n",
    "queries = [3]\n",
    "n = len(res)"
   ]
  },
  {
   "cell_type": "code",
   "execution_count": 65,
   "id": "ab87b95f-76b8-4bfd-ad4e-fd0d12ebfb14",
   "metadata": {},
   "outputs": [],
   "source": [
    "from bisect import bisect_left\n",
    "ans = []\n",
    "for q in queries:\n",
    "    left = right = -1\n",
    "    idx = bisect_left(res, q)\n",
    "    if idx == 0:\n",
    "        left = -1 if res[0] != q else res[0]\n",
    "        right = res[0]\n",
    "    elif idx == n:\n",
    "        right = -1 if res[n - 1] != q else res[n - 1]\n",
    "        left = res[n - 1]\n",
    "    else:\n",
    "        left = res[idx] if q == res[idx] else res[idx - 1]\n",
    "        right = res[idx]\n",
    "    ans.append([left, right])"
   ]
  },
  {
   "cell_type": "code",
   "execution_count": 66,
   "id": "debb3b24-03ee-47b2-adcd-a7d00713b62e",
   "metadata": {},
   "outputs": [
    {
     "data": {
      "text/plain": [
       "[[-1, 4]]"
      ]
     },
     "execution_count": 66,
     "metadata": {},
     "output_type": "execute_result"
    }
   ],
   "source": [
    "ans"
   ]
  },
  {
   "cell_type": "markdown",
   "id": "12dfac2c-0c12-4aff-adbe-da856a57ff02",
   "metadata": {},
   "source": [
    "## 3. (2477)"
   ]
  },
  {
   "cell_type": "markdown",
   "id": "a8308698-4fc6-4f2d-b253-c675b7480ef8",
   "metadata": {},
   "source": [
    "问题可以转化为：统计父节点的所有子节点到达自身所要消耗多少油，最后再累加。"
   ]
  },
  {
   "cell_type": "code",
   "execution_count": 3,
   "id": "34919eb4-a3a0-442b-bfee-568562c121c9",
   "metadata": {},
   "outputs": [],
   "source": [
    "from typing import List\n",
    "class Solution:\n",
    "    def minimumFuelCost(self, roads: List[List[int]], seats: int) -> int:\n",
    "        g = [[] for _ in range(len(roads) + 1)]\n",
    "        for a, b in roads:\n",
    "            g[a].append(b)\n",
    "            g[b].append(a)\n",
    "        \n",
    "        ans = 0\n",
    "        def dfs(x: int, fa: int) -> int:\n",
    "            size = 1  # 节点数初始化为 1，代表自身\n",
    "            # 统计当前为根节点的子树有多少节点\n",
    "            for y in g[x]:\n",
    "                if y != fa:  # 遍历树形结构只需要向下遍历，不可再访问父节点\n",
    "                    size += dfs(y, x)\n",
    "            \n",
    "            # 此处统计的是当前子树的所有子节点到达该子树的根节点（即当前节点）后，\n",
    "            # 再到达更上一级的消耗。带入题中情况即为：所有代表都已经到达了当前城市，\n",
    "            # 再向更靠近首都的地方移动一个节点需要耗费多少汽油\n",
    "            # 考虑到 0 为首都，不需要再向上移动，因此做 if x 的判断\n",
    "            if x: \n",
    "                nonlocal ans\n",
    "                ans += (size + seats - 1) // seats  # size / seats 向上取整\n",
    "            # 返回当前子树的节点数\n",
    "            return size\n",
    "        \n",
    "        dfs(0, -1)  # 此处fa携带一个不在roads中的节点当作 0 的父节点即可\n",
    "        return ans"
   ]
  },
  {
   "cell_type": "markdown",
   "id": "4ee7efb9-6b30-4ff5-8d9b-57d8edeb78f5",
   "metadata": {},
   "source": [
    "## 4. (2478)"
   ]
  },
  {
   "cell_type": "code",
   "execution_count": 70,
   "id": "d429620c-fc9e-4e72-8e2c-fce7a2d88b3e",
   "metadata": {},
   "outputs": [],
   "source": [
    "class Solution:\n",
    "    def beautifulPartitions(self, s: str, k: int, minLength: int) -> int:\n",
    "        prime = (\"2\", \"3\", \"5\", \"7\")\n",
    "        if s[0] not in prime or s[-1] in prime: return 0\n",
    "        def dp(idx, num):\n",
    "            if num == 1:\n",
    "                memo[(idx, num)] = 1 if s[idx] in prime else 0\n",
    "                return memo[(idx, num)]\n",
    "            \n",
    "            if n - idx < num * minLength:\n",
    "                # print(idx)\n",
    "                memo[(idx, num)] = 0\n",
    "                return memo[(idx, num)]\n",
    "            \n",
    "            ans = 0\n",
    "            for i in range(idx + minLength - 1, n - 1):\n",
    "                if s[i] not in prime and s[i + 1] in prime:\n",
    "                    # print(i, i + 1)\n",
    "                    ans += dp(i + 1, num - 1)\n",
    "            \n",
    "            memo[(idx, num)] = ans\n",
    "            return memo[(idx, num)]\n",
    "        \n",
    "        n, memo = len(s), {}\n",
    "        ans = dp(0, k)\n",
    "        print(memo)\n",
    "        return ans"
   ]
  },
  {
   "cell_type": "code",
   "execution_count": 80,
   "id": "911c175d-8dd9-4d7a-a840-ff3c1c4c619c",
   "metadata": {},
   "outputs": [],
   "source": [
    "s = \"23542185131\"\n",
    "k = 3\n",
    "minLength = 2"
   ]
  },
  {
   "cell_type": "code",
   "execution_count": 81,
   "id": "05b8ac8b-2727-4ec9-83fb-172c0aaaaefc",
   "metadata": {},
   "outputs": [
    {
     "data": {
      "text/plain": [
       "3"
      ]
     },
     "execution_count": 81,
     "metadata": {},
     "output_type": "execute_result"
    }
   ],
   "source": [
    "u = Solution()\n",
    "u.beautifulPartitions(s, k, minLength)"
   ]
  },
  {
   "cell_type": "code",
   "execution_count": 79,
   "id": "e993ccd9-2f3d-4b8d-88be-b9557e3b09af",
   "metadata": {},
   "outputs": [],
   "source": [
    "class Solution:\n",
    "    def beautifulPartitions(self, s: str, k: int, minLength: int) -> int:\n",
    "        prime = (\"2\", \"3\", \"5\", \"7\")\n",
    "        if s[0] not in prime or s[-1] in prime: return 0\n",
    "            \n",
    "        \n",
    "        def dp(idx, num):\n",
    "            if n - idx < num * minLength:\n",
    "                # print(idx)\n",
    "                memo[(idx, num)] = 0\n",
    "                return memo[(idx, num)]\n",
    "            \n",
    "            if num == 1: \n",
    "                memo[(idx, num)] = 1\n",
    "                return memo[(idx, num)]\n",
    "            \n",
    "            ans = 0\n",
    "            for i in start:\n",
    "                if i - idx + 1 >= minLength:\n",
    "                    ans += dp(i, num - 1)\n",
    "            \n",
    "            memo[(idx, num)] = ans\n",
    "            return memo[(idx, num)]\n",
    "        \n",
    "        n, memo = len(s), {}\n",
    "        start = []\n",
    "        for i, num in enumerate(s[:n - 1]):\n",
    "            if s[i] not in prime and s[i + 1] in prime:\n",
    "                start.append(i + 1)\n",
    "        \n",
    "        ans = dp(0, k)\n",
    "        # print(memo)\n",
    "        return ans"
   ]
  },
  {
   "cell_type": "markdown",
   "id": "cd482cb0-fa25-4ecb-8981-11731057d321",
   "metadata": {},
   "source": [
    "## 双周赛 (11.26)"
   ]
  },
  {
   "cell_type": "markdown",
   "id": "13eb8410-b714-4dc4-b113-b4ee40aa4713",
   "metadata": {},
   "source": [
    "## 1"
   ]
  },
  {
   "cell_type": "code",
   "execution_count": 1,
   "id": "a628f791-858a-4ac8-8a1e-6ae749f843cd",
   "metadata": {},
   "outputs": [],
   "source": [
    "class Solution:\n",
    "    def numberOfCuts(self, n: int) -> int:\n",
    "        if n == 1: return 0\n",
    "        return n if n & 1 else n // 2"
   ]
  },
  {
   "cell_type": "markdown",
   "id": "506ab736-6ec8-4985-844f-6b9a8320e8ca",
   "metadata": {},
   "source": [
    "## 2"
   ]
  },
  {
   "cell_type": "code",
   "execution_count": 13,
   "id": "fb674eeb-f162-488a-b996-780b0604406d",
   "metadata": {},
   "outputs": [],
   "source": [
    "from typing import List\n",
    "class Solution:\n",
    "    def onesMinusZeros(self, grid: List[List[int]]) -> List[List[int]]:\n",
    "        m, n = len(grid), len(grid[0])\n",
    "        row1 = [r.count(1) for r in grid]\n",
    "        row0 = [n - row1[i] for i in range(m)]\n",
    "        col1 = [c.count(1) for c in zip(*grid)]\n",
    "        col0 = [m - col1[i] for i in range(n)]\n",
    "        # print(row1, row0, col1, col0)\n",
    "        for i in range(m):\n",
    "            for j in range(n):\n",
    "                grid[i][j] = row1[i] + col1[j] - row0[i] - col0[j]\n",
    "        return grid"
   ]
  },
  {
   "cell_type": "code",
   "execution_count": 14,
   "id": "dc32f5e5-f4ae-4c34-8c59-d18d88d273b4",
   "metadata": {},
   "outputs": [],
   "source": [
    "grid = [[1,1,1],[1,1,1]]"
   ]
  },
  {
   "cell_type": "code",
   "execution_count": 15,
   "id": "c15d4ed8-7059-49e2-a128-235720b936b4",
   "metadata": {},
   "outputs": [
    {
     "data": {
      "text/plain": [
       "[[5, 5, 5], [5, 5, 5]]"
      ]
     },
     "execution_count": 15,
     "metadata": {},
     "output_type": "execute_result"
    }
   ],
   "source": [
    "s = Solution()\n",
    "s.onesMinusZeros(grid)"
   ]
  },
  {
   "cell_type": "markdown",
   "id": "af666688-6057-43a9-801a-c3b1dfde5b63",
   "metadata": {},
   "source": [
    "## 3"
   ]
  },
  {
   "cell_type": "markdown",
   "id": "7fdd553a-a448-4cf1-a75f-7a7257019ef9",
   "metadata": {},
   "source": [
    "从后往前计算，维护最大值"
   ]
  },
  {
   "cell_type": "code",
   "execution_count": 22,
   "id": "5196f550-f323-4f9b-9c25-17454393392b",
   "metadata": {},
   "outputs": [],
   "source": [
    "class Solution:\n",
    "    def bestClosingTime(self, customers: str) -> int:\n",
    "        n = len(customers)\n",
    "        cntY = customers.count(\"Y\")\n",
    "        cntN = n - cntY\n",
    "        pre = cntN\n",
    "        minCost = cntN\n",
    "        mintime = n\n",
    "        for i in range(n - 1, -1, -1):\n",
    "            cur = pre\n",
    "            if customers[i] == \"Y\": \n",
    "                cur += 1\n",
    "            if customers[i] == \"N\":\n",
    "                cur -= 1\n",
    "            pre = cur\n",
    "            if cur <= minCost:\n",
    "                minCost = cur\n",
    "                mintime = i\n",
    "        \n",
    "        return mintime"
   ]
  },
  {
   "cell_type": "code",
   "execution_count": 23,
   "id": "7a48e332-2859-4416-a94f-7ff649c74eaa",
   "metadata": {},
   "outputs": [],
   "source": [
    "customers = \"YYYY\""
   ]
  },
  {
   "cell_type": "code",
   "execution_count": 24,
   "id": "4872f241-26dd-4cb7-a6fe-420f97e8ba60",
   "metadata": {},
   "outputs": [
    {
     "data": {
      "text/plain": [
       "4"
      ]
     },
     "execution_count": 24,
     "metadata": {},
     "output_type": "execute_result"
    }
   ],
   "source": [
    "s = Solution()\n",
    "s.bestClosingTime(customers)"
   ]
  },
  {
   "cell_type": "markdown",
   "id": "99b87759-e276-4c06-bc62-231718436eea",
   "metadata": {},
   "source": [
    "## 4"
   ]
  },
  {
   "cell_type": "code",
   "execution_count": 91,
   "id": "8ffc4730-57d0-48fa-a1c0-309fc3cadaa2",
   "metadata": {},
   "outputs": [],
   "source": [
    "from collections import defaultdict\n",
    "class Solution:\n",
    "    def countPalindromes(self, s: str) -> int:\n",
    "        n = len(s)\n",
    "        if n <= 5: return 0\n",
    "        \n",
    "        suffix = defaultdict(int)\n",
    "        for i in range(3, n):\n",
    "            for j in range(i + 1, n):\n",
    "                suffix[(s[j], s[i])] += 1\n",
    "        \n",
    "        prefix = defaultdict(int)\n",
    "        prefix_cnt = defaultdict(int)\n",
    "        prefix_cnt[s[0]] += 1\n",
    "        prefix_cnt[s[1]] += 1\n",
    "        prefix[(s[0], s[1])] += 1\n",
    "        \n",
    "        ans = 0\n",
    "        for i in range(2, n - 2):\n",
    "            print(prefix)\n",
    "            print(suffix)\n",
    "            ch = s[i]\n",
    "            for key in prefix:\n",
    "                ans += prefix[key] * suffix[key]\n",
    "            \n",
    "            for ele in prefix_cnt:\n",
    "                prefix[(ele, ch)] += prefix_cnt[ele]\n",
    "            prefix_cnt[ch] += 1\n",
    "            \n",
    "            for key in suffix:\n",
    "                if key[1] == s[i + 1] and suffix[key] > 0:\n",
    "                    suffix[key] -= 1\n",
    "                # if suffix[key] == 0:\n",
    "                #     del(suffix[key]\n",
    "            \n",
    "        return ans"
   ]
  },
  {
   "cell_type": "code",
   "execution_count": 92,
   "id": "506789f7-c730-41ea-b9f1-fb635e27001f",
   "metadata": {},
   "outputs": [],
   "source": [
    "s = \"225852\""
   ]
  },
  {
   "cell_type": "code",
   "execution_count": 93,
   "id": "968197e7-b61a-4496-a9ce-914b2132791a",
   "metadata": {},
   "outputs": [
    {
     "name": "stdout",
     "output_type": "stream",
     "text": [
      "defaultdict(<class 'int'>, {('2', '2'): 1})\n",
      "defaultdict(<class 'int'>, {('5', '8'): 1, ('2', '8'): 1, ('2', '5'): 1})\n",
      "defaultdict(<class 'int'>, {('2', '2'): 1, ('2', '5'): 2})\n",
      "defaultdict(<class 'int'>, {('5', '8'): 0, ('2', '8'): 0, ('2', '5'): 1, ('2', '2'): 0})\n"
     ]
    },
    {
     "data": {
      "text/plain": [
       "2"
      ]
     },
     "execution_count": 93,
     "metadata": {},
     "output_type": "execute_result"
    }
   ],
   "source": [
    "so = Solution()\n",
    "so.countPalindromes(s)"
   ]
  },
  {
   "cell_type": "markdown",
   "id": "4eae48b3-ab54-4957-9213-c2b062a397ea",
   "metadata": {},
   "source": [
    "## 周赛 (11.27)"
   ]
  },
  {
   "cell_type": "markdown",
   "id": "34732d83-052e-4829-af5b-5bc5ff060c1a",
   "metadata": {},
   "source": [
    "## 1"
   ]
  },
  {
   "cell_type": "code",
   "execution_count": 25,
   "id": "d2a1e15f-5c75-4aa6-88b5-a1382c0e522e",
   "metadata": {},
   "outputs": [],
   "source": [
    "class Solution:\n",
    "    def pivotInteger(self, n: int) -> int:\n",
    "        if n == 1: return 1\n",
    "        \n",
    "        presum = []\n",
    "        cur = 0\n",
    "        for i in range(1, n + 1):\n",
    "            cur += i\n",
    "            presum.append(cur)\n",
    "        \n",
    "        # print(presum)\n",
    "        \n",
    "        for i in range(n // 2, n):\n",
    "            if presum[i] == presum[-1] - presum[i - 1]:\n",
    "                return i + 1\n",
    "        \n",
    "        return -1\n",
    "        # return presum"
   ]
  },
  {
   "cell_type": "code",
   "execution_count": 34,
   "id": "ec415aa8-3676-4c3a-bd6d-2cf01ffbd06c",
   "metadata": {},
   "outputs": [
    {
     "data": {
      "text/plain": [
       "6"
      ]
     },
     "execution_count": 34,
     "metadata": {},
     "output_type": "execute_result"
    }
   ],
   "source": [
    "s = Solution()\n",
    "s.pivotInteger(8)"
   ]
  },
  {
   "cell_type": "markdown",
   "id": "0379090c-b00f-4d5b-b9bc-bd064093c420",
   "metadata": {},
   "source": [
    "## 2"
   ]
  },
  {
   "cell_type": "code",
   "execution_count": 48,
   "id": "d0e505f0-d138-4668-ba00-ed742d251f26",
   "metadata": {},
   "outputs": [],
   "source": [
    "class Solution:\n",
    "    def appendCharacters(self, s: str, t: str) -> int:\n",
    "        idxs = idxt = 0\n",
    "        ns, nt = len(s), len(t)\n",
    "        while idxs < ns and idxt < nt:\n",
    "            if s[idxs] == t[idxt]:\n",
    "                idxt += 1\n",
    "            idxs += 1\n",
    "        return nt - idxt"
   ]
  },
  {
   "cell_type": "code",
   "execution_count": 55,
   "id": "780360aa-ec0e-4600-b592-1b9ead6c1fb3",
   "metadata": {},
   "outputs": [],
   "source": [
    "s = \"z\"\n",
    "t = \"z\""
   ]
  },
  {
   "cell_type": "code",
   "execution_count": 56,
   "id": "51a38b3a-8987-401f-b6c9-8dcea446152d",
   "metadata": {},
   "outputs": [
    {
     "data": {
      "text/plain": [
       "0"
      ]
     },
     "execution_count": 56,
     "metadata": {},
     "output_type": "execute_result"
    }
   ],
   "source": [
    "S = Solution()\n",
    "S.appendCharacters(s, t)"
   ]
  },
  {
   "cell_type": "markdown",
   "id": "a6829a50-4c69-47c2-b334-e9f0e9003513",
   "metadata": {},
   "source": [
    "## 3"
   ]
  },
  {
   "cell_type": "code",
   "execution_count": 57,
   "id": "95e1e85f-ecef-4b19-870b-f09ae770edb1",
   "metadata": {},
   "outputs": [],
   "source": [
    "# Definition for singly-linked list.\n",
    "class ListNode:\n",
    "    def __init__(self, val=0, next=None):\n",
    "        self.val = val\n",
    "        self.next = next"
   ]
  },
  {
   "cell_type": "code",
   "execution_count": 61,
   "id": "184291aa-89cb-4466-aac9-aa047f08a38b",
   "metadata": {},
   "outputs": [],
   "source": [
    "from typing import Optional\n",
    "class Solution:\n",
    "    def removeNodes(self, head: Optional[ListNode]) -> Optional[ListNode]:\n",
    "        stk = []\n",
    "        cur = head\n",
    "        while cur:\n",
    "            curval = cur.val\n",
    "            if stk and curval > stk[-1]:\n",
    "                while  stk and stk[-1] < curval:\n",
    "                    stk.pop()\n",
    "            stk.append(curval)\n",
    "            cur = cur.next\n",
    "        \n",
    "        cur1 = head = ListNode()\n",
    "        for n in stk:\n",
    "            cur2 = ListNode(n)\n",
    "            cur1.next = cur2\n",
    "            cur1 = cur2\n",
    "        \n",
    "        return head.next"
   ]
  },
  {
   "cell_type": "markdown",
   "id": "6032041f-32be-465a-b303-9d769c4402ee",
   "metadata": {},
   "source": [
    "## 4"
   ]
  },
  {
   "cell_type": "code",
   "execution_count": 145,
   "id": "432ffb5f-02f8-4f85-8cf8-dc76899369a2",
   "metadata": {},
   "outputs": [],
   "source": [
    "from typing import List\n",
    "from collections import defaultdict\n",
    "\n",
    "class Solution:\n",
    "    def countSubarrays(self, nums: List[int], k: int) -> int:\n",
    "        if k not in nums: return 0\n",
    "        cntl, cntr = defaultdict(int), defaultdict(int)\n",
    "        idx = nums.index(k)\n",
    "        n = len(nums)\n",
    "        \n",
    "        cur = 0\n",
    "        for i in range(idx, -1, -1):\n",
    "            if nums[i] > k: cur += 1\n",
    "            else: cur -= 1\n",
    "            cntl[cur] += 1\n",
    "        # print(cntl)\n",
    "        \n",
    "        cur = 0\n",
    "        for i in range(idx, n):\n",
    "            if nums[i] >= k: cur += 1\n",
    "            else: cur -= 1\n",
    "            cntr[cur] += 1\n",
    "        # print(cntr)\n",
    "        \n",
    "        ans = 0\n",
    "        for key in cntl:\n",
    "            ans += cntl[key] * (cntr[-key] + cntr[1 - key])\n",
    "        \n",
    "        \n",
    "        # return cnt, ans\n",
    "        # return ans, right\n",
    "        # return cntl, cntr, ans\n",
    "        return ans"
   ]
  },
  {
   "cell_type": "code",
   "execution_count": 146,
   "id": "04ffc25c-11ea-4e8a-b65a-b5dd75760b6d",
   "metadata": {},
   "outputs": [],
   "source": [
    "nums = [2,5,1,4,3,6]\n",
    "k = 1"
   ]
  },
  {
   "cell_type": "code",
   "execution_count": 147,
   "id": "c4386b8e-8f61-4c1a-96d4-a31be8601bdf",
   "metadata": {},
   "outputs": [
    {
     "data": {
      "text/plain": [
       "3"
      ]
     },
     "execution_count": 147,
     "metadata": {},
     "output_type": "execute_result"
    }
   ],
   "source": [
    "s = Solution()\n",
    "s.countSubarrays(nums, k)"
   ]
  },
  {
   "cell_type": "markdown",
   "id": "b87e17d9-906d-48b3-b392-5958e3d6c782",
   "metadata": {},
   "source": [
    "# 周赛 12.4"
   ]
  },
  {
   "cell_type": "markdown",
   "id": "e643da42-14ec-4c2c-a624-630adbcd115d",
   "metadata": {},
   "source": [
    "## 1."
   ]
  },
  {
   "cell_type": "code",
   "execution_count": 10,
   "id": "bb9c8c55-a626-4678-96e1-4626bcd0a54f",
   "metadata": {},
   "outputs": [],
   "source": [
    "class Solution:\n",
    "    def isCircularSentence(self, sentence: str) -> bool:\n",
    "        # if sentence[0] == \" \" or sentence[-1] == \" \": return False\n",
    "        s = sentence.split(\" \")\n",
    "        n = len(s)\n",
    "        for i, c in enumerate(s):\n",
    "            if c[-1] != s[(i + 1) % n][0]: return False\n",
    "        return True"
   ]
  },
  {
   "cell_type": "code",
   "execution_count": 11,
   "id": "1ecc08ae-a3cd-4667-8645-0a0a870cfd32",
   "metadata": {},
   "outputs": [],
   "source": [
    "sentence = \"Leetcode is cool\""
   ]
  },
  {
   "cell_type": "code",
   "execution_count": 12,
   "id": "010694d7-0c58-4196-81a6-1f44f0291337",
   "metadata": {},
   "outputs": [
    {
     "data": {
      "text/plain": [
       "False"
      ]
     },
     "execution_count": 12,
     "metadata": {},
     "output_type": "execute_result"
    }
   ],
   "source": [
    "s = Solution()\n",
    "s.isCircularSentence(sentence)"
   ]
  },
  {
   "cell_type": "markdown",
   "id": "30c6b4b2-5e2d-4ca0-9a8a-edd28c79008a",
   "metadata": {},
   "source": [
    "## 2."
   ]
  },
  {
   "cell_type": "code",
   "execution_count": 58,
   "id": "eb27560b-4ad9-4914-837e-843a19178209",
   "metadata": {},
   "outputs": [],
   "source": [
    "from collections import defaultdict\n",
    "from typing import List\n",
    "class Solution:\n",
    "    def dividePlayers(self, skill: List[int]) -> int:\n",
    "        if len(skill) == 2: return skill[0] * skill[-1]\n",
    "        sum_ = 0\n",
    "        cnt = defaultdict(int)\n",
    "        for c in skill:\n",
    "            sum_ += c\n",
    "            cnt[c] += 1\n",
    "            \n",
    "        n = len(skill)\n",
    "        if sum_ % (n // 2) != 0: return -1\n",
    "        g_sum = sum_ // (n // 2)\n",
    "        \n",
    "        ans = 0\n",
    "        count = 0\n",
    "        i = 0\n",
    "        while count < n // 2:\n",
    "            while cnt[skill[i]] == 0: i += 1\n",
    "            nxt = g_sum - skill[i]\n",
    "            if cnt[nxt] == 0: return -1\n",
    "            ans += skill[i] * nxt\n",
    "            cnt[skill[i]] -= 1\n",
    "            cnt[nxt] -= 1\n",
    "            count += 1\n",
    "        \n",
    "        return ans"
   ]
  },
  {
   "cell_type": "code",
   "execution_count": 59,
   "id": "b45404db-277c-4754-bf23-50a5a9853cff",
   "metadata": {},
   "outputs": [],
   "source": [
    "skill = [5,3,7,1]"
   ]
  },
  {
   "cell_type": "code",
   "execution_count": 60,
   "id": "b966c66e-d9f6-4583-9a20-63a5ce9dbf78",
   "metadata": {},
   "outputs": [
    {
     "data": {
      "text/plain": [
       "22"
      ]
     },
     "execution_count": 60,
     "metadata": {},
     "output_type": "execute_result"
    }
   ],
   "source": [
    "s = Solution()\n",
    "s.dividePlayers(skill)"
   ]
  },
  {
   "cell_type": "markdown",
   "id": "60adcd34-ccf9-46ff-b4a5-ce07bc78b814",
   "metadata": {},
   "source": [
    "## 3."
   ]
  },
  {
   "cell_type": "code",
   "execution_count": 86,
   "id": "388ee30b-4434-461b-b874-89e9a876cfc4",
   "metadata": {},
   "outputs": [],
   "source": [
    "class UF:\n",
    "    def __init__(self, n):\n",
    "        self.fa = [i for i in range(n)]\n",
    "        # self.r = [1] * n\n",
    "        self.min1 = float(\"Inf\")\n",
    "        \n",
    "    def find(self, x):\n",
    "        if self.fa[x] != x:\n",
    "            self.fa[x] = self.find(self.fa[x])\n",
    "        return self.fa[x]\n",
    "    \n",
    "    def union(self, x, y, w):\n",
    "        fx, fy = self.fa[x], self.fa[y]\n",
    "        # if fx != fy:\n",
    "        if fx == 0 or fy == 0: self.min1 = min(self.min1, w)\n",
    "        # if self.r[fx] > self.r[fy]:\n",
    "        #     fx, fy = fy, fx\n",
    "        if fx == 0: fx, fy = fy, fx\n",
    "        self.fa[fx] = fy\n",
    "        # if self.r[fx] == self.r[fy]:\n",
    "        #     self.r[fy] += 1\n",
    "    \n",
    "class Solution:\n",
    "    def minScore(self, n: int, roads: List[List[int]]) -> int:\n",
    "        uf = UF(n)\n",
    "        for x, y, w in roads:\n",
    "            uf.union(x - 1, y - 1, w)\n",
    "        return uf.min1"
   ]
  },
  {
   "cell_type": "code",
   "execution_count": 87,
   "id": "d2ee6fdd-a14f-4024-bdfe-c9f4c9add274",
   "metadata": {},
   "outputs": [],
   "source": [
    "n = 6\n",
    "roads = [[4,5,7468],[6,2,7173],[6,3,8365],[2,3,7674],[5,6,7852],[1,2,8547],[2,4,1885],[2,5,5192],[1,3,4065],[1,4,7357]]"
   ]
  },
  {
   "cell_type": "code",
   "execution_count": 88,
   "id": "304aaeb9-6c50-4edb-b360-8f63ad30deb6",
   "metadata": {},
   "outputs": [
    {
     "data": {
      "text/plain": [
       "4065"
      ]
     },
     "execution_count": 88,
     "metadata": {},
     "output_type": "execute_result"
    }
   ],
   "source": [
    "s = Solution()\n",
    "s.minScore(n, roads)"
   ]
  },
  {
   "cell_type": "code",
   "execution_count": 92,
   "id": "396a47df-c711-4152-b8a3-0f04806370b1",
   "metadata": {},
   "outputs": [],
   "source": [
    "from collections import deque\n",
    "class Solution:\n",
    "    def minScore(self, n: int, roads: List[List[int]]) -> int:\n",
    "        g = [[] for _ in range(n)]\n",
    "        for x, y, w in roads:\n",
    "            g[x - 1].append((y - 1, w))\n",
    "            g[y - 1].append((x - 1, w))\n",
    "        visit = [1] * n\n",
    "        visit[0] = 0\n",
    "        stk = deque([0])\n",
    "        min_ = float(\"Inf\")\n",
    "        while stk:\n",
    "            cur = stk.popleft()\n",
    "            for nxt, nw in g[cur]:\n",
    "                min_ = min(min_, nw)\n",
    "                if visit[nxt]:\n",
    "                    visit[nxt] = 0\n",
    "                    min_ = min(min_, nw)\n",
    "                    stk.append(nxt)\n",
    "        return min_"
   ]
  },
  {
   "cell_type": "code",
   "execution_count": 93,
   "id": "9ec27af8-54d6-49f4-b594-0ec67184f24a",
   "metadata": {},
   "outputs": [],
   "source": [
    "n = 6\n",
    "roads = [[4,5,7468],[6,2,7173],[6,3,8365],[2,3,7674],[5,6,7852],[1,2,8547],[2,4,1885],[2,5,5192],[1,3,4065],[1,4,7357]]"
   ]
  },
  {
   "cell_type": "code",
   "execution_count": 94,
   "id": "ad578dd9-334f-4651-b438-40b819a7f377",
   "metadata": {},
   "outputs": [
    {
     "data": {
      "text/plain": [
       "1885"
      ]
     },
     "execution_count": 94,
     "metadata": {},
     "output_type": "execute_result"
    }
   ],
   "source": [
    "s = Solution()\n",
    "s.minScore(n, roads)"
   ]
  },
  {
   "cell_type": "markdown",
   "id": "05c992ae-d3f6-4024-82b9-6648756ac99b",
   "metadata": {},
   "source": [
    "## 4."
   ]
  },
  {
   "cell_type": "code",
   "execution_count": 66,
   "id": "0b543082-bb68-4d52-bbee-e33f5432452b",
   "metadata": {},
   "outputs": [],
   "source": [
    "from collections import deque\n",
    "from typing import List\n",
    "class Solution:\n",
    "    def magnificentSets(self, n: int, edges: List[List[int]]) -> int:\n",
    "        g = [[] for _ in range(n)]\n",
    "        for x, y in edges:\n",
    "            g[x - 1].append(y - 1)\n",
    "            g[y - 1].append(x - 1)\n",
    "        \n",
    "        # print(g)\n",
    "        \n",
    "        ans = 0\n",
    "        cnt = 0\n",
    "        for i, ns in enumerate(g):\n",
    "            if not ns: continue\n",
    "            stk = deque([(i, 1)])\n",
    "            vis = {}\n",
    "            while stk:\n",
    "                # print(vis)\n",
    "                cur, h = stk.popleft()\n",
    "                vis[cur] = h\n",
    "                for nxt in g[cur]:\n",
    "                    if nxt in vis: \n",
    "                        if not abs(h - vis[nxt]) & 1:\n",
    "                            return -1\n",
    "                    else: \n",
    "                        vis[nxt] = h + 1\n",
    "                        stk.append((nxt, h + 1))\n",
    "            ans = max(ans, h + n - len(vis)) \n",
    "        return ans"
   ]
  },
  {
   "cell_type": "code",
   "execution_count": 2,
   "id": "ebff3698-4252-4db8-981e-22a317e7e777",
   "metadata": {},
   "outputs": [],
   "source": [
    "n = 92\n",
    "edges = [[67,29],[13,29],[77,29],[36,29],[82,29],[54,29],[57,29],[53,29],[68,29],[26,29],[21,29],[46,29],[41,29],[45,29],[56,29],[88,29],[2,29],[7,29],[5,29],[16,29],[37,29],[50,29],[79,29],[91,29],[48,29],[87,29],[25,29],[80,29],[71,29],[9,29],[78,29],[33,29],[4,29],[44,29],[72,29],[65,29],[61,29]]"
   ]
  },
  {
   "cell_type": "code",
   "execution_count": 3,
   "id": "fd5763cf-5ef8-4813-beec-123550735551",
   "metadata": {},
   "outputs": [
    {
     "data": {
      "text/plain": [
       "57"
      ]
     },
     "execution_count": 3,
     "metadata": {},
     "output_type": "execute_result"
    }
   ],
   "source": [
    "s = Solution()\n",
    "s.magnificentSets(n, edges)"
   ]
  },
  {
   "cell_type": "code",
   "execution_count": 1,
   "id": "5e169a27-8684-4d90-a8cc-8400b7d4b992",
   "metadata": {},
   "outputs": [],
   "source": [
    "from collections import deque\n",
    "from typing import List\n",
    "\n",
    "class UF:\n",
    "    def __init__(self, n):\n",
    "        self.fa = [i for i in range(n)]\n",
    "        self.rank = [1] * n\n",
    "        self.maxh = [1] * n\n",
    "        \n",
    "    def find(self, x):\n",
    "        if self.fa[x] != x:\n",
    "            self.fa[x] = self.find(self.fa[x])\n",
    "        return self.fa[x]\n",
    "    \n",
    "    def union(self, x, y):\n",
    "        fx, fy = self.find(x), self.find(y)\n",
    "        if fx != fy:\n",
    "            if self.rank[fx] > self.rank[fy]:\n",
    "                fx, fy = fy, fx\n",
    "            self.fa[fx] = fy\n",
    "            if self.rank[fx] == self.rank[fy]:\n",
    "                self.rank[fy] += 1\n",
    "\n",
    "    def is_connect(self, x, y):\n",
    "        return self.fa[x] == self.fa[y]\n",
    "\n",
    "\n",
    "class Solution:\n",
    "    def magnificentSets(self, n: int, edges: List[List[int]]) -> int:\n",
    "        g = [[] for _ in range(n)]\n",
    "        uf = UF(n)\n",
    "        for x, y in edges:\n",
    "            uf.union(x - 1, y - 1)\n",
    "            g[x - 1].append(y - 1)\n",
    "            g[y - 1].append(x - 1)\n",
    "        \n",
    "        for i, ns in enumerate(g):\n",
    "            if not ns: continue\n",
    "            stk = deque([(i, 1)])\n",
    "            vis = {i:1}\n",
    "            while stk:\n",
    "                cur, h = stk.popleft()\n",
    "                for nxt in g[cur]:\n",
    "                    if nxt in vis:\n",
    "                        if not abs(h - vis[nxt]) & 1: \n",
    "                            return -1\n",
    "                    else:\n",
    "                        vis[nxt] = h + 1\n",
    "                        stk.append((nxt, h + 1))\n",
    "            fi = uf.find(i)\n",
    "            uf.maxh[fi] = max(uf.maxh[fi], h)\n",
    "        \n",
    "        ans = 0\n",
    "        for i in range(n):\n",
    "            if uf.fa[i] == i:\n",
    "                ans += uf.maxh[i]\n",
    "                \n",
    "        return ans"
   ]
  },
  {
   "cell_type": "markdown",
   "id": "25b7bc34-e0e3-4639-9774-efe75e9c5569",
   "metadata": {},
   "source": [
    "## 第 331 场周赛 （Re）"
   ]
  },
  {
   "cell_type": "markdown",
   "id": "1e90bad2-1c05-4ab4-b992-7d195aaa689b",
   "metadata": {},
   "source": [
    "### 1. 从数量最多的堆取走礼物 （2558）"
   ]
  },
  {
   "cell_type": "code",
   "execution_count": 4,
   "id": "e9e587ab-cbf5-49cc-a59f-76ff67b203df",
   "metadata": {},
   "outputs": [],
   "source": [
    "from typing import List\n",
    "class Solution:\n",
    "    def pickGifts(self, gifts: List[int], k: int) -> int:\n",
    "        for i in range(k):\n",
    "            gifts.sort(reverse=True)\n",
    "            gifts[0] = int(gifts[0] ** 0.5)\n",
    "        return sum(gifts)"
   ]
  },
  {
   "cell_type": "markdown",
   "id": "434cbcbb-ccca-4b8c-a24b-b5d926a6ce36",
   "metadata": {},
   "source": [
    "### 2. 统计范围内的元音字符串数 （2559）"
   ]
  },
  {
   "cell_type": "markdown",
   "id": "a64cf594-b2fd-401b-bb02-3f77ae4ed6b4",
   "metadata": {},
   "source": [
    "一眼prefixsum"
   ]
  },
  {
   "cell_type": "code",
   "execution_count": 13,
   "id": "6fc66ec9-80ad-45dd-8861-4725756084d9",
   "metadata": {},
   "outputs": [],
   "source": [
    "class Solution:\n",
    "    def vowelStrings(self, words: List[str], queries: List[List[int]]) -> List[int]:\n",
    "        res = [0]\n",
    "        for w in words:\n",
    "            cur = 1 if w[0] in \"aeiou\" and w[-1] in \"aeiou\" else 0\n",
    "            res.append(res[-1] + cur)\n",
    "        ans = []\n",
    "        for l, r in queries:\n",
    "            r += 1\n",
    "            ans.append(res[r] - res[l])\n",
    "        return ans"
   ]
  },
  {
   "cell_type": "code",
   "execution_count": 17,
   "id": "20dbaa8f-9623-49d1-826d-eb6c955e229d",
   "metadata": {},
   "outputs": [],
   "source": [
    "words = [\"a\",\"e\",\"i\"]\n",
    "queries = [[0,2],[0,1],[2,2]]"
   ]
  },
  {
   "cell_type": "code",
   "execution_count": 18,
   "id": "7cb79e33-9d28-4493-b9ed-df9497786f97",
   "metadata": {},
   "outputs": [
    {
     "data": {
      "text/plain": [
       "[3, 2, 1]"
      ]
     },
     "execution_count": 18,
     "metadata": {},
     "output_type": "execute_result"
    }
   ],
   "source": [
    "s = Solution()\n",
    "s.vowelStrings(words, queries)"
   ]
  },
  {
   "cell_type": "markdown",
   "id": "aeea3fcf-c42d-41df-8644-cb8f37014e51",
   "metadata": {},
   "source": [
    "### 3. 打家劫舍 Ⅳ（2560）"
   ]
  },
  {
   "cell_type": "code",
   "execution_count": 10,
   "id": "ee442a2f-fac5-45e5-9ed5-90035de191e6",
   "metadata": {},
   "outputs": [],
   "source": [
    "from typing import List\n",
    "from functools import lru_cache\n",
    "class Solution:\n",
    "    def minCapability(self, nums: List[int], k: int) -> int:\n",
    "        ans = []\n",
    "        @lru_cache(2000)\n",
    "        def dfs(idx, s, max_, sum_):\n",
    "            if sum_ == k:\n",
    "                # ans.append(max_)\n",
    "                ans.append(max_)\n",
    "                return\n",
    "            if idx == len(nums) - 1: return\n",
    "            for i in range(idx, len(nums)):\n",
    "                dfs(i + 1, 0, max_, sum_)\n",
    "                if i == idx and s: continue\n",
    "                dfs(i + 1, 1, max(max_, nums[i]), sum_ + 1)\n",
    "        dfs(0, 0, 0, 0)\n",
    "        return min(ans)"
   ]
  },
  {
   "cell_type": "code",
   "execution_count": 11,
   "id": "5d9bd9d1-f46d-4926-ad5f-b49a1f29ed21",
   "metadata": {},
   "outputs": [],
   "source": [
    "nums = [2,7,9,3,1]\n",
    "k = 2"
   ]
  },
  {
   "cell_type": "code",
   "execution_count": 12,
   "id": "dc977f7e-bbf0-430f-aa71-6448ae141e3d",
   "metadata": {},
   "outputs": [
    {
     "data": {
      "text/plain": [
       "2"
      ]
     },
     "execution_count": 12,
     "metadata": {},
     "output_type": "execute_result"
    }
   ],
   "source": [
    "s = Solution()\n",
    "s.minCapability(nums, k)"
   ]
  },
  {
   "cell_type": "markdown",
   "id": "b5de294b-8a37-422a-b0ec-41c33654c214",
   "metadata": {},
   "source": [
    "超时"
   ]
  },
  {
   "cell_type": "code",
   "execution_count": 50,
   "id": "d52e4fca-e783-41cc-a02f-25fff3d0d5a6",
   "metadata": {},
   "outputs": [],
   "source": [
    "class Solution:\n",
    "    def minCapability(self, nums: List[int], k: int) -> int:\n",
    "        dp = [[0, 0, 0], [1, nums[0], 1]]\n",
    "        ans = float(\"inf\")\n",
    "        for i, n in enumerate(nums[1:]):\n",
    "            cur = [[0, 0, 0]]\n",
    "            cur[0][1], cur[0][2] = (dp[0][1], dp[0][2]) if dp[0][1] < dp[1][1] else (dp[1][1], dp[1][2])\n",
    "            cur.append([1, max(dp[0][1], n), dp[0][2] + 1])\n",
    "            if cur[0][2] >= k: ans = min(ans, cur[0][1])\n",
    "            if cur[1][2] >= k: ans = min(ans, cur[1][1])\n",
    "            dp = cur\n",
    "            print(dp)\n",
    "        return ans"
   ]
  },
  {
   "cell_type": "code",
   "execution_count": 54,
   "id": "74903793-fc9c-4941-9400-148eba3ae7eb",
   "metadata": {},
   "outputs": [],
   "source": [
    "nums = [2,3,5,9]\n",
    "k = 2"
   ]
  },
  {
   "cell_type": "code",
   "execution_count": 55,
   "id": "4367ef8b-a36e-436b-9660-e99ada3d0dce",
   "metadata": {},
   "outputs": [
    {
     "data": {
      "text/plain": [
       "0"
      ]
     },
     "execution_count": 55,
     "metadata": {},
     "output_type": "execute_result"
    }
   ],
   "source": [
    "s = Solution()\n",
    "s.minCapability(nums, k)"
   ]
  },
  {
   "cell_type": "markdown",
   "id": "6b727b5b-170a-490c-9d79-15456456de3a",
   "metadata": {},
   "source": [
    "思路差了一点"
   ]
  },
  {
   "cell_type": "code",
   "execution_count": 90,
   "id": "832a8879-b27e-4504-9dbc-16c0496ff566",
   "metadata": {},
   "outputs": [],
   "source": [
    "from collections import defaultdict\n",
    "class Solution:\n",
    "    def minCapability(self, nums: List[int], k: int) -> int:\n",
    "        memo = {0:0}\n",
    "        pre = {0:0}\n",
    "        for n in nums:\n",
    "            cur = dict()\n",
    "            for key in memo:\n",
    "                if key + 1 not in cur: cur[key + 1] = max(memo[key], n)\n",
    "                cur[key + 1] = min(cur[key + 1], max(memo[key], n))\n",
    "            for key in pre:\n",
    "                if key not in memo: memo[key] = pre[key]\n",
    "                memo[key] = min(memo[key], pre[key])\n",
    "            pre = cur\n",
    "            \n",
    "        for key in pre:\n",
    "            if key not in memo: memo[key] = pre[key]\n",
    "            memo[key] = min(memo[key], pre[key])\n",
    "        # print(memo)\n",
    "        return memo[k]"
   ]
  },
  {
   "cell_type": "code",
   "execution_count": 91,
   "id": "f1dd3bbd-6991-4f12-ac28-60f6d8356cd3",
   "metadata": {},
   "outputs": [],
   "source": [
    "nums = [2,7,9,3,1]\n",
    "k = 2"
   ]
  },
  {
   "cell_type": "code",
   "execution_count": 92,
   "id": "8bbd89ba-e239-4b91-9059-b24f53283b63",
   "metadata": {},
   "outputs": [
    {
     "data": {
      "text/plain": [
       "2"
      ]
     },
     "execution_count": 92,
     "metadata": {},
     "output_type": "execute_result"
    }
   ],
   "source": [
    "s = Solution()\n",
    "s.minCapability(nums, k)"
   ]
  },
  {
   "cell_type": "markdown",
   "id": "1c35a509-c5e0-47ee-aeb4-8bafcd95182c",
   "metadata": {},
   "source": [
    "#### 二分答案"
   ]
  },
  {
   "cell_type": "markdown",
   "id": "adbee575-7976-4e22-8613-8ec1c71cf2f0",
   "metadata": {},
   "source": [
    "能够使用二分答案的方法基于题目满足单调的条件：  \n",
    "对于给定的窃取能力（窃取的最大金额），这个数值越大则可以偷窃的房屋必然越多，即满足单调性；我们二分地枚举窃取能力 mx，直到刚好达到给定的窃取房屋数量 k，mx 即为所求。  "
   ]
  },
  {
   "cell_type": "code",
   "execution_count": 96,
   "id": "b8c1a78b-d156-4132-88e9-9d9984e808bb",
   "metadata": {},
   "outputs": [],
   "source": [
    "from bisect import bisect_left\n",
    "class Solution:\n",
    "    def minCapability(self, nums: List[int], k: int) -> int:\n",
    "        def check(mx: int) -> int:\n",
    "            # 给定能够窃取的最大金额，返回能够偷的最多房屋数量\n",
    "            dp0 = dp1 = 0\n",
    "            for n in nums:\n",
    "                if n > mx: dp0 = dp1\n",
    "                else: dp0, dp1 = dp1, max(dp1, dp0 + 1)\n",
    "            return dp1\n",
    "        return bisect_left(range(max(nums) + 1), k, key = check)"
   ]
  },
  {
   "cell_type": "markdown",
   "id": "4b363336-541d-4b1c-86b1-2edffe9df0c8",
   "metadata": {},
   "source": [
    "### 4."
   ]
  },
  {
   "cell_type": "markdown",
   "id": "6a53781f-93f9-4115-b264-ed432043db76",
   "metadata": {},
   "source": [
    "## 第 97 场双周赛 (Re)"
   ]
  },
  {
   "cell_type": "code",
   "execution_count": null,
   "id": "48c2590e-dad3-40ed-9382-2e6f20e360be",
   "metadata": {},
   "outputs": [],
   "source": []
  },
  {
   "cell_type": "code",
   "execution_count": null,
   "id": "cd39105b-d697-42ac-839a-aa32bf03fbfc",
   "metadata": {},
   "outputs": [],
   "source": []
  },
  {
   "cell_type": "code",
   "execution_count": null,
   "id": "76b20b66-6ce0-446d-8d1a-9fe8851cd586",
   "metadata": {},
   "outputs": [],
   "source": []
  }
 ],
 "metadata": {
  "kernelspec": {
   "display_name": "Python 3 (ipykernel)",
   "language": "python",
   "name": "python3"
  },
  "language_info": {
   "codemirror_mode": {
    "name": "ipython",
    "version": 3
   },
   "file_extension": ".py",
   "mimetype": "text/x-python",
   "name": "python",
   "nbconvert_exporter": "python",
   "pygments_lexer": "ipython3",
   "version": "3.6.3"
  }
 },
 "nbformat": 4,
 "nbformat_minor": 5
}
