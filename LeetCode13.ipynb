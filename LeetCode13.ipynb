{
 "cells": [
  {
   "cell_type": "markdown",
   "id": "0d4e8b0e-81b7-4c6b-8505-5b46e86948d6",
   "metadata": {},
   "source": [
    "## 792. 匹配子序列的单词数 (11.17)"
   ]
  },
  {
   "cell_type": "markdown",
   "id": "8372977f-2fbd-40f0-994c-35744bde89e7",
   "metadata": {},
   "source": [
    "### 二分查找"
   ]
  },
  {
   "cell_type": "code",
   "execution_count": 14,
   "id": "a5165a01-b866-48e8-b826-a2b2ac63047c",
   "metadata": {},
   "outputs": [],
   "source": [
    "from typing import List\n",
    "from collections import defaultdict\n",
    "class Solution:\n",
    "    def numMatchingSubseq(self, s: str, words: List[str]) -> int:\n",
    "        pos = defaultdict(list)\n",
    "        for i, c in enumerate(s):\n",
    "            pos[c].append(i)\n",
    "        ans = len(words)\n",
    "        for w in words:\n",
    "            if len(w) > len(s):\n",
    "                ans -= 1\n",
    "                continue\n",
    "            p = -1\n",
    "            for c in w:\n",
    "                ps = pos[c]\n",
    "                j = bisect_right(ps, p)\n",
    "                if j == len(ps):\n",
    "                    ans -= 1\n",
    "                    break\n",
    "                p = ps[j]\n",
    "        return ans\n",
    "\n",
    "# 作者：LeetCode-Solution\n",
    "# 链接：https://leetcode.cn/problems/number-of-matching-subsequences/solution/pi-pei-zi-xu-lie-de-dan-ci-shu-by-leetco-vki7/\n",
    "# 来源：力扣（LeetCode）\n",
    "# 著作权归作者所有。商业转载请联系作者获得授权，非商业转载请注明出处。"
   ]
  },
  {
   "cell_type": "markdown",
   "id": "d76ebd41-e74a-4cce-a0a6-9c9d029cfb58",
   "metadata": {},
   "source": [
    "## 1710. 卡车上的最大单元数"
   ]
  },
  {
   "cell_type": "code",
   "execution_count": 2,
   "id": "262edcdf-fee4-4759-ae37-e813596bc1a8",
   "metadata": {},
   "outputs": [],
   "source": [
    "from typing import List\n",
    "class Solution:\n",
    "    def maximumUnits(self, boxTypes: List[List[int]], truckSize: int) -> int:\n",
    "        boxTypes.sort(key = lambda x : x[1], reverse = True)\n",
    "        cur, ans = truckSize, 0\n",
    "        for x, y in boxTypes:\n",
    "            if cur <= 0: break\n",
    "            ans += cur * y if cur <= x else x * y\n",
    "            cur -= x\n",
    "        return ans"
   ]
  },
  {
   "cell_type": "markdown",
   "id": "ffb48bac-f4a7-4c56-8ed6-69cacb0f59f7",
   "metadata": {},
   "source": [
    "## 799. 香槟塔"
   ]
  },
  {
   "cell_type": "code",
   "execution_count": 116,
   "id": "ebe82e79-e6ae-4bc1-8c6f-3107fcbec8b4",
   "metadata": {},
   "outputs": [],
   "source": [
    "class Solution:\n",
    "    def champagneTower(self, poured: int, query_row: int, query_glass: int) -> float:\n",
    "        if query_row == 0: return min(poured, 1)\n",
    "        pre = [1]\n",
    "        for _ in range(query_row):\n",
    "            poured -= sum(pre)\n",
    "            if poured <= 0: return 0\n",
    "            cur = [1]\n",
    "            for i in range(len(pre) - 1):\n",
    "                cur.append(pre[i] + pre[i + 1])\n",
    "            cur.append(1)\n",
    "            pre = cur\n",
    "        return max(poured * (pre[query_glass] / sum(pre)), 1)"
   ]
  },
  {
   "cell_type": "code",
   "execution_count": 114,
   "id": "9db6d404-f71a-4426-82c8-b631a6537fb5",
   "metadata": {},
   "outputs": [],
   "source": [
    "poured = 100000009\n",
    "query_row = 33\n",
    "query_glass = 17"
   ]
  },
  {
   "cell_type": "code",
   "execution_count": 115,
   "id": "ba1a686e-6a4d-49d7-8a03-e27a73e4236b",
   "metadata": {},
   "outputs": [
    {
     "data": {
      "text/plain": [
       "0"
      ]
     },
     "execution_count": 115,
     "metadata": {},
     "output_type": "execute_result"
    }
   ],
   "source": [
    "s = Solution()\n",
    "s.champagneTower(poured, query_row, query_glass)"
   ]
  },
  {
   "cell_type": "markdown",
   "id": "ad5d1df1-0b35-4fbc-9299-e2667d33314e",
   "metadata": {},
   "source": [
    "错误，没有考虑到同一排的杯子水不一定同时装满。"
   ]
  },
  {
   "cell_type": "markdown",
   "id": "85ca75ad-e30a-4c35-88c2-c3168ec86b31",
   "metadata": {},
   "source": [
    "### 240ms"
   ]
  },
  {
   "cell_type": "code",
   "execution_count": 166,
   "id": "6127ff8e-af70-48c8-b939-be4c21878fa1",
   "metadata": {},
   "outputs": [],
   "source": [
    "class Solution:\n",
    "    def champagneTower(self, poured: int, query_row: int, query_glass: int) -> float:\n",
    "        if query_row == 0: return min(poured, 1)\n",
    "        def get_dp(x, n):\n",
    "            # print(x)\n",
    "            return max((dp[x] - 1) / 2, 0) if 0 <= x < n else 0\n",
    "        \n",
    "        dp = [poured]\n",
    "        for _ in range(query_row):\n",
    "            n = len(dp)\n",
    "            cur = [0] * (n + 1)\n",
    "            # print(cur)\n",
    "            for i in range(n + 1):\n",
    "                total = get_dp(i - 1, n) + get_dp(i, n)\n",
    "                cur[i] = (max(total, 0))\n",
    "            # print(cur)\n",
    "            dp = cur\n",
    "        \n",
    "        return min(dp[query_glass], 1)"
   ]
  },
  {
   "cell_type": "code",
   "execution_count": 167,
   "id": "f3f8d755-ba42-499e-9ddd-dd2332e9af56",
   "metadata": {},
   "outputs": [],
   "source": [
    "poured = 2\n",
    "query_row = 1\n",
    "query_glass = 1"
   ]
  },
  {
   "cell_type": "code",
   "execution_count": 168,
   "id": "0afafd89-fd72-4eea-a130-06b7439059b4",
   "metadata": {},
   "outputs": [
    {
     "data": {
      "text/plain": [
       "0.5"
      ]
     },
     "execution_count": 168,
     "metadata": {},
     "output_type": "execute_result"
    }
   ],
   "source": [
    "s = Solution()\n",
    "s.champagneTower(poured, query_row, query_glass)"
   ]
  },
  {
   "cell_type": "markdown",
   "id": "5b8ca9c1-2b53-4edd-865c-047106398316",
   "metadata": {},
   "source": [
    "### 80ms"
   ]
  },
  {
   "cell_type": "code",
   "execution_count": 176,
   "id": "30172fec-14fb-4d2d-aba5-05f05a3f6b2b",
   "metadata": {},
   "outputs": [],
   "source": [
    "class Solution:\n",
    "    def champagneTower(self, poured: int, query_row: int, query_glass: int) -> float:\n",
    "        row = [poured]\n",
    "        for i in range(1, query_row + 1):\n",
    "            nextRow = [0] * (i + 1)\n",
    "            for j, volume in enumerate(row):\n",
    "                if volume > 1:\n",
    "                    nextRow[j] += (volume - 1) / 2\n",
    "                    nextRow[j + 1] += (volume - 1) / 2\n",
    "            row = nextRow\n",
    "        return min(1, row[query_glass])"
   ]
  },
  {
   "cell_type": "code",
   "execution_count": 177,
   "id": "a8916820-6292-4a68-a7c6-0b6ba34dfc68",
   "metadata": {},
   "outputs": [],
   "source": [
    "class Solution:\n",
    "    def champagneTower(self, poured: int, query_row: int, query_glass: int) -> float:\n",
    "        dp = [poured]\n",
    "        for _ in range(query_row):\n",
    "            n = len(dp)\n",
    "            cur = [0] * (n + 1)\n",
    "            # print(cur)\n",
    "            for i in range(n):\n",
    "                if dp[i] > 1:\n",
    "                    cur[i] += (dp[i] - 1) / 2\n",
    "                    cur[i + 1] += (dp[i] - 1) / 2\n",
    "            # print(cur)\n",
    "            dp = cur\n",
    "        \n",
    "        return min(dp[query_glass], 1)"
   ]
  },
  {
   "cell_type": "code",
   "execution_count": 178,
   "id": "e1bb1853-9881-436d-9139-7afefa9c63b3",
   "metadata": {},
   "outputs": [],
   "source": [
    "poured = 2\n",
    "query_row = 1\n",
    "query_glass = 1"
   ]
  },
  {
   "cell_type": "code",
   "execution_count": 179,
   "id": "4cc2dec9-8f87-456f-8a0d-ffa13aedb521",
   "metadata": {},
   "outputs": [
    {
     "data": {
      "text/plain": [
       "0.5"
      ]
     },
     "execution_count": 179,
     "metadata": {},
     "output_type": "execute_result"
    }
   ],
   "source": [
    "s = Solution()\n",
    "s.champagneTower(poured, query_row, query_glass)"
   ]
  },
  {
   "cell_type": "markdown",
   "id": "96f162bc-23eb-4641-bb94-f203e034ceca",
   "metadata": {},
   "source": [
    "为啥一个外部的函数这么费时间呢？"
   ]
  },
  {
   "cell_type": "markdown",
   "id": "1e68bbdf-2205-475d-9072-5bf2f07d0048",
   "metadata": {},
   "source": [
    "## 1769. 移动所有球到每个盒子所需的最小操作数"
   ]
  },
  {
   "cell_type": "code",
   "execution_count": 7,
   "id": "a7dcc7ce-3b68-4078-b69f-8a3c9f61bbbf",
   "metadata": {},
   "outputs": [],
   "source": [
    "from typing import List\n",
    "class Solution:\n",
    "    def minOperations(self, boxes: str) -> List[int]:\n",
    "        pos = [i for i, b in enumerate(boxes) if b == \"1\"]\n",
    "        res = []\n",
    "        for i in range(len(boxes)):\n",
    "            res.append(sum(abs(i - n) for n in pos))\n",
    "        return res"
   ]
  },
  {
   "cell_type": "code",
   "execution_count": 10,
   "id": "90c825f0-433e-4015-889a-ea0b695ede07",
   "metadata": {},
   "outputs": [],
   "source": [
    "boxes = \"110\""
   ]
  },
  {
   "cell_type": "code",
   "execution_count": 11,
   "id": "f545e658-380f-4d86-b6c5-1aa6880390ab",
   "metadata": {},
   "outputs": [
    {
     "data": {
      "text/plain": [
       "[1, 1, 3]"
      ]
     },
     "execution_count": 11,
     "metadata": {},
     "output_type": "execute_result"
    }
   ],
   "source": [
    "s = Solution()\n",
    "s.minOperations(boxes)"
   ]
  },
  {
   "cell_type": "markdown",
   "id": "f715aea1-239b-4872-8f60-45b24e0b5ab6",
   "metadata": {},
   "source": [
    "- 时间复杂度: O(n ** 2)\n",
    "- 空间复杂度: O(n)"
   ]
  },
  {
   "cell_type": "markdown",
   "id": "53f79031-1e4b-45de-b1ce-44ce4c2a2686",
   "metadata": {},
   "source": [
    "尝试优化"
   ]
  },
  {
   "cell_type": "markdown",
   "id": "e9517c76-f853-4caa-b58e-f3d6f4c15cd6",
   "metadata": {},
   "source": [
    "### 方法二：根据前一个盒子的操作数得到下一个盒子的操作数"
   ]
  },
  {
   "cell_type": "markdown",
   "id": "fc1e68d9-7fd6-4bce-a3c4-83f61e0fdc80",
   "metadata": {},
   "source": [
    "> 记把所有球转移到当前下表为 $i$ 的盒子的操作数为 $operation$, 初始情况下当前盒子及其左侧有 $left_i$ 个球，右侧有 $right_i$ 个球。那么，已知这三者的情况下，把所有球转移到当前下标为 $i + 1$ 的盒子的操作数 $operation_{i + 1}$ 就可以由 $operation_i + left_i - right_i$ 快速得出，因为原来左侧的 $left_i$ 个球需要多操作一步，原来右侧的 $right_i$ 个球可以各少操作一部。计算完 $opeartion_{i + 1}$ 后，需要更新 $left_{i + 1}$ 和 $right_{i + 1}$。而初始的 $operation_0, left_0, right_0$可以通过模拟计算得到。"
   ]
  },
  {
   "cell_type": "code",
   "execution_count": 21,
   "id": "1e9696c6-0f09-4736-a07c-761d6696f6d8",
   "metadata": {},
   "outputs": [],
   "source": [
    "class Solution:\n",
    "    def minOperations(self, boxes: str) -> List[int]:\n",
    "        left, right, op = int(boxes[0]), 0, 0\n",
    "        for i in range(1, len(boxes)):\n",
    "            if boxes[i] == \"1\":\n",
    "                right += 1\n",
    "                op += i\n",
    "        res = [op]\n",
    "        for i in range(1, len(boxes)):\n",
    "            op += left - right\n",
    "            if boxes[i] == \"1\": \n",
    "                left += 1\n",
    "                right -= 1\n",
    "            res.append(op)\n",
    "        return res"
   ]
  },
  {
   "cell_type": "code",
   "execution_count": 22,
   "id": "7f93f609-0461-44df-82b4-947a7b1cd884",
   "metadata": {},
   "outputs": [],
   "source": [
    "boxes = \"001011\""
   ]
  },
  {
   "cell_type": "code",
   "execution_count": 23,
   "id": "ef09bf00-ca5b-40d0-a576-d0f5d083e97f",
   "metadata": {},
   "outputs": [
    {
     "data": {
      "text/plain": [
       "[11, 8, 5, 4, 3, 4]"
      ]
     },
     "execution_count": 23,
     "metadata": {},
     "output_type": "execute_result"
    }
   ],
   "source": [
    "s = Solution()\n",
    "s.minOperations(boxes)"
   ]
  },
  {
   "cell_type": "markdown",
   "id": "04aa7d05-444b-4b9f-bcca-3b2c8d62b733",
   "metadata": {},
   "source": [
    "- 时间复杂度：O(n)"
   ]
  },
  {
   "cell_type": "markdown",
   "id": "aba42ba2-45dd-4f9e-914d-ae3916635c55",
   "metadata": {},
   "source": [
    "## 895. 最大频率栈"
   ]
  },
  {
   "cell_type": "code",
   "execution_count": 26,
   "id": "fabf8211-5f46-4009-b252-0b3ed15bd726",
   "metadata": {},
   "outputs": [],
   "source": [
    "from collections import defaultdict\n",
    "class FreqStack:\n",
    "\n",
    "    def __init__(self):\n",
    "        self.cnt = defaultdict(int)\n",
    "        self.map = defaultdict(list)\n",
    "        self.max = 0\n",
    "\n",
    "    def push(self, val: int) -> None:\n",
    "        self.cnt[val] += 1\n",
    "        self.map[self.cnt[val]].append(val)\n",
    "        self.max = max(self.max, self.cnt[val])\n",
    "        \n",
    "    def pop(self) -> int:\n",
    "        ans = self.map[self.max].pop()\n",
    "        self.cnt[ans] -= 1\n",
    "        if not self.map[self.max]: self.max -= 1\n",
    "        return ans"
   ]
  },
  {
   "cell_type": "markdown",
   "id": "284ca4b6-5a21-49a2-abad-98cf0454a38b",
   "metadata": {},
   "source": [
    "## 1775. 通过最少操作次数使数组的和相等"
   ]
  },
  {
   "cell_type": "markdown",
   "id": "325877fa-e299-4372-96d6-c47fb9dcd861",
   "metadata": {},
   "source": [
    "贪心 + 计数排序"
   ]
  },
  {
   "cell_type": "code",
   "execution_count": 9,
   "id": "79212442-c248-4786-a354-e9b4939f00be",
   "metadata": {},
   "outputs": [],
   "source": [
    "from collections import defaultdict, Counter\n",
    "class Solution:\n",
    "    def minOperations(self, nums1: List[int], nums2: List[int]) -> int:\n",
    "        sum1, sum2 = sum(nums1), sum(nums2)\n",
    "        if sum1 > sum2: return self.minOperations(nums2, nums1)\n",
    "        # sum1 <= sum2\n",
    "        diff = sum2 - sum1\n",
    "        # cnt = Counter((6 - n) for n in nums1) + Counter((n - 1) for n in nums2)\n",
    "        cnt = Counter([6 - n for n in nums1] + [n - 1 for n in nums2])\n",
    "        step = 0\n",
    "        for key in range(5, 0, -1):\n",
    "            while cnt[key] > 0 and diff > 0:\n",
    "                diff -= key\n",
    "                cnt[key] -= 1\n",
    "                step += 1\n",
    "        \n",
    "        return step if diff <= 0 else -1"
   ]
  },
  {
   "cell_type": "markdown",
   "id": "c71d74a8-0ed8-482d-a630-85072750df4d",
   "metadata": {},
   "source": [
    "## 1774. 最接近目标价格的甜品成本"
   ]
  },
  {
   "cell_type": "markdown",
   "id": "ec63de08-82e3-4b91-821f-1c685e1b7f7e",
   "metadata": {},
   "source": [
    "针对每种base，回溯查找topping的最佳组合使得当前的值更接近target并且更小，遍历base返回全局的最优值。"
   ]
  },
  {
   "cell_type": "code",
   "execution_count": 12,
   "id": "7fd818aa-6970-4e49-9883-7f3c6061ee11",
   "metadata": {},
   "outputs": [],
   "source": [
    "class Solution:\n",
    "    def closestCost(self, baseCosts: List[int], toppingCosts: List[int], target: int) -> int:\n",
    "        ans = min(baseCosts)\n",
    "        def dfs(c, idx):\n",
    "            nonlocal ans\n",
    "            # 当前枚举的数值已经大于目前最佳，返回\n",
    "            if abs(ans - target) < c - target: return \n",
    "            # 当前枚举数值优于目前最佳\n",
    "            if abs(ans - target) >= abs(c - target):\n",
    "                # 严格小于，更新ans\n",
    "                if abs(ans - target) > abs(c - target): ans = c\n",
    "                # 相等取小的\n",
    "                else: ans = min(ans, c)\n",
    "            if idx == len(toppingCosts): return \n",
    "            dfs(c, idx + 1)  # 不选取当前配料\n",
    "            dfs(c + toppingCosts[idx], idx + 1)  # 选取一份\n",
    "            dfs(c + toppingCosts[idx] * 2, idx + 1)  # 选取两份\n",
    "        \n",
    "        for c in baseCosts:\n",
    "            dfs(c, 0)\n",
    "        return ans"
   ]
  },
  {
   "cell_type": "markdown",
   "id": "b5ea703c-0496-420c-9bcf-332c58b4c1f4",
   "metadata": {},
   "source": [
    "## 2074. 反转偶数长度组的节点"
   ]
  },
  {
   "cell_type": "code",
   "execution_count": 1,
   "id": "95018854-35d5-4a47-8d46-30a08db92fbf",
   "metadata": {},
   "outputs": [],
   "source": [
    "# Definition for singly-linked list.\n",
    "class ListNode:\n",
    "    def __init__(self, val=0, next=None):\n",
    "        self.val = val\n",
    "        self.next = next"
   ]
  },
  {
   "cell_type": "code",
   "execution_count": 28,
   "id": "473455bc-abe5-4654-aa2a-10a940c58263",
   "metadata": {},
   "outputs": [],
   "source": [
    "from typing import Optional\n",
    "class Solution:\n",
    "    def reverseEvenLengthGroups(self, head: Optional[ListNode]) -> Optional[ListNode]:\n",
    "        i = 0\n",
    "        cur, pre = head, None\n",
    "        while cur:\n",
    "            i += 1\n",
    "            it = cur\n",
    "            length = 0\n",
    "            while length < i and it:\n",
    "                length += 1\n",
    "                it = it.next\n",
    "            \n",
    "            if length & 1:\n",
    "                for j in range(length):\n",
    "                    pre, cur = cur, cur.next\n",
    "            else:\n",
    "                for j in range(length - 1):\n",
    "                    pre.next, cur.next.next, cur.next = cur.next, pre.next, cur.next.next\n",
    "                pre, cur = cur, cur.next\n",
    "\n",
    "        return head"
   ]
  },
  {
   "cell_type": "markdown",
   "id": "6f3868c7-fb47-40d5-b7f2-5420cd435cd4",
   "metadata": {},
   "source": [
    "## 947. 移除最多的同行或同列石头"
   ]
  },
  {
   "cell_type": "code",
   "execution_count": 53,
   "id": "50183d78-75ff-4871-8cea-66cb1e0127e6",
   "metadata": {},
   "outputs": [],
   "source": [
    "class UF:\n",
    "    def __init__(self, n):\n",
    "        self.fa = [i for i in range(n)]\n",
    "        self.rank = [1] * n\n",
    "        \n",
    "    def find(self, x):\n",
    "        if self.fa[x] != x:\n",
    "            self.fa[x] = self.find(self.fa[x])\n",
    "        return self.fa[x]\n",
    "    \n",
    "    def union(self, x, y):\n",
    "        fx, fy = self.find(x), self.find(y)\n",
    "        if fx != fy:\n",
    "            if self.rank[fx] > self.rank[fy]:\n",
    "                fx, fy = fy, fx\n",
    "            if self.rank[fx] == self.rank[fy]:\n",
    "                self.rank[fy] += 1\n",
    "            self.fa[fx] = fy\n",
    "\n",
    "from typing import List\n",
    "class Solution:\n",
    "    def removeStones(self, stones: List[List[int]]) -> int:\n",
    "        n = len(stones)\n",
    "        # stones = [set(n) for n in stones]\n",
    "        uf = UF(n)\n",
    "        for i in range(n):\n",
    "            for j in range(i + 1, n):\n",
    "                if stones[i][0] == stones[j][0] or stones[i][1] == stones[j][1]:\n",
    "                    uf.union(i, j)\n",
    "        \n",
    "        return n - sum(uf.fa[i] == i for i in range(n))"
   ]
  },
  {
   "cell_type": "code",
   "execution_count": 54,
   "id": "33a4a058-7501-4626-bf90-711c21d2a5af",
   "metadata": {},
   "outputs": [],
   "source": [
    "stones = [[0,0]]"
   ]
  },
  {
   "cell_type": "code",
   "execution_count": 55,
   "id": "89f3ddb3-4338-4ad0-8c3f-430e798c93d0",
   "metadata": {},
   "outputs": [
    {
     "data": {
      "text/plain": [
       "0"
      ]
     },
     "execution_count": 55,
     "metadata": {},
     "output_type": "execute_result"
    }
   ],
   "source": [
    "s = Solution()\n",
    "s.removeStones(stones)"
   ]
  },
  {
   "cell_type": "markdown",
   "id": "c5685415-f00d-4cc8-966f-a496338f5c74",
   "metadata": {},
   "source": [
    "优化：哈希表"
   ]
  },
  {
   "cell_type": "code",
   "execution_count": 59,
   "id": "ac4def59-db38-4870-97dd-590450674d7c",
   "metadata": {},
   "outputs": [],
   "source": [
    "from collections import defaultdict\n",
    "class UF:\n",
    "    def __init__(self, n):\n",
    "        self.fa = [i for i in range(n)]\n",
    "        self.rank = [1] * n\n",
    "        \n",
    "    def find(self, x):\n",
    "        if self.fa[x] != x:\n",
    "            self.fa[x] = self.find(self.fa[x])\n",
    "        return self.fa[x]\n",
    "    \n",
    "    def union(self, x, y):\n",
    "        fx, fy = self.find(x), self.find(y)\n",
    "        if fx != fy:\n",
    "            if self.rank[fx] > self.rank[fy]:\n",
    "                fx, fy = fy, fx\n",
    "            if self.rank[fx] == self.rank[fy]:\n",
    "                self.rank[fy] += 1\n",
    "            self.fa[fx] = fy\n",
    "            \n",
    "\n",
    "class Solution:\n",
    "    def removeStones(self, stones: List[List[int]]) -> int:\n",
    "        cnt = defaultdict(list)\n",
    "        for i, xy in enumerate(stones):\n",
    "            x, y = xy[0], xy[1]\n",
    "            cnt[(x, -1)].append(i)\n",
    "            cnt[(y, -2)].append(i)\n",
    "        \n",
    "        n = i + 1\n",
    "        uf = UF(n)\n",
    "        for key in cnt:\n",
    "            head = cnt[key][0]\n",
    "            for val in cnt[key]:\n",
    "                uf.union(head, val)\n",
    "        \n",
    "        return n - sum(uf.fa[i] == i for i in range(n))"
   ]
  },
  {
   "cell_type": "markdown",
   "id": "9f4bd057-d621-4dba-861c-265d6c23e329",
   "metadata": {},
   "source": [
    "## 337. 打家劫舍Ⅲ"
   ]
  },
  {
   "cell_type": "code",
   "execution_count": 61,
   "id": "bdaeb03f-52fb-4030-9836-d04a5a25fbc4",
   "metadata": {},
   "outputs": [],
   "source": [
    "# Definition for a binary tree node.\n",
    "class TreeNode:\n",
    "    def __init__(self, val=0, left=None, right=None):\n",
    "        self.val = val\n",
    "        self.left = left\n",
    "        self.right = right"
   ]
  },
  {
   "cell_type": "code",
   "execution_count": 87,
   "id": "adf24c4c-85f9-4cf0-a669-1195acf80f52",
   "metadata": {},
   "outputs": [],
   "source": [
    "class Solution:\n",
    "    def rob(self, root: Optional[TreeNode]) -> int:\n",
    "        def dp(node, i):\n",
    "            if (node, i) in memo: return memo[(node, i)]\n",
    "            if not node: return 0\n",
    "            if not node.left and not node.right:\n",
    "                return node.val if i else 0\n",
    "            \n",
    "            ans = node.val if i else 0\n",
    "            l, r = node.left, node.right\n",
    "            \n",
    "            if i == 0:\n",
    "                ans += max(\n",
    "                    dp(l, 0) + dp(r, 0),\n",
    "                    dp(l, 1) + dp(r, 1),\n",
    "                    dp(l, 1) + dp(r, 0),\n",
    "                    dp(l, 0) + dp(r, 1), \n",
    "                )\n",
    "            else: ans += dp(l, 0) + dp(r, 0)\n",
    "            \n",
    "            memo[(node, i)] = ans\n",
    "            return memo[(node, i)]\n",
    "        \n",
    "        memo = {}\n",
    "        # print(memo)\n",
    "        return max(dp(root, 1), dp(root, 0))"
   ]
  },
  {
   "cell_type": "code",
   "execution_count": 88,
   "id": "927a58cb-45f3-4686-b84c-200035b14316",
   "metadata": {},
   "outputs": [],
   "source": [
    "import modules"
   ]
  },
  {
   "cell_type": "code",
   "execution_count": 89,
   "id": "d63cf6f9-1655-4ced-994e-9cfcc8d8bd30",
   "metadata": {},
   "outputs": [],
   "source": [
    "null = None\n",
    "nums = root = [3,2,3,null,3,null,1]"
   ]
  },
  {
   "cell_type": "code",
   "execution_count": 90,
   "id": "73423e8d-e1a4-4dc1-8b91-40cfc7d4530d",
   "metadata": {},
   "outputs": [],
   "source": [
    "head = modules.constructTree(nums)"
   ]
  },
  {
   "cell_type": "code",
   "execution_count": 91,
   "id": "c25fb9d8-a727-48ba-9dc6-e912c8f5e994",
   "metadata": {},
   "outputs": [
    {
     "data": {
      "text/plain": [
       "7"
      ]
     },
     "execution_count": 91,
     "metadata": {},
     "output_type": "execute_result"
    }
   ],
   "source": [
    "s = Solution()\n",
    "s.rob(head)"
   ]
  },
  {
   "cell_type": "markdown",
   "id": "c8d76bfd-6d29-400a-8eff-3aa844d8723f",
   "metadata": {},
   "source": [
    "## 素数筛"
   ]
  },
  {
   "cell_type": "code",
   "execution_count": 92,
   "id": "622c525e-24cf-4af2-8c1e-699fe4c8cc3c",
   "metadata": {},
   "outputs": [],
   "source": [
    "def primeselect(right):\n",
    "    s = set()\n",
    "    res = []\n",
    "    for i in range(2, right + 1):\n",
    "        if i not in s:\n",
    "            res.append(i)\n",
    "            cur = i\n",
    "            while cur < right:\n",
    "                cur += i\n",
    "                s.add(cur)\n",
    "    return res"
   ]
  },
  {
   "cell_type": "markdown",
   "id": "5fcddd10-4379-4526-bfc7-0c8e648dd7e2",
   "metadata": {},
   "source": [
    "## bisect_left 和 bisect_right"
   ]
  },
  {
   "cell_type": "code",
   "execution_count": 101,
   "id": "6b0ebbd4-74ce-467f-bfb2-63951fceb5ae",
   "metadata": {},
   "outputs": [],
   "source": [
    "def bisect_left(a, x):\n",
    "    l, r = 0, len(a)\n",
    "    while l < r:\n",
    "        mid = (l + r) // 2\n",
    "        if a[mid] < x: l = mid + 1\n",
    "        else: r = mid\n",
    "    return l"
   ]
  },
  {
   "cell_type": "code",
   "execution_count": 99,
   "id": "64015367-470d-4adb-be32-1c5aca70b525",
   "metadata": {},
   "outputs": [],
   "source": [
    "def bisect_right(a, x):\n",
    "    l, r = 0, len(a)\n",
    "    while l < r:  # 终止条件为 l 越界\n",
    "        mid = (l + r) // 2\n",
    "        if x < a[mid]: r = mid\n",
    "        else: l = mid + 1  # 一直向右侧逼近\n",
    "    return l"
   ]
  },
  {
   "cell_type": "code",
   "execution_count": 102,
   "id": "e0cce775-7b9a-4d91-a9f9-20dcee8233fe",
   "metadata": {},
   "outputs": [
    {
     "data": {
      "text/plain": [
       "3"
      ]
     },
     "execution_count": 102,
     "metadata": {},
     "output_type": "execute_result"
    }
   ],
   "source": [
    "nums = [1,2,3,4,4,4,5,6]\n",
    "bisect_left(nums, 4)"
   ]
  },
  {
   "cell_type": "code",
   "execution_count": 103,
   "id": "fb6d9286-3992-409d-96f0-af5e3df0add8",
   "metadata": {},
   "outputs": [],
   "source": [
    "def bisearch(a, x):\n",
    "    l, r = 0, len(a)\n",
    "    while l <= r:\n",
    "        mid = (l + r) // 2\n",
    "        if a[mid] == x: return mid\n",
    "        if a[mid] > x: r = mid - 1\n",
    "        else: l = mid + 1\n",
    "    return -1"
   ]
  },
  {
   "cell_type": "code",
   "execution_count": 110,
   "id": "03e27aad-e3ab-4b02-a445-9f2c7d8e5590",
   "metadata": {},
   "outputs": [
    {
     "data": {
      "text/plain": [
       "4"
      ]
     },
     "execution_count": 110,
     "metadata": {},
     "output_type": "execute_result"
    }
   ],
   "source": [
    "bisearch(nums, 4)"
   ]
  },
  {
   "cell_type": "markdown",
   "id": "0b35587c-e9b6-460b-ac53-0a1f51e7e4d8",
   "metadata": {},
   "source": [
    "## 1827. 最少操作使数组递增（12.11）"
   ]
  },
  {
   "cell_type": "code",
   "execution_count": 2,
   "id": "7b5288cd-c4e6-4c8c-a76d-c36f4d5d8da4",
   "metadata": {},
   "outputs": [],
   "source": [
    "from typing import List\n",
    "class Solution:\n",
    "    def minOperations(self, nums: List[int]) -> int:\n",
    "        ans = 0\n",
    "        for i, n in enumerate(nums):\n",
    "            if i == 0 or n > nums[i - 1]: continue\n",
    "            ans += nums[i - 1] + 1\n",
    "            nums[i] = nums[i - 1] + 1\n",
    "        return ans"
   ]
  },
  {
   "cell_type": "markdown",
   "id": "b537af27-f8d4-4c19-b423-c283a4780cce",
   "metadata": {},
   "source": [
    "## 1781. 所有子字符串美丽值之和 (12.12)"
   ]
  },
  {
   "cell_type": "code",
   "execution_count": 1,
   "id": "25712f07-9fe9-4315-95da-748d538645e6",
   "metadata": {},
   "outputs": [],
   "source": [
    "from collections import defaultdict\n",
    "class Solution:\n",
    "    def beautySum(self, s: str) -> int:\n",
    "        ans = 0\n",
    "        for i in range(len(s)):\n",
    "            cnt = defaultdict(int)\n",
    "            mx = 0\n",
    "            for j in range(i, len(s)):\n",
    "                cnt[s[j]] += 1\n",
    "                mx = max(mx, cnt[s[j]])\n",
    "                ans += mx - min(cnt.values())\n",
    "        return ans"
   ]
  },
  {
   "cell_type": "markdown",
   "id": "9c42ee4e-c983-4bd0-a414-4f01e22c4517",
   "metadata": {},
   "source": [
    "## 1828. 统计一个圆中点的数目 (1.24)"
   ]
  },
  {
   "cell_type": "code",
   "execution_count": 6,
   "id": "d2ee1520-e101-4bdb-8bab-029257e6c9c3",
   "metadata": {},
   "outputs": [],
   "source": [
    "from typing import List\n",
    "class Solution:\n",
    "    def countPoints(self, points: List[List[int]], queries: List[List[int]]) -> List[int]:\n",
    "        res = [0] * len(queries)\n",
    "        for i, (x1, y1, r) in enumerate(queries):\n",
    "            for x2, y2 in points:\n",
    "                if (x1 - x2) ** 2 + (y1 - y2) ** 2 <= r ** 2:\n",
    "                    res[i] += 1\n",
    "        return res "
   ]
  },
  {
   "cell_type": "code",
   "execution_count": 7,
   "id": "32ab8a31-cf4b-4072-bab1-39fe9efcfea6",
   "metadata": {},
   "outputs": [],
   "source": [
    "points = [[1,3],[3,3],[5,3],[2,2]]\n",
    "queries = [[2,3,1],[4,3,1],[1,1,2]]"
   ]
  },
  {
   "cell_type": "code",
   "execution_count": 8,
   "id": "31aeec44-83e6-4074-9e56-ead1bfd276bd",
   "metadata": {},
   "outputs": [
    {
     "data": {
      "text/plain": [
       "[3, 2, 2]"
      ]
     },
     "execution_count": 8,
     "metadata": {},
     "output_type": "execute_result"
    }
   ],
   "source": [
    "s = Solution()\n",
    "s.countPoints(points, queries)"
   ]
  },
  {
   "cell_type": "markdown",
   "id": "181287d1-0013-49b2-8504-110f87e0d560",
   "metadata": {},
   "source": [
    "## 2303. 计算应缴税款总额"
   ]
  },
  {
   "cell_type": "code",
   "execution_count": 12,
   "id": "8b8ebb1a-4fbc-4cfb-9e68-6799764f4c62",
   "metadata": {},
   "outputs": [],
   "source": [
    "class Solution:\n",
    "    def calculateTax(self, brackets: List[List[int]], income: int) -> float:\n",
    "        pre = res = 0\n",
    "        for step, p in brackets:\n",
    "            cur = income - pre \n",
    "            if cur <= 0: return res \n",
    "            res += min(step - pre, cur) * p / 100\n",
    "            pre = step \n",
    "        return res "
   ]
  },
  {
   "cell_type": "code",
   "execution_count": 15,
   "id": "9b577ba9-b451-44bb-aa9f-e4db796c296f",
   "metadata": {},
   "outputs": [],
   "source": [
    "brackets = [[2,50]]\n",
    "income = 0"
   ]
  },
  {
   "cell_type": "code",
   "execution_count": 16,
   "id": "c84b2cf3-d4dd-434e-9d5a-a2647c6bbfc7",
   "metadata": {},
   "outputs": [
    {
     "data": {
      "text/plain": [
       "0"
      ]
     },
     "execution_count": 16,
     "metadata": {},
     "output_type": "execute_result"
    }
   ],
   "source": [
    "s = Solution()\n",
    "s.calculateTax(brackets, income)"
   ]
  },
  {
   "cell_type": "markdown",
   "id": "762275e2-4f41-4344-98ea-70a3d76fe12c",
   "metadata": {},
   "source": [
    "## 1663. 具有给定数值的最小字符串 (1.26)"
   ]
  },
  {
   "cell_type": "code",
   "execution_count": 14,
   "id": "0ae4e563-6f35-48f4-80b4-8c3f4187471b",
   "metadata": {},
   "outputs": [],
   "source": [
    "class Solution:\n",
    "    def getSmallestString(self, n: int, k: int) -> str:\n",
    "        res = \"\"\n",
    "        for i in range(n - 1, -1, -1):\n",
    "            if (k - 26) > i: \n",
    "                res += \"z\"\n",
    "                k -= 26 \n",
    "            else:\n",
    "                res += chr(96 + k - i) + \"a\" * i \n",
    "                break\n",
    "        return res[::-1]"
   ]
  },
  {
   "cell_type": "code",
   "execution_count": 27,
   "id": "2d28441e-ba30-4537-84ae-909ecf504a43",
   "metadata": {},
   "outputs": [],
   "source": [
    "n = 5\n",
    "k = 27"
   ]
  },
  {
   "cell_type": "code",
   "execution_count": 28,
   "id": "2fab3497-8a57-4281-96e1-7ebf25cb746a",
   "metadata": {},
   "outputs": [
    {
     "data": {
      "text/plain": [
       "'aaaaw'"
      ]
     },
     "execution_count": 28,
     "metadata": {},
     "output_type": "execute_result"
    }
   ],
   "source": [
    "s = Solution()\n",
    "s.getSmallestString(n, k)"
   ]
  },
  {
   "cell_type": "markdown",
   "id": "e0c57f27-f5e8-4851-96fb-ef411c50a05e",
   "metadata": {},
   "source": [
    "返回字符串的都可以用list最后再join避免创建多个对象"
   ]
  },
  {
   "cell_type": "code",
   "execution_count": 26,
   "id": "f9c443e7-fabc-4c5b-a9e2-50ef99b2ccfd",
   "metadata": {},
   "outputs": [],
   "source": [
    "class Solution:\n",
    "    def getSmallestString(self, n: int, k: int) -> str:\n",
    "        res = []\n",
    "        for i in range(n - 1, -1, -1):\n",
    "            if (k - 26) > i: \n",
    "                res.append(\"z\")\n",
    "                k -= 26 \n",
    "            else:\n",
    "                res.append(chr(96 + k - i)) \n",
    "                res.extend([\"a\"] * i)\n",
    "                break\n",
    "        return \"\".join(res)[::-1]"
   ]
  },
  {
   "cell_type": "markdown",
   "id": "bbdc03b9-3363-4365-b54f-ec3c1881abce",
   "metadata": {},
   "source": [
    "## 2309. 兼具大小写的最好英文字母 (1.27)"
   ]
  },
  {
   "cell_type": "code",
   "execution_count": 9,
   "id": "3995bd85-df98-4b06-b355-aecc64dec931",
   "metadata": {},
   "outputs": [],
   "source": [
    "from collections import Counter\n",
    "class Solution:\n",
    "    def greatestLetter(self, s: str) -> str:\n",
    "        cnt = Counter(s)\n",
    "        for i in range(25, -1, -1):\n",
    "            if chr(65 + i) in cnt and chr(97 + i) in cnt:\n",
    "                return chr(65 + i)\n",
    "        return \"\""
   ]
  },
  {
   "cell_type": "markdown",
   "id": "d71381ba-643b-4c90-9798-70e627420d6e",
   "metadata": {},
   "source": [
    "## 1664. 生态城平衡数组的方案数 (1.28)"
   ]
  },
  {
   "cell_type": "code",
   "execution_count": 29,
   "id": "ec1fde9f-9351-48fb-bb3e-2679d3261c0d",
   "metadata": {},
   "outputs": [],
   "source": [
    "from typing import List\n",
    "class Solution:\n",
    "    def waysToMakeFair(self, nums: List[int]) -> int:\n",
    "        prefix, suffix = dict(), dict()\n",
    "        odd = even = 0\n",
    "        for i, n in enumerate(nums):\n",
    "            prefix[i] = (odd, even)\n",
    "            if i & 1: odd += n\n",
    "            else: even += n \n",
    "        odd = even = 0\n",
    "        for i in range(len(nums) - 1, -1, -1):\n",
    "            suffix[i] = (odd, even)\n",
    "            if i & 1: even += nums[i]\n",
    "            else: odd += nums[i]\n",
    "\n",
    "        ans = 0\n",
    "        for key in prefix:\n",
    "            o1, e1 = prefix[key]\n",
    "            o2, e2 = suffix[key]\n",
    "            if o1 + o2 == e1 + e2:\n",
    "                ans += 1\n",
    "        return ans"
   ]
  },
  {
   "cell_type": "code",
   "execution_count": 32,
   "id": "77c445c6-bab4-441d-b419-28eb348ff43f",
   "metadata": {},
   "outputs": [],
   "source": [
    "nums = [0] * 100"
   ]
  },
  {
   "cell_type": "code",
   "execution_count": 33,
   "id": "019929aa-d97b-4b51-841e-398e05e8e96f",
   "metadata": {},
   "outputs": [
    {
     "data": {
      "text/plain": [
       "100"
      ]
     },
     "execution_count": 33,
     "metadata": {},
     "output_type": "execute_result"
    }
   ],
   "source": [
    "s = Solution()\n",
    "s.waysToMakeFair(nums)"
   ]
  },
  {
   "cell_type": "markdown",
   "id": "a21748fd-77c2-4fbb-b658-50b8d7bba2a2",
   "metadata": {},
   "source": [
    "## 2315. 统计星号 (1.29)"
   ]
  },
  {
   "cell_type": "code",
   "execution_count": 1,
   "id": "3fca39b4-2e45-49c3-a391-42e56c34d924",
   "metadata": {},
   "outputs": [],
   "source": [
    "class Solution:\n",
    "    def countAsterisks(self, s: str) -> int:\n",
    "        flag = cnt = 0\n",
    "        for ch in s:\n",
    "            if ch == \"|\": flag += 1\n",
    "            if not flag & 1 and ch == \"*\": cnt += 1\n",
    "        return cnt "
   ]
  },
  {
   "cell_type": "markdown",
   "id": "43e384ae-9005-4ef3-a70c-539aa4da7423",
   "metadata": {},
   "source": [
    "## 1669. 合并两个链表 (1.30)"
   ]
  },
  {
   "cell_type": "code",
   "execution_count": 1,
   "id": "2acb1256-157a-47da-b331-2f8eb4f2614e",
   "metadata": {},
   "outputs": [],
   "source": [
    "# Definition for singly-linked list.\n",
    "class ListNode:\n",
    "    def __init__(self, val=0, next=None):\n",
    "        self.val = val\n",
    "        self.next = next"
   ]
  },
  {
   "cell_type": "code",
   "execution_count": 3,
   "id": "1bb7a8bc-56b8-485d-9148-9768f96be45d",
   "metadata": {},
   "outputs": [],
   "source": [
    "class Solution:\n",
    "    def mergeInBetween(self, list1: ListNode, a: int, b: int, list2: ListNode) -> ListNode:\n",
    "        a, b, cnt = a - 1, b + 1, 0\n",
    "        p = list1\n",
    "        left = right = None \n",
    "        while p != None:\n",
    "            if cnt == a: left = p \n",
    "            if cnt == b: \n",
    "                right = p\n",
    "                break\n",
    "            p = p.next\n",
    "            cnt += 1\n",
    "        \n",
    "        p = list2\n",
    "        while p.next != None:\n",
    "            p = p.next\n",
    "        \n",
    "        left.next = list2\n",
    "        p.next = right \n",
    "        return list1"
   ]
  },
  {
   "cell_type": "markdown",
   "id": "0816eb2f-b2c2-48d9-a7fd-5674dae1e819",
   "metadata": {},
   "source": [
    "## 2319. 判断矩阵是否是一个X矩阵 (1.31)"
   ]
  },
  {
   "cell_type": "code",
   "execution_count": 2,
   "id": "cb2c45ad-a9c4-4b70-89bd-12c44e67859d",
   "metadata": {},
   "outputs": [],
   "source": [
    "from typing import List\n",
    "class Solution:\n",
    "    def checkXMatrix(self, grid: List[List[int]]) -> bool:\n",
    "        cnt0 = 0\n",
    "        m = len(grid)\n",
    "        for i in range(m):\n",
    "            if grid[i][i] == 0 or grid[i][m - 1 - i] == 0:\n",
    "                return False\n",
    "            for j in range(m):\n",
    "                if grid[i][j] == 0:\n",
    "                    cnt0 += 1\n",
    "        return cnt0 == m * (m - 2) + int(m & 1)"
   ]
  },
  {
   "cell_type": "code",
   "execution_count": null,
   "id": "034524b5-bedf-4f8d-b4ef-7de8067f3a48",
   "metadata": {},
   "outputs": [],
   "source": [
    "[[2,0,0,0,1],[0,4,0,1,5],[0,0,5,0,0],[0,5,0,2,0],[4,0,0,0,2]]"
   ]
  },
  {
   "cell_type": "code",
   "execution_count": 3,
   "id": "f2696b64-571b-48a1-a151-31b556ddea43",
   "metadata": {},
   "outputs": [
    {
     "data": {
      "text/plain": [
       "1"
      ]
     },
     "execution_count": 3,
     "metadata": {},
     "output_type": "execute_result"
    }
   ],
   "source": [
    "int(True)"
   ]
  },
  {
   "cell_type": "markdown",
   "id": "d2313958-7024-437a-8bf6-83334966996e",
   "metadata": {},
   "source": [
    "## 2325. 解密消息 (2.1)"
   ]
  },
  {
   "cell_type": "code",
   "execution_count": 8,
   "id": "103593e5-bfe8-41a8-ab9f-3603fd5bdcc7",
   "metadata": {},
   "outputs": [],
   "source": [
    "class Solution:\n",
    "    def decodeMessage(self, key: str, message: str) -> str:\n",
    "        dic = {\" \": \" \"}\n",
    "        i = 0\n",
    "        for ch in key:\n",
    "            if ch in dic: continue\n",
    "            dic[ch] = chr(97 + i)\n",
    "            i += 1\n",
    "        return \"\".join([dic[s] for s in message])\n"
   ]
  },
  {
   "cell_type": "code",
   "execution_count": 11,
   "id": "254090a9",
   "metadata": {},
   "outputs": [],
   "source": [
    "key = \"eljuxhpwnyrdgtqkviszcfmabo\"\n",
    "message = \"zwx hnfx lqantp mnoeius ycgk vcnjrdb\""
   ]
  },
  {
   "cell_type": "code",
   "execution_count": 12,
   "id": "120ff9fc-bc6d-4a77-bc75-49a05c66599d",
   "metadata": {},
   "outputs": [
    {
     "data": {
      "text/plain": [
       "'the five boxing wizards jump quickly'"
      ]
     },
     "execution_count": 12,
     "metadata": {},
     "output_type": "execute_result"
    }
   ],
   "source": [
    "s = Solution()\n",
    "s.decodeMessage(key, message)"
   ]
  },
  {
   "cell_type": "code",
   "execution_count": null,
   "id": "c87ecdf9-2942-4a51-94fa-bd4653962bbf",
   "metadata": {},
   "outputs": [],
   "source": []
  },
  {
   "cell_type": "code",
   "execution_count": null,
   "id": "804ad856-cbaa-4f0b-99a2-680a6287bf8d",
   "metadata": {},
   "outputs": [],
   "source": []
  },
  {
   "cell_type": "code",
   "execution_count": null,
   "id": "6353d7fd-c471-4a87-87d6-1272e674e4ee",
   "metadata": {},
   "outputs": [],
   "source": []
  },
  {
   "cell_type": "code",
   "execution_count": null,
   "id": "e46a8f14-5ad9-48ad-907f-69c3c8f38a9b",
   "metadata": {},
   "outputs": [],
   "source": []
  },
  {
   "cell_type": "code",
   "execution_count": null,
   "id": "b05f7590-0d69-4eb6-b1b2-45225a5ef8be",
   "metadata": {},
   "outputs": [],
   "source": []
  },
  {
   "cell_type": "code",
   "execution_count": null,
   "id": "09aaaee0-ff7b-49ce-bcc8-f860798518e5",
   "metadata": {},
   "outputs": [],
   "source": []
  },
  {
   "cell_type": "code",
   "execution_count": null,
   "id": "7cab1068-9b6d-4252-b15d-7f23f41466c3",
   "metadata": {},
   "outputs": [],
   "source": []
  },
  {
   "cell_type": "code",
   "execution_count": null,
   "id": "306ffc88-a536-4272-9510-19f552fb87bb",
   "metadata": {},
   "outputs": [],
   "source": []
  },
  {
   "cell_type": "code",
   "execution_count": null,
   "id": "ca11dee9-5c43-43e2-a8ab-7081c17829a6",
   "metadata": {},
   "outputs": [],
   "source": []
  },
  {
   "cell_type": "code",
   "execution_count": null,
   "id": "cbb0c4e7-a308-4431-8005-2d7f60192aca",
   "metadata": {},
   "outputs": [],
   "source": []
  },
  {
   "cell_type": "code",
   "execution_count": null,
   "id": "abb7bb65-5f81-488a-bbcd-0f4a6ae2d83d",
   "metadata": {},
   "outputs": [],
   "source": []
  },
  {
   "cell_type": "code",
   "execution_count": null,
   "id": "13452e92-5bfc-4bc8-abb9-447683893b88",
   "metadata": {},
   "outputs": [],
   "source": []
  },
  {
   "cell_type": "code",
   "execution_count": null,
   "id": "4c256b82-4e8a-4cb8-9d6c-1e4b8f849c44",
   "metadata": {},
   "outputs": [],
   "source": []
  },
  {
   "cell_type": "code",
   "execution_count": null,
   "id": "e7daf70f-52bc-4796-92e4-0cde8e3d9675",
   "metadata": {},
   "outputs": [],
   "source": []
  },
  {
   "cell_type": "code",
   "execution_count": null,
   "id": "8ec9c153-317a-4a93-9abd-c0608f321512",
   "metadata": {},
   "outputs": [],
   "source": []
  },
  {
   "cell_type": "code",
   "execution_count": null,
   "id": "4da02e41-25bf-47a7-b19f-1ba8d8fc54f3",
   "metadata": {},
   "outputs": [],
   "source": []
  },
  {
   "cell_type": "code",
   "execution_count": null,
   "id": "9488d65d-8814-4d13-aeda-cf674bb91909",
   "metadata": {},
   "outputs": [],
   "source": []
  },
  {
   "cell_type": "code",
   "execution_count": null,
   "id": "9364ee98-3688-4638-abeb-ad04f127fbec",
   "metadata": {},
   "outputs": [],
   "source": []
  },
  {
   "cell_type": "code",
   "execution_count": null,
   "id": "e66a6f9d-eafa-4e2e-906b-d20890f2ca6a",
   "metadata": {},
   "outputs": [],
   "source": []
  },
  {
   "cell_type": "code",
   "execution_count": null,
   "id": "0b87698b-7b47-4a58-aa89-672aa5887f10",
   "metadata": {},
   "outputs": [],
   "source": []
  },
  {
   "cell_type": "code",
   "execution_count": null,
   "id": "8f47ed28-cdb8-476e-9f49-4e340f4bc8fd",
   "metadata": {},
   "outputs": [],
   "source": []
  },
  {
   "cell_type": "code",
   "execution_count": null,
   "id": "f54e410b-9c07-45d9-b6a4-4faf6407e75a",
   "metadata": {},
   "outputs": [],
   "source": []
  },
  {
   "cell_type": "code",
   "execution_count": null,
   "id": "3715d29d-c793-4724-8e78-290847deb204",
   "metadata": {},
   "outputs": [],
   "source": []
  },
  {
   "cell_type": "code",
   "execution_count": null,
   "id": "b55d0a50-58e6-449c-a96d-3431818c3642",
   "metadata": {},
   "outputs": [],
   "source": []
  },
  {
   "cell_type": "code",
   "execution_count": null,
   "id": "85d83fa9-2557-4a3b-9cbc-becc20e9510f",
   "metadata": {},
   "outputs": [],
   "source": []
  },
  {
   "cell_type": "code",
   "execution_count": null,
   "id": "dd1ad564-763a-42a0-a4b9-56a838e0125f",
   "metadata": {},
   "outputs": [],
   "source": []
  },
  {
   "cell_type": "code",
   "execution_count": null,
   "id": "ef3689f0-9602-467f-85fc-382d3dbaa236",
   "metadata": {},
   "outputs": [],
   "source": []
  },
  {
   "cell_type": "code",
   "execution_count": null,
   "id": "dfd59243-0c9e-4500-9e7d-934e4c075083",
   "metadata": {},
   "outputs": [],
   "source": []
  },
  {
   "cell_type": "code",
   "execution_count": null,
   "id": "b8dfbb1a-b933-4a88-8332-ffdafaf01653",
   "metadata": {},
   "outputs": [],
   "source": []
  },
  {
   "cell_type": "code",
   "execution_count": null,
   "id": "5405a7d1-b542-4f95-a419-d82f06e17c15",
   "metadata": {},
   "outputs": [],
   "source": []
  },
  {
   "cell_type": "code",
   "execution_count": null,
   "id": "2609c4da-893f-4579-85a1-491c4b042f18",
   "metadata": {},
   "outputs": [],
   "source": []
  },
  {
   "cell_type": "code",
   "execution_count": null,
   "id": "42e48350-a26d-4eb6-93ab-f6c124d5f2f5",
   "metadata": {},
   "outputs": [],
   "source": []
  },
  {
   "cell_type": "code",
   "execution_count": null,
   "id": "477fefc2-fb15-4640-941d-f841133d0ab8",
   "metadata": {},
   "outputs": [],
   "source": []
  },
  {
   "cell_type": "code",
   "execution_count": null,
   "id": "ee0277f8-46c7-4ed3-aa82-57fa0db14271",
   "metadata": {},
   "outputs": [],
   "source": []
  },
  {
   "cell_type": "code",
   "execution_count": null,
   "id": "77fdbe96-a3e5-4979-ad6c-e5213701d45e",
   "metadata": {},
   "outputs": [],
   "source": []
  },
  {
   "cell_type": "code",
   "execution_count": null,
   "id": "8519441b-7b90-4993-9825-2f50f9f88591",
   "metadata": {},
   "outputs": [],
   "source": []
  },
  {
   "cell_type": "code",
   "execution_count": null,
   "id": "7971ce45-d72a-460e-98ce-99f8e255f39b",
   "metadata": {},
   "outputs": [],
   "source": []
  },
  {
   "cell_type": "code",
   "execution_count": null,
   "id": "b2d23a3c-74ea-43cf-9179-fb806c23e3f0",
   "metadata": {},
   "outputs": [],
   "source": []
  },
  {
   "cell_type": "code",
   "execution_count": null,
   "id": "923fa7d9-4328-4343-a0da-064ab03b8f6b",
   "metadata": {},
   "outputs": [],
   "source": []
  },
  {
   "cell_type": "code",
   "execution_count": null,
   "id": "655d1a62-6e9e-40cd-a571-712b807bcbf5",
   "metadata": {},
   "outputs": [],
   "source": []
  },
  {
   "cell_type": "code",
   "execution_count": null,
   "id": "b760e5d8-e9a7-4c15-9922-ed846c13013c",
   "metadata": {},
   "outputs": [],
   "source": []
  },
  {
   "cell_type": "code",
   "execution_count": null,
   "id": "2c0a6a02-a6eb-4a8c-a103-afa68b49bfba",
   "metadata": {},
   "outputs": [],
   "source": []
  },
  {
   "cell_type": "code",
   "execution_count": null,
   "id": "cb85ea4e-ddb6-4303-91e0-82e9107c3bab",
   "metadata": {},
   "outputs": [],
   "source": []
  },
  {
   "cell_type": "code",
   "execution_count": null,
   "id": "ecd9e559-163a-4e3f-a1a8-d1ca0a4a642e",
   "metadata": {},
   "outputs": [],
   "source": []
  },
  {
   "cell_type": "code",
   "execution_count": null,
   "id": "6d072550-f787-4808-8043-c1cbd7361b0c",
   "metadata": {},
   "outputs": [],
   "source": []
  },
  {
   "cell_type": "code",
   "execution_count": null,
   "id": "38c5874e-c9ed-4329-b831-d0094fb19311",
   "metadata": {},
   "outputs": [],
   "source": []
  },
  {
   "cell_type": "code",
   "execution_count": null,
   "id": "998394b6-111c-48f9-bf1d-3d726c9726fc",
   "metadata": {},
   "outputs": [],
   "source": []
  },
  {
   "cell_type": "code",
   "execution_count": null,
   "id": "c5b52812-875b-4ec6-85e5-05dffc25f916",
   "metadata": {},
   "outputs": [],
   "source": []
  },
  {
   "cell_type": "code",
   "execution_count": null,
   "id": "c9228ced-a46d-43de-b63e-5cdeaf9505a9",
   "metadata": {},
   "outputs": [],
   "source": []
  },
  {
   "cell_type": "code",
   "execution_count": null,
   "id": "b83e5a8f-6af2-4a31-86e7-89873d670caf",
   "metadata": {},
   "outputs": [],
   "source": []
  },
  {
   "cell_type": "code",
   "execution_count": null,
   "id": "c63367b6-a761-4b78-bf50-55c4bf1ba427",
   "metadata": {},
   "outputs": [],
   "source": []
  },
  {
   "cell_type": "code",
   "execution_count": null,
   "id": "0a595933-f822-43d8-8d11-cb8413ac5aa2",
   "metadata": {},
   "outputs": [],
   "source": []
  },
  {
   "cell_type": "code",
   "execution_count": null,
   "id": "376dc7b2-934c-4013-bc1c-a915d03e3d7a",
   "metadata": {},
   "outputs": [],
   "source": []
  },
  {
   "cell_type": "code",
   "execution_count": null,
   "id": "b9e0257b-6cbb-4484-88d0-1dbbfcc95abb",
   "metadata": {},
   "outputs": [],
   "source": []
  },
  {
   "cell_type": "code",
   "execution_count": null,
   "id": "0467c6d2-2b81-490c-9a78-c009d1e0ee9d",
   "metadata": {},
   "outputs": [],
   "source": []
  },
  {
   "cell_type": "code",
   "execution_count": null,
   "id": "c64909e6-ac2f-4b3b-8b7e-f4f670a2cd9b",
   "metadata": {},
   "outputs": [],
   "source": []
  },
  {
   "cell_type": "code",
   "execution_count": null,
   "id": "9f3973ad-b372-424a-8682-cdcb1efe94e8",
   "metadata": {},
   "outputs": [],
   "source": []
  },
  {
   "cell_type": "code",
   "execution_count": null,
   "id": "d59de654-3a6c-4d73-a63c-da3c348a79d9",
   "metadata": {},
   "outputs": [],
   "source": []
  },
  {
   "cell_type": "code",
   "execution_count": null,
   "id": "10be3b11-0f5e-491f-94cc-5c3651948e73",
   "metadata": {},
   "outputs": [],
   "source": []
  },
  {
   "cell_type": "code",
   "execution_count": null,
   "id": "c03faa0a-0b29-42b7-9e87-1647d39b92d4",
   "metadata": {},
   "outputs": [],
   "source": []
  },
  {
   "cell_type": "code",
   "execution_count": null,
   "id": "713963ce-fb53-40ea-891f-2b5331b18a19",
   "metadata": {},
   "outputs": [],
   "source": []
  },
  {
   "cell_type": "code",
   "execution_count": null,
   "id": "c84f01d8-2d37-4c85-b9a7-a5a11d89bcd0",
   "metadata": {},
   "outputs": [],
   "source": []
  },
  {
   "cell_type": "code",
   "execution_count": null,
   "id": "81dbb1d0-e1af-4f04-be98-14a302af4ba4",
   "metadata": {},
   "outputs": [],
   "source": []
  },
  {
   "cell_type": "code",
   "execution_count": null,
   "id": "c72d0c36-c43d-4a40-b51a-1e7a2c10166c",
   "metadata": {},
   "outputs": [],
   "source": []
  },
  {
   "cell_type": "code",
   "execution_count": null,
   "id": "a20e4262-84de-4bf9-8933-50314fe55fec",
   "metadata": {},
   "outputs": [],
   "source": []
  },
  {
   "cell_type": "code",
   "execution_count": null,
   "id": "4de57708-6f6b-41a6-92c9-f606ff1e776a",
   "metadata": {},
   "outputs": [],
   "source": []
  },
  {
   "cell_type": "code",
   "execution_count": null,
   "id": "9d1e2906-1d31-4a5f-bad0-fc9972dec5a4",
   "metadata": {},
   "outputs": [],
   "source": []
  },
  {
   "cell_type": "code",
   "execution_count": null,
   "id": "c824995c-9dba-442f-a5b0-b620e0cea6c2",
   "metadata": {},
   "outputs": [],
   "source": []
  },
  {
   "cell_type": "code",
   "execution_count": null,
   "id": "b8fbf1ca-1365-44dd-af91-209e64d3db6e",
   "metadata": {},
   "outputs": [],
   "source": []
  },
  {
   "cell_type": "code",
   "execution_count": null,
   "id": "218960b3-44df-4ff2-8a1b-4da403ca7f5b",
   "metadata": {},
   "outputs": [],
   "source": []
  },
  {
   "cell_type": "code",
   "execution_count": null,
   "id": "6cd768e5-fde5-431f-b05a-47c94e2fe851",
   "metadata": {},
   "outputs": [],
   "source": []
  },
  {
   "cell_type": "code",
   "execution_count": null,
   "id": "05bcd635-f66f-4537-b10d-453ced9d9dc3",
   "metadata": {},
   "outputs": [],
   "source": []
  },
  {
   "cell_type": "code",
   "execution_count": null,
   "id": "e2ad29c2-ddf4-4cef-8531-59db5afcb7a4",
   "metadata": {},
   "outputs": [],
   "source": []
  }
 ],
 "metadata": {
  "kernelspec": {
   "display_name": "Python 3 (ipykernel)",
   "language": "python",
   "name": "python3"
  },
  "language_info": {
   "codemirror_mode": {
    "name": "ipython",
    "version": 3
   },
   "file_extension": ".py",
   "mimetype": "text/x-python",
   "name": "python",
   "nbconvert_exporter": "python",
   "pygments_lexer": "ipython3",
   "version": "3.6.3"
  },
  "vscode": {
   "interpreter": {
    "hash": "d6a30f1b1d17f944e008eac578c09de5069b6104ded342f4e35592654b0fe2db"
   }
  }
 },
 "nbformat": 4,
 "nbformat_minor": 5
}
