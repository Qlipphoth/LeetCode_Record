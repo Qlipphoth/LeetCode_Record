{
 "cells": [
  {
   "cell_type": "markdown",
   "id": "5a9f3027",
   "metadata": {},
   "source": [
    "## 1897. 重新分配字符使所有字符串都相等"
   ]
  },
  {
   "cell_type": "code",
   "execution_count": 2,
   "id": "a24535e2",
   "metadata": {},
   "outputs": [],
   "source": [
    "from collections import Counter\n",
    "from typing import List,Optional\n",
    "\n",
    "# Definition for a binary tree node.\n",
    "class TreeNode:\n",
    "    def __init__(self, val=0, left=None, right=None):\n",
    "        self.val = val\n",
    "        self.left = left\n",
    "        self.right = right"
   ]
  },
  {
   "cell_type": "code",
   "execution_count": 5,
   "id": "4068d4a4",
   "metadata": {},
   "outputs": [
    {
     "data": {
      "text/plain": [
       "Counter({'a': 3, 'b': 3, 'c': 3})"
      ]
     },
     "execution_count": 5,
     "metadata": {},
     "output_type": "execute_result"
    }
   ],
   "source": [
    "a = ['abc','aabc','bc']\n",
    "c1 = Counter()\n",
    "for chs in a:\n",
    "    c1 += Counter(chs)\n",
    "c1"
   ]
  },
  {
   "cell_type": "markdown",
   "id": "5403dde0",
   "metadata": {},
   "source": [
    "实验完毕"
   ]
  },
  {
   "cell_type": "code",
   "execution_count": 30,
   "id": "44dee320",
   "metadata": {},
   "outputs": [],
   "source": [
    "class Solution:\n",
    "    def makeEqual(self, words: List[str]) -> bool:\n",
    "        res = Counter()\n",
    "        ans = []\n",
    "        for chs in words:\n",
    "            res += Counter(chs)\n",
    "        for key in res:\n",
    "            if res[key]%len(words)!=0:\n",
    "                return False\n",
    "        return True"
   ]
  },
  {
   "cell_type": "code",
   "execution_count": 43,
   "id": "aaf5284e",
   "metadata": {},
   "outputs": [],
   "source": [
    "words = [\"abc\",\"aabc\",\"bc\"]"
   ]
  },
  {
   "cell_type": "code",
   "execution_count": 36,
   "id": "faeff184",
   "metadata": {},
   "outputs": [
    {
     "data": {
      "text/plain": [
       "False"
      ]
     },
     "execution_count": 36,
     "metadata": {},
     "output_type": "execute_result"
    }
   ],
   "source": [
    "s = Solution()\n",
    "s.makeEqual(words)"
   ]
  },
  {
   "cell_type": "code",
   "execution_count": 38,
   "id": "375cf58e",
   "metadata": {},
   "outputs": [],
   "source": [
    "class Solution:\n",
    "    def makeEqual(self, words: List[str]) -> bool:\n",
    "        res = ''\n",
    "        for word in words:\n",
    "            res += word\n",
    "        ans = Counter(res)\n",
    "        leng = len(words)\n",
    "        for key in ans:\n",
    "            if ans[key]%leng!=0:\n",
    "                return False\n",
    "        return True"
   ]
  },
  {
   "cell_type": "code",
   "execution_count": 40,
   "id": "143a6c78",
   "metadata": {},
   "outputs": [
    {
     "data": {
      "text/plain": [
       "False"
      ]
     },
     "execution_count": 40,
     "metadata": {},
     "output_type": "execute_result"
    }
   ],
   "source": [
    "s = Solution()\n",
    "s.makeEqual(words)"
   ]
  },
  {
   "cell_type": "code",
   "execution_count": 44,
   "id": "e25a0d70",
   "metadata": {},
   "outputs": [],
   "source": [
    "# 不用Counter\n",
    "\n",
    "class Solution:\n",
    "    def makeEqual(self, words: List[str]) -> bool:\n",
    "        res = ''\n",
    "        ans = {}\n",
    "        leng = len(words)\n",
    "        \n",
    "        for word in words:\n",
    "            res += word\n",
    "        \n",
    "        for ch in res:\n",
    "            if ch not in ans:\n",
    "                ans[ch] = 1\n",
    "            else:\n",
    "                ans[ch] += 1\n",
    "        \n",
    "        for key in ans:\n",
    "            if ans[key]%leng!=0:\n",
    "                return False\n",
    "        return True"
   ]
  },
  {
   "cell_type": "code",
   "execution_count": 45,
   "id": "ff7e7c53",
   "metadata": {},
   "outputs": [
    {
     "data": {
      "text/plain": [
       "True"
      ]
     },
     "execution_count": 45,
     "metadata": {},
     "output_type": "execute_result"
    }
   ],
   "source": [
    "s = Solution()\n",
    "s.makeEqual(words)"
   ]
  },
  {
   "cell_type": "markdown",
   "id": "b51b9e50",
   "metadata": {},
   "source": [
    "用不用counter时间差不多，但是counter的代码比较简洁"
   ]
  },
  {
   "cell_type": "markdown",
   "id": "650192c4",
   "metadata": {},
   "source": [
    "## 1248. 统计[优美子数组]"
   ]
  },
  {
   "cell_type": "markdown",
   "id": "3341ecc1",
   "metadata": {},
   "source": [
    "**step1**:\n",
    "\n",
    "找到每个奇数的位置"
   ]
  },
  {
   "cell_type": "code",
   "execution_count": 52,
   "id": "affe1f3a",
   "metadata": {},
   "outputs": [],
   "source": [
    "def findpos(nums:List[int]) -> List[int]:\n",
    "    res = []\n",
    "    for i in range(len(nums)):\n",
    "        if nums[i] % 2 == 1:\n",
    "            res.append(i)\n",
    "    return res"
   ]
  },
  {
   "cell_type": "code",
   "execution_count": 53,
   "id": "96b0ddb0",
   "metadata": {},
   "outputs": [],
   "source": [
    "nums = [2,2,2,1,2,2,1,2,2,2]"
   ]
  },
  {
   "cell_type": "code",
   "execution_count": 54,
   "id": "ea5fa680",
   "metadata": {},
   "outputs": [
    {
     "data": {
      "text/plain": [
       "[3, 6]"
      ]
     },
     "execution_count": 54,
     "metadata": {},
     "output_type": "execute_result"
    }
   ],
   "source": [
    "findpos(nums)"
   ]
  },
  {
   "cell_type": "markdown",
   "id": "0349d3f2",
   "metadata": {},
   "source": [
    "**step2**:\n",
    "\n",
    "含$k$个奇数的优美子数组的三种情况，设nums中奇数数量为$j$，$j>>k$\n",
    "\n",
    "1.nums前部,head：从数组头一直到第一个奇数，index：$n_1$，下同，tail：第$k$个奇数到第$k+1$个奇数的前一个数，共计：\n",
    "    $$(n_1+1)*(n_{k+1}-n_k)$$\n",
    "    \n",
    " \n",
    "2.nums后部，共计：\n",
    "    $$len(nums)-n_j$$\n",
    "    \n",
    "\n",
    "3.nums中部，相当于一个子问题，要再次递归计算前部和后部："
   ]
  },
  {
   "cell_type": "code",
   "execution_count": 106,
   "id": "a1db28a9",
   "metadata": {},
   "outputs": [],
   "source": [
    "# 失败的尝试，中部问题没有意识到是递归\n",
    "class Solution:\n",
    "    def numberOfSubarrays(self, nums: List[int], k: int) -> int:\n",
    "        res = []\n",
    "        for i in range(len(nums)):\n",
    "            if nums[i] % 2 == 1:\n",
    "                res.append(i)\n",
    "        \n",
    "        leng = len(res)\n",
    "        \n",
    "        if leng < k:\n",
    "            return 0\n",
    "        if leng == k:\n",
    "            print(len(nums))\n",
    "            print(res[-1])\n",
    "            print(res[0])\n",
    "            return (res[0]+1)*(len(nums)-res[-1])\n",
    "        else:\n",
    "            ans1 = (res[0]+1)*(res[k]-res[k-1])\n",
    "            ans3 = len(nums)-res[-1]\n",
    "            ans2 = res[-2]-res[k+1] if leng >= k+2 else 0\n",
    "            print(res)\n",
    "            print(res[-2])\n",
    "            print(res[k+1])\n",
    "            print(f'{ans1},{ans2},{ans3}')\n",
    "            return ans1+ans2+ans3"
   ]
  },
  {
   "cell_type": "code",
   "execution_count": 107,
   "id": "f1c66ba1",
   "metadata": {},
   "outputs": [],
   "source": [
    "nums = [2,2,2,1,2,2,1,2,2,2,1,1,1,1,2]\n",
    "k = 2"
   ]
  },
  {
   "cell_type": "code",
   "execution_count": 108,
   "id": "8d8059af",
   "metadata": {},
   "outputs": [
    {
     "name": "stdout",
     "output_type": "stream",
     "text": [
      "[3, 6, 10, 11, 12, 13]\n",
      "12\n",
      "11\n",
      "16,1,2\n"
     ]
    },
    {
     "data": {
      "text/plain": [
       "19"
      ]
     },
     "execution_count": 108,
     "metadata": {},
     "output_type": "execute_result"
    }
   ],
   "source": [
    "s = Solution()\n",
    "s.numberOfSubarrays(nums,k)"
   ]
  },
  {
   "cell_type": "code",
   "execution_count": null,
   "id": "2a07cbf9",
   "metadata": {},
   "outputs": [],
   "source": [
    "class Solution:\n",
    "    def numberOfSubarrays(self, nums: List[int], k: int) -> int:\n",
    "        res = []\n",
    "        for i in range(len(nums)):\n",
    "            if nums[i] % 2 == 1:\n",
    "                res.append(i)\n",
    "        \n",
    "        def findarray(start, end):\n",
    "            reslen = len(res[start:end+1])\n",
    "            if reslen < k:\n",
    "                return count\n",
    "            if reslen == k:\n",
    "                count += (res[start]-res[start-1])*(res[end+1]-res[end])\n",
    "            if reslen > k:\n",
    "                count += (res[start]-res[start-1])*(res[end+1]-res[end])\n",
    "                count += "
   ]
  },
  {
   "cell_type": "markdown",
   "id": "fcf0dd13",
   "metadata": {},
   "source": [
    "失败了失败了失败了失败了失败了失败了失败了失败了失败了失败了失败了失败了失败了失败了"
   ]
  },
  {
   "cell_type": "markdown",
   "id": "8b04de4c",
   "metadata": {},
   "source": [
    "思路对了一半，后半段的处理过于复杂，其实只要把数组前后各接上一个奇数，就完美变成了内部的情况"
   ]
  },
  {
   "cell_type": "code",
   "execution_count": 115,
   "id": "b8c0821e",
   "metadata": {},
   "outputs": [],
   "source": [
    "class Solution:\n",
    "    def numberOfSubarrays(self, nums: List[int], k: int) -> int:\n",
    "        n = len(nums)\n",
    "        odd = [-1]\n",
    "        ans = 0\n",
    "        for i in range(n):\n",
    "            if nums[i] % 2 == 1:\n",
    "                odd.append(i)\n",
    "        odd.append(n)\n",
    "        for i in range(1, len(odd) - k):\n",
    "            ans += (odd[i] - odd[i - 1]) * (odd[i + k] - odd[i + k - 1])\n",
    "        return ans"
   ]
  },
  {
   "cell_type": "markdown",
   "id": "f657b92d",
   "metadata": {},
   "source": [
    "## 1374. 生成每种字符都是奇数个的字符串"
   ]
  },
  {
   "cell_type": "code",
   "execution_count": 129,
   "id": "240b6739",
   "metadata": {},
   "outputs": [],
   "source": [
    "class Solution:\n",
    "    def generateTheString(self, n: int) -> str:\n",
    "        return 'a'*n if n%2 == 1 else 'a'*(n-1)+'b'"
   ]
  },
  {
   "cell_type": "code",
   "execution_count": 130,
   "id": "8f86fc30",
   "metadata": {},
   "outputs": [
    {
     "data": {
      "text/plain": [
       "'aaaaab'"
      ]
     },
     "execution_count": 130,
     "metadata": {},
     "output_type": "execute_result"
    }
   ],
   "source": [
    "s = Solution()\n",
    "s.generateTheString(6)"
   ]
  },
  {
   "cell_type": "code",
   "execution_count": 131,
   "id": "e8e2312c",
   "metadata": {},
   "outputs": [
    {
     "data": {
      "text/plain": [
       "'aaaaaab'"
      ]
     },
     "execution_count": 131,
     "metadata": {},
     "output_type": "execute_result"
    }
   ],
   "source": [
    "''.join(a)"
   ]
  },
  {
   "cell_type": "markdown",
   "id": "59aff134",
   "metadata": {
    "tags": []
   },
   "source": [
    "## 1143.最长公共子序列"
   ]
  },
  {
   "cell_type": "markdown",
   "id": "f0dbd9b3",
   "metadata": {},
   "source": [
    "## 1846. 减小和重新排列数组后的最大元素"
   ]
  },
  {
   "cell_type": "code",
   "execution_count": 142,
   "id": "eb0b9d71",
   "metadata": {},
   "outputs": [],
   "source": [
    "class Solution:\n",
    "    def maximumElementAfterDecrementingAndRearranging(self, arr: List[int]) -> int:\n",
    "        arr.sort()\n",
    "        arr[0] = 1\n",
    "        for i in range(1,len(arr)):\n",
    "            arr[i] = arr[i-1] if arr[i] == arr[i-1] else arr[i-1]+1\n",
    "#         print(arr)\n",
    "        return arr[-1]"
   ]
  },
  {
   "cell_type": "code",
   "execution_count": 143,
   "id": "29a12d48",
   "metadata": {},
   "outputs": [],
   "source": [
    "arr = [1,2,3,4,5]"
   ]
  },
  {
   "cell_type": "code",
   "execution_count": 144,
   "id": "a7c624d4",
   "metadata": {},
   "outputs": [
    {
     "data": {
      "text/plain": [
       "5"
      ]
     },
     "execution_count": 144,
     "metadata": {},
     "output_type": "execute_result"
    }
   ],
   "source": [
    "s = Solution()\n",
    "s.maximumElementAfterDecrementingAndRearranging(arr)"
   ]
  },
  {
   "cell_type": "code",
   "execution_count": 145,
   "id": "3e288a52",
   "metadata": {},
   "outputs": [],
   "source": [
    "class Solution:\n",
    "    def maximumElementAfterDecrementingAndRearranging(self, arr: List[int]) -> int:\n",
    "        arr.sort()\n",
    "        arr[0] = 1\n",
    "        for i in range(1,len(arr)):\n",
    "            if arr[i] == arr[i-1]:\n",
    "                arr[i] = arr[i-1]  \n",
    "            else:\n",
    "                arr[i] = arr[i-1]+1\n",
    "#         print(arr)\n",
    "        return arr[-1]"
   ]
  },
  {
   "cell_type": "code",
   "execution_count": 146,
   "id": "8cd4bc52",
   "metadata": {},
   "outputs": [
    {
     "data": {
      "text/plain": [
       "5"
      ]
     },
     "execution_count": 146,
     "metadata": {},
     "output_type": "execute_result"
    }
   ],
   "source": [
    "s = Solution()\n",
    "s.maximumElementAfterDecrementingAndRearranging(arr)"
   ]
  },
  {
   "cell_type": "markdown",
   "id": "7b33edeb",
   "metadata": {},
   "source": [
    "看来两种判断方式的速度差不多"
   ]
  },
  {
   "cell_type": "markdown",
   "id": "41eba04c",
   "metadata": {},
   "source": [
    "## 993. 二叉树的堂兄弟节点"
   ]
  },
  {
   "cell_type": "code",
   "execution_count": 208,
   "id": "77f91f8f",
   "metadata": {},
   "outputs": [],
   "source": [
    "# BFS\n",
    "class Solution:\n",
    "    def isCousins(self, root: Optional[TreeNode], x: int, y: int) -> bool:\n",
    "        res = []\n",
    "        queue = [(root,0,0)]\n",
    "        num = 0\n",
    "        \n",
    "        while queue:\n",
    "            print(queue)\n",
    "            cur,layer,fval = queue.pop(0)\n",
    "            if cur.val == x or cur.val == y:\n",
    "                res.append((layer,fval))\n",
    "            if cur.left:\n",
    "                queue.append((cur.left,layer+1,cur.val))\n",
    "            if cur.right:\n",
    "                queue.append((cur.right,layer+1,cur.val))\n",
    "            \n",
    "        print(res)\n",
    "        return res[0][0] == res[1][0] and res[0][1] != res[1][1]"
   ]
  },
  {
   "cell_type": "code",
   "execution_count": 209,
   "id": "49034321",
   "metadata": {},
   "outputs": [],
   "source": [
    "nodeD = TreeNode(4)\n",
    "nodeE = TreeNode(5)\n",
    "# nodeF = TreeNode('F')\n",
    "# nodeG = TreeNode('G')\n",
    "nodeB = TreeNode(2,right=nodeD)\n",
    "nodeC = TreeNode(3,right=nodeE)\n",
    "nodeA = TreeNode(1,left=nodeB,right=nodeC)"
   ]
  },
  {
   "cell_type": "code",
   "execution_count": 210,
   "id": "ba747777",
   "metadata": {},
   "outputs": [
    {
     "name": "stdout",
     "output_type": "stream",
     "text": [
      "[(<__main__.TreeNode object at 0x0000023B4B30FF28>, 0, 0)]\n",
      "[(<__main__.TreeNode object at 0x0000023B4B30FAC8>, 1, 1), (<__main__.TreeNode object at 0x0000023B4B30F358>, 1, 1)]\n",
      "[(<__main__.TreeNode object at 0x0000023B4B30F358>, 1, 1), (<__main__.TreeNode object at 0x0000023B4B30F9E8>, 2, 2)]\n",
      "[(<__main__.TreeNode object at 0x0000023B4B30F9E8>, 2, 2), (<__main__.TreeNode object at 0x0000023B4B30F828>, 2, 3)]\n",
      "[(<__main__.TreeNode object at 0x0000023B4B30F828>, 2, 3)]\n",
      "[(2, 2), (2, 3)]\n"
     ]
    },
    {
     "data": {
      "text/plain": [
       "True"
      ]
     },
     "execution_count": 210,
     "metadata": {},
     "output_type": "execute_result"
    }
   ],
   "source": [
    "s = Solution()\n",
    "s.isCousins(nodeA,4,5)"
   ]
  },
  {
   "cell_type": "code",
   "execution_count": 212,
   "id": "fd5553dd",
   "metadata": {},
   "outputs": [],
   "source": [
    "# DFS\n",
    "class Solution:\n",
    "    def isCousins(self, root: Optional[TreeNode], x: int, y: int) -> bool:\n",
    "        layer = 0\n",
    "        res = []\n",
    "        def Traversal(node,layer,fval):\n",
    "            if not node:\n",
    "                return\n",
    "            if node.val == x or node.val == y:\n",
    "                res.append((layer,fval))\n",
    "            Traversal(node.left,layer+1,node.val)\n",
    "            Traversal(node.right,layer+1,node.val)\n",
    "        \n",
    "        Traversal(root,0,0)  # 由于此题val范围[1,100]，故初始化为0不会出错\n",
    "        print(res)\n",
    "        return res[0][0] == res[1][0] and res[0][1] != res[1][1]"
   ]
  },
  {
   "cell_type": "code",
   "execution_count": 213,
   "id": "e50bc301",
   "metadata": {},
   "outputs": [
    {
     "name": "stdout",
     "output_type": "stream",
     "text": [
      "[(2, 2), (2, 3)]\n"
     ]
    },
    {
     "data": {
      "text/plain": [
       "True"
      ]
     },
     "execution_count": 213,
     "metadata": {},
     "output_type": "execute_result"
    }
   ],
   "source": [
    "s = Solution()\n",
    "s.isCousins(nodeA,4,5)"
   ]
  },
  {
   "cell_type": "markdown",
   "id": "5a21696d",
   "metadata": {},
   "source": [
    "## 1552. 两球之间的磁力"
   ]
  },
  {
   "cell_type": "markdown",
   "id": "9f41fa9a",
   "metadata": {},
   "source": [
    "## 622. 设计循环队列(8.2)"
   ]
  },
  {
   "cell_type": "markdown",
   "id": "ea69e30b",
   "metadata": {},
   "source": [
    "感觉应该就是循环链表"
   ]
  },
  {
   "cell_type": "code",
   "execution_count": 350,
   "id": "ab0f1884",
   "metadata": {},
   "outputs": [],
   "source": [
    "class Node(object):\n",
    "    def __init__(self, val = -1, next = None):\n",
    "        self.val = val\n",
    "        self.next = next\n",
    "\n",
    "class MyCircularQueue(Node):\n",
    "\n",
    "    def __init__(self, k: int):\n",
    "        Node.__init__(self,val = -1,next = None)\n",
    "        \n",
    "        self.poshead = self.head = Node()\n",
    "        self.tail = None\n",
    "        \n",
    "        for i in range(k-1):\n",
    "            node = Node()\n",
    "            if self.head.next == None:\n",
    "                self.head.next = node\n",
    "                node.next = self.head\n",
    "                self.tail = node\n",
    "            else:\n",
    "                cur = self.head\n",
    "                while cur.next != self.head:\n",
    "                    cur = cur.next\n",
    "                node.next = self.head\n",
    "                cur.next = node\n",
    "                self.tail = node\n",
    "        self.postail = self.tail\n",
    "                    \n",
    "    def enQueue(self, value: int) -> bool:\n",
    "        if self.isFull():  # 要()调用\n",
    "            return False\n",
    "        if self.head.next == None:\n",
    "            self.head.val = value\n",
    "        else:\n",
    "            self.postail = self.postail.next\n",
    "            self.postail.val = value\n",
    "        return True\n",
    "        \n",
    "    def deQueue(self) -> bool:\n",
    "        if self.isEmpty(): \n",
    "            return False\n",
    "        if self.head.next == None:\n",
    "            self.head.val = -1\n",
    "        else:\n",
    "            self.poshead.val = -1\n",
    "            self.poshead = self.poshead.next\n",
    "        return True\n",
    "        \n",
    "    def Front(self) -> int:\n",
    "        return self.poshead.val\n",
    "\n",
    "    \n",
    "    def Rear(self) -> int:\n",
    "        if self.head.next == None:\n",
    "            return self.head.val\n",
    "        return self.postail.val\n",
    "\n",
    "    \n",
    "    def isEmpty(self) -> bool:\n",
    "        if self.head.next == None:\n",
    "            return self.head.val == -1\n",
    "        return self.poshead.val == self.postail.val == -1\n",
    "    \n",
    "    \n",
    "    def isFull(self) -> bool:\n",
    "        if self.head.next == None:\n",
    "            return self.head.val != -1\n",
    "        return self.postail.val != -1 and self.postail.next == self.poshead"
   ]
  },
  {
   "cell_type": "code",
   "execution_count": 351,
   "id": "938a46e7",
   "metadata": {},
   "outputs": [],
   "source": [
    "s = MyCircularQueue(1)"
   ]
  },
  {
   "cell_type": "code",
   "execution_count": 352,
   "id": "0a23e1bf",
   "metadata": {},
   "outputs": [
    {
     "data": {
      "text/plain": [
       "True"
      ]
     },
     "execution_count": 352,
     "metadata": {},
     "output_type": "execute_result"
    }
   ],
   "source": [
    "s.enQueue(5)"
   ]
  },
  {
   "cell_type": "code",
   "execution_count": 353,
   "id": "e84fed38",
   "metadata": {},
   "outputs": [
    {
     "data": {
      "text/plain": [
       "False"
      ]
     },
     "execution_count": 353,
     "metadata": {},
     "output_type": "execute_result"
    }
   ],
   "source": [
    "s.enQueue(5)"
   ]
  },
  {
   "cell_type": "code",
   "execution_count": 354,
   "id": "641448d4",
   "metadata": {},
   "outputs": [
    {
     "data": {
      "text/plain": [
       "5"
      ]
     },
     "execution_count": 354,
     "metadata": {},
     "output_type": "execute_result"
    }
   ],
   "source": [
    "s.head.val"
   ]
  },
  {
   "cell_type": "code",
   "execution_count": 356,
   "id": "4a552f08",
   "metadata": {},
   "outputs": [
    {
     "data": {
      "text/plain": [
       "5"
      ]
     },
     "execution_count": 356,
     "metadata": {},
     "output_type": "execute_result"
    }
   ],
   "source": [
    "s.Rear()"
   ]
  },
  {
   "cell_type": "code",
   "execution_count": 357,
   "id": "21b78614",
   "metadata": {},
   "outputs": [
    {
     "data": {
      "text/plain": [
       "5"
      ]
     },
     "execution_count": 357,
     "metadata": {},
     "output_type": "execute_result"
    }
   ],
   "source": [
    "s.Front()"
   ]
  },
  {
   "cell_type": "code",
   "execution_count": 358,
   "id": "7ad13699",
   "metadata": {},
   "outputs": [
    {
     "data": {
      "text/plain": [
       "True"
      ]
     },
     "execution_count": 358,
     "metadata": {},
     "output_type": "execute_result"
    }
   ],
   "source": [
    "s.deQueue()"
   ]
  },
  {
   "cell_type": "code",
   "execution_count": 359,
   "id": "dbe1c85b",
   "metadata": {},
   "outputs": [
    {
     "data": {
      "text/plain": [
       "False"
      ]
     },
     "execution_count": 359,
     "metadata": {},
     "output_type": "execute_result"
    }
   ],
   "source": [
    "s.deQueue()"
   ]
  },
  {
   "cell_type": "code",
   "execution_count": 360,
   "id": "57011ed1",
   "metadata": {},
   "outputs": [],
   "source": [
    "class Node(object):\n",
    "    def __init__(self, val = -1, next = None):\n",
    "        self.val = val\n",
    "        self.next = next\n",
    "\n",
    "class MyCircularQueue(Node):\n",
    "\n",
    "    def __init__(self, k: int):\n",
    "        Node.__init__(self,val = -1,next = None)\n",
    "        self.head = Node()\n",
    "        self.tail = None\n",
    "        \n",
    "        for i in range(k-1):\n",
    "            node = Node()\n",
    "            if self.head.next == None:\n",
    "                self.head.next = node\n",
    "                node.next = self.head\n",
    "                self.tail = node\n",
    "            else:\n",
    "                cur = self.head\n",
    "                while cur.next != self.head:\n",
    "                    cur = cur.next\n",
    "                node.next = self.head\n",
    "                cur.next = node\n",
    "                self.tail = node\n",
    "        self.postail = self.tail\n",
    "                    \n",
    "    def enQueue(self, value: int) -> bool:\n",
    "        if self.isFull():  # 要()调用\n",
    "            return False\n",
    "        if self.head.next == None:\n",
    "            self.head.val = value\n",
    "        else:\n",
    "            self.postail = self.postail.next\n",
    "            self.postail.val = value\n",
    "        return True\n",
    "        \n",
    "    def deQueue(self) -> bool:\n",
    "        if self.isEmpty(): \n",
    "            return False\n",
    "        if self.head.next == None:\n",
    "            self.head.val = -1\n",
    "        else:\n",
    "            self.poshead.val = -1\n",
    "            self.poshead = self.poshead.next\n",
    "        return True\n",
    "        \n",
    "    def Front(self) -> int:\n",
    "        return self.poshead.val\n",
    "\n",
    "    \n",
    "    def Rear(self) -> int:\n",
    "        if self.head.next == None:\n",
    "            return self.head.val\n",
    "        return self.postail.val\n",
    "\n",
    "    \n",
    "    def isEmpty(self) -> bool:\n",
    "        if self.head.next == None:\n",
    "            return self.head.val == -1\n",
    "        return self.poshead.val == self.postail.val == -1\n",
    "    \n",
    "    \n",
    "    def isFull(self) -> bool:\n",
    "        if self.head.next == None:\n",
    "            return self.head.val != -1\n",
    "        return self.postail.val != -1 and self.postail.next == self.poshead"
   ]
  },
  {
   "cell_type": "code",
   "execution_count": 361,
   "id": "1e7935d5",
   "metadata": {},
   "outputs": [],
   "source": [
    "s = MyCircularQueue(4)"
   ]
  },
  {
   "cell_type": "markdown",
   "id": "e000a16e",
   "metadata": {},
   "source": [
    "貌似用list就行，，，"
   ]
  },
  {
   "cell_type": "code",
   "execution_count": 398,
   "id": "a716e3b5",
   "metadata": {},
   "outputs": [],
   "source": [
    "class MyCircularQueue(Node):\n",
    "\n",
    "    def __init__(self, k: int):\n",
    "        self.len = k\n",
    "        self.head = 0\n",
    "        self.tail = k-1\n",
    "        self.cqueue = [-1]*k\n",
    "        \n",
    "        \n",
    "    def enQueue(self, value: int) -> bool:\n",
    "        if self.isFull():\n",
    "            return False\n",
    "        self.tail = (self.tail + 1)%self.len\n",
    "        self.cqueue[self.tail] = value\n",
    "        return True\n",
    "        \n",
    "        \n",
    "    def deQueue(self) -> bool:\n",
    "        if self.isEmpty():\n",
    "            return False\n",
    "        self.cqueue[self.head] = -1\n",
    "        self.head = (self.head + 1)%self.len\n",
    "        return True\n",
    "        \n",
    "        \n",
    "    def Front(self) -> int:\n",
    "        return self.cqueue[self.head]\n",
    "        \n",
    "        \n",
    "    def Rear(self) -> int:\n",
    "        return self.cqueue[self.tail]\n",
    "        \n",
    "        \n",
    "    def isEmpty(self) -> bool:\n",
    "        return self.cqueue[self.head] == self.cqueue[self.tail] == -1\n",
    "        \n",
    "        \n",
    "    def isFull(self) -> bool:\n",
    "        return self.cqueue[self.tail] != -1 and (self.tail + 1) % self.len == self.head\n",
    "        "
   ]
  },
  {
   "cell_type": "code",
   "execution_count": 399,
   "id": "9ef48fa5",
   "metadata": {},
   "outputs": [],
   "source": [
    "s = MyCircularQueue(3)"
   ]
  },
  {
   "cell_type": "code",
   "execution_count": 400,
   "id": "ab8a9a96",
   "metadata": {},
   "outputs": [
    {
     "data": {
      "text/plain": [
       "[-1, -1, -1]"
      ]
     },
     "execution_count": 400,
     "metadata": {},
     "output_type": "execute_result"
    }
   ],
   "source": [
    "s.cqueue"
   ]
  },
  {
   "cell_type": "code",
   "execution_count": 401,
   "id": "9dd11057",
   "metadata": {},
   "outputs": [
    {
     "data": {
      "text/plain": [
       "[1, 2, 3]"
      ]
     },
     "execution_count": 401,
     "metadata": {},
     "output_type": "execute_result"
    }
   ],
   "source": [
    "s.enQueue(1)\n",
    "s.enQueue(2)\n",
    "s.enQueue(3)\n",
    "s.cqueue"
   ]
  },
  {
   "cell_type": "code",
   "execution_count": 402,
   "id": "2326abe2",
   "metadata": {},
   "outputs": [
    {
     "name": "stdout",
     "output_type": "stream",
     "text": [
      "[-1, -1, 3],2,2\n"
     ]
    }
   ],
   "source": [
    "s.deQueue()\n",
    "s.deQueue()\n",
    "print(f'{s.cqueue},{s.head},{s.tail}')"
   ]
  },
  {
   "cell_type": "code",
   "execution_count": 403,
   "id": "64e18ec0",
   "metadata": {},
   "outputs": [
    {
     "name": "stdout",
     "output_type": "stream",
     "text": [
      "[4, 5, 3],2,1\n"
     ]
    }
   ],
   "source": [
    "s.enQueue(4)\n",
    "s.enQueue(5)\n",
    "print(f'{s.cqueue},{s.head},{s.tail}')"
   ]
  },
  {
   "cell_type": "code",
   "execution_count": 404,
   "id": "1f2ad820",
   "metadata": {},
   "outputs": [
    {
     "name": "stdout",
     "output_type": "stream",
     "text": [
      "[-1, 5, -1],1,1\n"
     ]
    }
   ],
   "source": [
    "s.deQueue()\n",
    "s.deQueue()\n",
    "print(f'{s.cqueue},{s.head},{s.tail}')"
   ]
  },
  {
   "cell_type": "code",
   "execution_count": 405,
   "id": "cea2b7ca",
   "metadata": {},
   "outputs": [
    {
     "name": "stdout",
     "output_type": "stream",
     "text": [
      "[7, 5, 6],1,0\n"
     ]
    }
   ],
   "source": [
    "s.enQueue(6)\n",
    "s.enQueue(7)\n",
    "print(f'{s.cqueue},{s.head},{s.tail}')"
   ]
  },
  {
   "cell_type": "code",
   "execution_count": 406,
   "id": "a9f283b6",
   "metadata": {},
   "outputs": [],
   "source": [
    "s0 = MyCircularQueue(1)"
   ]
  },
  {
   "cell_type": "code",
   "execution_count": 407,
   "id": "d8809b63",
   "metadata": {},
   "outputs": [
    {
     "data": {
      "text/plain": [
       "[-1]"
      ]
     },
     "execution_count": 407,
     "metadata": {},
     "output_type": "execute_result"
    }
   ],
   "source": [
    "s0.cqueue"
   ]
  },
  {
   "cell_type": "code",
   "execution_count": 409,
   "id": "4556f5d8",
   "metadata": {},
   "outputs": [
    {
     "data": {
      "text/plain": [
       "-1"
      ]
     },
     "execution_count": 409,
     "metadata": {},
     "output_type": "execute_result"
    }
   ],
   "source": [
    "s0.Front()"
   ]
  },
  {
   "cell_type": "code",
   "execution_count": 411,
   "id": "4912856b",
   "metadata": {},
   "outputs": [
    {
     "data": {
      "text/plain": [
       "-1"
      ]
     },
     "execution_count": 411,
     "metadata": {},
     "output_type": "execute_result"
    }
   ],
   "source": [
    "s0.Rear()"
   ]
  },
  {
   "cell_type": "code",
   "execution_count": 412,
   "id": "82cb3d61",
   "metadata": {},
   "outputs": [
    {
     "data": {
      "text/plain": [
       "True"
      ]
     },
     "execution_count": 412,
     "metadata": {},
     "output_type": "execute_result"
    }
   ],
   "source": [
    "s0.enQueue(3)"
   ]
  },
  {
   "cell_type": "code",
   "execution_count": 413,
   "id": "acf13243",
   "metadata": {},
   "outputs": [
    {
     "data": {
      "text/plain": [
       "False"
      ]
     },
     "execution_count": 413,
     "metadata": {},
     "output_type": "execute_result"
    }
   ],
   "source": [
    "s0.enQueue(4)"
   ]
  },
  {
   "cell_type": "code",
   "execution_count": 414,
   "id": "cd2830c8",
   "metadata": {},
   "outputs": [
    {
     "data": {
      "text/plain": [
       "True"
      ]
     },
     "execution_count": 414,
     "metadata": {},
     "output_type": "execute_result"
    }
   ],
   "source": [
    "s0.deQueue()"
   ]
  },
  {
   "cell_type": "code",
   "execution_count": 415,
   "id": "1d0e9959",
   "metadata": {},
   "outputs": [
    {
     "data": {
      "text/plain": [
       "True"
      ]
     },
     "execution_count": 415,
     "metadata": {},
     "output_type": "execute_result"
    }
   ],
   "source": [
    "s0.isEmpty()"
   ]
  },
  {
   "cell_type": "code",
   "execution_count": 416,
   "id": "b461246e",
   "metadata": {},
   "outputs": [
    {
     "data": {
      "text/plain": [
       "[-1]"
      ]
     },
     "execution_count": 416,
     "metadata": {},
     "output_type": "execute_result"
    }
   ],
   "source": [
    "s0.cqueue"
   ]
  },
  {
   "cell_type": "markdown",
   "id": "297b3fcc",
   "metadata": {},
   "source": [
    "## 1470. 重新排列数组"
   ]
  },
  {
   "cell_type": "code",
   "execution_count": 417,
   "id": "9aff317f",
   "metadata": {},
   "outputs": [],
   "source": [
    "class Solution:\n",
    "    def shuffle(self, nums: List[int], n: int) -> List[int]:\n",
    "        res = []\n",
    "        for i in range(n):\n",
    "            res.append(nums[i])\n",
    "            res.append(nums[i+n])\n",
    "        return res"
   ]
  },
  {
   "cell_type": "code",
   "execution_count": 418,
   "id": "0198d7c3",
   "metadata": {},
   "outputs": [],
   "source": [
    "nums = [1,1,2,2]\n",
    "n = 2"
   ]
  },
  {
   "cell_type": "code",
   "execution_count": 419,
   "id": "8c18b94d",
   "metadata": {},
   "outputs": [
    {
     "data": {
      "text/plain": [
       "[1, 2, 1, 2]"
      ]
     },
     "execution_count": 419,
     "metadata": {},
     "output_type": "execute_result"
    }
   ],
   "source": [
    "s = Solution()\n",
    "s.shuffle(nums,n)"
   ]
  },
  {
   "cell_type": "markdown",
   "id": "046396ff",
   "metadata": {},
   "source": [
    "## 623. 在二叉树中增加一行(8.5)"
   ]
  },
  {
   "cell_type": "code",
   "execution_count": 63,
   "id": "2aff114b",
   "metadata": {},
   "outputs": [],
   "source": [
    "class Solution:\n",
    "    def addOneRow(self, root: Optional[TreeNode], val: int, depth: int):\n",
    "        \n",
    "        stack = [(root,1)]\n",
    "        res = []\n",
    "        cur = root\n",
    "        \n",
    "        if depth == 1:\n",
    "            newroot = TreeNode(val, root)\n",
    "            return newroot\n",
    "        \n",
    "        while stack: \n",
    "            cur, layer = stack.pop(0)\n",
    "            if layer == depth - 1:\n",
    "                res.append(cur)\n",
    "            if layer == depth:\n",
    "                break\n",
    "            if cur.left:\n",
    "                stack.append((cur.left,layer+1))\n",
    "            if cur.right:\n",
    "                stack.append((cur.right,layer+1))\n",
    "        \n",
    "        for node in res:\n",
    "            node1 = TreeNode(val, node.left)\n",
    "            node2 = TreeNode(val, None, node.right)\n",
    "            node.left = node1\n",
    "            node.right = node2\n",
    "        \n",
    "        return root"
   ]
  },
  {
   "cell_type": "code",
   "execution_count": 64,
   "id": "51600d84",
   "metadata": {},
   "outputs": [],
   "source": [
    "nodeD = TreeNode(3)\n",
    "nodeE = TreeNode(1)\n",
    "# nodeF = TreeNode(5)\n",
    "# nodeG = TreeNode('G')\n",
    "nodeB = TreeNode(2,left=nodeD,right=nodeE)\n",
    "# nodeC = TreeNode(6,left=nodeF)\n",
    "nodeA = TreeNode(4,left=nodeB,right=nodeC)"
   ]
  },
  {
   "cell_type": "code",
   "execution_count": 65,
   "id": "25928473",
   "metadata": {},
   "outputs": [
    {
     "data": {
      "text/plain": [
       "<__main__.TreeNode at 0x20b2fb1e908>"
      ]
     },
     "execution_count": 65,
     "metadata": {},
     "output_type": "execute_result"
    }
   ],
   "source": [
    "s = Solution()\n",
    "s.addOneRow(nodeA,val=1,depth=2)"
   ]
  },
  {
   "cell_type": "code",
   "execution_count": 66,
   "id": "2da58a32",
   "metadata": {},
   "outputs": [],
   "source": [
    "def inorderTraversal(root):\n",
    "    res = []\n",
    "    def Traversal(node):\n",
    "        if not node:\n",
    "            return\n",
    "        Traversal(node.left)\n",
    "        res.append(node.val)\n",
    "        Traversal(node.right)\n",
    "    Traversal(root)\n",
    "    return res"
   ]
  },
  {
   "cell_type": "code",
   "execution_count": 67,
   "id": "0732c539",
   "metadata": {},
   "outputs": [
    {
     "data": {
      "text/plain": [
       "[3, 2, 1, 1, 4, 1, 5, 6]"
      ]
     },
     "execution_count": 67,
     "metadata": {},
     "output_type": "execute_result"
    }
   ],
   "source": [
    "inorderTraversal(nodeA)"
   ]
  },
  {
   "cell_type": "code",
   "execution_count": 69,
   "id": "77d8ad5d",
   "metadata": {},
   "outputs": [],
   "source": [
    "# 直接pop更快，pop(0)比较慢\n",
    "class Solution:\n",
    "    def addOneRow(self, root: Optional[TreeNode], val: int, depth: int):\n",
    "        stack = [(root,1)]\n",
    "        res = []\n",
    "        cur = root\n",
    "        \n",
    "        if depth == 1:\n",
    "            newroot = TreeNode(val, root)\n",
    "            return newroot\n",
    "        \n",
    "        while stack: \n",
    "            cur, layer = stack.pop()\n",
    "            if layer == depth - 1:\n",
    "                res.append(cur)\n",
    "            if cur.left:\n",
    "                stack.append((cur.left,layer+1))\n",
    "            if cur.right:\n",
    "                stack.append((cur.right,layer+1))\n",
    "        \n",
    "        for node in res:\n",
    "            node1 = TreeNode(val, node.left)\n",
    "            node2 = TreeNode(val, None, node.right)\n",
    "            node.left = node1\n",
    "            node.right = node2\n",
    "        \n",
    "        return root"
   ]
  },
  {
   "cell_type": "markdown",
   "id": "67556ba5",
   "metadata": {},
   "source": [
    "## 1408. 数组中的字符串匹配(8.6)"
   ]
  },
  {
   "cell_type": "code",
   "execution_count": 1,
   "id": "4f39582b",
   "metadata": {},
   "outputs": [
    {
     "data": {
      "text/plain": [
       "True"
      ]
     },
     "execution_count": 1,
     "metadata": {},
     "output_type": "execute_result"
    }
   ],
   "source": [
    "'abc' in 'aabcc'"
   ]
  },
  {
   "cell_type": "code",
   "execution_count": 2,
   "id": "a009a58e",
   "metadata": {},
   "outputs": [
    {
     "data": {
      "text/plain": [
       "False"
      ]
     },
     "execution_count": 2,
     "metadata": {},
     "output_type": "execute_result"
    }
   ],
   "source": [
    "'abc' in 'abdc'"
   ]
  },
  {
   "cell_type": "code",
   "execution_count": 3,
   "id": "1a6890d9",
   "metadata": {},
   "outputs": [
    {
     "data": {
      "text/plain": [
       "False"
      ]
     },
     "execution_count": 3,
     "metadata": {},
     "output_type": "execute_result"
    }
   ],
   "source": [
    "'abc' in ['abcc', 'a']"
   ]
  },
  {
   "cell_type": "code",
   "execution_count": 13,
   "id": "684578ef",
   "metadata": {},
   "outputs": [],
   "source": [
    "class Solution:\n",
    "    def stringMatching(self, words: List[str]) -> List[str]:\n",
    "        res = []\n",
    "        \n",
    "        for word in words:\n",
    "            count = 0\n",
    "            for i in range(len(words)):\n",
    "                if word in words[i]:\n",
    "                    count += 1\n",
    "            if count >= 2:\n",
    "                res.append(word)\n",
    "        \n",
    "        return res"
   ]
  },
  {
   "cell_type": "code",
   "execution_count": 14,
   "id": "385c5a4c",
   "metadata": {},
   "outputs": [],
   "source": [
    "words = [\"leetcode\",\"et\",\"code\"]"
   ]
  },
  {
   "cell_type": "code",
   "execution_count": 15,
   "id": "e2132e95",
   "metadata": {},
   "outputs": [
    {
     "data": {
      "text/plain": [
       "['et', 'code']"
      ]
     },
     "execution_count": 15,
     "metadata": {},
     "output_type": "execute_result"
    }
   ],
   "source": [
    "s = Solution()\n",
    "s.stringMatching(words)"
   ]
  },
  {
   "cell_type": "markdown",
   "id": "4e6901b6",
   "metadata": {},
   "source": [
    "改进：内层不用遍历全部，大于等于二直接break"
   ]
  },
  {
   "cell_type": "code",
   "execution_count": 16,
   "id": "64f27530",
   "metadata": {},
   "outputs": [],
   "source": [
    "class Solution:\n",
    "    def stringMatching(self, words: List[str]) -> List[str]:\n",
    "        res = []\n",
    "        \n",
    "        for word in words:\n",
    "            count = 0\n",
    "            for i in range(len(words)):\n",
    "                if word in words[i]:\n",
    "                    count += 1\n",
    "                if count >= 2:\n",
    "                    res.append(word)\n",
    "                    break\n",
    "        \n",
    "        return res"
   ]
  },
  {
   "cell_type": "code",
   "execution_count": 17,
   "id": "734c4e88",
   "metadata": {},
   "outputs": [
    {
     "data": {
      "text/plain": [
       "['et', 'code']"
      ]
     },
     "execution_count": 17,
     "metadata": {},
     "output_type": "execute_result"
    }
   ],
   "source": [
    "s = Solution()\n",
    "s.stringMatching(words)"
   ]
  },
  {
   "cell_type": "markdown",
   "id": "acb93261",
   "metadata": {},
   "source": [
    "## 636. 函数的独占时间(8.7) (没搞明白)"
   ]
  },
  {
   "cell_type": "markdown",
   "id": "fce60f87",
   "metadata": {},
   "source": [
    "1. 记录函数用时的哈希表\n",
    "2. 一个点，一个函数开始后不可能接另一个函数的结束，即整个逻辑与**括号匹配**完全相同，故应用一个栈储存start数值，遍历到end弹出计算时间差，存入相应的哈希表"
   ]
  },
  {
   "cell_type": "code",
   "execution_count": null,
   "id": "00a9a9db",
   "metadata": {},
   "outputs": [],
   "source": [
    "class Solution:\n",
    "    def exclusiveTime(self, n: int, logs: List[str]) -> List[int]:\n",
    "        start = []\n",
    "        end = []\n",
    "        res = [0]*n\n",
    "        time_fix = 0\n",
    "        \n",
    "        for log in logs:\n",
    "            tag, status, time = log.split(':')\n",
    "            if status == 'start':\n",
    "                start.append((tag, time))\n",
    "            if status == 'end'\n",
    "                start_tag,start_time = start.pop()\n",
    "                \n",
    "        \n",
    "        "
   ]
  },
  {
   "cell_type": "code",
   "execution_count": 70,
   "id": "2923f043",
   "metadata": {},
   "outputs": [
    {
     "data": {
      "text/plain": [
       "['0', 'start', '0']"
      ]
     },
     "execution_count": 70,
     "metadata": {},
     "output_type": "execute_result"
    }
   ],
   "source": [
    "a = \"0:start:0\"\n",
    "a.split(':')"
   ]
  },
  {
   "cell_type": "code",
   "execution_count": 72,
   "id": "920c104b",
   "metadata": {},
   "outputs": [
    {
     "data": {
      "text/plain": [
       "3"
      ]
     },
     "execution_count": 72,
     "metadata": {},
     "output_type": "execute_result"
    }
   ],
   "source": [
    "l1 = [1,2,3]\n",
    "l1[2%3]"
   ]
  },
  {
   "cell_type": "code",
   "execution_count": 65,
   "id": "eaca63f5",
   "metadata": {},
   "outputs": [],
   "source": [
    "class Solution:\n",
    "    def exclusiveTime(self, n: int, logs: List[str]) -> List[int]:\n",
    "        res = [0]*n\n",
    "        slow = 0\n",
    "        fast = 1\n",
    "        tag_ing = []\n",
    "        \n",
    "        while fast <= len(logs)-1:\n",
    "            stag, sstatus, stime = logs[slow].split(':')\n",
    "            ftag, fstatus, ftime = logs[fast].split(':')\n",
    "            stag,ftag = int(stag), int(ftag)\n",
    "            stime, ftime = int(stime), int(ftime)\n",
    "            \n",
    "            while tag_ing:\n",
    "                if ftag == tag_ing[-1] and fstatus == 'end':\n",
    "                    tag_ing.pop()\n",
    "            \n",
    "#             print(res)\n",
    "            if sstatus == 'start' and fstatus == 'end':\n",
    "                res[stag] += ftime - stime + 1\n",
    "            elif sstatus == 'start' and fstatus == 'start':\n",
    "                res[stag] += ftime - stime\n",
    "                tag_ing.append(stag)\n",
    "            elif sstatus == 'end' and fstatus == 'end':\n",
    "                res[ftag] += ftime - stime \n",
    "            elif sstatus == 'end' and fstatus == 'start':\n",
    "                if tag_ing:\n",
    "                    res[tag_ing.pop()] += ftime - stime -1\n",
    "            slow += 1\n",
    "            fast += 1\n",
    "            \n",
    "        return res"
   ]
  },
  {
   "cell_type": "code",
   "execution_count": 66,
   "id": "de49124f",
   "metadata": {},
   "outputs": [],
   "source": [
    "logs = [\"0:start:0\",\"1:start:5\",\"2:start:6\",\"3:start:9\",\"4:start:11\",\\\n",
    "        \"5:start:12\",\"6:start:14\",\"7:start:15\",\"1:start:24\",\"1:end:29\",\\\n",
    "        \"7:end:34\",\"6:end:37\",\"5:end:39\",\"4:end:40\",\"3:end:45\",\"0:start:49\",\\\n",
    "        \"0:end:54\",\"5:start:55\",\"5:end:59\",\"4:start:63\",\"4:end:66\",\"2:start:69\",\\\n",
    "        \"2:end:70\",\"2:start:74\",\"6:start:78\",\"0:start:79\",\"0:end:80\",\"6:end:85\",\\\n",
    "        \"1:start:89\",\"1:end:93\",\"2:end:96\",\"2:end:100\",\"1:end:102\",\"2:start:105\",\\\n",
    "        \"2:end:109\",\"0:end:114\"]"
   ]
  },
  {
   "cell_type": "code",
   "execution_count": 67,
   "id": "dfe4ebb6",
   "metadata": {},
   "outputs": [
    {
     "ename": "KeyboardInterrupt",
     "evalue": "",
     "output_type": "error",
     "traceback": [
      "\u001b[1;31m---------------------------------------------------------------------------\u001b[0m",
      "\u001b[1;31mKeyboardInterrupt\u001b[0m                         Traceback (most recent call last)",
      "\u001b[1;32m<ipython-input-67-166a88e232b5>\u001b[0m in \u001b[0;36m<module>\u001b[1;34m\u001b[0m\n\u001b[0;32m      1\u001b[0m \u001b[0ms\u001b[0m \u001b[1;33m=\u001b[0m \u001b[0mSolution\u001b[0m\u001b[1;33m(\u001b[0m\u001b[1;33m)\u001b[0m\u001b[1;33m\u001b[0m\u001b[0m\n\u001b[1;32m----> 2\u001b[1;33m \u001b[0ms\u001b[0m\u001b[1;33m.\u001b[0m\u001b[0mexclusiveTime\u001b[0m\u001b[1;33m(\u001b[0m\u001b[1;36m8\u001b[0m\u001b[1;33m,\u001b[0m \u001b[0mlogs\u001b[0m\u001b[1;33m)\u001b[0m\u001b[1;33m\u001b[0m\u001b[0m\n\u001b[0m",
      "\u001b[1;32m<ipython-input-65-4bf138945bfe>\u001b[0m in \u001b[0;36mexclusiveTime\u001b[1;34m(self, n, logs)\u001b[0m\n\u001b[0;32m     13\u001b[0m \u001b[1;33m\u001b[0m\u001b[0m\n\u001b[0;32m     14\u001b[0m             \u001b[1;32mwhile\u001b[0m \u001b[0mtag_ing\u001b[0m\u001b[1;33m:\u001b[0m\u001b[1;33m\u001b[0m\u001b[0m\n\u001b[1;32m---> 15\u001b[1;33m                 \u001b[1;32mif\u001b[0m \u001b[0mftag\u001b[0m \u001b[1;33m==\u001b[0m \u001b[0mtag_ing\u001b[0m\u001b[1;33m[\u001b[0m\u001b[1;33m-\u001b[0m\u001b[1;36m1\u001b[0m\u001b[1;33m]\u001b[0m \u001b[1;32mand\u001b[0m \u001b[0mfstatus\u001b[0m \u001b[1;33m==\u001b[0m \u001b[1;34m'end'\u001b[0m\u001b[1;33m:\u001b[0m\u001b[1;33m\u001b[0m\u001b[0m\n\u001b[0m\u001b[0;32m     16\u001b[0m                     \u001b[0mtag_ing\u001b[0m\u001b[1;33m.\u001b[0m\u001b[0mpop\u001b[0m\u001b[1;33m(\u001b[0m\u001b[1;33m)\u001b[0m\u001b[1;33m\u001b[0m\u001b[0m\n\u001b[0;32m     17\u001b[0m \u001b[1;33m\u001b[0m\u001b[0m\n",
      "\u001b[1;31mKeyboardInterrupt\u001b[0m: "
     ]
    }
   ],
   "source": [
    "s = Solution()\n",
    "s.exclusiveTime(8, logs)"
   ]
  },
  {
   "cell_type": "code",
   "execution_count": null,
   "id": "eab87331",
   "metadata": {},
   "outputs": [],
   "source": [
    "class Solution:\n",
    "    def exclusiveTime(self, n: int, logs: List[str]) -> List[int]:\n",
    "        ans = [0] * n\n",
    "        st = []\n",
    "        for log in logs:\n",
    "            idx, tp, timestamp = log.split(':')\n",
    "            idx, timestamp = int(idx), int(timestamp)\n",
    "            if tp[0] == 's':\n",
    "                if st:\n",
    "                    ans[st[-1][0]] += timestamp - st[-1][1]\n",
    "                    st[-1][1] = timestamp\n",
    "                st.append([idx, timestamp])\n",
    "            else:\n",
    "                i, t = st.pop()\n",
    "                ans[i] += timestamp - t + 1\n",
    "                if st:\n",
    "                    st[-1][1] = timestamp + 1\n",
    "        return ans"
   ]
  },
  {
   "cell_type": "code",
   "execution_count": null,
   "id": "09689c7c",
   "metadata": {},
   "outputs": [],
   "source": []
  },
  {
   "cell_type": "code",
   "execution_count": null,
   "id": "850c4592",
   "metadata": {},
   "outputs": [],
   "source": []
  },
  {
   "cell_type": "code",
   "execution_count": null,
   "id": "bef7f311",
   "metadata": {},
   "outputs": [],
   "source": []
  },
  {
   "cell_type": "code",
   "execution_count": null,
   "id": "f37bf957",
   "metadata": {},
   "outputs": [],
   "source": []
  },
  {
   "cell_type": "code",
   "execution_count": null,
   "id": "3943e26a",
   "metadata": {},
   "outputs": [],
   "source": []
  },
  {
   "cell_type": "code",
   "execution_count": null,
   "id": "351b1291",
   "metadata": {},
   "outputs": [],
   "source": []
  },
  {
   "cell_type": "code",
   "execution_count": null,
   "id": "953346f6",
   "metadata": {},
   "outputs": [],
   "source": []
  },
  {
   "cell_type": "code",
   "execution_count": null,
   "id": "16df9ed2",
   "metadata": {},
   "outputs": [],
   "source": []
  },
  {
   "cell_type": "markdown",
   "id": "fc4a8ebb",
   "metadata": {},
   "source": [
    "## 1403. 非递增顺序的最小子序列"
   ]
  },
  {
   "cell_type": "code",
   "execution_count": 18,
   "id": "1bb2a169",
   "metadata": {},
   "outputs": [],
   "source": [
    "class Solution:\n",
    "    def minSubsequence(self, nums: List[int]) -> List[int]:\n",
    "        nsum = sum(nums)\n",
    "#         print(nsum)\n",
    "        nums.sort(reverse = True)\n",
    "        minsum = 0\n",
    "        for i in range(len(nums)):\n",
    "            minsum += nums[i]\n",
    "            if minsum > nsum - minsum:\n",
    "#                 print(minsum)\n",
    "                break\n",
    "        return nums[:i+1]"
   ]
  },
  {
   "cell_type": "code",
   "execution_count": 23,
   "id": "61990956",
   "metadata": {},
   "outputs": [],
   "source": [
    "nums = [4,4,7,6,7]"
   ]
  },
  {
   "cell_type": "code",
   "execution_count": 24,
   "id": "9da541a9",
   "metadata": {},
   "outputs": [
    {
     "name": "stdout",
     "output_type": "stream",
     "text": [
      "28\n",
      "20\n"
     ]
    },
    {
     "data": {
      "text/plain": [
       "[7, 7, 6]"
      ]
     },
     "execution_count": 24,
     "metadata": {},
     "output_type": "execute_result"
    }
   ],
   "source": [
    "s = Solution()\n",
    "s.minSubsequence(nums)"
   ]
  },
  {
   "cell_type": "markdown",
   "id": "431f1b62",
   "metadata": {},
   "source": [
    "## 1395. 统计作战单位数  (树状数组没懂)"
   ]
  },
  {
   "cell_type": "code",
   "execution_count": 68,
   "id": "4ed5dfef",
   "metadata": {},
   "outputs": [],
   "source": [
    "class Solution:\n",
    "    def numTeams(self, rating: List[int]) -> int:\n",
    "        ans = 0\n",
    "        for i in range(len(rating)):\n",
    "            for j in range(i+1, len(rating)):\n",
    "                if rating[i] > rating[j]:\n",
    "                    count = 0\n",
    "                    for k in range(j+1, len(rating)):\n",
    "                        if rating[j] > rating[k]:\n",
    "                            count += 1\n",
    "                    ans += count\n",
    "                if rating[j] > rating[i]:\n",
    "                    count = 0\n",
    "                    for k in range(j+1, len(rating)):\n",
    "                        if rating[k] > rating[j]:\n",
    "                            count += 1\n",
    "                    ans += count\n",
    "        return ans"
   ]
  },
  {
   "cell_type": "code",
   "execution_count": 73,
   "id": "2e02bf6e",
   "metadata": {},
   "outputs": [],
   "source": [
    "rating = [1,2,3,4]"
   ]
  },
  {
   "cell_type": "code",
   "execution_count": 74,
   "id": "2591eb4d",
   "metadata": {},
   "outputs": [
    {
     "data": {
      "text/plain": [
       "4"
      ]
     },
     "execution_count": 74,
     "metadata": {},
     "output_type": "execute_result"
    }
   ],
   "source": [
    "s = Solution()\n",
    "s.numTeams(rating)"
   ]
  },
  {
   "cell_type": "markdown",
   "id": "232b5f0b",
   "metadata": {},
   "source": [
    "想到了邻接表和动态规划"
   ]
  },
  {
   "cell_type": "code",
   "execution_count": null,
   "id": "d2a76542",
   "metadata": {},
   "outputs": [],
   "source": [
    "rating = [2,5,3,4,1]\n",
    "uptab = [[1,2,3], [], [3], [], []]\n",
    "downtab = [[4], [2,3,4], [4], [4], []]"
   ]
  },
  {
   "cell_type": "code",
   "execution_count": 96,
   "id": "dab9541c",
   "metadata": {},
   "outputs": [],
   "source": [
    "class Solution:\n",
    "    def numTeams(self, rating: List[int]) -> int:\n",
    "        \n",
    "        downtab = [[] for i in range(len(rating))]\n",
    "        uptab = [[] for i in range(len(rating))]\n",
    "        \n",
    "        for i in range(len(rating)):\n",
    "            for j in range(i+1, len(rating)):\n",
    "                if rating[i] < rating[j]:\n",
    "                    uptab[i].append(j)\n",
    "                else:\n",
    "                    downtab[i].append(j)\n",
    "        \n",
    "        def FindTeams(tabs):\n",
    "            for tab in range(len(tabs)):\n",
    "                for num in tab:\n",
    "                    \n",
    "        \n",
    "        return uptab,downtab"
   ]
  },
  {
   "cell_type": "code",
   "execution_count": 101,
   "id": "a27651ab",
   "metadata": {},
   "outputs": [],
   "source": [
    "rating = [1,2,3,4,5]"
   ]
  },
  {
   "cell_type": "code",
   "execution_count": 102,
   "id": "e62a3023",
   "metadata": {},
   "outputs": [
    {
     "data": {
      "text/plain": [
       "([[1, 2, 3, 4], [2, 3, 4], [3, 4], [4], []], [[], [], [], [], []])"
      ]
     },
     "execution_count": 102,
     "metadata": {},
     "output_type": "execute_result"
    }
   ],
   "source": [
    "s = Solution()\n",
    "s.numTeams(rating)"
   ]
  },
  {
   "cell_type": "code",
   "execution_count": 103,
   "id": "078d7c7a",
   "metadata": {},
   "outputs": [],
   "source": [
    "class Solution:\n",
    "    def numTeams(self, rating: List[int]) -> int:\n",
    "        n = len(rating)\n",
    "        ans = 0\n",
    "        # 枚举三元组中的 j\n",
    "        for j in range(1, n - 1):\n",
    "            iless = imore = kless = kmore = 0\n",
    "            for i in range(j):\n",
    "                if rating[i] < rating[j]:\n",
    "                    iless += 1\n",
    "                # 注意这里不能直接写成 else\n",
    "                # 因为可能有评分相同的情况\n",
    "                elif rating[i] > rating[j]:\n",
    "                    imore += 1\n",
    "            for k in range(j + 1, n):\n",
    "                if rating[k] < rating[j]:\n",
    "                    kless += 1\n",
    "                elif rating[k] > rating[j]:\n",
    "                    kmore += 1\n",
    "            ans += iless * kmore + imore * kless\n",
    "        return ans"
   ]
  },
  {
   "cell_type": "markdown",
   "id": "e39dae82",
   "metadata": {},
   "source": [
    "## Offer 063. 替换单词  （字典树太高级）"
   ]
  },
  {
   "cell_type": "code",
   "execution_count": 161,
   "id": "0a487c87",
   "metadata": {},
   "outputs": [],
   "source": [
    "class Solution:\n",
    "    def replaceWords(self, dictionary: List[str], sentence: str) -> str:\n",
    "        minlen = len(dictionary[0])\n",
    "        for dic in dictionary:\n",
    "            if len(dic) < minlen:\n",
    "                minlen = len(dic)\n",
    "        \n",
    "        words = sentence.split(' ') \n",
    "        \n",
    "        for i in range(len(words)):\n",
    "            maxlen = 100\n",
    "            if len(words[i]) < minlen:\n",
    "                continue\n",
    "            for dic in dictionary:\n",
    "#                 print(words[i][:len(dic)+1])\n",
    "                if dic == words[i][:len(dic)] and len(dic) < maxlen:\n",
    "                    maxlen = len(dic)\n",
    "                    words[i] = dic\n",
    "                    \n",
    "        words = ' '.join(words)\n",
    "        return words"
   ]
  },
  {
   "cell_type": "code",
   "execution_count": 164,
   "id": "847f812c",
   "metadata": {},
   "outputs": [],
   "source": [
    "dictionary = [\"ac\",\"ab\"]\n",
    "sentence = \"it is abnormal that this solution is accepted\""
   ]
  },
  {
   "cell_type": "code",
   "execution_count": 165,
   "id": "927d58b5",
   "metadata": {},
   "outputs": [
    {
     "data": {
      "text/plain": [
       "'it is ab that this solution is ac'"
      ]
     },
     "execution_count": 165,
     "metadata": {},
     "output_type": "execute_result"
    }
   ],
   "source": [
    "s = Solution()\n",
    "s.replaceWords(dictionary, sentence)"
   ]
  },
  {
   "cell_type": "code",
   "execution_count": 166,
   "id": "7ac6221b",
   "metadata": {},
   "outputs": [],
   "source": [
    "class Solution:\n",
    "    def replaceWords(self, dictionary: List[str], sentence: str) -> str:\n",
    "        words = sentence.split(' ') \n",
    "        for i in range(len(words)):\n",
    "            maxlen = 100\n",
    "            for dic in dictionary:\n",
    "#                 print(words[i][:len(dic)+1])\n",
    "                if dic == words[i][:len(dic)] and len(dic) < maxlen:\n",
    "                    maxlen = len(dic)\n",
    "                    words[i] = dic\n",
    "                    \n",
    "        words = ' '.join(words)\n",
    "        return words"
   ]
  },
  {
   "cell_type": "code",
   "execution_count": 167,
   "id": "4914126d",
   "metadata": {},
   "outputs": [],
   "source": [
    "dictionary = [\"ac\",\"ab\"]\n",
    "sentence = \"it is abnormal that this solution is accepted\""
   ]
  },
  {
   "cell_type": "code",
   "execution_count": 168,
   "id": "deac4114",
   "metadata": {},
   "outputs": [
    {
     "data": {
      "text/plain": [
       "'it is ab that this solution is ac'"
      ]
     },
     "execution_count": 168,
     "metadata": {},
     "output_type": "execute_result"
    }
   ],
   "source": [
    "s = Solution()\n",
    "s.replaceWords(dictionary, sentence)"
   ]
  },
  {
   "cell_type": "markdown",
   "id": "9f92d306",
   "metadata": {},
   "source": [
    "不加判断是会慢一些，还能优化"
   ]
  },
  {
   "cell_type": "code",
   "execution_count": 199,
   "id": "05f7e562",
   "metadata": {},
   "outputs": [],
   "source": [
    "class Solution:\n",
    "    def replaceWords(self, dictionary: List[str], sentence: str) -> str:\n",
    "        \n",
    "        # 先整理字典，去掉冗余\n",
    "        for i in range(len(dictionary)):\n",
    "            ilen = len(dictionary[i])\n",
    "            for j in range(i+1, len(dictionary)):\n",
    "                jlen = len(dictionary[j])\n",
    "                if jlen >= ilen:\n",
    "                    if dictionary[i] == dictionary[j][:ilen]:\n",
    "                        dictionary[j] = dictionary[i]\n",
    "        dictionary = list(set(dictionary))\n",
    "        \n",
    "        minlen = len(dictionary[0])\n",
    "        for dic in dictionary:\n",
    "            if len(dic) < minlen:\n",
    "                minlen = len(dic)\n",
    "        \n",
    "        words = sentence.split(' ') \n",
    "        \n",
    "        for i in range(len(words)):\n",
    "            if len(words[i]) < minlen:\n",
    "                continue\n",
    "            for dic in dictionary:\n",
    "#                 print(words[i][:len(dic)+1])\n",
    "                if dic == words[i][:len(dic)]:\n",
    "                    words[i] = dic\n",
    "                    \n",
    "        words = ' '.join(words)\n",
    "        return words"
   ]
  },
  {
   "cell_type": "code",
   "execution_count": 200,
   "id": "fd8728e1",
   "metadata": {},
   "outputs": [
    {
     "data": {
      "text/plain": [
       "'it is ab that this solution is ac'"
      ]
     },
     "execution_count": 200,
     "metadata": {},
     "output_type": "execute_result"
    }
   ],
   "source": [
    "dictionary = [\"ac\",\"ab\"]\n",
    "sentence = \"it is abnormal that this solution is accepted\"\n",
    "s = Solution()\n",
    "s.replaceWords(dictionary, sentence)"
   ]
  },
  {
   "cell_type": "code",
   "execution_count": 196,
   "id": "d99b282c",
   "metadata": {},
   "outputs": [],
   "source": [
    "dictionary = [\"a\", \"aa\", \"aaa\", \"aaaa\"]"
   ]
  },
  {
   "cell_type": "code",
   "execution_count": 198,
   "id": "7d75d349",
   "metadata": {},
   "outputs": [
    {
     "name": "stdout",
     "output_type": "stream",
     "text": [
      "['a']\n"
     ]
    }
   ],
   "source": [
    "for i in range(len(dictionary)):\n",
    "    ilen = len(dictionary[i])\n",
    "    for j in range(i+1, len(dictionary)):\n",
    "        jlen = len(dictionary[j])\n",
    "        if jlen >= ilen:\n",
    "            if dictionary[j][:ilen] == dictionary[i]:\n",
    "                dictionary[j] = dictionary[i]\n",
    "dictionary = list(set(dictionary))\n",
    "print(dictionary)"
   ]
  },
  {
   "cell_type": "markdown",
   "id": "40d94089",
   "metadata": {},
   "source": [
    "时间更长了。。。"
   ]
  },
  {
   "cell_type": "markdown",
   "id": "f65d4c66",
   "metadata": {},
   "source": [
    "**字典树**"
   ]
  },
  {
   "cell_type": "code",
   "execution_count": 201,
   "id": "690f9abb",
   "metadata": {},
   "outputs": [
    {
     "name": "stdout",
     "output_type": "stream",
     "text": [
      "{'c': {'a': {'t': {'t': {'#': {}}, '#': {}}}}, 'b': {'a': {'t': {'#': {}}}}, 'r': {'a': {'t': {'#': {}}}}}\n"
     ]
    }
   ],
   "source": [
    "dictionary = [\"catt\",\"cat\",\"bat\",\"rat\"]\n",
    "trie = {}\n",
    "for word in dictionary:\n",
    "    cur = trie\n",
    "    for c in word:\n",
    "        if c not in cur:\n",
    "            cur[c] = {}\n",
    "        cur = cur[c]\n",
    "    cur['#'] = {}\n",
    "print(trie)"
   ]
  },
  {
   "cell_type": "code",
   "execution_count": 202,
   "id": "d5f20024",
   "metadata": {},
   "outputs": [],
   "source": [
    "class Solution:\n",
    "    def replaceWords(self, dictionary: List[str], sentence: str) -> str:\n",
    "        trie = {}\n",
    "        for word in dictionary:\n",
    "            cur = trie\n",
    "            for c in word:\n",
    "                if c not in cur:\n",
    "                    cur[c] = {}\n",
    "                cur = cur[c]\n",
    "            cur['#'] = {}\n",
    "\n",
    "        words = sentence.split(' ')\n",
    "        for i, word in enumerate(words):\n",
    "            cur = trie\n",
    "            for j, c in enumerate(word):\n",
    "                if '#' in cur:\n",
    "                    words[i] = word[:j]\n",
    "                    break\n",
    "                if c not in cur:\n",
    "                    break\n",
    "                cur = cur[c]\n",
    "        return ' '.join(words)"
   ]
  },
  {
   "cell_type": "markdown",
   "id": "56c951a1",
   "metadata": {},
   "source": [
    "太高级，再议"
   ]
  },
  {
   "cell_type": "markdown",
   "id": "59a2407c",
   "metadata": {},
   "source": [
    "## 1314. 矩阵区域和"
   ]
  },
  {
   "cell_type": "markdown",
   "id": "1616f782",
   "metadata": {},
   "source": [
    "卷积无误了"
   ]
  },
  {
   "cell_type": "markdown",
   "id": "b9af159e",
   "metadata": {},
   "source": [
    "1. 手撸padding\n",
    "2. 手撸卷积"
   ]
  },
  {
   "cell_type": "code",
   "execution_count": 251,
   "id": "7a5bae87",
   "metadata": {},
   "outputs": [],
   "source": [
    "# padding\n",
    "\n",
    "def padding(mat, k):\n",
    "    for i in range(len(mat)):\n",
    "        for j in range(2):\n",
    "            for l in range(k):\n",
    "                mat[i].append(0)\n",
    "            mat[i] = mat[i][::-1]\n",
    "    row_len = len(mat[0])\n",
    "    pad = [0 for i in range(row_len)]\n",
    "    for i in range(2):\n",
    "        for j in range(k):\n",
    "            mat.append(pad)\n",
    "        mat = mat[::-1]\n",
    "    return mat"
   ]
  },
  {
   "cell_type": "code",
   "execution_count": 252,
   "id": "ce05ca85",
   "metadata": {},
   "outputs": [],
   "source": [
    "mat = [[1,2,3],[4,5,6]]\n",
    "k = 2"
   ]
  },
  {
   "cell_type": "code",
   "execution_count": 253,
   "id": "7e3a67a0",
   "metadata": {},
   "outputs": [
    {
     "data": {
      "text/plain": [
       "[[0, 0, 0, 0, 0, 0, 0],\n",
       " [0, 0, 0, 0, 0, 0, 0],\n",
       " [0, 0, 1, 2, 3, 0, 0],\n",
       " [0, 0, 4, 5, 6, 0, 0],\n",
       " [0, 0, 0, 0, 0, 0, 0],\n",
       " [0, 0, 0, 0, 0, 0, 0]]"
      ]
     },
     "execution_count": 253,
     "metadata": {},
     "output_type": "execute_result"
    }
   ],
   "source": [
    "padding(mat, k)"
   ]
  },
  {
   "cell_type": "code",
   "execution_count": 348,
   "id": "50ed6731",
   "metadata": {},
   "outputs": [],
   "source": [
    "# convolution\n",
    "\n",
    "def convolution(mat, k):\n",
    "    mat1_n = []\n",
    "    \n",
    "    col_len = len(mat)-2*k\n",
    "    row_len = len(mat[0])-2*k\n",
    "    kernel_len = 2*k + 1\n",
    "    \n",
    "    kernel = [[1 for i in range(kernel_len)] for j in range(kernel_len)]\n",
    "#     print(kernel)\n",
    "    for i in range(col_len):\n",
    "        for j in range(row_len):\n",
    "            res = []\n",
    "            for row in mat[i:kernel_len+i]:\n",
    "                res.append(row[j:kernel_len+j])\n",
    "            print(res)\n",
    "            mat1_n.append(mat_multiply(res, kernel))\n",
    "    \n",
    "    # 将1*N的矩阵reshape\n",
    "    ans = [[0 for i in range(row_len)] for j in range(col_len)]\n",
    "    for m in range(col_len):\n",
    "        for n in range(row_len):\n",
    "            ans[m][n] = mat1_n.pop(0)\n",
    "    \n",
    "    return ans\n",
    "    \n",
    "# 矩阵乘法\n",
    "def mat_multiply(mat1, mat2):\n",
    "    ans = 0\n",
    "    for m,row in enumerate(mat1):\n",
    "        for n,num in enumerate(row):\n",
    "            ans += num*mat2[m][n]\n",
    "    \n",
    "    return ans"
   ]
  },
  {
   "cell_type": "code",
   "execution_count": 349,
   "id": "3dc95042",
   "metadata": {},
   "outputs": [
    {
     "data": {
      "text/plain": [
       "[[0, 0, 0, 0, 0],\n",
       " [0, 1, 2, 3, 0],\n",
       " [0, 4, 5, 6, 0],\n",
       " [0, 7, 8, 9, 0],\n",
       " [0, 0, 0, 0, 0]]"
      ]
     },
     "execution_count": 349,
     "metadata": {},
     "output_type": "execute_result"
    }
   ],
   "source": [
    "mat = [[1,2,3],[4,5,6],[7,8,9]]\n",
    "pad_mat = padding(mat,1)\n",
    "pad_mat"
   ]
  },
  {
   "cell_type": "code",
   "execution_count": 350,
   "id": "11767afc",
   "metadata": {},
   "outputs": [
    {
     "name": "stdout",
     "output_type": "stream",
     "text": [
      "[[0, 0, 0], [0, 1, 2], [0, 4, 5]]\n",
      "[[0, 0, 0], [1, 2, 3], [4, 5, 6]]\n",
      "[[0, 0, 0], [2, 3, 0], [5, 6, 0]]\n",
      "[[0, 1, 2], [0, 4, 5], [0, 7, 8]]\n",
      "[[1, 2, 3], [4, 5, 6], [7, 8, 9]]\n",
      "[[2, 3, 0], [5, 6, 0], [8, 9, 0]]\n",
      "[[0, 4, 5], [0, 7, 8], [0, 0, 0]]\n",
      "[[4, 5, 6], [7, 8, 9], [0, 0, 0]]\n",
      "[[5, 6, 0], [8, 9, 0], [0, 0, 0]]\n"
     ]
    },
    {
     "data": {
      "text/plain": [
       "[[12, 21, 16], [27, 45, 33], [24, 39, 28]]"
      ]
     },
     "execution_count": 350,
     "metadata": {},
     "output_type": "execute_result"
    }
   ],
   "source": [
    "convolution(pad_mat, 1)"
   ]
  },
  {
   "cell_type": "code",
   "execution_count": 255,
   "id": "2acb2ca9",
   "metadata": {},
   "outputs": [
    {
     "data": {
      "text/plain": [
       "[[0, 0, 0], [0, 0, 0]]"
      ]
     },
     "execution_count": 255,
     "metadata": {},
     "output_type": "execute_result"
    }
   ],
   "source": [
    "row_len = 3\n",
    "col_len = 2\n",
    "ans = [[0 for i in range(row_len)] for j in range(col_len)]\n",
    "ans"
   ]
  },
  {
   "cell_type": "code",
   "execution_count": 257,
   "id": "f43f0b97",
   "metadata": {},
   "outputs": [
    {
     "name": "stdout",
     "output_type": "stream",
     "text": [
      "0,4\n",
      "1,3\n",
      "2,2\n",
      "3,1\n"
     ]
    }
   ],
   "source": [
    "a = [4,3,2,1]\n",
    "\n",
    "for n, num in enumerate(a):\n",
    "    print(f'{n},{num}')"
   ]
  },
  {
   "cell_type": "code",
   "execution_count": 287,
   "id": "701c5718",
   "metadata": {},
   "outputs": [],
   "source": [
    "mat = [[1,2,3],[4,5,6]]"
   ]
  },
  {
   "cell_type": "code",
   "execution_count": 288,
   "id": "eef562e5",
   "metadata": {},
   "outputs": [],
   "source": [
    "a = padding(mat,2)"
   ]
  },
  {
   "cell_type": "code",
   "execution_count": 302,
   "id": "8a1dd4f7",
   "metadata": {},
   "outputs": [
    {
     "data": {
      "text/plain": [
       "[[0, 0, 0, 0, 0, 0, 0],\n",
       " [0, 0, 0, 0, 0, 0, 0],\n",
       " [0, 0, 1, 2, 3, 0, 0],\n",
       " [0, 0, 4, 5, 6, 0, 0],\n",
       " [0, 0, 0, 0, 0, 0, 0],\n",
       " [0, 0, 0, 0, 0, 0, 0]]"
      ]
     },
     "execution_count": 302,
     "metadata": {},
     "output_type": "execute_result"
    }
   ],
   "source": [
    "a"
   ]
  },
  {
   "cell_type": "code",
   "execution_count": 303,
   "id": "cbd10781",
   "metadata": {},
   "outputs": [
    {
     "name": "stdout",
     "output_type": "stream",
     "text": [
      "[[0, 0, 0, 0, 0], [0, 0, 0, 0, 0], [0, 0, 1, 2, 3], [0, 0, 4, 5, 6], [0, 0, 0, 0, 0]]\n"
     ]
    }
   ],
   "source": [
    "res = []\n",
    "for row in a[0:5]:\n",
    "    res.append(row[0:5])\n",
    "print(res)"
   ]
  },
  {
   "cell_type": "markdown",
   "id": "8fe60c0c",
   "metadata": {},
   "source": [
    "综合 padding， multiply， convolution"
   ]
  },
  {
   "cell_type": "code",
   "execution_count": 354,
   "id": "b0af7b9a",
   "metadata": {},
   "outputs": [],
   "source": [
    "class Solution:\n",
    "    def matrixBlockSum(self, mat: List[List[int]], k: int) -> List[List[int]]:\n",
    "        \n",
    "        def padding(mat, k):\n",
    "            for i in range(len(mat)):\n",
    "                for j in range(2):\n",
    "                    for l in range(k):\n",
    "                        mat[i].append(0)\n",
    "                    mat[i] = mat[i][::-1]\n",
    "            row_len = len(mat[0])\n",
    "            pad = [0 for i in range(row_len)]\n",
    "            for i in range(2):\n",
    "                for j in range(k):\n",
    "                    mat.append(pad)\n",
    "                mat = mat[::-1]\n",
    "            return mat\n",
    "        \n",
    "        def mat_multiply(mat1, mat2):\n",
    "            ans = 0\n",
    "            for m,row in enumerate(mat1):\n",
    "                for n,num in enumerate(row):\n",
    "                    ans += num*mat2[m][n]\n",
    "\n",
    "            return ans\n",
    "        \n",
    "        def convolution(mat, k):\n",
    "            mat1_n = []\n",
    "\n",
    "            col_len = len(mat)-2*k\n",
    "            row_len = len(mat[0])-2*k\n",
    "            kernel_len = 2*k + 1\n",
    "\n",
    "            kernel = [[1 for i in range(kernel_len)] for j in range(kernel_len)]\n",
    "        #     print(kernel)\n",
    "            for i in range(col_len):\n",
    "                for j in range(row_len):\n",
    "                    res = []\n",
    "                    for row in mat[i:kernel_len+i]:\n",
    "                        res.append(row[j:kernel_len+j])\n",
    "#                     print(res)\n",
    "                    mat1_n.append(mat_multiply(res, kernel))\n",
    "\n",
    "            # 将1*N的矩阵reshape\n",
    "            ans = [[0 for i in range(row_len)] for j in range(col_len)]\n",
    "            for m in range(col_len):\n",
    "                for n in range(row_len):\n",
    "                    ans[m][n] = mat1_n.pop(0)\n",
    "\n",
    "            return ans\n",
    "        \n",
    "        pad_mat = padding(mat, k)\n",
    "        \n",
    "        return convolution(pad_mat, k)"
   ]
  },
  {
   "cell_type": "code",
   "execution_count": 357,
   "id": "1bad1844",
   "metadata": {},
   "outputs": [],
   "source": [
    "mat = [[1,2,3],[4,5,6],[7,8,9]]\n",
    "k = 2"
   ]
  },
  {
   "cell_type": "code",
   "execution_count": 358,
   "id": "4b8ca941",
   "metadata": {},
   "outputs": [
    {
     "data": {
      "text/plain": [
       "[[45, 45, 45], [45, 45, 45], [45, 45, 45]]"
      ]
     },
     "execution_count": 358,
     "metadata": {},
     "output_type": "execute_result"
    }
   ],
   "source": [
    "s = Solution()\n",
    "s.matrixBlockSum(mat, k)"
   ]
  },
  {
   "cell_type": "markdown",
   "id": "ef4b08ae",
   "metadata": {},
   "source": [
    "以上为回顾矩阵运算，下面正常解法"
   ]
  },
  {
   "cell_type": "code",
   "execution_count": 3,
   "id": "b25fcafe",
   "metadata": {},
   "outputs": [],
   "source": [
    "class Solution:\n",
    "    def matrixBlockSum(self, mat: List[List[int]], K: int) -> List[List[int]]:\n",
    "        m, n = len(mat), len(mat[0])\n",
    "        P = [[0] * (n + 1) for _ in range(m + 1)]\n",
    "        for i in range(1, m + 1):\n",
    "            for j in range(1, n + 1):\n",
    "                P[i][j] = P[i - 1][j] + P[i][j - 1] - P[i - 1][j - 1] + mat[i - 1][j - 1]\n",
    "        \n",
    "        def get(x, y):\n",
    "            x = max(min(x, m), 0)\n",
    "            y = max(min(y, n), 0)\n",
    "            return P[x][y]\n",
    "\n",
    "        ans = [[0] * n for _ in range(m)]\n",
    "        for i in range(m):\n",
    "            for j in range(n):\n",
    "                ans[i][j] = get(i + K + 1, j + K + 1) - get(i - K, j + K + 1) - get(i + K + 1, j - K) + get(i - K, j - K);\n",
    "        return ans"
   ]
  },
  {
   "cell_type": "markdown",
   "id": "09a9ae7f",
   "metadata": {},
   "source": [
    "再议"
   ]
  },
  {
   "cell_type": "code",
   "execution_count": null,
   "id": "d406f7a1",
   "metadata": {},
   "outputs": [],
   "source": []
  },
  {
   "cell_type": "code",
   "execution_count": null,
   "id": "05a7e1cd",
   "metadata": {},
   "outputs": [],
   "source": []
  },
  {
   "cell_type": "code",
   "execution_count": null,
   "id": "2d788306",
   "metadata": {},
   "outputs": [],
   "source": []
  },
  {
   "cell_type": "code",
   "execution_count": null,
   "id": "07eb0708",
   "metadata": {},
   "outputs": [],
   "source": []
  },
  {
   "cell_type": "code",
   "execution_count": null,
   "id": "c3432c9d",
   "metadata": {},
   "outputs": [],
   "source": []
  },
  {
   "cell_type": "code",
   "execution_count": null,
   "id": "21de88a8",
   "metadata": {},
   "outputs": [],
   "source": []
  },
  {
   "cell_type": "code",
   "execution_count": null,
   "id": "5bb5ffd2",
   "metadata": {},
   "outputs": [],
   "source": []
  },
  {
   "cell_type": "code",
   "execution_count": null,
   "id": "e41df86e",
   "metadata": {},
   "outputs": [],
   "source": []
  },
  {
   "cell_type": "code",
   "execution_count": null,
   "id": "b098340c",
   "metadata": {},
   "outputs": [],
   "source": []
  },
  {
   "cell_type": "code",
   "execution_count": null,
   "id": "7b49b856",
   "metadata": {},
   "outputs": [],
   "source": []
  },
  {
   "cell_type": "code",
   "execution_count": null,
   "id": "03bd482c",
   "metadata": {},
   "outputs": [],
   "source": []
  },
  {
   "cell_type": "code",
   "execution_count": null,
   "id": "4deeea09",
   "metadata": {},
   "outputs": [],
   "source": []
  },
  {
   "cell_type": "code",
   "execution_count": null,
   "id": "6ded512c",
   "metadata": {},
   "outputs": [],
   "source": []
  },
  {
   "cell_type": "code",
   "execution_count": null,
   "id": "6d3a3764",
   "metadata": {},
   "outputs": [],
   "source": []
  },
  {
   "cell_type": "code",
   "execution_count": null,
   "id": "bb1b181f",
   "metadata": {},
   "outputs": [],
   "source": []
  },
  {
   "cell_type": "code",
   "execution_count": null,
   "id": "4d2fb7b4",
   "metadata": {},
   "outputs": [],
   "source": []
  },
  {
   "cell_type": "code",
   "execution_count": null,
   "id": "32338f5f",
   "metadata": {},
   "outputs": [],
   "source": []
  },
  {
   "cell_type": "code",
   "execution_count": null,
   "id": "1453d6bc",
   "metadata": {},
   "outputs": [],
   "source": []
  },
  {
   "cell_type": "code",
   "execution_count": null,
   "id": "890a79d1",
   "metadata": {},
   "outputs": [],
   "source": []
  },
  {
   "cell_type": "code",
   "execution_count": null,
   "id": "4244eb7a",
   "metadata": {},
   "outputs": [],
   "source": []
  }
 ],
 "metadata": {
  "kernelspec": {
   "display_name": "Python 3 (ipykernel)",
   "language": "python",
   "name": "python3"
  },
  "language_info": {
   "codemirror_mode": {
    "name": "ipython",
    "version": 3
   },
   "file_extension": ".py",
   "mimetype": "text/x-python",
   "name": "python",
   "nbconvert_exporter": "python",
   "pygments_lexer": "ipython3",
   "version": "3.6.3"
  }
 },
 "nbformat": 4,
 "nbformat_minor": 5
}
