{
 "cells": [
  {
   "cell_type": "code",
   "execution_count": 2,
   "id": "fc70de9f",
   "metadata": {},
   "outputs": [],
   "source": [
    "from typing import List,Optional"
   ]
  },
  {
   "cell_type": "code",
   "execution_count": 3,
   "id": "50806441",
   "metadata": {},
   "outputs": [],
   "source": [
    "# Definition for a binary tree node.\n",
    "class TreeNode:\n",
    "    def __init__(self, val=0, left=None, right=None):\n",
    "        self.val = val\n",
    "        self.left = left\n",
    "        self.right = right"
   ]
  },
  {
   "cell_type": "code",
   "execution_count": 4,
   "id": "f5aee166",
   "metadata": {},
   "outputs": [],
   "source": [
    "def constructTree(l:list) -> Optional[TreeNode]:\n",
    "    head = TreeNode(val=l.pop(0))\n",
    "    queue = [head]\n",
    "    while l and queue:\n",
    "        cur = queue.pop(0)\n",
    "        lval = l.pop(0)\n",
    "        curl = TreeNode(val=lval)\n",
    "        queue.append(curl)\n",
    "        cur.left = curl\n",
    "        if l:\n",
    "            rval = l.pop(0)\n",
    "            curr = TreeNode(val=rval)\n",
    "            queue.append(curr)\n",
    "            cur.right =  curr\n",
    "#         print(queue)\n",
    "    return head"
   ]
  },
  {
   "cell_type": "code",
   "execution_count": 5,
   "id": "bb69b837",
   "metadata": {},
   "outputs": [],
   "source": [
    "def inorderTraversal(root):\n",
    "    res = []\n",
    "    def Traversal(subroot):\n",
    "        if not subroot:\n",
    "            return \n",
    "        Traversal(subroot.left)\n",
    "        res.append(subroot.val)\n",
    "        Traversal(subroot.right)\n",
    "    Traversal(root)\n",
    "    return res"
   ]
  },
  {
   "cell_type": "code",
   "execution_count": 6,
   "id": "1eb87964",
   "metadata": {},
   "outputs": [],
   "source": [
    "# Definition for singly-linked list.\n",
    "class ListNode:\n",
    "    def __init__(self, val=0, next=None):\n",
    "        self.val = val\n",
    "        self.next = next"
   ]
  },
  {
   "cell_type": "code",
   "execution_count": 7,
   "id": "c8d4aa35",
   "metadata": {},
   "outputs": [],
   "source": [
    "def constructList(l: list) -> Optional[ListNode]:\n",
    "    head = ListNode(val=l[0],next=None)\n",
    "    \n",
    "    idx = 1\n",
    "    ptr = head\n",
    "    while idx < len(l):\n",
    "        cur = ListNode(val=l[idx],next=None)\n",
    "        ptr.next = cur\n",
    "        ptr = cur\n",
    "        idx += 1\n",
    "    \n",
    "    return head"
   ]
  },
  {
   "cell_type": "code",
   "execution_count": 8,
   "id": "925fae58",
   "metadata": {},
   "outputs": [],
   "source": [
    "def TraversalList(head: List):\n",
    "    res = []\n",
    "    cur = head\n",
    "    while cur:\n",
    "        res.append(cur.val)\n",
    "        cur = cur.next\n",
    "    return res"
   ]
  },
  {
   "cell_type": "code",
   "execution_count": null,
   "id": "445cc7c5",
   "metadata": {},
   "outputs": [],
   "source": []
  },
  {
   "cell_type": "code",
   "execution_count": null,
   "id": "bce9f2c1",
   "metadata": {},
   "outputs": [],
   "source": []
  },
  {
   "cell_type": "code",
   "execution_count": null,
   "id": "6d57dd02",
   "metadata": {},
   "outputs": [],
   "source": []
  },
  {
   "cell_type": "code",
   "execution_count": null,
   "id": "afd1363f",
   "metadata": {},
   "outputs": [],
   "source": []
  },
  {
   "cell_type": "code",
   "execution_count": null,
   "id": "84c21a61",
   "metadata": {},
   "outputs": [],
   "source": []
  },
  {
   "cell_type": "code",
   "execution_count": null,
   "id": "48bc0a2b",
   "metadata": {},
   "outputs": [],
   "source": []
  },
  {
   "cell_type": "code",
   "execution_count": null,
   "id": "f4dceaab",
   "metadata": {},
   "outputs": [],
   "source": []
  },
  {
   "cell_type": "code",
   "execution_count": null,
   "id": "9348b951",
   "metadata": {},
   "outputs": [],
   "source": []
  },
  {
   "cell_type": "code",
   "execution_count": null,
   "id": "2fd1bdfe",
   "metadata": {},
   "outputs": [],
   "source": []
  },
  {
   "cell_type": "code",
   "execution_count": null,
   "id": "0793db3a",
   "metadata": {},
   "outputs": [],
   "source": []
  },
  {
   "cell_type": "code",
   "execution_count": null,
   "id": "ef0053d5",
   "metadata": {},
   "outputs": [],
   "source": []
  },
  {
   "cell_type": "code",
   "execution_count": null,
   "id": "02d6e4f9",
   "metadata": {},
   "outputs": [],
   "source": []
  },
  {
   "cell_type": "code",
   "execution_count": null,
   "id": "3def3f3a",
   "metadata": {},
   "outputs": [],
   "source": []
  },
  {
   "cell_type": "code",
   "execution_count": null,
   "id": "bbfc4177",
   "metadata": {},
   "outputs": [],
   "source": []
  },
  {
   "cell_type": "code",
   "execution_count": null,
   "id": "abb21465",
   "metadata": {},
   "outputs": [],
   "source": []
  }
 ],
 "metadata": {
  "kernelspec": {
   "display_name": "Python 3 (ipykernel)",
   "language": "python",
   "name": "python3"
  },
  "language_info": {
   "codemirror_mode": {
    "name": "ipython",
    "version": 3
   },
   "file_extension": ".py",
   "mimetype": "text/x-python",
   "name": "python",
   "nbconvert_exporter": "python",
   "pygments_lexer": "ipython3",
   "version": "3.6.3"
  }
 },
 "nbformat": 4,
 "nbformat_minor": 5
}
