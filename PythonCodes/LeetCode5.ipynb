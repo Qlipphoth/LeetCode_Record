{
 "cells": [
  {
   "cell_type": "markdown",
   "id": "4dd04052",
   "metadata": {},
   "source": [
    "## 2270. 分割数组的方案数"
   ]
  },
  {
   "cell_type": "code",
   "execution_count": 2,
   "id": "6d944700",
   "metadata": {},
   "outputs": [],
   "source": [
    "from collections import Counter\n",
    "from typing import List,Optional\n",
    "\n",
    "# Definition for a binary tree node.\n",
    "class TreeNode:\n",
    "    def __init__(self, val=0, left=None, right=None):\n",
    "        self.val = val\n",
    "        self.left = left\n",
    "        self.right = right\n",
    "\n",
    "# Definition for singly-linked list.\n",
    "class ListNode:\n",
    "    def __init__(self, val=0, next=None):\n",
    "        self.val = val\n",
    "        self.next = next"
   ]
  },
  {
   "cell_type": "markdown",
   "id": "2c200377",
   "metadata": {},
   "source": [
    "先直球试试"
   ]
  },
  {
   "cell_type": "code",
   "execution_count": 10,
   "id": "6a9d9acb",
   "metadata": {},
   "outputs": [],
   "source": [
    "class Solution:\n",
    "    def waysToSplitArray(self, nums: List[int]) -> int:\n",
    "        nsum = sum(nums)\n",
    "        presum = 0\n",
    "        count = 0\n",
    "        for num in nums[:len(nums)-1]:\n",
    "            presum += num\n",
    "            nsum -= num\n",
    "            if presum >= nsum:\n",
    "                count += 1\n",
    "        \n",
    "        return count"
   ]
  },
  {
   "cell_type": "code",
   "execution_count": 13,
   "id": "5fed2b52",
   "metadata": {},
   "outputs": [],
   "source": [
    "nums = [10, 4, -8, 7]"
   ]
  },
  {
   "cell_type": "code",
   "execution_count": 14,
   "id": "91201595",
   "metadata": {},
   "outputs": [
    {
     "data": {
      "text/plain": [
       "2"
      ]
     },
     "execution_count": 14,
     "metadata": {},
     "output_type": "execute_result"
    }
   ],
   "source": [
    "s = Solution()\n",
    "s.waysToSplitArray(nums)"
   ]
  },
  {
   "cell_type": "markdown",
   "id": "e6b510f2",
   "metadata": {},
   "source": [
    "看样子优化都不需要了"
   ]
  },
  {
   "cell_type": "markdown",
   "id": "ba2f0a9e",
   "metadata": {},
   "source": [
    "## Offer$Ⅱ$ 087. 复原IP // 93. 复原IP地址  (回溯)"
   ]
  },
  {
   "cell_type": "markdown",
   "id": "2a679b88",
   "metadata": {},
   "source": [
    "先暴力分，字符串中间划三刀"
   ]
  },
  {
   "cell_type": "code",
   "execution_count": 52,
   "id": "4b0db3ee",
   "metadata": {},
   "outputs": [],
   "source": [
    "class Solution:\n",
    "    def restoreIpAddresses(self, s: str) -> List[str]:\n",
    "        ans = []\n",
    "        res = []\n",
    "        slen = len(s)\n",
    "        \n",
    "        if slen > 12 or slen < 4:\n",
    "            return ans\n",
    "        \n",
    "        for i in range(slen-1):\n",
    "            for j in range(i+1, slen-1):\n",
    "                for k in range(j+1, slen-1):\n",
    "                    a = s[:i+1]\n",
    "                    b = s[i+1:j+1]\n",
    "                    c = s[j+1:k+1]\n",
    "                    d = s[k+1:]\n",
    "                    ans.append([a,b,c,d])\n",
    "        for ip in ans:\n",
    "            flag = 1\n",
    "            for n, code in enumerate(ip):\n",
    "                if code[0] == '0' and len(code) != 1:\n",
    "                    flag = 0\n",
    "                if int(code) > 255:\n",
    "                    flag = 0\n",
    "            if flag:\n",
    "                cur = '.'.join(ip)\n",
    "                res.append(cur)\n",
    "                \n",
    "        \n",
    "        return res\n",
    "    "
   ]
  },
  {
   "cell_type": "code",
   "execution_count": 61,
   "id": "65361d74",
   "metadata": {},
   "outputs": [],
   "source": [
    "s = \"101023\""
   ]
  },
  {
   "cell_type": "code",
   "execution_count": 62,
   "id": "3a104b54",
   "metadata": {},
   "outputs": [
    {
     "data": {
      "text/plain": [
       "['1.0.10.23', '1.0.102.3', '10.1.0.23', '10.10.2.3', '101.0.2.3']"
      ]
     },
     "execution_count": 62,
     "metadata": {},
     "output_type": "execute_result"
    }
   ],
   "source": [
    "solu = Solution()\n",
    "solu.restoreIpAddresses(s)"
   ]
  },
  {
   "cell_type": "code",
   "execution_count": 45,
   "id": "89787462",
   "metadata": {},
   "outputs": [
    {
     "data": {
      "text/plain": [
       "[1, 2, 3, 4]"
      ]
     },
     "execution_count": 45,
     "metadata": {},
     "output_type": "execute_result"
    }
   ],
   "source": [
    "l1 = [1,2,3,4]\n",
    "\n",
    "for n, num in enumerate(l1):\n",
    "    num = 0\n",
    "l1"
   ]
  },
  {
   "cell_type": "markdown",
   "id": "744812f4",
   "metadata": {},
   "source": [
    "**回溯**"
   ]
  },
  {
   "cell_type": "code",
   "execution_count": 63,
   "id": "ac3325d9",
   "metadata": {},
   "outputs": [],
   "source": [
    "class Solution:\n",
    "    def restoreIpAddresses(self, s: str) -> List[str]:\n",
    "        SEG_COUNT = 4\n",
    "        ans = list()\n",
    "        segments = [0] * SEG_COUNT\n",
    "        \n",
    "        def dfs(segId: int, segStart: int):\n",
    "            # 如果找到了 4 段 IP 地址并且遍历完了字符串，那么就是一种答案\n",
    "            if segId == SEG_COUNT:\n",
    "                if segStart == len(s):\n",
    "                    ipAddr = \".\".join(str(seg) for seg in segments)\n",
    "                    ans.append(ipAddr)\n",
    "                return\n",
    "            \n",
    "            # 如果还没有找到 4 段 IP 地址就已经遍历完了字符串，那么提前回溯\n",
    "            if segStart == len(s):\n",
    "                return\n",
    "\n",
    "            # 由于不能有前导零，如果当前数字为 0，那么这一段 IP 地址只能为 0\n",
    "            if s[segStart] == \"0\":\n",
    "                segments[segId] = 0\n",
    "                dfs(segId + 1, segStart + 1)\n",
    "            \n",
    "            # 一般情况，枚举每一种可能性并递归\n",
    "            addr = 0\n",
    "            for segEnd in range(segStart, len(s)):\n",
    "                addr = addr * 10 + (ord(s[segEnd]) - ord(\"0\"))\n",
    "                if 0 < addr <= 0xFF:\n",
    "                    segments[segId] = addr\n",
    "                    dfs(segId + 1, segEnd + 1)\n",
    "                else:\n",
    "                    break\n",
    "        \n",
    "\n",
    "        dfs(0, 0)\n",
    "        return ans"
   ]
  },
  {
   "cell_type": "markdown",
   "id": "6f7ea7d3",
   "metadata": {},
   "source": [
    "## 886. 可能的二分法"
   ]
  },
  {
   "cell_type": "code",
   "execution_count": 72,
   "id": "5b3cd8bf",
   "metadata": {},
   "outputs": [],
   "source": [
    "class Solution:\n",
    "    def possibleBipartition(self, n: int, dislikes: List[List[int]]) -> bool:\n",
    "        g1 = []\n",
    "        g2 = []\n",
    "        for p1,p2 in dislikes:\n",
    "            if (p1 in g1 and p2 in g1) or (p1 in g2 and p2 in g2):\n",
    "                return False\n",
    "            if p1 in g1:\n",
    "                if p2 not in g2:\n",
    "                    g2.append(p2)\n",
    "                else: return False\n",
    "            if p1 in g2:\n",
    "                if p2 not in g1:\n",
    "                    g1.append(p2)\n",
    "                else: return False\n",
    "            else:\n",
    "                g1.append(p1)\n",
    "                g2.append(p2)\n",
    "            \n",
    "        return True            "
   ]
  },
  {
   "cell_type": "code",
   "execution_count": 85,
   "id": "abd2c2b0",
   "metadata": {},
   "outputs": [],
   "source": [
    "dislikes = [[1,2],[3,4],[5,6],[6,7],[8,9],[7,8]]\n",
    "n = 10"
   ]
  },
  {
   "cell_type": "code",
   "execution_count": 86,
   "id": "2547bae5",
   "metadata": {},
   "outputs": [
    {
     "data": {
      "text/plain": [
       "False"
      ]
     },
     "execution_count": 86,
     "metadata": {},
     "output_type": "execute_result"
    }
   ],
   "source": [
    "s = Solution()\n",
    "s.possibleBipartition(n, dislikes)"
   ]
  },
  {
   "cell_type": "code",
   "execution_count": 77,
   "id": "72c40379",
   "metadata": {},
   "outputs": [],
   "source": [
    "a = [1,2,3]\n",
    "a.append(1) if len(a)== 3 else a.append(2)"
   ]
  },
  {
   "cell_type": "code",
   "execution_count": 78,
   "id": "e71f2a89",
   "metadata": {},
   "outputs": [
    {
     "data": {
      "text/plain": [
       "[1, 2, 3, 1]"
      ]
     },
     "execution_count": 78,
     "metadata": {},
     "output_type": "execute_result"
    }
   ],
   "source": [
    "a"
   ]
  },
  {
   "cell_type": "markdown",
   "id": "f95e505f",
   "metadata": {},
   "source": [
    "看来思路错了，放置的顺序对后续的判断有很大影响，试试邻接表"
   ]
  },
  {
   "cell_type": "code",
   "execution_count": 93,
   "id": "7c30d8a1",
   "metadata": {},
   "outputs": [],
   "source": [
    "class Solution:\n",
    "    def possibleBipartition(self, n: int, dislikes: List[List[int]]) -> bool:\n",
    "        # 制作邻接表,此处从0开始故为val-1\n",
    "        query = [[] for i in range(n)]\n",
    "        for key,val in dislikes:\n",
    "            query[key-1].append(val-1)\n",
    "        return query"
   ]
  },
  {
   "cell_type": "code",
   "execution_count": 96,
   "id": "e58d791b",
   "metadata": {},
   "outputs": [],
   "source": [
    "n = 5\n",
    "dislikes = [[1,2],[2,3],[3,4],[4,5],[1,5]]"
   ]
  },
  {
   "cell_type": "code",
   "execution_count": 97,
   "id": "79ba222c",
   "metadata": {},
   "outputs": [
    {
     "data": {
      "text/plain": [
       "[[1, 4], [2], [3], [4], []]"
      ]
     },
     "execution_count": 97,
     "metadata": {},
     "output_type": "execute_result"
    }
   ],
   "source": [
    "s = Solution()\n",
    "s.possibleBipartition(n,dislikes)"
   ]
  },
  {
   "cell_type": "code",
   "execution_count": 135,
   "id": "47cfaa16",
   "metadata": {},
   "outputs": [],
   "source": [
    "class Solution:\n",
    "    def possibleBipartition(self, n: int, dislikes: List[List[int]]) -> bool:\n",
    "        # 制作邻接表\n",
    "        query = [[] for i in range(n)]\n",
    "        for key,val in dislikes:\n",
    "            query[key-1].append(val-1)\n",
    "        print(query)\n",
    "        \n",
    "        # 遍历得到队伍1\n",
    "        g1 = [1 for i in range(n)]\n",
    "        ptr = 0\n",
    "        while ptr < n:\n",
    "            if g1[ptr] == 1:\n",
    "                for val in query[ptr]:\n",
    "                    g1[val] = 0\n",
    "            ptr += 1\n",
    "        print(g1)\n",
    "        \n",
    "        # 遍历得到队伍2\n",
    "        g2 = [1-g1[i] for i in range(n)]\n",
    "        ptr = 0\n",
    "        while ptr < n:\n",
    "            if g2[ptr] == 1:\n",
    "                for val in query[ptr]:\n",
    "                    g2[val] = 0\n",
    "            ptr += 1\n",
    "        print(g2)\n",
    "        \n",
    "        return sum(g1)+sum(g2) == n"
   ]
  },
  {
   "cell_type": "markdown",
   "id": "49465353",
   "metadata": {},
   "source": [
    "**思路**\n",
    "\n",
    "尝试将每个人分配到一个组是很自然的想法。假设第一组中的人是红色，第二组中的人是蓝色。\n",
    "\n",
    "如果第一个人是红色的，那么这个人不喜欢的人必须是蓝色的。然后，任何不喜欢蓝色人的人都是红色的，那么任何不喜欢红色人的人都是蓝色的，依此类推。\n",
    "\n",
    "如果在任何时候存在冲突，那么这个任务是不可能的完成的，因为从第一步开始每一步都符合逻辑。如果没有冲突，那么着色是有效的，所以答案是 true。\n",
    "\n",
    "**算法**\n",
    "\n",
    "考虑由给定的 “不喜欢” 边缘形成的 N 人的图表。我们要检查这个图的每个连通分支是否为二分的。\n",
    "\n",
    "对于每个连通的部分，我们只需试着用两种颜色对它进行着色，就可以检查它是否是二分的。如何做到这一点：**将任一结点涂成红色，然后将它的所有邻居都涂成蓝色，然后将所有的邻居的邻居都涂成红色，以此类推。如果我们将一个红色结点涂成蓝色（或蓝色结点涂成红色），那么就会产生冲突。**"
   ]
  },
  {
   "cell_type": "code",
   "execution_count": null,
   "id": "54c82f08",
   "metadata": {},
   "outputs": [],
   "source": [
    "class Solution:\n",
    "    def possibleBipartition(self, n: int, dislikes: List[List[int]]) -> bool:\n",
    "        "
   ]
  },
  {
   "cell_type": "code",
   "execution_count": null,
   "id": "9158492e",
   "metadata": {},
   "outputs": [],
   "source": []
  },
  {
   "cell_type": "code",
   "execution_count": null,
   "id": "e342e710",
   "metadata": {},
   "outputs": [],
   "source": []
  },
  {
   "cell_type": "code",
   "execution_count": null,
   "id": "f77e3ea6",
   "metadata": {},
   "outputs": [],
   "source": []
  },
  {
   "cell_type": "code",
   "execution_count": null,
   "id": "37e46473",
   "metadata": {},
   "outputs": [],
   "source": []
  },
  {
   "cell_type": "code",
   "execution_count": null,
   "id": "b7bb4e10",
   "metadata": {},
   "outputs": [],
   "source": []
  },
  {
   "cell_type": "markdown",
   "id": "50f4b729",
   "metadata": {},
   "source": [
    "## 1413. 逐步求和得到正数的最小值 (8.9)"
   ]
  },
  {
   "cell_type": "code",
   "execution_count": 166,
   "id": "633d5c27",
   "metadata": {},
   "outputs": [],
   "source": [
    "class Solution:\n",
    "    def minStartValue(self, nums: List[int]) -> int:\n",
    "        cur, nmin = 0, 0\n",
    "        for n in nums:\n",
    "            cur += n\n",
    "            nmin = min(nmin, cur)\n",
    "            \n",
    "        return -nmin + 1"
   ]
  },
  {
   "cell_type": "code",
   "execution_count": 167,
   "id": "362c4e3b",
   "metadata": {},
   "outputs": [],
   "source": [
    "nums = [1,-2,-3]"
   ]
  },
  {
   "cell_type": "code",
   "execution_count": 168,
   "id": "8b997749",
   "metadata": {},
   "outputs": [
    {
     "data": {
      "text/plain": [
       "5"
      ]
     },
     "execution_count": 168,
     "metadata": {},
     "output_type": "execute_result"
    }
   ],
   "source": [
    "s = Solution()\n",
    "s.minStartValue(nums)"
   ]
  },
  {
   "cell_type": "markdown",
   "id": "6771364a",
   "metadata": {},
   "source": [
    "## 258. 各位相加"
   ]
  },
  {
   "cell_type": "markdown",
   "id": "70bc12dc",
   "metadata": {},
   "source": [
    "先写一个递归"
   ]
  },
  {
   "cell_type": "code",
   "execution_count": 199,
   "id": "17e4d856",
   "metadata": {},
   "outputs": [],
   "source": [
    "class Solution:\n",
    "    def addDigits(self, num: int) -> int:\n",
    "        num = str(num)\n",
    "        if len(num) == 1:\n",
    "            return int(num)\n",
    "        else:\n",
    "            cur = 0\n",
    "            for ch in num:\n",
    "                cur += int(ch)\n",
    "#             print(cur)\n",
    "            return self.addDigits(cur)"
   ]
  },
  {
   "cell_type": "code",
   "execution_count": 200,
   "id": "c3666f6b",
   "metadata": {},
   "outputs": [
    {
     "data": {
      "text/plain": [
       "1"
      ]
     },
     "execution_count": 200,
     "metadata": {},
     "output_type": "execute_result"
    }
   ],
   "source": [
    "s = Solution()\n",
    "s.addDigits(1234)"
   ]
  },
  {
   "cell_type": "markdown",
   "id": "ea3735ab",
   "metadata": {},
   "source": [
    "不用递归或循环，o（1）复杂度"
   ]
  },
  {
   "cell_type": "code",
   "execution_count": 202,
   "id": "4b498023",
   "metadata": {},
   "outputs": [],
   "source": [
    "class Solution:\n",
    "    def addDigits(self, num: int) -> int:\n",
    "        return (num - 1) % 9 + 1 if num else 0"
   ]
  },
  {
   "cell_type": "code",
   "execution_count": 203,
   "id": "9c2d103b",
   "metadata": {},
   "outputs": [
    {
     "data": {
      "text/plain": [
       "1"
      ]
     },
     "execution_count": 203,
     "metadata": {},
     "output_type": "execute_result"
    }
   ],
   "source": [
    "s = Solution()\n",
    "s.addDigits(1234)"
   ]
  },
  {
   "cell_type": "markdown",
   "id": "a10186c1",
   "metadata": {},
   "source": [
    "## 4. 寻找两个正序数组的中位数"
   ]
  },
  {
   "cell_type": "markdown",
   "id": "f5e3ca75",
   "metadata": {},
   "source": [
    "先用sort逃课"
   ]
  },
  {
   "cell_type": "code",
   "execution_count": 214,
   "id": "a3f68680",
   "metadata": {},
   "outputs": [],
   "source": [
    "class Solution:\n",
    "    def findMedianSortedArrays(self, nums1: List[int], nums2: List[int]) -> float:\n",
    "        len12 = len(nums1) + len(nums2)\n",
    "        nums1.extend(nums2)\n",
    "        nums1.sort()\n",
    "        return nums1[len12//2] if len12 % 2 == 1 else \\\n",
    "        (nums1[len12//2-1] + nums1[len12//2])/2"
   ]
  },
  {
   "cell_type": "code",
   "execution_count": 215,
   "id": "b2c22ac2",
   "metadata": {},
   "outputs": [
    {
     "data": {
      "text/plain": [
       "2.5"
      ]
     },
     "execution_count": 215,
     "metadata": {},
     "output_type": "execute_result"
    }
   ],
   "source": [
    "s = Solution()\n",
    "s.findMedianSortedArrays([1,2],[3,4])"
   ]
  },
  {
   "cell_type": "markdown",
   "id": "401b383a",
   "metadata": {},
   "source": [
    "## 646. 最长数对链"
   ]
  },
  {
   "cell_type": "markdown",
   "id": "a71a46f4",
   "metadata": {},
   "source": [
    "一眼邻接表加动态规划，memo记住从n开始的最大链条数，从最小的数开始递归向下寻找，"
   ]
  },
  {
   "cell_type": "code",
   "execution_count": 230,
   "id": "b09e11e3",
   "metadata": {},
   "outputs": [],
   "source": [
    "from collections import defaultdict\n",
    "\n",
    "class Solution:\n",
    "    def findLongestChain(self, pairs: List[List[int]]) -> int:\n",
    "        query = defaultdict(list)\n",
    "        numset = set()\n",
    "        for key,val in pairs:\n",
    "            numset.add(key)\n",
    "            numset.add(val)\n",
    "            query[key].append(val)\n",
    "            query[key].sort()\n",
    "        return query,numset"
   ]
  },
  {
   "cell_type": "code",
   "execution_count": 231,
   "id": "683c9e5b",
   "metadata": {},
   "outputs": [
    {
     "data": {
      "text/plain": [
       "(defaultdict(list, {1: [7, 9], 2: [3, 5], 3: [4]}), {1, 2, 3, 4, 5, 7, 9})"
      ]
     },
     "execution_count": 231,
     "metadata": {},
     "output_type": "execute_result"
    }
   ],
   "source": [
    "s = Solution()\n",
    "s.findLongestChain([[1,9], [1,7], [2,3], [3,4], [2, 5]])"
   ]
  },
  {
   "cell_type": "code",
   "execution_count": 374,
   "id": "250ed698",
   "metadata": {},
   "outputs": [],
   "source": [
    "class Solution:\n",
    "    def findLongestChain(self, pairs: List[List[int]]) -> int:\n",
    "        query = defaultdict(list)\n",
    "        numset = set()\n",
    "        \n",
    "        for key,val in pairs:\n",
    "            numset.add(key)\n",
    "            numset.add(val)\n",
    "            query[key].append(val)\n",
    "            query[key].sort()\n",
    "            \n",
    "        numlist = list(numset)\n",
    "        numlist.sort()\n",
    "        \n",
    "        print(query)\n",
    "        print(numlist)\n",
    "        # 用来记录从n开始的最大链条数\n",
    "        memo = defaultdict(int)\n",
    "        \n",
    "        def research(idx: int) -> int:\n",
    "#             chainnum = 0\n",
    "            print(memo)\n",
    "            # 若查询的结果已在memo里，直接返回\n",
    "            idxval = numlist[idx]\n",
    "            if idxval in memo:\n",
    "                return memo[idxval]\n",
    "            # 如果查询到列表末尾，返回0\n",
    "            if idx == len(numlist)-1:\n",
    "#                 print('here')\n",
    "                return 0\n",
    "            else:\n",
    "                if idxval not in query:\n",
    "                    return 0\n",
    "                if query[idxval]:\n",
    "                    cur = query[idxval].pop(0)\n",
    "                    nextnum = min(numlist.index(cur)+1, len(numlist)-1) \n",
    "#                     print(nextnum)\n",
    "                    chainnum =  research(nextnum) + 1 # 这一句错了\n",
    "                    memo[idxval] = max(memo[idxval], chainnum)\n",
    "                else:\n",
    "                    return 0\n",
    "        \n",
    "            return chainnum\n",
    "        \n",
    "        for i in range(len(numlist)):\n",
    "            print(f'***************{i}')\n",
    "            research(i)\n",
    "        ans = 0\n",
    "        for key in memo:\n",
    "            ans = max(ans,memo[key])\n",
    "            \n",
    "        return ans"
   ]
  },
  {
   "cell_type": "code",
   "execution_count": 375,
   "id": "907128ff",
   "metadata": {},
   "outputs": [],
   "source": [
    "pairs = [[1,2],[1,3],[2,4],[3,4],[3,5],[4,6],[5,6]]\n",
    "pairs = [[1,2],[7,8],[4,5]]\n",
    "pairs = [[-10,-8],[8,9],[-5,0],[6,10],[-6,-4],[1,7],[9,10],[-4,7]]"
   ]
  },
  {
   "cell_type": "code",
   "execution_count": 376,
   "id": "41c0a92d",
   "metadata": {},
   "outputs": [
    {
     "name": "stdout",
     "output_type": "stream",
     "text": [
      "defaultdict(<class 'list'>, {-10: [-8], 8: [9], -5: [0], 6: [10], -6: [-4], 1: [7], 9: [10], -4: [7]})\n",
      "[-10, -8, -6, -5, -4, 0, 1, 6, 7, 8, 9, 10]\n",
      "***************0\n",
      "defaultdict(<class 'int'>, {})\n",
      "defaultdict(<class 'int'>, {})\n",
      "defaultdict(<class 'int'>, {})\n",
      "***************1\n",
      "defaultdict(<class 'int'>, {-6: 1, -10: 2})\n",
      "***************2\n",
      "defaultdict(<class 'int'>, {-6: 1, -10: 2})\n",
      "***************3\n",
      "defaultdict(<class 'int'>, {-6: 1, -10: 2})\n",
      "defaultdict(<class 'int'>, {-6: 1, -10: 2})\n",
      "defaultdict(<class 'int'>, {-6: 1, -10: 2})\n",
      "defaultdict(<class 'int'>, {-6: 1, -10: 2})\n",
      "***************4\n",
      "defaultdict(<class 'int'>, {-6: 1, -10: 2, 8: 1, 1: 2, -5: 3})\n",
      "defaultdict(<class 'int'>, {-6: 1, -10: 2, 8: 1, 1: 2, -5: 3})\n",
      "***************5\n",
      "defaultdict(<class 'int'>, {-6: 1, -10: 2, 8: 1, 1: 2, -5: 3, -4: 2})\n",
      "***************6\n",
      "defaultdict(<class 'int'>, {-6: 1, -10: 2, 8: 1, 1: 2, -5: 3, -4: 2})\n",
      "***************7\n",
      "defaultdict(<class 'int'>, {-6: 1, -10: 2, 8: 1, 1: 2, -5: 3, -4: 2})\n",
      "defaultdict(<class 'int'>, {-6: 1, -10: 2, 8: 1, 1: 2, -5: 3, -4: 2})\n",
      "***************8\n",
      "defaultdict(<class 'int'>, {-6: 1, -10: 2, 8: 1, 1: 2, -5: 3, -4: 2, 6: 1})\n",
      "***************9\n",
      "defaultdict(<class 'int'>, {-6: 1, -10: 2, 8: 1, 1: 2, -5: 3, -4: 2, 6: 1})\n",
      "***************10\n",
      "defaultdict(<class 'int'>, {-6: 1, -10: 2, 8: 1, 1: 2, -5: 3, -4: 2, 6: 1})\n",
      "defaultdict(<class 'int'>, {-6: 1, -10: 2, 8: 1, 1: 2, -5: 3, -4: 2, 6: 1})\n",
      "***************11\n",
      "defaultdict(<class 'int'>, {-6: 1, -10: 2, 8: 1, 1: 2, -5: 3, -4: 2, 6: 1, 9: 1})\n"
     ]
    },
    {
     "data": {
      "text/plain": [
       "3"
      ]
     },
     "execution_count": 376,
     "metadata": {},
     "output_type": "execute_result"
    }
   ],
   "source": [
    "s = Solution()\n",
    "s.findLongestChain(pairs)"
   ]
  },
  {
   "cell_type": "markdown",
   "id": "bcc7fc76",
   "metadata": {},
   "source": [
    "思路完全错误"
   ]
  },
  {
   "cell_type": "markdown",
   "id": "d50ee1c3",
   "metadata": {},
   "source": [
    "数组nums\\[0:n-1\\]中，以\\[a,b\\](下标)数组起始的最长数对链应为nums\\[b+1,n-1\\]中最长数对链长度 +1"
   ]
  },
  {
   "cell_type": "code",
   "execution_count": 1,
   "id": "c17aab49",
   "metadata": {},
   "outputs": [],
   "source": [
    "class Solution(object): #Time Limit Exceeded\n",
    "    def findLongestChain(self, pairs):\n",
    "        pairs.sort()\n",
    "        dp = [1] * len(pairs)\n",
    "\n",
    "        for j in xrange(len(pairs)):\n",
    "            for i in xrange(j):\n",
    "                if pairs[i][1] < pairs[j][0]:\n",
    "                    dp[j] = max(dp[j], dp[i] + 1)\n",
    "\n",
    "        return max(dp)"
   ]
  },
  {
   "cell_type": "markdown",
   "id": "7d5ceefb",
   "metadata": {},
   "source": [
    "没懂"
   ]
  },
  {
   "cell_type": "markdown",
   "id": "5e5a7332",
   "metadata": {},
   "source": [
    "贪心：使用贪心思想扩展数对链，在所有可作为下一个数对的集合中选择**第二个数最小**的数对添加到数对链。"
   ]
  },
  {
   "cell_type": "code",
   "execution_count": null,
   "id": "55a3ceb1",
   "metadata": {},
   "outputs": [],
   "source": [
    "class Solution(object):\n",
    "    def findLongestChain(self, pairs):\n",
    "        cur, ans = float('-inf'), 0\n",
    "        for x, y in sorted(pairs, key = operator.itemgetter(1)):\n",
    "            if cur < x:\n",
    "                cur = y\n",
    "                ans += 1\n",
    "        return ans"
   ]
  },
  {
   "cell_type": "markdown",
   "id": "7c98a504",
   "metadata": {},
   "source": [
    "## 640. 求解方程（8.10）"
   ]
  },
  {
   "cell_type": "code",
   "execution_count": 134,
   "id": "edb4e42b",
   "metadata": {},
   "outputs": [],
   "source": [
    "class Solution:\n",
    "    def solveEquation(self, equation: str) -> str:\n",
    "        eqas = equation.split('=')\n",
    "        \n",
    "        def countpara(eqa):\n",
    "            eqa = eqa + '+'\n",
    "            slow,fast = 0,1\n",
    "            res = [0,0]\n",
    "            while fast < len(eqa):\n",
    "                print(f'{slow},{fast},{eqa[fast]}')\n",
    "                if eqa[fast] == '+' or eqa[fast] == '-':\n",
    "                    if eqa[fast-1] == 'x':\n",
    "                        if eqa[slow] == '+' or eqa[slow] == '-':\n",
    "                            res[0] += int(eqa[slow:fast-1]+'1') if fast-2 == slow \\\n",
    "                            else int(eqa[slow:fast-1])\n",
    "                        else:\n",
    "                            res[0] += 1 if fast-slow == 1 else\\\n",
    "                            int(eqa[slow:fast-1])\n",
    "                    else:\n",
    "                        res[1] += int(eqa[slow:fast])\n",
    "                    slow = fast\n",
    "                fast += 1\n",
    "\n",
    "            return res\n",
    "        \n",
    "        ans = [0,0]\n",
    "        ans1 = countpara(eqas[0])\n",
    "        print(ans1)\n",
    "        ans2 = countpara(eqas[1])\n",
    "        print(ans2)\n",
    "        ans[0] = ans1[0]-ans2[0]\n",
    "        ans[1] = ans1[1]-ans2[1]\n",
    "        \n",
    "        if ans[0] == ans[1] == 0:\n",
    "            return \"Infinite solutions\"\n",
    "        if ans[0] == 0 and ans[1] != 0:\n",
    "            return \"No solution\"\n",
    "        else:\n",
    "            return f'x={-ans[1]//ans[0]}'"
   ]
  },
  {
   "cell_type": "code",
   "execution_count": 139,
   "id": "88ab3f78",
   "metadata": {},
   "outputs": [],
   "source": [
    "equation = \"2x=x\""
   ]
  },
  {
   "cell_type": "code",
   "execution_count": 140,
   "id": "e4e65726",
   "metadata": {},
   "outputs": [
    {
     "name": "stdout",
     "output_type": "stream",
     "text": [
      "0,1,x\n",
      "0,2,+\n",
      "[2, 0]\n",
      "0,1,+\n",
      "[1, 0]\n"
     ]
    },
    {
     "data": {
      "text/plain": [
       "'x=0'"
      ]
     },
     "execution_count": 140,
     "metadata": {},
     "output_type": "execute_result"
    }
   ],
   "source": [
    "s = Solution()\n",
    "s.solveEquation(equation)"
   ]
  },
  {
   "cell_type": "markdown",
   "id": "e2c72531",
   "metadata": {},
   "source": [
    "## 445. 两数相加"
   ]
  },
  {
   "cell_type": "markdown",
   "id": "3f7a50ae",
   "metadata": {},
   "source": [
    "一眼栈"
   ]
  },
  {
   "cell_type": "code",
   "execution_count": 143,
   "id": "d9a2466e",
   "metadata": {},
   "outputs": [],
   "source": [
    "class Solution:\n",
    "    def addTwoNumbers(self, l1, l2) -> Optional[ListNode]:\n",
    "        list1, list2 = [], []\n",
    "        \n",
    "        cur = l1\n",
    "        while cur != None:\n",
    "            list1.append(cur)\n",
    "            cur = cur.next\n",
    "        cur = l2\n",
    "        while cur != None:\n",
    "            list2.append(cur)\n",
    "            cur = cur.next\n",
    "        \n",
    "        return list1,list2"
   ]
  },
  {
   "cell_type": "code",
   "execution_count": 144,
   "id": "52a8412d",
   "metadata": {},
   "outputs": [],
   "source": [
    "def constructList(l: list) -> Optional[ListNode]:\n",
    "    head = ListNode(val=l[0],next=None)\n",
    "    \n",
    "    idx = 1\n",
    "    ptr = head\n",
    "    while idx < len(l):\n",
    "        cur = ListNode(val=l[idx],next=None)\n",
    "        ptr.next = cur\n",
    "        ptr = cur\n",
    "        idx += 1\n",
    "    \n",
    "    return head"
   ]
  },
  {
   "cell_type": "code",
   "execution_count": 166,
   "id": "9b43570d",
   "metadata": {},
   "outputs": [],
   "source": [
    "a = constructList([9,9,4,3])\n",
    "b = constructList([5,6,4])"
   ]
  },
  {
   "cell_type": "code",
   "execution_count": 151,
   "id": "a572b613",
   "metadata": {},
   "outputs": [
    {
     "data": {
      "text/plain": [
       "([<__main__.ListNode at 0x1f8b1664400>,\n",
       "  <__main__.ListNode at 0x1f8b16640f0>,\n",
       "  <__main__.ListNode at 0x1f8b1664160>,\n",
       "  <__main__.ListNode at 0x1f8b16644e0>],\n",
       " [<__main__.ListNode at 0x1f8b1664080>,\n",
       "  <__main__.ListNode at 0x1f8b1664470>,\n",
       "  <__main__.ListNode at 0x1f8b1664550>])"
      ]
     },
     "execution_count": 151,
     "metadata": {},
     "output_type": "execute_result"
    }
   ],
   "source": [
    "s = Solution()\n",
    "s.addTwoNumbers(a,b)"
   ]
  },
  {
   "cell_type": "code",
   "execution_count": 153,
   "id": "85fad0e5",
   "metadata": {},
   "outputs": [],
   "source": [
    "class Solution:\n",
    "    def addTwoNumbers(self, l1, l2) -> Optional[ListNode]:\n",
    "        stack1, stack2 = [], []\n",
    "        \n",
    "        cur = l1\n",
    "        while cur != None:\n",
    "            stack1.append(cur)\n",
    "            cur = cur.next\n",
    "        cur = l2\n",
    "        while cur != None:\n",
    "            stack2.append(cur)\n",
    "            cur = cur.next\n",
    "        \n",
    "        carry = 0\n",
    "        res = []\n",
    "        while stack1 or stack2:\n",
    "            val1 = val2 = 0\n",
    "            if stack1:\n",
    "                val1 = stack1.pop().val\n",
    "            if stack2:\n",
    "                val2 = stack2.pop().val\n",
    "            val = val1 + val2 + carry\n",
    "            carry = 1 if val > 9 else 0\n",
    "            res.append(val%10)\n",
    "        if carry == 1:\n",
    "            res.append(1)\n",
    "        \n",
    "        return res[::-1]"
   ]
  },
  {
   "cell_type": "code",
   "execution_count": 158,
   "id": "89759012",
   "metadata": {},
   "outputs": [
    {
     "data": {
      "text/plain": [
       "[1, 0, 5, 0, 7]"
      ]
     },
     "execution_count": 158,
     "metadata": {},
     "output_type": "execute_result"
    }
   ],
   "source": [
    "s = Solution()\n",
    "s.addTwoNumbers(a,b)"
   ]
  },
  {
   "cell_type": "markdown",
   "id": "4c1cf9cb",
   "metadata": {},
   "source": [
    "遍历了直接存列表好像更方便。。。"
   ]
  },
  {
   "cell_type": "code",
   "execution_count": 169,
   "id": "2095ebfd",
   "metadata": {},
   "outputs": [],
   "source": [
    "class Solution:\n",
    "    def addTwoNumbers(self, l1, l2) -> Optional[ListNode]:\n",
    "        num1, num2 = [],[]\n",
    "        cur = l1\n",
    "        while cur != None:\n",
    "            num1.append(str(cur.val))\n",
    "            cur = cur.next\n",
    "        cur = l2\n",
    "        while cur != None:\n",
    "            num2.append(str(cur.val))\n",
    "            cur = cur.next\n",
    "        \n",
    "        val = int(''.join(num1))+int(''.join(num2))\n",
    "        anslist = [int(ch) for ch in str(val)]\n",
    "        \n",
    "        def constructList(l: list) -> Optional[ListNode]:\n",
    "            head = ListNode(val=l[0],next=None)\n",
    "\n",
    "            idx = 1\n",
    "            ptr = head\n",
    "            while idx < len(l):\n",
    "                cur = ListNode(val=l[idx],next=None)\n",
    "                ptr.next = cur\n",
    "                ptr = cur\n",
    "                idx += 1\n",
    "\n",
    "            return head\n",
    "        \n",
    "        return constructList(anslist)"
   ]
  },
  {
   "cell_type": "code",
   "execution_count": 171,
   "id": "fea0c0a9",
   "metadata": {},
   "outputs": [],
   "source": [
    "s = Solution()\n",
    "result = s.addTwoNumbers(a,b)"
   ]
  },
  {
   "cell_type": "code",
   "execution_count": 172,
   "id": "fe484515",
   "metadata": {},
   "outputs": [
    {
     "data": {
      "text/plain": [
       "1"
      ]
     },
     "execution_count": 172,
     "metadata": {},
     "output_type": "execute_result"
    }
   ],
   "source": [
    "result.val"
   ]
  },
  {
   "cell_type": "code",
   "execution_count": 173,
   "id": "9ccd059e",
   "metadata": {},
   "outputs": [
    {
     "data": {
      "text/plain": [
       "0"
      ]
     },
     "execution_count": 173,
     "metadata": {},
     "output_type": "execute_result"
    }
   ],
   "source": [
    "result.next.val"
   ]
  },
  {
   "cell_type": "code",
   "execution_count": 196,
   "id": "64f291c7",
   "metadata": {},
   "outputs": [],
   "source": [
    "# 方案1的改进版本，不用constructList函数\n",
    "class Solution:\n",
    "    def addTwoNumbers(self, l1, l2) -> Optional[ListNode]:\n",
    "        stack1, stack2 = [], []\n",
    "        \n",
    "        cur = l1\n",
    "        while cur != None:\n",
    "            stack1.append(cur)\n",
    "            cur = cur.next\n",
    "        cur = l2\n",
    "        while cur != None:\n",
    "            stack2.append(cur)\n",
    "            cur = cur.next\n",
    "        \n",
    "        len1 = len(stack1)\n",
    "        len2 = len(stack2)\n",
    "        carry = 0\n",
    "        while stack1 or stack2:\n",
    "            val1 = val2 = 0\n",
    "            if stack1:\n",
    "                cur1 = stack1.pop()\n",
    "                val1 = cur1.val\n",
    "            if stack2:\n",
    "                cur2 = stack2.pop()\n",
    "                val2 = cur2.val\n",
    "            val = val1 + val2 + carry\n",
    "            carry = 1 if val > 9 else 0\n",
    "            \n",
    "            if len1 >= len2:\n",
    "                cur1.val = val%10\n",
    "            else:\n",
    "                cur2.val = val%10\n",
    "            \n",
    "        if carry == 1:\n",
    "            head = ListNode(val=1,next=None)\n",
    "            head.next = l1 if len1 >= len2 else l2\n",
    "            return head\n",
    "            \n",
    "        return l1 if len1 >= len2 else l2"
   ]
  },
  {
   "cell_type": "code",
   "execution_count": 203,
   "id": "25698b2e",
   "metadata": {},
   "outputs": [],
   "source": [
    "a = constructList([9,1,4,3])\n",
    "b = constructList([9,6,4])"
   ]
  },
  {
   "cell_type": "code",
   "execution_count": 204,
   "id": "598bcc45",
   "metadata": {},
   "outputs": [],
   "source": [
    "s = Solution()\n",
    "res = s.addTwoNumbers(a,b)"
   ]
  },
  {
   "cell_type": "code",
   "execution_count": 205,
   "id": "6deed23f",
   "metadata": {},
   "outputs": [
    {
     "name": "stdout",
     "output_type": "stream",
     "text": [
      "1\n",
      "0\n",
      "1\n",
      "0\n",
      "7\n"
     ]
    }
   ],
   "source": [
    "cur = res\n",
    "while cur:\n",
    "    print(cur.val)\n",
    "    cur = cur.next"
   ]
  },
  {
   "cell_type": "markdown",
   "id": "91e869d4",
   "metadata": {},
   "source": [
    "## 394. 字符串解码"
   ]
  },
  {
   "cell_type": "markdown",
   "id": "b081bb4b",
   "metadata": {},
   "source": [
    "目前的思路是一次循环解一层方括号，遍历多次"
   ]
  },
  {
   "cell_type": "code",
   "execution_count": 376,
   "id": "792eabe5",
   "metadata": {},
   "outputs": [],
   "source": [
    "class Solution:\n",
    "    def decodeString(self, s: str) -> str:\n",
    "        \n",
    "        def recursive(encodestr):\n",
    "            num = 0\n",
    "            if '[' not in encodestr:\n",
    "                return encodestr\n",
    "            \n",
    "            for n,ch in enumerate(encodestr):\n",
    "                if ch == '[':\n",
    "                    left = n\n",
    "                    num = int(encodestr[n-1])\n",
    "                if ch == ']':\n",
    "                    right = n\n",
    "                    decode = num * encodestr[left+1:right]\n",
    "                    print(decode)\n",
    "                    decodestr = encodestr[:left-1]+decode+encodestr[right+1:]\n",
    "                    print(decodestr)\n",
    "                    break\n",
    "                    \n",
    "            return recursive(decodestr)\n",
    "#             else:\n",
    "#                 print(f'{decodestr}*************here')\n",
    "#                 return decodestr\n",
    "#             return decodestr\n",
    "            \n",
    "        return recursive(s) "
   ]
  },
  {
   "cell_type": "code",
   "execution_count": 377,
   "id": "fc83b96a",
   "metadata": {},
   "outputs": [],
   "source": [
    "s = \"3[a2[c]]\""
   ]
  },
  {
   "cell_type": "code",
   "execution_count": 378,
   "id": "4dd76c77",
   "metadata": {},
   "outputs": [
    {
     "name": "stdout",
     "output_type": "stream",
     "text": [
      "cc\n",
      "3[acc]\n",
      "accaccacc\n",
      "accaccacc\n"
     ]
    },
    {
     "data": {
      "text/plain": [
       "'accaccacc'"
      ]
     },
     "execution_count": 378,
     "metadata": {},
     "output_type": "execute_result"
    }
   ],
   "source": [
    "solu = Solution()\n",
    "solu.decodeString(s)"
   ]
  },
  {
   "cell_type": "code",
   "execution_count": 241,
   "id": "769057d8",
   "metadata": {},
   "outputs": [
    {
     "name": "stdout",
     "output_type": "stream",
     "text": [
      "2\n",
      "11\n"
     ]
    }
   ],
   "source": [
    "a = '1'\n",
    "while a == '1':\n",
    "    a += '1'\n",
    "    print(2)\n",
    "    print(a)"
   ]
  },
  {
   "cell_type": "code",
   "execution_count": 373,
   "id": "b013b300",
   "metadata": {},
   "outputs": [],
   "source": [
    "class Solution:\n",
    "    def decodeString(self, s: str) -> str:\n",
    "        num = 0\n",
    "        if '[' not in s:\n",
    "            return s\n",
    "\n",
    "        for n,ch in enumerate(s):\n",
    "            if ch == '[':\n",
    "                left = n\n",
    "                num = int(s[n-1])\n",
    "            if ch == ']':\n",
    "                right = n\n",
    "                decode = num * s[left+1:right]\n",
    "                print(decode)\n",
    "                decodestr = s[:left-1]+decode+s[right+1:]\n",
    "                print(decodestr)\n",
    "                break\n",
    "                \n",
    "        return self.decodeString(decodestr)\n",
    "#             else:\n",
    "#                 print(f'{decodestr}*************here')\n",
    "#                 return decodestr\n",
    "#         return decodestr"
   ]
  },
  {
   "cell_type": "code",
   "execution_count": 374,
   "id": "ba2e9019",
   "metadata": {},
   "outputs": [],
   "source": [
    "s = \"3[a2[c]]\""
   ]
  },
  {
   "cell_type": "code",
   "execution_count": 375,
   "id": "b3a3c799",
   "metadata": {},
   "outputs": [
    {
     "name": "stdout",
     "output_type": "stream",
     "text": [
      "cc\n",
      "3[acc]\n",
      "accaccacc\n",
      "accaccacc\n"
     ]
    },
    {
     "data": {
      "text/plain": [
       "'accaccacc'"
      ]
     },
     "execution_count": 375,
     "metadata": {},
     "output_type": "execute_result"
    }
   ],
   "source": [
    "solu = Solution()\n",
    "solu.decodeString(s)"
   ]
  },
  {
   "cell_type": "markdown",
   "id": "7a8db343",
   "metadata": {},
   "source": [
    "对于递归的理解深入了一些，但上述没有考虑数字大于9的情况"
   ]
  },
  {
   "cell_type": "code",
   "execution_count": 400,
   "id": "63aefd6c",
   "metadata": {},
   "outputs": [],
   "source": [
    "class Solution:\n",
    "    def decodeString(self, s: str) -> str:\n",
    "        num = 0\n",
    "        if '[' not in s:\n",
    "            return s\n",
    "\n",
    "        for n,ch in enumerate(s):\n",
    "            if ch == '[':\n",
    "                left = n\n",
    "                numstart = n-1\n",
    "                while numstart >= -1 and 48 <= ord(s[numstart]) <= 57:\n",
    "                    numstart -= 1\n",
    "                num = int(s[numstart+1:n])\n",
    "            if ch == ']':\n",
    "                right = n\n",
    "                decode = num * s[left+1:right]\n",
    "                print(decode)\n",
    "                decodestr = s[:numstart+1]+decode+s[right+1:]\n",
    "                print(decodestr)\n",
    "                break\n",
    "                \n",
    "        return self.decodeString(decodestr)"
   ]
  },
  {
   "cell_type": "code",
   "execution_count": 401,
   "id": "75db2029",
   "metadata": {},
   "outputs": [],
   "source": [
    "s = \"10[a2[c]]\""
   ]
  },
  {
   "cell_type": "code",
   "execution_count": 402,
   "id": "c89968f2",
   "metadata": {},
   "outputs": [
    {
     "name": "stdout",
     "output_type": "stream",
     "text": [
      "cc\n",
      "10[acc]\n",
      "accaccaccaccaccaccaccaccaccacc\n",
      "accaccaccaccaccaccaccaccaccacc\n"
     ]
    },
    {
     "data": {
      "text/plain": [
       "'accaccaccaccaccaccaccaccaccacc'"
      ]
     },
     "execution_count": 402,
     "metadata": {},
     "output_type": "execute_result"
    }
   ],
   "source": [
    "solu = Solution()\n",
    "solu.decodeString(s)"
   ]
  },
  {
   "cell_type": "markdown",
   "id": "834e8d5c",
   "metadata": {},
   "source": [
    "栈思路：数字存放在数字栈，字符串存放在字符串栈，遇到右括号时候弹出一个数字栈，字母栈弹到左括号为止。就是逆波兰式那种题。（官方解法评论）"
   ]
  },
  {
   "cell_type": "code",
   "execution_count": 403,
   "id": "ecd3cc00",
   "metadata": {},
   "outputs": [],
   "source": [
    "class Solution:\n",
    "    def decodeString(self, s: str) -> str:\n",
    "        stack, res, multi = [], \"\", 0\n",
    "        for c in s:\n",
    "            if c == '[':\n",
    "                stack.append([multi, res])\n",
    "                res, multi = \"\", 0\n",
    "            elif c == ']':\n",
    "                cur_multi, last_res = stack.pop()\n",
    "                res = last_res + cur_multi * res\n",
    "            elif '0' <= c <= '9':\n",
    "                multi = multi * 10 + int(c)            \n",
    "            else:\n",
    "                res += c\n",
    "        return res"
   ]
  },
  {
   "cell_type": "markdown",
   "id": "ac849835",
   "metadata": {},
   "source": [
    "栈，你好强大"
   ]
  },
  {
   "cell_type": "markdown",
   "id": "bb7f7145",
   "metadata": {},
   "source": [
    "## 994. 腐烂的橘子"
   ]
  },
  {
   "cell_type": "markdown",
   "id": "f60a8326",
   "metadata": {},
   "source": [
    "连通图的最远距离？"
   ]
  },
  {
   "cell_type": "code",
   "execution_count": null,
   "id": "0e19b672",
   "metadata": {},
   "outputs": [],
   "source": [
    "from collections import defaultdict\n",
    "\n",
    "class Solution:\n",
    "    def orangesRotting(self, grid: List[List[int]]) -> int:\n",
    "        "
   ]
  },
  {
   "cell_type": "code",
   "execution_count": null,
   "id": "02d0b8aa",
   "metadata": {},
   "outputs": [],
   "source": [
    "class Solution:\n",
    "    def orangesRotting(self, grid: List[List[int]]) -> int:\n",
    "        rowlen = len(grid[0])\n",
    "        collen = len(grid)\n",
    "        \n",
    "        flag = -1\n",
    "#         grpmat = []\n",
    "        for m,row in enumerate(grid):\n",
    "            for n,col in enumerate(grid[m]):\n",
    "                if grid[m][n]:\n",
    "                    if judge(grid, m, n):\n",
    "                        "
   ]
  },
  {
   "cell_type": "code",
   "execution_count": 494,
   "id": "48e365b4",
   "metadata": {},
   "outputs": [],
   "source": [
    "# 判断一个橘子是否为新集合的起始\n",
    "def judge(mat, row, col) -> bool:\n",
    "    # 第0列\n",
    "    if col == 0:\n",
    "        if row == 0:\n",
    "            return True\n",
    "        if mat[row-1][col] == 0:\n",
    "            return True\n",
    "        return False\n",
    "    \n",
    "    if row == 0:\n",
    "        if mat[row][col-1] == 0:\n",
    "            return True\n",
    "        return False\n",
    "    \n",
    "    if mat[row][col-1] == 0 and mat[row-1][col] == 0:\n",
    "        return True\n",
    "    \n",
    "    return False"
   ]
  },
  {
   "cell_type": "code",
   "execution_count": 495,
   "id": "95dde90c",
   "metadata": {},
   "outputs": [],
   "source": [
    "testmat = [[1,1,1,1],[0,0,0,0],[0,1,1,1],[1,1,1,1]]"
   ]
  },
  {
   "cell_type": "code",
   "execution_count": 497,
   "id": "a3df08b8",
   "metadata": {},
   "outputs": [
    {
     "name": "stdout",
     "output_type": "stream",
     "text": [
      "True\n",
      "False\n",
      "False\n",
      "False\n",
      "True\n",
      "False\n",
      "False\n",
      "True\n",
      "False\n",
      "False\n",
      "False\n"
     ]
    }
   ],
   "source": [
    "for m,row in enumerate(testmat):\n",
    "    for n,col in enumerate(testmat[m]):\n",
    "        if testmat[m][n]:\n",
    "            print(judge(testmat,m,n))"
   ]
  },
  {
   "cell_type": "code",
   "execution_count": 538,
   "id": "3e8a971d",
   "metadata": {},
   "outputs": [],
   "source": [
    "# 暴力法\n",
    "class Solution:\n",
    "    def orangesRotting(self, grid: List[List[int]]) -> int:\n",
    "        rowlen = len(grid[0])\n",
    "        collen = len(grid)\n",
    "        \n",
    "        for i in range(60):\n",
    "#             print(grid)\n",
    "            orgset = set()\n",
    "            for row in grid:\n",
    "                orgset = orgset | set(row)\n",
    "            if 1 not in orgset:\n",
    "                return i\n",
    "            if 1 in orgset and 2 not in orgset:\n",
    "                return -1\n",
    "            \n",
    "            rot = []\n",
    "            for m,row in enumerate(grid):\n",
    "                for n,col in enumerate(grid[m]):\n",
    "                    left = grid[m][max(0,n-1)]\n",
    "                    right = grid[m][min(n+1,rowlen-1)]\n",
    "                    up = grid[max(0,m-1)][n]\n",
    "                    down = grid[min(m+1,collen-1)][n]\n",
    "                    if grid[m][n] == 2:\n",
    "                        if grid[m][max(0,n-1)] == 1:\n",
    "                            rot.append((m,max(0,n-1)))\n",
    "                        if grid[m][min(n+1,rowlen-1)] == 1:\n",
    "                            rot.append((m,min(n+1,rowlen-1)))\n",
    "                        if grid[max(0,m-1)][n] == 1:\n",
    "                            rot.append((max(0,m-1),n))\n",
    "                        if grid[min(m+1,collen-1)][n] == 1:\n",
    "                            rot.append((min(m+1,collen-1),n))\n",
    "            for m,n in rot:\n",
    "                grid[m][n] = 2\n",
    "            \n",
    "        return -1"
   ]
  },
  {
   "cell_type": "code",
   "execution_count": 539,
   "id": "338b4e78",
   "metadata": {},
   "outputs": [],
   "source": [
    "grid = [[2,1,1],[1,1,0],[0,1,1]]"
   ]
  },
  {
   "cell_type": "code",
   "execution_count": 540,
   "id": "d107a1cc",
   "metadata": {},
   "outputs": [
    {
     "data": {
      "text/plain": [
       "4"
      ]
     },
     "execution_count": 540,
     "metadata": {},
     "output_type": "execute_result"
    }
   ],
   "source": [
    "s = Solution()\n",
    "s.orangesRotting(grid)"
   ]
  },
  {
   "cell_type": "code",
   "execution_count": null,
   "id": "b137dd70",
   "metadata": {},
   "outputs": [],
   "source": [
    "[[2,0,1,1,1,1,1,1,1,1],\n",
    " [1,0,1,0,0,0,0,0,0,1],\n",
    " [1,0,1,0,1,1,1,1,0,1],\n",
    " [1,0,1,0,1,0,0,1,0,1],\n",
    " [1,0,1,0,1,0,0,1,0,1],\n",
    " [1,0,1,0,1,1,0,1,0,1],\n",
    " [1,0,1,0,0,0,0,1,0,1],\n",
    " [1,0,1,1,1,1,1,1,0,1],\n",
    " [1,0,0,0,0,0,0,0,0,1],\n",
    " [1,1,1,1,1,1,1,1,1,1]]"
   ]
  },
  {
   "cell_type": "code",
   "execution_count": null,
   "id": "4651ae97",
   "metadata": {},
   "outputs": [],
   "source": []
  },
  {
   "cell_type": "code",
   "execution_count": null,
   "id": "32f54d75",
   "metadata": {},
   "outputs": [],
   "source": []
  },
  {
   "cell_type": "code",
   "execution_count": null,
   "id": "701533e7",
   "metadata": {},
   "outputs": [],
   "source": []
  },
  {
   "cell_type": "code",
   "execution_count": null,
   "id": "5e29b56a",
   "metadata": {},
   "outputs": [],
   "source": []
  },
  {
   "cell_type": "code",
   "execution_count": null,
   "id": "4995cee9",
   "metadata": {},
   "outputs": [],
   "source": []
  },
  {
   "cell_type": "code",
   "execution_count": null,
   "id": "427f0bbc",
   "metadata": {},
   "outputs": [],
   "source": []
  },
  {
   "cell_type": "code",
   "execution_count": null,
   "id": "8a1f4b92",
   "metadata": {},
   "outputs": [],
   "source": []
  },
  {
   "cell_type": "code",
   "execution_count": null,
   "id": "f191090d",
   "metadata": {},
   "outputs": [],
   "source": []
  },
  {
   "cell_type": "code",
   "execution_count": null,
   "id": "d47f66a7",
   "metadata": {},
   "outputs": [],
   "source": []
  },
  {
   "cell_type": "code",
   "execution_count": null,
   "id": "2903cb39",
   "metadata": {},
   "outputs": [],
   "source": []
  },
  {
   "cell_type": "code",
   "execution_count": null,
   "id": "2de8f6d7",
   "metadata": {},
   "outputs": [],
   "source": []
  },
  {
   "cell_type": "code",
   "execution_count": null,
   "id": "2532ce49",
   "metadata": {},
   "outputs": [],
   "source": []
  },
  {
   "cell_type": "code",
   "execution_count": null,
   "id": "471811c8",
   "metadata": {},
   "outputs": [],
   "source": []
  },
  {
   "cell_type": "code",
   "execution_count": null,
   "id": "aeb05b90",
   "metadata": {},
   "outputs": [],
   "source": []
  },
  {
   "cell_type": "code",
   "execution_count": null,
   "id": "ccdd798e",
   "metadata": {},
   "outputs": [],
   "source": []
  },
  {
   "cell_type": "markdown",
   "id": "d96309cd",
   "metadata": {},
   "source": [
    "## 1417. 重新格式化字符串（8.11）"
   ]
  },
  {
   "cell_type": "code",
   "execution_count": 440,
   "id": "fa3e2416",
   "metadata": {},
   "outputs": [],
   "source": [
    "class Solution:\n",
    "    def reformat(self, s: str) -> str:\n",
    "        num = ''\n",
    "        chars = ''\n",
    "        for ch in s:\n",
    "            if 48 <= ord(ch) <= 57:\n",
    "                num += ch\n",
    "            else: chars += ch\n",
    "        \n",
    "#         print(f'{num},{chars}')\n",
    "        if abs(len(num) - len(chars)) > 1:\n",
    "            return ''\n",
    "        else:\n",
    "            res = ''\n",
    "            for ch1,ch2 in zip(num,chars):\n",
    "                if len(num) >= len(chars):\n",
    "                    res += ch1\n",
    "                    res += ch2\n",
    "                else:\n",
    "                    res += ch2\n",
    "                    res += ch1\n",
    "            if len(num) != len(chars):\n",
    "                res += num[-1] if len(num)>len(chars) else chars[-1]\n",
    "        return res"
   ]
  },
  {
   "cell_type": "code",
   "execution_count": 441,
   "id": "e1ba5b60",
   "metadata": {},
   "outputs": [],
   "source": [
    "s = \"ab123\""
   ]
  },
  {
   "cell_type": "code",
   "execution_count": 442,
   "id": "cc1967ac",
   "metadata": {},
   "outputs": [
    {
     "data": {
      "text/plain": [
       "'1a2b3'"
      ]
     },
     "execution_count": 442,
     "metadata": {},
     "output_type": "execute_result"
    }
   ],
   "source": [
    "so = Solution()\n",
    "so.reformat(s)"
   ]
  },
  {
   "cell_type": "markdown",
   "id": "f2ab1183",
   "metadata": {},
   "source": [
    "太垃圾，改改逻辑"
   ]
  },
  {
   "cell_type": "code",
   "execution_count": 490,
   "id": "4c6d2d4d",
   "metadata": {},
   "outputs": [],
   "source": [
    "class Solution:\n",
    "    def reformat(self, s: str) -> str:\n",
    "        num, chs = [], []\n",
    "        for ch in s:\n",
    "            if ch.isdigit():\n",
    "                num.append(ch)\n",
    "            else: chs.append(ch)\n",
    "        \n",
    "        res = ''\n",
    "        while num and chs:\n",
    "            if abs(len(num)-len(chs)) > 1:\n",
    "                return ''\n",
    "            res += num.pop() + chs.pop() if len(num) >= len(chs) \\\n",
    "            else chs.pop() + num.pop() \n",
    "\n",
    "        if len(num) == 1: res += num.pop()\n",
    "        if len(chs) == 1: res += chs.pop()\n",
    "        \n",
    "        return res"
   ]
  },
  {
   "cell_type": "code",
   "execution_count": 491,
   "id": "b7e18620",
   "metadata": {},
   "outputs": [],
   "source": [
    "s = \"covid2019\""
   ]
  },
  {
   "cell_type": "code",
   "execution_count": 492,
   "id": "65edcd6f",
   "metadata": {},
   "outputs": [
    {
     "data": {
      "text/plain": [
       "'d9i1v0o2c'"
      ]
     },
     "execution_count": 492,
     "metadata": {},
     "output_type": "execute_result"
    }
   ],
   "source": [
    "so = Solution()\n",
    "so.reformat(s)"
   ]
  },
  {
   "cell_type": "markdown",
   "id": "2ddd6003",
   "metadata": {},
   "source": [
    "妈的忘了有个函数叫isdigit()"
   ]
  },
  {
   "cell_type": "markdown",
   "id": "5557965c",
   "metadata": {},
   "source": [
    "## 1282. 用户分组 （8.12）"
   ]
  },
  {
   "cell_type": "code",
   "execution_count": 13,
   "id": "36dded99",
   "metadata": {},
   "outputs": [],
   "source": [
    "from collections import defaultdict\n",
    "class Solution:\n",
    "    def groupThePeople(self, groupSizes: List[int]) -> List[List[int]]:\n",
    "        groupdic = defaultdict(list)\n",
    "        ans = []\n",
    "        for n,size in enumerate(groupSizes):\n",
    "            groupdic[size].append(n)\n",
    "        # list分段\n",
    "        for key in groupdic:\n",
    "            for i in range(0,len(groupdic[key]),key):\n",
    "                ans.append(groupdic[key][i:i+key])\n",
    "        \n",
    "        return ans\n",
    "        "
   ]
  },
  {
   "cell_type": "code",
   "execution_count": 14,
   "id": "4d075b50",
   "metadata": {},
   "outputs": [],
   "source": [
    "groupSizes = [3,3,3,3,3,1,3]"
   ]
  },
  {
   "cell_type": "code",
   "execution_count": 15,
   "id": "6e15d554",
   "metadata": {},
   "outputs": [
    {
     "data": {
      "text/plain": [
       "[[0, 1, 2], [3, 4, 6], [5]]"
      ]
     },
     "execution_count": 15,
     "metadata": {},
     "output_type": "execute_result"
    }
   ],
   "source": [
    "s = Solution()\n",
    "s.groupThePeople(groupSizes)"
   ]
  },
  {
   "cell_type": "code",
   "execution_count": 18,
   "id": "96b5fa16",
   "metadata": {},
   "outputs": [
    {
     "data": {
      "text/plain": [
       "[[1, 2, 3], [4, 5, 6], [7, 8, 9], [10, 11]]"
      ]
     },
     "execution_count": 18,
     "metadata": {},
     "output_type": "execute_result"
    }
   ],
   "source": [
    "lst = [1,2,3,4,5,6,7,8,9,10,11]\n",
    "b = [lst[i:i+3] for i in range(0,len(lst),3)]\n",
    "b"
   ]
  },
  {
   "cell_type": "code",
   "execution_count": 21,
   "id": "69e8e0c6",
   "metadata": {},
   "outputs": [],
   "source": [
    "from collections import defaultdict\n",
    "class Solution:\n",
    "    def groupThePeople(self, groupSizes: List[int]) -> List[List[int]]:\n",
    "        groupdic = defaultdict(list)\n",
    "        ans = []\n",
    "        for n,size in enumerate(groupSizes):\n",
    "            groupdic[size].append(n)\n",
    "        for key in groupdic:\n",
    "            ans.extend([groupdic[key][i:i+key] for i in range(0,len(groupdic[key]),key)])\n",
    "        return ans\n",
    "        "
   ]
  },
  {
   "cell_type": "code",
   "execution_count": 22,
   "id": "8e175c10",
   "metadata": {},
   "outputs": [
    {
     "data": {
      "text/plain": [
       "[[0, 1, 2], [3, 4, 6], [5]]"
      ]
     },
     "execution_count": 22,
     "metadata": {},
     "output_type": "execute_result"
    }
   ],
   "source": [
    "s = Solution()\n",
    "s.groupThePeople(groupSizes)"
   ]
  },
  {
   "cell_type": "code",
   "execution_count": null,
   "id": "3bf0f79a",
   "metadata": {},
   "outputs": [],
   "source": []
  },
  {
   "cell_type": "code",
   "execution_count": null,
   "id": "2348c34b",
   "metadata": {},
   "outputs": [],
   "source": []
  },
  {
   "cell_type": "code",
   "execution_count": null,
   "id": "96365e1f",
   "metadata": {},
   "outputs": [],
   "source": []
  },
  {
   "cell_type": "code",
   "execution_count": null,
   "id": "9aa52cff",
   "metadata": {},
   "outputs": [],
   "source": []
  },
  {
   "cell_type": "code",
   "execution_count": null,
   "id": "692cc30d",
   "metadata": {},
   "outputs": [],
   "source": []
  },
  {
   "cell_type": "code",
   "execution_count": null,
   "id": "cf859452",
   "metadata": {},
   "outputs": [],
   "source": []
  },
  {
   "cell_type": "code",
   "execution_count": null,
   "id": "0c6859ca",
   "metadata": {},
   "outputs": [],
   "source": []
  },
  {
   "cell_type": "code",
   "execution_count": null,
   "id": "53f0de45",
   "metadata": {},
   "outputs": [],
   "source": []
  },
  {
   "cell_type": "code",
   "execution_count": null,
   "id": "07df688d",
   "metadata": {},
   "outputs": [],
   "source": []
  },
  {
   "cell_type": "code",
   "execution_count": null,
   "id": "b25ba86a",
   "metadata": {},
   "outputs": [],
   "source": []
  },
  {
   "cell_type": "code",
   "execution_count": null,
   "id": "f4b174fb",
   "metadata": {},
   "outputs": [],
   "source": []
  },
  {
   "cell_type": "code",
   "execution_count": null,
   "id": "4f3cd869",
   "metadata": {},
   "outputs": [],
   "source": []
  },
  {
   "cell_type": "code",
   "execution_count": null,
   "id": "54d29361",
   "metadata": {},
   "outputs": [],
   "source": []
  },
  {
   "cell_type": "code",
   "execution_count": null,
   "id": "c0e11289",
   "metadata": {},
   "outputs": [],
   "source": []
  },
  {
   "cell_type": "code",
   "execution_count": null,
   "id": "94edb432",
   "metadata": {},
   "outputs": [],
   "source": []
  },
  {
   "cell_type": "code",
   "execution_count": null,
   "id": "78c56543",
   "metadata": {},
   "outputs": [],
   "source": []
  },
  {
   "cell_type": "code",
   "execution_count": null,
   "id": "5f676c2f",
   "metadata": {},
   "outputs": [],
   "source": []
  },
  {
   "cell_type": "code",
   "execution_count": null,
   "id": "9223893b",
   "metadata": {},
   "outputs": [],
   "source": []
  },
  {
   "cell_type": "code",
   "execution_count": null,
   "id": "e2634244",
   "metadata": {},
   "outputs": [],
   "source": []
  },
  {
   "cell_type": "code",
   "execution_count": null,
   "id": "62ef3d0d",
   "metadata": {},
   "outputs": [],
   "source": []
  },
  {
   "cell_type": "code",
   "execution_count": null,
   "id": "39e06727",
   "metadata": {},
   "outputs": [],
   "source": []
  },
  {
   "cell_type": "code",
   "execution_count": null,
   "id": "e63caf05",
   "metadata": {},
   "outputs": [],
   "source": []
  },
  {
   "cell_type": "code",
   "execution_count": null,
   "id": "c95053c0",
   "metadata": {},
   "outputs": [],
   "source": []
  },
  {
   "cell_type": "code",
   "execution_count": null,
   "id": "44e88242",
   "metadata": {},
   "outputs": [],
   "source": []
  },
  {
   "cell_type": "code",
   "execution_count": null,
   "id": "0a6b43f3",
   "metadata": {},
   "outputs": [],
   "source": []
  },
  {
   "cell_type": "code",
   "execution_count": null,
   "id": "a7ef0253",
   "metadata": {},
   "outputs": [],
   "source": []
  },
  {
   "cell_type": "code",
   "execution_count": null,
   "id": "e617d8d8",
   "metadata": {},
   "outputs": [],
   "source": []
  },
  {
   "cell_type": "code",
   "execution_count": null,
   "id": "57113249",
   "metadata": {},
   "outputs": [],
   "source": []
  },
  {
   "cell_type": "code",
   "execution_count": null,
   "id": "eaa873c4",
   "metadata": {},
   "outputs": [],
   "source": []
  },
  {
   "cell_type": "code",
   "execution_count": null,
   "id": "8fa0bffb",
   "metadata": {},
   "outputs": [],
   "source": []
  },
  {
   "cell_type": "code",
   "execution_count": null,
   "id": "bd4b92f0",
   "metadata": {},
   "outputs": [],
   "source": []
  },
  {
   "cell_type": "code",
   "execution_count": null,
   "id": "2d7c29ba",
   "metadata": {},
   "outputs": [],
   "source": []
  },
  {
   "cell_type": "code",
   "execution_count": null,
   "id": "c6a2dd56",
   "metadata": {},
   "outputs": [],
   "source": []
  },
  {
   "cell_type": "code",
   "execution_count": null,
   "id": "f8b526c1",
   "metadata": {},
   "outputs": [],
   "source": []
  },
  {
   "cell_type": "code",
   "execution_count": null,
   "id": "769f6b57",
   "metadata": {},
   "outputs": [],
   "source": []
  },
  {
   "cell_type": "code",
   "execution_count": null,
   "id": "faea7331",
   "metadata": {},
   "outputs": [],
   "source": []
  },
  {
   "cell_type": "code",
   "execution_count": null,
   "id": "a43f3e0c",
   "metadata": {},
   "outputs": [],
   "source": []
  },
  {
   "cell_type": "code",
   "execution_count": null,
   "id": "c2fb6b3b",
   "metadata": {},
   "outputs": [],
   "source": []
  },
  {
   "cell_type": "code",
   "execution_count": null,
   "id": "276b405f",
   "metadata": {},
   "outputs": [],
   "source": []
  },
  {
   "cell_type": "code",
   "execution_count": null,
   "id": "11363f80",
   "metadata": {},
   "outputs": [],
   "source": []
  },
  {
   "cell_type": "code",
   "execution_count": null,
   "id": "c6817799",
   "metadata": {},
   "outputs": [],
   "source": []
  }
 ],
 "metadata": {
  "kernelspec": {
   "display_name": "Python 3 (ipykernel)",
   "language": "python",
   "name": "python3"
  },
  "language_info": {
   "codemirror_mode": {
    "name": "ipython",
    "version": 3
   },
   "file_extension": ".py",
   "mimetype": "text/x-python",
   "name": "python",
   "nbconvert_exporter": "python",
   "pygments_lexer": "ipython3",
   "version": "3.6.3"
  }
 },
 "nbformat": 4,
 "nbformat_minor": 5
}
