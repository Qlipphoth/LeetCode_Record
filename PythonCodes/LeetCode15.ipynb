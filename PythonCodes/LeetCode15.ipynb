{
 "cells": [
  {
   "cell_type": "markdown",
   "metadata": {},
   "source": [
    "## [1094. 拼车](https://leetcode.cn/problems/car-pooling/)"
   ]
  },
  {
   "cell_type": "code",
   "execution_count": 2,
   "metadata": {},
   "outputs": [],
   "source": [
    "from typing import List\n",
    "class Solution:\n",
    "    def carPooling(self, trips: List[List[int]], capacity: int) -> bool:\n",
    "        ans = [0 for _ in range(1001)]\n",
    "        for n, left, right in trips:\n",
    "            for i in range(left, right):\n",
    "                ans[i] += n\n",
    "        \n",
    "        for i in range(1001):\n",
    "            if ans[i] > capacity:\n",
    "                return False\n",
    "        return True"
   ]
  },
  {
   "cell_type": "markdown",
   "metadata": {},
   "source": [
    "差分数组"
   ]
  },
  {
   "cell_type": "code",
   "execution_count": 3,
   "metadata": {},
   "outputs": [],
   "source": [
    "from typing import List\n",
    "class Solution:\n",
    "    def carPooling(self, trips: List[List[int]], capacity: int) -> bool:\n",
    "        query = [0 for _ in range(1001)]\n",
    "        \n",
    "        for n, begin, end in trips:\n",
    "            # 相当于 [begin, end) 区间内 +n\n",
    "            query[begin] += n\n",
    "            query[end] -= n\n",
    "        \n",
    "        res = 0\n",
    "        for q in query:\n",
    "            res += q\n",
    "            if (res > capacity): return False\n",
    "        return True"
   ]
  },
  {
   "cell_type": "markdown",
   "metadata": {},
   "source": [
    "## [1423. 可获得的最大点数](https://leetcode.cn/problems/maximum-points-you-can-obtain-from-cards)"
   ]
  },
  {
   "cell_type": "code",
   "execution_count": 35,
   "metadata": {},
   "outputs": [],
   "source": [
    "class Solution:\n",
    "    def maxScore(self, cardPoints: List[int], k: int) -> int:\n",
    "        def dfs(i: int, idx1: int, idx2: int) -> int:\n",
    "            \"\"\"\n",
    "            i: 目前选的是第几张\n",
    "            idx1: 将要选的下标\n",
    "            idx2: 另一侧的下标\n",
    "            \"\"\"\n",
    "            ans = cardPoints[idx1]\n",
    "            if (i == k - 1 or idx1 == idx2): return ans\n",
    "            if ((i, idx1, idx2) in memo): return memo[(i, idx1, idx2)]\n",
    "            \n",
    "            if (idx1 > idx2):\n",
    "                memo[(i, idx1, idx2)] = max(dfs(i + 1, idx1 - 1, idx2), dfs(i + 1, idx2, idx1 - 1)) + ans\n",
    "            else:\n",
    "                memo[(i, idx1, idx2)] = max(dfs(i + 1, idx1 + 1, idx2), dfs(i + 1, idx2, idx1 + 1)) + ans\n",
    "\n",
    "            return memo[(i, idx1, idx2)]\n",
    "\n",
    "        memo = dict()\n",
    "        n = len(cardPoints)\n",
    "        return max(dfs(0, 0, n - 1), dfs(0, n - 1, 0))"
   ]
  },
  {
   "cell_type": "code",
   "execution_count": 36,
   "metadata": {},
   "outputs": [],
   "source": [
    "cardPoints = [9,7,7,9,7,7,9]\n",
    "k = 7"
   ]
  },
  {
   "cell_type": "code",
   "execution_count": 37,
   "metadata": {},
   "outputs": [
    {
     "data": {
      "text/plain": [
       "55"
      ]
     },
     "execution_count": 37,
     "metadata": {},
     "output_type": "execute_result"
    }
   ],
   "source": [
    "s = Solution()\n",
    "s.maxScore(cardPoints, k)"
   ]
  },
  {
   "cell_type": "markdown",
   "metadata": {},
   "source": [
    "状态太多爆内存了"
   ]
  },
  {
   "cell_type": "code",
   "execution_count": null,
   "metadata": {},
   "outputs": [],
   "source": [
    "class Solution:\n",
    "    def maxScore(self, cardPoints: List[int], k: int) -> int:\n",
    "        n = len(cardPoints)\n",
    "        m = n - k\n",
    "        min_s = s = sum(cardPoints[:m])\n",
    "        for i in range(m, n):\n",
    "            s += cardPoints[i] - cardPoints[i - m]\n",
    "            min_s = min(min_s, s)\n",
    "        return sum(cardPoints) - min_s"
   ]
  },
  {
   "cell_type": "code",
   "execution_count": 43,
   "metadata": {},
   "outputs": [],
   "source": [
    "class Solution:\n",
    "    def maxScore(self, cardPoints: List[int], k: int) -> int:\n",
    "        p = maxp = sum(cardPoints[:k])\n",
    "        for i in range(1, k + 1):\n",
    "            p += cardPoints[-i] - cardPoints[k - i]\n",
    "            maxp = max(maxp, p)\n",
    "        return maxp"
   ]
  },
  {
   "cell_type": "markdown",
   "metadata": {},
   "source": [
    "## [面试题 16.04. 井字游戏](https://leetcode.cn/problems/tic-tac-toe-lcci/)"
   ]
  },
  {
   "cell_type": "code",
   "execution_count": 18,
   "metadata": {},
   "outputs": [],
   "source": [
    "from typing import List\n",
    "class Solution:\n",
    "    def tictactoe(self, board: List[str]) -> str:\n",
    "        n = len(board)\n",
    "        space = False\n",
    "        flag1 = flag2 = flag3 = flag4 = True\n",
    "\n",
    "        for i in range(n):\n",
    "            flag3 &= (board[i][i] == board[0][0])\n",
    "            flag4 &= (board[i][n - 1 - i] == board[0][n - 1])\n",
    "            for j in range(n):\n",
    "                if (board[i][j] == \" \"): space = True\n",
    "                flag1 &= (board[i][j] == board[i][0])\n",
    "                flag2 &= (board[j][i] == board[0][i])\n",
    "            if (flag1 and board[i][0] != \" \"): return board[i][0]\n",
    "            if (flag2 and board[0][i] != \" \"): return board[0][i]\n",
    "            flag1 = flag2 = True\n",
    "        if (flag3 and board[0][0] != \" \"): return board[0][0]\n",
    "        if (flag4 and board[0][n - 1] != \" \"): return board[0][n - 1]\n",
    "\n",
    "        return \"Pending\" if space else \"Draw\" "
   ]
  },
  {
   "cell_type": "code",
   "execution_count": 19,
   "metadata": {},
   "outputs": [],
   "source": [
    "board = [\" O    X\",\" O     \",\"     O \",\"XXXXXXX\",\"  O    \",\" O   O \",\"O  X OO\"]"
   ]
  },
  {
   "cell_type": "code",
   "execution_count": 20,
   "metadata": {},
   "outputs": [
    {
     "data": {
      "text/plain": [
       "'X'"
      ]
     },
     "execution_count": 20,
     "metadata": {},
     "output_type": "execute_result"
    }
   ],
   "source": [
    "s = Solution()\n",
    "s.tictactoe(board)"
   ]
  },
  {
   "cell_type": "code",
   "execution_count": null,
   "metadata": {},
   "outputs": [],
   "source": []
  },
  {
   "cell_type": "code",
   "execution_count": null,
   "metadata": {},
   "outputs": [],
   "source": []
  },
  {
   "cell_type": "code",
   "execution_count": null,
   "metadata": {},
   "outputs": [],
   "source": []
  },
  {
   "cell_type": "code",
   "execution_count": null,
   "metadata": {},
   "outputs": [],
   "source": []
  },
  {
   "cell_type": "code",
   "execution_count": null,
   "metadata": {},
   "outputs": [],
   "source": []
  },
  {
   "cell_type": "code",
   "execution_count": null,
   "metadata": {},
   "outputs": [],
   "source": []
  },
  {
   "cell_type": "code",
   "execution_count": null,
   "metadata": {},
   "outputs": [],
   "source": []
  },
  {
   "cell_type": "code",
   "execution_count": null,
   "metadata": {},
   "outputs": [],
   "source": []
  },
  {
   "cell_type": "code",
   "execution_count": null,
   "metadata": {},
   "outputs": [],
   "source": []
  },
  {
   "cell_type": "code",
   "execution_count": null,
   "metadata": {},
   "outputs": [],
   "source": []
  },
  {
   "cell_type": "code",
   "execution_count": null,
   "metadata": {},
   "outputs": [],
   "source": []
  },
  {
   "cell_type": "code",
   "execution_count": null,
   "metadata": {},
   "outputs": [],
   "source": []
  },
  {
   "cell_type": "code",
   "execution_count": null,
   "metadata": {},
   "outputs": [],
   "source": []
  },
  {
   "cell_type": "code",
   "execution_count": null,
   "metadata": {},
   "outputs": [],
   "source": []
  },
  {
   "cell_type": "code",
   "execution_count": null,
   "metadata": {},
   "outputs": [],
   "source": []
  },
  {
   "cell_type": "code",
   "execution_count": null,
   "metadata": {},
   "outputs": [],
   "source": []
  },
  {
   "cell_type": "code",
   "execution_count": null,
   "metadata": {},
   "outputs": [],
   "source": []
  }
 ],
 "metadata": {
  "kernelspec": {
   "display_name": "Python 3",
   "language": "python",
   "name": "python3"
  },
  "language_info": {
   "codemirror_mode": {
    "name": "ipython",
    "version": 3
   },
   "file_extension": ".py",
   "mimetype": "text/x-python",
   "name": "python",
   "nbconvert_exporter": "python",
   "pygments_lexer": "ipython3",
   "version": "3.9.7"
  }
 },
 "nbformat": 4,
 "nbformat_minor": 2
}
