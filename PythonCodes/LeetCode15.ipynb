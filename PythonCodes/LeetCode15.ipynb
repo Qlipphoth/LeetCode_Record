{
 "cells": [
  {
   "cell_type": "markdown",
   "metadata": {},
   "source": [
    "## [1094. 拼车](https://leetcode.cn/problems/car-pooling/)"
   ]
  },
  {
   "cell_type": "code",
   "execution_count": 2,
   "metadata": {},
   "outputs": [],
   "source": [
    "from typing import List\n",
    "class Solution:\n",
    "    def carPooling(self, trips: List[List[int]], capacity: int) -> bool:\n",
    "        ans = [0 for _ in range(1001)]\n",
    "        for n, left, right in trips:\n",
    "            for i in range(left, right):\n",
    "                ans[i] += n\n",
    "        \n",
    "        for i in range(1001):\n",
    "            if ans[i] > capacity:\n",
    "                return False\n",
    "        return True"
   ]
  },
  {
   "cell_type": "markdown",
   "metadata": {},
   "source": [
    "差分数组"
   ]
  },
  {
   "cell_type": "code",
   "execution_count": 3,
   "metadata": {},
   "outputs": [],
   "source": [
    "from typing import List\n",
    "class Solution:\n",
    "    def carPooling(self, trips: List[List[int]], capacity: int) -> bool:\n",
    "        query = [0 for _ in range(1001)]\n",
    "        \n",
    "        for n, begin, end in trips:\n",
    "            # 相当于 [begin, end) 区间内 +n\n",
    "            query[begin] += n\n",
    "            query[end] -= n\n",
    "        \n",
    "        res = 0\n",
    "        for q in query:\n",
    "            res += q\n",
    "            if (res > capacity): return False\n",
    "        return True"
   ]
  },
  {
   "cell_type": "markdown",
   "metadata": {},
   "source": [
    "## [1423. 可获得的最大点数](https://leetcode.cn/problems/maximum-points-you-can-obtain-from-cards)"
   ]
  },
  {
   "cell_type": "code",
   "execution_count": 35,
   "metadata": {},
   "outputs": [],
   "source": [
    "class Solution:\n",
    "    def maxScore(self, cardPoints: List[int], k: int) -> int:\n",
    "        def dfs(i: int, idx1: int, idx2: int) -> int:\n",
    "            \"\"\"\n",
    "            i: 目前选的是第几张\n",
    "            idx1: 将要选的下标\n",
    "            idx2: 另一侧的下标\n",
    "            \"\"\"\n",
    "            ans = cardPoints[idx1]\n",
    "            if (i == k - 1 or idx1 == idx2): return ans\n",
    "            if ((i, idx1, idx2) in memo): return memo[(i, idx1, idx2)]\n",
    "            \n",
    "            if (idx1 > idx2):\n",
    "                memo[(i, idx1, idx2)] = max(dfs(i + 1, idx1 - 1, idx2), dfs(i + 1, idx2, idx1 - 1)) + ans\n",
    "            else:\n",
    "                memo[(i, idx1, idx2)] = max(dfs(i + 1, idx1 + 1, idx2), dfs(i + 1, idx2, idx1 + 1)) + ans\n",
    "\n",
    "            return memo[(i, idx1, idx2)]\n",
    "\n",
    "        memo = dict()\n",
    "        n = len(cardPoints)\n",
    "        return max(dfs(0, 0, n - 1), dfs(0, n - 1, 0))"
   ]
  },
  {
   "cell_type": "code",
   "execution_count": 36,
   "metadata": {},
   "outputs": [],
   "source": [
    "cardPoints = [9,7,7,9,7,7,9]\n",
    "k = 7"
   ]
  },
  {
   "cell_type": "code",
   "execution_count": 37,
   "metadata": {},
   "outputs": [
    {
     "data": {
      "text/plain": [
       "55"
      ]
     },
     "execution_count": 37,
     "metadata": {},
     "output_type": "execute_result"
    }
   ],
   "source": [
    "s = Solution()\n",
    "s.maxScore(cardPoints, k)"
   ]
  },
  {
   "cell_type": "markdown",
   "metadata": {},
   "source": [
    "状态太多爆内存了"
   ]
  },
  {
   "cell_type": "code",
   "execution_count": null,
   "metadata": {},
   "outputs": [],
   "source": [
    "class Solution:\n",
    "    def maxScore(self, cardPoints: List[int], k: int) -> int:\n",
    "        n = len(cardPoints)\n",
    "        m = n - k\n",
    "        min_s = s = sum(cardPoints[:m])\n",
    "        for i in range(m, n):\n",
    "            s += cardPoints[i] - cardPoints[i - m]\n",
    "            min_s = min(min_s, s)\n",
    "        return sum(cardPoints) - min_s"
   ]
  },
  {
   "cell_type": "code",
   "execution_count": 43,
   "metadata": {},
   "outputs": [],
   "source": [
    "class Solution:\n",
    "    def maxScore(self, cardPoints: List[int], k: int) -> int:\n",
    "        p = maxp = sum(cardPoints[:k])\n",
    "        for i in range(1, k + 1):\n",
    "            p += cardPoints[-i] - cardPoints[k - i]\n",
    "            maxp = max(maxp, p)\n",
    "        return maxp"
   ]
  },
  {
   "cell_type": "markdown",
   "metadata": {},
   "source": [
    "## [面试题 16.04. 井字游戏](https://leetcode.cn/problems/tic-tac-toe-lcci/)"
   ]
  },
  {
   "cell_type": "code",
   "execution_count": 18,
   "metadata": {},
   "outputs": [],
   "source": [
    "from typing import List\n",
    "class Solution:\n",
    "    def tictactoe(self, board: List[str]) -> str:\n",
    "        n = len(board)\n",
    "        space = False\n",
    "        flag1 = flag2 = flag3 = flag4 = True\n",
    "\n",
    "        for i in range(n):\n",
    "            flag3 &= (board[i][i] == board[0][0])\n",
    "            flag4 &= (board[i][n - 1 - i] == board[0][n - 1])\n",
    "            for j in range(n):\n",
    "                if (board[i][j] == \" \"): space = True\n",
    "                flag1 &= (board[i][j] == board[i][0])\n",
    "                flag2 &= (board[j][i] == board[0][i])\n",
    "            if (flag1 and board[i][0] != \" \"): return board[i][0]\n",
    "            if (flag2 and board[0][i] != \" \"): return board[0][i]\n",
    "            flag1 = flag2 = True\n",
    "        if (flag3 and board[0][0] != \" \"): return board[0][0]\n",
    "        if (flag4 and board[0][n - 1] != \" \"): return board[0][n - 1]\n",
    "\n",
    "        return \"Pending\" if space else \"Draw\" "
   ]
  },
  {
   "cell_type": "code",
   "execution_count": 19,
   "metadata": {},
   "outputs": [],
   "source": [
    "board = [\" O    X\",\" O     \",\"     O \",\"XXXXXXX\",\"  O    \",\" O   O \",\"O  X OO\"]"
   ]
  },
  {
   "cell_type": "code",
   "execution_count": 20,
   "metadata": {},
   "outputs": [
    {
     "data": {
      "text/plain": [
       "'X'"
      ]
     },
     "execution_count": 20,
     "metadata": {},
     "output_type": "execute_result"
    }
   ],
   "source": [
    "s = Solution()\n",
    "s.tictactoe(board)"
   ]
  },
  {
   "cell_type": "code",
   "execution_count": 26,
   "metadata": {},
   "outputs": [],
   "source": [
    "from typing import List\n",
    "class Solution:\n",
    "    def checkValidGrid(self, grid: List[List[int]]) -> bool:\n",
    "        if (grid[0][0] != 0): return False\n",
    "        \n",
    "        n = len(grid)\n",
    "        step, total = 1, n * n\n",
    "        dirs = ((1, 2), (1, -2), (-1, 2), (-1, -2), (2, 1), (2, -1), (-2, 1), (-2, -1))\n",
    "        x, y = 0, 0\n",
    "\n",
    "        flag = False\n",
    "        while (step != total):\n",
    "            for (dx, dy) in dirs:\n",
    "                nx, ny = x + dx, y + dy\n",
    "                if (0 <= nx < n and 0 <= ny < n):\n",
    "                    if (grid[nx][ny] == step):\n",
    "                        x, y = nx, ny\n",
    "                        step += 1\n",
    "                        flag = True\n",
    "            if not flag: return False\n",
    "            flag = False\n",
    "        return True     "
   ]
  },
  {
   "cell_type": "code",
   "execution_count": 24,
   "metadata": {},
   "outputs": [],
   "source": [
    "grid = [[24,11,22,17,4],[21,16,5,12,9],[6,23,10,3,18],[15,20,1,8,13],[0,7,14,19,2]]"
   ]
  },
  {
   "cell_type": "code",
   "execution_count": 25,
   "metadata": {},
   "outputs": [
    {
     "data": {
      "text/plain": [
       "False"
      ]
     },
     "execution_count": 25,
     "metadata": {},
     "output_type": "execute_result"
    }
   ],
   "source": [
    "s = Solution()\n",
    "s.checkValidGrid(grid)"
   ]
  },
  {
   "cell_type": "markdown",
   "metadata": {},
   "source": [
    "## [1038. 从二叉搜索树到更大和树](https://leetcode.cn/problems/binary-search-tree-to-greater-sum-tree)"
   ]
  },
  {
   "cell_type": "code",
   "execution_count": 2,
   "metadata": {},
   "outputs": [],
   "source": [
    "class Solution:\n",
    "    def bstToGst(self, root):\n",
    "        def dfs(node):\n",
    "            nonlocal res\n",
    "            if not node: return\n",
    "            dfs(node.right)\n",
    "            res += node.val\n",
    "            node.val = res\n",
    "            dfs(node.left)\n",
    "        \n",
    "        res = 0\n",
    "        dfs(root)\n",
    "        return root"
   ]
  },
  {
   "cell_type": "markdown",
   "metadata": {},
   "source": [
    "## [794. 有效的井字游戏](https://leetcode.cn/problems/valid-tic-tac-toe-state/)"
   ]
  },
  {
   "cell_type": "code",
   "execution_count": 27,
   "metadata": {},
   "outputs": [],
   "source": [
    "from typing import List \n",
    "class Solution:\n",
    "    def validTicTacToe(self, board: List[str]) -> bool:\n",
    "        def isWin(sig):\n",
    "            flags = [True] * 4\n",
    "            for i in range(3):\n",
    "                flags[0] &= (board[i][i] == sig)\n",
    "                flags[1] &= (board[i][2 - i] == sig)\n",
    "                for j in range(3):\n",
    "                    flags[2] &= (board[i][j] == sig)\n",
    "                    flags[3] &= (board[j][i] == sig)\n",
    "                if (flags[2] or flags[3]): return True\n",
    "                flags[2] = flags[3] = True\n",
    "            return flags[0] or flags[1]\n",
    "        \n",
    "        numX = sum([board[i].count(\"X\") for i in range(3)])\n",
    "        numO = sum([board[i].count(\"O\") for i in range(3)])\n",
    "        \n",
    "\n",
    "        if (isWin(\"O\") and isWin(\"X\")): return False\n",
    "        if (isWin(\"O\")): return numX == numO\n",
    "        if (isWin(\"X\")): return numX == numO + 1\n",
    "        \n",
    "        return (numX == numO + 1) or (numX == numO)"
   ]
  },
  {
   "cell_type": "code",
   "execution_count": 25,
   "metadata": {},
   "outputs": [],
   "source": [
    "board = [\"XOX\",\"O O\",\"XOX\"]"
   ]
  },
  {
   "cell_type": "code",
   "execution_count": 26,
   "metadata": {},
   "outputs": [
    {
     "data": {
      "text/plain": [
       "True"
      ]
     },
     "execution_count": 26,
     "metadata": {},
     "output_type": "execute_result"
    }
   ],
   "source": [
    "s = Solution()\n",
    "s.validTicTacToe(board)"
   ]
  },
  {
   "cell_type": "code",
   "execution_count": null,
   "metadata": {},
   "outputs": [],
   "source": []
  },
  {
   "cell_type": "code",
   "execution_count": null,
   "metadata": {},
   "outputs": [],
   "source": []
  },
  {
   "cell_type": "code",
   "execution_count": null,
   "metadata": {},
   "outputs": [],
   "source": []
  },
  {
   "cell_type": "code",
   "execution_count": null,
   "metadata": {},
   "outputs": [],
   "source": []
  },
  {
   "cell_type": "code",
   "execution_count": null,
   "metadata": {},
   "outputs": [],
   "source": []
  },
  {
   "cell_type": "code",
   "execution_count": null,
   "metadata": {},
   "outputs": [],
   "source": []
  }
 ],
 "metadata": {
  "kernelspec": {
   "display_name": "Python 3",
   "language": "python",
   "name": "python3"
  },
  "language_info": {
   "codemirror_mode": {
    "name": "ipython",
    "version": 3
   },
   "file_extension": ".py",
   "mimetype": "text/x-python",
   "name": "python",
   "nbconvert_exporter": "python",
   "pygments_lexer": "ipython3",
   "version": "3.9.7"
  }
 },
 "nbformat": 4,
 "nbformat_minor": 2
}
