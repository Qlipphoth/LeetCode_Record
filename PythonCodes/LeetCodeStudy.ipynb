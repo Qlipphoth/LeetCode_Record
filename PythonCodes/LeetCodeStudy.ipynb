{
 "cells": [
  {
   "cell_type": "markdown",
   "id": "cabe9514-5a37-4734-967b-bf497cacd7b5",
   "metadata": {},
   "source": [
    "# 排序"
   ]
  },
  {
   "cell_type": "markdown",
   "id": "fd90db3c-8e7e-48ca-a7f0-407915912f79",
   "metadata": {},
   "source": [
    "https://zhuanlan.zhihu.com/p/57270323"
   ]
  },
  {
   "cell_type": "markdown",
   "id": "cc8d23c9-2a56-4e48-b3c6-9c7fef7532f6",
   "metadata": {},
   "source": [
    "## 算法复杂度"
   ]
  },
  {
   "cell_type": "markdown",
   "id": "0974f30f-ea1f-4281-9831-44e72c438457",
   "metadata": {},
   "source": [
    "| 排序方法 | 时间复杂度（平均）  | 时间复杂度（最坏） | 时间复杂度（最好） | 空间复杂度 | 稳定性 |\n",
    "|:--------| :---------:|:--------:|:------------:|:-----------:|:-----------:|\n",
    "|插入排序|$O(n^2)$|$O(n^2)$|$O(n)$|$O(1)$|稳定|\n",
    "|希尔排序|$O(n^{1.3})$|$O(n^2)$|$O(n)$|$O(1)$|不稳定|\n",
    "|选择排序|$O(n^2)$|$O(n^2)$|$O(n^2)$|$O(1)$|不稳定|\n",
    "|堆排序|$O(n\\log_2n)$|$O(n\\log_2n)$|$O(n\\log_2n)$|$O(1)$|不稳定|\n",
    "|冒泡排序|$O(n^2)$|$O(n^2)$|$O(n)$|$O(1)$|稳定|\n",
    "|快速排序|$O(n\\log_2n)$|$O(n^2)$|$O(n\\log_2n)$ | O(n\\log_2n)|不稳定|\n",
    "|归并排序|$O(n\\log_2n)$|$O(n\\log_2n)$|$O(n\\log_2n)$|$O(n)$|稳定|\n",
    "|计数排序|$O(n+k)$|$O(n+k)$|$O(n+k)$|$O(n+k)$|稳定|\n",
    "|桶排序|$O(n+k)$|$O(n^2)$|$O(n)$|$O(n+k)$|稳定|\n",
    "|基数排序|$O(n*k)$|$O(n*k)$|$O(n*k)$|$O(n*k)$|稳定|\n",
    "\n",
    "稳定： 若a原本在b前面，而a = b， 排序后a任然在b前面则排序稳定，否则不稳定"
   ]
  },
  {
   "cell_type": "markdown",
   "id": "bff59a65-e110-4e17-ac9e-67e57d5282a0",
   "metadata": {},
   "source": [
    "## 冒泡排序"
   ]
  },
  {
   "cell_type": "markdown",
   "id": "a95b11cd-27d8-4666-83d3-01192d0a2649",
   "metadata": {},
   "source": [
    "比较相邻元素，若第一个比第二个大，就交换他们两个；这样每一次都能确定一个最大的数。重复以上步骤n-1次。"
   ]
  },
  {
   "cell_type": "code",
   "execution_count": 5,
   "id": "59e12df5",
   "metadata": {},
   "outputs": [],
   "source": [
    "from typing import List\n",
    "def bubblesort(nums: List[int]) -> List[int]:\n",
    "    n = len(nums)\n",
    "    for i in range(n-1):\n",
    "        for j in range(n-i-1):\n",
    "            if nums[j] > nums[j+1]: \n",
    "                nums[j], nums[j+1] = nums[j+1], nums[j]\n",
    "    return nums"
   ]
  },
  {
   "cell_type": "code",
   "execution_count": 6,
   "id": "c441a162",
   "metadata": {},
   "outputs": [],
   "source": [
    "nums = [4,6,5,3,1,2]"
   ]
  },
  {
   "cell_type": "code",
   "execution_count": 7,
   "id": "a80d9c27",
   "metadata": {},
   "outputs": [
    {
     "data": {
      "text/plain": [
       "[1, 2, 3, 4, 5, 6]"
      ]
     },
     "execution_count": 7,
     "metadata": {},
     "output_type": "execute_result"
    }
   ],
   "source": [
    "bubblesort(nums)"
   ]
  },
  {
   "cell_type": "markdown",
   "id": "eeb8cb42-6e8f-40ca-b99a-09f8d3043e9b",
   "metadata": {},
   "source": [
    "## 选择排序"
   ]
  },
  {
   "cell_type": "markdown",
   "id": "7dcf17cf-5a78-4098-8b48-49f1f8b05b67",
   "metadata": {},
   "source": [
    "首先在未排序序列中找到最小元素，存放到排序序列的起始位置。然后，再从剩余未排序元素中继续寻找最小元素，然后放到已排序序列的末尾。以此类推，直到所有元素均排序完毕。"
   ]
  },
  {
   "cell_type": "code",
   "execution_count": 9,
   "id": "e93d60a9",
   "metadata": {},
   "outputs": [],
   "source": [
    "def selectsort(nums: List[int]) -> List[int]:\n",
    "    n = len(nums)\n",
    "    for i in range(n-1):\n",
    "        cur = i\n",
    "        for j in range(i, n):\n",
    "            if nums[j] < nums[cur]: nums[j], nums[cur] = nums[cur], nums[j]\n",
    "    return nums"
   ]
  },
  {
   "cell_type": "code",
   "execution_count": 10,
   "id": "0445bf0b",
   "metadata": {},
   "outputs": [
    {
     "data": {
      "text/plain": [
       "[1, 2, 3, 4, 5, 6]"
      ]
     },
     "execution_count": 10,
     "metadata": {},
     "output_type": "execute_result"
    }
   ],
   "source": [
    "selectsort(nums)"
   ]
  },
  {
   "cell_type": "markdown",
   "id": "aeaab60c-94e5-4d36-ab8e-4e638d51f59c",
   "metadata": {},
   "source": [
    "## 堆排序"
   ]
  },
  {
   "cell_type": "markdown",
   "metadata": {},
   "source": [
    "「堆排序 heap sort」是一种基于堆数据结构实现的高效排序算法。我们可以利用已经学过的“建堆操作”和“元素出堆操作”实现堆排序。\n",
    "\n",
    "输入数组并建立大顶堆，此时最大元素位于堆顶。\n",
    "不断执行出堆操作，依次记录出堆元素，即可得到从小到大排序的序列。\n",
    "以上方法虽然可行，但需要借助一个额外数组来保存弹出的元素，比较浪费空间。在实际中，我们通常使用一种更加优雅的实现方式。\n",
    "\n",
    "非稳定排序：在交换堆顶元素和堆底元素时，相等元素的相对位置可能发生变化。"
   ]
  },
  {
   "cell_type": "code",
   "execution_count": null,
   "metadata": {},
   "outputs": [],
   "source": [
    "def sift_down(nums: list[int], n: int, i: int):\n",
    "    \"\"\"堆的长度为 n ，从节点 i 开始，从顶至底堆化\"\"\"\n",
    "    while True:\n",
    "        # 判断节点 i, l, r 中值最大的节点，记为 ma\n",
    "        l = 2 * i + 1\n",
    "        r = 2 * i + 2\n",
    "        ma = i\n",
    "        if l < n and nums[l] > nums[ma]:\n",
    "            ma = l\n",
    "        if r < n and nums[r] > nums[ma]:\n",
    "            ma = r\n",
    "        # 若节点 i 最大或索引 l, r 越界，则无须继续堆化，跳出\n",
    "        if ma == i:\n",
    "            break\n",
    "        # 交换两节点\n",
    "        nums[i], nums[ma] = nums[ma], nums[i]\n",
    "        # 循环向下堆化\n",
    "        i = ma\n",
    "\n",
    "def heap_sort(nums: list[int]):\n",
    "    \"\"\"堆排序\"\"\"\n",
    "    # 建堆操作：堆化除叶节点以外的其他所有节点\n",
    "    for i in range(len(nums) // 2 - 1, -1, -1):\n",
    "        sift_down(nums, len(nums), i)\n",
    "    # 从堆中提取最大元素，循环 n-1 轮\n",
    "    for i in range(len(nums) - 1, 0, -1):\n",
    "        # 交换根节点与最右叶节点（交换首元素与尾元素）\n",
    "        nums[0], nums[i] = nums[i], nums[0]\n",
    "        # 以根节点为起点，从顶至底进行堆化\n",
    "        sift_down(nums, i, 0)"
   ]
  },
  {
   "cell_type": "code",
   "execution_count": 122,
   "metadata": {},
   "outputs": [],
   "source": [
    "def heapify(nums, n, idx):\n",
    "    \"\"\"堆化以 idx 为根节点的子树\"\"\"\n",
    "    child = 2 * idx + 1\n",
    "    while child < n:\n",
    "        # 找到最大的孩子\n",
    "        if (child + 1) < n and nums[child + 1] > nums[child]:\n",
    "            child += 1\n",
    "        # 交换父子节点（如果满足条件）\n",
    "        if nums[idx] < nums[child]:\n",
    "            nums[idx], nums[child] = nums[child], nums[idx]\n",
    "        # 继续向下堆化\n",
    "        idx = child\n",
    "        child = 2 * idx + 1\n",
    "\n",
    "def heap_sort(nums):\n",
    "    n = len(nums)\n",
    "    # 先通过 nums 建立起堆\n",
    "    for i in range(n // 2, -1, -1):\n",
    "        heapify(nums, n, i)\n",
    "    # 每次将最大值放在后方，再建一次堆\n",
    "    for i in range(n - 1, 0, -1):\n",
    "        nums[0], nums[i] = nums[i], nums[0]\n",
    "        heapify(nums, i, 0)\n",
    "        "
   ]
  },
  {
   "cell_type": "code",
   "execution_count": 123,
   "metadata": {},
   "outputs": [
    {
     "name": "stdout",
     "output_type": "stream",
     "text": [
      "[3, 9, 9, 0, 5, 0, 4, 1, 0, 8]\n",
      "[0, 0, 0, 1, 3, 4, 5, 8, 9, 9]\n"
     ]
    }
   ],
   "source": [
    "import random\n",
    "\n",
    "nums = [random.randint(0, 10) for _ in range(10)]\n",
    "print(nums)\n",
    "heap_sort(nums)\n",
    "print(nums)"
   ]
  },
  {
   "cell_type": "markdown",
   "id": "31499369-58c5-4581-82cc-9a5bceb8273b",
   "metadata": {},
   "source": [
    "## 快排"
   ]
  },
  {
   "cell_type": "markdown",
   "metadata": {},
   "source": [
    "「快速排序 quick sort」是一种基于分治策略的排序算法，运行高效，应用广泛。\n",
    "\n",
    "快速排序的核心操作是“哨兵划分”，其目标是：选择数组中的某个元素作为“基准数”，将所有小于基准数的元素移到其左侧，而大于基准数的元素移到其右侧。\n",
    "\n",
    "快速排序的整体流程为：\n",
    "\n",
    "- 首先，对原数组执行一次“哨兵划分”，得到未排序的左子数组和右子数组。\n",
    "- 然后，对左子数组和右子数组分别递归执行“哨兵划分”。\n",
    "- 持续递归，直至子数组长度为 1 时终止，从而完成整个数组的排序。"
   ]
  },
  {
   "cell_type": "code",
   "execution_count": 15,
   "metadata": {},
   "outputs": [],
   "source": [
    "def partition(nums: list[int], left: int, right: int) -> int:\n",
    "    \"\"\"哨兵划分\"\"\"\n",
    "    # 以 nums[left] 为基准数\n",
    "    i, j = left, right\n",
    "    while i < j:\n",
    "        while i < j and nums[j] >= nums[left]:\n",
    "            j -= 1  # 从右向左找首个小于基准数的元素\n",
    "        while i < j and nums[i] <= nums[left]:\n",
    "            i += 1  # 从左向右找首个大于基准数的元素\n",
    "        # 元素交换\n",
    "        nums[i], nums[j] = nums[j], nums[i]\n",
    "    # 将基准数交换至两子数组的分界线\n",
    "    nums[i], nums[left] = nums[left], nums[i]\n",
    "    return i  # 返回基准数的索引\n",
    "\n",
    "def quick_sort(nums: list[int], left: int, right: int):\n",
    "    \"\"\"快速排序\"\"\"\n",
    "    # 子数组长度为 1 时终止递归\n",
    "    if left >= right:\n",
    "        return\n",
    "    # 哨兵划分\n",
    "    pivot = partition(nums, left, right)\n",
    "    # 递归左子数组、右子数组\n",
    "    quick_sort(nums, left, pivot - 1)\n",
    "    quick_sort(nums, pivot + 1, right)"
   ]
  },
  {
   "cell_type": "code",
   "execution_count": 16,
   "metadata": {},
   "outputs": [
    {
     "name": "stdout",
     "output_type": "stream",
     "text": [
      "[6, 3, 5, 1, 1, 7, 6, 5, 0, 8]\n",
      "[0, 1, 1, 3, 5, 5, 6, 6, 7, 8]\n"
     ]
    }
   ],
   "source": [
    "nums = [random.randint(0, 10) for _ in range(10)]\n",
    "print(nums)\n",
    "quick_sort(nums, 0, len(nums) - 1)\n",
    "print(nums)"
   ]
  },
  {
   "cell_type": "code",
   "execution_count": 27,
   "metadata": {},
   "outputs": [],
   "source": [
    "def partition(nums, left, right):\n",
    "    i, j = left, right\n",
    "    while i < j:\n",
    "        while i < j and nums[j] >= nums[left]:\n",
    "            j -= 1\n",
    "        while i < j and nums[i] <= nums[left]:\n",
    "            i += 1\n",
    "        nums[i], nums[j] = nums[j], nums[i]\n",
    "    # NOTE: 这里体现了快排的不稳定性，基准数可能会被交换到相同元素的右侧\n",
    "    nums[i], nums[left] = nums[left], nums[i]\n",
    "    # NOTE: 1. 这里返回 i j 均可；\n",
    "    return i\n",
    "\n",
    "def quick_sort(nums, left, right):\n",
    "    if (left >= right): return\n",
    "    pivot = partition(nums, left, right)\n",
    "    # NOTE: 这里只要保证两端不都是 pivot 就行，如 pivot - 1, pivot\n",
    "    quick_sort(nums, left, pivot - 1)\n",
    "    quick_sort(nums, pivot + 1, right)"
   ]
  },
  {
   "cell_type": "code",
   "execution_count": 28,
   "metadata": {},
   "outputs": [
    {
     "name": "stdout",
     "output_type": "stream",
     "text": [
      "[2, 1, 9, 0, 3, 5, 8, 3, 7, 0]\n",
      "[0, 0, 1, 2, 3, 3, 5, 7, 8, 9]\n"
     ]
    }
   ],
   "source": [
    "import random\n",
    "\n",
    "nums = [random.randint(0, 10) for _ in range(10)]\n",
    "print(nums)\n",
    "quick_sort(nums, 0, len(nums) - 1)\n",
    "print(nums)"
   ]
  },
  {
   "cell_type": "markdown",
   "metadata": {},
   "source": [
    "### 快排的基准数优化"
   ]
  },
  {
   "cell_type": "markdown",
   "metadata": {},
   "source": [
    "我们可以在数组中选取三个候选元素（通常为数组的首、尾、中点元素），并将这三个候选元素的中位数作为基准数。这样一来，基准数“既不太小也不太大”的概率将大幅提升。"
   ]
  },
  {
   "cell_type": "code",
   "execution_count": 39,
   "metadata": {},
   "outputs": [],
   "source": [
    "def median_three(nums: list[int], left: int, mid: int, right: int) -> int:\n",
    "    \"\"\"选取三个元素的中位数\"\"\"\n",
    "    # 此处使用异或运算来简化代码\n",
    "    # 异或规则为 0 ^ 0 = 1 ^ 1 = 0, 0 ^ 1 = 1 ^ 0 = 1\n",
    "    if (nums[left] < nums[mid]) ^ (nums[left] < nums[right]):\n",
    "        return left\n",
    "    elif (nums[mid] < nums[left]) ^ (nums[mid] < nums[right]):\n",
    "        return mid\n",
    "    return right\n",
    "\n",
    "def partition(nums: list[int], left: int, right: int) -> int:\n",
    "    \"\"\"哨兵划分（三数取中值）\"\"\"\n",
    "    # 以 nums[left] 为基准数\n",
    "    med = median_three(nums, left, (left + right) // 2, right)\n",
    "    # 将中位数交换至数组最左端\n",
    "    nums[left], nums[med] = nums[med], nums[left]\n",
    "    # 以 nums[left] 为基准数\n",
    "    i, j = left, right\n",
    "    while i < j:\n",
    "        while i < j and nums[j] >= nums[left]:\n",
    "            j -= 1  # 从右向左找首个小于基准数的元素\n",
    "        while i < j and nums[i] <= nums[left]:\n",
    "            i += 1  # 从左向右找首个大于基准数的元素\n",
    "        # 元素交换\n",
    "        nums[i], nums[j] = nums[j], nums[i]\n",
    "    # 将基准数交换至两子数组的分界线\n",
    "    nums[i], nums[left] = nums[left], nums[i]\n",
    "    return i  # 返回基准数的索引\n",
    "\n",
    "def quick_sort(nums, left, right):\n",
    "    if (left >= right): return\n",
    "    pivot = partition(nums, left, right)\n",
    "    quick_sort(nums, left, pivot - 1)\n",
    "    quick_sort(nums, pivot + 1, right)"
   ]
  },
  {
   "cell_type": "code",
   "execution_count": 116,
   "metadata": {},
   "outputs": [
    {
     "name": "stdout",
     "output_type": "stream",
     "text": [
      "[9, 1, 6, 0, 9, 7, 3, 3, 5, 8]\n",
      "[0, 1, 3, 3, 5, 6, 7, 8, 9, 9]\n"
     ]
    }
   ],
   "source": [
    "import random\n",
    "\n",
    "nums = [random.randint(0, 10) for _ in range(10)]\n",
    "print(nums)\n",
    "quick_sort(nums, 0, len(nums) - 1)\n",
    "print(nums)"
   ]
  },
  {
   "cell_type": "code",
   "execution_count": 113,
   "metadata": {},
   "outputs": [],
   "source": [
    "def median_three(nums, left, mid, right):\n",
    "    # NOTE: 使用异或简化条件判断\n",
    "    if ((nums[left] < nums[mid]) ^ (nums[left] < nums[right])):\n",
    "        return left\n",
    "    if ((nums[right] < nums[mid]) ^ (nums[right] < nums[left])):\n",
    "        return right\n",
    "    return mid\n",
    "\n",
    "def partition(nums, left, right):\n",
    "    # NOTE: 相比于原始快排就是多了两步：找中值，交换到最左边\n",
    "    med = median_three(nums, left, (left + right) // 2, right)\n",
    "    nums[left], nums[med] = nums[med], nums[left]\n",
    "    i, j = left, right\n",
    "    while i < j:\n",
    "        # NOTE: 如果 right 移动在前，则判断可以加 = 可以不加；否则不能加 =；第二个判断一定要加 = \n",
    "        while i < j and nums[j] > nums[left]:\n",
    "            j -= 1\n",
    "        while i < j and nums[i] <= nums[left]:\n",
    "            i += 1\n",
    "        \n",
    "        nums[i], nums[j] = nums[j], nums[i]\n",
    "    nums[i], nums[left] = nums[left], nums[i]\n",
    "    return i\n",
    "\n",
    "def quick_sort(nums, left, right):\n",
    "    if (left >= right): return\n",
    "    pivot = partition(nums, left, right)\n",
    "    quick_sort(nums, left, pivot - 1)\n",
    "    quick_sort(nums, pivot + 1, right)"
   ]
  },
  {
   "cell_type": "markdown",
   "metadata": {},
   "source": [
    "### 尾递归优化"
   ]
  },
  {
   "cell_type": "markdown",
   "metadata": {},
   "source": [
    "在某些输入下，快速排序可能占用空间较多。以完全有序的输入数组为例，设递归中的子数组长度为 m ，每轮哨兵划分操作都将产生长度为 0 的左子数组和长度为 m - 1 的右子数组，这意味着每一层递归调用减少的问题规模非常小（只减少一个元素），递归树的高度会达到 n - 1，此时需要占用 O(n) 大小的栈帧空间。\n",
    "\n",
    "为了防止栈帧空间的累积，我们可以在每轮哨兵排序完成后，比较两个子数组的长度，仅对较短的子数组进行递归。由于较短子数组的长度不会超过 n / 2，因此这种方法能确保递归深度不超过 log n ，从而将最差空间复杂度优化至 O(logn) 。"
   ]
  },
  {
   "cell_type": "code",
   "execution_count": 117,
   "metadata": {},
   "outputs": [],
   "source": [
    "def quick_sort(self, nums: list[int], left: int, right: int):\n",
    "    \"\"\"快速排序（尾递归优化）\"\"\"\n",
    "    # 子数组长度为 1 时终止\n",
    "    while left < right:\n",
    "        # 哨兵划分操作\n",
    "        pivot = self.partition(nums, left, right)\n",
    "        # 对两个子数组中较短的那个执行快速排序\n",
    "        if pivot - left < right - pivot:\n",
    "            self.quick_sort(nums, left, pivot - 1)  # 递归排序左子数组\n",
    "            left = pivot + 1  # 剩余未排序区间为 [pivot + 1, right]\n",
    "        else:\n",
    "            self.quick_sort(nums, pivot + 1, right)  # 递归排序右子数组\n",
    "            right = pivot - 1  # 剩余未排序区间为 [left, pivot - 1]"
   ]
  },
  {
   "cell_type": "markdown",
   "metadata": {},
   "source": [
    "###  快速选择"
   ]
  },
  {
   "cell_type": "markdown",
   "id": "0a35b8a3-77f7-429e-b9f0-62340dce53e9",
   "metadata": {},
   "source": [
    "## 归并排序"
   ]
  },
  {
   "cell_type": "markdown",
   "id": "aee7a0e5-6f12-4a5f-a220-37f096ca3682",
   "metadata": {},
   "source": [
    "「归并排序 merge sort」是一种基于分治策略的排序算法，包含 “划分” 和 “合并” 两个阶段。\n",
    "\n",
    "1. 划分阶段：通过递归不断地将数组从中点处分开，将长数组的排序问题转换为短数组的排序问题。\n",
    "2. 合并阶段：当子数组长度为 1 时终止划分，开始合并，持续地将左右两个较短的有序数组合并为一个较长的有序数组，直至结束。\n",
    "\n",
    "稳定排序：在合并过程中，相等元素的次序保持不变。\n",
    "\n",
    "对于链表，归并排序相较于其他排序算法具有显著优势，可以将链表排序任务的空间复杂度优化至 O(1)。\n",
    "\n",
    "划分阶段：可以使用“迭代”替代“递归”来实现链表划分工作，从而省去递归使用的栈帧空间。\n",
    "合并阶段：在链表中，节点增删操作仅需改变引用（指针）即可实现，因此合并阶段（将两个短有序链表合并为一个长有序链表）无须创建额外链表。"
   ]
  },
  {
   "cell_type": "code",
   "execution_count": 124,
   "id": "a603e8d9",
   "metadata": {},
   "outputs": [],
   "source": [
    "def merge(nums: list[int], left: int, mid: int, right: int):\n",
    "    \"\"\"合并左子数组和右子数组\"\"\"\n",
    "    # 左子数组区间 [left, mid], 右子数组区间 [mid+1, right]\n",
    "    # 创建一个临时数组 tmp ，用于存放合并后的结果\n",
    "    tmp = [0] * (right - left + 1)\n",
    "    # 初始化左子数组和右子数组的起始索引\n",
    "    i, j, k = left, mid + 1, 0\n",
    "    # 当左右子数组都还有元素时，比较并将较小的元素复制到临时数组中\n",
    "    while i <= mid and j <= right:\n",
    "        if nums[i] <= nums[j]:\n",
    "            tmp[k] = nums[i]\n",
    "            i += 1\n",
    "        else:\n",
    "            tmp[k] = nums[j]\n",
    "            j += 1\n",
    "        k += 1\n",
    "    # 将左子数组和右子数组的剩余元素复制到临时数组中\n",
    "    while i <= mid:\n",
    "        tmp[k] = nums[i]\n",
    "        i += 1\n",
    "        k += 1\n",
    "    while j <= right:\n",
    "        tmp[k] = nums[j]\n",
    "        j += 1\n",
    "        k += 1\n",
    "    # 将临时数组 tmp 中的元素复制回原数组 nums 的对应区间\n",
    "    for k in range(0, len(tmp)):\n",
    "        nums[left + k] = tmp[k]\n",
    "\n",
    "def merge_sort(nums: list[int], left: int, right: int):\n",
    "    \"\"\"归并排序\"\"\"\n",
    "    # 终止条件\n",
    "    if left >= right:\n",
    "        return  # 当子数组长度为 1 时终止递归\n",
    "    # 划分阶段\n",
    "    mid = (left + right) // 2  # 计算中点\n",
    "    merge_sort(nums, left, mid)  # 递归左子数组\n",
    "    merge_sort(nums, mid + 1, right)  # 递归右子数组\n",
    "    # 合并阶段\n",
    "    merge(nums, left, mid, right)"
   ]
  },
  {
   "cell_type": "code",
   "execution_count": 132,
   "id": "cd9b81ab",
   "metadata": {},
   "outputs": [
    {
     "name": "stdout",
     "output_type": "stream",
     "text": [
      "[9, 5, 2, 9, 3, 4, 1, 1, 8, 8]\n",
      "[1, 1, 2, 3, 4, 5, 8, 8, 9, 9]\n"
     ]
    }
   ],
   "source": [
    "nums = [random.randint(0, 10) for _ in range(10)]\n",
    "print(nums)\n",
    "merge_sort(nums, 0, len(nums) - 1)\n",
    "print(nums)"
   ]
  },
  {
   "cell_type": "code",
   "execution_count": null,
   "id": "0a67d6a0",
   "metadata": {},
   "outputs": [],
   "source": []
  },
  {
   "cell_type": "code",
   "execution_count": null,
   "id": "19283aa9",
   "metadata": {},
   "outputs": [],
   "source": []
  },
  {
   "cell_type": "code",
   "execution_count": null,
   "id": "7fd39936",
   "metadata": {},
   "outputs": [],
   "source": []
  },
  {
   "cell_type": "code",
   "execution_count": null,
   "id": "e7cf4621",
   "metadata": {},
   "outputs": [],
   "source": []
  },
  {
   "cell_type": "code",
   "execution_count": null,
   "id": "2b1b9547",
   "metadata": {},
   "outputs": [],
   "source": []
  },
  {
   "cell_type": "code",
   "execution_count": null,
   "id": "288159a4",
   "metadata": {},
   "outputs": [],
   "source": []
  },
  {
   "cell_type": "code",
   "execution_count": null,
   "id": "b77c6c4d",
   "metadata": {},
   "outputs": [],
   "source": []
  },
  {
   "cell_type": "code",
   "execution_count": null,
   "id": "b2bba4ac",
   "metadata": {},
   "outputs": [],
   "source": []
  },
  {
   "cell_type": "code",
   "execution_count": null,
   "id": "b3eb31db",
   "metadata": {},
   "outputs": [],
   "source": []
  },
  {
   "cell_type": "code",
   "execution_count": null,
   "id": "16a7218d",
   "metadata": {},
   "outputs": [],
   "source": []
  },
  {
   "cell_type": "code",
   "execution_count": null,
   "id": "0ba08049",
   "metadata": {},
   "outputs": [],
   "source": []
  },
  {
   "cell_type": "code",
   "execution_count": null,
   "id": "f5ce24d1",
   "metadata": {},
   "outputs": [],
   "source": []
  },
  {
   "cell_type": "code",
   "execution_count": null,
   "id": "1b35a633",
   "metadata": {},
   "outputs": [],
   "source": []
  },
  {
   "cell_type": "code",
   "execution_count": null,
   "id": "730c39ed",
   "metadata": {},
   "outputs": [],
   "source": []
  },
  {
   "cell_type": "code",
   "execution_count": null,
   "id": "b75dce49",
   "metadata": {},
   "outputs": [],
   "source": []
  },
  {
   "cell_type": "code",
   "execution_count": null,
   "id": "006cbc67",
   "metadata": {},
   "outputs": [],
   "source": []
  },
  {
   "cell_type": "code",
   "execution_count": null,
   "id": "f46cd025",
   "metadata": {},
   "outputs": [],
   "source": []
  }
 ],
 "metadata": {
  "kernelspec": {
   "display_name": "Python 3 (ipykernel)",
   "language": "python",
   "name": "python3"
  },
  "language_info": {
   "codemirror_mode": {
    "name": "ipython",
    "version": 3
   },
   "file_extension": ".py",
   "mimetype": "text/x-python",
   "name": "python",
   "nbconvert_exporter": "python",
   "pygments_lexer": "ipython3",
   "version": "3.9.7"
  }
 },
 "nbformat": 4,
 "nbformat_minor": 5
}
