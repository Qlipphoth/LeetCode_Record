{
 "cells": [
  {
   "cell_type": "markdown",
   "id": "090694f2-0b03-4c43-b70a-17b1096f9f9e",
   "metadata": {},
   "source": [
    "## 45. 跳跃游戏 Ⅱ"
   ]
  },
  {
   "cell_type": "code",
   "execution_count": 3,
   "id": "f9fba49d-d150-44a3-a3f2-34aca6504d26",
   "metadata": {},
   "outputs": [],
   "source": [
    "from typing import List, Optional\n",
    "from collections import deque, defaultdict, Counter"
   ]
  },
  {
   "cell_type": "code",
   "execution_count": 3,
   "id": "984f8559-bb8f-47d5-a94f-76bf1c7d0265",
   "metadata": {},
   "outputs": [],
   "source": [
    "class Solution:\n",
    "    def jump(self, nums: List[int]) -> int:\n",
    "        n = len(nums)\n",
    "        dp = [(0, nums[0])]\n",
    "        for i in range(1, n):\n",
    "            step = float(\"inf\")\n",
    "            for x, y in dp:\n",
    "                if y >= i: step = min(step, x + 1)\n",
    "            dp.append((step, i + nums[i]))\n",
    "        return dp[-1][0]"
   ]
  },
  {
   "cell_type": "code",
   "execution_count": 6,
   "id": "744a0c37-13c3-46c1-84a9-eac072d47b98",
   "metadata": {},
   "outputs": [],
   "source": [
    "nums = [2,3,0,1,4]"
   ]
  },
  {
   "cell_type": "code",
   "execution_count": 7,
   "id": "a64a730a-9815-4cdc-a099-801a7e56425f",
   "metadata": {},
   "outputs": [
    {
     "data": {
      "text/plain": [
       "2"
      ]
     },
     "execution_count": 7,
     "metadata": {},
     "output_type": "execute_result"
    }
   ],
   "source": [
    "s = Solution()\n",
    "s.jump(nums)"
   ]
  },
  {
   "cell_type": "markdown",
   "id": "63055a20-73cd-4a2b-a3fd-2ed0b4c55877",
   "metadata": {},
   "source": [
    "### $O(n ^ 2)$ 超时"
   ]
  },
  {
   "cell_type": "markdown",
   "id": "6111d187-dc6f-4898-9052-22f6fd7223c0",
   "metadata": {},
   "source": [
    "总感觉可以很轻易优化"
   ]
  },
  {
   "cell_type": "code",
   "execution_count": 23,
   "id": "e447bfa6-bd72-40ed-b979-aa9381929286",
   "metadata": {},
   "outputs": [],
   "source": [
    "class Solution:\n",
    "    def jump(self, nums: List[int]) -> int:\n",
    "        n = len(nums)\n",
    "        dp = [float(\"inf\")] * n\n",
    "        dp[0] = 0\n",
    "        for i in range(n):\n",
    "            print(dp)\n",
    "            up = min(n, i + nums[i] + 1)\n",
    "            for j in range(i + 1, up):\n",
    "                dp[j] = min(dp[j], dp[i] + 1)\n",
    "        return dp[-1]"
   ]
  },
  {
   "cell_type": "code",
   "execution_count": 24,
   "id": "98d4bb7b-a49c-4566-a9ac-d9cdeb060588",
   "metadata": {},
   "outputs": [],
   "source": [
    "nums = [2,3,0,1,4]"
   ]
  },
  {
   "cell_type": "code",
   "execution_count": 25,
   "id": "1298324d-15a4-4c61-a433-f5ca02547346",
   "metadata": {},
   "outputs": [
    {
     "name": "stdout",
     "output_type": "stream",
     "text": [
      "[0, inf, inf, inf, inf]\n",
      "[0, 1, 1, inf, inf]\n",
      "[0, 1, 1, 2, 2]\n",
      "[0, 1, 1, 2, 2]\n",
      "[0, 1, 1, 2, 2]\n"
     ]
    },
    {
     "data": {
      "text/plain": [
       "2"
      ]
     },
     "execution_count": 25,
     "metadata": {},
     "output_type": "execute_result"
    }
   ],
   "source": [
    "s = Solution()\n",
    "s.jump(nums)"
   ]
  },
  {
   "cell_type": "markdown",
   "id": "f1a1a619-cf3e-41cb-9237-0fdd533646d0",
   "metadata": {},
   "source": [
    "这种最坏情况下也是 $O(n ^ 2)$"
   ]
  },
  {
   "cell_type": "code",
   "execution_count": 4,
   "id": "f43e2235-a163-4923-9d9d-940e9796e4f6",
   "metadata": {},
   "outputs": [],
   "source": [
    "class Solution:\n",
    "    def jump(self, nums: List[int]) -> int:\n",
    "        far = step = end = 0\n",
    "        for i in range(len(nums) - 1):\n",
    "            far = max(far, i + nums[i])\n",
    "            if i == end: end, step = far, step + 1\n",
    "        return step"
   ]
  },
  {
   "cell_type": "markdown",
   "id": "269bd9ae-f4ec-42a3-9eea-ecc8cee6f1f2",
   "metadata": {},
   "source": [
    "## 96. 不同的二叉搜索树"
   ]
  },
  {
   "cell_type": "markdown",
   "id": "329c0b0e-9702-4cd2-9464-6902080d392e",
   "metadata": {},
   "source": [
    "### 卡塔兰数"
   ]
  },
  {
   "cell_type": "code",
   "execution_count": 13,
   "id": "1ea6e866-7ffa-4675-8646-76f37bfb108a",
   "metadata": {},
   "outputs": [],
   "source": [
    "class Solution:\n",
    "    def numTrees(self, n: int) -> int:\n",
    "        def dp(x):\n",
    "            if x in memo: return memo[x]\n",
    "            ans = 0\n",
    "            if x & 1: ans += dp(x // 2) * dp(x // 2)\n",
    "            for i in range(x // 2):\n",
    "                ans += 2 * dp(i - 0) * dp(x - i - 1)\n",
    "            memo[x] = ans\n",
    "            return memo[x]\n",
    "        \n",
    "        memo = {0: 1, 1: 1}\n",
    "        return dp(n) "
   ]
  },
  {
   "cell_type": "code",
   "execution_count": 14,
   "id": "3e82bda0-3039-4b9f-8309-88868d8c7075",
   "metadata": {},
   "outputs": [
    {
     "data": {
      "text/plain": [
       "1767263190"
      ]
     },
     "execution_count": 14,
     "metadata": {},
     "output_type": "execute_result"
    }
   ],
   "source": [
    "s = Solution()\n",
    "s.numTrees(19)"
   ]
  },
  {
   "cell_type": "code",
   "execution_count": 15,
   "id": "ce47e309-ab74-4488-9e3a-6980125cc5b5",
   "metadata": {},
   "outputs": [],
   "source": [
    "a = []\n",
    "for i in range(1, 20):\n",
    "    a.append(s.numTrees(i))"
   ]
  },
  {
   "cell_type": "code",
   "execution_count": 16,
   "id": "acd6fef1-5b14-408e-af28-f3546a01a623",
   "metadata": {},
   "outputs": [
    {
     "data": {
      "text/plain": [
       "[1,\n",
       " 2,\n",
       " 5,\n",
       " 14,\n",
       " 42,\n",
       " 132,\n",
       " 429,\n",
       " 1430,\n",
       " 4862,\n",
       " 16796,\n",
       " 58786,\n",
       " 208012,\n",
       " 742900,\n",
       " 2674440,\n",
       " 9694845,\n",
       " 35357670,\n",
       " 129644790,\n",
       " 477638700,\n",
       " 1767263190]"
      ]
     },
     "execution_count": 16,
     "metadata": {},
     "output_type": "execute_result"
    }
   ],
   "source": [
    "a"
   ]
  },
  {
   "cell_type": "markdown",
   "id": "2dbe24c8-21da-40c0-b6a0-a74218e6ffcf",
   "metadata": {
    "tags": []
   },
   "source": [
    "## 95. 不同的二叉搜索树 Ⅱ"
   ]
  },
  {
   "cell_type": "markdown",
   "id": "8c4024ea-4baf-4a5a-ae2b-91392b5821cd",
   "metadata": {},
   "source": [
    "## 221. 最大正方形"
   ]
  },
  {
   "cell_type": "markdown",
   "id": "fb26f068-5842-4c2d-afd7-e67b321d772b",
   "metadata": {},
   "source": [
    "$$dp(i, j) = min(dp(i - 1, j), dp(i, j - 1), dp(i - 1, j - 1)) + 1$$"
   ]
  },
  {
   "cell_type": "code",
   "execution_count": 48,
   "id": "cf175919-b5ef-484e-9dcf-158854cde5e4",
   "metadata": {},
   "outputs": [],
   "source": [
    "from typing import List\n",
    "class Solution:\n",
    "    def maximalSquare(self, matrix: List[List[str]]) -> int:\n",
    "        def dp(i, j):\n",
    "            if i < 0 or j < 0 or matrix[i][j] == \"0\": return 0\n",
    "            if (i, j) in memo: return memo[(i, j)]\n",
    "            memo[(i, j)] = min(dp(i - 1, j), dp(i, j - 1), dp(i - 1, j - 1)) + 1\n",
    "            return memo[(i, j)]\n",
    "        \n",
    "        ans = 0\n",
    "        memo = {}\n",
    "        m, n = len(matrix), len(matrix[0])\n",
    "        for i in range(m):\n",
    "            for j in range(n):\n",
    "                ans = max(ans, dp(i, j))\n",
    "        # print(memo)\n",
    "        return ans"
   ]
  },
  {
   "cell_type": "code",
   "execution_count": 49,
   "id": "9afcf2a7-4b77-4dfb-a3ab-5f575068eb30",
   "metadata": {},
   "outputs": [],
   "source": [
    "matrix = [[\"1\",\"0\",\"1\",\"0\",\"0\"],[\"1\",\"0\",\"1\",\"1\",\"1\"],[\"1\",\"1\",\"1\",\"1\",\"1\"],[\"1\",\"0\",\"0\",\"1\",\"0\"]]"
   ]
  },
  {
   "cell_type": "code",
   "execution_count": 50,
   "id": "4eac2782-1eec-4320-b633-b282922f6a52",
   "metadata": {},
   "outputs": [
    {
     "data": {
      "text/plain": [
       "2"
      ]
     },
     "execution_count": 50,
     "metadata": {},
     "output_type": "execute_result"
    }
   ],
   "source": [
    "s = Solution()\n",
    "s.maximalSquare(matrix)"
   ]
  },
  {
   "cell_type": "markdown",
   "id": "df1245b3-6c18-40df-9df8-283bce1b6fec",
   "metadata": {},
   "source": [
    "## 91. 解码方法"
   ]
  },
  {
   "cell_type": "code",
   "execution_count": 94,
   "id": "c9f51f29-927c-439e-83fe-8d342301bb27",
   "metadata": {},
   "outputs": [],
   "source": [
    "class Solution:\n",
    "    def numDecodings(self, s: str) -> int:\n",
    "        def dfs(idx):\n",
    "            # print(idx)\n",
    "            if idx in memo: return memo[idx]\n",
    "            if idx == n: return 1\n",
    "            if s[idx] == \"0\": return 0\n",
    "            ans = 0\n",
    "            for i in range(idx + 1, n + 1):\n",
    "                if 0 < int(s[idx:i]) <= 26:\n",
    "                     ans += dfs(i)\n",
    "            memo[idx] = ans\n",
    "            return memo[idx]\n",
    "            \n",
    "        memo = {}\n",
    "        n = len(s)\n",
    "        return dfs(0)"
   ]
  },
  {
   "cell_type": "code",
   "execution_count": 101,
   "id": "502b790d-f74a-4e87-a9b0-33cc775c7c6e",
   "metadata": {},
   "outputs": [],
   "source": [
    "s = \"1111111111111111111111111111111111111111111111111111\""
   ]
  },
  {
   "cell_type": "code",
   "execution_count": 102,
   "id": "78e2d451-b54a-4939-b921-84ef4dba4507",
   "metadata": {},
   "outputs": [
    {
     "data": {
      "text/plain": [
       "53316291173"
      ]
     },
     "execution_count": 102,
     "metadata": {},
     "output_type": "execute_result"
    }
   ],
   "source": [
    "S = Solution()\n",
    "S.numDecodings(s)"
   ]
  },
  {
   "cell_type": "code",
   "execution_count": 100,
   "id": "3e767f33-6a00-4a5b-9b8c-f2a547b74f85",
   "metadata": {},
   "outputs": [],
   "source": [
    "class Solution:\n",
    "    def numDecodings(self, s: str) -> int:\n",
    "        n = len(s)\n",
    "        a, b, c = 0, 1, 0\n",
    "        for i in range(n):\n",
    "            # print(a, b, c)\n",
    "            c = 0  # 当前字符的解码方式数量\n",
    "            # 如果当前字符不为 0，则可以对之前的字符解码。再加上这个字符。\n",
    "            if s[i] != \"0\": c += b  \n",
    "            if i > 0 and s[i - 1] != \"0\" and int(s[i - 1:i + 1]) <= 26: c += a\n",
    "            a, b = b, c\n",
    "        return c"
   ]
  },
  {
   "cell_type": "markdown",
   "id": "91ec736f-9ba9-4837-9e87-0f15fcf8513c",
   "metadata": {},
   "source": [
    "## 300. 最长递增子序列"
   ]
  },
  {
   "cell_type": "markdown",
   "id": "95abc7f6-07b9-4e99-807a-4e499c7540ac",
   "metadata": {},
   "source": [
    "定义 $dp[i]$ 为以第 $i$ 个数字为结尾的最长上升子序列的长度。则有：\n",
    "$$dp[i] = max(dp[j]) + 1, 0 <= j < i\\ and\\ nums[j] < nums[i]$$\n",
    "遍历一遍数组后返回 $dp$ 的最大值即为答案。"
   ]
  },
  {
   "cell_type": "code",
   "execution_count": 8,
   "id": "721e5339-592f-4bee-82ba-202fcce04fd9",
   "metadata": {},
   "outputs": [],
   "source": [
    "from typing import List\n",
    "class Solution:\n",
    "    def lengthOfLIS(self, nums: List[int]) -> int:\n",
    "        n = len(nums)\n",
    "        dp = [1] * n\n",
    "        for i in range(n):\n",
    "            cur = nums[i]\n",
    "            for j in range(i):\n",
    "                if nums[j] < cur:\n",
    "                    dp[i] = max(dp[i], dp[j] + 1)\n",
    "        return max(dp)"
   ]
  },
  {
   "cell_type": "code",
   "execution_count": 9,
   "id": "ba408c08-a53c-44e1-a11f-c460fd15afec",
   "metadata": {},
   "outputs": [],
   "source": [
    "nums = [0,1,0,3,2,3]"
   ]
  },
  {
   "cell_type": "code",
   "execution_count": 10,
   "id": "6ba748df-4433-4de3-8718-568a70d01d0f",
   "metadata": {},
   "outputs": [
    {
     "data": {
      "text/plain": [
       "4"
      ]
     },
     "execution_count": 10,
     "metadata": {},
     "output_type": "execute_result"
    }
   ],
   "source": [
    "s = Solution()\n",
    "s.lengthOfLIS(nums)"
   ]
  },
  {
   "cell_type": "code",
   "execution_count": null,
   "id": "9eb2de92-7a2f-4e28-8504-7c2a4720f984",
   "metadata": {},
   "outputs": [],
   "source": []
  },
  {
   "cell_type": "code",
   "execution_count": null,
   "id": "94e08496-ab1b-401c-8d4e-6d9385abf940",
   "metadata": {},
   "outputs": [],
   "source": []
  },
  {
   "cell_type": "code",
   "execution_count": null,
   "id": "44358a4f-f9de-4fd8-bd00-d039a003b92c",
   "metadata": {},
   "outputs": [],
   "source": []
  },
  {
   "cell_type": "code",
   "execution_count": null,
   "id": "599634b9-0933-4273-be32-c1538f3bc171",
   "metadata": {},
   "outputs": [],
   "source": []
  },
  {
   "cell_type": "code",
   "execution_count": null,
   "id": "dbe5c849-177b-4254-bb49-75ec58fc486c",
   "metadata": {},
   "outputs": [],
   "source": []
  },
  {
   "cell_type": "code",
   "execution_count": null,
   "id": "c2955e88-bb0b-4974-acec-5b308a9a0e2b",
   "metadata": {},
   "outputs": [],
   "source": []
  },
  {
   "cell_type": "code",
   "execution_count": null,
   "id": "65b0d317-0cd1-464d-867d-2c7abe5eff0e",
   "metadata": {},
   "outputs": [],
   "source": []
  },
  {
   "cell_type": "code",
   "execution_count": null,
   "id": "376babac-0d04-4862-acc5-33747167c5c8",
   "metadata": {},
   "outputs": [],
   "source": []
  },
  {
   "cell_type": "code",
   "execution_count": null,
   "id": "8719f802-58e5-4170-a8aa-9e10e6368fd9",
   "metadata": {},
   "outputs": [],
   "source": []
  },
  {
   "cell_type": "code",
   "execution_count": null,
   "id": "be21ad41-4531-4baf-834d-a1305b10fe42",
   "metadata": {},
   "outputs": [],
   "source": []
  },
  {
   "cell_type": "code",
   "execution_count": null,
   "id": "9ad78104-ccc8-43c9-b6ce-703f78d55278",
   "metadata": {},
   "outputs": [],
   "source": []
  },
  {
   "cell_type": "code",
   "execution_count": null,
   "id": "90b025c6-26fb-438c-9cdc-a2634687a808",
   "metadata": {},
   "outputs": [],
   "source": []
  },
  {
   "cell_type": "code",
   "execution_count": null,
   "id": "bc1648c5-4087-4224-a3aa-47b992039d52",
   "metadata": {},
   "outputs": [],
   "source": []
  },
  {
   "cell_type": "code",
   "execution_count": null,
   "id": "9533e216-ec80-4f48-adb0-19ee449755a3",
   "metadata": {},
   "outputs": [],
   "source": []
  },
  {
   "cell_type": "code",
   "execution_count": null,
   "id": "203df78d-7687-415d-b5d7-47a3492e39bc",
   "metadata": {},
   "outputs": [],
   "source": []
  },
  {
   "cell_type": "code",
   "execution_count": null,
   "id": "4e4c6d4f-b868-44f6-bf58-dd54791274be",
   "metadata": {},
   "outputs": [],
   "source": []
  },
  {
   "cell_type": "code",
   "execution_count": null,
   "id": "0b19f7b6-feaf-4432-a1ed-d71d75d7c287",
   "metadata": {},
   "outputs": [],
   "source": []
  },
  {
   "cell_type": "code",
   "execution_count": null,
   "id": "79b5fdcc-a3c0-4662-8754-97300cb25c42",
   "metadata": {},
   "outputs": [],
   "source": []
  },
  {
   "cell_type": "code",
   "execution_count": null,
   "id": "c68558db-ea74-44bb-82ba-46666f667edf",
   "metadata": {},
   "outputs": [],
   "source": []
  },
  {
   "cell_type": "code",
   "execution_count": null,
   "id": "c96a972c-140c-49e6-b6b2-eeb86dbe7ce1",
   "metadata": {},
   "outputs": [],
   "source": []
  },
  {
   "cell_type": "code",
   "execution_count": null,
   "id": "091201a4-3c0f-4f4b-b52f-2b4fc1f21829",
   "metadata": {},
   "outputs": [],
   "source": []
  },
  {
   "cell_type": "code",
   "execution_count": null,
   "id": "5cdc19b6-6ffb-4d66-b6ee-4b3f80c3ad6b",
   "metadata": {},
   "outputs": [],
   "source": []
  },
  {
   "cell_type": "code",
   "execution_count": null,
   "id": "a99a3241-9601-4e74-b100-aa45fa2c9b09",
   "metadata": {},
   "outputs": [],
   "source": []
  },
  {
   "cell_type": "code",
   "execution_count": null,
   "id": "8e65aae0-29c1-49af-99c0-e995e8047cca",
   "metadata": {},
   "outputs": [],
   "source": []
  },
  {
   "cell_type": "code",
   "execution_count": null,
   "id": "d4431dc0-0c07-4d6e-9e45-8b8e4028eef3",
   "metadata": {},
   "outputs": [],
   "source": []
  },
  {
   "cell_type": "code",
   "execution_count": null,
   "id": "196cf987-6a20-4475-98e3-7ce4a0f770d8",
   "metadata": {},
   "outputs": [],
   "source": []
  },
  {
   "cell_type": "code",
   "execution_count": null,
   "id": "eb51e18b-c8a3-41d0-b5af-d8e664c623ad",
   "metadata": {},
   "outputs": [],
   "source": []
  },
  {
   "cell_type": "code",
   "execution_count": null,
   "id": "2c9f7c98-8e05-4b06-a6b9-095b74657737",
   "metadata": {},
   "outputs": [],
   "source": []
  },
  {
   "cell_type": "code",
   "execution_count": null,
   "id": "f1452c44-c824-48b2-971b-8a4a1c7e40f6",
   "metadata": {},
   "outputs": [],
   "source": []
  },
  {
   "cell_type": "code",
   "execution_count": null,
   "id": "58dcfa4f-dbab-45a3-a7cb-b208f9151a4c",
   "metadata": {},
   "outputs": [],
   "source": []
  },
  {
   "cell_type": "code",
   "execution_count": null,
   "id": "effe8860-e3b7-4057-959e-9770b3d1fa82",
   "metadata": {},
   "outputs": [],
   "source": []
  },
  {
   "cell_type": "code",
   "execution_count": null,
   "id": "b11c86c0-6ddc-4f19-b29b-b293e840e8a0",
   "metadata": {},
   "outputs": [],
   "source": []
  },
  {
   "cell_type": "code",
   "execution_count": null,
   "id": "61343b32-c273-4a52-b0d8-861c614eae11",
   "metadata": {},
   "outputs": [],
   "source": []
  },
  {
   "cell_type": "code",
   "execution_count": null,
   "id": "502de9a0-aaf9-40fd-9f58-272de0523b49",
   "metadata": {},
   "outputs": [],
   "source": []
  },
  {
   "cell_type": "code",
   "execution_count": null,
   "id": "29946735-ceff-479a-8a8b-cd1f2f31b6b8",
   "metadata": {},
   "outputs": [],
   "source": []
  },
  {
   "cell_type": "code",
   "execution_count": null,
   "id": "1dbf5ee5-5fb6-49c3-b1f9-4d643313efe0",
   "metadata": {},
   "outputs": [],
   "source": []
  },
  {
   "cell_type": "code",
   "execution_count": null,
   "id": "618af55e-f383-4e66-8c90-99c3a4759cd5",
   "metadata": {},
   "outputs": [],
   "source": []
  },
  {
   "cell_type": "code",
   "execution_count": null,
   "id": "ccd8f549-a421-402a-be7f-2b44766f9de4",
   "metadata": {},
   "outputs": [],
   "source": []
  },
  {
   "cell_type": "code",
   "execution_count": null,
   "id": "88542372-e406-4bd6-9f96-c84a1811d177",
   "metadata": {},
   "outputs": [],
   "source": []
  },
  {
   "cell_type": "code",
   "execution_count": null,
   "id": "035c613e-281c-408e-874b-094bead7e56c",
   "metadata": {},
   "outputs": [],
   "source": []
  },
  {
   "cell_type": "code",
   "execution_count": null,
   "id": "55a65a52-9785-467c-a0a2-3e5f77033097",
   "metadata": {},
   "outputs": [],
   "source": []
  },
  {
   "cell_type": "code",
   "execution_count": null,
   "id": "9bed7e8a-2064-471e-a49a-f897735d1372",
   "metadata": {},
   "outputs": [],
   "source": []
  },
  {
   "cell_type": "code",
   "execution_count": null,
   "id": "9bca249e-51c1-4c38-a12c-afc67aeb4c39",
   "metadata": {},
   "outputs": [],
   "source": []
  },
  {
   "cell_type": "code",
   "execution_count": null,
   "id": "108569de-56d1-4eeb-8daf-9f829e86baf4",
   "metadata": {},
   "outputs": [],
   "source": []
  },
  {
   "cell_type": "code",
   "execution_count": null,
   "id": "70e78751-c3ec-48ca-ac64-1af8ebf04468",
   "metadata": {},
   "outputs": [],
   "source": []
  },
  {
   "cell_type": "code",
   "execution_count": null,
   "id": "634b3857-d91f-4140-9f2c-5236034caead",
   "metadata": {},
   "outputs": [],
   "source": []
  },
  {
   "cell_type": "code",
   "execution_count": null,
   "id": "9e469f31-2bdf-4a49-b16c-8fd828d80e04",
   "metadata": {},
   "outputs": [],
   "source": []
  },
  {
   "cell_type": "code",
   "execution_count": null,
   "id": "794e1963-54aa-4665-b9c3-ea47f7302bcd",
   "metadata": {},
   "outputs": [],
   "source": []
  },
  {
   "cell_type": "code",
   "execution_count": null,
   "id": "e29908eb-9cb5-4f7e-a55f-38b6da2d09ee",
   "metadata": {},
   "outputs": [],
   "source": []
  },
  {
   "cell_type": "code",
   "execution_count": null,
   "id": "cd185c95-3b2a-4670-9fc1-55b2d00a618f",
   "metadata": {},
   "outputs": [],
   "source": []
  },
  {
   "cell_type": "code",
   "execution_count": null,
   "id": "f5f251f4-75c5-49c2-8e22-f9e4516dbd5c",
   "metadata": {},
   "outputs": [],
   "source": []
  },
  {
   "cell_type": "code",
   "execution_count": null,
   "id": "203ba1a6-5111-446a-aef6-24d58ed9ec02",
   "metadata": {},
   "outputs": [],
   "source": []
  },
  {
   "cell_type": "code",
   "execution_count": null,
   "id": "29273867-c136-4ea0-b90c-35e7c30f620c",
   "metadata": {},
   "outputs": [],
   "source": []
  },
  {
   "cell_type": "code",
   "execution_count": null,
   "id": "a9746ca7-f301-4692-af9d-c55b44026f3e",
   "metadata": {},
   "outputs": [],
   "source": []
  },
  {
   "cell_type": "code",
   "execution_count": null,
   "id": "55c78c99-f19a-4642-a72b-9789f70269af",
   "metadata": {},
   "outputs": [],
   "source": []
  },
  {
   "cell_type": "code",
   "execution_count": null,
   "id": "dfde3d8c-6117-4118-a2fe-9933044f2e50",
   "metadata": {},
   "outputs": [],
   "source": []
  },
  {
   "cell_type": "code",
   "execution_count": null,
   "id": "2bb96944-c873-4bf7-a2f7-4771116d5d98",
   "metadata": {},
   "outputs": [],
   "source": []
  },
  {
   "cell_type": "code",
   "execution_count": null,
   "id": "d79d4d8a-3198-447a-a666-530801b2e2a0",
   "metadata": {},
   "outputs": [],
   "source": []
  },
  {
   "cell_type": "code",
   "execution_count": null,
   "id": "eec66e81-d942-4da9-85ca-8be1082c058d",
   "metadata": {},
   "outputs": [],
   "source": []
  },
  {
   "cell_type": "code",
   "execution_count": null,
   "id": "15b081c1-6608-4e3f-b236-552c1a5ade78",
   "metadata": {},
   "outputs": [],
   "source": []
  },
  {
   "cell_type": "code",
   "execution_count": null,
   "id": "54e29a67-a330-40e6-b313-36557b0fa4c0",
   "metadata": {},
   "outputs": [],
   "source": []
  },
  {
   "cell_type": "code",
   "execution_count": null,
   "id": "73561c16-7a5d-4095-9be2-3a18374529bf",
   "metadata": {},
   "outputs": [],
   "source": []
  },
  {
   "cell_type": "code",
   "execution_count": null,
   "id": "2564bf9d-0eca-4910-bd2c-50060b61bb6a",
   "metadata": {},
   "outputs": [],
   "source": []
  },
  {
   "cell_type": "code",
   "execution_count": null,
   "id": "a35b3bb4-4ab6-45ce-a43b-fbf890a5379d",
   "metadata": {},
   "outputs": [],
   "source": []
  },
  {
   "cell_type": "code",
   "execution_count": null,
   "id": "dd6360b1-50f3-448a-bb78-b5d0b3b46c2a",
   "metadata": {},
   "outputs": [],
   "source": []
  },
  {
   "cell_type": "code",
   "execution_count": null,
   "id": "14f62b13-b1ef-4eeb-b791-5528f0bb606b",
   "metadata": {},
   "outputs": [],
   "source": []
  },
  {
   "cell_type": "code",
   "execution_count": null,
   "id": "d01f504e-ffc3-4c49-a3ed-0cc47ba30390",
   "metadata": {},
   "outputs": [],
   "source": []
  },
  {
   "cell_type": "code",
   "execution_count": null,
   "id": "cef61312-b424-429e-a317-a7b49eb2e48d",
   "metadata": {},
   "outputs": [],
   "source": []
  },
  {
   "cell_type": "code",
   "execution_count": null,
   "id": "34e94f56-6a84-4ebd-8f28-c8441c3d9128",
   "metadata": {},
   "outputs": [],
   "source": []
  },
  {
   "cell_type": "code",
   "execution_count": null,
   "id": "8b43a5bb-f0b0-4d4a-a1f2-d15dc595d7e9",
   "metadata": {},
   "outputs": [],
   "source": []
  },
  {
   "cell_type": "code",
   "execution_count": null,
   "id": "0633b9bf-7e9d-4614-b172-3beb58299c18",
   "metadata": {},
   "outputs": [],
   "source": []
  },
  {
   "cell_type": "code",
   "execution_count": null,
   "id": "ee3aed2b-cc90-4838-bbb7-1cc0698877b8",
   "metadata": {},
   "outputs": [],
   "source": []
  },
  {
   "cell_type": "code",
   "execution_count": null,
   "id": "ca4aced2-7127-4bf2-90b8-ead0beb2c79d",
   "metadata": {},
   "outputs": [],
   "source": []
  },
  {
   "cell_type": "code",
   "execution_count": null,
   "id": "b2fd8b00-df4b-4b3a-a23a-ed1a08247326",
   "metadata": {},
   "outputs": [],
   "source": []
  },
  {
   "cell_type": "code",
   "execution_count": null,
   "id": "0ccb53ed-0208-4f41-8a2a-3689d0306a1d",
   "metadata": {},
   "outputs": [],
   "source": []
  },
  {
   "cell_type": "code",
   "execution_count": null,
   "id": "194d4e7f-02d3-4c03-86a5-428e807a34af",
   "metadata": {},
   "outputs": [],
   "source": []
  },
  {
   "cell_type": "code",
   "execution_count": null,
   "id": "ff3eea36-2471-4ee7-83cb-272314ce6d49",
   "metadata": {},
   "outputs": [],
   "source": []
  },
  {
   "cell_type": "code",
   "execution_count": null,
   "id": "dfbe2187-bd9c-41e7-9193-b1b317527a99",
   "metadata": {},
   "outputs": [],
   "source": []
  },
  {
   "cell_type": "code",
   "execution_count": null,
   "id": "e98d445f-ec2f-4755-9497-72bacdec56c7",
   "metadata": {},
   "outputs": [],
   "source": []
  },
  {
   "cell_type": "code",
   "execution_count": null,
   "id": "911eb815-c8f7-48d5-8cd3-675f645634e1",
   "metadata": {},
   "outputs": [],
   "source": []
  },
  {
   "cell_type": "code",
   "execution_count": null,
   "id": "88ce67b7-babd-4449-b65f-07ff944c8b0f",
   "metadata": {},
   "outputs": [],
   "source": []
  },
  {
   "cell_type": "code",
   "execution_count": null,
   "id": "97c7118e-e3a4-4b38-abf8-0d6e49e47b07",
   "metadata": {},
   "outputs": [],
   "source": []
  },
  {
   "cell_type": "code",
   "execution_count": null,
   "id": "d91b46a6-ccb7-4ac7-9fca-18e267516a72",
   "metadata": {},
   "outputs": [],
   "source": []
  },
  {
   "cell_type": "code",
   "execution_count": null,
   "id": "760f8fe6-bd4a-423c-b60d-cf113673decb",
   "metadata": {},
   "outputs": [],
   "source": []
  },
  {
   "cell_type": "code",
   "execution_count": null,
   "id": "a9629559-c56b-4a60-ac0d-f1171b903083",
   "metadata": {},
   "outputs": [],
   "source": []
  },
  {
   "cell_type": "code",
   "execution_count": null,
   "id": "e1557a98-6587-499b-b486-1fdb16e96096",
   "metadata": {},
   "outputs": [],
   "source": []
  },
  {
   "cell_type": "code",
   "execution_count": null,
   "id": "1b7f4b22-9799-4e68-9023-462a639207e9",
   "metadata": {},
   "outputs": [],
   "source": []
  },
  {
   "cell_type": "code",
   "execution_count": null,
   "id": "1261bc25-db80-4fb2-adf8-1072686c92b8",
   "metadata": {},
   "outputs": [],
   "source": []
  },
  {
   "cell_type": "code",
   "execution_count": null,
   "id": "6dd0834f-1139-45c1-8ca8-e53f7011b141",
   "metadata": {},
   "outputs": [],
   "source": []
  },
  {
   "cell_type": "code",
   "execution_count": null,
   "id": "e16f77e5-6c77-4e9f-b9c7-e2f29d8c4086",
   "metadata": {},
   "outputs": [],
   "source": []
  },
  {
   "cell_type": "code",
   "execution_count": null,
   "id": "1aaca820-f44b-4569-bca3-8166b0d9e003",
   "metadata": {},
   "outputs": [],
   "source": []
  },
  {
   "cell_type": "code",
   "execution_count": null,
   "id": "fa015e07-17f6-4c31-8600-1a41f2e1aa8c",
   "metadata": {},
   "outputs": [],
   "source": []
  },
  {
   "cell_type": "code",
   "execution_count": null,
   "id": "eb52b5f2-4b61-427d-9e12-616458429669",
   "metadata": {},
   "outputs": [],
   "source": []
  },
  {
   "cell_type": "code",
   "execution_count": null,
   "id": "9cd22864-9872-41da-b23c-6a7e2612cdfa",
   "metadata": {},
   "outputs": [],
   "source": []
  },
  {
   "cell_type": "code",
   "execution_count": null,
   "id": "b0e7719f-8d00-4639-9679-bba5c0e6eef8",
   "metadata": {},
   "outputs": [],
   "source": []
  },
  {
   "cell_type": "code",
   "execution_count": null,
   "id": "9ac3af0d-ec1f-42f4-a3d6-c113efb85012",
   "metadata": {},
   "outputs": [],
   "source": []
  },
  {
   "cell_type": "code",
   "execution_count": null,
   "id": "6d3c7f5a-9c0a-470e-864d-4e5f40b4fcc5",
   "metadata": {},
   "outputs": [],
   "source": []
  },
  {
   "cell_type": "code",
   "execution_count": null,
   "id": "2b4d2b5c-b1fc-45e5-a5c8-8f1a0f9138bc",
   "metadata": {},
   "outputs": [],
   "source": []
  },
  {
   "cell_type": "code",
   "execution_count": null,
   "id": "c7be02e2-66a5-4368-9753-6415772bffd4",
   "metadata": {},
   "outputs": [],
   "source": []
  },
  {
   "cell_type": "code",
   "execution_count": null,
   "id": "80188f8e-86a9-4f06-9f26-75abbda4884c",
   "metadata": {},
   "outputs": [],
   "source": []
  },
  {
   "cell_type": "code",
   "execution_count": null,
   "id": "5acb6586-1d5e-4b0b-b98b-5abb1152c0af",
   "metadata": {},
   "outputs": [],
   "source": []
  },
  {
   "cell_type": "code",
   "execution_count": null,
   "id": "707babf0-5b41-4de7-9cd9-8206997b067f",
   "metadata": {},
   "outputs": [],
   "source": []
  }
 ],
 "metadata": {
  "kernelspec": {
   "display_name": "Python 3 (ipykernel)",
   "language": "python",
   "name": "python3"
  },
  "language_info": {
   "codemirror_mode": {
    "name": "ipython",
    "version": 3
   },
   "file_extension": ".py",
   "mimetype": "text/x-python",
   "name": "python",
   "nbconvert_exporter": "python",
   "pygments_lexer": "ipython3",
   "version": "3.6.3"
  }
 },
 "nbformat": 4,
 "nbformat_minor": 5
}
