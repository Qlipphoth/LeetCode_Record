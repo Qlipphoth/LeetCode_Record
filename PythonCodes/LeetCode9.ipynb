{
 "cells": [
  {
   "cell_type": "code",
   "execution_count": 1,
   "id": "6653ec9d-a3f2-4be0-9d2c-483fd6509d3b",
   "metadata": {},
   "outputs": [],
   "source": [
    "import modules\n",
    "from typing import List, Optional"
   ]
  },
  {
   "cell_type": "markdown",
   "id": "f01b415c-2fdc-4b5d-b909-0b9d7fbfcad6",
   "metadata": {},
   "source": [
    "## 1652. 拆炸弹(9.24)"
   ]
  },
  {
   "cell_type": "code",
   "execution_count": 27,
   "id": "91ceec93-7510-49be-822d-3c6e99e49206",
   "metadata": {},
   "outputs": [],
   "source": [
    "class Solution:\n",
    "    def decrypt(self, code: List[int], k: int) -> List[int]:\n",
    "        res = [0] * len(code)\n",
    "        if k > 0:\n",
    "            for i, n in enumerate(code):\n",
    "                cur = 0\n",
    "                for j in range(k):\n",
    "                    cur +=  code[(i+1+j)%len(code)]\n",
    "                res[i] = cur\n",
    "        if k < 0:\n",
    "            for i in range(len(code)):\n",
    "                cur = 0\n",
    "                for j in range(-k):\n",
    "                    cur += code[i-1-j]\n",
    "                res[i] = cur\n",
    "        return res"
   ]
  },
  {
   "cell_type": "code",
   "execution_count": 55,
   "id": "3ad5680e-9049-46cd-b083-86301cfa2fd4",
   "metadata": {},
   "outputs": [],
   "source": [
    "code = [5,7,1,4]\n",
    "k = 0"
   ]
  },
  {
   "cell_type": "code",
   "execution_count": 56,
   "id": "cc27ef9f-6c06-4ba8-a9f6-afdd08f57ed4",
   "metadata": {},
   "outputs": [
    {
     "data": {
      "text/plain": [
       "[0, 0, 0, 0]"
      ]
     },
     "execution_count": 56,
     "metadata": {},
     "output_type": "execute_result"
    }
   ],
   "source": [
    "s = Solution()\n",
    "s.decrypt(code, k)"
   ]
  },
  {
   "cell_type": "markdown",
   "id": "87dfdb94-4510-4f78-8150-97d0fb71fbac",
   "metadata": {},
   "source": [
    "o(n^2)复杂度"
   ]
  },
  {
   "cell_type": "code",
   "execution_count": 50,
   "id": "ee089c60-e366-4ffa-b325-377be8ce3a77",
   "metadata": {},
   "outputs": [],
   "source": [
    "# 滑窗\n",
    "class Solution:\n",
    "    def decrypt(self, code: List[int], k: int) -> List[int]:\n",
    "        n = len(code)\n",
    "        res = [0] * n\n",
    "        if k > 0:\n",
    "            cur = sum(code[1:k+1])\n",
    "            for i in range(n):\n",
    "                res[i] = cur\n",
    "                cur += code[(k+1+i)%n] - code[(i+1)%n]\n",
    "        if k < 0:\n",
    "            cur = sum(code[k:-1]) + code[-1]\n",
    "            for i in range(n):\n",
    "                res[i] = cur\n",
    "                cur += code[i] - code[k+i]\n",
    "        return res"
   ]
  },
  {
   "cell_type": "markdown",
   "id": "41c262ea-98f9-4f01-802d-14ac9033ce5b",
   "metadata": {},
   "source": [
    "slide win o(n)"
   ]
  },
  {
   "cell_type": "markdown",
   "id": "83ff9a6e-255c-45c6-a459-c1300ab63962",
   "metadata": {
    "tags": []
   },
   "source": [
    "## 707. 设计链表"
   ]
  },
  {
   "cell_type": "code",
   "execution_count": 35,
   "id": "46ab2740-33f8-46b2-98d8-253021578f84",
   "metadata": {},
   "outputs": [],
   "source": [
    "def TraversalList(head: List):\n",
    "    res = []\n",
    "    cur = head\n",
    "    while cur:\n",
    "        res.append(cur.val)\n",
    "        cur = cur.next\n",
    "    return res"
   ]
  },
  {
   "cell_type": "code",
   "execution_count": 52,
   "id": "d4c661c8-effa-4bba-a585-7dd4f94bab8c",
   "metadata": {},
   "outputs": [],
   "source": [
    "class ListNode:\n",
    "    def __init__(self,val = 0, next = None):\n",
    "        self.val = val\n",
    "        self.next = next\n",
    "        \n",
    "\n",
    "class MyLinkedList:\n",
    "\n",
    "    def __init__(self):\n",
    "        self.head = ListNode()\n",
    "        self.tail = None\n",
    "        self.len = 0\n",
    "        \n",
    "    def get(self, index: int) -> int:\n",
    "        if index >= self.len: return -1\n",
    "        cur = self.head.next\n",
    "        for i in range(index):\n",
    "            cur = cur.next\n",
    "        return cur.val\n",
    "    \n",
    "    def addAtHead(self, val: int) -> None:\n",
    "        cur = ListNode(val = val)\n",
    "        if not self.head.next:\n",
    "            self.head.next = cur\n",
    "            self.tail = cur\n",
    "        else:\n",
    "            cur.next = self.head.next\n",
    "            self.head.next = cur\n",
    "        self.len += 1\n",
    "\n",
    "    def addAtTail(self, val: int) -> None:\n",
    "        if not self.len:\n",
    "            cur = ListNode(val = val)\n",
    "            self.head.next = cur\n",
    "            self.tail = cur\n",
    "        else:\n",
    "            cur = ListNode(val = val)\n",
    "            self.tail.next = cur\n",
    "            self.tail = cur\n",
    "        self.len += 1\n",
    "        \n",
    "    def addAtIndex(self, index: int, val: int) -> None:\n",
    "        if index > self.len: return\n",
    "        cur = ListNode(val = val)\n",
    "        if index == self.len:\n",
    "            if not self.tail: self.head.next = cur\n",
    "            else: self.tail.next = cur\n",
    "            self.tail = cur\n",
    "        elif index <= 0:\n",
    "            cur.next = self.head.next\n",
    "            self.head.next = cur\n",
    "        else:\n",
    "            node = self.head\n",
    "            for i in range(index):\n",
    "                node = node.next\n",
    "            cur.next = node.next\n",
    "            node.next = cur\n",
    "        self.len += 1\n",
    "\n",
    "    def deleteAtIndex(self, index: int) -> None:\n",
    "        if index < 0 or index >= self.len: return\n",
    "        elif index == 0:\n",
    "            self.head.next = self.head.next.next\n",
    "        elif index == self.len - 1:\n",
    "            cur = self.head\n",
    "            while cur.next != self.tail:\n",
    "                cur = cur.next\n",
    "            self.tail = cur\n",
    "        else:\n",
    "            cur = self.head\n",
    "            for i in range(index):\n",
    "                cur = cur.next\n",
    "            cur.next = cur.next.next\n",
    "        self.len -= 1\n",
    "        \n",
    "        "
   ]
  },
  {
   "cell_type": "code",
   "execution_count": 37,
   "id": "07daefe2-06ee-46f7-9230-e54206213fa9",
   "metadata": {},
   "outputs": [],
   "source": [
    "m = MyLinkedList()"
   ]
  },
  {
   "cell_type": "code",
   "execution_count": 38,
   "id": "d87abdb6-b81a-4784-9b29-30d90fe20b65",
   "metadata": {},
   "outputs": [
    {
     "data": {
      "text/plain": [
       "1"
      ]
     },
     "execution_count": 38,
     "metadata": {},
     "output_type": "execute_result"
    }
   ],
   "source": [
    "m.addAtHead(1)\n",
    "m.len"
   ]
  },
  {
   "cell_type": "code",
   "execution_count": 39,
   "id": "eeebee5d-02f2-45bb-9f45-42dcc3bbf8ff",
   "metadata": {},
   "outputs": [
    {
     "data": {
      "text/plain": [
       "[0, 1]"
      ]
     },
     "execution_count": 39,
     "metadata": {},
     "output_type": "execute_result"
    }
   ],
   "source": [
    "TraversalList(m.head)"
   ]
  },
  {
   "cell_type": "code",
   "execution_count": 40,
   "id": "4f05b605-b65c-4cb8-964b-ee7503e27051",
   "metadata": {},
   "outputs": [],
   "source": [
    "m.addAtTail(3)"
   ]
  },
  {
   "cell_type": "code",
   "execution_count": 42,
   "id": "5fc76575-e967-4bb8-a387-8b33bae6e5c7",
   "metadata": {},
   "outputs": [
    {
     "data": {
      "text/plain": [
       "[0, 1, 3]"
      ]
     },
     "execution_count": 42,
     "metadata": {},
     "output_type": "execute_result"
    }
   ],
   "source": [
    "TraversalList(m.head)"
   ]
  },
  {
   "cell_type": "code",
   "execution_count": 43,
   "id": "9df728dc-5914-47ee-b46a-bd06704a7009",
   "metadata": {},
   "outputs": [],
   "source": [
    "m.addAtIndex(1,2)"
   ]
  },
  {
   "cell_type": "code",
   "execution_count": 44,
   "id": "c4d6ff5e-e423-4e9f-bd08-e793e40fb9f3",
   "metadata": {},
   "outputs": [
    {
     "data": {
      "text/plain": [
       "[0, 1, 2, 3]"
      ]
     },
     "execution_count": 44,
     "metadata": {},
     "output_type": "execute_result"
    }
   ],
   "source": [
    "TraversalList(m.head)"
   ]
  },
  {
   "cell_type": "code",
   "execution_count": 45,
   "id": "20dc6e66-7f7d-427a-a129-2bd06fd7d160",
   "metadata": {},
   "outputs": [
    {
     "data": {
      "text/plain": [
       "2"
      ]
     },
     "execution_count": 45,
     "metadata": {},
     "output_type": "execute_result"
    }
   ],
   "source": [
    "m.get(1)"
   ]
  },
  {
   "cell_type": "code",
   "execution_count": 46,
   "id": "6efbb237-453b-43da-b954-ea391afdf606",
   "metadata": {},
   "outputs": [],
   "source": [
    "m.deleteAtIndex(1)"
   ]
  },
  {
   "cell_type": "code",
   "execution_count": 47,
   "id": "d5a91c7e-7caf-4182-9cd7-e4911b6150eb",
   "metadata": {},
   "outputs": [
    {
     "data": {
      "text/plain": [
       "[0, 1, 3]"
      ]
     },
     "execution_count": 47,
     "metadata": {},
     "output_type": "execute_result"
    }
   ],
   "source": [
    "TraversalList(m.head)"
   ]
  },
  {
   "cell_type": "code",
   "execution_count": 48,
   "id": "63c855e6-5176-4ab1-9554-c4f2ef5e78dd",
   "metadata": {},
   "outputs": [
    {
     "data": {
      "text/plain": [
       "3"
      ]
     },
     "execution_count": 48,
     "metadata": {},
     "output_type": "execute_result"
    }
   ],
   "source": [
    "m.get(1)"
   ]
  },
  {
   "cell_type": "code",
   "execution_count": 53,
   "id": "70161cef-1e9b-444d-9947-2f79ffe1db41",
   "metadata": {},
   "outputs": [],
   "source": [
    "m = MyLinkedList()"
   ]
  },
  {
   "cell_type": "code",
   "execution_count": 54,
   "id": "a89c4426-19ef-4b83-8ca3-a951c0bc37e9",
   "metadata": {},
   "outputs": [],
   "source": [
    "m.addAtHead(1)"
   ]
  },
  {
   "cell_type": "code",
   "execution_count": 55,
   "id": "9a2b240b-9a0a-4c10-96eb-01680fe489a0",
   "metadata": {},
   "outputs": [
    {
     "data": {
      "text/plain": [
       "[0, 1]"
      ]
     },
     "execution_count": 55,
     "metadata": {},
     "output_type": "execute_result"
    }
   ],
   "source": [
    "TraversalList(m.head)"
   ]
  },
  {
   "cell_type": "code",
   "execution_count": 56,
   "id": "050e5848-39c9-4c82-bc31-9a253624172e",
   "metadata": {},
   "outputs": [],
   "source": [
    "m.deleteAtIndex(0)"
   ]
  },
  {
   "cell_type": "code",
   "execution_count": 57,
   "id": "813dccfb-b631-4a80-ae71-4dcd070c045b",
   "metadata": {},
   "outputs": [
    {
     "data": {
      "text/plain": [
       "[0]"
      ]
     },
     "execution_count": 57,
     "metadata": {},
     "output_type": "execute_result"
    }
   ],
   "source": [
    "TraversalList(m.head)"
   ]
  },
  {
   "cell_type": "markdown",
   "id": "a1a03c32-e85a-4240-a492-0b394daaf891",
   "metadata": {},
   "source": [
    "## 1640. 能否连接形成数组"
   ]
  },
  {
   "cell_type": "code",
   "execution_count": 68,
   "id": "1d95170a-20d3-4ee3-80ee-48b7494001c3",
   "metadata": {},
   "outputs": [],
   "source": [
    "class Solution:\n",
    "    def canFormArray(self, arr: List[int], pieces: List[List[int]]) -> bool:\n",
    "        i = 0\n",
    "        p0 = [p[0] for p in pieces]\n",
    "        while i < len(arr):\n",
    "            if arr[i] not in p0: return False\n",
    "            idx = p0.index(arr[i])\n",
    "            for j, n in enumerate(pieces[idx]):\n",
    "                if arr[i+j] != n: return False\n",
    "            i += len(pieces[idx])\n",
    "        return True"
   ]
  },
  {
   "cell_type": "code",
   "execution_count": 75,
   "id": "df5f9d65-af6d-450e-9abc-2d294defec43",
   "metadata": {},
   "outputs": [],
   "source": [
    "arr = [91,4,64,78]\n",
    "pieces = [[78],[4,64],[91]]"
   ]
  },
  {
   "cell_type": "code",
   "execution_count": 76,
   "id": "4914e879-3a69-48b2-b958-c124ee3800d0",
   "metadata": {},
   "outputs": [
    {
     "data": {
      "text/plain": [
       "True"
      ]
     },
     "execution_count": 76,
     "metadata": {},
     "output_type": "execute_result"
    }
   ],
   "source": [
    "s = Solution()\n",
    "s.canFormArray(arr, pieces)"
   ]
  },
  {
   "cell_type": "markdown",
   "id": "e82ffd59-b10e-4f0a-882b-db2220dc0531",
   "metadata": {},
   "source": [
    "## 698. 划分为k个相等的子集"
   ]
  },
  {
   "cell_type": "markdown",
   "id": "6dd71eb0-0771-477e-99f4-1a0d7969fc8a",
   "metadata": {},
   "source": [
    "贪心加递归：每次都找数组里最大的数，直到target == 0为止"
   ]
  },
  {
   "cell_type": "code",
   "execution_count": 128,
   "id": "1ca51eb9-a6ba-4aff-a2c1-47b7464fc3f2",
   "metadata": {},
   "outputs": [],
   "source": [
    "from collections import Counter\n",
    "class Solution:\n",
    "    def canPartitionKSubsets(self, nums: List[int], k: int) -> bool:\n",
    "        Sum = sum(nums)\n",
    "        target = Sum//k\n",
    "        if Sum % k != 0 or max(nums) > target: return False\n",
    "    \n",
    "        count = Counter(nums)\n",
    "        keylist = list(count.keys())\n",
    "        ans = 0\n",
    "        \n",
    "        def DFS(cnt, keylist: list, tar):\n",
    "            nonlocal ans\n",
    "            keylist.sort(reverse=True)\n",
    "            if tar == 0: ans += 1\n",
    "            if keylist[-1] > tar: return\n",
    "            print(cnt, keylist)\n",
    "            # if keylist[0] == tar and cnt[keylist[0]]:\n",
    "            #     k -= 1\n",
    "            #     cnt[keylist[0]] -= 1\n",
    "            # for key in cnt:\n",
    "            #     if not cnt[key]: keylist.remove(key)\n",
    "            for k in keylist:\n",
    "                if k <= tar and cnt[k] > 0: break\n",
    "            cnt[k] -= 1\n",
    "            DFS(cnt, keylist, tar - k)\n",
    "        \n",
    "        for i in range(k):\n",
    "            DFS(cnt = count, keylist = keylist, tar = target)\n",
    "            \n",
    "        return ans == k\n",
    "        "
   ]
  },
  {
   "cell_type": "code",
   "execution_count": 145,
   "id": "7a3038fe-f396-48d6-a9ce-bee959916e8b",
   "metadata": {},
   "outputs": [],
   "source": [
    "nums = [1,2,2,2,2]\n",
    "k = 3"
   ]
  },
  {
   "cell_type": "code",
   "execution_count": 146,
   "id": "38bbf752-3676-43ab-a460-b76bfc97fb24",
   "metadata": {},
   "outputs": [
    {
     "data": {
      "text/plain": [
       "False"
      ]
     },
     "execution_count": 146,
     "metadata": {},
     "output_type": "execute_result"
    }
   ],
   "source": [
    "s = Solution()\n",
    "s.canPartitionKSubsets(nums, k)"
   ]
  },
  {
   "cell_type": "markdown",
   "id": "882d03b9-965d-420e-bf0e-b64faabb30f7",
   "metadata": {},
   "source": [
    "需要把用完的key删除"
   ]
  },
  {
   "cell_type": "code",
   "execution_count": 216,
   "id": "b492e265-26bb-40ab-8e7c-fa4bc73b5dad",
   "metadata": {},
   "outputs": [],
   "source": [
    "from collections import Counter\n",
    "class Solution:\n",
    "    def canPartitionKSubsets(self, nums: List[int], k: int) -> bool:\n",
    "        target = sum(nums)/k\n",
    "        if int(target) != target: return False\n",
    "        print(target)\n",
    "        \n",
    "        ans = 0\n",
    "        count = Counter(nums)\n",
    "        def DFS(cnt, target):\n",
    "            nonlocal ans\n",
    "            if target == 0:\n",
    "                # print(\"00000000000000000000000000\")\n",
    "                ans += 1\n",
    "                return\n",
    "            keylist = []\n",
    "            for key in cnt:\n",
    "                if cnt[key] != 0: keylist.append(key)\n",
    "            keylist.sort(reverse=True)\n",
    "            # print()\n",
    "            # print(cnt, keylist, target, ans)\n",
    "            if target < keylist[-1]: \n",
    "                # print(target, keylist)\n",
    "                # print(\"*********************\")\n",
    "                return\n",
    "            for key in keylist:\n",
    "                if key <= target:\n",
    "                    # print()\n",
    "                    # print(key)\n",
    "                    cnt[key] -= 1\n",
    "                    DFS(cnt, target - key)\n",
    "                    break\n",
    "        \n",
    "        for i in range(k):\n",
    "            DFS(count, int(target))\n",
    "        \n",
    "        return ans == k"
   ]
  },
  {
   "cell_type": "code",
   "execution_count": 217,
   "id": "dc080154-f5bb-4545-8246-281d8dd54281",
   "metadata": {},
   "outputs": [],
   "source": [
    "nums = [3522,181,521,515,304,123,2512,312,922,407,146,1932,4037,2646,3871,269]\n",
    "k = 5"
   ]
  },
  {
   "cell_type": "code",
   "execution_count": 218,
   "id": "5525c743-962c-4ed0-a82b-13ce955f8c70",
   "metadata": {},
   "outputs": [
    {
     "name": "stdout",
     "output_type": "stream",
     "text": [
      "4444.0\n"
     ]
    },
    {
     "data": {
      "text/plain": [
       "False"
      ]
     },
     "execution_count": 218,
     "metadata": {},
     "output_type": "execute_result"
    }
   ],
   "source": [
    "s = Solution()\n",
    "s.canPartitionKSubsets(nums, k)"
   ]
  },
  {
   "cell_type": "code",
   "execution_count": 219,
   "id": "4d076daa-07ab-4cc7-ba68-36b0e2a98a95",
   "metadata": {},
   "outputs": [
    {
     "data": {
      "text/plain": [
       "4444.0"
      ]
     },
     "execution_count": 219,
     "metadata": {},
     "output_type": "execute_result"
    }
   ],
   "source": [
    "nums = [3522,181,521,515,304,123,2512,312,922,407,146,1932,4037,2646,3871,269]\n",
    "nums.sort()\n",
    "nums\n",
    "sum(nums)/5"
   ]
  },
  {
   "cell_type": "markdown",
   "id": "b22e66f8-8c6b-44d6-8288-e1bebdf4fe1a",
   "metadata": {},
   "source": [
    "思路错了"
   ]
  },
  {
   "cell_type": "markdown",
   "id": "a8c09add-4565-4e93-90bd-6141381f2179",
   "metadata": {},
   "source": [
    "应该是回溯算法"
   ]
  },
  {
   "cell_type": "code",
   "execution_count": 307,
   "id": "c7abf265-8fd2-43bb-8851-a3488ad76f90",
   "metadata": {},
   "outputs": [],
   "source": [
    "class Solution:\n",
    "    def canPartitionKSubsets(self, nums: List[int], k: int) -> bool:\n",
    "        target = sum(nums)/k\n",
    "        if int(target) != target or max(nums) > target: return False\n",
    "\n",
    "        ans = 0\n",
    "        target = int(target)\n",
    "        count = Counter(nums)\n",
    "        \n",
    "        def DFS(cnt, target):\n",
    "            nonlocal ans\n",
    "            print()\n",
    "            print(target)\n",
    "            if target == 0: \n",
    "                ans += 1\n",
    "                return True\n",
    "            \n",
    "            keylist = []\n",
    "            for key in cnt:\n",
    "                if cnt[key] > 0: keylist.append(key)\n",
    "            print(keylist, ans)\n",
    "            if not keylist: return False\n",
    "            keylist.sort(reverse=True)\n",
    "            if target < keylist[-1]: \n",
    "                return False \n",
    "\n",
    "            for key in keylist:\n",
    "                if key <= target:\n",
    "                    cnt[key] -= 1\n",
    "                    if DFS(cnt, target - key): \n",
    "                        print(\"$$$$$$$$$$$$$\")\n",
    "                        return True\n",
    "                    else: cnt[key] += 1\n",
    "            \n",
    "            \n",
    "        \n",
    "        for i in range(k): \n",
    "            print(\"*****\",i)\n",
    "            DFS(count, target)\n",
    "        return ans == k\n",
    "            \n",
    "                    "
   ]
  },
  {
   "cell_type": "code",
   "execution_count": 310,
   "id": "037153b4-bb91-4335-8b74-1ecbe8bb4c5c",
   "metadata": {},
   "outputs": [],
   "source": [
    "nums = [0]\n",
    "k = 5"
   ]
  },
  {
   "cell_type": "code",
   "execution_count": 311,
   "id": "ad7de8da-f02f-4246-8794-ee95d8f3e723",
   "metadata": {},
   "outputs": [
    {
     "name": "stdout",
     "output_type": "stream",
     "text": [
      "***** 0\n",
      "\n",
      "0\n",
      "***** 1\n",
      "\n",
      "0\n",
      "***** 2\n",
      "\n",
      "0\n",
      "***** 3\n",
      "\n",
      "0\n",
      "***** 4\n",
      "\n",
      "0\n"
     ]
    },
    {
     "data": {
      "text/plain": [
       "True"
      ]
     },
     "execution_count": 311,
     "metadata": {},
     "output_type": "execute_result"
    }
   ],
   "source": [
    "s = Solution()\n",
    "s.canPartitionKSubsets(nums, k)"
   ]
  },
  {
   "cell_type": "code",
   "execution_count": 293,
   "id": "5a5eafca-7891-40a6-8573-7e7fbb652d3b",
   "metadata": {},
   "outputs": [],
   "source": [
    "class Solution:\n",
    "    def canPartitionKSubsets(self, nums: List[int], k: int) -> bool:\n",
    "        target = sum(nums)/k\n",
    "        if int(target) != target or max(nums) > target: return False\n",
    "\n",
    "        ans = 0\n",
    "        target = int(target)\n",
    "        count = Counter(nums)\n",
    "        \n",
    "        def DFS(cnt, target):\n",
    "            nonlocal ans\n",
    "            if target == 0: \n",
    "                ans += 1\n",
    "                return True\n",
    "            \n",
    "            keylist = []\n",
    "            for key in cnt:\n",
    "                if cnt[key] > 0: keylist.append(key)\n",
    "            if not keylist: return False\n",
    "            keylist.sort(reverse=True)\n",
    "            if target < keylist[-1]: \n",
    "                return False \n",
    "\n",
    "            for key in keylist:\n",
    "                if key <= target:\n",
    "                    cnt[key] -= 1\n",
    "                    if DFS(cnt, target - key): return True\n",
    "                    else: cnt[key] += 1\n",
    "    \n",
    "        for i in range(k): DFS(count, target)\n",
    "        return ans == k\n",
    "            \n",
    "                    "
   ]
  },
  {
   "cell_type": "code",
   "execution_count": 294,
   "id": "bf21536f-a12b-470c-9458-926fe3af167f",
   "metadata": {},
   "outputs": [],
   "source": [
    "nums = [4,5,9,3,10,2,10,7,10,8,5,9,4,6,4,9]\n",
    "k = 5"
   ]
  },
  {
   "cell_type": "code",
   "execution_count": 295,
   "id": "0d89300e-b7a8-4183-9fc2-31ed288a9e99",
   "metadata": {},
   "outputs": [
    {
     "data": {
      "text/plain": [
       "False"
      ]
     },
     "execution_count": 295,
     "metadata": {},
     "output_type": "execute_result"
    }
   ],
   "source": [
    "s = Solution()\n",
    "s.canPartitionKSubsets(nums, k)"
   ]
  },
  {
   "cell_type": "markdown",
   "id": "b4273994-e51e-4526-a1b3-12986a2884cc",
   "metadata": {},
   "source": [
    "回溯层数不够，没有穷举完所有的可能性"
   ]
  },
  {
   "cell_type": "code",
   "execution_count": null,
   "id": "7b3af8fa-bd35-4ba8-b33f-528cf5c3c2c0",
   "metadata": {},
   "outputs": [],
   "source": [
    "class Solution:\n",
    "    def canPartitionKSubsets(self, nums: List[int], k: int) -> bool:\n",
    "        def dfs(i):\n",
    "            if i == len(nums):\n",
    "                return True\n",
    "            for j in range(k):\n",
    "                if j and cur[j] == cur[j - 1]:\n",
    "                    continue\n",
    "                cur[j] += nums[i]\n",
    "                if cur[j] <= s and dfs(i + 1):\n",
    "                    return True\n",
    "                cur[j] -= nums[i]\n",
    "            return False\n",
    "\n",
    "        s, mod = divmod(sum(nums), k)\n",
    "        if mod:\n",
    "            return False\n",
    "        cur = [0] * k\n",
    "        nums.sort(reverse=True)\n",
    "        return dfs(0)"
   ]
  },
  {
   "cell_type": "markdown",
   "id": "5ffd7dff-1143-4818-94b1-890bda06be5a",
   "metadata": {},
   "source": [
    "再议"
   ]
  },
  {
   "cell_type": "markdown",
   "id": "45385b31-d427-467f-919f-ae135d7f4ee3",
   "metadata": {},
   "source": [
    "## 22. 括号生成"
   ]
  },
  {
   "cell_type": "code",
   "execution_count": 338,
   "id": "c4b96551-51ab-47b6-8e7c-37125c4c2402",
   "metadata": {},
   "outputs": [],
   "source": [
    "class Solution:\n",
    "    def generateParenthesis(self, n: int) -> List[str]:\n",
    "        path = {\"()\"}\n",
    "        def DFS(p, cnt):\n",
    "            # print(p)\n",
    "            curpath = set()\n",
    "            if not cnt: return p\n",
    "            for choice in p:\n",
    "                for i in range(len(choice)):\n",
    "                    head, tail = choice[0:i], choice[i:]\n",
    "                    combine = head + \"()\" + tail\n",
    "                    curpath.add(combine)\n",
    "            p = curpath\n",
    "            return DFS(p, cnt-1)\n",
    "            \n",
    "        return list(DFS(path, n-1))"
   ]
  },
  {
   "cell_type": "code",
   "execution_count": 340,
   "id": "d6173eba-8c20-4c36-8a24-38e8b279988c",
   "metadata": {},
   "outputs": [
    {
     "data": {
      "text/plain": [
       "['()(())', '(())()', '()()()', '(()())', '((()))']"
      ]
     },
     "execution_count": 340,
     "metadata": {},
     "output_type": "execute_result"
    }
   ],
   "source": [
    "s = Solution()\n",
    "s.generateParenthesis(3)"
   ]
  },
  {
   "cell_type": "markdown",
   "id": "a303dd50-fcf5-4031-ad5b-dede467dd398",
   "metadata": {},
   "source": [
    "# 数位dp"
   ]
  },
  {
   "cell_type": "markdown",
   "id": "b7350281-6333-4d84-93f1-af28c3e4069f",
   "metadata": {},
   "source": [
    "## 788. 旋转数字 (9.25)"
   ]
  },
  {
   "cell_type": "markdown",
   "id": "0999a075-14cd-4bb9-aa8d-e6a3d37d3716",
   "metadata": {},
   "source": [
    "一个数是好数，当且仅当：\n",
    "\n",
    "- 数中没有出现 3， 4， 7\n",
    "- 数中至少出现一次2， 5， 6， 9\n",
    "- 对于0， 1， 8则没有要求"
   ]
  },
  {
   "cell_type": "code",
   "execution_count": 54,
   "id": "64ade80e-1423-4212-8c3c-877a03e38195",
   "metadata": {},
   "outputs": [],
   "source": [
    "# 枚举\n",
    "class Solution:\n",
    "    def rotatedDigits(self, n: int) -> int:\n",
    "        cnt = 0 \n",
    "        invaild = [\"3\", \"4\", \"7\"]\n",
    "        vaild = [\"2\", \"5\", \"6\", \"9\"]\n",
    "        for i in range(n+1):\n",
    "            break1 = 0\n",
    "            for inv in invaild:\n",
    "                if inv in str(i): \n",
    "                    break1 = 1\n",
    "                    break\n",
    "            if break1: continue\n",
    "            for va in vaild:\n",
    "                if va in str(i):\n",
    "                    cnt += 1\n",
    "                    break\n",
    "        return cnt"
   ]
  },
  {
   "cell_type": "code",
   "execution_count": 55,
   "id": "0ddb8f56-1bf3-4e3f-8af0-b4ad16102a3e",
   "metadata": {},
   "outputs": [
    {
     "data": {
      "text/plain": [
       "2320"
      ]
     },
     "execution_count": 55,
     "metadata": {},
     "output_type": "execute_result"
    }
   ],
   "source": [
    "s = Solution()\n",
    "s.rotatedDigits(10000)"
   ]
  },
  {
   "cell_type": "code",
   "execution_count": 49,
   "id": "85783360-90ec-406a-b92d-3078d9193fa1",
   "metadata": {},
   "outputs": [],
   "source": [
    "# official\n",
    "class Solution:\n",
    "    def rotatedDigits(self, n: int) -> int:\n",
    "        check = [0, 0, 1, -1, -1, 1, 1, -1, 0, 1]\n",
    "        ans = 0\n",
    "        for i in range(1, n + 1):\n",
    "            num = [int(digit) for digit in str(i)]\n",
    "            valid, diff = True, False\n",
    "            for digit in num:\n",
    "                if check[digit] == -1:\n",
    "                    valid = False\n",
    "                elif check[digit] == 1:\n",
    "                    diff = True\n",
    "            if valid and diff:\n",
    "                ans += 1\n",
    "        \n",
    "        return ans"
   ]
  },
  {
   "cell_type": "markdown",
   "id": "f6d3b5d7-3d89-43b2-8f2e-4a6625d56911",
   "metadata": {},
   "source": [
    "每位都在(2, 5, 6, 9, 0, 1, 8)内，至少一位在(2, 5, 6, 9)内"
   ]
  },
  {
   "cell_type": "code",
   "execution_count": 56,
   "id": "d9eda411-2c3f-4b8e-8642-36c323d76e85",
   "metadata": {},
   "outputs": [],
   "source": [
    "from collections import Counter\n",
    "class Solution:\n",
    "    def rotatedDigits(self, n: int) -> int:\n",
    "        invaild = [\"3\", \"4\", \"7\"]\n",
    "        same = [\"0\", \"1\", \"8\"]\n",
    "        ans = 0\n",
    "        for i in range(n+1):\n",
    "            c = Counter(str(i))\n",
    "            break1 = 0\n",
    "            for inv in invaild:\n",
    "                if inv in c:\n",
    "                    break1 = 1\n",
    "                    break\n",
    "            if break1: continue\n",
    "            cnt = 0\n",
    "            for s in same: cnt += c[s]\n",
    "            if cnt == len(str(i)): continue\n",
    "            ans += 1\n",
    "        return ans"
   ]
  },
  {
   "cell_type": "code",
   "execution_count": 57,
   "id": "54cf8d60-4f06-4c07-b830-5261b4d79b06",
   "metadata": {},
   "outputs": [
    {
     "data": {
      "text/plain": [
       "2320"
      ]
     },
     "execution_count": 57,
     "metadata": {},
     "output_type": "execute_result"
    }
   ],
   "source": [
    "s = Solution()\n",
    "s.rotatedDigits(10000)"
   ]
  },
  {
   "cell_type": "markdown",
   "id": "534c8996-2c3c-4524-a73f-d0f16dc070df",
   "metadata": {},
   "source": [
    "以上都是nlog(n)复杂度"
   ]
  },
  {
   "cell_type": "markdown",
   "id": "5182a287-61ef-4bb0-ae09-281517a3b713",
   "metadata": {},
   "source": [
    "- pos: 当前枚举到的位置，越界则代表枚举完了一种情况\n",
    "- bound: pos之前所枚举的数字是否“贴着”n,举例来说：n = 1234，此时pos = 2， 若之前的   枚举为： 12， 则pos处的值只能选择[0, 4]之间的数字，若之前的枚举为： 11，则pos处可   以枚举[0, 10]\n",
    "- diff: 用于判断截止到目前的枚举是否合法，由定义可知，枚举的数字中出现至少一个2,5,6,9\n",
    "  即可视为一个合法的“好数”"
   ]
  },
  {
   "cell_type": "markdown",
   "id": "cf1da5c6-d5a0-4d66-acbb-266f1d4049fe",
   "metadata": {},
   "source": [
    "**重点：bound 与 diff 在枚举过程中如何变化**\n",
    "- bound：$bound_{n+1} = 1$  当且仅当  $bound_{n} = 1 \\quad and \\quad i = digits[pos]$\n",
    "\n",
    "- diff:  $若 \\quad diff_{n} = 1 \\quad or \\quad check[pos] = 1, 则 \\quad diff_{n+1} = 1$ "
   ]
  },
  {
   "cell_type": "code",
   "execution_count": 79,
   "id": "2d456f7d-b44d-4a41-abd8-6a8d452ac7b4",
   "metadata": {},
   "outputs": [],
   "source": [
    "class Solution:\n",
    "    def rotatedDigits(self, n: int) -> int:\n",
    "        check = [0, 0, 1, -1, -1, 1, 1, -1, 0, 1]\n",
    "        digits = [int(digit) for digit in str(n)]\n",
    "\n",
    "        # @cache\n",
    "        def dfs(pos: int, bound: bool, diff: bool) -> int:\n",
    "            # print(pos, bound, diff)\n",
    "            if pos == len(digits):\n",
    "                return int(diff)\n",
    "            \n",
    "            ret = 0\n",
    "            for i in range(0, (digits[pos] if bound else 9) + 1):\n",
    "                if check[i] != -1:\n",
    "                    ret += dfs(\n",
    "                        pos + 1,\n",
    "                        bound and i == digits[pos],\n",
    "                        diff or check[i] == 1\n",
    "                    )\n",
    "            \n",
    "            return ret\n",
    "            \n",
    "        \n",
    "        ans = dfs(0, True, False)\n",
    "        # dfs.cache_clear()\n",
    "        return ans"
   ]
  },
  {
   "cell_type": "code",
   "execution_count": 80,
   "id": "f90f6a77-5037-4d43-b66e-a49a80ac6ae2",
   "metadata": {},
   "outputs": [
    {
     "data": {
      "text/plain": [
       "1"
      ]
     },
     "execution_count": 80,
     "metadata": {},
     "output_type": "execute_result"
    }
   ],
   "source": [
    "s = Solution()\n",
    "s.rotatedDigits(2)"
   ]
  },
  {
   "cell_type": "markdown",
   "id": "98436019-42b9-4db8-bf81-2b6d269f2dd2",
   "metadata": {},
   "source": [
    "不明白cache在这里的作用，先直接数位枚举"
   ]
  },
  {
   "cell_type": "code",
   "execution_count": 30,
   "id": "8b11a5fa-fa10-46d0-9bd6-e2e520b01a8e",
   "metadata": {},
   "outputs": [],
   "source": [
    "class Solution:\n",
    "    def rotatedDigits(self, n: int) -> int:\n",
    "        check = [0, 0, 1, -1, -1, 1, 1, -1, 0, 1]\n",
    "        num = [int(d) for d in str(n)]\n",
    "        \n",
    "        def DFS(pos: int, bound: bool, legal: bool) -> int:\n",
    "            # print(pos, bound, legal)\n",
    "            if pos == len(num): return int(legal)\n",
    "            ans = 0\n",
    "            for i in range(num[pos] + 1 if bound else 10):\n",
    "                if check[i] != -1:\n",
    "                    ans += DFS(pos+1, bound and i == num[pos], legal or check[i]==1)\n",
    "            return ans\n",
    "        return DFS(0, True, False)"
   ]
  },
  {
   "cell_type": "code",
   "execution_count": 33,
   "id": "b0dfb090-0856-4d72-8719-a0e31c99866a",
   "metadata": {},
   "outputs": [
    {
     "data": {
      "text/plain": [
       "40333924"
      ]
     },
     "execution_count": 33,
     "metadata": {},
     "output_type": "execute_result"
    }
   ],
   "source": [
    "s = Solution()\n",
    "s.rotatedDigits(10**9)"
   ]
  },
  {
   "cell_type": "markdown",
   "id": "e77bf57c-df28-4328-905e-0fe63c8383ca",
   "metadata": {},
   "source": [
    "## 233. 数字1的个数"
   ]
  },
  {
   "cell_type": "code",
   "execution_count": 50,
   "id": "74565b3e-af8b-4264-97d4-4cab3075c59a",
   "metadata": {},
   "outputs": [],
   "source": [
    "class Solution:\n",
    "    def countDigitOne(self, n: int) -> int:\n",
    "        digits = [int(num) for num in str(n)]\n",
    "        # @cache\n",
    "        def DFS(pos: int, bound: bool, cnt: int) -> int:\n",
    "            print(pos, bound, cnt)\n",
    "            if pos == len(digits): return cnt\n",
    "            ans = 0\n",
    "            for i in range(digits[pos] + 1 if bound else 10):\n",
    "                ans += DFS(\n",
    "                    pos + 1,\n",
    "                    bound and i == digits[pos],\n",
    "                    cnt + 1  if i == 1 else cnt\n",
    "                )\n",
    "            return ans\n",
    "        # DFS.cache_clear()\n",
    "        return DFS(0, True, 0)"
   ]
  },
  {
   "cell_type": "code",
   "execution_count": 51,
   "id": "36a54072-03b7-4e8f-9d65-ce625f08a915",
   "metadata": {},
   "outputs": [
    {
     "name": "stdout",
     "output_type": "stream",
     "text": [
      "0 True 0\n",
      "1 False 0\n",
      "2 False 0\n",
      "2 False 1\n",
      "2 False 0\n",
      "2 False 0\n",
      "2 False 0\n",
      "2 False 0\n",
      "2 False 0\n",
      "2 False 0\n",
      "2 False 0\n",
      "2 False 0\n",
      "1 True 1\n",
      "2 False 1\n",
      "2 False 2\n",
      "2 False 1\n",
      "2 True 1\n"
     ]
    },
    {
     "data": {
      "text/plain": [
       "6"
      ]
     },
     "execution_count": 51,
     "metadata": {},
     "output_type": "execute_result"
    }
   ],
   "source": [
    "s = Solution()\n",
    "s.countDigitOne(13)"
   ]
  },
  {
   "cell_type": "code",
   "execution_count": 52,
   "id": "c15a7502-3130-48d9-a118-fe6b90bcdeff",
   "metadata": {},
   "outputs": [],
   "source": [
    "\"\"\"\n",
    "pos:    当前处理的位置(一般从高位到低位)  \n",
    "status: 要达到的状态,如果为1则可以认为找到了答案,到时候用来返回, 给计数器+1。\n",
    "lead : pos位置status中是否一直是前导零，这个状态变量不是每道题都需要，具体看这个前导0在状态转移过程中，会不会影响的计数。\n",
    "limit: 是否受限,也即当前处理这位能否随便取值。如567,当前处理6这位, 如果前面取的是4,则当前这位可以取0-9。如果前面取的5,那么当前这位0～6。\n",
    "用DP数组保存这三个状态是因为往后转移的时候会遇到很多重复的情况。\n",
    "\"\"\"\n",
    "def dfs(pos, status, limit, lead):\n",
    "        if pos < 0:\n",
    "            return 1\n",
    "        if not limit and dp[pos][status] != -1:\n",
    "            return dp[pos][status]\n",
    "        ans = 0\n",
    "        up = dig[pos] if limit else 9\n",
    "        # 以【leetcode 2376. 统计特殊整数】为例\n",
    "        for i in range(0, up+1):\n",
    "            if pos == 0 and status == 0 and i == 0: continue # 去除掉 0\n",
    "            elif lead and i == 0:  # 对于前导0的情况另外处理，0不加入集合中。\n",
    "                ans += dfs(pos-1, status, limit and dig[pos]==i, True)  \n",
    "            elif status >> i & 1 == 0:\n",
    "                ans += dfs(pos-1, status|(1<<i), limit and dig[pos]==i, False)    \n",
    "        if not limit:\n",
    "            dp[pos][status] = ans\n",
    "        return ans"
   ]
  },
  {
   "cell_type": "code",
   "execution_count": 58,
   "id": "548a7ed1-9d54-4c37-9bf2-bfd2c622e6c7",
   "metadata": {},
   "outputs": [],
   "source": [
    "class Solution:\n",
    "    def countDigitOne(self, n: int) -> int:\n",
    "        digits = [int(num) for num in str(n)]\n",
    "        # @cache\n",
    "        memo = {}\n",
    "        def DFS(pos: int, bound: bool, cnt: int) -> int:\n",
    "            # print(pos, bound, cnt)\n",
    "            if pos == len(digits): return cnt\n",
    "            if not bound and (pos, cnt) in memo: \n",
    "                # print('memo works', (pos, cnt), memo[(pos, cnt)])\n",
    "                return memo[(pos, cnt)]\n",
    "            ans = 0\n",
    "            for i in range(digits[pos] + 1 if bound else 10):\n",
    "                ans += DFS(\n",
    "                    pos + 1,\n",
    "                    bound and i == digits[pos],\n",
    "                    cnt + 1  if i == 1 else cnt\n",
    "                )\n",
    "            if not bound: memo[(pos, cnt)] = ans\n",
    "            return ans\n",
    "        # DFS.cache_clear()\n",
    "        return DFS(0, True, 0)"
   ]
  },
  {
   "cell_type": "code",
   "execution_count": 59,
   "id": "66ccdd48-015d-4dd6-a26a-4f5b87746d56",
   "metadata": {},
   "outputs": [
    {
     "data": {
      "text/plain": [
       "15"
      ]
     },
     "execution_count": 59,
     "metadata": {},
     "output_type": "execute_result"
    }
   ],
   "source": [
    "s = Solution()\n",
    "s.countDigitOne(50)"
   ]
  },
  {
   "cell_type": "markdown",
   "id": "d2f492e0-919c-4a85-8bc5-2075fb9e4d18",
   "metadata": {},
   "source": [
    "有点理解了dp的作用"
   ]
  },
  {
   "cell_type": "markdown",
   "id": "dc145578-e8a4-4bf4-8c91-beb67e5f00d5",
   "metadata": {},
   "source": [
    "## 902. 最大为N的数字组合"
   ]
  },
  {
   "cell_type": "code",
   "execution_count": 171,
   "id": "c2796327-8180-4180-9bb4-4c92418e7a33",
   "metadata": {},
   "outputs": [],
   "source": [
    "from typing import List\n",
    "class Solution:\n",
    "    def atMostNGivenDigitSet(self, digits: List[str], n: int) -> int:\n",
    "        num = [int(i) for i in str(n)]\n",
    "        memo = {}\n",
    "        def DFS(pos: int, islimit: bool, lead: bool):\n",
    "            if pos == len(num): return 1 # 找到了一个符合条件的数\n",
    "            if not islimit and (pos, lead) in memo: return memo[(pos, lead)]\n",
    "            ans = 0\n",
    "            up = (num[pos] if islimit else 9) + 1\n",
    "            for i in range(up):\n",
    "                if not i and lead: \n",
    "                    ans += DFS(\n",
    "                        pos + 1, \n",
    "                        islimit and i == num[pos],\n",
    "                        lead = True\n",
    "                    )\n",
    "                else:\n",
    "                    if str(i) in digits:\n",
    "                        ans += DFS(\n",
    "                            pos + 1,\n",
    "                            islimit and i == num[pos],\n",
    "                            lead = False\n",
    "                        )\n",
    "            if not islimit: memo[(pos, lead)] = ans\n",
    "            return ans\n",
    "        res = DFS(0, True, True)\n",
    "        print(memo)\n",
    "        return res if \"0\" in digits else res - 1"
   ]
  },
  {
   "cell_type": "code",
   "execution_count": 172,
   "id": "6425d48c-2500-4e6d-b848-464502fe9abb",
   "metadata": {},
   "outputs": [],
   "source": [
    "digits = [\"1\",\"4\",\"9\"]\n",
    "n = 1000000000"
   ]
  },
  {
   "cell_type": "code",
   "execution_count": 173,
   "id": "b3d48568-3d2c-4e54-81f7-1164941a850e",
   "metadata": {},
   "outputs": [
    {
     "name": "stdout",
     "output_type": "stream",
     "text": [
      "{(9, True): 4, (9, False): 3, (8, True): 13, (8, False): 9, (7, True): 40, (7, False): 27, (6, True): 121, (6, False): 81, (5, True): 364, (5, False): 243, (4, True): 1093, (4, False): 729, (3, True): 3280, (3, False): 2187, (2, True): 9841, (2, False): 6561, (1, True): 29524}\n"
     ]
    },
    {
     "data": {
      "text/plain": [
       "29523"
      ]
     },
     "execution_count": 173,
     "metadata": {},
     "output_type": "execute_result"
    }
   ],
   "source": [
    "s = Solution()\n",
    "s.atMostNGivenDigitSet(digits, n)"
   ]
  },
  {
   "cell_type": "markdown",
   "id": "754974f2-d550-466a-a272-f18b56ebd932",
   "metadata": {},
   "source": [
    "memo的作用及工作方式：\n",
    "\n",
    "在dp中，memo的作用为记录已经计算过的数据，当再次计算时直接返回结果而不用再次执行函数，以节省时间，数位dp中也不例外。memo中储存的是**枚举当前位所能产生的解的个数**，当再次经历从高位到地位的枚举时就可以直接返回而不用再次计算，其中有一个问题很关键，即：memo的key该怎么选取，以此题为例，dp的不同状态之间用pos和lead两个参数可以区分，故使用他们作为memo的key"
   ]
  },
  {
   "cell_type": "markdown",
   "id": "fcd64e7d-fd2a-4514-9ca3-8be7ab011e6d",
   "metadata": {},
   "source": [
    "## 面试题 17.06. 2出现的次数"
   ]
  },
  {
   "cell_type": "code",
   "execution_count": 169,
   "id": "f596a91b-bc83-4dba-82a4-d617048292a6",
   "metadata": {},
   "outputs": [],
   "source": [
    "class Solution:\n",
    "    def numberOf2sInRange(self, n: int) -> int:\n",
    "        num = [int(i) for i in str(n)]\n",
    "        memo = {}\n",
    "        def DFS(pos: int, limit: bool, cnt: int) -> int:\n",
    "            if pos == len(num): return cnt\n",
    "            if not limit and (pos, cnt) in memo: return memo[(pos, cnt)]\n",
    "            ans = 0\n",
    "            up = (num[pos] if limit else 9) + 1\n",
    "            for i in range(up):\n",
    "                ans += DFS(\n",
    "                    pos + 1,\n",
    "                    limit and i == num[pos],\n",
    "                    cnt + 1 if i == 2 else cnt\n",
    "                )\n",
    "            if not limit: memo[(pos, cnt)] = ans\n",
    "            return ans\n",
    "        return DFS(0, True, 0)"
   ]
  },
  {
   "cell_type": "code",
   "execution_count": 170,
   "id": "900d2851-e22c-4e54-803d-e329b5e63f91",
   "metadata": {},
   "outputs": [
    {
     "data": {
      "text/plain": [
       "9"
      ]
     },
     "execution_count": 170,
     "metadata": {},
     "output_type": "execute_result"
    }
   ],
   "source": [
    "s = Solution()\n",
    "s.numberOf2sInRange(25)"
   ]
  },
  {
   "cell_type": "markdown",
   "id": "e68a97f1-16ad-4313-b69f-3bd364825326",
   "metadata": {},
   "source": [
    "dp中的key即区别不同状态的标志，做limit的判断只是因为顶到上界的情况只会计算一次，为了节省空间不必枚举，也正是基于此，@cache可以完成和memo相同的任务"
   ]
  },
  {
   "cell_type": "markdown",
   "id": "70ab4b96-5606-4954-9d37-33a5c9c1034a",
   "metadata": {},
   "source": [
    "## 600. 不含连续1的非负整数"
   ]
  },
  {
   "cell_type": "code",
   "execution_count": 184,
   "id": "911d63fb-6189-4dbc-b3a1-6b0909c2d99e",
   "metadata": {},
   "outputs": [],
   "source": [
    "class Solution:\n",
    "    def findIntegers(self, n: int) -> int:\n",
    "        digits = [int(i) for i in bin(n)[2:]]\n",
    "        memo = {}\n",
    "        def DFS(pos: int, limit: bool, pre: int) -> int:\n",
    "            if pos == len(digits): return 1  # 找到合法解\n",
    "            if not limit and (pos, pre) in memo: return memo[(pos, pre)]\n",
    "            ans = 0\n",
    "            up = (digits[pos] if limit else 1) + 1\n",
    "            for i in range(up):\n",
    "                if pre: \n",
    "                    ans += DFS(pos + 1, limit and i == digits[pos], pre = 0)\n",
    "                    break\n",
    "                else:\n",
    "                    ans += DFS(\n",
    "                        pos + 1, \n",
    "                        limit and i == digits[pos], \n",
    "                        pre = i\n",
    "                    )\n",
    "            if not limit: memo[(pos, pre)] = ans\n",
    "            return ans\n",
    "        return DFS(0, True, 0)"
   ]
  },
  {
   "cell_type": "code",
   "execution_count": 185,
   "id": "2dc6c2f2-d533-4847-a1e9-71e2d7080cff",
   "metadata": {},
   "outputs": [
    {
     "data": {
      "text/plain": [
       "2178309"
      ]
     },
     "execution_count": 185,
     "metadata": {},
     "output_type": "execute_result"
    }
   ],
   "source": [
    "s = Solution()\n",
    "s.findIntegers(10**9)"
   ]
  },
  {
   "cell_type": "markdown",
   "id": "b29dcb14-39bc-4acb-85d2-90e1fa0e4682",
   "metadata": {},
   "source": [
    "本题都是二进制数，应该可以specialize一下循环"
   ]
  },
  {
   "cell_type": "markdown",
   "id": "b87e662a-c071-4d3d-83eb-aa90dc5e7bb8",
   "metadata": {},
   "source": [
    "## 2376. 统计特殊整数"
   ]
  },
  {
   "cell_type": "code",
   "execution_count": 193,
   "id": "5a97e5b6-2cc7-4bc3-8209-06ed30d3e74b",
   "metadata": {},
   "outputs": [],
   "source": [
    "class Solution:\n",
    "    def countSpecialNumbers(self, n: int) -> int:\n",
    "        digits = [int(i) for i in str(n)]\n",
    "        memo = {}\n",
    "        def DFS(pos: int, limit: bool, pre: str, lead: bool) -> int:\n",
    "            if pos == len(digits): return 1  # 找到了一个解\n",
    "            # 进行剪枝\n",
    "            if not limit and (pos, len(pre)) in memo:\n",
    "                return memo[(pos, len(pre))]\n",
    "            ans = 0\n",
    "            up = (digits[pos] if limit else 9) + 1  # 可选择的数字范围\n",
    "            for i in range(up):\n",
    "                # 之前的选择若全为0，则本次也可以选择0，即全为前导零\n",
    "                if not i and lead: \n",
    "                    ans += DFS(\n",
    "                        pos + 1,\n",
    "                        limit and i == digits[pos], # limit的状态转移方程\n",
    "                        pre,\n",
    "                        lead = True\n",
    "                    )\n",
    "                # 只选择没有选择过的数字\n",
    "                elif str(i) not in pre:\n",
    "                    ans += DFS(\n",
    "                        pos + 1,\n",
    "                        limit and i == digits[pos],\n",
    "                        pre + str(i),\n",
    "                        lead = False\n",
    "                    )\n",
    "            if not limit: memo[(pos, len(pre))] = ans\n",
    "            return ans\n",
    "        \n",
    "        return DFS(0, True, '', True) - 1\n",
    "                    "
   ]
  },
  {
   "cell_type": "code",
   "execution_count": 194,
   "id": "64cff9a9-1d7c-4786-989b-da85196fb7a0",
   "metadata": {},
   "outputs": [
    {
     "data": {
      "text/plain": [
       "5611770"
      ]
     },
     "execution_count": 194,
     "metadata": {},
     "output_type": "execute_result"
    }
   ],
   "source": [
    "s = Solution()\n",
    "s.countSpecialNumbers(10**9)"
   ]
  },
  {
   "cell_type": "code",
   "execution_count": 191,
   "id": "2fc4520f-4751-4872-9aa7-176c2743c29b",
   "metadata": {},
   "outputs": [],
   "source": [
    "class Solution:\n",
    "    def countSpecialNumbers(self, n: int) -> int:\n",
    "        digits = [int(i) for i in str(n)]\n",
    "        memo = {}\n",
    "        def DFS(pos: int, limit: bool, pre: str, lead: bool) ->int:\n",
    "            if pos == len(digits): \n",
    "                # print(pre)\n",
    "                return 1  # 找到了一个解\n",
    "            # if not limit and (pos, lead) in memo:\n",
    "            #     print('*******')\n",
    "            #     return memo[(pos, lead)]\n",
    "            ans = 0\n",
    "            up = (digits[pos] if limit else 9) + 1\n",
    "            for i in range(up):\n",
    "                if not i and lead: \n",
    "                    ans += DFS(\n",
    "                        pos + 1,\n",
    "                        limit and i == digits[pos],\n",
    "                        pre,\n",
    "                        lead = True\n",
    "                    )\n",
    "                elif str(i) not in pre:\n",
    "                    ans += DFS(\n",
    "                        pos + 1,\n",
    "                        limit and i == digits[pos],\n",
    "                        pre + str(i),\n",
    "                        lead = False\n",
    "                    )\n",
    "            # memo[(pos, lead)] = ans\n",
    "            return ans\n",
    "        \n",
    "        return DFS(0, True, '', True) - 1"
   ]
  },
  {
   "cell_type": "code",
   "execution_count": null,
   "id": "c64d4a95-4e1b-4fd1-9547-2f4beef336ce",
   "metadata": {},
   "outputs": [],
   "source": []
  },
  {
   "cell_type": "code",
   "execution_count": null,
   "id": "986b076f-cf9f-4545-ba1a-a912d89d2f17",
   "metadata": {},
   "outputs": [],
   "source": []
  },
  {
   "cell_type": "code",
   "execution_count": null,
   "id": "0ddd5c9d-ccf3-447c-b851-24045c01eebf",
   "metadata": {},
   "outputs": [],
   "source": []
  },
  {
   "cell_type": "code",
   "execution_count": null,
   "id": "57563176-11b9-458f-adc9-198c60f659f2",
   "metadata": {},
   "outputs": [],
   "source": []
  },
  {
   "cell_type": "code",
   "execution_count": null,
   "id": "deebc6f1-32a0-4cd9-85de-25f33d2af8c1",
   "metadata": {},
   "outputs": [],
   "source": []
  },
  {
   "cell_type": "code",
   "execution_count": null,
   "id": "56e6a5cb-9f40-450b-8cab-f6f0d1947da8",
   "metadata": {},
   "outputs": [],
   "source": []
  },
  {
   "cell_type": "code",
   "execution_count": null,
   "id": "96aa30a5-d46f-4ec9-909b-8653b71b579b",
   "metadata": {},
   "outputs": [],
   "source": []
  },
  {
   "cell_type": "code",
   "execution_count": null,
   "id": "71964c7e-a3ec-41c6-88df-9fcd64a79c51",
   "metadata": {},
   "outputs": [],
   "source": []
  },
  {
   "cell_type": "code",
   "execution_count": null,
   "id": "a2d9a25f-b9c5-4487-ae41-0ea2f846f7ba",
   "metadata": {},
   "outputs": [],
   "source": []
  },
  {
   "cell_type": "code",
   "execution_count": null,
   "id": "51df7c8a-f2c0-40ec-af9d-de65a754de95",
   "metadata": {},
   "outputs": [],
   "source": []
  },
  {
   "cell_type": "code",
   "execution_count": null,
   "id": "2e69f859-8979-4909-8c68-bc586b4a02d4",
   "metadata": {},
   "outputs": [],
   "source": []
  },
  {
   "cell_type": "code",
   "execution_count": null,
   "id": "3a75c6c5-869e-46ac-a087-8ac4dee35f47",
   "metadata": {},
   "outputs": [],
   "source": []
  },
  {
   "cell_type": "code",
   "execution_count": null,
   "id": "85bc2707-d777-49ef-8131-568d16d70524",
   "metadata": {},
   "outputs": [],
   "source": []
  },
  {
   "cell_type": "code",
   "execution_count": null,
   "id": "c8c36b7c-f453-4f49-a571-bc66e689d1af",
   "metadata": {},
   "outputs": [],
   "source": []
  },
  {
   "cell_type": "code",
   "execution_count": null,
   "id": "a12684bd-228a-41c3-9da5-3086b5796326",
   "metadata": {},
   "outputs": [],
   "source": []
  },
  {
   "cell_type": "code",
   "execution_count": null,
   "id": "3a29fcc7-a29e-43a2-9547-9db009a4832f",
   "metadata": {},
   "outputs": [],
   "source": []
  },
  {
   "cell_type": "code",
   "execution_count": null,
   "id": "be934a16-7f94-4fd1-a761-89d05df18411",
   "metadata": {},
   "outputs": [],
   "source": []
  },
  {
   "cell_type": "code",
   "execution_count": null,
   "id": "7dc6cd8e-7724-497b-81fc-db85d482357a",
   "metadata": {},
   "outputs": [],
   "source": []
  },
  {
   "cell_type": "code",
   "execution_count": null,
   "id": "7f4fb198-2c6f-4a92-a0b3-7ebbdfb51c27",
   "metadata": {},
   "outputs": [],
   "source": []
  },
  {
   "cell_type": "code",
   "execution_count": null,
   "id": "8d4afbca-ee68-4db9-81a8-8a1a4e5daeac",
   "metadata": {},
   "outputs": [],
   "source": []
  },
  {
   "cell_type": "code",
   "execution_count": null,
   "id": "15b396b0-dc36-40ae-bad2-2c7b00476652",
   "metadata": {},
   "outputs": [],
   "source": []
  },
  {
   "cell_type": "code",
   "execution_count": null,
   "id": "5a8f1130-f1f0-4cd2-bd1b-5819427e445f",
   "metadata": {},
   "outputs": [],
   "source": []
  },
  {
   "cell_type": "code",
   "execution_count": null,
   "id": "cb0f6611-4e4a-4c67-957f-4ec48b624afb",
   "metadata": {},
   "outputs": [],
   "source": []
  },
  {
   "cell_type": "code",
   "execution_count": null,
   "id": "a549daf4-123f-4657-98c5-5d9efe047266",
   "metadata": {},
   "outputs": [],
   "source": []
  },
  {
   "cell_type": "code",
   "execution_count": null,
   "id": "885424f5-b5d5-4208-9fad-56ee064f6ec1",
   "metadata": {},
   "outputs": [],
   "source": []
  },
  {
   "cell_type": "code",
   "execution_count": null,
   "id": "6cfd3912-8e89-435c-ae93-acc34073b6f7",
   "metadata": {},
   "outputs": [],
   "source": []
  },
  {
   "cell_type": "code",
   "execution_count": null,
   "id": "ad4618e5-1d7c-4c81-87c0-229e39a5a85c",
   "metadata": {},
   "outputs": [],
   "source": []
  },
  {
   "cell_type": "code",
   "execution_count": null,
   "id": "973d77c5-5443-4a59-ab54-64e9b4f98294",
   "metadata": {},
   "outputs": [],
   "source": []
  },
  {
   "cell_type": "code",
   "execution_count": null,
   "id": "d80206ae-82c7-464f-9ec7-c37dbb9ba2d8",
   "metadata": {},
   "outputs": [],
   "source": []
  },
  {
   "cell_type": "code",
   "execution_count": null,
   "id": "cf5ca9ce-9745-4630-8a41-aca8d879fb26",
   "metadata": {},
   "outputs": [],
   "source": []
  },
  {
   "cell_type": "code",
   "execution_count": null,
   "id": "bf2c44c8-febe-44dc-a123-56ad35105305",
   "metadata": {},
   "outputs": [],
   "source": []
  },
  {
   "cell_type": "code",
   "execution_count": null,
   "id": "26299599-6c03-4707-ae93-85c09dae3d63",
   "metadata": {},
   "outputs": [],
   "source": []
  },
  {
   "cell_type": "code",
   "execution_count": null,
   "id": "37de0c72-75b8-4065-888f-38a2db32d297",
   "metadata": {},
   "outputs": [],
   "source": []
  },
  {
   "cell_type": "code",
   "execution_count": null,
   "id": "ca6e0f12-3d22-4c3a-95fd-8d66ec8406a6",
   "metadata": {},
   "outputs": [],
   "source": []
  },
  {
   "cell_type": "code",
   "execution_count": null,
   "id": "65644c24-726f-46ff-a50f-87924b155a5d",
   "metadata": {},
   "outputs": [],
   "source": []
  },
  {
   "cell_type": "code",
   "execution_count": null,
   "id": "c1c50ac3-98f0-4016-8636-c276b2a4ca67",
   "metadata": {},
   "outputs": [],
   "source": []
  },
  {
   "cell_type": "code",
   "execution_count": null,
   "id": "a04f93eb-a5f6-4b3c-9eca-959a17c9dea9",
   "metadata": {},
   "outputs": [],
   "source": []
  },
  {
   "cell_type": "code",
   "execution_count": null,
   "id": "94d0a12a-0922-4fe8-80f0-dd47102520fd",
   "metadata": {},
   "outputs": [],
   "source": []
  },
  {
   "cell_type": "code",
   "execution_count": null,
   "id": "79dcdde7-a8ad-423a-89d1-be515be43bd5",
   "metadata": {},
   "outputs": [],
   "source": []
  },
  {
   "cell_type": "code",
   "execution_count": null,
   "id": "aeb00527-2aec-40fd-aaf5-9d9db73fd620",
   "metadata": {},
   "outputs": [],
   "source": []
  },
  {
   "cell_type": "code",
   "execution_count": null,
   "id": "678e32d0-dce4-4557-bb53-21b8b490e4e6",
   "metadata": {},
   "outputs": [],
   "source": []
  },
  {
   "cell_type": "code",
   "execution_count": null,
   "id": "f2e80b64-0cab-4298-82b2-7e208e468509",
   "metadata": {},
   "outputs": [],
   "source": []
  },
  {
   "cell_type": "code",
   "execution_count": null,
   "id": "fe6da8b8-61fe-47f9-8217-67d6549337fb",
   "metadata": {},
   "outputs": [],
   "source": []
  },
  {
   "cell_type": "code",
   "execution_count": null,
   "id": "24136d53-f4f2-492e-a07e-8327b3a8cbd0",
   "metadata": {},
   "outputs": [],
   "source": []
  },
  {
   "cell_type": "code",
   "execution_count": null,
   "id": "b10415d4-0ace-4998-8358-41c3fc585e52",
   "metadata": {},
   "outputs": [],
   "source": []
  },
  {
   "cell_type": "code",
   "execution_count": null,
   "id": "acc5a144-3cb1-4345-9dd7-bcc05f6e817d",
   "metadata": {},
   "outputs": [],
   "source": []
  },
  {
   "cell_type": "code",
   "execution_count": null,
   "id": "316c84cb-3f22-4369-ad24-fcec82e170a3",
   "metadata": {},
   "outputs": [],
   "source": []
  },
  {
   "cell_type": "code",
   "execution_count": null,
   "id": "e4291053-d41c-4bed-92ff-b6f47f123d52",
   "metadata": {},
   "outputs": [],
   "source": []
  },
  {
   "cell_type": "code",
   "execution_count": null,
   "id": "3ed571e0-9635-4b19-8c5f-29f2bfb916d2",
   "metadata": {},
   "outputs": [],
   "source": []
  },
  {
   "cell_type": "code",
   "execution_count": null,
   "id": "992347ac-9253-4faf-9ec0-5cd7c4005b65",
   "metadata": {},
   "outputs": [],
   "source": []
  },
  {
   "cell_type": "code",
   "execution_count": null,
   "id": "0c50a445-886c-49e5-849c-c8fed7c85a2f",
   "metadata": {},
   "outputs": [],
   "source": []
  },
  {
   "cell_type": "code",
   "execution_count": null,
   "id": "1fec692e-56dd-477b-a506-d9df631d7359",
   "metadata": {},
   "outputs": [],
   "source": []
  },
  {
   "cell_type": "code",
   "execution_count": null,
   "id": "3c49f37b-adb4-4442-88f0-4c1a94239694",
   "metadata": {},
   "outputs": [],
   "source": []
  },
  {
   "cell_type": "code",
   "execution_count": null,
   "id": "b0912a63-40af-49ec-80d2-04277d426ad2",
   "metadata": {},
   "outputs": [],
   "source": []
  },
  {
   "cell_type": "code",
   "execution_count": null,
   "id": "d90d25c3-cc66-47d4-8cc9-bc63836fec89",
   "metadata": {},
   "outputs": [],
   "source": []
  },
  {
   "cell_type": "code",
   "execution_count": null,
   "id": "0b23665e-01b5-402d-849c-37041bca210b",
   "metadata": {},
   "outputs": [],
   "source": []
  },
  {
   "cell_type": "code",
   "execution_count": null,
   "id": "c78c0e06-3f43-4814-aaac-467cf84cca29",
   "metadata": {},
   "outputs": [],
   "source": []
  },
  {
   "cell_type": "code",
   "execution_count": null,
   "id": "9114c992-79e8-47e5-b48f-28d78991f73c",
   "metadata": {},
   "outputs": [],
   "source": []
  },
  {
   "cell_type": "code",
   "execution_count": null,
   "id": "a67fc047-1063-4540-ba52-0e90390fb58d",
   "metadata": {},
   "outputs": [],
   "source": []
  },
  {
   "cell_type": "code",
   "execution_count": null,
   "id": "9bddc8f3-ab41-4f39-8b96-5f87cb4177c5",
   "metadata": {},
   "outputs": [],
   "source": []
  },
  {
   "cell_type": "code",
   "execution_count": null,
   "id": "033eefd6-9bf5-4f68-88b6-551646bcda27",
   "metadata": {},
   "outputs": [],
   "source": []
  },
  {
   "cell_type": "code",
   "execution_count": null,
   "id": "1972bda5-688c-4c81-8233-29981a9d3787",
   "metadata": {},
   "outputs": [],
   "source": []
  },
  {
   "cell_type": "code",
   "execution_count": null,
   "id": "c805dbe9-5736-4250-8856-44c55c5a36a5",
   "metadata": {},
   "outputs": [],
   "source": []
  },
  {
   "cell_type": "code",
   "execution_count": null,
   "id": "a78f6fe3-c6a8-4b12-86eb-f7a4c6367631",
   "metadata": {},
   "outputs": [],
   "source": []
  },
  {
   "cell_type": "code",
   "execution_count": null,
   "id": "ba35626a-e607-4031-b40f-50f9c5364007",
   "metadata": {},
   "outputs": [],
   "source": []
  },
  {
   "cell_type": "code",
   "execution_count": null,
   "id": "fc9193cb-6f0e-4c92-9194-592166c1ba8e",
   "metadata": {},
   "outputs": [],
   "source": []
  },
  {
   "cell_type": "code",
   "execution_count": null,
   "id": "6a68c0df-96c1-4b4e-a608-53d6ac998862",
   "metadata": {},
   "outputs": [],
   "source": []
  },
  {
   "cell_type": "code",
   "execution_count": null,
   "id": "2202b7ac-2e4a-455f-a477-ebb002c31f62",
   "metadata": {},
   "outputs": [],
   "source": []
  },
  {
   "cell_type": "code",
   "execution_count": null,
   "id": "fad9d3ab-5130-461f-a7aa-5a6441822389",
   "metadata": {},
   "outputs": [],
   "source": []
  },
  {
   "cell_type": "code",
   "execution_count": null,
   "id": "6c754809-06a2-4395-95b7-c55e83b14dd3",
   "metadata": {},
   "outputs": [],
   "source": []
  },
  {
   "cell_type": "code",
   "execution_count": null,
   "id": "67cc85ff-8599-4952-85b5-000f907bd6c2",
   "metadata": {},
   "outputs": [],
   "source": []
  },
  {
   "cell_type": "code",
   "execution_count": null,
   "id": "2c427d64-9b20-4be4-9515-eb3cfd917c60",
   "metadata": {},
   "outputs": [],
   "source": []
  },
  {
   "cell_type": "code",
   "execution_count": null,
   "id": "e6dffe8e-1275-4594-894b-7de45131c505",
   "metadata": {},
   "outputs": [],
   "source": []
  },
  {
   "cell_type": "code",
   "execution_count": null,
   "id": "9044a2c8-9ef3-41b8-96a5-e85d7caa73de",
   "metadata": {},
   "outputs": [],
   "source": []
  },
  {
   "cell_type": "code",
   "execution_count": null,
   "id": "78cf5ece-c984-46cf-90f8-9574ae5e00b3",
   "metadata": {},
   "outputs": [],
   "source": []
  },
  {
   "cell_type": "code",
   "execution_count": null,
   "id": "33795563-388c-4a4c-81c3-2190477dc347",
   "metadata": {},
   "outputs": [],
   "source": []
  },
  {
   "cell_type": "code",
   "execution_count": null,
   "id": "93e094c9-2d37-4eb3-99a1-9d72cd715781",
   "metadata": {},
   "outputs": [],
   "source": []
  },
  {
   "cell_type": "code",
   "execution_count": null,
   "id": "67994a79-09e0-498a-b754-56863d0ea26d",
   "metadata": {},
   "outputs": [],
   "source": []
  },
  {
   "cell_type": "code",
   "execution_count": null,
   "id": "bb2b181f-fa77-473c-a318-436707ad71cf",
   "metadata": {},
   "outputs": [],
   "source": []
  },
  {
   "cell_type": "code",
   "execution_count": null,
   "id": "257f0e62-9584-4a07-be5b-6451214d0044",
   "metadata": {},
   "outputs": [],
   "source": []
  },
  {
   "cell_type": "code",
   "execution_count": null,
   "id": "4df3d894-4c3e-4381-be5e-00ef42d0df0c",
   "metadata": {},
   "outputs": [],
   "source": []
  },
  {
   "cell_type": "code",
   "execution_count": null,
   "id": "303aea74-b4ef-4fdf-b82c-5211e337ce4e",
   "metadata": {},
   "outputs": [],
   "source": []
  },
  {
   "cell_type": "code",
   "execution_count": null,
   "id": "8287418b-f529-48fb-9cbd-384fe58be79b",
   "metadata": {},
   "outputs": [],
   "source": []
  },
  {
   "cell_type": "code",
   "execution_count": null,
   "id": "38a403a6-6a78-4f18-9ef5-9306001b5509",
   "metadata": {},
   "outputs": [],
   "source": []
  },
  {
   "cell_type": "code",
   "execution_count": null,
   "id": "fa92a439-75de-4efd-b7cc-6c6a50b981f1",
   "metadata": {},
   "outputs": [],
   "source": []
  },
  {
   "cell_type": "code",
   "execution_count": null,
   "id": "d79d35a3-1f4b-4da2-a050-bb8187891274",
   "metadata": {},
   "outputs": [],
   "source": []
  },
  {
   "cell_type": "code",
   "execution_count": null,
   "id": "0e405d00-a055-4850-ba4f-b26819494740",
   "metadata": {},
   "outputs": [],
   "source": []
  },
  {
   "cell_type": "code",
   "execution_count": null,
   "id": "096e7e93-0a22-4849-a0a1-d5b8e1a7d216",
   "metadata": {},
   "outputs": [],
   "source": []
  },
  {
   "cell_type": "code",
   "execution_count": null,
   "id": "00a88750-dfd8-4aab-a4c9-671956c109e4",
   "metadata": {},
   "outputs": [],
   "source": []
  },
  {
   "cell_type": "markdown",
   "id": "ffb4a92c-8786-4af7-b895-c65ed569974b",
   "metadata": {},
   "source": [
    "# 数位dp end"
   ]
  },
  {
   "cell_type": "markdown",
   "id": "eeb81430-1544-497d-971d-2a33a76cd91b",
   "metadata": {},
   "source": [
    "## 50. POW(x, n)"
   ]
  },
  {
   "cell_type": "code",
   "execution_count": 6,
   "id": "fce1c70a-d5d9-43a4-899e-a3b3c904fa8d",
   "metadata": {},
   "outputs": [],
   "source": [
    "# 1. 快速幂-recursion ver\n",
    "class Solution:\n",
    "    def myPow(self, x: float, n: int) -> float:\n",
    "        if n == 0: return 1\n",
    "        if n < 0: x, n = 1/x, -n\n",
    "        def qpow(x, n):\n",
    "            if n == 1: return x\n",
    "            if n % 2 != 0: return x * qpow(x, n-1)\n",
    "            cur = qpow(x, n//2)\n",
    "            return cur * cur\n",
    "        return qpow(x, n)"
   ]
  },
  {
   "cell_type": "code",
   "execution_count": 7,
   "id": "3b2120ec-5f95-4f96-a00e-699b7e9b8e01",
   "metadata": {},
   "outputs": [
    {
     "data": {
      "text/plain": [
       "0.03125"
      ]
     },
     "execution_count": 7,
     "metadata": {},
     "output_type": "execute_result"
    }
   ],
   "source": [
    "s = Solution()\n",
    "s.myPow(2,-5)"
   ]
  },
  {
   "cell_type": "code",
   "execution_count": 13,
   "id": "5e177fed-b57c-426e-a5c7-217d413a4287",
   "metadata": {},
   "outputs": [],
   "source": [
    "# iteration ver\n",
    "class Solution:\n",
    "    def myPow(self, x: float, n: int) -> float:\n",
    "        if n == 0: return 1\n",
    "        if n < 0: x, n = 1/x, -n\n",
    "        ans = 1\n",
    "        while n >= 1:\n",
    "            if n % 2 == 1:\n",
    "                ans *= x\n",
    "                n -= 1\n",
    "            else:\n",
    "                x *= x\n",
    "                n //= 2\n",
    "        return ans"
   ]
  },
  {
   "cell_type": "code",
   "execution_count": 15,
   "id": "9664d278-44e2-4c57-9450-13f73e28ceed",
   "metadata": {},
   "outputs": [
    {
     "data": {
      "text/plain": [
       "1024"
      ]
     },
     "execution_count": 15,
     "metadata": {},
     "output_type": "execute_result"
    }
   ],
   "source": [
    "s = Solution()\n",
    "s.myPow(2,10)"
   ]
  },
  {
   "cell_type": "code",
   "execution_count": 23,
   "id": "fa74093f-e76b-4aad-bb0a-0c13138baf10",
   "metadata": {},
   "outputs": [],
   "source": [
    "class Solution:\n",
    "    def myPow(self, x: float, n: int) -> float: \n",
    "        if n < 0: x, n = 1/x, -n\n",
    "        ans = 1\n",
    "        while n:\n",
    "            if n & 1: ans *= x\n",
    "            x *= x\n",
    "            n >>= 1\n",
    "        return ans\n",
    "            "
   ]
  },
  {
   "cell_type": "code",
   "execution_count": 24,
   "id": "d98d4339-74f1-4fa6-a8df-2cd027fcf54e",
   "metadata": {},
   "outputs": [
    {
     "data": {
      "text/plain": [
       "32"
      ]
     },
     "execution_count": 24,
     "metadata": {},
     "output_type": "execute_result"
    }
   ],
   "source": [
    "s = Solution()\n",
    "s.myPow(2, 5)"
   ]
  },
  {
   "cell_type": "markdown",
   "id": "bd758504-4459-49f3-9eed-22eefdbe528b",
   "metadata": {},
   "source": [
    "## 面试题 17.19. 消失的两个数字"
   ]
  },
  {
   "cell_type": "code",
   "execution_count": 5,
   "id": "35501f10-37f9-46c7-a928-212dd6f126fa",
   "metadata": {},
   "outputs": [],
   "source": [
    "from typing import List\n",
    "class Solution:\n",
    "    def missingTwo(self, nums: List[int]) -> List[int]:\n",
    "        set1 = set(nums)\n",
    "        set2 = set(i for i in range(1, len(nums)+3))\n",
    "        return list(set2-set1)"
   ]
  },
  {
   "cell_type": "code",
   "execution_count": 6,
   "id": "80446dec-dfe1-4c61-87c8-fbe77a6e0102",
   "metadata": {},
   "outputs": [
    {
     "data": {
      "text/plain": [
       "[1, 4]"
      ]
     },
     "execution_count": 6,
     "metadata": {},
     "output_type": "execute_result"
    }
   ],
   "source": [
    "s = Solution()\n",
    "s.missingTwo([2,3])"
   ]
  },
  {
   "cell_type": "markdown",
   "id": "b089728a-0fc4-4e92-b4c5-dfbd79185856",
   "metadata": {},
   "source": [
    "逃课，虽然是o(n)复杂度，但是内存不是o(1)"
   ]
  },
  {
   "cell_type": "markdown",
   "id": "b020f7c8-9e24-45e9-a36f-54c980ee332d",
   "metadata": {},
   "source": [
    "设数组长度为N，则本应包含 1, 2, ... , N  这些数字， 遍历一次数组，分别计算数组的所有元素之和与乘积，再与 $\\frac{n(n+1)}{2}$ , $n!$ ,对比，建立两个方程即可确定未知数。\n",
    "\n",
    "其中，遍历一次数组的复杂度为o(n)， 计算$n!$的复杂度也为o(n)，空间上只用储存四个变量，均满足题目要求"
   ]
  },
  {
   "cell_type": "code",
   "execution_count": 56,
   "id": "99b4a030-05b9-4324-bc65-2c79530ff0fb",
   "metadata": {},
   "outputs": [],
   "source": [
    "from math import factorial\n",
    "from time import time\n",
    "class Solution:\n",
    "    def missingTwo(self, nums: List[int]) -> List[int]:\n",
    "        n = len(nums)\n",
    "        aplusb = ((n + 3) * (n + 2)) // 2 - sum(nums)\n",
    "        multi = 1\n",
    "        t1 = time()\n",
    "        for i in nums: multi *= i\n",
    "        print(time() - t1)\n",
    "        amultib = factorial(n+2)//multi\n",
    "        # print(aplusb, amultib)\n",
    "        up = aplusb // 2 + 1 \n",
    "        for i in range(1, up):\n",
    "            if i * (aplusb - i) == amultib:\n",
    "                return [i, aplusb-  i]"
   ]
  },
  {
   "cell_type": "code",
   "execution_count": 83,
   "id": "36ee0ce4-7342-411e-82a5-8efc09516cd2",
   "metadata": {},
   "outputs": [
    {
     "name": "stdout",
     "output_type": "stream",
     "text": [
      "0.2842397689819336\n"
     ]
    },
    {
     "data": {
      "text/plain": [
       "[8, 458]"
      ]
     },
     "execution_count": 83,
     "metadata": {},
     "output_type": "execute_result"
    }
   ],
   "source": [
    "s = Solution()\n",
    "s.missingTwo(a)"
   ]
  },
  {
   "cell_type": "markdown",
   "id": "4462b0ec-e842-481d-8340-d863ca7ebb00",
   "metadata": {},
   "source": [
    "应该是计算乘法时消耗太多时间"
   ]
  },
  {
   "cell_type": "code",
   "execution_count": 74,
   "id": "3eb07ac5-34d4-48f1-aecc-c7b00a57b08b",
   "metadata": {},
   "outputs": [],
   "source": [
    "a = [i for i in range(1,1000000)]\n",
    "a.remove(8)\n",
    "a.remove(458)"
   ]
  },
  {
   "cell_type": "code",
   "execution_count": 82,
   "id": "a71f8605-7938-4694-ac44-7035d4e7b244",
   "metadata": {},
   "outputs": [],
   "source": [
    "from math import factorial\n",
    "from time import time\n",
    "class Solution:\n",
    "    def missingTwo(self, nums: List[int]) -> List[int]:\n",
    "        n = len(nums) + 2\n",
    "        aplusb = ((n + 1) * n) // 2 - sum(nums)\n",
    "        t1 = time()\n",
    "        a2plusb2 = (n*(n+1)*(2*n+1))//6 - sum(i**2 for i in nums)\n",
    "        print(time() - t1)\n",
    "        amultib = (aplusb**2 - a2plusb2)//2\n",
    "        # print(aplusb, amultib)\n",
    "        up = aplusb // 2 + 1 \n",
    "        # t1 = time()\n",
    "        for i in range(1, up):\n",
    "            if i * (aplusb - i) == amultib:\n",
    "                # print(t1 - time())\n",
    "                return [i, aplusb -  i]"
   ]
  },
  {
   "cell_type": "markdown",
   "id": "546dc872-a9ba-4425-9be6-6e37867d8a83",
   "metadata": {},
   "source": [
    "改为平方和计算依然耗时间"
   ]
  },
  {
   "cell_type": "code",
   "execution_count": null,
   "id": "35f3fec5-4fcc-4a01-8caf-33b2475ea7cc",
   "metadata": {},
   "outputs": [],
   "source": [
    "from math import factorial\n",
    "from time import time\n",
    "class Solution:\n",
    "    def missingTwo(self, nums: List[int]) -> List[int]:\n",
    "        n = len(nums) + 2\n",
    "        aplusb = ((n + 1) * n) // 2 - sum(nums)\n",
    "        t1 = time()\n",
    "        a2plusb2 = (n*(n+1)*(2*n+1))//6 - sum(i**2 for i in nums)\n",
    "        print(time() - t1)\n",
    "        amultib = (aplusb**2 - a2plusb2)//2\n",
    "        # print(aplusb, amultib)\n",
    "        up = aplusb // 2 + 1 \n",
    "        # t1 = time()\n",
    "        for i in range(1, up):\n",
    "            if i * (aplusb - i) == amultib:\n",
    "                # print(t1 - time())\n",
    "                return [i, aplusb -  i]"
   ]
  },
  {
   "cell_type": "markdown",
   "id": "2abf83ea-3ab1-4941-9fcf-d59b19f028bf",
   "metadata": {},
   "source": [
    "再议"
   ]
  },
  {
   "cell_type": "markdown",
   "id": "df768b9a-5d99-4ddd-9ea3-7824f4f43049",
   "metadata": {},
   "source": [
    "## 面试题 01.02. 判定是否为字符重排"
   ]
  },
  {
   "cell_type": "code",
   "execution_count": 105,
   "id": "463cd932-b5ec-4f94-970c-5ebc4e6805c2",
   "metadata": {},
   "outputs": [],
   "source": [
    "class Solution:\n",
    "    def CheckPermutation(self, s1: str, s2: str) -> bool:\n",
    "        return Counter(s1) == Counter(s2)\n",
    "        # return sorted(s1) == sorted(s2)"
   ]
  },
  {
   "cell_type": "markdown",
   "id": "71e8d2e7-eff2-4bd2-b144-c97c40d9c092",
   "metadata": {},
   "source": [
    "## 172. 阶乘后的零"
   ]
  },
  {
   "cell_type": "code",
   "execution_count": 201,
   "id": "6e9d60ac-422c-4374-8fbe-427b66dc7e79",
   "metadata": {},
   "outputs": [],
   "source": [
    "class Solution:\n",
    "    def trailingZeroes(self, n: int) -> int:\n",
    "        ans = 0\n",
    "        num = 5\n",
    "        while n // num != 0:\n",
    "            ans += n // num\n",
    "            num *= 5\n",
    "        return ans"
   ]
  },
  {
   "cell_type": "code",
   "execution_count": 204,
   "id": "e3b070bd-4901-4a56-897a-e7bf9aaecb96",
   "metadata": {},
   "outputs": [
    {
     "data": {
      "text/plain": [
       "249999998"
      ]
     },
     "execution_count": 204,
     "metadata": {},
     "output_type": "execute_result"
    }
   ],
   "source": [
    "s = Solution()\n",
    "s.trailingZeroes(10**9)"
   ]
  },
  {
   "cell_type": "code",
   "execution_count": 203,
   "id": "c494575b-14cd-4364-b7ed-70b33f710e2d",
   "metadata": {},
   "outputs": [],
   "source": [
    "class Solution:\n",
    "    def trailingZeroes(self, n: int) -> int:\n",
    "        ans = 0\n",
    "        while n:\n",
    "            n //= 5\n",
    "            ans += n\n",
    "        return ans"
   ]
  },
  {
   "cell_type": "markdown",
   "id": "7c414c49-c52a-4d07-9c22-c7f8694be177",
   "metadata": {},
   "source": [
    "## 2073. 买票需要的时间"
   ]
  },
  {
   "cell_type": "code",
   "execution_count": 235,
   "id": "3f3d5c69-c5b2-4e1e-86a4-a6b13fe5626e",
   "metadata": {},
   "outputs": [],
   "source": [
    "from collections import deque\n",
    "class Solution:\n",
    "    def timeRequiredToBuy(self, tickets: List[int], k: int) -> int:\n",
    "        cnt1, cnt2 = 0, 0\n",
    "        n = len(tickets)\n",
    "        while tickets[k]:\n",
    "            if tickets[cnt1 % n]:\n",
    "                tickets[cnt1 % n] -= 1\n",
    "                cnt2 += 1\n",
    "            cnt1 += 1\n",
    "        return cnt2"
   ]
  },
  {
   "cell_type": "code",
   "execution_count": 236,
   "id": "b11a7794-4350-4a79-8d77-2807610b377e",
   "metadata": {},
   "outputs": [],
   "source": [
    "tickets = [84,49,5,24,70,77,87,8]\n",
    "k = 3"
   ]
  },
  {
   "cell_type": "code",
   "execution_count": 237,
   "id": "d23f44bd-26cf-4e5b-a67f-b12b7257c4b8",
   "metadata": {},
   "outputs": [
    {
     "data": {
      "text/plain": [
       "154"
      ]
     },
     "execution_count": 237,
     "metadata": {},
     "output_type": "execute_result"
    }
   ],
   "source": [
    "s = Solution()\n",
    "s.timeRequiredToBuy(tickets, k)"
   ]
  },
  {
   "cell_type": "code",
   "execution_count": 238,
   "id": "b64b5ab2-e77d-44fb-b3f2-1b89564bfcd0",
   "metadata": {},
   "outputs": [],
   "source": [
    "class Solution:\n",
    "    def timeRequiredToBuy(self, tickets: List[int], k: int) -> int:\n",
    "        n = len(tickets)\n",
    "        res = 0\n",
    "        for i in range(n):\n",
    "            # 遍历计算每个人所需时间\n",
    "            if i <= k:\n",
    "                res += min(tickets[i], tickets[k])\n",
    "            else:\n",
    "                res += min(tickets[i], tickets[k] - 1)\n",
    "        return res"
   ]
  },
  {
   "cell_type": "markdown",
   "id": "5bef7989-bc0d-4936-a6e2-aaf8ea20e896",
   "metadata": {},
   "source": [
    "## 面试题 05.07. 配对交换"
   ]
  },
  {
   "cell_type": "code",
   "execution_count": null,
   "id": "51ea82c0-7a51-4646-8de0-cfcc4441962b",
   "metadata": {},
   "outputs": [],
   "source": [
    "class Solution:\n",
    "    def exchangeBits(self, num: int) -> int:\n",
    "        num = [i for i in bin(num)] + [str(num & 1)]\n",
    "        for i in range(2, len(num) - 1, 2):\n",
    "            num[i], num[i+1] = num[i+1], num[i]\n",
    "        return int(''.join(num[2:len(num)-1]), 2)"
   ]
  },
  {
   "cell_type": "code",
   "execution_count": null,
   "id": "2690bdde-3a3d-4fab-9516-f9cc9cc8acf9",
   "metadata": {},
   "outputs": [
    {
     "data": {
      "text/plain": [
       "['0', 'b', '1', '1', '1']"
      ]
     },
     "execution_count": 264,
     "metadata": {},
     "output_type": "execute_result"
    }
   ],
   "source": [
    "s = Solution()\n",
    "s.exchangeBits(3)"
   ]
  },
  {
   "cell_type": "code",
   "execution_count": null,
   "id": "24b3f0d6-16d6-4d1e-80ae-ecf44500e311",
   "metadata": {},
   "outputs": [
    {
     "data": {
      "text/plain": [
       "3"
      ]
     },
     "execution_count": 247,
     "metadata": {},
     "output_type": "execute_result"
    }
   ],
   "source": [
    "int('0011', 2)"
   ]
  },
  {
   "cell_type": "markdown",
   "id": "3fc49b67-278f-4790-a8b2-7e6e46cfd230",
   "metadata": {},
   "source": [
    "- 用10101010(即0xaa)作为掩码提取奇数位，再用01010101(即0x55)作为掩码提取偶数位\n",
    "- 提取奇数位后向右移到偶数位的位置，提取偶数位后向左移到奇数位的位置，进行或运算即可"
   ]
  },
  {
   "cell_type": "code",
   "execution_count": 267,
   "id": "e3368b4b-3ee0-413f-9ef2-97c82bd11084",
   "metadata": {},
   "outputs": [
    {
     "data": {
      "text/plain": [
       "32"
      ]
     },
     "execution_count": 267,
     "metadata": {},
     "output_type": "execute_result"
    }
   ],
   "source": [
    "len(bin(int('0xaaaaaaaa',16))[2:])"
   ]
  },
  {
   "cell_type": "code",
   "execution_count": 268,
   "id": "9366f8d9-bb5e-4f68-ad6a-3a1883c2d583",
   "metadata": {},
   "outputs": [],
   "source": [
    "class Solution:\n",
    "    def exchangeBits(self, num: int) -> int:\n",
    "        return (num & 0xaaaaaaaa) >> 1 | (num & 0x55555555) << 1 "
   ]
  },
  {
   "cell_type": "code",
   "execution_count": 269,
   "id": "82da68d5-d501-48d3-9e0f-cda736c67a79",
   "metadata": {},
   "outputs": [
    {
     "data": {
      "text/plain": [
       "3"
      ]
     },
     "execution_count": 269,
     "metadata": {},
     "output_type": "execute_result"
    }
   ],
   "source": [
    "s = Solution()\n",
    "s.exchangeBits(3)"
   ]
  },
  {
   "cell_type": "markdown",
   "id": "5ff22b65-9c35-4b33-a8e5-7d8a0172aa80",
   "metadata": {},
   "source": [
    "## 226. 翻转二叉树"
   ]
  },
  {
   "cell_type": "code",
   "execution_count": 19,
   "id": "c08d0d93-da6e-485c-a8b6-b46d430b7e51",
   "metadata": {},
   "outputs": [],
   "source": [
    "from typing import Optional\n",
    "from modules import TreeNode\n",
    "\n",
    "class Solution:\n",
    "    def invertTree(self, root: Optional[TreeNode]) -> Optional[TreeNode]:\n",
    "        if not root: return\n",
    "        root.left, root.right = root.right, root.left\n",
    "        self.invertTree(root.left)\n",
    "        self.invertTree(root.right)\n",
    "        return root"
   ]
  },
  {
   "cell_type": "code",
   "execution_count": 23,
   "id": "3bb07d69-706d-49b8-9813-06c80a3b6e0f",
   "metadata": {},
   "outputs": [],
   "source": [
    "from modules import constructTree, inorderTraversal\n",
    "root = [2,1,3]\n",
    "head = constructTree(root)"
   ]
  },
  {
   "cell_type": "code",
   "execution_count": 24,
   "id": "f9671ffc-8c54-408a-9300-56b42e3ec942",
   "metadata": {},
   "outputs": [],
   "source": [
    "s = Solution()\n",
    "res = s.invertTree(head)"
   ]
  },
  {
   "cell_type": "code",
   "execution_count": 25,
   "id": "6dd7dc31-8525-4561-8ed9-3810476c0bd3",
   "metadata": {},
   "outputs": [
    {
     "data": {
      "text/plain": [
       "[3, 2, 1]"
      ]
     },
     "execution_count": 25,
     "metadata": {},
     "output_type": "execute_result"
    }
   ],
   "source": [
    "inorderTraversal(res)"
   ]
  },
  {
   "cell_type": "markdown",
   "id": "cad70c64-72d0-4771-a439-dd9c1af89fd5",
   "metadata": {},
   "source": [
    "## 面试题 01.08. 零矩阵 (9.30)"
   ]
  },
  {
   "cell_type": "code",
   "execution_count": 2,
   "id": "92d412e3-6292-43aa-bb41-7ae3da75b613",
   "metadata": {},
   "outputs": [],
   "source": [
    "from typing import List\n",
    "class Solution:\n",
    "    def setZeroes(self, matrix: List[List[int]]) -> None:\n",
    "        \"\"\"\n",
    "        Do not return anything, modify matrix in-place instead.\n",
    "        \"\"\"\n",
    "        row_set, col_set = set(), set()\n",
    "        for r, row in enumerate(matrix):\n",
    "            for c, n in enumerate(row):\n",
    "                if not n:\n",
    "                    row_set.add(r)\n",
    "                    col_set.add(c)\n",
    "        \n",
    "        for r in row_set:\n",
    "            for i in range(len(matrix[0])): matrix[r][i] = 0\n",
    "        for c in col_set:\n",
    "            for i in range(len(matrix)): matrix[i][c] = 0\n",
    "            \n",
    "        return matrix"
   ]
  },
  {
   "cell_type": "code",
   "execution_count": 5,
   "id": "d04df2de-749b-4a58-a7df-0bfffc383c2c",
   "metadata": {},
   "outputs": [],
   "source": [
    "matrix = [\n",
    "  [0,1,2,0],\n",
    "  [3,4,5,2],\n",
    "  [1,3,1,5]\n",
    "]"
   ]
  },
  {
   "cell_type": "code",
   "execution_count": 6,
   "id": "c5d2d173-8211-48ab-9e7b-5b3b8ef0ea53",
   "metadata": {},
   "outputs": [
    {
     "data": {
      "text/plain": [
       "[[0, 0, 0, 0], [0, 4, 5, 0], [0, 3, 1, 0]]"
      ]
     },
     "execution_count": 6,
     "metadata": {},
     "output_type": "execute_result"
    }
   ],
   "source": [
    "s = Solution()\n",
    "s.setZeroes(matrix)"
   ]
  },
  {
   "cell_type": "markdown",
   "id": "54337b03-d584-4f06-9b2c-4d52330be0b6",
   "metadata": {},
   "source": [
    "## 面试题 01.09. 字符串轮转"
   ]
  },
  {
   "cell_type": "code",
   "execution_count": 12,
   "id": "d168d5f1-3302-48b1-a8a8-2b26bfbe46d9",
   "metadata": {},
   "outputs": [],
   "source": [
    "class Solution:\n",
    "    def isFlipedString(self, s1: str, s2: str) -> bool:\n",
    "        if not s1 and not s2: return True\n",
    "        for n, ch in enumerate(s2):\n",
    "            if ch != s1[0]: continue\n",
    "            s = s2[n:] + s2[0:n]\n",
    "            if s == s1: return True\n",
    "        return False"
   ]
  },
  {
   "cell_type": "code",
   "execution_count": 19,
   "id": "a059099e-c815-49fc-96a7-e159b43f8a96",
   "metadata": {},
   "outputs": [],
   "source": [
    "s1 = \"waterbottle\"\n",
    "s2 = \"erbottlewa\""
   ]
  },
  {
   "cell_type": "code",
   "execution_count": 20,
   "id": "77adf41f-acff-4175-a042-3b82ee48b5f7",
   "metadata": {},
   "outputs": [
    {
     "data": {
      "text/plain": [
       "False"
      ]
     },
     "execution_count": 20,
     "metadata": {},
     "output_type": "execute_result"
    }
   ],
   "source": [
    "s = Solution()\n",
    "s.isFlipedString(s1, s2)"
   ]
  },
  {
   "cell_type": "markdown",
   "id": "7cf1cc21-b570-4809-a33e-c204a3686132",
   "metadata": {},
   "source": [
    "woc, 若s2是s1的轮转，那么s1 + s1 中必然包含s2, 再判断长度即可"
   ]
  },
  {
   "cell_type": "code",
   "execution_count": 18,
   "id": "33ec27a5-bf7e-459c-b9b3-020be392b34c",
   "metadata": {},
   "outputs": [],
   "source": [
    "class Solution:\n",
    "    def isFlipedString(self, s1: str, s2: str) -> bool:\n",
    "        return s2 in s1 + s1 and len(s1) == len(s2)"
   ]
  },
  {
   "cell_type": "markdown",
   "id": "8fe2d5b6-b569-4de8-b0d7-363443132f03",
   "metadata": {},
   "source": [
    "## 面试题 17.09. 第k个数"
   ]
  },
  {
   "cell_type": "markdown",
   "id": "da0fd2f3-59bd-4da7-b2c1-a92f3ec66348",
   "metadata": {},
   "source": [
    "### 数据结构： 堆 heap"
   ]
  },
  {
   "cell_type": "markdown",
   "id": "bc02cd4b-5842-4237-9229-6150520dbbce",
   "metadata": {},
   "source": [
    "堆就是用数组表示的二叉树，分为大根堆和小根堆，大根堆为堆顶元素最大的堆，小根堆为堆顶元素最小的堆。\n",
    "\n",
    "heapq实现了一个适合与python的列表一起使用的最小堆排序算法。"
   ]
  },
  {
   "cell_type": "code",
   "execution_count": 34,
   "id": "2ab8c1ab-3ee2-44bc-b206-7078fcbb1291",
   "metadata": {},
   "outputs": [
    {
     "name": "stdout",
     "output_type": "stream",
     "text": [
      "[1, 2, 3, 5, 4] <class 'list'>\n"
     ]
    }
   ],
   "source": [
    "import heapq\n",
    "a = [5,4,3,2,1]\n",
    "heapq.heapify(a)\n",
    "print(a, type(a))"
   ]
  },
  {
   "cell_type": "code",
   "execution_count": 35,
   "id": "84212e34-bd3f-4714-bfec-f3a88c6260f1",
   "metadata": {},
   "outputs": [
    {
     "data": {
      "text/plain": [
       "[1, 2, 3, 5, 4, 6]"
      ]
     },
     "execution_count": 35,
     "metadata": {},
     "output_type": "execute_result"
    }
   ],
   "source": [
    "heapq.heappush(a, 6)\n",
    "a"
   ]
  },
  {
   "cell_type": "code",
   "execution_count": 36,
   "id": "828e595d-352e-4129-ba41-88109d8c9d3b",
   "metadata": {},
   "outputs": [
    {
     "data": {
      "text/plain": [
       "[2, 4, 3, 5, 6]"
      ]
     },
     "execution_count": 36,
     "metadata": {},
     "output_type": "execute_result"
    }
   ],
   "source": [
    "heapq.heappop(a)  # pop堆顶的元素\n",
    "a  "
   ]
  },
  {
   "cell_type": "code",
   "execution_count": 37,
   "id": "8ecfe196-6ccf-4804-8854-a72dfa40258b",
   "metadata": {},
   "outputs": [
    {
     "name": "stdout",
     "output_type": "stream",
     "text": [
      "2 [3, 4, 7, 5, 6]\n"
     ]
    }
   ],
   "source": [
    "b = heapq.heappushpop(a, 7)  # 先push给定数字，再pop堆顶数字，返回被pop的数字\n",
    "print(b, a)"
   ]
  },
  {
   "cell_type": "code",
   "execution_count": 41,
   "id": "912dec68-f064-4303-a4af-6c7a58ab0c48",
   "metadata": {},
   "outputs": [],
   "source": [
    "class Solution:\n",
    "    def getKthMagicNumber(self, k: int) -> int:\n",
    "        factors = [3, 5, 7]\n",
    "        seen = {1}\n",
    "        heap = [1]\n",
    "\n",
    "        for i in range(k - 1):\n",
    "            curr = heapq.heappop(heap)\n",
    "            for factor in factors:\n",
    "                # if (nxt := curr * factor) not in seen: \n",
    "                nxt = curr * factor \n",
    "                if nxt not in seen:\n",
    "                    seen.add(nxt)\n",
    "                    heapq.heappush(heap, nxt)\n",
    "\n",
    "        return heapq.heappop(heap)"
   ]
  },
  {
   "cell_type": "code",
   "execution_count": null,
   "id": "32a72127-00af-4cf7-a79b-1fb573a20e6e",
   "metadata": {},
   "outputs": [],
   "source": [
    "# dp\n",
    "class Solution:\n",
    "    def getKthMagicNumber(self, k: int) -> int:\n",
    "        dp = [0] * (k + 1)\n",
    "        dp[1] = 1\n",
    "        p3 = p5 = p7 = 1\n",
    "\n",
    "        for i in range(2, k + 1):\n",
    "            num3, num5, num7 = dp[p3] * 3, dp[p5] * 5, dp[p7] * 7\n",
    "            dp[i] = min(num3, num5, num7)\n",
    "            if dp[i] == num3:\n",
    "                p3 += 1\n",
    "            if dp[i] == num5:\n",
    "                p5 += 1\n",
    "            if dp[i] == num7:\n",
    "                p7 += 1\n",
    "        \n",
    "        return dp[k]"
   ]
  },
  {
   "cell_type": "markdown",
   "id": "d8e03c09-a701-4d07-a639-0b0b04f230e9",
   "metadata": {},
   "source": []
  },
  {
   "cell_type": "code",
   "execution_count": null,
   "id": "4b513af8-cdf3-4628-b2c6-7b4a961d2c4f",
   "metadata": {},
   "outputs": [],
   "source": []
  },
  {
   "cell_type": "code",
   "execution_count": null,
   "id": "341a8a65-924c-4e72-b38b-3008bba46d73",
   "metadata": {},
   "outputs": [],
   "source": []
  },
  {
   "cell_type": "code",
   "execution_count": null,
   "id": "423fceec-4930-49ee-a503-97b7e97cf34e",
   "metadata": {},
   "outputs": [],
   "source": []
  },
  {
   "cell_type": "code",
   "execution_count": null,
   "id": "6e2e7b2e-19df-4626-98b8-c386397b6e1a",
   "metadata": {},
   "outputs": [],
   "source": []
  },
  {
   "cell_type": "code",
   "execution_count": null,
   "id": "6af7f458-1f93-4df6-b16e-53125bc78560",
   "metadata": {},
   "outputs": [],
   "source": []
  },
  {
   "cell_type": "code",
   "execution_count": null,
   "id": "019da6d1-1332-430f-b5e6-130b8b0f20bc",
   "metadata": {},
   "outputs": [],
   "source": []
  },
  {
   "cell_type": "code",
   "execution_count": null,
   "id": "a2f5d224-8d18-4f2d-a8f2-7cd17d196e18",
   "metadata": {},
   "outputs": [],
   "source": []
  },
  {
   "cell_type": "code",
   "execution_count": null,
   "id": "5dd4a41b-3314-4b8a-98fe-a0438eed667e",
   "metadata": {},
   "outputs": [],
   "source": []
  },
  {
   "cell_type": "code",
   "execution_count": null,
   "id": "22ace5ea-306d-4cc2-8b11-191f4c827017",
   "metadata": {},
   "outputs": [],
   "source": []
  },
  {
   "cell_type": "code",
   "execution_count": null,
   "id": "8450b5fb-1dc1-4cf9-bf01-c2e812cdb381",
   "metadata": {},
   "outputs": [],
   "source": []
  },
  {
   "cell_type": "code",
   "execution_count": null,
   "id": "ed74c21f-5b6b-4d86-ad03-3db25338b7e1",
   "metadata": {},
   "outputs": [],
   "source": []
  },
  {
   "cell_type": "code",
   "execution_count": null,
   "id": "1f538510-56d1-472e-9c92-f341fe3f38ce",
   "metadata": {},
   "outputs": [],
   "source": []
  },
  {
   "cell_type": "code",
   "execution_count": null,
   "id": "87e37ef3-4f43-49ee-aac9-39ce4f01c971",
   "metadata": {},
   "outputs": [],
   "source": []
  },
  {
   "cell_type": "code",
   "execution_count": null,
   "id": "f6032796-1685-42cc-9130-3fc0cc6feb9f",
   "metadata": {},
   "outputs": [],
   "source": []
  },
  {
   "cell_type": "code",
   "execution_count": null,
   "id": "fb80f6aa-3c5a-4e76-b50d-bf9d5e370d0b",
   "metadata": {},
   "outputs": [],
   "source": []
  },
  {
   "cell_type": "code",
   "execution_count": null,
   "id": "197ab3ae-85ea-4f3b-a29b-cbc099b8f5d4",
   "metadata": {},
   "outputs": [],
   "source": []
  },
  {
   "cell_type": "code",
   "execution_count": null,
   "id": "7f982dc2-701c-4694-956b-2deba80ee407",
   "metadata": {},
   "outputs": [],
   "source": []
  }
 ],
 "metadata": {
  "kernelspec": {
   "display_name": "Python 3 (ipykernel)",
   "language": "python",
   "name": "python3"
  },
  "language_info": {
   "codemirror_mode": {
    "name": "ipython",
    "version": 3
   },
   "file_extension": ".py",
   "mimetype": "text/x-python",
   "name": "python",
   "nbconvert_exporter": "python",
   "pygments_lexer": "ipython3",
   "version": "3.6.3"
  }
 },
 "nbformat": 4,
 "nbformat_minor": 5
}
