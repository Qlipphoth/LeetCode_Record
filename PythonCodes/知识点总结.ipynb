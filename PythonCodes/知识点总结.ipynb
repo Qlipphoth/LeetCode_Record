{
 "cells": [
  {
   "cell_type": "markdown",
   "metadata": {},
   "source": [
    "#### 差分数组：\n",
    "\n",
    "差分数组与前缀和的关系：前缀和数组能快速求解某段区间之和，差分数组能够快速修改某段区间。\n",
    "\n",
    "- [1094. 拼车](https://leetcode.cn/problems/car-pooling/)\n",
    "- [1109. 航班预定统计](https://leetcode.cn/problems/corporate-flight-bookings/)\n",
    "- [2406. 将区间分为最少组数](https://leetcode.cn/problems/divide-intervals-into-minimum-number-of-groups/)\n",
    "- [2381. 字母移位 Ⅱ](https://leetcode.cn/problems/shifting-letters-ii/)\n",
    "- [2772. 使数组中的所有元素都等于零](https://leetcode.cn/problems/apply-operations-to-make-all-array-elements-equal-to-zero/)\n",
    "- [2528. 最大化城市的最小电量](https://leetcode.cn/problems/maximize-the-minimum-powered-city/)"
   ]
  },
  {
   "cell_type": "markdown",
   "metadata": {},
   "source": [
    "#### 滑动窗口\n",
    "\n",
    "- 1456\n",
    "- 2269\n",
    "- 1984\n",
    "- 643\n",
    "- 1343\n",
    "- 2090\n",
    "- 2379\n",
    "- 1052\n",
    "- 2841\n",
    "- 2461\n",
    "- 1423\n",
    "- 2134\n",
    "- 2653\n",
    "- 567\n",
    "- 438\n",
    "- 2156\n",
    "- 346\n",
    "- 1100\n",
    "- 1852"
   ]
  },
  {
   "cell_type": "code",
   "execution_count": null,
   "metadata": {},
   "outputs": [],
   "source": []
  },
  {
   "cell_type": "code",
   "execution_count": null,
   "metadata": {},
   "outputs": [],
   "source": []
  },
  {
   "cell_type": "code",
   "execution_count": null,
   "metadata": {},
   "outputs": [],
   "source": []
  },
  {
   "cell_type": "code",
   "execution_count": null,
   "metadata": {},
   "outputs": [],
   "source": []
  },
  {
   "cell_type": "code",
   "execution_count": null,
   "metadata": {},
   "outputs": [],
   "source": []
  },
  {
   "cell_type": "code",
   "execution_count": null,
   "metadata": {},
   "outputs": [],
   "source": []
  },
  {
   "cell_type": "code",
   "execution_count": null,
   "metadata": {},
   "outputs": [],
   "source": []
  },
  {
   "cell_type": "code",
   "execution_count": null,
   "metadata": {},
   "outputs": [],
   "source": []
  },
  {
   "cell_type": "code",
   "execution_count": null,
   "metadata": {},
   "outputs": [],
   "source": []
  }
 ],
 "metadata": {
  "language_info": {
   "name": "python"
  }
 },
 "nbformat": 4,
 "nbformat_minor": 2
}
