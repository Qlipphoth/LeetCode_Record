{
 "cells": [
  {
   "cell_type": "markdown",
   "metadata": {},
   "source": [
    "## 红黑树"
   ]
  },
  {
   "cell_type": "markdown",
   "metadata": {},
   "source": [
    "### 红黑树节点"
   ]
  },
  {
   "cell_type": "code",
   "execution_count": 2,
   "metadata": {},
   "outputs": [],
   "source": [
    "class RB_Node:\n",
    "    '''0 is black, 1 is red'''\n",
    "    def __init__(self, val, color = 1):\n",
    "        self.val = val\n",
    "        self.color = color\n",
    "        self.left = None\n",
    "        self.right = None\n",
    "        self.parent = None\n",
    "    \n",
    "    def is_black_node(self):\n",
    "        return self.color == 0\n",
    "\n",
    "    def set_black_node(self):\n",
    "        self.color = 0\n",
    "    \n",
    "    def set_red_node(self):\n",
    "        self.color = 1\n",
    "\n",
    "    def print(self):\n",
    "        '''中序遍历打印树'''\n",
    "        if self.left: self.left.print()\n",
    "        # print((self.val, self.color))\n",
    "        print(self.val)\n",
    "        if self.right: self.right.print()"
   ]
  },
  {
   "cell_type": "markdown",
   "metadata": {},
   "source": [
    "### 左旋与右旋"
   ]
  },
  {
   "cell_type": "code",
   "execution_count": 3,
   "metadata": {},
   "outputs": [],
   "source": [
    "class RB_Tree:\n",
    "    def __init__(self, root=None):\n",
    "        self.root = root\n",
    "    \n",
    "    def print(self):\n",
    "        self.root.print()\n",
    "\n",
    "    def left_rotate(self, node: RB_Node):\n",
    "        '''\n",
    "        左旋操作，分为三步：\n",
    "        1. 将 r.parent 置为 p（可能会更新 root），根据 node 的位置把 r 连接至 p.left 或 p.right\n",
    "        2. 将 node.parent 置为 r，r.left 置为 node\n",
    "        3. 将 node.right 置为 rl，若 rl 存在，将 rl.parent 置为 node，\n",
    "        * 左旋示意图：对节点x进行左旋\n",
    "        *     p                       p\n",
    "        *    /                       /\n",
    "        *   node                    r\n",
    "        *  / \\                     / \\\n",
    "        * x   r     ----->      node  rr\n",
    "        *    / \\                /  \\\n",
    "        *   rl  rr             x   rl\n",
    "        '''\n",
    "\n",
    "        p = node.parent \n",
    "        r = node.right\n",
    "        rl = r.left\n",
    "\n",
    "        # 1 r 连到父节点，若父节点为空（node 为 root），更新 root\n",
    "        r.parent = p\n",
    "        if not p: self.root = r \n",
    "        else:\n",
    "            # 1.1 根据 node 相对于 p 的位置来连接 p 与 r\n",
    "            if (p.left == node): p.left = r \n",
    "            else: p.right = r \n",
    "\n",
    "        # 2. 连接 node 与 r\n",
    "        node.parent = r\n",
    "        r.left = node \n",
    "        \n",
    "        # 3. 连接 rl 与 node\n",
    "        node.right = rl \n",
    "        if (rl): rl.parent = node \n",
    "\n",
    "    def right_rotate(self, node: RB_Node):\n",
    "        ''' \n",
    "        右旋操作，分为三步：\n",
    "        1. 将 l.parent 置为 p（可能会更新 root），根据 node 的位置把 l 连接至 p.left 或 p.right\n",
    "        2. 将 node.parent 置为 l，l.right 置为 node\n",
    "        3. 将 node.left 置为 lr，若 lr 存在，将 lr.parent 置为 node，\n",
    "        * 右旋示意图：对节点y进行右旋\n",
    "        *         p                   p\n",
    "        *        /                   /\n",
    "        *      node                 l\n",
    "        *     /    \\               / \\\n",
    "        *    l      r   ----->   ll  node\n",
    "        *   / \\                      /  \\\n",
    "        * ll   lr                   lr   r\n",
    "        '''\n",
    "        p = node.parent\n",
    "        l = node.left\n",
    "        lr = l.right\n",
    "\n",
    "        l.parent = p\n",
    "        if not p: self.root = l\n",
    "        else:\n",
    "            if (p.left == node): p.left = l \n",
    "            else: p.right = l \n",
    "\n",
    "        node.parent = l \n",
    "        l.right = node \n",
    "\n",
    "        node.left = lr\n",
    "        if (lr): lr.parent = node "
   ]
  },
  {
   "cell_type": "markdown",
   "metadata": {},
   "source": [
    "#### 测试"
   ]
  },
  {
   "cell_type": "code",
   "execution_count": 14,
   "metadata": {},
   "outputs": [],
   "source": [
    "from collections import deque\n",
    "from typing import List\n",
    "\n",
    "def list2Tree(l: List[int]) -> RB_Node:\n",
    "    assert (len(l) > 0), \"len(l) must > 0\"\n",
    "    tree = RB_Tree(RB_Node(l[0], 0))\n",
    "    deq = deque()\n",
    "    curp = tree.root\n",
    "    for i in range(1, len(l)):\n",
    "        curs = RB_Node(l[i])\n",
    "        if (curp.right): curp = deq.popleft()\n",
    "        if (curp.left): curp.right = curs\n",
    "        else: curp.left = curs\n",
    "        curs.parent = curp \n",
    "        deq.append(curs)\n",
    "    return tree "
   ]
  },
  {
   "cell_type": "code",
   "execution_count": 7,
   "metadata": {},
   "outputs": [],
   "source": [
    "def printTree(root):\n",
    "    def maxDepth(root):\n",
    "        if not root:\n",
    "            return -1\n",
    "        leftDepth = maxDepth(root.left)\n",
    "        rightDepth = maxDepth(root.right)\n",
    "        return max(leftDepth, rightDepth) + 1\n",
    "    h = maxDepth(root)\n",
    "\n",
    "    m = h + 1\n",
    "    n = pow(2, m) - 1\n",
    "    res = [[\"\" for i in range(n)] for i in range(m)]\n",
    "    nodes = [(root, 0, (n-1)//2)]\n",
    "    \n",
    "    while nodes:\n",
    "        cur, r, c = nodes.pop()\n",
    "        res[r][c] = str(cur.val)\n",
    "        if cur.left:\n",
    "            nodes.append((cur.left, r+1, c-pow(2,h-r-1)))\n",
    "        if cur.right:\n",
    "            nodes.append((cur.right, r+1, c+pow(2,h-r-1)))\n",
    "    \n",
    "    return res"
   ]
  },
  {
   "cell_type": "code",
   "execution_count": 8,
   "metadata": {},
   "outputs": [],
   "source": [
    "t = list2Tree([1,2,3,4,5,6])"
   ]
  },
  {
   "cell_type": "code",
   "execution_count": 9,
   "metadata": {},
   "outputs": [],
   "source": [
    "t.right_rotate(t.root)"
   ]
  },
  {
   "cell_type": "code",
   "execution_count": 10,
   "metadata": {},
   "outputs": [
    {
     "data": {
      "text/plain": [
       "[['', '', '', '', '', '', '', '2', '', '', '', '', '', '', ''],\n",
       " ['', '', '', '4', '', '', '', '', '', '', '', '1', '', '', ''],\n",
       " ['', '', '', '', '', '', '', '', '', '5', '', '', '', '3', ''],\n",
       " ['', '', '', '', '', '', '', '', '', '', '', '', '6', '', '']]"
      ]
     },
     "execution_count": 10,
     "metadata": {},
     "output_type": "execute_result"
    }
   ],
   "source": [
    "printTree(t.root)"
   ]
  },
  {
   "cell_type": "markdown",
   "metadata": {},
   "source": [
    "### 插入"
   ]
  },
  {
   "cell_type": "markdown",
   "metadata": {},
   "source": [
    "在讨论插入情况之前，先做如下表述上的约定：新插入节点为 Node，其父节点为 P， 祖父节点为 G，叔叔节点为 U，插入节点与父节点的相对位置为 L/R。\n",
    "\n",
    "新插入节点初始化为红色节点，插入节点时有以下几种情况：\n",
    "\n",
    "1. 插入节点为根节点，直接将节点颜色置为黑色\n",
    "2. 插入节点的父节点为黑色，不需要做任何操作\n",
    "3. 插入节点的父节点为红色，需要进行调整\n",
    "    1. 插入节点的叔叔节点为红色，将父节点和叔叔节点置为黑色，祖父节点置为红色，将祖父节点作为新的插入节点，继续调整\n",
    "    2. 插入节点的叔叔节点为黑色，且插入节点与父节点同侧（LL/RR），以祖父节点为支点进行反向旋转（R/L），将父节点置为黑色，祖父节点置为红色。\n",
    "    3. 插入节点的叔叔节点为黑色，且插入节点与父节点异侧（LR/RL），以父节点为支点进行反向旋转（L/R），转化为 3.2。"
   ]
  },
  {
   "cell_type": "code",
   "execution_count": 35,
   "metadata": {},
   "outputs": [],
   "source": [
    "class RB_Tree:\n",
    "    def __init__(self, root=None):\n",
    "        self.root = root\n",
    "    \n",
    "    def print(self):\n",
    "        self.root.print()\n",
    "\n",
    "    def left_rotate(self, node: RB_Node):\n",
    "        p = node.parent \n",
    "        r = node.right\n",
    "        rl = r.left\n",
    "\n",
    "        # 1. r 连到父节点，若父节点为空（node 为 root），更新 root\n",
    "        r.parent = p\n",
    "        if not p: self.root = r \n",
    "        else:\n",
    "            # 1.1 根据 node 相对于 p 的位置来连接 p 与 r\n",
    "            if (p.left == node): p.left = r \n",
    "            else: p.right = r \n",
    "\n",
    "        # 2. 连接 node 与 r\n",
    "        node.parent = r\n",
    "        r.left = node \n",
    "        \n",
    "        # 3. 连接 rl 与 node\n",
    "        node.right = rl \n",
    "        if (rl): rl.parent = node \n",
    "\n",
    "    def right_rotate(self, node: RB_Node):\n",
    "        p = node.parent\n",
    "        l = node.left\n",
    "        lr = l.right\n",
    "\n",
    "        l.parent = p\n",
    "        if not p: self.root = l\n",
    "        else:\n",
    "            if (p.left == node): p.left = l \n",
    "            else: p.right = l \n",
    "\n",
    "        node.parent = l \n",
    "        l.right = node \n",
    "\n",
    "        node.left = lr\n",
    "        if (lr): lr.parent = node  \n",
    "\n",
    "    def insert_rebalance(self, node):\n",
    "        # 目前正在处理的节点\n",
    "        cur = node  \n",
    "        # 父节点为黑色不用处理，2\n",
    "        while (cur.parent.color == 1):  \n",
    "            p = cur.parent\n",
    "            g = cur.parent.parent\n",
    "            # L\n",
    "            if (p == g.left): \n",
    "                u = g.right\n",
    "                # uncle 红色，3.1\n",
    "                if (u.color == 1):  \n",
    "                    p.color = u.color = 0\n",
    "                    g.color = 1\n",
    "                    # 更新当前处理节点切换为祖父节点\n",
    "                    cur = g  \n",
    "                else:\n",
    "                    # LR, 3.3 转化为 3.2\n",
    "                    if (cur == p.right): self.left_rotate(p)\n",
    "                    p.color = 0\n",
    "                    g.color = 1\n",
    "                    self.right_rotate(g)\n",
    "            # R\n",
    "            else:\n",
    "                u = g.left\n",
    "                if (u.color == 1):\n",
    "                    p.color = u.color = 0\n",
    "                    g.color = 1\n",
    "                    cur = g\n",
    "                else:\n",
    "                    # RL, 转为 3.2\n",
    "                    if (cur == p.left): self.right_rotate(p)\n",
    "                    self.left_rotate(g)\n",
    "                    p.color = 0\n",
    "                    g.color = 1\n",
    "            \n",
    "            if (cur == self.root): break\n",
    "        # 根节点始终为黑色\n",
    "        self.root.color = 0"
   ]
  },
  {
   "cell_type": "code",
   "execution_count": 36,
   "metadata": {},
   "outputs": [],
   "source": [
    "def printTree(root, color = True):\n",
    "    def maxDepth(root):\n",
    "        if not root: return -1\n",
    "        leftDepth = maxDepth(root.left)\n",
    "        rightDepth = maxDepth(root.right)\n",
    "        return max(leftDepth, rightDepth) + 1\n",
    "    \n",
    "    h = maxDepth(root)\n",
    "    m = h + 1\n",
    "    n = pow(2, m) - 1\n",
    "    res = [[\"\" for i in range(n)] for i in range(m)]\n",
    "    nodes = [(root, 0, (n-1)//2)]\n",
    "    \n",
    "    while nodes:\n",
    "        cur, r, c = nodes.pop()\n",
    "        res[r][c] = str(cur.val)\n",
    "        if color: res[r][c] += \" \" + str(cur.color)\n",
    "        if cur.left: nodes.append((cur.left, r+1, c-pow(2,h-r-1)))\n",
    "        if cur.right: nodes.append((cur.right, r+1, c+pow(2,h-r-1)))\n",
    "    \n",
    "    return res"
   ]
  },
  {
   "cell_type": "code",
   "execution_count": 37,
   "metadata": {},
   "outputs": [],
   "source": [
    "t = list2Tree([1, 2, 3, 4])"
   ]
  },
  {
   "cell_type": "code",
   "execution_count": 38,
   "metadata": {},
   "outputs": [
    {
     "data": {
      "text/plain": [
       "[['', '', '', '1 0', '', '', ''],\n",
       " ['', '2 1', '', '', '', '3 1', ''],\n",
       " ['4 1', '', '', '', '', '', '']]"
      ]
     },
     "execution_count": 38,
     "metadata": {},
     "output_type": "execute_result"
    }
   ],
   "source": [
    "printTree(t.root)"
   ]
  },
  {
   "cell_type": "code",
   "execution_count": 39,
   "metadata": {},
   "outputs": [],
   "source": [
    "t.insert_rebalance(t.root.left.left)"
   ]
  },
  {
   "cell_type": "code",
   "execution_count": 40,
   "metadata": {},
   "outputs": [
    {
     "data": {
      "text/plain": [
       "[['', '', '', '1 0', '', '', ''],\n",
       " ['', '2 0', '', '', '', '3 0', ''],\n",
       " ['4 1', '', '', '', '', '', '']]"
      ]
     },
     "execution_count": 40,
     "metadata": {},
     "output_type": "execute_result"
    }
   ],
   "source": [
    "printTree(t.root)"
   ]
  },
  {
   "cell_type": "markdown",
   "metadata": {},
   "source": [
    "## 节点删除及树修复"
   ]
  },
  {
   "cell_type": "markdown",
   "metadata": {},
   "source": [
    "红黑树的节点删除操作逻辑上分为两部分，节点的删除以及树的重新平衡，实际上在许多代码中也将删除操作分为两个函数来完成，这里的实现也按照此逻辑。\n",
    "\n",
    "笔者认为，网络上包括书籍中的很多关于红黑树删除的教程，之所以让人看了云里雾里，是因为它们在演示中并没有将删除以及重新平衡这两个步骤分开来展示，在列举各种情况时总是把删除以及重新平衡的情况放一起说完，这样就会导致逻辑的混乱，且不利于记忆写代码的步骤。笔者试图按照自己看了许多相关博客后的理解，力求把删除这件事情说明白。"
   ]
  },
  {
   "cell_type": "markdown",
   "metadata": {},
   "source": [
    "### 节点删除"
   ]
  },
  {
   "cell_type": "markdown",
   "metadata": {},
   "source": [
    "就节点删除这一个步骤来看，红黑树的节点删除操作与BST（二叉搜索树）基本相同，可分为三种情况：\n",
    "\n",
    "\n",
    "1. 删除只有一个子树的节点：删除原节点，用单独的子节点代替被删除节点\n",
    "2. 删除没有子树的节点：直接删除原节点，相当于用一个空节点代替了被删除节点\n",
    "3. 删除有两个子树的节点：寻找后继或前继节点（这里选择后继），将待删除节点的值变为后继节点的值，再删除后继节点，删除后继节点一定会变成 1 或 2 的情况（可以思考一下为什么）\n",
    "\n",
    "但由于红黑树的特殊性（多了一个颜色属性），因此要记录被删除节点的颜色，以应用到后续的平衡步骤中。"
   ]
  },
  {
   "cell_type": "code",
   "execution_count": 42,
   "metadata": {},
   "outputs": [],
   "source": [
    "def findMin(self, node):\n",
    "    \"\"\"\n",
    "    找到以 node 节点为根节点的树的最小值节点 并返回\n",
    "    \"\"\"\n",
    "    temp_node = node\n",
    "    while temp_node.left: temp_node = temp_node.left\n",
    "    return temp_node\n",
    "\n",
    "def transplant(self, tree, node1, node2):\n",
    "    \"\"\"\n",
    "    辅助函数，用 node2 替换 node1\n",
    "    \"\"\"\n",
    "    p1 = node1.parent\n",
    "    if not p1: tree.root = node2\n",
    "    elif (node1 == p1.left): p1.left = node2\n",
    "    elif (node1 == p1.right): p1.right = node2\n",
    "    if node2: node2.parent = p1"
   ]
  },
  {
   "cell_type": "markdown",
   "metadata": {},
   "source": [
    "用 node2 替换 node1，这里只考虑了 node1 的parent 指针与 node2 的交接而没有考虑两个节点的 left 及 right 指针的问题，因为在大部分操作中，node2 为 node1 唯一的子节点，而 node1 即将被删除，不需考虑 left 及 right 指针，需要维护 left 及 right 指针时会在执行完函数后单独处理。"
   ]
  },
  {
   "cell_type": "code",
   "execution_count": 44,
   "metadata": {},
   "outputs": [],
   "source": [
    "def delete_node(self, node):\n",
    "    node_color = node.color\n",
    "    temp_node = None  # 替换到被删除节点（node）处的节点\n",
    "    \n",
    "    # ===================== case1 与 case2 ================== //\n",
    "    # node 本身被删除\n",
    "    if not node.left:\n",
    "        temp_node = node.right\n",
    "        self.transplant(node, node.right)\n",
    "    elif not node.right:\n",
    "        temp_node = node.left\n",
    "        self.transplant(node, node.left)\n",
    "    # ========================= case 3 ====================== //\n",
    "    # node 的后继被删除\n",
    "    else:\n",
    "        # 找到后继节点，及右子树中的最小节点，该节点将代替 node 被删除\n",
    "        successor = self.findMin(node.right)\n",
    "        node_color = successor.color\n",
    "        # temp_node 将在 successor 被删除后代替它\n",
    "        temp_node = successor.right\n",
    "        # 将 node 替换为 successor，相当于仅替换值\n",
    "        node.val = successor.val\n",
    "        # 删除 successor，用 temp_node 替代\n",
    "        self.transplant(successor, temp_node)\n",
    "        \n",
    "    # 这里的 delete_rebalance 为红黑树的重新平衡操作，需要注意的是，\n",
    "    # 重新平衡的操作总是在被删除节点的位置进行的，即上面维护的 temp_node 最终的位置\n",
    "    # 仅在被删除节点的颜色（node_color 维护）为黑色时才需重新平衡树\n",
    "    if (node_color == 0): self.delete_rebalance(temp_node)"
   ]
  },
  {
   "cell_type": "markdown",
   "metadata": {},
   "source": [
    "### 红黑树修复"
   ]
  },
  {
   "cell_type": "markdown",
   "metadata": {},
   "source": [
    "在讨论红黑树的重新平衡之前，回顾一下在红黑树的节点删除部分我们做了什么：首先，根据将要被删除的节点的孩子数量，来决定删除策略，其中零或一个孩子的情况较好处理，而两个孩子的情况则可以通过寻找后继节点的方式转换为前两种情况，需要注意的是，前两种情况删除的 node 位置即为最初的 node 位置，而后一种情况删除的节点位置已经不在最初的 node 的位置了，而是其后继所在的位置。\n",
    "\n",
    "在删除完节点后，temp_node 所指向的节点为 **替代被删除节点的节点**，它的位置也在被删除节点的位置，后续的所有的修复情况均以 temp_node 的位置及其相关节点的颜色作为判断标准。\n",
    "\n",
    "弄清楚了这些，才能是我们更加容易理解红黑树修复的各种情况。\n",
    "\n",
    "这里以 N 代表 temp_node，S 代表 N 的兄弟节点，P 代表 N 与 S 的父节点，SL 与 SR 分别代表 S 的左右节点，红黑树修复有以下六种情况：\n",
    "\n",
    "1. N 为新的根节点，这说明原始的"
   ]
  },
  {
   "cell_type": "code",
   "execution_count": 45,
   "metadata": {},
   "outputs": [],
   "source": [
    "def delete_rebalance(self, node):\n",
    "    while (node != self.root and node.color == 0):\n",
    "        if (node == node.parent.left):\n",
    "            s = node.parent.right\n",
    "            # case2：兄弟节点为红色节点，旋转父节点\n",
    "            if (s.color == 1):\n",
    "                node.parent.color = 1\n",
    "                s.color = 0\n",
    "                self.left_rotate(node.parent)\n",
    "                s = node.parent.right  # 更新兄弟节点\n",
    "            # case3: 兄弟节点的两个子节点均为黑色，父节点也为黑色？\n",
    "            if (not s.left or s.left.color == 0) and (not s.right or s.right.color == 0):\n",
    "                s.color = 1\n",
    "                node = node.parent  # 向上继续处理\n",
    "            else:\n",
    "                # case5: 兄弟节点同侧的节点为黑色\n",
    "                if (not s.right or s.right.color == 0):\n",
    "                    s.color = 1\n",
    "                    s.left.color = 0\n",
    "                    self.right_rotate(s)\n",
    "                    s = node.parent.right  # 更新兄弟节点\n",
    "                # 处理之后变为 case6\n",
    "                # case6: 兄弟节点的同侧节点为红色\n",
    "                s.color = node.parent.color\n",
    "                node.parent.color = 0\n",
    "                s.right.color = 0\n",
    "                self.left_rotate(node.parent)\n",
    "            node = self.root \n",
    "            break\n",
    "        # 对称操作\n",
    "        else:\n",
    "            s = node.parent.left\n",
    "            if (s.color == 1):\n",
    "                node.parent.color = 1\n",
    "                s.color = 0\n",
    "                self.right_rotate(node.parent)\n",
    "                s = node.parent.left\n",
    "            if (not s.left or s.left.color == 0) and (not s.right or s.right.color == 0):\n",
    "                s.color = 1\n",
    "                node = node.parent\n",
    "            else:\n",
    "                if (not s.left or s.left.color == 0):\n",
    "                    s.color = 1\n",
    "                    s.right.color = 0\n",
    "                    self.left_rotate(s)\n",
    "                    s = node.parent.left\n",
    "                s.color = node.parent.color\n",
    "                node.parent.color = 0\n",
    "                s.left.color = 0\n",
    "                self.right_rotate(node.parent)\n",
    "            node = self.root\n",
    "            break\n",
    "        node.color = 0"
   ]
  },
  {
   "cell_type": "code",
   "execution_count": null,
   "metadata": {},
   "outputs": [],
   "source": []
  },
  {
   "cell_type": "code",
   "execution_count": null,
   "metadata": {},
   "outputs": [],
   "source": []
  },
  {
   "cell_type": "code",
   "execution_count": null,
   "metadata": {},
   "outputs": [],
   "source": []
  },
  {
   "cell_type": "code",
   "execution_count": null,
   "metadata": {},
   "outputs": [],
   "source": []
  },
  {
   "cell_type": "code",
   "execution_count": null,
   "metadata": {},
   "outputs": [],
   "source": []
  },
  {
   "cell_type": "code",
   "execution_count": null,
   "metadata": {},
   "outputs": [],
   "source": []
  },
  {
   "cell_type": "code",
   "execution_count": null,
   "metadata": {},
   "outputs": [],
   "source": []
  },
  {
   "cell_type": "code",
   "execution_count": null,
   "metadata": {},
   "outputs": [],
   "source": []
  },
  {
   "cell_type": "code",
   "execution_count": null,
   "metadata": {},
   "outputs": [],
   "source": []
  },
  {
   "cell_type": "code",
   "execution_count": null,
   "metadata": {},
   "outputs": [],
   "source": []
  },
  {
   "cell_type": "code",
   "execution_count": null,
   "metadata": {},
   "outputs": [],
   "source": []
  },
  {
   "cell_type": "code",
   "execution_count": null,
   "metadata": {},
   "outputs": [],
   "source": []
  },
  {
   "cell_type": "code",
   "execution_count": null,
   "metadata": {},
   "outputs": [],
   "source": []
  }
 ],
 "metadata": {
  "kernelspec": {
   "display_name": "Python 3 (ipykernel)",
   "language": "python",
   "name": "python3"
  },
  "language_info": {
   "codemirror_mode": {
    "name": "ipython",
    "version": 3
   },
   "file_extension": ".py",
   "mimetype": "text/x-python",
   "name": "python",
   "nbconvert_exporter": "python",
   "pygments_lexer": "ipython3",
   "version": "3.9.7"
  }
 },
 "nbformat": 4,
 "nbformat_minor": 4
}
