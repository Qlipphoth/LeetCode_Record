{
 "cells": [
  {
   "cell_type": "markdown",
   "id": "3592a8a3",
   "metadata": {},
   "source": [
    "## 658. 找到K个最接近的元素"
   ]
  },
  {
   "cell_type": "code",
   "execution_count": 61,
   "id": "961483dc",
   "metadata": {},
   "outputs": [],
   "source": [
    "from collections import deque\n",
    "from typing import List\n",
    "class Solution:\n",
    "    def findClosestElements(self, arr: List[int], k: int, x: int) -> List[int]:\n",
    "        res = deque([x])\n",
    "        cnt = 1\n",
    "        idx = arr.index(x)\n",
    "        right = idx + 1\n",
    "        left = idx - 1\n",
    "        \n",
    "        while cnt <= k:\n",
    "            dif_r = arr[right] - x\n",
    "            dif_l = x - arr[left]\n",
    "            if dif_r < dif_l:\n",
    "                cnt += 1\n",
    "                res.append(arr[right])\n",
    "                right += 1\n",
    "            elif dif_r >= dif_l:\n",
    "                cnt += 1\n",
    "                res.appendleft(arr[left])\n",
    "                left -= 1\n",
    "            print(res,cnt)\n",
    "        return list(res)"
   ]
  },
  {
   "cell_type": "code",
   "execution_count": 27,
   "id": "5ee4ca36",
   "metadata": {},
   "outputs": [],
   "source": [
    "arr = [1,2,3,4,5]\n",
    "k = 4\n",
    "x = 3"
   ]
  },
  {
   "cell_type": "code",
   "execution_count": 28,
   "id": "e5eeaeca",
   "metadata": {},
   "outputs": [
    {
     "name": "stdout",
     "output_type": "stream",
     "text": [
      "deque([2, 3]) 2\n",
      "deque([2, 3, 4]) 3\n",
      "deque([1, 2, 3, 4]) 4\n"
     ]
    },
    {
     "data": {
      "text/plain": [
       "[1, 2, 3, 4]"
      ]
     },
     "execution_count": 28,
     "metadata": {},
     "output_type": "execute_result"
    }
   ],
   "source": [
    "s = Solution()\n",
    "s.findClosestElements(arr,k,x)"
   ]
  },
  {
   "cell_type": "markdown",
   "id": "bde4d6a6",
   "metadata": {},
   "source": [
    "看错题了，x不一定在arr中"
   ]
  },
  {
   "cell_type": "code",
   "execution_count": 71,
   "id": "d61769e3",
   "metadata": {},
   "outputs": [],
   "source": [
    "from bisect import bisect_left\n",
    "class Solution:\n",
    "    def findClosestElements(self, arr: List[int], k: int, x: int) -> List[int]:\n",
    "        res = deque()\n",
    "        idx = bisect_left(arr, x)\n",
    "        left = idx - 1\n",
    "        right = idx\n",
    "        cnt = 0\n",
    "        \n",
    "        while cnt < k:\n",
    "            dif_r = float('Inf')\n",
    "            dif_l = float('Inf')\n",
    "            if left >= 0:\n",
    "                dif_l = x - arr[left]\n",
    "            if right <= len(arr)-1:\n",
    "                dif_r = arr[right] - x\n",
    "            \n",
    "            if dif_r < dif_l:\n",
    "                cnt += 1\n",
    "                res.append(arr[right])\n",
    "                right += 1\n",
    "            elif dif_r >= dif_l:\n",
    "                cnt += 1\n",
    "                res.appendleft(arr[left])\n",
    "                left -= 1\n",
    "            print(res,cnt)\n",
    "        \n",
    "        \n",
    "        return list(res)"
   ]
  },
  {
   "cell_type": "code",
   "execution_count": 80,
   "id": "a9eef58c",
   "metadata": {},
   "outputs": [],
   "source": [
    "arr = [1,2,3,4,5,8,9,10,11]\n",
    "k = 4\n",
    "x = 6"
   ]
  },
  {
   "cell_type": "code",
   "execution_count": 81,
   "id": "d14987c9",
   "metadata": {},
   "outputs": [
    {
     "name": "stdout",
     "output_type": "stream",
     "text": [
      "deque([5]) 1\n",
      "deque([4, 5]) 2\n",
      "deque([4, 5, 8]) 3\n",
      "deque([3, 4, 5, 8]) 4\n"
     ]
    },
    {
     "data": {
      "text/plain": [
       "[3, 4, 5, 8]"
      ]
     },
     "execution_count": 81,
     "metadata": {},
     "output_type": "execute_result"
    }
   ],
   "source": [
    "s = Solution()\n",
    "s.findClosestElements(arr,k,x)"
   ]
  },
  {
   "cell_type": "markdown",
   "id": "492110a7",
   "metadata": {},
   "source": [
    "慢"
   ]
  },
  {
   "cell_type": "code",
   "execution_count": 64,
   "id": "210c3291",
   "metadata": {},
   "outputs": [],
   "source": [
    "from typing import List\n",
    "from bisect import bisect_left\n",
    "class Solution:\n",
    "    def findClosestElements(self, arr: List[int], k: int, x: int) -> List[int]:\n",
    "        res = deque()\n",
    "        idx = bisect_left(arr, x)\n",
    "        left = idx - 1\n",
    "        right = idx\n",
    "        \n",
    "        for i in range(k):\n",
    "            dif_l = x - arr[left] if left >= 0 else float('Inf')\n",
    "            dif_r = arr[right] - x if right <= len(arr)-1 else float('Inf')\n",
    "                \n",
    "            if dif_r < dif_l:\n",
    "                res.append(arr[right])\n",
    "                right += 1\n",
    "            elif dif_r >= dif_l:\n",
    "                res.appendleft(arr[left])\n",
    "                left -= 1\n",
    "#             print(res)\n",
    "        \n",
    "        return list(res)"
   ]
  },
  {
   "cell_type": "code",
   "execution_count": 65,
   "id": "c886db6d",
   "metadata": {},
   "outputs": [
    {
     "name": "stdout",
     "output_type": "stream",
     "text": [
      "deque([5])\n",
      "deque([4, 5])\n",
      "deque([4, 5, 8])\n",
      "deque([3, 4, 5, 8])\n"
     ]
    },
    {
     "data": {
      "text/plain": [
       "[3, 4, 5, 8]"
      ]
     },
     "execution_count": 65,
     "metadata": {},
     "output_type": "execute_result"
    }
   ],
   "source": [
    "arr = [1,2,3,4,5,8,9,10,11]\n",
    "k = 4\n",
    "x = 6\n",
    "s = Solution()\n",
    "s.findClosestElements(arr,k,x)"
   ]
  },
  {
   "cell_type": "markdown",
   "id": "68c60804",
   "metadata": {},
   "source": [
    "慢，可能是deque转list太耗时间"
   ]
  },
  {
   "cell_type": "code",
   "execution_count": 88,
   "id": "0ddc2fd9",
   "metadata": {},
   "outputs": [],
   "source": [
    "from typing import List\n",
    "from bisect import bisect_left\n",
    "class Solution:\n",
    "    def findClosestElements(self, arr: List[int], k: int, x: int) -> List[int]:\n",
    "        res1, res2 = [], []\n",
    "        idx = bisect_left(arr, x)\n",
    "        left = idx - 1\n",
    "        right = idx\n",
    "        \n",
    "        for i in range(k):\n",
    "            dif_l = x - arr[left] if left >= 0 else float('Inf')\n",
    "            dif_r = arr[right] - x if right <= len(arr)-1 else float('Inf')\n",
    "                \n",
    "            if dif_r < dif_l:\n",
    "                res2.append(arr[right])\n",
    "                right += 1\n",
    "            elif dif_r >= dif_l:\n",
    "                res1.append(arr[left])\n",
    "                left -= 1\n",
    "#             print(res1,res2)\n",
    "            \n",
    "        res1.reverse()\n",
    "        res1.extend(res2)\n",
    "        return res1"
   ]
  },
  {
   "cell_type": "code",
   "execution_count": 89,
   "id": "124e4f61",
   "metadata": {},
   "outputs": [
    {
     "data": {
      "text/plain": [
       "[3, 4, 5, 8]"
      ]
     },
     "execution_count": 89,
     "metadata": {},
     "output_type": "execute_result"
    }
   ],
   "source": [
    "arr = [1,2,3,4,5,8,9,10,11]\n",
    "k = 4\n",
    "x = 6\n",
    "s = Solution()\n",
    "s.findClosestElements(arr,k,x)"
   ]
  },
  {
   "cell_type": "markdown",
   "id": "c885332e",
   "metadata": {},
   "source": [
    "还是慢，看来是逻辑的问题"
   ]
  },
  {
   "cell_type": "code",
   "execution_count": 90,
   "id": "8f04c7fa",
   "metadata": {},
   "outputs": [],
   "source": [
    "# official\n",
    "class Solution:\n",
    "    def findClosestElements(self, arr: List[int], k: int, x: int) -> List[int]:\n",
    "        right = bisect_left(arr, x)\n",
    "        left = right - 1\n",
    "        for _ in range(k):\n",
    "            if left < 0:\n",
    "                right += 1\n",
    "            elif right >= len(arr) or x - arr[left] <= arr[right] - x:\n",
    "                left -= 1\n",
    "            else:\n",
    "                right += 1\n",
    "        return arr[left + 1: right]"
   ]
  },
  {
   "cell_type": "markdown",
   "id": "80ea92ee",
   "metadata": {},
   "source": [
    "直接返回切片就行"
   ]
  },
  {
   "cell_type": "code",
   "execution_count": 92,
   "id": "1ea0f716",
   "metadata": {},
   "outputs": [],
   "source": [
    "# official\n",
    "class Solution:\n",
    "    def findClosestElements(self, arr: List[int], k: int, x: int) -> List[int]:\n",
    "        arr.sort(key=lambda v: abs(v - x))\n",
    "        return sorted(arr[:k])"
   ]
  },
  {
   "cell_type": "markdown",
   "id": "1fffbe7b",
   "metadata": {},
   "source": [
    "key 指定一个参数的函数，用于从每个列表元素中提取比较键：key=str.lower。默认值为 None （直接比较元素）。"
   ]
  },
  {
   "cell_type": "code",
   "execution_count": 93,
   "id": "c2d7e5d9",
   "metadata": {},
   "outputs": [],
   "source": [
    "l = [('a', 4), ('b', 3), ('c', 2), ('d', 1)]"
   ]
  },
  {
   "cell_type": "code",
   "execution_count": 94,
   "id": "0bd2c523",
   "metadata": {},
   "outputs": [
    {
     "data": {
      "text/plain": [
       "[('a', 4), ('b', 3), ('c', 2), ('d', 1)]"
      ]
     },
     "execution_count": 94,
     "metadata": {},
     "output_type": "execute_result"
    }
   ],
   "source": [
    "l.sort(key = lambda a: a[0])\n",
    "l"
   ]
  },
  {
   "cell_type": "code",
   "execution_count": 95,
   "id": "073dc754",
   "metadata": {},
   "outputs": [
    {
     "data": {
      "text/plain": [
       "[('d', 1), ('c', 2), ('b', 3), ('a', 4)]"
      ]
     },
     "execution_count": 95,
     "metadata": {},
     "output_type": "execute_result"
    }
   ],
   "source": [
    "l.sort(key = lambda a: a[1])\n",
    "l"
   ]
  },
  {
   "cell_type": "code",
   "execution_count": 96,
   "id": "2fe7eb86",
   "metadata": {},
   "outputs": [
    {
     "data": {
      "text/plain": [
       "[('d', 1), ('c', 2), ('b', 3), ('a', 4)]"
      ]
     },
     "execution_count": 96,
     "metadata": {},
     "output_type": "execute_result"
    }
   ],
   "source": [
    "sorted(l,key=lambda x:x[1])"
   ]
  },
  {
   "cell_type": "markdown",
   "id": "184d2301",
   "metadata": {},
   "source": [
    "## 1464.  数组中两元素的最大乘积 （8.26）"
   ]
  },
  {
   "cell_type": "code",
   "execution_count": 83,
   "id": "04decc20",
   "metadata": {},
   "outputs": [],
   "source": [
    "class Solution:\n",
    "    def maxProduct(self, nums: List[int]) -> int:\n",
    "        nums.sort()\n",
    "        return (nums[-1]-1)*(nums[-2]-1)"
   ]
  },
  {
   "cell_type": "code",
   "execution_count": 84,
   "id": "bd23c555",
   "metadata": {},
   "outputs": [],
   "source": [
    "class Solution:\n",
    "    def maxProduct(self, nums: List[int]) -> int:\n",
    "        return (sorted(nums)[-1]-1)*(sorted(nums)[-2]-1)"
   ]
  },
  {
   "cell_type": "code",
   "execution_count": 88,
   "id": "a4eddbcc",
   "metadata": {},
   "outputs": [],
   "source": [
    "class Solution:\n",
    "    def maxProduct(self, nums: List[int]) -> int:\n",
    "        max1 = max(nums)\n",
    "        idx1 = nums.index(max1)\n",
    "        max2 = 0\n",
    "        \n",
    "        for i in range(0,idx1):\n",
    "            max2 = max(max2,nums[i])\n",
    "        for i in range(idx1+1,len(nums)):\n",
    "            max2 = max(max2,nums[i])\n",
    "        \n",
    "        return (max1-1)*(max2-1)"
   ]
  },
  {
   "cell_type": "code",
   "execution_count": 90,
   "id": "c853ea11",
   "metadata": {},
   "outputs": [],
   "source": [
    "class Solution:\n",
    "    def maxProduct(self, nums: List[int]) -> int:\n",
    "        max1 = max(nums)\n",
    "        idx1 = nums.index(max1)\n",
    "        nums.pop(idx1)\n",
    "        max2 = max(nums)\n",
    "        return (max1-1)*(max2-1)"
   ]
  },
  {
   "cell_type": "code",
   "execution_count": 91,
   "id": "39dc7ae3",
   "metadata": {},
   "outputs": [],
   "source": [
    "# o(n)\n",
    "class Solution:\n",
    "    def maxProduct(self, nums: List[int]) -> int:\n",
    "        a, b = nums[0], nums[1]\n",
    "        if a < b:\n",
    "            a, b = b, a\n",
    "        for i in range(2, len(nums)):\n",
    "            num = nums[i]\n",
    "            if num > a:\n",
    "                a, b = num, a\n",
    "            elif num > b:\n",
    "                b = num\n",
    "        return (a - 1) * (b - 1)"
   ]
  },
  {
   "cell_type": "markdown",
   "id": "8fb5ff57",
   "metadata": {},
   "source": [
    "## 662. 二叉树最大宽度"
   ]
  },
  {
   "cell_type": "code",
   "execution_count": 2,
   "id": "db5c8cc9",
   "metadata": {},
   "outputs": [],
   "source": [
    "# Definition for a binary tree node.\n",
    "class TreeNode:\n",
    "    def __init__(self, val=0, left=None, right=None):\n",
    "        self.val = val\n",
    "        self.left = left\n",
    "        self.right = right"
   ]
  },
  {
   "cell_type": "code",
   "execution_count": 5,
   "id": "1e1e6767",
   "metadata": {},
   "outputs": [],
   "source": [
    "def constructTree(l:list) -> Optional[TreeNode]:\n",
    "    head = TreeNode(val=l.pop(0))\n",
    "    queue = [head]\n",
    "    while l and queue:\n",
    "        cur = queue.pop(0)\n",
    "        lval = l.pop(0)\n",
    "        if lval:\n",
    "            curl = TreeNode(val=lval)\n",
    "            queue.append(curl)\n",
    "            cur.left = curl\n",
    "        if l:\n",
    "            rval = l.pop(0)\n",
    "            if rval:\n",
    "                curr = TreeNode(val=rval)\n",
    "                queue.append(curr)\n",
    "                cur.right =  curr\n",
    "#         print(queue)\n",
    "    return head"
   ]
  },
  {
   "cell_type": "code",
   "execution_count": 11,
   "id": "c04cb16d",
   "metadata": {},
   "outputs": [],
   "source": [
    "def inorderTraversal(root):\n",
    "    res = []\n",
    "    def Traversal(subroot):\n",
    "        if not subroot:\n",
    "            return \n",
    "        Traversal(subroot.left)\n",
    "        res.append(subroot.val)\n",
    "        Traversal(subroot.right)\n",
    "    Traversal(root)\n",
    "    return res"
   ]
  },
  {
   "cell_type": "code",
   "execution_count": 12,
   "id": "4f4bf88c",
   "metadata": {},
   "outputs": [],
   "source": [
    "null = None\n",
    "nums = [1,3,2,5,3,null,9]"
   ]
  },
  {
   "cell_type": "code",
   "execution_count": 13,
   "id": "6cced745",
   "metadata": {},
   "outputs": [
    {
     "data": {
      "text/plain": [
       "[5, 3, 3, 1, 2, 9]"
      ]
     },
     "execution_count": 13,
     "metadata": {},
     "output_type": "execute_result"
    }
   ],
   "source": [
    "inorderTraversal(constructTree(nums))"
   ]
  },
  {
   "cell_type": "code",
   "execution_count": 14,
   "id": "e46c3dcb",
   "metadata": {},
   "outputs": [],
   "source": [
    "from typing import Optional\n",
    "from collections import defaultdict\n",
    "class Solution:\n",
    "    def widthOfBinaryTree(self, root: Optional[TreeNode]) -> int:\n",
    "        D = defaultdict(list)\n",
    "        def DFS(node,layer,s):\n",
    "            if not node:\n",
    "                return\n",
    "            D[layer].append(s)\n",
    "            DFS(node.left, layer+1, s+'0')\n",
    "            DFS(node.right, layer+1, s+'1')\n",
    "        DFS(root, 0, '0')\n",
    "        return D"
   ]
  },
  {
   "cell_type": "code",
   "execution_count": 15,
   "id": "a9891e69",
   "metadata": {},
   "outputs": [],
   "source": [
    "root = [1,3,2,5,3,null,9]\n",
    "head = constructTree(root)"
   ]
  },
  {
   "cell_type": "code",
   "execution_count": 16,
   "id": "364343c7",
   "metadata": {},
   "outputs": [
    {
     "data": {
      "text/plain": [
       "defaultdict(list, {0: ['0'], 1: ['00', '01'], 2: ['000', '001', '011']})"
      ]
     },
     "execution_count": 16,
     "metadata": {},
     "output_type": "execute_result"
    }
   ],
   "source": [
    "s = Solution()\n",
    "s.widthOfBinaryTree(head)"
   ]
  },
  {
   "cell_type": "code",
   "execution_count": 31,
   "id": "aad1e5ae",
   "metadata": {},
   "outputs": [],
   "source": [
    "from typing import Optional\n",
    "from collections import defaultdict\n",
    "class Solution:\n",
    "    def widthOfBinaryTree(self, root: Optional[TreeNode]) -> int:\n",
    "        D = defaultdict(list)\n",
    "        def DFS(node,layer,s):\n",
    "            if not node:\n",
    "                return\n",
    "            D[layer].append(s)\n",
    "            DFS(node.left, layer+1, s+'0')\n",
    "            DFS(node.right, layer+1, s+'1')\n",
    "        DFS(root, 0, '0')\n",
    "        ans = 0\n",
    "        for key in D:\n",
    "            ans = max(ans, int(D[key][-1], 2) - int(D[key][0], 2))\n",
    "        return ans + 1"
   ]
  },
  {
   "cell_type": "code",
   "execution_count": 36,
   "id": "c6b3b610",
   "metadata": {},
   "outputs": [],
   "source": [
    "root = [1,3,2,5]\n",
    "head = constructTree(root)"
   ]
  },
  {
   "cell_type": "code",
   "execution_count": 37,
   "id": "c4e9fac1",
   "metadata": {},
   "outputs": [
    {
     "data": {
      "text/plain": [
       "2"
      ]
     },
     "execution_count": 37,
     "metadata": {},
     "output_type": "execute_result"
    }
   ],
   "source": [
    "s = Solution()\n",
    "s.widthOfBinaryTree(head)"
   ]
  },
  {
   "cell_type": "markdown",
   "id": "f8cd8a01",
   "metadata": {},
   "source": [
    "太慢，太占内存"
   ]
  },
  {
   "cell_type": "code",
   "execution_count": 51,
   "id": "ed8cf9c1",
   "metadata": {},
   "outputs": [],
   "source": [
    "from typing import Optional\n",
    "from collections import defaultdict\n",
    "class Solution:\n",
    "    def widthOfBinaryTree(self, root: Optional[TreeNode]) -> int:\n",
    "        D = defaultdict(list)\n",
    "        def DFS(node,layer,s):\n",
    "            if not node:\n",
    "                return\n",
    "            D[layer].append(s)\n",
    "            DFS(node.left, layer+1, 2*s)\n",
    "            DFS(node.right, layer+1, 2*s+1)\n",
    "        DFS(root, 0, 0)\n",
    "        return D"
   ]
  },
  {
   "cell_type": "code",
   "execution_count": 56,
   "id": "4667a653",
   "metadata": {},
   "outputs": [
    {
     "data": {
      "text/plain": [
       "7"
      ]
     },
     "execution_count": 56,
     "metadata": {},
     "output_type": "execute_result"
    }
   ],
   "source": [
    "root = [1,3,2,5,null,null,9,6,null,7]\n",
    "head = constructTree(root)\n",
    "s = Solution()\n",
    "s.widthOfBinaryTree(head)"
   ]
  },
  {
   "cell_type": "code",
   "execution_count": 55,
   "id": "29192159",
   "metadata": {},
   "outputs": [],
   "source": [
    "from typing import Optional\n",
    "from collections import defaultdict\n",
    "class Solution:\n",
    "    def widthOfBinaryTree(self, root: Optional[TreeNode]) -> int:\n",
    "        D = defaultdict(list)\n",
    "        def DFS(node,layer,s):\n",
    "            if not node:\n",
    "                return\n",
    "            D[layer].append(s)\n",
    "            DFS(node.left, layer+1, 2*s)\n",
    "            DFS(node.right, layer+1, 2*s+1)\n",
    "        DFS(root, 0, 0)\n",
    "        ans = 0\n",
    "        for key in D:\n",
    "            ans = max(ans, D[key][-1] - D[key][0])\n",
    "        return ans + 1"
   ]
  },
  {
   "cell_type": "markdown",
   "id": "6f89d8f3",
   "metadata": {},
   "source": [
    "内存小了一些，时间还是长"
   ]
  },
  {
   "cell_type": "code",
   "execution_count": 42,
   "id": "059772dc",
   "metadata": {},
   "outputs": [],
   "source": [
    "from typing import Optional\n",
    "from collections import defaultdict\n",
    "class Solution:\n",
    "    def widthOfBinaryTree(self, root: Optional[TreeNode]) -> int:\n",
    "        maxval = []\n",
    "        minval = 0\n",
    "        def DFS(node,layer,s):\n",
    "            nonlocal minval\n",
    "            if not node:\n",
    "                return\n",
    "            if layer > len(maxval) - 1: \n",
    "                minval = s\n",
    "                maxval.append(0)\n",
    "            maxval[layer] = max(maxval[layer],s-minval)\n",
    "            print(s,minval,maxval)\n",
    "            DFS(node.left, layer+1, 2*s)\n",
    "            DFS(node.right, layer+1, 2*s+1)\n",
    "        DFS(root, 0, 0)\n",
    "#         return max(maxval)+1\n",
    "        return maxval"
   ]
  },
  {
   "cell_type": "code",
   "execution_count": 43,
   "id": "ca5089a9",
   "metadata": {
    "scrolled": true
   },
   "outputs": [
    {
     "name": "stdout",
     "output_type": "stream",
     "text": [
      "0 0 [0]\n",
      "0 0 [0, 0]\n",
      "1 1 [0, 0, 0]\n",
      "1 1 [0, 0, 0]\n"
     ]
    },
    {
     "data": {
      "text/plain": [
       "[0, 0, 0]"
      ]
     },
     "execution_count": 43,
     "metadata": {},
     "output_type": "execute_result"
    }
   ],
   "source": [
    "null = None\n",
    "root = [2,1,3,null,4]\n",
    "head = constructTree(root)\n",
    "s = Solution()\n",
    "s.widthOfBinaryTree(head)"
   ]
  },
  {
   "cell_type": "markdown",
   "id": "279428ee",
   "metadata": {},
   "source": [
    "看来要用BFS"
   ]
  },
  {
   "cell_type": "code",
   "execution_count": 52,
   "id": "db8a733a",
   "metadata": {},
   "outputs": [],
   "source": [
    "from typing import Optional\n",
    "from collections import deque\n",
    "class Solution:\n",
    "    def widthOfBinaryTree(self, root: Optional[TreeNode]) -> int:\n",
    "        res = deque([(root,0,0)])\n",
    "        maxval = []\n",
    "        minval = 0\n",
    "        while res:\n",
    "            cur,layer,s = res.popleft()\n",
    "            if layer > len(maxval)-1: \n",
    "                minval = s\n",
    "                maxval.append(0)\n",
    "            maxval[layer] = s - minval\n",
    "            if cur.left:\n",
    "                res.append((cur.left, layer+1, s*2))\n",
    "            if cur.right:\n",
    "                res.append((cur.right, layer+1, s*2+1))\n",
    "        \n",
    "        return max(maxval)+1\n",
    "#         return maxval"
   ]
  },
  {
   "cell_type": "code",
   "execution_count": 53,
   "id": "464bc35d",
   "metadata": {},
   "outputs": [
    {
     "data": {
      "text/plain": [
       "8"
      ]
     },
     "execution_count": 53,
     "metadata": {},
     "output_type": "execute_result"
    }
   ],
   "source": [
    "null = None\n",
    "root = [1,1,1,1,1,1,1,null,null,null,1,null,null,null,null,\\\n",
    "        2,2,2,2,2,2,2,null,2,null,null,2,null,2]\n",
    "head = constructTree(root)\n",
    "s = Solution()\n",
    "s.widthOfBinaryTree(head)"
   ]
  },
  {
   "cell_type": "markdown",
   "id": "31b95207",
   "metadata": {},
   "source": [
    "效果不错，但是内存还是有点高,不维护每一层的距离，直接用常量记录目前最大距离"
   ]
  },
  {
   "cell_type": "code",
   "execution_count": 58,
   "id": "d14ce93b",
   "metadata": {},
   "outputs": [],
   "source": [
    "from typing import Optional\n",
    "from collections import deque\n",
    "class Solution:\n",
    "    def widthOfBinaryTree(self, root: Optional[TreeNode]) -> int:\n",
    "        res = deque([(root,0,0)])\n",
    "        minval = 0\n",
    "        ans = 0\n",
    "        maxlayer = -1\n",
    "        while res:\n",
    "            cur,layer,s = res.popleft()\n",
    "            if layer > maxlayer: \n",
    "                minval = s\n",
    "                maxlayer = layer\n",
    "            ans = max(ans, s - minval)\n",
    "            if cur.left:\n",
    "                res.append((cur.left, layer+1, s*2))\n",
    "            if cur.right:\n",
    "                res.append((cur.right, layer+1, s*2+1))\n",
    "        \n",
    "        return ans + 1\n",
    "#         return maxval"
   ]
  },
  {
   "cell_type": "code",
   "execution_count": 59,
   "id": "fbd28119",
   "metadata": {},
   "outputs": [
    {
     "data": {
      "text/plain": [
       "8"
      ]
     },
     "execution_count": 59,
     "metadata": {},
     "output_type": "execute_result"
    }
   ],
   "source": [
    "null = None\n",
    "root = [1,1,1,1,1,1,1,null,null,null,1,null,null,null,null,\\\n",
    "        2,2,2,2,2,2,2,null,2,null,null,2,null,2]\n",
    "head = constructTree(root)\n",
    "s = Solution()\n",
    "s.widthOfBinaryTree(head)"
   ]
  },
  {
   "cell_type": "markdown",
   "id": "6cf2f9e7",
   "metadata": {},
   "source": [
    "## 145. 二叉树的后序遍历"
   ]
  },
  {
   "cell_type": "code",
   "execution_count": 97,
   "id": "5b9f2e7d",
   "metadata": {},
   "outputs": [],
   "source": [
    "# Definition for a binary tree node.\n",
    "class TreeNode:\n",
    "    def __init__(self, val=0, left=None, right=None):\n",
    "        self.val = val\n",
    "        self.left = left\n",
    "        self.right = right"
   ]
  },
  {
   "cell_type": "code",
   "execution_count": 98,
   "id": "202c26c2",
   "metadata": {},
   "outputs": [],
   "source": [
    "class Solution:\n",
    "    def postorderTraversal(self, root: Optional[TreeNode]) -> List[int]:\n",
    "        res = []\n",
    "        def DFS(node):\n",
    "            if not node:\n",
    "                return \n",
    "            DFS(node.left)\n",
    "            DFS(node.right)\n",
    "            res.append(node.val)\n",
    "        return res"
   ]
  },
  {
   "cell_type": "code",
   "execution_count": 101,
   "id": "fa0627ad",
   "metadata": {},
   "outputs": [],
   "source": [
    "class Solution:\n",
    "    def postorderTraversal(self, root: Optional[TreeNode]) -> List[int]:\n",
    "        stk, res = [], []\n",
    "        cur = root\n",
    "        while stk or cur:\n",
    "            while cur:\n",
    "                res.append(cur.val)\n",
    "                stk.append(cur)\n",
    "                cur = cur.right\n",
    "            cur = stk.pop().left\n",
    "        return res[::-1]"
   ]
  },
  {
   "cell_type": "markdown",
   "id": "9ae5a8f7",
   "metadata": {},
   "source": [
    "后续： 左右中；相当于：中右左 的倒序，而前序遍历为： 中左右；故利用前序思路即可"
   ]
  },
  {
   "cell_type": "code",
   "execution_count": 102,
   "id": "d287c7fe",
   "metadata": {},
   "outputs": [],
   "source": [
    "# 中序： 左自右\n",
    "def inorderTraversal(root):\n",
    "    stk, res = [], []\n",
    "    cur = root\n",
    "    while stk or cur:\n",
    "        while cur:\n",
    "            stk.append(cur)\n",
    "            cur = cur.left\n",
    "        cur = stk.pop()\n",
    "        res.append(cur.val)\n",
    "        cur = cur.right\n",
    "    return res"
   ]
  },
  {
   "cell_type": "code",
   "execution_count": 103,
   "id": "92da0817",
   "metadata": {},
   "outputs": [],
   "source": [
    "# 前序： 自左右\n",
    "def preorderTraversal(root):\n",
    "    stk, res = [], []\n",
    "    cur = root\n",
    "    while stk or cur:\n",
    "        while cur:\n",
    "            res.append(cur.val)\n",
    "            stk.append(cur)\n",
    "            cur = cur.left\n",
    "        cur = stk.pop().right\n",
    "    return res"
   ]
  },
  {
   "cell_type": "markdown",
   "id": "6cf62dcb",
   "metadata": {},
   "source": [
    "## 793.  阶乘函数后K个零 （8.28）"
   ]
  },
  {
   "cell_type": "code",
   "execution_count": 119,
   "id": "88a12719",
   "metadata": {},
   "outputs": [
    {
     "name": "stdout",
     "output_type": "stream",
     "text": [
      "25852016738884976640000\n",
      "30414093201713378043612608166064768844377641568960512000000000000\n"
     ]
    }
   ],
   "source": [
    "from numpy import math\n",
    "print(math.factorial(23))\n",
    "print(math.factorial(50))"
   ]
  },
  {
   "cell_type": "code",
   "execution_count": 115,
   "id": "6bd2c0ac",
   "metadata": {},
   "outputs": [
    {
     "data": {
      "text/plain": [
       "1000000000"
      ]
     },
     "execution_count": 115,
     "metadata": {},
     "output_type": "execute_result"
    }
   ],
   "source": [
    "10**9"
   ]
  },
  {
   "cell_type": "markdown",
   "id": "7857ea14",
   "metadata": {},
   "source": [
    "5,79,92,36"
   ]
  },
  {
   "cell_type": "markdown",
   "id": "79833046",
   "metadata": {},
   "source": [
    "$K = \\Sigma^{\\infty}_{n=1}(x//5^n)$ \n",
    "\n",
    "其中 x 为满足条件的数字，k为阶乘后0的个数"
   ]
  },
  {
   "cell_type": "code",
   "execution_count": 122,
   "id": "29fa232e",
   "metadata": {},
   "outputs": [
    {
     "data": {
      "text/plain": [
       "32.219280948873624"
      ]
     },
     "execution_count": 122,
     "metadata": {},
     "output_type": "execute_result"
    }
   ],
   "source": [
    "from math import log2\n",
    "log2(5*10**9)"
   ]
  },
  {
   "cell_type": "code",
   "execution_count": 137,
   "id": "3542493a",
   "metadata": {},
   "outputs": [],
   "source": [
    "class Solution:\n",
    "    def preimageSizeFZF(self, k: int) -> int:\n",
    "        left = 0\n",
    "        right = 5 * k\n",
    "        mid = (left + right)//2\n",
    "        \n",
    "        def Zeros(num):\n",
    "            if num < 5:\n",
    "                return 0\n",
    "            return num//5 + Zeros(num//5)\n",
    "        \n",
    "        while left <= right:\n",
    "            mid = (right + left)//2\n",
    "            if Zeros(mid) < k:\n",
    "                left = mid + 1\n",
    "            elif Zeros(mid) > k:\n",
    "                right = mid - 1\n",
    "            else: return 5\n",
    "#             print(left, right, mid, Zeros(mid))\n",
    "        return 0"
   ]
  },
  {
   "cell_type": "code",
   "execution_count": 140,
   "id": "d47505e6",
   "metadata": {},
   "outputs": [
    {
     "name": "stdout",
     "output_type": "stream",
     "text": [
      "198 395 197 47\n",
      "297 395 296 72\n",
      "297 345 346 84\n",
      "322 345 321 78\n",
      "322 332 333 81\n",
      "322 326 327 80\n",
      "325 326 324 78\n",
      "325 324 325 80\n"
     ]
    },
    {
     "data": {
      "text/plain": [
       "0"
      ]
     },
     "execution_count": 140,
     "metadata": {},
     "output_type": "execute_result"
    }
   ],
   "source": [
    "s = Solution()\n",
    "s.preimageSizeFZF(79)"
   ]
  },
  {
   "cell_type": "markdown",
   "id": "117fef79",
   "metadata": {},
   "source": [
    "## 748. 最短补全词"
   ]
  },
  {
   "cell_type": "code",
   "execution_count": 177,
   "id": "1b13efb4",
   "metadata": {},
   "outputs": [],
   "source": [
    "from collections import defaultdict\n",
    "class Solution:\n",
    "    def shortestCompletingWord(self, licensePlate: str, words: List[str]) -> str:\n",
    "        lic = defaultdict(int)\n",
    "        for ch in licensePlate:\n",
    "            if ch.islower():\n",
    "                lic[ch] += 1\n",
    "            if ch.isupper():\n",
    "                lic[ch.lower()] += 1\n",
    "        print(lic)\n",
    "        l = 16\n",
    "        for w in words:\n",
    "            dic = Counter(w)\n",
    "            cnt = 0\n",
    "            for key in lic:\n",
    "                if dic[key] >= lic[key]: cnt += 1\n",
    "            if cnt == len(lic) and len(w) < l:\n",
    "                l = len(w)\n",
    "                ans = w\n",
    "        return ans"
   ]
  },
  {
   "cell_type": "code",
   "execution_count": 178,
   "id": "c9280d08",
   "metadata": {},
   "outputs": [],
   "source": [
    "licensePlate = \"1s3 PSt\"\n",
    "words = [\"step\", \"steps\", \"stripe\", \"stepple\"]"
   ]
  },
  {
   "cell_type": "code",
   "execution_count": 179,
   "id": "17c0a3bc",
   "metadata": {},
   "outputs": [
    {
     "name": "stdout",
     "output_type": "stream",
     "text": [
      "defaultdict(<class 'int'>, {'s': 2, 'p': 1, 't': 1})\n"
     ]
    },
    {
     "data": {
      "text/plain": [
       "'steps'"
      ]
     },
     "execution_count": 179,
     "metadata": {},
     "output_type": "execute_result"
    }
   ],
   "source": [
    "s = Solution()\n",
    "s.shortestCompletingWord(licensePlate, words)"
   ]
  },
  {
   "cell_type": "code",
   "execution_count": 170,
   "id": "a31f02a2",
   "metadata": {},
   "outputs": [
    {
     "data": {
      "text/plain": [
       "Counter({'b': 1})"
      ]
     },
     "execution_count": 170,
     "metadata": {},
     "output_type": "execute_result"
    }
   ],
   "source": [
    "from collections import Counter, defaultdict\n",
    "a = Counter('aaa')\n",
    "b = Counter('aab')\n",
    "b-a"
   ]
  },
  {
   "cell_type": "code",
   "execution_count": 176,
   "id": "9ef254aa",
   "metadata": {},
   "outputs": [
    {
     "data": {
      "text/plain": [
       "2"
      ]
     },
     "execution_count": 176,
     "metadata": {},
     "output_type": "execute_result"
    }
   ],
   "source": [
    "a = Counter('aab')\n",
    "len(a)"
   ]
  },
  {
   "cell_type": "markdown",
   "id": "fcd48662",
   "metadata": {},
   "source": [
    "有不满足的直接break"
   ]
  },
  {
   "cell_type": "code",
   "execution_count": 186,
   "id": "83f00b50",
   "metadata": {},
   "outputs": [],
   "source": [
    "from collections import defaultdict\n",
    "class Solution:\n",
    "    def shortestCompletingWord(self, licensePlate: str, words: List[str]) -> str:\n",
    "        lic = defaultdict(int)\n",
    "        for ch in licensePlate:\n",
    "            if ch.islower():\n",
    "                lic[ch] += 1\n",
    "            if ch.isupper():\n",
    "                lic[ch.lower()] += 1\n",
    "        print(lic)\n",
    "        l = 16\n",
    "        for w in words:\n",
    "            break1 = False\n",
    "            dic = Counter(w)\n",
    "            cnt = 0\n",
    "            for key in lic:\n",
    "                if dic[key] < lic[key]: \n",
    "                    break1 = True\n",
    "                    break\n",
    "            if break1: continue\n",
    "            if len(w) < l:\n",
    "                l = len(w)\n",
    "                ans = w\n",
    "        return ans"
   ]
  },
  {
   "cell_type": "code",
   "execution_count": 187,
   "id": "1d7a7f21",
   "metadata": {},
   "outputs": [
    {
     "name": "stdout",
     "output_type": "stream",
     "text": [
      "defaultdict(<class 'int'>, {'s': 2, 'p': 1, 't': 1})\n"
     ]
    },
    {
     "data": {
      "text/plain": [
       "'steps'"
      ]
     },
     "execution_count": 187,
     "metadata": {},
     "output_type": "execute_result"
    }
   ],
   "source": [
    "licensePlate = \"1s3 PSt\"\n",
    "words = [\"step\", \"steps\", \"stripe\", \"stepple\"]\n",
    "s = Solution()\n",
    "s.shortestCompletingWord(licensePlate, words)"
   ]
  },
  {
   "cell_type": "code",
   "execution_count": 188,
   "id": "33dbc0a0",
   "metadata": {},
   "outputs": [],
   "source": [
    "class Solution:\n",
    "    def shortestCompletingWord(self, licensePlate: str, words: List[str]) -> str:\n",
    "        cnt = Counter(ch.lower() for ch in licensePlate if ch.isalpha())\n",
    "        return min((word for word in words if not cnt - Counter(word)), key=len)"
   ]
  },
  {
   "cell_type": "markdown",
   "id": "22c5181f",
   "metadata": {},
   "source": [
    "min也可以指定key"
   ]
  },
  {
   "cell_type": "code",
   "execution_count": 195,
   "id": "69e386dc",
   "metadata": {},
   "outputs": [
    {
     "data": {
      "text/plain": [
       "'aaa'"
      ]
     },
     "execution_count": 195,
     "metadata": {},
     "output_type": "execute_result"
    }
   ],
   "source": [
    "a = ['aaa', 'bb', 'c']\n",
    "min([ch for ch in a], key=lambda x:x[0])"
   ]
  },
  {
   "cell_type": "code",
   "execution_count": 198,
   "id": "a2a91c22",
   "metadata": {},
   "outputs": [
    {
     "data": {
      "text/plain": [
       "'c'"
      ]
     },
     "execution_count": 198,
     "metadata": {},
     "output_type": "execute_result"
    }
   ],
   "source": [
    "min([ch for ch in a], key = len)"
   ]
  },
  {
   "cell_type": "markdown",
   "id": "d76363d2",
   "metadata": {},
   "source": [
    "##  面试题 01.05. 一次编辑"
   ]
  },
  {
   "cell_type": "code",
   "execution_count": 228,
   "id": "e4a608b4",
   "metadata": {},
   "outputs": [],
   "source": [
    "class Solution:\n",
    "    def oneEditAway(self, first: str, second: str) -> bool:\n",
    "        l1, l2 = len(first), len(second)\n",
    "        if l1 == l2:\n",
    "            cnt = 0\n",
    "            for ch1, ch2 in zip(first, second):\n",
    "                if ch1 != ch2: cnt += 1\n",
    "            return True if cnt <= 1 else False\n",
    "        if abs(l1 - l2) > 1: return False\n",
    "        def compare(l, s):\n",
    "            if s == '': return True\n",
    "            idx1 = idx2 = 0\n",
    "            while idx1 < len(l):\n",
    "                if l[idx1] == s[idx2]:\n",
    "                    idx2 += 1\n",
    "                    if idx2 == len(s): return True\n",
    "                idx1 += 1\n",
    "            print(idx2)\n",
    "            return False\n",
    "        return compare(first, second) if l1 > l2 else compare(second, first)"
   ]
  },
  {
   "cell_type": "code",
   "execution_count": 238,
   "id": "1a3ef23c",
   "metadata": {},
   "outputs": [
    {
     "data": {
      "text/plain": [
       "True"
      ]
     },
     "execution_count": 238,
     "metadata": {},
     "output_type": "execute_result"
    }
   ],
   "source": [
    "first = \"s\"\n",
    "second = \"e\"\n",
    "s = Solution()\n",
    "s.oneEditAway(first, second)"
   ]
  },
  {
   "cell_type": "markdown",
   "id": "1b7ee88f",
   "metadata": {},
   "source": [
    "## 1800. 最大升序子数组和"
   ]
  },
  {
   "cell_type": "code",
   "execution_count": 248,
   "id": "1aa0fd17",
   "metadata": {},
   "outputs": [],
   "source": [
    "class Solution:\n",
    "    def maxAscendingSum(self, nums: List[int]) -> int:\n",
    "        l = len(nums)\n",
    "        memo = {}\n",
    "        def dp(idx):\n",
    "            if idx in memo: return memo[idx]\n",
    "            if idx == l - 1: return nums[-1]\n",
    "            maxSum = 0\n",
    "            for i in range(idx+1, l):\n",
    "                if nums[i] > nums[idx]:\n",
    "                    maxSum = max(maxSum, dp(i) + nums[idx])\n",
    "            memo[idx] = maxSum\n",
    "            return maxSum\n",
    "        ans = 0\n",
    "        for i in range(l):\n",
    "            print(dp(i))\n",
    "            ans = max(ans, dp(i))\n",
    "        return ans,memo"
   ]
  },
  {
   "cell_type": "code",
   "execution_count": 249,
   "id": "9847bd3e",
   "metadata": {},
   "outputs": [
    {
     "name": "stdout",
     "output_type": "stream",
     "text": [
      "110\n",
      "100\n",
      "80\n",
      "65\n",
      "60\n",
      "50\n"
     ]
    },
    {
     "data": {
      "text/plain": [
       "(110, {2: 80, 1: 100, 0: 110, 4: 60, 3: 65})"
      ]
     },
     "execution_count": 249,
     "metadata": {},
     "output_type": "execute_result"
    }
   ],
   "source": [
    "nums = [10,20,30,5,10,50]\n",
    "s = Solution()\n",
    "s.maxAscendingSum(nums)"
   ]
  },
  {
   "cell_type": "markdown",
   "id": "6e162416",
   "metadata": {},
   "source": [
    "原来要求连续，那没这么复杂"
   ]
  },
  {
   "cell_type": "code",
   "execution_count": 271,
   "id": "f21b8704",
   "metadata": {},
   "outputs": [],
   "source": [
    "class Solution:\n",
    "    def maxAscendingSum(self, nums: List[int]) -> int:\n",
    "        stk = [0]\n",
    "        ans = 0\n",
    "        for n in nums:\n",
    "            if n <= stk[-1]:\n",
    "                ans = max(ans, sum(stk))\n",
    "                stk = [0]\n",
    "            stk.append(n)\n",
    "        ans = max(ans, sum(stk))\n",
    "        return ans"
   ]
  },
  {
   "cell_type": "code",
   "execution_count": 274,
   "id": "84e9e817",
   "metadata": {},
   "outputs": [
    {
     "data": {
      "text/plain": [
       "18"
      ]
     },
     "execution_count": 274,
     "metadata": {},
     "output_type": "execute_result"
    }
   ],
   "source": [
    "nums = [6,12,6]\n",
    "s = Solution()\n",
    "s.maxAscendingSum(nums)"
   ]
  },
  {
   "cell_type": "markdown",
   "id": "48f1304f",
   "metadata": {},
   "source": [
    "## 面试题 08.08. 有重复字符串的排列组合"
   ]
  },
  {
   "cell_type": "code",
   "execution_count": null,
   "id": "ce7380f8",
   "metadata": {},
   "outputs": [],
   "source": [
    "class Solution:\n",
    "    def permutation(self, S: str) -> List[str]:\n",
    "        "
   ]
  },
  {
   "cell_type": "code",
   "execution_count": null,
   "id": "a1526d28",
   "metadata": {},
   "outputs": [],
   "source": [
    "class Solution:\n",
    "    def permutation(self, S: str) -> List[str]:\n",
    "        if not S or len(S) <= 1: return []\n",
    "\n",
    "        res, S, length = [], sorted(S), len(S)  # 排下序，使重复的都在一起\n",
    "\n",
    "        def backtrack(used, paths):\n",
    "            if length == len(paths):\n",
    "                res.append(''.join(paths))\n",
    "                return\n",
    "\n",
    "            for i in range(length):\n",
    "                if used[i]:\n",
    "                    continue  # 已经选择过的不需要再放进去了\n",
    "                if i > 0 and S[i] == S[i - 1] and not used[i - 1]:\n",
    "                    continue  # 如果当前节点与他的前一个节点一样，并其他的前一个节点已经被遍历过了，那我们也就不需要了。\n",
    "\n",
    "                used[i] = True\n",
    "                paths.append(S[i])\n",
    "                backtrack(used, paths)\n",
    "                used[i] = False\n",
    "                paths.pop()  # 还原used与paths的状态\n",
    "\n",
    "        backtrack([False] * length, [])\n",
    "        return res"
   ]
  },
  {
   "cell_type": "code",
   "execution_count": 276,
   "id": "7556960a",
   "metadata": {},
   "outputs": [],
   "source": [
    "class Solution:\n",
    "    def permutation(self, S: str) -> List[str]:\n",
    "        def search(S, cur, chosen):\n",
    "            if len(cur) == len(S): return [\"\".join(cur)]\n",
    "            else:\n",
    "                res, cut = [], set()  # 如果当前元素选择重复, 剪枝\n",
    "                for i in range(len(S)):\n",
    "                    if chosen[i] or S[i] in cut: continue\n",
    "                    # 设置选中此元素,并恢复线程, 第 i 步维护一个当前的集合, 表示此步已经选过的元素,其余剪枝\n",
    "                    chosen[i] = True\n",
    "                    cur.append(S[i])\n",
    "                    res.extend(search(S,cur,chosen))\n",
    "                    cur.pop()\n",
    "                    chosen[i] = False\n",
    "                    cut.add(S[i])\n",
    "                return res\n",
    "        return search(S,[],[False]*len(S))"
   ]
  },
  {
   "cell_type": "markdown",
   "id": "941d24f3",
   "metadata": {},
   "source": [
    "思想：递归循环构造，遇到重复的就剪枝"
   ]
  },
  {
   "cell_type": "code",
   "execution_count": 283,
   "id": "7b79ede2",
   "metadata": {},
   "outputs": [],
   "source": [
    "class Solution:\n",
    "    def permutation(self, S: str) -> List[str]:\n",
    "        res = []\n",
    "        def dp(cur, paths):\n",
    "            if len(cur) == len(S): \n",
    "                res.append(\"\".join(cur))\n",
    "                return\n",
    "            cut = set()\n",
    "            for n, ch in enumerate(S):\n",
    "                if paths[n] or ch in cut: continue\n",
    "                paths[n] = 1\n",
    "                cur.append(ch)\n",
    "                dp(cur, paths)\n",
    "                paths[n] = 0  #\n",
    "                cur.pop()  # 这两部的作用是恢复cur与paths的状态到上一层\n",
    "                cut.add(ch)\n",
    "        dp([], [0 for i in range(len(S))])\n",
    "        return res"
   ]
  },
  {
   "cell_type": "code",
   "execution_count": 284,
   "id": "cda049af",
   "metadata": {},
   "outputs": [
    {
     "data": {
      "text/plain": [
       "['qqe', 'qeq', 'eqq']"
      ]
     },
     "execution_count": 284,
     "metadata": {},
     "output_type": "execute_result"
    }
   ],
   "source": [
    "S = \"qqe\"\n",
    "s = Solution()\n",
    "s.permutation(S)"
   ]
  },
  {
   "cell_type": "markdown",
   "id": "b3d70ea2",
   "metadata": {},
   "source": [
    "太棒了，有一种丰收的喜悦"
   ]
  },
  {
   "cell_type": "markdown",
   "id": "506e340e",
   "metadata": {},
   "source": [
    "## 377. 组合总和 Ⅳ"
   ]
  },
  {
   "cell_type": "markdown",
   "id": "0e5c7c31",
   "metadata": {},
   "source": [
    "感觉是青蛙爬楼梯的高级版"
   ]
  },
  {
   "cell_type": "code",
   "execution_count": 286,
   "id": "0a728294",
   "metadata": {},
   "outputs": [
    {
     "data": {
      "text/plain": [
       "4"
      ]
     },
     "execution_count": 286,
     "metadata": {},
     "output_type": "execute_result"
    }
   ],
   "source": [
    "from bisect import bisect_left\n",
    "a = [1,2,3,4]\n",
    "bisect_left(a,5)"
   ]
  },
  {
   "cell_type": "code",
   "execution_count": 315,
   "id": "9178046c",
   "metadata": {},
   "outputs": [],
   "source": [
    "from bisect import bisect_left\n",
    "class Solution:\n",
    "    def combinationSum4(self, nums: List[int], target: int) -> int:\n",
    "        nums.sort()\n",
    "        memo = {}\n",
    "        def dp(res, n):\n",
    "            if n in memo: return memo[n]\n",
    "            if len(res) == 1: return 1 if n % res[0] == 0 else 0\n",
    "            cnt = 1 if n in res else 0\n",
    "            pos = bisect_left(res, n)\n",
    "            for num in res[0:pos]:\n",
    "                cnt += dp(res[0:pos], n-num)\n",
    "            memo[n] = cnt\n",
    "            return cnt\n",
    "        return dp(nums, target)"
   ]
  },
  {
   "cell_type": "code",
   "execution_count": 316,
   "id": "812450ae",
   "metadata": {},
   "outputs": [],
   "source": [
    "nums = [1,2,3]\n",
    "target = 4"
   ]
  },
  {
   "cell_type": "code",
   "execution_count": 317,
   "id": "472454b1",
   "metadata": {},
   "outputs": [
    {
     "data": {
      "text/plain": [
       "7"
      ]
     },
     "execution_count": 317,
     "metadata": {},
     "output_type": "execute_result"
    }
   ],
   "source": [
    "s = Solution()\n",
    "s.combinationSum4(nums, target)"
   ]
  },
  {
   "cell_type": "code",
   "execution_count": 318,
   "id": "52fc36af",
   "metadata": {},
   "outputs": [],
   "source": [
    "from bisect import bisect_left\n",
    "class Solution:\n",
    "    def __init__(self):\n",
    "        self.memo = {}\n",
    "    def combinationSum4(self, nums: List[int], target: int) -> int:\n",
    "        nums.sort()\n",
    "        memo = self.memo\n",
    "        if target in memo: return memo[target]\n",
    "        if len(nums) == 1: return 1 if target % nums[0] == 0 else 0\n",
    "        cnt = 1 if target in nums else 0\n",
    "        pos = bisect_left(nums, target)\n",
    "        for n in nums[0:pos]:\n",
    "            cnt += self.combinationSum4(nums[0:pos], target-n)\n",
    "        memo[target] = cnt\n",
    "        print(self.memo)\n",
    "        return cnt"
   ]
  },
  {
   "cell_type": "code",
   "execution_count": 319,
   "id": "ef5a7879",
   "metadata": {},
   "outputs": [
    {
     "name": "stdout",
     "output_type": "stream",
     "text": [
      "{2: 2}\n",
      "{2: 2, 1: 1}\n",
      "{2: 2, 1: 1, 3: 4}\n",
      "{2: 2, 1: 1, 3: 4, 4: 8}\n"
     ]
    },
    {
     "data": {
      "text/plain": [
       "8"
      ]
     },
     "execution_count": 319,
     "metadata": {},
     "output_type": "execute_result"
    }
   ],
   "source": [
    "nums = [1,2,3,4]\n",
    "target = 4\n",
    "s = Solution()\n",
    "s.combinationSum4(nums, target)"
   ]
  },
  {
   "cell_type": "markdown",
   "id": "bdcdf940",
   "metadata": {},
   "source": [
    "第二种每次都要sort，更慢"
   ]
  },
  {
   "cell_type": "markdown",
   "id": "42b89774",
   "metadata": {},
   "source": [
    "yysy虽然写出来了但是不知道how it works"
   ]
  },
  {
   "cell_type": "code",
   "execution_count": 321,
   "id": "2f6d85dd",
   "metadata": {},
   "outputs": [],
   "source": [
    "# official\n",
    "class Solution:\n",
    "    def combinationSum4(self, nums: List[int], target: int) -> int:\n",
    "        dp = [1] + [0] * target\n",
    "        for i in range(1, target + 1):\n",
    "            for num in nums:\n",
    "                if num <= i:\n",
    "                    dp[i] += dp[i - num]\n",
    "        \n",
    "        return dp[target]"
   ]
  },
  {
   "cell_type": "markdown",
   "id": "21d0ea89",
   "metadata": {},
   "source": [
    "再议"
   ]
  },
  {
   "cell_type": "markdown",
   "id": "a8f767f2",
   "metadata": {},
   "source": [
    "## 523. 连续的子数组和"
   ]
  },
  {
   "cell_type": "code",
   "execution_count": 2,
   "id": "0f8827e0",
   "metadata": {},
   "outputs": [],
   "source": [
    "from typing import List\n",
    "from collections import deque\n",
    "class Solution:\n",
    "    def checkSubarraySum(self, nums: List[int], k: int) -> bool:\n",
    "        res = deque()\n",
    "        for n in nums:\n",
    "            res.append(n % k)\n",
    "            if sum(res) > k:\n",
    "                res.popleft()\n",
    "            if sum(res) == k and len(res) > 1:\n",
    "                return True\n",
    "        return False"
   ]
  },
  {
   "cell_type": "code",
   "execution_count": 9,
   "id": "8f1ce4cb",
   "metadata": {},
   "outputs": [
    {
     "data": {
      "text/plain": [
       "False"
      ]
     },
     "execution_count": 9,
     "metadata": {},
     "output_type": "execute_result"
    }
   ],
   "source": [
    "nums = [23,2,4,6,6]\n",
    "k = 7\n",
    "# nums = [23,2,4,6,7], k = 6\n",
    "# nums = [23,2,6,4,7], k = 6\n",
    "s = Solution()\n",
    "s.checkSubarraySum(nums, k)"
   ]
  },
  {
   "cell_type": "markdown",
   "id": "727e0778",
   "metadata": {},
   "source": [
    "解法错误，使用前缀和加哈希表比较简单"
   ]
  },
  {
   "cell_type": "markdown",
   "id": "68b6687a",
   "metadata": {},
   "source": [
    "既然这题是连续子数组的和，必然是某种前缀和的差的关系。"
   ]
  },
  {
   "cell_type": "code",
   "execution_count": 15,
   "id": "db2e5e32",
   "metadata": {},
   "outputs": [],
   "source": [
    "class Solution:\n",
    "    def checkSubarraySum(self, nums: List[int], k: int) -> bool:\n",
    "        modes = set()\n",
    "        presum = 0\n",
    "        for num in nums:\n",
    "            last = presum\n",
    "            # 当前前缀和\n",
    "            presum += num\n",
    "            print(presum)\n",
    "            presum %= k\n",
    "            # 同余定理\n",
    "            if presum in modes:\n",
    "                return True\n",
    "            # 上一个前缀和，下一个就可以用了（距离为2了）\n",
    "            modes.add(last)\n",
    "            print(modes)\n",
    "        return False"
   ]
  },
  {
   "cell_type": "code",
   "execution_count": 16,
   "id": "21f10e23",
   "metadata": {},
   "outputs": [
    {
     "name": "stdout",
     "output_type": "stream",
     "text": [
      "23\n",
      "{0}\n",
      "4\n",
      "{0, 2}\n",
      "8\n",
      "{0, 2, 4}\n",
      "7\n"
     ]
    },
    {
     "data": {
      "text/plain": [
       "True"
      ]
     },
     "execution_count": 16,
     "metadata": {},
     "output_type": "execute_result"
    }
   ],
   "source": [
    "nums = [23,2,4,6,6]\n",
    "k = 7\n",
    "# nums = [23,2,4,6,7], k = 6\n",
    "# nums = [23,2,6,4,7], k = 6\n",
    "s = Solution()\n",
    "s.checkSubarraySum(nums, k)"
   ]
  },
  {
   "cell_type": "markdown",
   "id": "292c988a",
   "metadata": {},
   "source": [
    "满足条件的子数组可以由相应的前缀和相减得到，而满足子数组之和为k的倍数的条件为这两个前缀对k的取余相同（即相差为k的倍数），故要做的事情变为：枚举前缀和，将相应的余数保存，若遇到相同的余数则返回True，否则返回False"
   ]
  },
  {
   "cell_type": "code",
   "execution_count": 31,
   "id": "e3971a65",
   "metadata": {},
   "outputs": [],
   "source": [
    "class Solution:\n",
    "    def checkSubarraySum(self, nums: List[int], k: int) -> bool:\n",
    "        presum = 0\n",
    "        memo = set()\n",
    "        for n in nums:\n",
    "            last = presum\n",
    "            presum += n\n",
    "            presum %= k\n",
    "            if presum in memo:\n",
    "                return True\n",
    "            memo.add(last)\n",
    "            print(memo)\n",
    "        return False"
   ]
  },
  {
   "cell_type": "code",
   "execution_count": 32,
   "id": "04fcd12e",
   "metadata": {},
   "outputs": [
    {
     "name": "stdout",
     "output_type": "stream",
     "text": [
      "{0}\n",
      "{0, 2}\n",
      "{0, 2, 4}\n"
     ]
    },
    {
     "data": {
      "text/plain": [
       "True"
      ]
     },
     "execution_count": 32,
     "metadata": {},
     "output_type": "execute_result"
    }
   ],
   "source": [
    "nums = [23,2,4,6,6]\n",
    "k = 7\n",
    "# nums = [23,2,4,6,7], k = 6\n",
    "# nums = [23,2,6,4,7], k = 6\n",
    "s = Solution()\n",
    "s.checkSubarraySum(nums, k)"
   ]
  },
  {
   "cell_type": "markdown",
   "id": "cfa7abe2",
   "metadata": {},
   "source": [
    "## 1043. 分隔数组以得到最大和"
   ]
  },
  {
   "cell_type": "code",
   "execution_count": null,
   "id": "c786a284",
   "metadata": {},
   "outputs": [],
   "source": [
    "class Solution:\n",
    "    def maxSumAfterPartitioning(self, arr: List[int], k: int) -> int:\n",
    "        "
   ]
  },
  {
   "cell_type": "markdown",
   "id": "d31024b3",
   "metadata": {},
   "source": [
    "战术放弃"
   ]
  },
  {
   "cell_type": "markdown",
   "id": "010226dc",
   "metadata": {},
   "source": [
    "## 468. 验证IP地址"
   ]
  },
  {
   "cell_type": "code",
   "execution_count": 86,
   "id": "c1b951f2",
   "metadata": {},
   "outputs": [],
   "source": [
    "class Solution:\n",
    "    def validIPAddress(self, queryIP: str) -> str:\n",
    "        ans1 = \"Neither\"\n",
    "        if not queryIP: return ans1\n",
    "        if \".\" in queryIP and \":\" in queryIP: return ans1\n",
    "        if \".\" in queryIP:\n",
    "            res = queryIP.split(\".\")\n",
    "            if len(res) != 4: return ans1\n",
    "            for IP in res:\n",
    "                L = len(IP)\n",
    "                if not L: return ans1\n",
    "                if IP[0] == \"0\" and L > 1: return ans1\n",
    "                for ch in IP:\n",
    "                    if not ch.isdigit(): return ans1\n",
    "                if int(IP) > 255 or int(IP) < 0: return ans1\n",
    "            return \"IPv4\"\n",
    "        if \":\" in queryIP:\n",
    "            res = queryIP.split(\":\")\n",
    "            if len(res) != 8: return ans1\n",
    "            for IP in res:\n",
    "                L = len(IP)\n",
    "                if L > 4 or L < 1: return ans1\n",
    "                for ch in IP:\n",
    "                    if ch.islower() and ch > \"f\": return ans1\n",
    "                    if ch.isupper() and ch > \"F\": return ans1\n",
    "            return \"IPv6\""
   ]
  },
  {
   "cell_type": "code",
   "execution_count": 87,
   "id": "81382731",
   "metadata": {},
   "outputs": [],
   "source": [
    "queryIP = \"02001:0db8:85a3:0000:0000:8a2e:0370:7334\""
   ]
  },
  {
   "cell_type": "code",
   "execution_count": 88,
   "id": "9564f0a6",
   "metadata": {},
   "outputs": [
    {
     "data": {
      "text/plain": [
       "'Neither'"
      ]
     },
     "execution_count": 88,
     "metadata": {},
     "output_type": "execute_result"
    }
   ],
   "source": [
    "s = Solution()\n",
    "s.validIPAddress(queryIP)"
   ]
  },
  {
   "cell_type": "markdown",
   "id": "f02e638b",
   "metadata": {},
   "source": [
    "## 33. 搜索旋转排序数组"
   ]
  },
  {
   "cell_type": "code",
   "execution_count": 90,
   "id": "fb90aa6f",
   "metadata": {},
   "outputs": [],
   "source": [
    "from typing import List\n",
    "class Solution:\n",
    "    def search(self, nums: List[int], target: int) -> int:\n",
    "        return nums.index(target) if target in nums else -1"
   ]
  },
  {
   "cell_type": "code",
   "execution_count": 95,
   "id": "7db5db12",
   "metadata": {},
   "outputs": [],
   "source": [
    "class Solution:\n",
    "    def search(self, nums: List[int], target: int) -> int:\n",
    "        idx = 0\n",
    "        for i in range(1,len(nums)):\n",
    "            if nums[i-1] > nums[i]:\n",
    "                idx = i\n",
    "                break\n",
    "        res = [(0, idx-1),(idx, len(nums)-1)]\n",
    "        for left, right in res:\n",
    "            while left <= right:\n",
    "                mid = (right + left)//2\n",
    "                if nums[mid] < target:\n",
    "                    left = mid + 1\n",
    "                elif nums[mid] > target:\n",
    "                    right = mid - 1\n",
    "                else: return mid\n",
    "        return -1"
   ]
  },
  {
   "cell_type": "code",
   "execution_count": 99,
   "id": "847883b7",
   "metadata": {},
   "outputs": [
    {
     "data": {
      "text/plain": [
       "6"
      ]
     },
     "execution_count": 99,
     "metadata": {},
     "output_type": "execute_result"
    }
   ],
   "source": [
    "nums = [4,5,6,7,0,1,2]\n",
    "target = 2\n",
    "s = Solution()\n",
    "s.search(nums, target)"
   ]
  },
  {
   "cell_type": "markdown",
   "id": "0ac28ec6",
   "metadata": {},
   "source": [
    "将数组一分为二，其中一定有一个是有序的，另一个可能是有序，也能是部分有序。\n",
    "此时有序部分用二分法查找。无序部分再一分为二，其中一个一定有序，另一个可能有序，可能无序。就这样循环. "
   ]
  },
  {
   "cell_type": "code",
   "execution_count": 100,
   "id": "d8a089eb",
   "metadata": {},
   "outputs": [],
   "source": [
    "class Solution:\n",
    "    def search(self, nums: List[int], target: int) -> int:\n",
    "        if not nums:\n",
    "            return -1\n",
    "        l, r = 0, len(nums) - 1\n",
    "        while l <= r:\n",
    "            mid = (l + r) // 2\n",
    "            if nums[mid] == target:\n",
    "                return mid\n",
    "            if nums[0] <= nums[mid]:\n",
    "                if nums[0] <= target < nums[mid]:\n",
    "                    r = mid - 1\n",
    "                else:\n",
    "                    l = mid + 1\n",
    "            else:\n",
    "                if nums[mid] < target <= nums[len(nums) - 1]:\n",
    "                    l = mid + 1\n",
    "                else:\n",
    "                    r = mid - 1\n",
    "        return -1"
   ]
  },
  {
   "cell_type": "markdown",
   "id": "8ea90290",
   "metadata": {},
   "source": [
    "## 998. 最大二叉树 Ⅱ"
   ]
  },
  {
   "cell_type": "code",
   "execution_count": 1,
   "id": "819ea249",
   "metadata": {},
   "outputs": [],
   "source": [
    "# Definition for a binary tree node.\n",
    "class TreeNode:\n",
    "    def __init__(self, val=0, left=None, right=None):\n",
    "        self.val = val\n",
    "        self.left = left\n",
    "        self.right = right"
   ]
  },
  {
   "cell_type": "code",
   "execution_count": 4,
   "id": "c2bed380",
   "metadata": {},
   "outputs": [],
   "source": [
    "from typing import Optional\n",
    "class Solution:\n",
    "    def insertIntoMaxTree(self, root, val: int) -> Optional[TreeNode]:\n",
    "        father = left = None\n",
    "        cur = root\n",
    "        while cur:\n",
    "            if cur.val > val:\n",
    "                father = cur\n",
    "                cur = cur.right\n",
    "                left = cur\n",
    "            else: break\n",
    "        new = TreeNode(val)\n",
    "        if father:\n",
    "            father.right = new\n",
    "            if left:\n",
    "                new.left = left\n",
    "            return root\n",
    "        else: \n",
    "            new.left = root\n",
    "            return new"
   ]
  },
  {
   "cell_type": "markdown",
   "id": "e6e1eb09",
   "metadata": {},
   "source": [
    "沿着右子节点遍历，找到比val大的节点，作为父节点，该节点的右子树作为val节点的左子树"
   ]
  },
  {
   "cell_type": "code",
   "execution_count": 5,
   "id": "bb9869d6",
   "metadata": {},
   "outputs": [],
   "source": [
    "def constructTree(l:list) -> Optional[TreeNode]:\n",
    "    head = TreeNode(val=l.pop(0))\n",
    "    queue = [head]\n",
    "    while l and queue:\n",
    "        cur = queue.pop(0)\n",
    "        lval = l.pop(0)\n",
    "        if lval:\n",
    "            curl = TreeNode(val=lval)\n",
    "            queue.append(curl)\n",
    "            cur.left = curl\n",
    "        if l:\n",
    "            rval = l.pop(0)\n",
    "            if rval:\n",
    "                curr = TreeNode(val=rval)\n",
    "                queue.append(curr)\n",
    "                cur.right =  curr\n",
    "#         print(queue)\n",
    "    return head"
   ]
  },
  {
   "cell_type": "code",
   "execution_count": 6,
   "id": "3443e010",
   "metadata": {},
   "outputs": [],
   "source": [
    "def inorderTraversal(root):\n",
    "    res = []\n",
    "    def Traversal(subroot):\n",
    "        if not subroot:\n",
    "            return \n",
    "        Traversal(subroot.left)\n",
    "        res.append(subroot.val)\n",
    "        Traversal(subroot.right)\n",
    "    Traversal(root)\n",
    "    return res"
   ]
  },
  {
   "cell_type": "code",
   "execution_count": 15,
   "id": "31617fe0",
   "metadata": {},
   "outputs": [],
   "source": [
    "null = None\n",
    "root = [5,2,3,null,1]\n",
    "head = constructTree(root)"
   ]
  },
  {
   "cell_type": "code",
   "execution_count": 16,
   "id": "56a88697",
   "metadata": {},
   "outputs": [
    {
     "data": {
      "text/plain": [
       "[2, 1, 5, 3]"
      ]
     },
     "execution_count": 16,
     "metadata": {},
     "output_type": "execute_result"
    }
   ],
   "source": [
    "inorderTraversal(head)"
   ]
  },
  {
   "cell_type": "code",
   "execution_count": 17,
   "id": "d9fbd2ff",
   "metadata": {},
   "outputs": [],
   "source": [
    "s = Solution()\n",
    "re = s.insertIntoMaxTree(head,4)"
   ]
  },
  {
   "cell_type": "code",
   "execution_count": 18,
   "id": "ea3ed742",
   "metadata": {},
   "outputs": [
    {
     "data": {
      "text/plain": [
       "[2, 1, 5, 3, 4]"
      ]
     },
     "execution_count": 18,
     "metadata": {},
     "output_type": "execute_result"
    }
   ],
   "source": [
    "inorderTraversal(re)"
   ]
  },
  {
   "cell_type": "code",
   "execution_count": 19,
   "id": "e41e14e5",
   "metadata": {},
   "outputs": [],
   "source": [
    "from typing import Optional\n",
    "class Solution:\n",
    "    def insertIntoMaxTree(self, root, val: int) -> Optional[TreeNode]:\n",
    "        last = None\n",
    "        cur = root\n",
    "        while cur:\n",
    "            if cur.val < val: break\n",
    "            last = cur\n",
    "            cur = cur.right\n",
    "        new = TreeNode(val)\n",
    "        if last:\n",
    "            if last.right:\n",
    "                new.left = last.right\n",
    "            last.right = new\n",
    "            return root\n",
    "        new.left = root\n",
    "        return new"
   ]
  },
  {
   "cell_type": "code",
   "execution_count": 22,
   "id": "a996d369",
   "metadata": {},
   "outputs": [],
   "source": [
    "null = None\n",
    "root = [5,2,3,null,1]\n",
    "head = constructTree(root)\n",
    "s = Solution()\n",
    "re = s.insertIntoMaxTree(head,4)"
   ]
  },
  {
   "cell_type": "code",
   "execution_count": 23,
   "id": "93676d6c",
   "metadata": {},
   "outputs": [
    {
     "data": {
      "text/plain": [
       "[2, 1, 5, 3, 4]"
      ]
     },
     "execution_count": 23,
     "metadata": {},
     "output_type": "execute_result"
    }
   ],
   "source": [
    "inorderTraversal(re)"
   ]
  },
  {
   "cell_type": "markdown",
   "id": "4fe83ab0",
   "metadata": {},
   "source": [
    "## 443. 压缩字符串"
   ]
  },
  {
   "cell_type": "code",
   "execution_count": 108,
   "id": "ac86c17c",
   "metadata": {},
   "outputs": [],
   "source": [
    "class Solution:\n",
    "    def compress(self, chars: List[str]) -> int:\n",
    "        slow, fast = 0, 1\n",
    "        cnt1 = cnt2 = 0\n",
    "        while fast < len(chars):\n",
    "            if chars[slow] != chars[fast]:\n",
    "                slow = fast\n",
    "                cnt1 += 1\n",
    "                cnt2 += 0 if fast-slow == 1 else len(str(fast-slow))\n",
    "                print(cnt1, cnt2)\n",
    "            fast += 1\n",
    "        cnt2 += 1 if fast-slow == 1 else len(str(fast-slow))+1\n",
    "        return cnt1 + cnt2"
   ]
  },
  {
   "cell_type": "code",
   "execution_count": 111,
   "id": "65d9a121",
   "metadata": {},
   "outputs": [],
   "source": [
    "chars = [\"a\",\"b\",\"b\",\"b\",\"b\",\"b\",\"b\",\"b\",\"b\",\"b\",\"b\",\"b\",\"b\"]"
   ]
  },
  {
   "cell_type": "code",
   "execution_count": 112,
   "id": "0af517c0",
   "metadata": {},
   "outputs": [
    {
     "name": "stdout",
     "output_type": "stream",
     "text": [
      "1 1\n"
     ]
    },
    {
     "data": {
      "text/plain": [
       "5"
      ]
     },
     "execution_count": 112,
     "metadata": {},
     "output_type": "execute_result"
    }
   ],
   "source": [
    "s = Solution()\n",
    "s.compress(chars)"
   ]
  },
  {
   "cell_type": "code",
   "execution_count": 127,
   "id": "a9d5d6f7",
   "metadata": {},
   "outputs": [],
   "source": [
    "class Solution:\n",
    "    def compress(self, chars: List[str]) -> int:\n",
    "        slow, fast = 0, 1\n",
    "        cnt1 = cnt2 = 0\n",
    "        while fast < len(chars):\n",
    "            if chars[slow] != chars[fast] or fast == len(chars)-1:\n",
    "                cnt1 += 1\n",
    "                cnt2 += 0 if fast-slow == 1 else len(str(fast-slow))\n",
    "                slow = fast\n",
    "                print(cnt1, cnt2)\n",
    "            fast += 1\n",
    "        return cnt1 + cnt2"
   ]
  },
  {
   "cell_type": "code",
   "execution_count": 128,
   "id": "eb9d1f58",
   "metadata": {},
   "outputs": [
    {
     "name": "stdout",
     "output_type": "stream",
     "text": [
      "1 0\n",
      "2 1\n",
      "3 1\n"
     ]
    },
    {
     "data": {
      "text/plain": [
       "4"
      ]
     },
     "execution_count": 128,
     "metadata": {},
     "output_type": "execute_result"
    }
   ],
   "source": [
    "chars = [\"a\",\"b\",\"b\",\"b\",\"c\",\"c\"]\n",
    "s = Solution()\n",
    "s.compress(chars)"
   ]
  },
  {
   "cell_type": "code",
   "execution_count": 140,
   "id": "387ee351",
   "metadata": {},
   "outputs": [],
   "source": [
    "class Solution:\n",
    "    def compress(self, chars: List[str]) -> int:\n",
    "        chars.append(\" \")\n",
    "        slow, fast = 0,1\n",
    "        ans = 0\n",
    "        res = []\n",
    "        while fast < len(chars):\n",
    "            if chars[fast] != chars[slow]:\n",
    "                res.append(chars[slow])\n",
    "                ans += 1 if fast-slow == 1 else 1 + len(str(fast-slow))\n",
    "                if fast-slow != 1: res.append(str(fast-slow))\n",
    "                slow = fast\n",
    "            fast += 1\n",
    "        return ans,res"
   ]
  },
  {
   "cell_type": "code",
   "execution_count": 150,
   "id": "ceca8ffb",
   "metadata": {},
   "outputs": [
    {
     "data": {
      "text/plain": [
       "(4, ['a', 'b', '1', '2'])"
      ]
     },
     "execution_count": 150,
     "metadata": {},
     "output_type": "execute_result"
    }
   ],
   "source": [
    "chars = [\"a\",\"b\",\"b\",\"b\",\"b\",\"b\",\"b\",\"b\",\"b\",\"b\",\"b\",\"b\",\"b\"]\n",
    "s = Solution()\n",
    "s.compress(chars)"
   ]
  },
  {
   "cell_type": "code",
   "execution_count": 145,
   "id": "d9a61115",
   "metadata": {},
   "outputs": [],
   "source": [
    "class Solution:\n",
    "    def compress(self, chars: List[str]) -> int:\n",
    "        chars.append(\" \")\n",
    "        slow, fast = 0,1\n",
    "        ans = 0\n",
    "        while fast < len(chars):\n",
    "            if chars[fast] != chars[slow]:\n",
    "                ans += 1 if fast-slow == 1 else 1 + len(str(fast-slow))\n",
    "                slow = fast\n",
    "            fast += 1\n",
    "        return ans"
   ]
  },
  {
   "cell_type": "markdown",
   "id": "bb4bf951",
   "metadata": {},
   "source": [
    "又看错题"
   ]
  },
  {
   "cell_type": "markdown",
   "id": "5ed81ec9",
   "metadata": {},
   "source": [
    "想一个问题，为什么是重复两次以上才在后面接上数字？\n",
    "这就能保证对前面数组重新赋值不会影响到当前的fast与slow指针的统计，即不会占用额外空间。\n",
    "试想一个chars为全部不重复的字符，如：[\"a\", \"b\", \"c\"], 那么压缩以后还是原字符，不会占用额外空间"
   ]
  },
  {
   "cell_type": "code",
   "execution_count": 154,
   "id": "d4f6885f",
   "metadata": {},
   "outputs": [],
   "source": [
    "class Solution:\n",
    "    def compress(self, chars: List[str]) -> int:\n",
    "        chars.append(\" \")\n",
    "        idx, slow, fast = 0,0,1\n",
    "        while fast < len(chars):\n",
    "            if chars[fast] != chars[slow]:\n",
    "                chars[idx] = chars[slow]\n",
    "                idx += 1\n",
    "                if fast - slow != 1:\n",
    "                    for ch in str(fast - slow):\n",
    "                        chars[idx] = ch\n",
    "                        idx += 1\n",
    "                slow = fast\n",
    "            fast += 1\n",
    "#             print(chars)\n",
    "        return idx"
   ]
  },
  {
   "cell_type": "code",
   "execution_count": 157,
   "id": "7fa23091",
   "metadata": {},
   "outputs": [
    {
     "name": "stdout",
     "output_type": "stream",
     "text": [
      "['a', ' ']\n"
     ]
    },
    {
     "data": {
      "text/plain": [
       "1"
      ]
     },
     "execution_count": 157,
     "metadata": {},
     "output_type": "execute_result"
    }
   ],
   "source": [
    "chars = [\"a\"]\n",
    "s = Solution()\n",
    "s.compress(chars)"
   ]
  },
  {
   "cell_type": "markdown",
   "id": "304473c9",
   "metadata": {},
   "source": [
    "## 946. 验证栈序列"
   ]
  },
  {
   "cell_type": "code",
   "execution_count": 171,
   "id": "703ddc0e",
   "metadata": {},
   "outputs": [],
   "source": [
    "class Solution:\n",
    "    def validateStackSequences(self, pushed: List[int], popped: List[int]) -> bool:\n",
    "        idx = pushed.index(popped[0])\n",
    "        left, right = max(idx-1, 0), min(idx+1, len(popped)-1)\n",
    "#         print(idx)\n",
    "        for i in range(1, len(popped)):\n",
    "            if popped[i] == pushed[right]: right = min(len(popped)-1, right+1)\n",
    "            elif popped[i] == pushed[left]: left = max(0, left-1)\n",
    "            else: return False\n",
    "#             print(left,right)\n",
    "        return True"
   ]
  },
  {
   "cell_type": "code",
   "execution_count": 174,
   "id": "8721323e",
   "metadata": {},
   "outputs": [],
   "source": [
    "pushed = [1,2,3,4,5]\n",
    "popped = [4,3,5,1,2]"
   ]
  },
  {
   "cell_type": "code",
   "execution_count": 175,
   "id": "ab5d2d00",
   "metadata": {},
   "outputs": [
    {
     "name": "stdout",
     "output_type": "stream",
     "text": [
      "3\n",
      "1 4\n",
      "1 4\n"
     ]
    },
    {
     "data": {
      "text/plain": [
       "False"
      ]
     },
     "execution_count": 175,
     "metadata": {},
     "output_type": "execute_result"
    }
   ],
   "source": [
    "s = Solution()\n",
    "s.validateStackSequences(pushed, popped)"
   ]
  },
  {
   "cell_type": "markdown",
   "id": "baddb2e9",
   "metadata": {},
   "source": [
    "思路错误,需要保存栈底的元素"
   ]
  },
  {
   "cell_type": "code",
   "execution_count": 206,
   "id": "c852631e",
   "metadata": {},
   "outputs": [],
   "source": [
    "class Solution:\n",
    "    def validateStackSequences(self, pushed: List[int], popped: List[int]) -> bool:\n",
    "        top = bottom = cur = 0\n",
    "        while cur < len(popped):\n",
    "            if pushed[top] != popped[cur]:\n",
    "                top += 1\n",
    "                if top >= len(popped): return False\n",
    "            else:\n",
    "                pushed[top] = -1\n",
    "                while pushed[top] == -1 and top >= bottom: top -= 1\n",
    "                cur += 1\n",
    "#             print(pushed)\n",
    "        return True"
   ]
  },
  {
   "cell_type": "code",
   "execution_count": 207,
   "id": "4111ab2f",
   "metadata": {},
   "outputs": [],
   "source": [
    "pushed = [0,1,2,3,4,5]\n",
    "popped = [0,4,5,3,2,1]"
   ]
  },
  {
   "cell_type": "code",
   "execution_count": 208,
   "id": "e20feca6",
   "metadata": {},
   "outputs": [
    {
     "name": "stdout",
     "output_type": "stream",
     "text": [
      "[-1, 1, 2, 3, 4, 5]\n",
      "[-1, 1, 2, 3, 4, 5]\n",
      "[-1, 1, 2, 3, 4, 5]\n",
      "[-1, 1, 2, 3, 4, 5]\n",
      "[-1, 1, 2, 3, 4, 5]\n",
      "[-1, 1, 2, 3, 4, 5]\n",
      "[-1, 1, 2, 3, -1, 5]\n",
      "[-1, 1, 2, 3, -1, 5]\n",
      "[-1, 1, 2, 3, -1, 5]\n",
      "[-1, 1, 2, 3, -1, -1]\n",
      "[-1, 1, 2, -1, -1, -1]\n",
      "[-1, 1, -1, -1, -1, -1]\n",
      "[-1, -1, -1, -1, -1, -1]\n"
     ]
    },
    {
     "data": {
      "text/plain": [
       "True"
      ]
     },
     "execution_count": 208,
     "metadata": {},
     "output_type": "execute_result"
    }
   ],
   "source": [
    "s = Solution()\n",
    "s.validateStackSequences(pushed, popped)"
   ]
  },
  {
   "cell_type": "markdown",
   "id": "203e9ae4",
   "metadata": {},
   "source": [
    "太慢。逻辑有大问题"
   ]
  },
  {
   "cell_type": "code",
   "execution_count": 211,
   "id": "fa2ccfa6",
   "metadata": {},
   "outputs": [],
   "source": [
    "class Solution:\n",
    "    def validateStackSequences(self, pushed: List[int], popped: List[int]) -> bool:\n",
    "        res, i = [], 0\n",
    "        for x in pushed:\n",
    "            res.append(x)\n",
    "            while res and res[-1] == popped[i]:\n",
    "                res.pop()\n",
    "                i += 1\n",
    "        return len(res) == 0"
   ]
  },
  {
   "cell_type": "markdown",
   "id": "abc93bfd",
   "metadata": {},
   "source": [
    "## 492. 构造矩形"
   ]
  },
  {
   "cell_type": "code",
   "execution_count": 223,
   "id": "d208616e",
   "metadata": {},
   "outputs": [],
   "source": [
    "# 暴力\n",
    "class Solution:\n",
    "    def constructRectangle(self, area: int) -> List[int]:\n",
    "        d = float('Inf')\n",
    "        for i in range(1, int(pow(area, 0.5))+1):\n",
    "            if area % i == 0:\n",
    "                if abs(area//i-i) < d:\n",
    "                    w = i\n",
    "                    l = area // i\n",
    "                    d = abs(area//i-i)\n",
    "        return [l,w]"
   ]
  },
  {
   "cell_type": "code",
   "execution_count": 226,
   "id": "fe4ca949",
   "metadata": {},
   "outputs": [
    {
     "data": {
      "text/plain": [
       "[3200, 3125]"
      ]
     },
     "execution_count": 226,
     "metadata": {},
     "output_type": "execute_result"
    }
   ],
   "source": [
    "s = Solution()\n",
    "s.constructRectangle(10000000)"
   ]
  },
  {
   "cell_type": "code",
   "execution_count": 227,
   "id": "82247d1c",
   "metadata": {},
   "outputs": [
    {
     "data": {
      "text/plain": [
       "3162.2776601683795"
      ]
     },
     "execution_count": 227,
     "metadata": {},
     "output_type": "execute_result"
    }
   ],
   "source": [
    "pow(10000000, 0.5)"
   ]
  },
  {
   "cell_type": "code",
   "execution_count": 242,
   "id": "489f5bd1",
   "metadata": {},
   "outputs": [],
   "source": [
    "# 暴力\n",
    "class Solution:\n",
    "    def constructRectangle(self, area: int) -> List[int]:\n",
    "        for i in range(int(pow(area, 0.5))+1, 0, -1):\n",
    "            if area % i == 0:\n",
    "                return [area//i, i] if i <= area // i else [i, area//i]"
   ]
  },
  {
   "cell_type": "code",
   "execution_count": 246,
   "id": "93e02f29",
   "metadata": {},
   "outputs": [
    {
     "data": {
      "text/plain": [
       "[3, 2]"
      ]
     },
     "execution_count": 246,
     "metadata": {},
     "output_type": "execute_result"
    }
   ],
   "source": [
    "s = Solution()\n",
    "s.constructRectangle(6)"
   ]
  },
  {
   "cell_type": "code",
   "execution_count": 240,
   "id": "bb8b457a",
   "metadata": {},
   "outputs": [],
   "source": [
    "class Solution:\n",
    "    def constructRectangle(self, area: int) -> List[int]:\n",
    "        w = int(sqrt(area))\n",
    "        while area % w:\n",
    "            w -= 1\n",
    "        return [area // w, w]"
   ]
  },
  {
   "cell_type": "code",
   "execution_count": 244,
   "id": "bc004365",
   "metadata": {},
   "outputs": [],
   "source": [
    "# 暴力\n",
    "class Solution:\n",
    "    def constructRectangle(self, area: int) -> List[int]:\n",
    "        for i in range(int(pow(area, 0.5)), 0, -1):\n",
    "            if area % i == 0:\n",
    "                return [area//i, i]"
   ]
  },
  {
   "cell_type": "markdown",
   "id": "66a39459",
   "metadata": {},
   "source": [
    "## 89. 格雷编码"
   ]
  },
  {
   "cell_type": "code",
   "execution_count": 247,
   "id": "bf02876e",
   "metadata": {},
   "outputs": [],
   "source": [
    "class Solution:\n",
    "    def grayCode(self, n: int) -> List[int]:\n",
    "        ans = [0]\n",
    "        for i in range(1, n + 1):\n",
    "            for j in range(len(ans) - 1, -1, -1):\n",
    "                ans.append(ans[j] | (1 << (i - 1)))\n",
    "        return ans"
   ]
  },
  {
   "cell_type": "code",
   "execution_count": 251,
   "id": "c37c783c",
   "metadata": {},
   "outputs": [
    {
     "data": {
      "text/plain": [
       "1"
      ]
     },
     "execution_count": 251,
     "metadata": {},
     "output_type": "execute_result"
    }
   ],
   "source": [
    "2^3"
   ]
  },
  {
   "cell_type": "code",
   "execution_count": 252,
   "id": "4b095b4b",
   "metadata": {},
   "outputs": [],
   "source": [
    "class Solution:\n",
    "    def grayCode(self, n: int) -> List[int]:\n",
    "        ans = [0] * (1 << n)\n",
    "        for i in range(1 << n):\n",
    "            ans[i] = (i >> 1) ^ i\n",
    "        return ans"
   ]
  },
  {
   "cell_type": "code",
   "execution_count": 255,
   "id": "f00cd8a4",
   "metadata": {},
   "outputs": [
    {
     "data": {
      "text/plain": [
       "2"
      ]
     },
     "execution_count": 255,
     "metadata": {},
     "output_type": "execute_result"
    }
   ],
   "source": [
    "5 >> 1"
   ]
  },
  {
   "cell_type": "markdown",
   "id": "9ff83d6b",
   "metadata": {},
   "source": [
    "没懂"
   ]
  },
  {
   "cell_type": "markdown",
   "id": "ebb49c62",
   "metadata": {},
   "source": [
    "## 456. 132模式"
   ]
  },
  {
   "cell_type": "markdown",
   "id": "0bf420ef",
   "metadata": {},
   "source": [
    "感觉这题的重点应该是判断前缀代表的区间，若后面的数字能落在这个区间内则说明有132模式"
   ]
  },
  {
   "cell_type": "markdown",
   "id": "425c5f32",
   "metadata": {},
   "source": [
    "错误的"
   ]
  },
  {
   "cell_type": "code",
   "execution_count": 26,
   "id": "531027eb",
   "metadata": {},
   "outputs": [],
   "source": [
    "# 单调栈解法\n",
    "class Solution:\n",
    "    def find132pattern(self, nums: List[int]) -> bool:\n",
    "        stack = []\n",
    "        k = -(10 ** 9 + 7)\n",
    "        for i in range(len(nums) - 1,-1,-1):\n",
    "            if nums[i] < k:\n",
    "                return True\n",
    "            while stack and stack[-1] < nums[i]:\n",
    "                k = max(k,stack.pop())\n",
    "            stack.append(nums[i])\n",
    "        return False"
   ]
  },
  {
   "cell_type": "code",
   "execution_count": 27,
   "id": "5ca26ece",
   "metadata": {},
   "outputs": [],
   "source": [
    "from sortedcontainers import SortedList\n",
    "from typing import List\n",
    "# 枚举3\n",
    "class Solution:\n",
    "    def find132pattern(self, nums: List[int]) -> bool:\n",
    "        n = len(nums)\n",
    "        if n < 3:\n",
    "            return False\n",
    "        \n",
    "        # 左侧最小值\n",
    "        left_min = nums[0]\n",
    "        # 右侧所有元素\n",
    "        right_all = SortedList(nums[2:])\n",
    "        \n",
    "        for j in range(1, n - 1):\n",
    "            if left_min < nums[j]:\n",
    "                index = right_all.bisect_right(left_min)\n",
    "                if index < len(right_all) and right_all[index] < nums[j]:\n",
    "                    return True\n",
    "            left_min = min(left_min, nums[j])\n",
    "            right_all.remove(nums[j + 1])\n",
    "\n",
    "        return False"
   ]
  },
  {
   "cell_type": "code",
   "execution_count": null,
   "id": "68798859",
   "metadata": {},
   "outputs": [],
   "source": []
  },
  {
   "cell_type": "code",
   "execution_count": null,
   "id": "5a7a0e4d",
   "metadata": {},
   "outputs": [],
   "source": []
  },
  {
   "cell_type": "code",
   "execution_count": null,
   "id": "de101f91",
   "metadata": {},
   "outputs": [],
   "source": []
  },
  {
   "cell_type": "markdown",
   "id": "e913209f",
   "metadata": {},
   "source": [
    "## 1475. 商品折扣后的价格"
   ]
  },
  {
   "cell_type": "code",
   "execution_count": 21,
   "id": "98753f87",
   "metadata": {},
   "outputs": [],
   "source": [
    "class Solution:\n",
    "    def finalPrices(self, prices: List[int]) -> List[int]:\n",
    "        stk = [0]\n",
    "        for i in range(1, len(prices)):\n",
    "            if prices[i] <= prices[stk[-1]]:\n",
    "                while stk and prices[stk[-1]] >= prices[i]:\n",
    "                    cur = stk.pop()\n",
    "                    prices[cur] -= prices[i]\n",
    "            stk.append(i)\n",
    "        return prices"
   ]
  },
  {
   "cell_type": "code",
   "execution_count": 25,
   "id": "011c6483",
   "metadata": {},
   "outputs": [
    {
     "data": {
      "text/plain": [
       "[4, 2, 4, 2, 3]"
      ]
     },
     "execution_count": 25,
     "metadata": {},
     "output_type": "execute_result"
    }
   ],
   "source": [
    "prices = [8,4,6,2,3]\n",
    "s = Solution()\n",
    "s.finalPrices(prices)"
   ]
  },
  {
   "cell_type": "markdown",
   "id": "fae2c716",
   "metadata": {},
   "source": [
    "不需要那个if"
   ]
  },
  {
   "cell_type": "code",
   "execution_count": 24,
   "id": "e4fe4aaf",
   "metadata": {},
   "outputs": [],
   "source": [
    "class Solution:\n",
    "    def finalPrices(self, prices: List[int]) -> List[int]:\n",
    "        stk = [0]\n",
    "        for i in range(1, len(prices)):\n",
    "            while stk and prices[stk[-1]] >= prices[i]:\n",
    "                cur = stk.pop()\n",
    "                prices[cur] -= prices[i]\n",
    "            stk.append(i)\n",
    "        return prices"
   ]
  },
  {
   "cell_type": "markdown",
   "id": "bedd632c",
   "metadata": {},
   "source": [
    "单调栈还是太强了"
   ]
  },
  {
   "cell_type": "markdown",
   "id": "3dc19a32",
   "metadata": {},
   "source": [
    "## 2352. 相等行列对"
   ]
  },
  {
   "cell_type": "code",
   "execution_count": 40,
   "id": "5016cab7",
   "metadata": {},
   "outputs": [],
   "source": [
    "class Solution:\n",
    "    def equalPairs(self, grid: List[List[int]]) -> int:\n",
    "        ans = 0\n",
    "        n = len(grid)\n",
    "        for i in range(n):\n",
    "            for j in range(n):\n",
    "                for k in range(n):\n",
    "                    break1 = 0\n",
    "                    if grid[i][k] != grid[k][j]:\n",
    "                        break1 = 1\n",
    "                        break\n",
    "                if not break1: \n",
    "                    ans += 1\n",
    "#                     print(i,j)\n",
    "        return ans"
   ]
  },
  {
   "cell_type": "code",
   "execution_count": 41,
   "id": "258583a1",
   "metadata": {},
   "outputs": [
    {
     "data": {
      "text/plain": [
       "3"
      ]
     },
     "execution_count": 41,
     "metadata": {},
     "output_type": "execute_result"
    }
   ],
   "source": [
    "grid = [[3,1,2,2],[1,4,4,5],[2,4,2,2],[2,4,2,2]]\n",
    "s = Solution()\n",
    "s.equalPairs(grid)"
   ]
  },
  {
   "cell_type": "markdown",
   "id": "43ab2577",
   "metadata": {},
   "source": [
    "o(n^3)但是pass"
   ]
  },
  {
   "cell_type": "code",
   "execution_count": 89,
   "id": "e83b6fd6",
   "metadata": {},
   "outputs": [],
   "source": [
    "from collections import defaultdict\n",
    "class Solution:\n",
    "    def equalPairs(self, grid: List[List[int]]) -> int:\n",
    "        n = len(grid)\n",
    "        ans = 0\n",
    "        memo1 = defaultdict(int)\n",
    "        memo2 = defaultdict(int)\n",
    "        for i in range(n):\n",
    "            key1, key2 = [],[]\n",
    "            for j in range(n):\n",
    "                key1.append(grid[i][j])\n",
    "                key2.append(grid[j][i])\n",
    "            memo1[tuple(key1)] += 1\n",
    "            memo2[tuple(key2)] += 1\n",
    "        for key in memo1:\n",
    "            if key in memo2:\n",
    "                ans += memo1[key] * memo2[key]\n",
    "        return ans,memo1,memo2"
   ]
  },
  {
   "cell_type": "markdown",
   "id": "6b342b97",
   "metadata": {},
   "source": [
    "o(n^2) + o(n)"
   ]
  },
  {
   "cell_type": "code",
   "execution_count": 90,
   "id": "d2f24c23",
   "metadata": {},
   "outputs": [
    {
     "data": {
      "text/plain": [
       "(8,\n",
       " defaultdict(int, {(1, 1, 2, 2): 2, (2, 2, 2, 2): 2}),\n",
       " defaultdict(int, {(1, 1, 2, 2): 2, (2, 2, 2, 2): 2}))"
      ]
     },
     "execution_count": 90,
     "metadata": {},
     "output_type": "execute_result"
    }
   ],
   "source": [
    "grid = [[1,1,2,2],[1,1,2,2],[2,2,2,2],[2,2,2,2]]\n",
    "s = Solution()\n",
    "s.equalPairs(grid)"
   ]
  },
  {
   "cell_type": "markdown",
   "id": "378c7300",
   "metadata": {},
   "source": [
    "列表不可做字典的键，元组不可修改元素"
   ]
  },
  {
   "cell_type": "code",
   "execution_count": 95,
   "id": "8834a15f",
   "metadata": {},
   "outputs": [],
   "source": [
    "from collections import Counter\n",
    "class Solution:\n",
    "    def equalPairs(self, grid: List[List[int]]) -> int:\n",
    "        cnt = Counter(tuple(row) for row in grid)\n",
    "        return sum(cnt[col] for col in zip(*grid))"
   ]
  },
  {
   "cell_type": "code",
   "execution_count": 96,
   "id": "9af99f29",
   "metadata": {},
   "outputs": [
    {
     "data": {
      "text/plain": [
       "8"
      ]
     },
     "execution_count": 96,
     "metadata": {},
     "output_type": "execute_result"
    }
   ],
   "source": [
    "grid = [[1,1,2,2],[1,1,2,2],[2,2,2,2],[2,2,2,2]]\n",
    "s = Solution()\n",
    "s.equalPairs(grid)"
   ]
  },
  {
   "cell_type": "markdown",
   "id": "18f16bd5",
   "metadata": {},
   "source": [
    "统计行的方法，tnbl"
   ]
  },
  {
   "cell_type": "code",
   "execution_count": 105,
   "id": "9811e02e",
   "metadata": {},
   "outputs": [
    {
     "data": {
      "text/plain": [
       "Counter({(1, 1, 2, 2): 2, (2, 2, 2, 2): 2})"
      ]
     },
     "execution_count": 105,
     "metadata": {},
     "output_type": "execute_result"
    }
   ],
   "source": [
    "grid = [[1,1,2,2],[1,1,2,2],[2,2,2,2],[2,2,2,2]]\n",
    "Counter(tuple(row) for row in grid)"
   ]
  },
  {
   "cell_type": "markdown",
   "id": "d4a0e3fd",
   "metadata": {},
   "source": [
    "访问列的方法，tnbl"
   ]
  },
  {
   "cell_type": "code",
   "execution_count": 103,
   "id": "ef2e4640",
   "metadata": {},
   "outputs": [
    {
     "name": "stdout",
     "output_type": "stream",
     "text": [
      "(1, 1, 2, 2)\n",
      "(1, 1, 2, 2)\n",
      "(2, 2, 2, 2)\n",
      "(2, 2, 2, 2)\n"
     ]
    }
   ],
   "source": [
    "# 访问列\n",
    "grid = [[1,1,2,2],[1,1,2,2],[2,2,2,2],[2,2,2,2]]\n",
    "for col in zip(*grid):\n",
    "    print(col)"
   ]
  },
  {
   "cell_type": "code",
   "execution_count": 100,
   "id": "788f32fb",
   "metadata": {
    "scrolled": true
   },
   "outputs": [
    {
     "name": "stdout",
     "output_type": "stream",
     "text": [
      "(1, 4)\n",
      "(2, 5)\n",
      "(3, 6)\n"
     ]
    }
   ],
   "source": [
    "a = [1,2,3]\n",
    "b = [4,5,6]\n",
    "for i in zip(a,b):\n",
    "    print(i)"
   ]
  },
  {
   "cell_type": "markdown",
   "id": "a4185a35",
   "metadata": {},
   "source": [
    "## 1477. 找两个和为目标值且不重叠的子数组"
   ]
  },
  {
   "cell_type": "code",
   "execution_count": 120,
   "id": "41440b57",
   "metadata": {},
   "outputs": [],
   "source": [
    "from collections import deque\n",
    "class Solution:\n",
    "    def minSumOfLengths(self, arr: List[int], target: int) -> int:\n",
    "        left = 0\n",
    "        res = []\n",
    "        stk = deque()\n",
    "        while left < len(arr):\n",
    "            stk.append(arr[left])\n",
    "            while sum(stk) > target:\n",
    "                stk.popleft()\n",
    "            if sum(stk) == target:\n",
    "                res.append(len(stk))\n",
    "                stk = deque()\n",
    "            print(stk)\n",
    "            left += 1\n",
    "        return res"
   ]
  },
  {
   "cell_type": "code",
   "execution_count": 126,
   "id": "1fb0f2d5",
   "metadata": {},
   "outputs": [
    {
     "name": "stdout",
     "output_type": "stream",
     "text": [
      "deque([])\n",
      "deque([3])\n",
      "deque([])\n",
      "deque([])\n"
     ]
    },
    {
     "data": {
      "text/plain": [
       "[1, 2, 1]"
      ]
     },
     "execution_count": 126,
     "metadata": {},
     "output_type": "execute_result"
    }
   ],
   "source": [
    "arr = [7,3,4,7]\n",
    "target = 7\n",
    "s = Solution()\n",
    "s.minSumOfLengths(arr, target)"
   ]
  },
  {
   "cell_type": "code",
   "execution_count": 132,
   "id": "62762013",
   "metadata": {},
   "outputs": [
    {
     "data": {
      "text/plain": [
       "SortedList([6])"
      ]
     },
     "execution_count": 132,
     "metadata": {},
     "output_type": "execute_result"
    }
   ],
   "source": [
    "from sortedcontainers import SortedList\n",
    "l = SortedList()\n",
    "l.add(6)\n",
    "l"
   ]
  },
  {
   "cell_type": "code",
   "execution_count": 145,
   "id": "3be13587",
   "metadata": {},
   "outputs": [],
   "source": [
    "from collections import deque\n",
    "from sortedcontainers import SortedList\n",
    "\n",
    "class Solution:\n",
    "    def minSumOfLengths(self, arr: List[int], target: int) -> int:\n",
    "        left = 0\n",
    "        res = SortedList()\n",
    "        stk = deque()\n",
    "        while left < len(arr):\n",
    "            stk.append(arr[left])\n",
    "            while sum(stk) > target:\n",
    "                stk.popleft()\n",
    "            if sum(stk) == target:\n",
    "                res.add(len(stk))\n",
    "            print(stk,res)\n",
    "            left += 1\n",
    "        return res[0]+res[1] if len(res)>=2 else -1"
   ]
  },
  {
   "cell_type": "code",
   "execution_count": 146,
   "id": "29f0ac0b",
   "metadata": {},
   "outputs": [
    {
     "name": "stdout",
     "output_type": "stream",
     "text": [
      "deque([2]) SortedList([])\n",
      "deque([2, 1]) SortedList([])\n",
      "deque([2, 1, 3]) SortedList([3])\n",
      "deque([3, 3]) SortedList([2, 3])\n",
      "deque([3, 2]) SortedList([2, 3])\n",
      "deque([2, 3]) SortedList([2, 3])\n",
      "deque([2, 3, 1]) SortedList([2, 3, 3])\n"
     ]
    },
    {
     "data": {
      "text/plain": [
       "5"
      ]
     },
     "execution_count": 146,
     "metadata": {},
     "output_type": "execute_result"
    }
   ],
   "source": [
    "arr = [2,1,3,3,2,3,1]\n",
    "target = 6\n",
    "s = Solution()\n",
    "s.minSumOfLengths(arr, target)"
   ]
  },
  {
   "cell_type": "markdown",
   "id": "83fb81e8",
   "metadata": {},
   "source": [
    "有问题，应找出所有组合再对这些满足条件的进一步筛选出两个不重叠的最小值"
   ]
  },
  {
   "cell_type": "code",
   "execution_count": 147,
   "id": "529f8f93",
   "metadata": {},
   "outputs": [],
   "source": [
    "from sortedcontainers import SortedList\n",
    "class Solution:\n",
    "    def minSumOfLengths(self, arr: List[int], target: int) -> int:\n",
    "        left = 0\n",
    "        right = 0\n",
    "        arrsum = 0\n",
    "        res = []\n",
    "        while right < len(arr):\n",
    "            arrsum += arr[right]\n",
    "            right += 1\n",
    "            if arrsum < target: continue\n",
    "            while arrsum > target:\n",
    "                arrsum -= arr[left]\n",
    "                left += 1\n",
    "            if arrsum == target:\n",
    "                res.append((left,right))\n",
    "        return res"
   ]
  },
  {
   "cell_type": "code",
   "execution_count": 148,
   "id": "394d18ab",
   "metadata": {},
   "outputs": [
    {
     "data": {
      "text/plain": [
       "[(0, 3), (2, 4), (4, 7)]"
      ]
     },
     "execution_count": 148,
     "metadata": {},
     "output_type": "execute_result"
    }
   ],
   "source": [
    "arr = [2,1,3,3,2,3,1]\n",
    "target = 6\n",
    "s = Solution()\n",
    "s.minSumOfLengths(arr, target)"
   ]
  },
  {
   "cell_type": "code",
   "execution_count": 160,
   "id": "a6a9c510",
   "metadata": {},
   "outputs": [],
   "source": [
    "from sortedcontainers import SortedList\n",
    "class Solution:\n",
    "    def minSumOfLengths(self, arr: List[int], target: int) -> int:\n",
    "        left = 0\n",
    "        right = 0\n",
    "        arrsum = 0\n",
    "        res = []\n",
    "        while right < len(arr):\n",
    "            arrsum += arr[right]\n",
    "            right += 1\n",
    "            if arrsum < target: continue\n",
    "            while arrsum > target:\n",
    "                arrsum -= arr[left]\n",
    "                left += 1\n",
    "            if arrsum == target:\n",
    "                res.append((left,right))\n",
    "                \n",
    "        ans = float('Inf')\n",
    "        for i in range(len(res)):\n",
    "            l1 = res[i][1] - res[i][0]\n",
    "            for j in range(len(res)):\n",
    "                if res[j][0] < res[i][1]:\n",
    "                    continue\n",
    "                else:\n",
    "                    ans = min(ans, l1 + res[j][1] - res[j][0])\n",
    "        if ans == float(\"Inf\"): ans = -1\n",
    "        return ans"
   ]
  },
  {
   "cell_type": "code",
   "execution_count": 161,
   "id": "57573da5",
   "metadata": {},
   "outputs": [
    {
     "data": {
      "text/plain": [
       "-1"
      ]
     },
     "execution_count": 161,
     "metadata": {},
     "output_type": "execute_result"
    }
   ],
   "source": [
    "arr = [1,6,1]\n",
    "target = 7\n",
    "s = Solution()\n",
    "s.minSumOfLengths(arr, target)"
   ]
  },
  {
   "cell_type": "markdown",
   "id": "11c1a1ba",
   "metadata": {},
   "source": [
    "超时，应使res按长度排列，若遍历到的数对长度大于当前ans，则直接返回ans"
   ]
  },
  {
   "cell_type": "code",
   "execution_count": 165,
   "id": "58103732",
   "metadata": {},
   "outputs": [
    {
     "data": {
      "text/plain": [
       "SortedKeyList([(1, 2), (1, 4)], key=<function <lambda> at 0x0000027F78944D08>)"
      ]
     },
     "execution_count": 165,
     "metadata": {},
     "output_type": "execute_result"
    }
   ],
   "source": [
    "from sortedcontainers import SortedList\n",
    "a = SortedList(key = lambda x: x[1]-x[0])\n",
    "a.add((1,2))\n",
    "a.add((1,4))\n",
    "a"
   ]
  },
  {
   "cell_type": "markdown",
   "id": "90e2e437",
   "metadata": {},
   "source": [
    "lambda真好用"
   ]
  },
  {
   "cell_type": "code",
   "execution_count": 172,
   "id": "9d4bf5f6",
   "metadata": {},
   "outputs": [],
   "source": [
    "from sortedcontainers import SortedList\n",
    "class Solution:\n",
    "    def minSumOfLengths(self, arr: List[int], target: int) -> int:\n",
    "        left = 0\n",
    "        right = 0\n",
    "        arrsum = 0\n",
    "        res = SortedList(key = lambda x: x[1]-x[0])\n",
    "        while right < len(arr):\n",
    "            arrsum += arr[right]\n",
    "            right += 1\n",
    "            if arrsum < target: continue\n",
    "            while arrsum > target:\n",
    "                arrsum -= arr[left]\n",
    "                left += 1\n",
    "            if arrsum == target:\n",
    "                res.add((left, right))\n",
    "                \n",
    "        ans = float('Inf')\n",
    "        for i in range(len(res)):\n",
    "            l1 = res[i][1] - res[i][0]\n",
    "            if l1 >= ans: break\n",
    "            for j in range(len(res)):\n",
    "                if res[j][0] < res[i][1]:\n",
    "                    continue\n",
    "                else:\n",
    "                    ans = min(ans, l1 + res[j][1] - res[j][0])\n",
    "        if ans == float(\"Inf\"): ans = -1\n",
    "        return ans"
   ]
  },
  {
   "cell_type": "code",
   "execution_count": 173,
   "id": "a23e8a62",
   "metadata": {},
   "outputs": [
    {
     "data": {
      "text/plain": [
       "3"
      ]
     },
     "execution_count": 173,
     "metadata": {},
     "output_type": "execute_result"
    }
   ],
   "source": [
    "arr = [3,1,1,1,5,1,2,1]\n",
    "target = 3\n",
    "s = Solution()\n",
    "s.minSumOfLengths(arr, target)"
   ]
  },
  {
   "cell_type": "markdown",
   "id": "669eeabb",
   "metadata": {},
   "source": [
    "还是超时，并且应该前后都判断"
   ]
  },
  {
   "cell_type": "code",
   "execution_count": 176,
   "id": "50f641c0",
   "metadata": {},
   "outputs": [],
   "source": [
    "class Solution:\n",
    "    def minSumOfLengths(self, arr: List[int], target: int) -> int:\n",
    "        res = len(arr) + 1\n",
    "        pre = {}\n",
    "        pre[0] = -1\n",
    "        p = 0\n",
    "        dp = [float(\"inf\")] * len(arr)\n",
    "        for i,a in enumerate(arr):\n",
    "            p += a\n",
    "            dp[i] = dp[i-1]\n",
    "            if p - target in pre:\n",
    "                cur = i - pre[p-target]\n",
    "                if dp[pre[p-target]] != float(\"inf\"):\n",
    "                    res = min(res,cur+dp[pre[p-target]])\n",
    "                dp[i] = min(dp[i],cur)\n",
    "            pre[p] = i\n",
    "            print(dp,pre)\n",
    "        return -1 if res == len(arr)+1 else res"
   ]
  },
  {
   "cell_type": "code",
   "execution_count": 177,
   "id": "48c4c63a",
   "metadata": {},
   "outputs": [
    {
     "name": "stdout",
     "output_type": "stream",
     "text": [
      "[1, inf, inf, inf, inf, inf, inf, inf] {0: -1, 3: 0}\n",
      "[1, 1, inf, inf, inf, inf, inf, inf] {0: -1, 3: 0, 4: 1}\n",
      "[1, 1, 1, inf, inf, inf, inf, inf] {0: -1, 3: 0, 4: 1, 5: 2}\n",
      "[1, 1, 1, 1, inf, inf, inf, inf] {0: -1, 3: 0, 4: 1, 5: 2, 6: 3}\n",
      "[1, 1, 1, 1, 1, inf, inf, inf] {0: -1, 3: 0, 4: 1, 5: 2, 6: 3, 11: 4}\n",
      "[1, 1, 1, 1, 1, 1, inf, inf] {0: -1, 3: 0, 4: 1, 5: 2, 6: 3, 11: 4, 12: 5}\n",
      "[1, 1, 1, 1, 1, 1, 1, inf] {0: -1, 3: 0, 4: 1, 5: 2, 6: 3, 11: 4, 12: 5, 14: 6}\n",
      "[1, 1, 1, 1, 1, 1, 1, 1] {0: -1, 3: 0, 4: 1, 5: 2, 6: 3, 11: 4, 12: 5, 14: 6, 15: 7}\n"
     ]
    },
    {
     "data": {
      "text/plain": [
       "3"
      ]
     },
     "execution_count": 177,
     "metadata": {},
     "output_type": "execute_result"
    }
   ],
   "source": [
    "arr = [3,1,1,1,5,1,2,1]\n",
    "target = 3\n",
    "s = Solution()\n",
    "s.minSumOfLengths(arr, target)"
   ]
  },
  {
   "cell_type": "markdown",
   "id": "be851f79",
   "metadata": {},
   "source": [
    "看不懂，歇了"
   ]
  },
  {
   "cell_type": "markdown",
   "id": "5416440d",
   "metadata": {},
   "source": [
    "## 633. 平方数之和"
   ]
  },
  {
   "cell_type": "code",
   "execution_count": 198,
   "id": "ea1bd646",
   "metadata": {},
   "outputs": [],
   "source": [
    "from math import sqrt\n",
    "class Solution:\n",
    "    def judgeSquareSum(self, c: int) -> bool:\n",
    "        for i in range(int(sqrt(c)), -1, -1):\n",
    "            a = pow(i,2)\n",
    "            for b in range(int(sqrt(c-a))+2):\n",
    "                if a + pow(b,2) == c:\n",
    "                    return True\n",
    "                if a + pow(b,2) > c:\n",
    "                    break\n",
    "        return False"
   ]
  },
  {
   "cell_type": "code",
   "execution_count": 200,
   "id": "6ef31c55",
   "metadata": {},
   "outputs": [
    {
     "data": {
      "text/plain": [
       "False"
      ]
     },
     "execution_count": 200,
     "metadata": {},
     "output_type": "execute_result"
    }
   ],
   "source": [
    "s = Solution()\n",
    "s.judgeSquareSum(9999)"
   ]
  },
  {
   "cell_type": "code",
   "execution_count": 201,
   "id": "84b0741e",
   "metadata": {},
   "outputs": [],
   "source": [
    "from math import sqrt\n",
    "class Solution:\n",
    "    def judgeSquareSum(self, c: int) -> bool:\n",
    "        for i in range(int(sqrt(c)), -1, -1):\n",
    "            a = pow(i,2)\n",
    "            if sqrt(c-a) == int(sqrt(c-a)):\n",
    "                return True\n",
    "        return False"
   ]
  },
  {
   "cell_type": "code",
   "execution_count": 202,
   "id": "788e3c72",
   "metadata": {},
   "outputs": [
    {
     "data": {
      "text/plain": [
       "False"
      ]
     },
     "execution_count": 202,
     "metadata": {},
     "output_type": "execute_result"
    }
   ],
   "source": [
    "s = Solution()\n",
    "s.judgeSquareSum(99999999)"
   ]
  },
  {
   "cell_type": "markdown",
   "id": "90a1dd35",
   "metadata": {},
   "source": [
    "费马平方和定理"
   ]
  },
  {
   "cell_type": "code",
   "execution_count": null,
   "id": "81e9ed32",
   "metadata": {},
   "outputs": [],
   "source": []
  },
  {
   "cell_type": "code",
   "execution_count": null,
   "id": "cbc246ad",
   "metadata": {},
   "outputs": [],
   "source": []
  },
  {
   "cell_type": "code",
   "execution_count": null,
   "id": "e64954bf",
   "metadata": {},
   "outputs": [],
   "source": []
  },
  {
   "cell_type": "code",
   "execution_count": null,
   "id": "2ed5c71c",
   "metadata": {},
   "outputs": [],
   "source": []
  },
  {
   "cell_type": "code",
   "execution_count": null,
   "id": "0bc193fa",
   "metadata": {},
   "outputs": [],
   "source": []
  },
  {
   "cell_type": "code",
   "execution_count": null,
   "id": "ca659324",
   "metadata": {},
   "outputs": [],
   "source": []
  },
  {
   "cell_type": "code",
   "execution_count": null,
   "id": "4aeafe9c",
   "metadata": {},
   "outputs": [],
   "source": []
  },
  {
   "cell_type": "code",
   "execution_count": null,
   "id": "65bc8a71",
   "metadata": {},
   "outputs": [],
   "source": []
  },
  {
   "cell_type": "code",
   "execution_count": null,
   "id": "86bdae1c",
   "metadata": {},
   "outputs": [],
   "source": []
  },
  {
   "cell_type": "code",
   "execution_count": null,
   "id": "f66bf43b",
   "metadata": {},
   "outputs": [],
   "source": []
  },
  {
   "cell_type": "code",
   "execution_count": null,
   "id": "27a954e1",
   "metadata": {},
   "outputs": [],
   "source": []
  },
  {
   "cell_type": "code",
   "execution_count": null,
   "id": "44445ea4",
   "metadata": {},
   "outputs": [],
   "source": []
  },
  {
   "cell_type": "code",
   "execution_count": null,
   "id": "c7c165cf",
   "metadata": {},
   "outputs": [],
   "source": []
  },
  {
   "cell_type": "code",
   "execution_count": null,
   "id": "dca410a7",
   "metadata": {},
   "outputs": [],
   "source": []
  },
  {
   "cell_type": "code",
   "execution_count": null,
   "id": "c070bdaa",
   "metadata": {},
   "outputs": [],
   "source": []
  }
 ],
 "metadata": {
  "celltoolbar": "原始单元格格式",
  "kernelspec": {
   "display_name": "Python 3 (ipykernel)",
   "language": "python",
   "name": "python3"
  },
  "language_info": {
   "codemirror_mode": {
    "name": "ipython",
    "version": 3
   },
   "file_extension": ".py",
   "mimetype": "text/x-python",
   "name": "python",
   "nbconvert_exporter": "python",
   "pygments_lexer": "ipython3",
   "version": "3.6.3"
  }
 },
 "nbformat": 4,
 "nbformat_minor": 5
}
