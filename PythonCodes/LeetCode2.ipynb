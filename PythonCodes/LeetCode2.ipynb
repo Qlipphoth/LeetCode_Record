{
 "cells": [
  {
   "cell_type": "markdown",
   "id": "8541dd6e",
   "metadata": {},
   "source": [
    "## 35. 搜索插入位置"
   ]
  },
  {
   "cell_type": "markdown",
   "id": "895ebe3e",
   "metadata": {},
   "source": [
    "规定了时间复杂度为 $logn$,看样子为二分查找"
   ]
  },
  {
   "cell_type": "code",
   "execution_count": 65,
   "id": "e8510997",
   "metadata": {},
   "outputs": [],
   "source": [
    "def searchInsert(nums, target):\n",
    "        \"\"\"\n",
    "        :type nums: List[int]\n",
    "        :type target: int\n",
    "        :rtype: int\n",
    "        \"\"\"\n",
    "        start = 0\n",
    "        end = len(nums) - 1\n",
    "        \n",
    "        while start <= end:\n",
    "            mid = (end + start)//2\n",
    "            if nums[mid] < target:\n",
    "                start = mid + 1\n",
    "            elif nums[mid] > target:\n",
    "                end = mid - 1\n",
    "            else: return mid\n",
    "            print(f'{mid},{start},{end}')\n",
    "        return start"
   ]
  },
  {
   "cell_type": "code",
   "execution_count": 66,
   "id": "1e164ed2",
   "metadata": {},
   "outputs": [
    {
     "name": "stdout",
     "output_type": "stream",
     "text": [
      "1,2,3\n",
      "2,3,3\n"
     ]
    },
    {
     "data": {
      "text/plain": [
       "3"
      ]
     },
     "execution_count": 66,
     "metadata": {},
     "output_type": "execute_result"
    }
   ],
   "source": [
    "nums = [1, 3, 5, 6]\n",
    "target = 6\n",
    "searchInsert(nums, target)"
   ]
  },
  {
   "cell_type": "markdown",
   "id": "3603ece9",
   "metadata": {},
   "source": [
    "更精练版："
   ]
  },
  {
   "cell_type": "code",
   "execution_count": 106,
   "id": "069aadb6",
   "metadata": {},
   "outputs": [],
   "source": [
    "def searchInsert(nums, target):\n",
    "        \"\"\"\n",
    "        :type nums: List[int]\n",
    "        :type target: int\n",
    "        :rtype: int\n",
    "        \"\"\"\n",
    "        start = 0\n",
    "        end = len(nums) - 1\n",
    "        \n",
    "        while start <= end:\n",
    "            mid = (end + start)//2\n",
    "            if nums[mid] < target:\n",
    "                start = mid + 1\n",
    "            else:\n",
    "                end = mid - 1\n",
    "        return start"
   ]
  },
  {
   "cell_type": "markdown",
   "id": "be7dcd32",
   "metadata": {},
   "source": [
    "大于等于的情况右指针均移动，此时若左指针就是target则返回，若大于target则就应该插入左指针位置"
   ]
  },
  {
   "cell_type": "markdown",
   "id": "e264e35b",
   "metadata": {},
   "source": [
    "另一个角度：若小于等于移动左指针那最终是不是返回右指针呢？否，**理由未知**"
   ]
  },
  {
   "cell_type": "code",
   "execution_count": 107,
   "id": "f1ac154d",
   "metadata": {},
   "outputs": [
    {
     "data": {
      "text/plain": [
       "3"
      ]
     },
     "execution_count": 107,
     "metadata": {},
     "output_type": "execute_result"
    }
   ],
   "source": [
    "nums = [1, 3, 5, 6]\n",
    "target = 6\n",
    "searchInsert(nums, target)"
   ]
  },
  {
   "cell_type": "markdown",
   "id": "27e4e9b1-0038-4b0a-b059-9a77fe48d309",
   "metadata": {},
   "source": [
    "### 二周目"
   ]
  },
  {
   "cell_type": "markdown",
   "id": "edc4ef53-7052-4307-9c11-b9ada9610f25",
   "metadata": {},
   "source": [
    "二分查找"
   ]
  },
  {
   "cell_type": "code",
   "execution_count": 4,
   "id": "1a712c51-213e-451d-8597-0b9b79aaab80",
   "metadata": {},
   "outputs": [],
   "source": [
    "from typing import List\n",
    "class Solution:\n",
    "    def searchInsert(self, nums: List[int], target: int) -> int:\n",
    "        left, right = 0, len(nums) - 1\n",
    "        while left <= right:\n",
    "            mid = (left + right) // 2\n",
    "            if nums[mid] == target: return mid\n",
    "            if nums[mid] < target: left = mid + 1\n",
    "            else: right = mid - 1\n",
    "        return left"
   ]
  },
  {
   "cell_type": "code",
   "execution_count": null,
   "id": "3d32061f-91ef-4e75-8871-572571060ca9",
   "metadata": {},
   "outputs": [],
   "source": []
  },
  {
   "cell_type": "code",
   "execution_count": null,
   "id": "e2daecb1-5d5e-47d8-aade-463f22a015f7",
   "metadata": {},
   "outputs": [],
   "source": []
  },
  {
   "cell_type": "markdown",
   "id": "8b944dff",
   "metadata": {},
   "source": [
    "## 53. 最大子数组和"
   ]
  },
  {
   "cell_type": "markdown",
   "id": "b3123eae",
   "metadata": {},
   "source": [
    "感觉若要实现复杂度为$o(n)$的解法，那么思想和$KMP$算法会有些类似，向前遍历的同时保存一些信息以决定是否修改子数组的起始位置,这样遍历一遍数组即可得到最大子数组，复杂度满足条件"
   ]
  },
  {
   "cell_type": "markdown",
   "id": "b3dd3049",
   "metadata": {},
   "source": [
    "继续分析，此题只需返回最大子数组的和而不需返回位置，那么设置一个变量存放遍历中的和即可，若大于则改写小于等于则不变，似乎要简单一些"
   ]
  },
  {
   "cell_type": "code",
   "execution_count": null,
   "id": "6f125dc3",
   "metadata": {},
   "outputs": [],
   "source": [
    "def maxSubArray(self, nums):\n",
    "        \"\"\"\n",
    "        :type nums: List[int]\n",
    "        :rtype: int\n",
    "        \"\"\"    "
   ]
  },
  {
   "cell_type": "markdown",
   "id": "d45ac8d2",
   "metadata": {},
   "source": [
    "两个问题：1. 子数组的'头'怎么确定在哪 2.确定了头之后在哪停止，即'尾'在哪"
   ]
  },
  {
   "cell_type": "code",
   "execution_count": 115,
   "id": "181c0f1f",
   "metadata": {},
   "outputs": [],
   "source": [
    "# 先讨论头固定的情况\n",
    "\n",
    "# [1, 2, 5, -1, -3, 9, -5]\n",
    "\n",
    "def maxSubArray(nums):  # fix head\n",
    "        \"\"\"\n",
    "        :type nums: List[int]\n",
    "        :rtype: int\n",
    "        \"\"\"\n",
    "        nsum = 0\n",
    "        ans = 0\n",
    "        \n",
    "        for i in range(len(nums)):\n",
    "            nsum += nums[i]\n",
    "            print(f'{nsum},{ans}')\n",
    "            if nsum > ans:\n",
    "                ans = nsum\n",
    "            else: continue\n",
    "            \n",
    "        return ans"
   ]
  },
  {
   "cell_type": "code",
   "execution_count": 116,
   "id": "80e20e0b",
   "metadata": {},
   "outputs": [
    {
     "name": "stdout",
     "output_type": "stream",
     "text": [
      "1,0\n",
      "3,1\n",
      "8,3\n",
      "7,8\n",
      "4,8\n",
      "13,8\n",
      "8,13\n"
     ]
    },
    {
     "data": {
      "text/plain": [
       "13"
      ]
     },
     "execution_count": 116,
     "metadata": {},
     "output_type": "execute_result"
    }
   ],
   "source": [
    "nums = [1,2,5,-1,-3,9,-5]\n",
    "maxSubArray(nums)"
   ]
  },
  {
   "cell_type": "code",
   "execution_count": 119,
   "id": "a45dda5c",
   "metadata": {},
   "outputs": [],
   "source": [
    "# 再讨论尾固定的情况\n",
    "\n",
    "# [-1, -2, 5, -6, 7, 1, 0, -2, 9]\n",
    "\n",
    "def maxSubArray(nums):  # fix head\n",
    "        \"\"\"\n",
    "        :type nums: List[int]\n",
    "        :rtype: int\n",
    "        \"\"\"\n",
    "        nsum = 0\n",
    "        ans = 0\n",
    "        \n",
    "        for i in range(len(nums)):\n",
    "            nsum += nums[i]\n",
    "            if nsum <= 0:\n",
    "                nsum = 0\n",
    "            else: continue\n",
    "            \n",
    "        return nsum"
   ]
  },
  {
   "cell_type": "code",
   "execution_count": 121,
   "id": "64ef921a",
   "metadata": {},
   "outputs": [
    {
     "data": {
      "text/plain": [
       "25"
      ]
     },
     "execution_count": 121,
     "metadata": {},
     "output_type": "execute_result"
    }
   ],
   "source": [
    "nums = [-1, -2, 5, -6, 7, 1, 0, -2, 9, 10]\n",
    "maxSubArray(nums)"
   ]
  },
  {
   "cell_type": "code",
   "execution_count": 155,
   "id": "eb833453",
   "metadata": {},
   "outputs": [],
   "source": [
    "# 综合情况\n",
    "\n",
    "# [-2,1,-3,4,-1,2,1,-5,4]\n",
    "\n",
    "def maxSubArray(nums):  \n",
    "        \"\"\"\n",
    "        :type nums: List[int]\n",
    "        :rtype: int\n",
    "        \"\"\"\n",
    "        nsum = 0\n",
    "        ans = 0\n",
    "        \n",
    "        for i in range(len(nums)):\n",
    "            nsum += nums[i]\n",
    "            if nsum <= 0:\n",
    "                nsum = 0\n",
    "            elif nsum > ans:\n",
    "                ans = nsum\n",
    "#             else: continue\n",
    "        return ans"
   ]
  },
  {
   "cell_type": "code",
   "execution_count": 156,
   "id": "5de1759b",
   "metadata": {},
   "outputs": [
    {
     "data": {
      "text/plain": [
       "23"
      ]
     },
     "execution_count": 156,
     "metadata": {},
     "output_type": "execute_result"
    }
   ],
   "source": [
    "nums = [5,4,-1,7,8]\n",
    "maxSubArray(nums)"
   ]
  },
  {
   "cell_type": "markdown",
   "id": "d3399e53",
   "metadata": {},
   "source": [
    "一个问题：全为负数怎么办？\n",
    "\n",
    "猜测完善的方式为在判断条件以及初始条件上做修改，以兼容全为负数的情况"
   ]
  },
  {
   "cell_type": "markdown",
   "id": "0300a672",
   "metadata": {},
   "source": [
    "一个想法：极限情况如\\[-1,-1,-1,9,-1,-1\\]，那最终答案是包含一个元素的子数组，因此边界条件应设为与最大的那个元素相比较，若遍历完发现比和比最大的那个元素小则返回这个元素，以此为边界条件刚好可以解决全为负数的情况"
   ]
  },
  {
   "cell_type": "code",
   "execution_count": 149,
   "id": "27f5a9e2",
   "metadata": {},
   "outputs": [],
   "source": [
    "# 全为负数\n",
    "\n",
    "# [-2, -3, -5, -1, -9]\n",
    "\n",
    "def maxSubArray(nums):  # fix head\n",
    "        \"\"\"\n",
    "        :type nums: List[int]\n",
    "        :rtype: int\n",
    "        \"\"\"\n",
    "        nsum = 0\n",
    "        ans = 0\n",
    "        \n",
    "        if max(nums) < 0:\n",
    "            return max(nums)\n",
    "        \n",
    "        for i in nums:\n",
    "            nsum += i\n",
    "            if nsum <= 0:\n",
    "                nsum = 0\n",
    "            elif nsum > ans:\n",
    "                ans = nsum\n",
    "        return ans"
   ]
  },
  {
   "cell_type": "code",
   "execution_count": 150,
   "id": "544f1dcd",
   "metadata": {},
   "outputs": [
    {
     "data": {
      "text/plain": [
       "-0.5"
      ]
     },
     "execution_count": 150,
     "metadata": {},
     "output_type": "execute_result"
    }
   ],
   "source": [
    "nums = [-1,-0.5]\n",
    "maxSubArray(nums)"
   ]
  },
  {
   "cell_type": "code",
   "execution_count": 184,
   "id": "d0266a23",
   "metadata": {},
   "outputs": [],
   "source": [
    "def maxSubArray(nums):  \n",
    "        \"\"\"\n",
    "        :type nums: List[int]\n",
    "        :rtype: int\n",
    "        \"\"\"\n",
    "        nsum = 0\n",
    "        ans = 0\n",
    "        \n",
    "        if max(nums) < 0:\n",
    "            return max(nums)\n",
    "        \n",
    "        for i in nums:\n",
    "            nsum += i\n",
    "            if nsum <= 0:\n",
    "                nsum = 0\n",
    "            elif nsum > ans:\n",
    "                ans = nsum\n",
    "        return ans"
   ]
  },
  {
   "cell_type": "code",
   "execution_count": 185,
   "id": "c6a93912",
   "metadata": {},
   "outputs": [
    {
     "data": {
      "text/plain": [
       "-1"
      ]
     },
     "execution_count": 185,
     "metadata": {},
     "output_type": "execute_result"
    }
   ],
   "source": [
    "nums = [-1,-2]\n",
    "maxSubArray(nums)"
   ]
  },
  {
   "cell_type": "markdown",
   "id": "9159c141",
   "metadata": {},
   "source": [
    "**缺少知识：动态规划，分治**"
   ]
  },
  {
   "cell_type": "markdown",
   "id": "d288e53f-815d-4b80-b8dc-fcc04fca2471",
   "metadata": {},
   "source": [
    "### 二周目"
   ]
  },
  {
   "cell_type": "code",
   "execution_count": 5,
   "id": "837c79da-5ad7-4f22-8237-daf9173ad2b7",
   "metadata": {},
   "outputs": [],
   "source": [
    "class Solution:\n",
    "    def maxSubArray(self, nums: List[int]) -> int:\n",
    "        premax = nums[0]\n",
    "        ans = nums[0]\n",
    "        for n in nums[1:]:\n",
    "            # 要么 n 成为单独一段要么和之前的数字一起成为子序列\n",
    "            premax = max(n, premax + n)\n",
    "            ans = max(ans, premax)\n",
    "        return ans"
   ]
  },
  {
   "cell_type": "code",
   "execution_count": null,
   "id": "e3eac0ec-959f-4b7e-879f-a0e8668a1857",
   "metadata": {},
   "outputs": [],
   "source": []
  },
  {
   "cell_type": "code",
   "execution_count": null,
   "id": "b43a035a-071d-4b0b-9dc2-24bafebeba6c",
   "metadata": {},
   "outputs": [],
   "source": []
  },
  {
   "cell_type": "code",
   "execution_count": null,
   "id": "225b2244-b610-4a0f-bd40-1bf19c7eca75",
   "metadata": {},
   "outputs": [],
   "source": []
  },
  {
   "cell_type": "markdown",
   "id": "818add2b",
   "metadata": {},
   "source": [
    "## 58. 最后一个单词的长度"
   ]
  },
  {
   "cell_type": "markdown",
   "id": "9eacc097",
   "metadata": {},
   "source": [
    "貌似很简单"
   ]
  },
  {
   "cell_type": "code",
   "execution_count": 203,
   "id": "569a1f25",
   "metadata": {},
   "outputs": [],
   "source": [
    "def lengthOfLastWord(s):\n",
    "        \"\"\"\n",
    "        :type s: str\n",
    "        :rtype: int\n",
    "        \"\"\"\n",
    "        ans = 0\n",
    "        \n",
    "        for i in range(len(s)-1,-1,-1):\n",
    "            if ans == 0 and s[i] == \" \":\n",
    "                continue\n",
    "            if ans != 0 and s[i] == \" \":\n",
    "                return ans\n",
    "            else: ans += 1\n",
    "        \n",
    "        return ans"
   ]
  },
  {
   "cell_type": "markdown",
   "id": "fea1738c",
   "metadata": {},
   "source": [
    "是不是忘了还有strip这个方法！"
   ]
  },
  {
   "cell_type": "code",
   "execution_count": 231,
   "id": "ae3c6cfb",
   "metadata": {},
   "outputs": [
    {
     "data": {
      "text/plain": [
       "'aaaa'"
      ]
     },
     "execution_count": 231,
     "metadata": {},
     "output_type": "execute_result"
    }
   ],
   "source": [
    "a = 'aaaa  '\n",
    "a.strip(' ')"
   ]
  },
  {
   "cell_type": "code",
   "execution_count": 228,
   "id": "4b7471e5",
   "metadata": {},
   "outputs": [],
   "source": [
    "# 更简单做法\n",
    "\n",
    "def lengthOfLastWord(s):\n",
    "        \"\"\"\n",
    "        :type s: str\n",
    "        :rtype: int\n",
    "        \"\"\"\n",
    "        s = s.strip(\" \")\n",
    "        \n",
    "        return len(s) if \" \" not in s else len(s.split(\" \")[-1])"
   ]
  },
  {
   "cell_type": "code",
   "execution_count": 229,
   "id": "cca976c3",
   "metadata": {},
   "outputs": [
    {
     "data": {
      "text/plain": [
       "4"
      ]
     },
     "execution_count": 229,
     "metadata": {},
     "output_type": "execute_result"
    }
   ],
   "source": [
    "s = \"   fly me   to   the moon  \"\n",
    "lengthOfLastWord(s)"
   ]
  },
  {
   "cell_type": "code",
   "execution_count": 234,
   "id": "00709226",
   "metadata": {},
   "outputs": [],
   "source": [
    "# 一行做法\n",
    "\n",
    "def lengthOfLastWord(s):\n",
    "       \n",
    "        return len(s.strip(\" \").split(\" \")[-1])"
   ]
  },
  {
   "cell_type": "code",
   "execution_count": 236,
   "id": "75ec95f4",
   "metadata": {},
   "outputs": [
    {
     "data": {
      "text/plain": [
       "4"
      ]
     },
     "execution_count": 236,
     "metadata": {},
     "output_type": "execute_result"
    }
   ],
   "source": [
    "s = \"    moon  \"\n",
    "lengthOfLastWord(s)"
   ]
  },
  {
   "cell_type": "code",
   "execution_count": 196,
   "id": "cf05e906",
   "metadata": {},
   "outputs": [
    {
     "name": "stdout",
     "output_type": "stream",
     "text": [
      "c\n",
      "b\n",
      "a\n"
     ]
    }
   ],
   "source": [
    "s = 'abc'\n",
    "for i in s[::-1]:\n",
    "    print(i)"
   ]
  },
  {
   "cell_type": "code",
   "execution_count": 202,
   "id": "1c80d063",
   "metadata": {},
   "outputs": [
    {
     "name": "stdout",
     "output_type": "stream",
     "text": [
      "4\n",
      "3\n",
      "2\n",
      "1\n",
      "0\n"
     ]
    }
   ],
   "source": [
    "for i in range(4,-1,-1):\n",
    "    print(i)"
   ]
  },
  {
   "cell_type": "markdown",
   "id": "29d87544",
   "metadata": {},
   "source": [
    "## 66. 加一"
   ]
  },
  {
   "cell_type": "code",
   "execution_count": 214,
   "id": "e7124c96",
   "metadata": {},
   "outputs": [
    {
     "data": {
      "text/plain": [
       "'23'"
      ]
     },
     "execution_count": 214,
     "metadata": {},
     "output_type": "execute_result"
    }
   ],
   "source": [
    "'2'+'3'"
   ]
  },
  {
   "cell_type": "code",
   "execution_count": 215,
   "id": "8eb28c58",
   "metadata": {},
   "outputs": [
    {
     "data": {
      "text/plain": [
       "23"
      ]
     },
     "execution_count": 215,
     "metadata": {},
     "output_type": "execute_result"
    }
   ],
   "source": [
    "int('23')"
   ]
  },
  {
   "cell_type": "markdown",
   "id": "426f5061",
   "metadata": {},
   "source": [
    "用上面两条python特性做"
   ]
  },
  {
   "cell_type": "code",
   "execution_count": 264,
   "id": "2a2922a6",
   "metadata": {},
   "outputs": [],
   "source": [
    "def plusOne(digits):\n",
    "        \"\"\"\n",
    "        :type digits: List[int]\n",
    "        :rtype: List[int]\n",
    "        \"\"\"\n",
    "        str1 = ''\n",
    "        for i in digits:\n",
    "            str1 += str(i)\n",
    "        \n",
    "        num1 = str(int(str1) + 1)\n",
    "        \n",
    "        digits = [int(i) for i in num1]\n",
    "        \n",
    "        return digits"
   ]
  },
  {
   "cell_type": "code",
   "execution_count": 265,
   "id": "77b9d6d2",
   "metadata": {},
   "outputs": [
    {
     "data": {
      "text/plain": [
       "[1, 2, 4, 0]"
      ]
     },
     "execution_count": 265,
     "metadata": {},
     "output_type": "execute_result"
    }
   ],
   "source": [
    "digits = [1, 2, 3, 9]\n",
    "plusOne(digits)"
   ]
  },
  {
   "cell_type": "markdown",
   "id": "f4a5be9e",
   "metadata": {},
   "source": [
    "### python知识:map"
   ]
  },
  {
   "cell_type": "markdown",
   "id": "2e79681d",
   "metadata": {},
   "source": [
    "map() 会根据提供的函数对指定序列做映射。\n",
    "\n",
    "第一个参数 function 以参数序列中的每一个元素调用 function 函数，返回包含每次 function 函数返回值的新列表。"
   ]
  },
  {
   "cell_type": "code",
   "execution_count": 242,
   "id": "ba3fd484",
   "metadata": {},
   "outputs": [
    {
     "data": {
      "text/plain": [
       "[2, 3, 4, 5]"
      ]
     },
     "execution_count": 242,
     "metadata": {},
     "output_type": "execute_result"
    }
   ],
   "source": [
    "# 例子\n",
    "\n",
    "def plusone(x):\n",
    "    return x + 1\n",
    "\n",
    "list(map(plusone, [1, 2, 3, 4]))  # 注意map()返回一个iterator对象，需处理后才能使用"
   ]
  },
  {
   "cell_type": "code",
   "execution_count": 245,
   "id": "07518ac8",
   "metadata": {},
   "outputs": [
    {
     "data": {
      "text/plain": [
       "[1, 2, 3, 4, 5, 6]"
      ]
     },
     "execution_count": 245,
     "metadata": {},
     "output_type": "execute_result"
    }
   ],
   "source": [
    "list(map(plusone, [x for x in range(6)]))"
   ]
  },
  {
   "cell_type": "code",
   "execution_count": 246,
   "id": "2a8801cd",
   "metadata": {},
   "outputs": [
    {
     "data": {
      "text/plain": [
       "[1, 2, 3, 4, 5, 6]"
      ]
     },
     "execution_count": 246,
     "metadata": {},
     "output_type": "execute_result"
    }
   ],
   "source": [
    "list(map(lambda x: x+1, [x for x in range(6)]))"
   ]
  },
  {
   "cell_type": "markdown",
   "id": "b05119ed",
   "metadata": {},
   "source": [
    "66的一行做法"
   ]
  },
  {
   "cell_type": "code",
   "execution_count": 248,
   "id": "dfcc4423",
   "metadata": {},
   "outputs": [],
   "source": [
    "def plusOne(digits):\n",
    "        return list(map(int, list(str(int(''.join(map(str, digits))) + 1))))"
   ]
  },
  {
   "cell_type": "code",
   "execution_count": 249,
   "id": "9e84c34a",
   "metadata": {},
   "outputs": [
    {
     "data": {
      "text/plain": [
       "[1, 3, 0]"
      ]
     },
     "execution_count": 249,
     "metadata": {},
     "output_type": "execute_result"
    }
   ],
   "source": [
    "plusOne([1,2,9])"
   ]
  },
  {
   "cell_type": "markdown",
   "id": "2c57e62f",
   "metadata": {},
   "source": [
    "两个语法要注意："
   ]
  },
  {
   "cell_type": "code",
   "execution_count": 258,
   "id": "818bc433",
   "metadata": {},
   "outputs": [
    {
     "data": {
      "text/plain": [
       "['a', 'b', 'c']"
      ]
     },
     "execution_count": 258,
     "metadata": {},
     "output_type": "execute_result"
    }
   ],
   "source": [
    "l1 = list('abc')\n",
    "l1"
   ]
  },
  {
   "cell_type": "code",
   "execution_count": 272,
   "id": "1abf3c07",
   "metadata": {},
   "outputs": [
    {
     "data": {
      "text/plain": [
       "'abc'"
      ]
     },
     "execution_count": 272,
     "metadata": {},
     "output_type": "execute_result"
    }
   ],
   "source": [
    "s1 = ''.join(l1)  # join()为字符串的方法\n",
    "s1"
   ]
  },
  {
   "cell_type": "code",
   "execution_count": 273,
   "id": "f6191c82",
   "metadata": {},
   "outputs": [
    {
     "data": {
      "text/plain": [
       "'123'"
      ]
     },
     "execution_count": 273,
     "metadata": {},
     "output_type": "execute_result"
    }
   ],
   "source": [
    "''.join((map(str, [1,2,3])))  # map对象为什么能使用join()方法？"
   ]
  },
  {
   "cell_type": "code",
   "execution_count": 274,
   "id": "7fed7e75",
   "metadata": {},
   "outputs": [
    {
     "data": {
      "text/plain": [
       "[1, 2, 3]"
      ]
     },
     "execution_count": 274,
     "metadata": {},
     "output_type": "execute_result"
    }
   ],
   "source": [
    "list(map(int, ['1', '2', '3']))"
   ]
  },
  {
   "cell_type": "markdown",
   "id": "5d2a0843",
   "metadata": {},
   "source": [
    "## 67. 二进制求和"
   ]
  },
  {
   "cell_type": "markdown",
   "id": "84ae6a9b",
   "metadata": {},
   "source": [
    "### python知识：format"
   ]
  },
  {
   "cell_type": "markdown",
   "id": "4eaf6079",
   "metadata": {},
   "source": [
    "{<参数序号>}：<格式控制标记>}"
   ]
  },
  {
   "cell_type": "code",
   "execution_count": 312,
   "id": "5ad3bfc2",
   "metadata": {},
   "outputs": [
    {
     "data": {
      "text/plain": [
       "'3.14,2.7'"
      ]
     },
     "execution_count": 312,
     "metadata": {},
     "output_type": "execute_result"
    }
   ],
   "source": [
    "'{0:.2f},{1:.1f}'.format(3.1415, 2.7182)"
   ]
  },
  {
   "cell_type": "code",
   "execution_count": 313,
   "id": "0105970d",
   "metadata": {},
   "outputs": [
    {
     "data": {
      "text/plain": [
       "'2.72,3.1'"
      ]
     },
     "execution_count": 313,
     "metadata": {},
     "output_type": "execute_result"
    }
   ],
   "source": [
    "'{1:.2f},{0:.1f}'.format(3.1415, 2.7182)"
   ]
  },
  {
   "cell_type": "code",
   "execution_count": 315,
   "id": "0aaa8e1b",
   "metadata": {},
   "outputs": [
    {
     "data": {
      "text/plain": [
       "'1010'"
      ]
     },
     "execution_count": 315,
     "metadata": {},
     "output_type": "execute_result"
    }
   ],
   "source": [
    "'{:b}'.format(10) # 比bin方法要好一些"
   ]
  },
  {
   "cell_type": "markdown",
   "id": "a21402e7",
   "metadata": {},
   "source": [
    "### python知识：int(x, base)"
   ]
  },
  {
   "cell_type": "code",
   "execution_count": 318,
   "id": "ad5feddd",
   "metadata": {},
   "outputs": [
    {
     "data": {
      "text/plain": [
       "5"
      ]
     },
     "execution_count": 318,
     "metadata": {},
     "output_type": "execute_result"
    }
   ],
   "source": [
    "int('101',2)  # base可指定读取的进制，只适用于字符串情况"
   ]
  },
  {
   "cell_type": "code",
   "execution_count": null,
   "id": "22dc989d",
   "metadata": {},
   "outputs": [],
   "source": [
    "# 67题方法1\n",
    "\n",
    "class Solution:\n",
    "    def addBinary(self, a, b) -> str:\n",
    "        return '{0:b}'.format(int(a, 2) + int(b, 2))"
   ]
  },
  {
   "cell_type": "code",
   "execution_count": 341,
   "id": "0e257628",
   "metadata": {},
   "outputs": [],
   "source": [
    "## 67题方法二\n",
    "\n",
    "def addBinary(a, b):\n",
    "    \n",
    "    alen = len(a)\n",
    "    blen = len(b)\n",
    "    \n",
    "    a = a[::-1]\n",
    "    b = b[::-1]\n",
    "    c = []\n",
    "    \n",
    "    if alen < blen:\n",
    "        for i in range(blen-alen):\n",
    "            a += '0'\n",
    "    else:\n",
    "        for i in range(alen-blen):\n",
    "            b += '0'\n",
    "            \n",
    "    carry = 0\n",
    "    for i in range(len(a)):\n",
    "        c.append(str((int(a[i]) + int(b[i]) + carry)%2))    # 取模很关键\n",
    "        carry = (int(a[i]) + int(b[i]) + carry )//2\n",
    "    \n",
    "    if carry == 1:\n",
    "        c.append('1')\n",
    "        \n",
    "    c = ''.join(c)[::-1]\n",
    "    \n",
    "    return c"
   ]
  },
  {
   "cell_type": "code",
   "execution_count": 342,
   "id": "faf42ef8",
   "metadata": {},
   "outputs": [
    {
     "data": {
      "text/plain": [
       "'10111'"
      ]
     },
     "execution_count": 342,
     "metadata": {},
     "output_type": "execute_result"
    }
   ],
   "source": [
    "a = '1001'\n",
    "b = '1110'\n",
    "\n",
    "addBinary(a, b)"
   ]
  },
  {
   "cell_type": "code",
   "execution_count": 343,
   "id": "aae3e2c7",
   "metadata": {},
   "outputs": [
    {
     "data": {
      "text/plain": [
       "'1110'"
      ]
     },
     "execution_count": 343,
     "metadata": {},
     "output_type": "execute_result"
    }
   ],
   "source": [
    "a = '111'\n",
    "a += '0'\n",
    "a"
   ]
  },
  {
   "cell_type": "code",
   "execution_count": 344,
   "id": "fa293de6",
   "metadata": {},
   "outputs": [
    {
     "data": {
      "text/plain": [
       "0"
      ]
     },
     "execution_count": 344,
     "metadata": {},
     "output_type": "execute_result"
    }
   ],
   "source": [
    "1//2"
   ]
  },
  {
   "cell_type": "code",
   "execution_count": 345,
   "id": "8a96b94f",
   "metadata": {},
   "outputs": [
    {
     "data": {
      "text/plain": [
       "4"
      ]
     },
     "execution_count": 345,
     "metadata": {},
     "output_type": "execute_result"
    }
   ],
   "source": [
    "c = 1\n",
    "c = 1+2+c\n",
    "c"
   ]
  },
  {
   "cell_type": "markdown",
   "id": "d4d567f9",
   "metadata": {},
   "source": [
    "## 69. x的平方根"
   ]
  },
  {
   "cell_type": "code",
   "execution_count": 366,
   "id": "f01453d0",
   "metadata": {},
   "outputs": [],
   "source": [
    "def mySqrt(x):\n",
    "        \"\"\"\n",
    "        :type x: int\n",
    "        :rtype: int\n",
    "        \"\"\"\n",
    "        for i in range(1,x+1):\n",
    "            if i**2 > x:  return i-1\n",
    "        \n",
    "        return x\n",
    "    \n",
    "    # 力扣内存爆了"
   ]
  },
  {
   "cell_type": "code",
   "execution_count": 367,
   "id": "1636f9fb",
   "metadata": {},
   "outputs": [
    {
     "name": "stdout",
     "output_type": "stream",
     "text": [
      "46339,0.008000612258911133\n"
     ]
    }
   ],
   "source": [
    "import time\n",
    "\n",
    "time1 = time.time()\n",
    "ans = mySqrt(2147395599)\n",
    "time2 = time.time()\n",
    "print(f'{ans},{time2-time1}')"
   ]
  },
  {
   "cell_type": "code",
   "execution_count": 390,
   "id": "9bfed224",
   "metadata": {},
   "outputs": [],
   "source": [
    "def mySqrt(x):\n",
    "        \"\"\"\n",
    "        :type x: int\n",
    "        :rtype: int\n",
    "        \"\"\"\n",
    "        i = 0\n",
    "        \n",
    "        while i**2 <= x:\n",
    "            i += 1\n",
    "        \n",
    "        return i-1"
   ]
  },
  {
   "cell_type": "code",
   "execution_count": 391,
   "id": "5188a84a",
   "metadata": {},
   "outputs": [
    {
     "name": "stdout",
     "output_type": "stream",
     "text": [
      "46339,0.006989240646362305\n"
     ]
    }
   ],
   "source": [
    "import time\n",
    "\n",
    "time1 = time.time()\n",
    "ans = mySqrt(2147395599)\n",
    "time2 = time.time()\n",
    "print(f'{ans},{time2-time1}')"
   ]
  },
  {
   "cell_type": "code",
   "execution_count": 403,
   "id": "25ab6d4c",
   "metadata": {},
   "outputs": [],
   "source": [
    "# 试一下用二分减小复杂度\n",
    "\n",
    "def mySqrt(x):\n",
    "        \"\"\"\n",
    "        :type x: int\n",
    "        :rtype: int\n",
    "        \"\"\"\n",
    "        i = 0\n",
    "        left = 0\n",
    "        right = x\n",
    "        \n",
    "        while left <= right:\n",
    "            mid = (right + left)//2\n",
    "            if mid**2 > x:\n",
    "                right = mid - 1\n",
    "            else: left = mid + 1\n",
    "        \n",
    "        return right"
   ]
  },
  {
   "cell_type": "code",
   "execution_count": 405,
   "id": "fc44ad8f",
   "metadata": {},
   "outputs": [
    {
     "name": "stdout",
     "output_type": "stream",
     "text": [
      "2,0.0\n"
     ]
    }
   ],
   "source": [
    "import time\n",
    "\n",
    "time1 = time.time()\n",
    "ans = mySqrt(8)\n",
    "time2 = time.time()\n",
    "print(f'{ans},{time2-time1}')"
   ]
  },
  {
   "cell_type": "markdown",
   "id": "27080312",
   "metadata": {},
   "source": [
    "### 算法知识：牛顿迭代法"
   ]
  },
  {
   "cell_type": "markdown",
   "id": "13c5ddd6",
   "metadata": {},
   "source": [
    "牛顿迭代法是一种可以用来快速求解函数零点的方法。\n",
    "\n",
    "为了叙述方便，我们用$C$表示待求出平方根的那个整数。显然，$C$的平方根就是函数:\n",
    "\n",
    "$$y = f(x) =x^2 - C$$\n",
    "\n",
    "的零点。\n",
    "\n",
    "牛顿迭代法的本质是借助泰勒级数，从初始值开始快速向零点逼近。我们任取一个$x_0$作为初始值，在每一步的迭代中，我们找到函数图像上的点$(x_i,f(x_i))$,过该点作一条斜率为该点导数\n",
    "$f'(x_i)$的直线，与横轴的交点记为$x_{i+1}$。$x_{i+1}$相较于$x_i$而言距离零点更近。在经过多次迭代后，我们就可以得到一个距离零点非常接近的交点。"
   ]
  },
  {
   "cell_type": "markdown",
   "id": "52e242fc",
   "metadata": {},
   "source": [
    "此处迭代表达式：\n",
    "$$x_{i+1} = \\frac{1}{2}(x_i+\\frac{C}{x_i})$$"
   ]
  },
  {
   "cell_type": "code",
   "execution_count": 407,
   "id": "deaf5968",
   "metadata": {},
   "outputs": [],
   "source": [
    "def mySqrt(x: int) -> int:\n",
    "        if x == 0:\n",
    "            return 0\n",
    "        \n",
    "        C, x0 = float(x), float(x)\n",
    "        while True:\n",
    "            xi = 0.5 * (x0 + C / x0)\n",
    "            if abs(x0 - xi) < 1e-7:\n",
    "                break\n",
    "            x0 = xi\n",
    "        \n",
    "        return int(x0)"
   ]
  },
  {
   "cell_type": "code",
   "execution_count": 408,
   "id": "f7d60144",
   "metadata": {},
   "outputs": [
    {
     "name": "stdout",
     "output_type": "stream",
     "text": [
      "2,0.0\n"
     ]
    }
   ],
   "source": [
    "import time\n",
    "\n",
    "time1 = time.time()\n",
    "ans = mySqrt(8)\n",
    "time2 = time.time()\n",
    "print(f'{ans},{time2-time1}')"
   ]
  },
  {
   "cell_type": "markdown",
   "id": "e728290b",
   "metadata": {},
   "source": [
    "## 70. 爬楼梯"
   ]
  },
  {
   "cell_type": "markdown",
   "id": "03b19a72",
   "metadata": {},
   "source": [
    "感觉应该是排列组合的题"
   ]
  },
  {
   "cell_type": "code",
   "execution_count": 9,
   "id": "0b74d12b",
   "metadata": {},
   "outputs": [],
   "source": [
    "def climbStairs(num):\n",
    "        \"\"\"\n",
    "        :type n: int\n",
    "        :rtype: int\n",
    "        \"\"\"\n",
    "        def factorial(input):\n",
    "            if input <= 0:\n",
    "                return 1\n",
    "            else: return input*factorial(input-1)\n",
    "        \n",
    "        count = 0\n",
    "        for n in range(1,num//2+1):\n",
    "            m = num - n\n",
    "            count += factorial(m)//(factorial(n)*factorial(m-n))\n",
    "            \n",
    "        return count+1"
   ]
  },
  {
   "cell_type": "code",
   "execution_count": 10,
   "id": "1df0f565",
   "metadata": {},
   "outputs": [
    {
     "data": {
      "text/plain": [
       "1836311903"
      ]
     },
     "execution_count": 10,
     "metadata": {},
     "output_type": "execute_result"
    }
   ],
   "source": [
    "climbStairs(45)"
   ]
  },
  {
   "cell_type": "code",
   "execution_count": 430,
   "id": "d5eb5d07",
   "metadata": {},
   "outputs": [],
   "source": [
    "def factorial(input):\n",
    "            if input <= 0:\n",
    "                return 1\n",
    "            else: return input*factorial(input-1)"
   ]
  },
  {
   "cell_type": "code",
   "execution_count": 431,
   "id": "035ef8c5",
   "metadata": {},
   "outputs": [
    {
     "data": {
      "text/plain": [
       "120"
      ]
     },
     "execution_count": 431,
     "metadata": {},
     "output_type": "execute_result"
    }
   ],
   "source": [
    "factorial(5)"
   ]
  },
  {
   "cell_type": "code",
   "execution_count": 419,
   "id": "55c9772a",
   "metadata": {},
   "outputs": [],
   "source": [
    "def combine(n, m):\n",
    "    return factorial(m)//(factorial(n)*factorial(m-n))"
   ]
  },
  {
   "cell_type": "code",
   "execution_count": 421,
   "id": "0ad3f048",
   "metadata": {},
   "outputs": [
    {
     "data": {
      "text/plain": [
       "15"
      ]
     },
     "execution_count": 421,
     "metadata": {},
     "output_type": "execute_result"
    }
   ],
   "source": [
    "combine(2,6)"
   ]
  },
  {
   "cell_type": "markdown",
   "id": "58782b4b",
   "metadata": {},
   "source": [
    "最后居然是一个斐波那契数列。。。\n",
    "缺少知识：**动态规划，滚动数组，矩阵快速幂**\n",
    "\n",
    "$$f(x) = f(x-1) + f(x-2)$$\n",
    "\n",
    "$$f(0) = f(1) = 1 , f(2) = 2$$"
   ]
  },
  {
   "cell_type": "code",
   "execution_count": 11,
   "id": "b5e6b6b1",
   "metadata": {},
   "outputs": [],
   "source": [
    "def climbStairs(num):\n",
    "        \"\"\"\n",
    "        :type n: int\n",
    "        :rtype: int\n",
    "        \"\"\"\n",
    "        p = 0\n",
    "        q = 0\n",
    "        r = 1\n",
    "        \n",
    "        for i in range(num):\n",
    "            p = q\n",
    "            q = r\n",
    "            r = p+q  # 此处即为滚动数组思想，利用三个变量储存迭代的所有值\n",
    "                     # 每次迭代相当于向前滚动了一位\n",
    "        return r"
   ]
  },
  {
   "cell_type": "code",
   "execution_count": 12,
   "id": "94028f00",
   "metadata": {},
   "outputs": [
    {
     "data": {
      "text/plain": [
       "1836311903"
      ]
     },
     "execution_count": 12,
     "metadata": {},
     "output_type": "execute_result"
    }
   ],
   "source": [
    "climbStairs(45)"
   ]
  },
  {
   "cell_type": "markdown",
   "id": "fd5269fc-cc7b-4b32-ac38-83f09b03fb50",
   "metadata": {},
   "source": [
    "### 二周目"
   ]
  },
  {
   "cell_type": "code",
   "execution_count": 1,
   "id": "b0129593-9e98-4740-91cb-2d4372a2b46f",
   "metadata": {},
   "outputs": [],
   "source": [
    "class Solution:\n",
    "    def climbStairs(self, n: int) -> int:\n",
    "        n1, n2, n3 = 0, 0, 1\n",
    "        for i in range(n):\n",
    "            n1, n2 = n2, n3\n",
    "            n3 = n1 + n2\n",
    "        return n3"
   ]
  },
  {
   "cell_type": "code",
   "execution_count": 3,
   "id": "feb25e1a-0e6d-476d-b8e6-917a9e4c8769",
   "metadata": {},
   "outputs": [
    {
     "data": {
      "text/plain": [
       "8"
      ]
     },
     "execution_count": 3,
     "metadata": {},
     "output_type": "execute_result"
    }
   ],
   "source": [
    "s = Solution()\n",
    "s.climbStairs(5)"
   ]
  },
  {
   "cell_type": "markdown",
   "id": "cce200d9",
   "metadata": {},
   "source": [
    "## 83. 删除排序链表中的重复元素"
   ]
  },
  {
   "cell_type": "markdown",
   "id": "d330fdf1",
   "metadata": {},
   "source": [
    "感觉还是快慢指针的问题"
   ]
  },
  {
   "cell_type": "code",
   "execution_count": 6,
   "id": "a7d7f18e",
   "metadata": {},
   "outputs": [],
   "source": [
    "# Definition for singly-linked list.\n",
    "class ListNode(object):\n",
    "    def __init__(self, val=0, next=None):\n",
    "        self.val = val\n",
    "        self.next = next"
   ]
  },
  {
   "cell_type": "code",
   "execution_count": 481,
   "id": "1f56afb6",
   "metadata": {},
   "outputs": [],
   "source": [
    "def deleteDuplicates(head):\n",
    "        \"\"\"\n",
    "        :type head: ListNode\n",
    "        :rtype: ListNode\n",
    "        \"\"\"\n",
    "        fast = slow = head\n",
    "        \n",
    "        if head == None:\n",
    "            return head\n",
    "        \n",
    "        while fast.next != None:\n",
    "            if fast.val == slow.val:\n",
    "                fast = fast.next\n",
    "                slow.next = fast\n",
    "#                 continue\n",
    "            else:\n",
    "                slow = slow.next\n",
    "                fast = fast.next\n",
    "#                 continue\n",
    "        if slow.val == fast.val:\n",
    "            slow.next = None\n",
    "        \n",
    "        return head"
   ]
  },
  {
   "cell_type": "code",
   "execution_count": 482,
   "id": "3389e698",
   "metadata": {},
   "outputs": [],
   "source": [
    "h5 = ListNode(4,None)\n",
    "h4 = ListNode(4,h5)\n",
    "h3 = ListNode(3,h4)\n",
    "h2 = ListNode(2,h3)\n",
    "h1 = ListNode(1,h2)\n",
    "h0 = ListNode(1,h1)\n",
    "head = ListNode(-1,h0)"
   ]
  },
  {
   "cell_type": "code",
   "execution_count": 483,
   "id": "e1b77e9b",
   "metadata": {},
   "outputs": [],
   "source": [
    "s = deleteDuplicates(head)"
   ]
  },
  {
   "cell_type": "code",
   "execution_count": 484,
   "id": "667348bd",
   "metadata": {},
   "outputs": [
    {
     "name": "stdout",
     "output_type": "stream",
     "text": [
      "-1\n",
      "1\n",
      "2\n",
      "3\n",
      "4\n"
     ]
    }
   ],
   "source": [
    "a = ListNode(0,s)\n",
    "while a.next != None:\n",
    "    a = a.next\n",
    "    print(a.val)"
   ]
  },
  {
   "cell_type": "markdown",
   "id": "901db598",
   "metadata": {},
   "source": [
    "由于只涉及前后二者的比较因此不需要两个指针，一个即可"
   ]
  },
  {
   "cell_type": "code",
   "execution_count": 491,
   "id": "771e0fa7",
   "metadata": {},
   "outputs": [],
   "source": [
    "def deleteDuplicates(head):\n",
    "        \"\"\"\n",
    "        :type head: ListNode\n",
    "        :rtype: ListNode\n",
    "        \"\"\"\n",
    "        fast = head\n",
    "        \n",
    "        if not head:\n",
    "            return head\n",
    "        \n",
    "        while fast.next:\n",
    "            if fast.val == fast.next.val:\n",
    "                fast.next = fast.next.next\n",
    "            else:\n",
    "                fast = fast.next\n",
    "#                 continue\n",
    "#         if slow.val == fast.val:\n",
    "#             slow.next = None  # 此处也不需要即可删除最后一个重复元素，\n",
    "                                # 因为最后一个的next原本就是None\n",
    "        return head"
   ]
  },
  {
   "cell_type": "markdown",
   "id": "a619dc41-1817-4bea-aa2a-4ff5ea892880",
   "metadata": {},
   "source": [
    "### 二周目"
   ]
  },
  {
   "cell_type": "code",
   "execution_count": 10,
   "id": "5402be7e-0df0-4553-a22c-9f1129056fe9",
   "metadata": {},
   "outputs": [],
   "source": [
    "from typing import Optional\n",
    "class Solution:\n",
    "    def deleteDuplicates(self, head: Optional[ListNode]) -> Optional[ListNode]:\n",
    "        if not head: return head\n",
    "        p = cur = head\n",
    "        while cur.next:\n",
    "            if cur.val != cur.next.val:\n",
    "                p.next = cur.next\n",
    "                p = p.next\n",
    "            cur = cur.next\n",
    "        p.next = None\n",
    "        return head"
   ]
  },
  {
   "cell_type": "markdown",
   "id": "505b303f",
   "metadata": {},
   "source": [
    "## 88. 合并两个有序数组"
   ]
  },
  {
   "cell_type": "markdown",
   "id": "1a311d93",
   "metadata": {},
   "source": [
    "先逃课试试"
   ]
  },
  {
   "cell_type": "code",
   "execution_count": 500,
   "id": "e221984e",
   "metadata": {},
   "outputs": [
    {
     "data": {
      "text/plain": [
       "[1, 3, 4, 5]"
      ]
     },
     "execution_count": 500,
     "metadata": {},
     "output_type": "execute_result"
    }
   ],
   "source": [
    "n1 = [1,5]\n",
    "n2 = [3,4]\n",
    "n1.extend(n2)\n",
    "n1\n",
    "n1.sort()\n",
    "n1"
   ]
  },
  {
   "cell_type": "code",
   "execution_count": 501,
   "id": "ede3da6b",
   "metadata": {},
   "outputs": [
    {
     "name": "stdout",
     "output_type": "stream",
     "text": [
      "2341339657288\n",
      "[1, 3, 4]\n",
      "2341339570056\n"
     ]
    }
   ],
   "source": [
    "print(id(n1))\n",
    "n1 = n1[0:3]\n",
    "print(n1)\n",
    "print(id(n1))"
   ]
  },
  {
   "cell_type": "markdown",
   "id": "66fe2351",
   "metadata": {},
   "source": [
    "无法逃课"
   ]
  },
  {
   "cell_type": "code",
   "execution_count": 504,
   "id": "689e9259",
   "metadata": {},
   "outputs": [
    {
     "name": "stdout",
     "output_type": "stream",
     "text": [
      "2341339890504\n",
      "[1, 2, 0, 2]\n",
      "2341339890504\n"
     ]
    }
   ],
   "source": [
    "n1 = [1,2,0]\n",
    "print(id(n1))\n",
    "n1.append(2)\n",
    "print(n1)\n",
    "print(id(n1))"
   ]
  },
  {
   "cell_type": "markdown",
   "id": "04e647a2",
   "metadata": {},
   "source": [
    "好像还是可以逃课"
   ]
  },
  {
   "cell_type": "code",
   "execution_count": 505,
   "id": "4c820708",
   "metadata": {},
   "outputs": [
    {
     "name": "stdout",
     "output_type": "stream",
     "text": [
      "2341339893320\n",
      "[1, 2, 3, 0]\n",
      "2341339893320\n"
     ]
    }
   ],
   "source": [
    "n1 = [1,2,3,0,0]\n",
    "print(id(n1))\n",
    "n1.pop()\n",
    "print(n1)\n",
    "print(id(n1))"
   ]
  },
  {
   "cell_type": "code",
   "execution_count": 509,
   "id": "54aa044a",
   "metadata": {},
   "outputs": [],
   "source": [
    "def merge(nums1, m, nums2, n):\n",
    "        \"\"\"\n",
    "        :type nums1: List[int]\n",
    "        :type m: int\n",
    "        :type nums2: List[int]\n",
    "        :type n: int\n",
    "        :rtype: None Do not return anything, modify nums1 in-place instead.\n",
    "        \"\"\"\n",
    "        for i in range(n):\n",
    "            nums1.pop()\n",
    "        \n",
    "        nums1.extend(nums2)\n",
    "        nums1.sort()\n",
    "        "
   ]
  },
  {
   "cell_type": "code",
   "execution_count": 510,
   "id": "3a646331",
   "metadata": {},
   "outputs": [
    {
     "name": "stdout",
     "output_type": "stream",
     "text": [
      "[1, 2, 3, 0, 0, 0],2341340034824\n",
      "[1, 2, 2, 3, 5, 6],2341340034824\n"
     ]
    }
   ],
   "source": [
    "nums1 = [1,2,3,0,0,0]\n",
    "nums2 = [2,5,6]\n",
    "print(f'{nums1},{id(nums1)}')\n",
    "merge(nums1,3,nums2,3)\n",
    "print(f'{nums1},{id(nums1)}')"
   ]
  },
  {
   "cell_type": "code",
   "execution_count": 514,
   "id": "02d47830",
   "metadata": {},
   "outputs": [
    {
     "name": "stdout",
     "output_type": "stream",
     "text": [
      "[1],2341340165896\n",
      "[1],2341340165896\n"
     ]
    }
   ],
   "source": [
    "nums1 = [1]\n",
    "nums2 = []\n",
    "print(f'{nums1},{id(nums1)}')\n",
    "merge(nums1,1,nums2,0)\n",
    "print(f'{nums1},{id(nums1)}')"
   ]
  },
  {
   "cell_type": "code",
   "execution_count": 518,
   "id": "a3877381",
   "metadata": {},
   "outputs": [],
   "source": [
    "# 数组二放进数组一尾部的更好方法：\n",
    "\n",
    "def merge(nums1, m, nums2, n) -> None:\n",
    "        \"\"\"\n",
    "        Do not return anything, modify nums1 in-place instead.\n",
    "        \"\"\"\n",
    "        nums1[m:] = nums2  # 从第m个元素起将nums2放入\n",
    "        nums1.sort()"
   ]
  },
  {
   "cell_type": "markdown",
   "id": "54454be9",
   "metadata": {},
   "source": [
    "下面是正常做法"
   ]
  },
  {
   "cell_type": "code",
   "execution_count": 529,
   "id": "9d90a85b",
   "metadata": {},
   "outputs": [],
   "source": [
    "# 数组二放进数组一尾部的更好方法：\n",
    "\n",
    "def merge(nums1, m, nums2, n) -> None:\n",
    "        \"\"\"\n",
    "        :type nums1: List[int]\n",
    "        :type m: int\n",
    "        :type nums2: List[int]\n",
    "        :type n: int\n",
    "        :rtype: None Do not return anything, modify nums1 in-place instead.\n",
    "        \"\"\"\n",
    "        p1 = p2 = 0\n",
    "        nums3 = []\n",
    "        \n",
    "        while p1 < m and p2 < n:\n",
    "            if nums1[p1] <= nums2[p2]:\n",
    "                nums3.append(nums1[p1])\n",
    "                p1 += 1\n",
    "            else:\n",
    "                nums3.append(nums2[p2])\n",
    "                p2 += 1\n",
    "            \n",
    "        if p2 < n:\n",
    "            p2 = p2 if p2 > 0 else 0\n",
    "            for i in range(p2,n):\n",
    "                nums3.append(nums2[i])\n",
    "        if p1 < m:\n",
    "            p1 = p1 if p1 >0 else 0\n",
    "            for i in range(p1,m):\n",
    "                nums3.append(nums1[i])\n",
    "                \n",
    "        nums1[:] = nums3"
   ]
  },
  {
   "cell_type": "code",
   "execution_count": 522,
   "id": "e123082b",
   "metadata": {},
   "outputs": [
    {
     "name": "stdout",
     "output_type": "stream",
     "text": [
      "2341340772680\n",
      "[4, 5, 6]\n",
      "2341340772680\n"
     ]
    }
   ],
   "source": [
    "a = [1,2,3]\n",
    "print(id(a))\n",
    "b = [4,5,6]\n",
    "a[:] = b\n",
    "a\n",
    "print(a)\n",
    "print(id(a))"
   ]
  },
  {
   "cell_type": "code",
   "execution_count": 532,
   "id": "2658e2a1",
   "metadata": {},
   "outputs": [
    {
     "name": "stdout",
     "output_type": "stream",
     "text": [
      "[0],2341340648648\n",
      "[1],2341340648648\n"
     ]
    }
   ],
   "source": [
    "nums1 = [0]\n",
    "nums2 = [1]\n",
    "print(f'{nums1},{id(nums1)}')\n",
    "merge(nums1,0,nums2,1)\n",
    "print(f'{nums1},{id(nums1)}')"
   ]
  },
  {
   "cell_type": "code",
   "execution_count": 526,
   "id": "eb63ddb0",
   "metadata": {},
   "outputs": [
    {
     "data": {
      "text/plain": [
       "9"
      ]
     },
     "execution_count": 526,
     "metadata": {},
     "output_type": "execute_result"
    }
   ],
   "source": [
    "a = 1\n",
    "a = max((9,a))\n",
    "a"
   ]
  },
  {
   "cell_type": "markdown",
   "id": "52d8775c",
   "metadata": {},
   "source": [
    "可以将逻辑放进一个while循环内"
   ]
  },
  {
   "cell_type": "code",
   "execution_count": 534,
   "id": "9eafaeee",
   "metadata": {},
   "outputs": [],
   "source": [
    "class Solution:\n",
    "    def merge(self, nums1, m, nums2, n) -> None:\n",
    "        \"\"\"\n",
    "        Do not return anything, modify nums1 in-place instead.\n",
    "        \"\"\"\n",
    "        sorted1 = []\n",
    "        p1, p2 = 0, 0\n",
    "        while p1 < m or p2 < n:\n",
    "            if p1 == m:\n",
    "                sorted1.append(nums2[p2])\n",
    "                p2 += 1\n",
    "            elif p2 == n:\n",
    "                sorted1.append(nums1[p1])\n",
    "                p1 += 1\n",
    "            elif nums1[p1] < nums2[p2]:\n",
    "                sorted1.append(nums1[p1])\n",
    "                p1 += 1\n",
    "            else:\n",
    "                sorted1.append(nums2[p2])\n",
    "                p2 += 1\n",
    "        nums1[:] = sorted1"
   ]
  },
  {
   "cell_type": "markdown",
   "id": "6dd83eec",
   "metadata": {},
   "source": [
    "反向双指针，可以省掉上述方法中使用的额外列表空间"
   ]
  },
  {
   "cell_type": "code",
   "execution_count": 552,
   "id": "c0883d24",
   "metadata": {},
   "outputs": [],
   "source": [
    "def merge(nums1, m, nums2, n) -> None:\n",
    "        \"\"\"\n",
    "        Do not return anything, modify nums1 in-place instead.\n",
    "        \"\"\"\n",
    "        p1, p2 = m - 1, n - 1\n",
    "        tail = m + n - 1\n",
    "        while p1 >= 0 or p2 >= 0:\n",
    "            if p1 == -1:\n",
    "                nums1[tail] = nums2[p2]\n",
    "                p2 -= 1\n",
    "            elif p2 == -1:\n",
    "                nums1[tail] = nums1[p1]\n",
    "                p1 -= 1\n",
    "            elif nums1[p1] > nums2[p2]:\n",
    "                nums1[tail] = nums1[p1]\n",
    "                p1 -= 1\n",
    "            else:\n",
    "                nums1[tail] = nums2[p2]\n",
    "                p2 -= 1\n",
    "            tail -= 1"
   ]
  },
  {
   "cell_type": "code",
   "execution_count": 553,
   "id": "3a30415a",
   "metadata": {},
   "outputs": [
    {
     "name": "stdout",
     "output_type": "stream",
     "text": [
      "[1, 2, 3, 0, 0, 0],2341340882248\n",
      "[1, 2, 2, 3, 5, 6],2341340882248\n"
     ]
    }
   ],
   "source": [
    "nums1 = [1,2,3,0,0,0]\n",
    "nums2 = [2,5,6]\n",
    "print(f'{nums1},{id(nums1)}')\n",
    "merge(nums1,3,nums2,3)\n",
    "print(f'{nums1},{id(nums1)}')"
   ]
  },
  {
   "cell_type": "code",
   "execution_count": 544,
   "id": "cbbc3087",
   "metadata": {},
   "outputs": [
    {
     "data": {
      "text/plain": [
       "[0]"
      ]
     },
     "execution_count": 544,
     "metadata": {},
     "output_type": "execute_result"
    }
   ],
   "source": [
    "a = [3]\n",
    "b = [0]\n",
    "a[-1] = b[0]\n",
    "a"
   ]
  },
  {
   "cell_type": "markdown",
   "id": "eda13126",
   "metadata": {},
   "source": [
    "## 94.  二叉树的中序遍历"
   ]
  },
  {
   "cell_type": "markdown",
   "id": "f2a43b0b",
   "metadata": {},
   "source": [
    "中序遍历是二叉树遍历的一种，也叫做中根遍历、中序周游。在二叉树中，中序遍历首先遍历左子树，然后访问根结点，最后遍历右子树。"
   ]
  },
  {
   "cell_type": "code",
   "execution_count": 14,
   "id": "61e1dba6",
   "metadata": {},
   "outputs": [],
   "source": [
    "# Definition for a binary tree node.\n",
    "class TreeNode(object):\n",
    "    def __init__(self, val=0, left=None, right=None):\n",
    "        self.val = val\n",
    "        self.left = left\n",
    "        self.right = right"
   ]
  },
  {
   "cell_type": "code",
   "execution_count": 2,
   "id": "865092d2",
   "metadata": {},
   "outputs": [],
   "source": [
    "nodeD = TreeNode('D')\n",
    "nodeE = TreeNode('E')\n",
    "nodeF = TreeNode('F')\n",
    "nodeG = TreeNode('G')\n",
    "nodeB = TreeNode('B',left=nodeD,right=nodeE)\n",
    "nodeC = TreeNode('C',left=nodeF,right=nodeG)\n",
    "nodeA = TreeNode('A',left=nodeB,right=nodeC)"
   ]
  },
  {
   "cell_type": "markdown",
   "id": "b8fef282",
   "metadata": {},
   "source": [
    "并不是能完全理解递归遍历，这里就背一下模板"
   ]
  },
  {
   "cell_type": "code",
   "execution_count": 5,
   "id": "4f4e173e",
   "metadata": {},
   "outputs": [],
   "source": [
    "# 前序遍历\n",
    "\n",
    "def preorderTraversal(root):\n",
    "    def Traversal(subroot, order):\n",
    "        if not subroot:\n",
    "            return\n",
    "        order.append(subroot.val)\n",
    "        Traversal(subroot.left, order)\n",
    "        Traversal(subroot.right, order)\n",
    "\n",
    "    order = []\n",
    "    Traversal(root, order)\n",
    "    return order"
   ]
  },
  {
   "cell_type": "code",
   "execution_count": 6,
   "id": "bbf4f2b5",
   "metadata": {},
   "outputs": [],
   "source": [
    "# 中序遍历\n",
    "\n",
    "def inorderTraversal(root):\n",
    "    def Traversal(subroot, order):\n",
    "        if not subroot:\n",
    "            return\n",
    "        Traversal(subroot.left, order)\n",
    "        order.append(subroot.val)\n",
    "        Traversal(subroot.right, order)\n",
    "\n",
    "    order = []\n",
    "    Traversal(root, order)\n",
    "    return order"
   ]
  },
  {
   "cell_type": "code",
   "execution_count": 7,
   "id": "fa1d4612",
   "metadata": {},
   "outputs": [],
   "source": [
    "# 后序遍历\n",
    "\n",
    "def postorderTraversal(root):\n",
    "    def Traversal(subroot, order):\n",
    "        if not subroot:\n",
    "            return\n",
    "        Traversal(subroot.left, order)\n",
    "        Traversal(subroot.right, order)\n",
    "        order.append(subroot.val)\n",
    "\n",
    "    order = []\n",
    "    Traversal(root, order)\n",
    "    return order"
   ]
  },
  {
   "cell_type": "markdown",
   "id": "d63f1c23",
   "metadata": {},
   "source": [
    "递归函数我们也可以用迭代的方式实现，两种方式是等价的，区别在于递归的时候隐式地维护了一个栈，而我们在迭代的时候需要显式地将这个栈模拟出来，其他都相同，具体实现可以看下面的代码。"
   ]
  },
  {
   "cell_type": "code",
   "execution_count": 8,
   "id": "ea20c028",
   "metadata": {},
   "outputs": [],
   "source": [
    "# 迭代方式\n",
    "\n",
    "class Solution(object):\n",
    "\tdef inorderTraversal(self, root):\n",
    "\t\t\"\"\"\n",
    "\t\t:type root: TreeNode\n",
    "\t\t:rtype: List[int]\n",
    "\t\t\"\"\"\n",
    "\t\tres = []\n",
    "\t\tstack = []\n",
    "\t\twhile stack or root:\n",
    "\t\t\t# 不断往左子树方向走，每走一次就将当前节点保存到栈中\n",
    "\t\t\t# 这是模拟递归的调用\n",
    "\t\t\tif root:\n",
    "\t\t\t\tstack.append(root)\n",
    "\t\t\t\troot = root.left\n",
    "\t\t\t# 当前节点为空，说明左边走到头了，从栈中弹出节点并保存\n",
    "\t\t\t# 然后转向右边节点，继续上面整个过程\n",
    "\t\t\telse:\n",
    "\t\t\t\ttmp = stack.pop()\n",
    "\t\t\t\tres.append(tmp.val)\n",
    "\t\t\t\troot = tmp.right\n",
    "\t\treturn res"
   ]
  },
  {
   "cell_type": "code",
   "execution_count": null,
   "id": "5741488e",
   "metadata": {},
   "outputs": [],
   "source": [
    "# 迭代1：前序遍历最常用模板（后序同样可以用）\n",
    "class Solution:\n",
    "    def preorderTraversal(self, root: TreeNode) -> List[int]:\n",
    "        if not root:\n",
    "            return []        \n",
    "        res = []\n",
    "        stack = [root]\n",
    "        # # 前序迭代模板：最常用的二叉树DFS迭代遍历模板\n",
    "        while stack:\n",
    "            cur = stack.pop()\n",
    "            res.append(cur.val)\n",
    "            if cur.right:\n",
    "                stack.append(cur.right)\n",
    "            if cur.left:\n",
    "                stack.append(cur.left)\n",
    "        return res\n",
    "        \n",
    "        "
   ]
  },
  {
   "cell_type": "code",
   "execution_count": null,
   "id": "188b1581",
   "metadata": {},
   "outputs": [],
   "source": [
    "class Solution:\n",
    "    def preorderTraversal(self, root: TreeNode) -> List[int]:\n",
    "        if not root:\n",
    "            return []        \n",
    "        res = []\n",
    "        stack = [root]\n",
    "# 后序迭代，相同模板：将前序迭代进栈顺序稍作修改，最后得到的结果反转\n",
    "        while stack:\n",
    "            cur = stack.pop()\n",
    "            if cur.left:\n",
    "                stack.append(cur.left)\n",
    "            if cur.right:\n",
    "                stack.append(cur.right)\n",
    "            res.append(cur.val)\n",
    "        return res[::-1]"
   ]
  },
  {
   "cell_type": "code",
   "execution_count": null,
   "id": "38ca86b7",
   "metadata": {},
   "outputs": [],
   "source": [
    "# 迭代2：前、中、后序遍历通用模板（只需一个栈的空间）\n",
    "class Solution:\n",
    "    def inorderTraversal(self, root: TreeNode) -> List[int]: \n",
    "        res = []\n",
    "        stack = []\n",
    "        cur = root\n",
    "        # 中序，模板：先用指针找到每颗子树的最左下角，然后进行进出栈操作\n",
    "        while stack or cur:\n",
    "            while cur:\n",
    "                stack.append(cur)\n",
    "                cur = cur.left\n",
    "            cur = stack.pop()\n",
    "            res.append(cur.val)\n",
    "            cur = cur.right\n",
    "        return res  "
   ]
  },
  {
   "cell_type": "code",
   "execution_count": null,
   "id": "b041f2c7",
   "metadata": {},
   "outputs": [],
   "source": [
    "class Solution:\n",
    "    def inorderTraversal(self, root: TreeNode) -> List[int]: \n",
    "        res = []\n",
    "        stack = []\n",
    "        cur = root\n",
    "        # 前序，相同模板\n",
    "        while stack or cur:\n",
    "            while cur:\n",
    "                res.append(cur.val)\n",
    "                stack.append(cur)\n",
    "                cur = cur.left\n",
    "            cur = stack.pop()\n",
    "            cur = cur.right\n",
    "        return res"
   ]
  },
  {
   "cell_type": "code",
   "execution_count": null,
   "id": "eac6a082",
   "metadata": {},
   "outputs": [],
   "source": [
    "class Solution:\n",
    "    def inorderTraversal(self, root: TreeNode) -> List[int]: \n",
    "        res = []\n",
    "        stack = []\n",
    "        cur = root\n",
    "        # 后序，相同模板\n",
    "        while stack or cur:\n",
    "            while cur:\n",
    "                res.append(cur.val)\n",
    "                stack.append(cur)\n",
    "                cur = cur.right\n",
    "            cur = stack.pop()\n",
    "            cur = cur.left\n",
    "        return res[::-1]"
   ]
  },
  {
   "cell_type": "code",
   "execution_count": 7,
   "id": "0c9b33e1",
   "metadata": {},
   "outputs": [],
   "source": [
    "# 自己写的中序遍历\n",
    "def inorderTraversal(root):\n",
    "    stack = []\n",
    "    res = []\n",
    "    cur = root\n",
    "    \n",
    "    while stack or cur:\n",
    "        while cur:\n",
    "            stack.append(cur)\n",
    "            cur = cur.left\n",
    "        cur = stack.pop()\n",
    "        res.append(cur.val)\n",
    "        cur = cur.right\n",
    "    \n",
    "    return res"
   ]
  },
  {
   "cell_type": "code",
   "execution_count": 8,
   "id": "b1801675",
   "metadata": {},
   "outputs": [
    {
     "data": {
      "text/plain": [
       "['D', 'B', 'E', 'A', 'F', 'C', 'G']"
      ]
     },
     "execution_count": 8,
     "metadata": {},
     "output_type": "execute_result"
    }
   ],
   "source": [
    "inorderTraversal(nodeA)"
   ]
  },
  {
   "cell_type": "code",
   "execution_count": 9,
   "id": "46e90435",
   "metadata": {},
   "outputs": [],
   "source": [
    "# 自己写的前序遍历\n",
    "\n",
    "def preorderTraversal(root):\n",
    "    \n",
    "    stack = []\n",
    "    res = []\n",
    "    cur = root\n",
    "    \n",
    "    while stack or cur:\n",
    "        while cur:\n",
    "            res.append(cur.val)\n",
    "            stack.append(cur)\n",
    "            cur = cur.left\n",
    "        cur = stack.pop()\n",
    "        cur = cur.right\n",
    "        \n",
    "    return res"
   ]
  },
  {
   "cell_type": "code",
   "execution_count": 10,
   "id": "484f7f1f",
   "metadata": {},
   "outputs": [
    {
     "data": {
      "text/plain": [
       "['A', 'B', 'D', 'E', 'C', 'F', 'G']"
      ]
     },
     "execution_count": 10,
     "metadata": {},
     "output_type": "execute_result"
    }
   ],
   "source": [
    "preorderTraversal(nodeA)"
   ]
  },
  {
   "cell_type": "code",
   "execution_count": 13,
   "id": "c6585df3",
   "metadata": {},
   "outputs": [],
   "source": [
    "# 自己写的后序遍历\n",
    "\n",
    "def postorderTraversal(root):\n",
    "    \n",
    "    stack = []\n",
    "    res = []\n",
    "    cur = root\n",
    "    \n",
    "    while stack or cur:\n",
    "        while cur:\n",
    "            res.append(cur.val)\n",
    "            stack.append(cur)\n",
    "            cur = cur.right\n",
    "        cur = stack.pop()\n",
    "        cur = cur.left\n",
    "    \n",
    "    return res[::-1]"
   ]
  },
  {
   "cell_type": "code",
   "execution_count": 14,
   "id": "a15493cd",
   "metadata": {},
   "outputs": [
    {
     "data": {
      "text/plain": [
       "['D', 'E', 'B', 'F', 'G', 'C', 'A']"
      ]
     },
     "execution_count": 14,
     "metadata": {},
     "output_type": "execute_result"
    }
   ],
   "source": [
    "postorderTraversal(nodeA)"
   ]
  },
  {
   "cell_type": "markdown",
   "id": "158f3f9d-75ac-4133-ba08-27c23b482b49",
   "metadata": {},
   "source": [
    "### 二周目"
   ]
  },
  {
   "cell_type": "markdown",
   "id": "ddcd8f48-ef59-40fe-aefe-50537559038f",
   "metadata": {},
   "source": [
    "#### 递归"
   ]
  },
  {
   "cell_type": "code",
   "execution_count": 15,
   "id": "d2c637f8-c300-4e3d-88fb-11c4190a02be",
   "metadata": {},
   "outputs": [],
   "source": [
    "from typing import Optional, List\n",
    "class Solution:\n",
    "    def inorderTraversal(self, root: Optional[TreeNode]) -> List[int]:\n",
    "        res = []\n",
    "        def dfs(node):\n",
    "            if not node: return\n",
    "            dfs(node.left)\n",
    "            res.append(node.val)\n",
    "            dfs(node.right)\n",
    "        dfs(root)\n",
    "        return res"
   ]
  },
  {
   "cell_type": "markdown",
   "id": "34659452-4f8c-4ccf-8aa1-4e4f3d83fc59",
   "metadata": {},
   "source": [
    "#### 迭代"
   ]
  },
  {
   "cell_type": "code",
   "execution_count": 18,
   "id": "78d8889d-1f86-4471-9f0e-c898e8418b10",
   "metadata": {},
   "outputs": [],
   "source": [
    "class Solution:\n",
    "    def inorderTraversal(self, root: Optional[TreeNode]) -> List[int]:\n",
    "        res, stk, cur = [], [], root\n",
    "        while stk or cur:\n",
    "            while cur:\n",
    "                stk.append(cur)\n",
    "                cur = cur.left\n",
    "            cur = stk.pop()\n",
    "            res.append(cur.val)\n",
    "            cur = cur.right\n",
    "        return res"
   ]
  },
  {
   "cell_type": "markdown",
   "id": "4b7e723b",
   "metadata": {},
   "source": [
    "## 100. 相同的树"
   ]
  },
  {
   "cell_type": "markdown",
   "id": "7d85ffed",
   "metadata": {},
   "source": [
    "递归：1. 找出重复问题 2. 确定终止条件"
   ]
  },
  {
   "cell_type": "code",
   "execution_count": 36,
   "id": "f0c25d2a",
   "metadata": {},
   "outputs": [],
   "source": [
    "# 递归方式，相当于深度优先\n",
    "class Solution(object):\n",
    "    def isSameTree(self, p, q):\n",
    "        \"\"\"\n",
    "        :type p: TreeNode\n",
    "        :type q: TreeNode\n",
    "        :rtype: bool\n",
    "        \"\"\"\n",
    "        if not p and not q:\n",
    "            return True\n",
    "        if (not p and q) or (p and not q):\n",
    "            return False\n",
    "        if p.val != q.val:\n",
    "            return False\n",
    "        LeftTree = self.isSameTree(p.left,q.left)\n",
    "        RightTree = self.isSameTree(p.right,q.right)\n",
    "        \n",
    "        isSame = LeftTree and RightTree\n",
    "        \n",
    "        return isSame"
   ]
  },
  {
   "cell_type": "code",
   "execution_count": 37,
   "id": "3febd0ba",
   "metadata": {},
   "outputs": [
    {
     "data": {
      "text/plain": [
       "False"
      ]
     },
     "execution_count": 37,
     "metadata": {},
     "output_type": "execute_result"
    }
   ],
   "source": [
    "s = Solution()\n",
    "s.isSameTree(nodeA,nodeB)"
   ]
  },
  {
   "cell_type": "code",
   "execution_count": 38,
   "id": "e8995601",
   "metadata": {},
   "outputs": [],
   "source": [
    "# 迭代方式，相当于广度优先，即一层一层遍历\n",
    "class Solution(object):\n",
    "    def isSameTree(self, p, q):\n",
    "        \"\"\"\n",
    "        :type p: TreeNode\n",
    "        :type q: TreeNode\n",
    "        :rtype: bool\n",
    "        \"\"\"\n",
    "        queue = [p,q]\n",
    "        \n",
    "        while queue:\n",
    "            pNode = queue.pop(0)\n",
    "            qNode = queue.pop(0)\n",
    "            \n",
    "            if not pNode and not qNode:\n",
    "                continue\n",
    "            if (not pNode and qNode) or (pNode and not qNode):\n",
    "                return False\n",
    "            if pNode.val != qNode.val:\n",
    "                return False\n",
    "            \n",
    "            queue.append(pNode.left)\n",
    "            queue.append(qNode.left)\n",
    "            queue.append(pNode.right)\n",
    "            queue.append(qNode.right)\n",
    "            \n",
    "        return True"
   ]
  },
  {
   "cell_type": "code",
   "execution_count": 42,
   "id": "fcfdbeb4",
   "metadata": {},
   "outputs": [
    {
     "data": {
      "text/plain": [
       "False"
      ]
     },
     "execution_count": 42,
     "metadata": {},
     "output_type": "execute_result"
    }
   ],
   "source": [
    "s = Solution()\n",
    "s.isSameTree(nodeA,nodeB)"
   ]
  },
  {
   "cell_type": "markdown",
   "id": "7ad8494f",
   "metadata": {},
   "source": [
    "## 101. 对称二叉树"
   ]
  },
  {
   "cell_type": "code",
   "execution_count": 60,
   "id": "71ab89f3",
   "metadata": {},
   "outputs": [],
   "source": [
    "# 递归方式\n",
    "class Solution(object):\n",
    "    def isSymmetric(self, root):\n",
    "        \"\"\"\n",
    "        :type root: TreeNode\n",
    "        :rtype: bool\n",
    "        \"\"\"\n",
    "        def Symmetric(p, q):\n",
    "            if not p and not q:\n",
    "                return True\n",
    "            if (not p and q) or (not q and p):\n",
    "                return False\n",
    "            if p.val != q.val:\n",
    "                return False\n",
    "            inside = Symmetric(p.right, q.left)\n",
    "            outside = Symmetric(p.left, q.right)\n",
    "            \n",
    "            isSymme = inside and outside\n",
    "            \n",
    "            return isSymme\n",
    "        \n",
    "        return Symmetric(root.left, root.right)"
   ]
  },
  {
   "cell_type": "code",
   "execution_count": 61,
   "id": "af52b06b",
   "metadata": {},
   "outputs": [],
   "source": [
    "nodeD = TreeNode('D')\n",
    "nodeE = TreeNode('E')\n",
    "nodeF = TreeNode('E')\n",
    "nodeG = TreeNode('D')\n",
    "nodeB = TreeNode('B',left=nodeD,right=nodeE)\n",
    "nodeC = TreeNode('B',left=nodeF,right=nodeG)\n",
    "nodeA = TreeNode('A',left=nodeB,right=nodeC)"
   ]
  },
  {
   "cell_type": "code",
   "execution_count": 62,
   "id": "2e9591eb",
   "metadata": {},
   "outputs": [
    {
     "data": {
      "text/plain": [
       "True"
      ]
     },
     "execution_count": 62,
     "metadata": {},
     "output_type": "execute_result"
    }
   ],
   "source": [
    "s = Solution()\n",
    "s.isSymmetric(nodeA)"
   ]
  },
  {
   "cell_type": "markdown",
   "id": "be02eed4",
   "metadata": {},
   "source": [
    "tab：整体缩进    \n",
    "\n",
    "ctrl+\\[：取消缩进"
   ]
  },
  {
   "cell_type": "code",
   "execution_count": 63,
   "id": "e92bacfa",
   "metadata": {},
   "outputs": [],
   "source": [
    "# 迭代方式\n",
    "\n",
    "class Solution(object):\n",
    "    def isSymmetric(self, root):\n",
    "        \"\"\"\n",
    "        :type root: TreeNode\n",
    "        :rtype: bool\n",
    "        \"\"\"\n",
    "        queue = [root.left, root.right]\n",
    "        \n",
    "        while queue:\n",
    "            p = queue.pop(0)\n",
    "            q = queue.pop(0)\n",
    "            \n",
    "            if not p and not q:\n",
    "                continue\n",
    "            if (not p and q) or (p and not q):\n",
    "                return False\n",
    "            if p.val != q.val:\n",
    "                return False\n",
    "            \n",
    "            queue.append(p.left)\n",
    "            queue.append(q.right)\n",
    "            queue.append(p.right)\n",
    "            queue.append(q.left)\n",
    "        \n",
    "        return True"
   ]
  },
  {
   "cell_type": "code",
   "execution_count": 64,
   "id": "361cad62",
   "metadata": {},
   "outputs": [
    {
     "data": {
      "text/plain": [
       "True"
      ]
     },
     "execution_count": 64,
     "metadata": {},
     "output_type": "execute_result"
    }
   ],
   "source": [
    "s = Solution()\n",
    "s.isSymmetric(nodeA)"
   ]
  },
  {
   "cell_type": "markdown",
   "id": "fd3da604",
   "metadata": {},
   "source": [
    "## 104. 二叉树的最大深度"
   ]
  },
  {
   "cell_type": "markdown",
   "id": "fb580260",
   "metadata": {},
   "source": [
    "递归： 1. 找出重复问题 2. 确定终止条件\n",
    "\n",
    "1. 重复问题： maxdepth = max(LeftDepth, RightDepth) + 1\n",
    "2. 终止条件： 访问到空节点"
   ]
  },
  {
   "cell_type": "code",
   "execution_count": 66,
   "id": "c7128856",
   "metadata": {},
   "outputs": [],
   "source": [
    "# 深度优先，即递归\n",
    "\n",
    "class Solution(object):\n",
    "    def maxDepth(self, root):\n",
    "        \"\"\"\n",
    "        :type root: TreeNode\n",
    "        :rtype: int\n",
    "        \"\"\"\n",
    "        if not root:\n",
    "            return 0\n",
    "        leftDepth = self.maxDepth(root.left)\n",
    "        rightDepth = self.maxDepth(root.right)\n",
    "        return max(leftDepth, rightDepth) + 1"
   ]
  },
  {
   "cell_type": "code",
   "execution_count": 68,
   "id": "d822e12a",
   "metadata": {},
   "outputs": [],
   "source": [
    "# 广度优先，即迭代遍历\n",
    "\n",
    "class Solution:\n",
    "    def maxDepth(self, root) -> int:\n",
    "        if not root:\n",
    "            return 0\n",
    "        ans = 0\n",
    "        stack = [(root, 1)]\n",
    "        while stack:\n",
    "            curr, curr_l = stack.pop()\n",
    "            ans = max(ans, curr_l)\n",
    "            if curr.left:\n",
    "                stack.append((curr.left, curr_l + 1))\n",
    "            if curr.right:\n",
    "                stack.append((curr.right, curr_l + 1))\n",
    "        return ans"
   ]
  },
  {
   "cell_type": "markdown",
   "id": "715fa1ca",
   "metadata": {},
   "source": [
    "## 108. 将有序数组转换为二叉搜索树"
   ]
  },
  {
   "cell_type": "markdown",
   "id": "7e299339",
   "metadata": {},
   "source": [
    "试一下自己写一个递归：1. 找出重复问题 2. 确定终止条件\n",
    "\n",
    "1. 重复问题：从数组中取数创建节点的左孩子和右孩子\n",
    "2. 终止条件：数组为空"
   ]
  },
  {
   "cell_type": "code",
   "execution_count": 92,
   "id": "27f15d19",
   "metadata": {},
   "outputs": [],
   "source": [
    "class Solution(object):\n",
    "    def sortedArrayToBST(self, nums):\n",
    "        \"\"\"\n",
    "        :type nums: List[int]\n",
    "        :rtype: TreeNode\n",
    "        \"\"\"\n",
    "        head = nodeA = TreeNode(val=nums.pop())\n",
    "        def ATB(node,nums):\n",
    "            if not nums:\n",
    "                return  head\n",
    "            if nums:\n",
    "                nodeB = TreeNode(val=nums.pop())\n",
    "                node.left = nodeB\n",
    "            if nums:\n",
    "                nodeC = TreeNode(val=nums.pop())\n",
    "                node.right = nodeC\n",
    "            \n",
    "            ATB(node.left,nums)\n",
    "            ATB(node.right,nums)\n",
    "            \n",
    "        ATB(nodeA,nums)\n",
    "        return head"
   ]
  },
  {
   "cell_type": "code",
   "execution_count": 96,
   "id": "d67da60d",
   "metadata": {},
   "outputs": [],
   "source": [
    "s = Solution()\n",
    "nums = [1,2,3,4,5,6]\n",
    "ss = s.sortedArrayToBST(nums)"
   ]
  },
  {
   "cell_type": "code",
   "execution_count": 97,
   "id": "93a4205a",
   "metadata": {},
   "outputs": [],
   "source": [
    "# 自己写的中序遍历\n",
    "def inorderTraversal(root):\n",
    "    stack = []\n",
    "    res = []\n",
    "    cur = root\n",
    "    \n",
    "    while stack or cur:\n",
    "        while cur:\n",
    "            stack.append(cur)\n",
    "            cur = cur.left\n",
    "        cur = stack.pop()\n",
    "        res.append(cur.val)\n",
    "        cur = cur.right\n",
    "    \n",
    "    return res"
   ]
  },
  {
   "cell_type": "code",
   "execution_count": 98,
   "id": "0d581d23",
   "metadata": {},
   "outputs": [
    {
     "data": {
      "text/plain": [
       "[1, 3, 5, 2, 6, 4]"
      ]
     },
     "execution_count": 98,
     "metadata": {},
     "output_type": "execute_result"
    }
   ],
   "source": [
    "inorderTraversal(ss)"
   ]
  },
  {
   "cell_type": "markdown",
   "id": "56fb4adb",
   "metadata": {},
   "source": [
    "看起来不能用递归，递归会一直向下衍生，不会平衡。\n",
    "\n",
    "但就变量而言一定是要重复利用，即滚动数组类似思想"
   ]
  },
  {
   "cell_type": "code",
   "execution_count": 105,
   "id": "641bb2c7",
   "metadata": {},
   "outputs": [],
   "source": [
    "class Solution(object):\n",
    "    def sortedArrayToBST(self, nums):\n",
    "        \"\"\"\n",
    "        :type nums: List[int]\n",
    "        :rtype: TreeNode\n",
    "        \"\"\"\n",
    "        queue = []\n",
    "        head = nodeA = TreeNode(nums.pop())\n",
    "        queue.append(nodeA)\n",
    "        \n",
    "        while nums:\n",
    "            cur = queue.pop(0)\n",
    "            if nums:\n",
    "                cur.left = TreeNode(nums.pop())\n",
    "                queue.append(cur.left)\n",
    "            if nums:\n",
    "                cur.right = TreeNode(nums.pop())\n",
    "                queue.append(cur.right)\n",
    "            \n",
    "        return head"
   ]
  },
  {
   "cell_type": "code",
   "execution_count": 106,
   "id": "c07e341f",
   "metadata": {},
   "outputs": [],
   "source": [
    "s = Solution()\n",
    "nums = [1,2,3,4,5,6]\n",
    "ss = s.sortedArrayToBST(nums)"
   ]
  },
  {
   "cell_type": "code",
   "execution_count": 107,
   "id": "e3d455d1",
   "metadata": {},
   "outputs": [],
   "source": [
    "def inorderTraversal(root):\n",
    "    stack = []\n",
    "    res = []\n",
    "    cur = root\n",
    "    \n",
    "    while stack or cur:\n",
    "        while cur:\n",
    "            stack.append(cur)\n",
    "            cur = cur.left\n",
    "        cur = stack.pop()\n",
    "        res.append(cur.val)\n",
    "        cur = cur.right\n",
    "    \n",
    "    return res"
   ]
  },
  {
   "cell_type": "code",
   "execution_count": 108,
   "id": "4e744b84",
   "metadata": {},
   "outputs": [
    {
     "data": {
      "text/plain": [
       "[3, 5, 2, 6, 1, 4]"
      ]
     },
     "execution_count": 108,
     "metadata": {},
     "output_type": "execute_result"
    }
   ],
   "source": [
    "inorderTraversal(ss)"
   ]
  },
  {
   "cell_type": "markdown",
   "id": "417e2de3",
   "metadata": {},
   "source": [
    "此种方法满足高度平衡的定义但没看到有二叉搜索树的要求"
   ]
  },
  {
   "cell_type": "markdown",
   "id": "24795604",
   "metadata": {},
   "source": [
    "二叉查找树（Binary Search Tree），（又：二叉搜索树，二叉排序树）它或者是一棵空树，或者是具有下列性质的二叉树： **若它的左子树不空，则左子树上所有结点的值均小于它的根结点的值； 若它的右子树不空，则右子树上所有结点的值均大于它的根结点的值；**"
   ]
  },
  {
   "cell_type": "markdown",
   "id": "251b78e6",
   "metadata": {},
   "source": [
    "递归方式创建高度平衡二叉搜索树：重复问题，终止条件\n",
    "1. 重复问题：取数组中间的数作为根节点\n",
    "2. 终止条件：数组遍历完成"
   ]
  },
  {
   "cell_type": "code",
   "execution_count": 109,
   "id": "dcbbeb58",
   "metadata": {},
   "outputs": [],
   "source": [
    "class Solution(object):\n",
    "    def sortedArrayToBST(self, nums):\n",
    "        \"\"\"\n",
    "        :type nums: List[int]\n",
    "        :rtype: TreeNode\n",
    "        \"\"\"\n",
    "        \n",
    "        def ArrayToBST(left, right):\n",
    "            if left > right:\n",
    "                return None\n",
    "            mid = (left + right)//2\n",
    "            \n",
    "            root = TreeNode(nums[mid])\n",
    "            root.left = ArrayToBST(left,mid-1)\n",
    "            root.right = ArrayToBST(mid+1,right)\n",
    "            \n",
    "            return root\n",
    "        \n",
    "        return ArrayToBST(0, len(nums)-1)\n",
    "            "
   ]
  },
  {
   "cell_type": "code",
   "execution_count": 110,
   "id": "d5bc8dbd",
   "metadata": {},
   "outputs": [
    {
     "data": {
      "text/plain": [
       "[1, 2, 3, 4, 5, 6]"
      ]
     },
     "execution_count": 110,
     "metadata": {},
     "output_type": "execute_result"
    }
   ],
   "source": [
    "s = Solution()\n",
    "nums = [1,2,3,4,5,6]\n",
    "ss = s.sortedArrayToBST(nums)\n",
    "inorderTraversal(ss)"
   ]
  },
  {
   "cell_type": "markdown",
   "id": "5ea1c4c2",
   "metadata": {},
   "source": [
    "**二叉搜索树的中序遍历结果为一个严格递增的升序数组**"
   ]
  },
  {
   "cell_type": "markdown",
   "id": "c54a9ff0",
   "metadata": {},
   "source": [
    "## 111. 二叉树的最小深度"
   ]
  },
  {
   "cell_type": "code",
   "execution_count": 25,
   "id": "513e03aa",
   "metadata": {},
   "outputs": [],
   "source": [
    "from collections import deque\n",
    "class Solution:\n",
    "    def minDepth(self, root: Optional[TreeNode]) -> int:\n",
    "        ans = 0\n",
    "        stk = deque([root])\n",
    "        while stk:\n",
    "            ans += 1\n",
    "            for i in range(len(stk)):\n",
    "                cur = stk.popleft()\n",
    "                if not cur.left and not cur.right: return ans\n",
    "                if cur.left: stk.append(cur.left)\n",
    "                if cur.right: stk.append(cur.right)\n",
    "        return ans"
   ]
  },
  {
   "cell_type": "code",
   "execution_count": null,
   "id": "87eaa609-d829-4388-b140-a33b3ded30b3",
   "metadata": {},
   "outputs": [],
   "source": []
  },
  {
   "cell_type": "code",
   "execution_count": null,
   "id": "1d1085cc-bc3a-4f98-a5d0-d35c61195cba",
   "metadata": {},
   "outputs": [],
   "source": []
  },
  {
   "cell_type": "code",
   "execution_count": null,
   "id": "30532f01-2097-4909-a576-9b81a3790ab6",
   "metadata": {},
   "outputs": [],
   "source": []
  },
  {
   "cell_type": "code",
   "execution_count": null,
   "id": "c2fd284a-fa96-4abe-aa99-f8ef7a510ada",
   "metadata": {},
   "outputs": [],
   "source": []
  }
 ],
 "metadata": {
  "kernelspec": {
   "display_name": "Python 3 (ipykernel)",
   "language": "python",
   "name": "python3"
  },
  "language_info": {
   "codemirror_mode": {
    "name": "ipython",
    "version": 3
   },
   "file_extension": ".py",
   "mimetype": "text/x-python",
   "name": "python",
   "nbconvert_exporter": "python",
   "pygments_lexer": "ipython3",
   "version": "3.6.3"
  }
 },
 "nbformat": 4,
 "nbformat_minor": 5
}
