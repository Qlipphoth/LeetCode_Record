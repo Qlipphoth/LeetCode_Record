{
 "cells": [
  {
   "cell_type": "markdown",
   "id": "a0a0741f",
   "metadata": {
    "tags": []
   },
   "source": [
    "## 1，两数之和"
   ]
  },
  {
   "cell_type": "code",
   "execution_count": 1,
   "id": "936c29d5",
   "metadata": {},
   "outputs": [],
   "source": [
    "nums = [5, 4, 3, 2 ,1]\n",
    "target = 7"
   ]
  },
  {
   "cell_type": "code",
   "execution_count": 2,
   "id": "f88ade48",
   "metadata": {},
   "outputs": [],
   "source": [
    "# 此为way1\n",
    "\n",
    "class Solution(object):\n",
    "\n",
    "    def twoSum(self, nums, target):\n",
    "        \"\"\"\n",
    "        :type nums: List[int]\n",
    "        :type target: int\n",
    "        :rtype: List[int]\n",
    "        \"\"\"\n",
    "        length = len(nums)\n",
    "        for i in range(length):\n",
    "            b = target - nums[i]\n",
    "            for j in range(i+1, length):\n",
    "                if b == nums[j]:\n",
    "                    return [i, j]\n",
    "        #         else:\n",
    "        #             continue\n",
    "        # return [i, j]                此处不需要做else的判断"
   ]
  },
  {
   "cell_type": "code",
   "execution_count": 3,
   "id": "6562dec3",
   "metadata": {},
   "outputs": [
    {
     "data": {
      "text/plain": [
       "[0, 3]"
      ]
     },
     "execution_count": 3,
     "metadata": {},
     "output_type": "execute_result"
    }
   ],
   "source": [
    "s = Solution()\n",
    "s.twoSum(nums, target)"
   ]
  },
  {
   "cell_type": "code",
   "execution_count": 4,
   "id": "968f9f03",
   "metadata": {},
   "outputs": [],
   "source": [
    "# 此为way2\n",
    "\n",
    "class Solution(object):\n",
    "\n",
    "    def twoSum(self, nums, target):\n",
    "        \"\"\"\n",
    "        :type nums: List[int]\n",
    "        :type target: int\n",
    "        :rtype: List[int]\n",
    "        \"\"\"\n",
    "        length = len(nums)\n",
    "        for i in range(length):\n",
    "            for j in range(i+1, length):\n",
    "                if nums[i] + nums[j] == target:\n",
    "                    return [i, j]"
   ]
  },
  {
   "cell_type": "code",
   "execution_count": 5,
   "id": "92de720d",
   "metadata": {},
   "outputs": [
    {
     "data": {
      "text/plain": [
       "[0, 3]"
      ]
     },
     "execution_count": 5,
     "metadata": {},
     "output_type": "execute_result"
    }
   ],
   "source": [
    "s = Solution()\n",
    "s.twoSum(nums, target)"
   ]
  },
  {
   "cell_type": "markdown",
   "id": "33d9e872",
   "metadata": {},
   "source": [
    "way1 耗时短但内存高 way2 耗时长但内存小"
   ]
  },
  {
   "cell_type": "markdown",
   "id": "6e6c7b07",
   "metadata": {
    "tags": []
   },
   "source": [
    "### 二周目"
   ]
  },
  {
   "cell_type": "markdown",
   "id": "ab6aed0e",
   "metadata": {},
   "source": [
    "上面的方法都是on2复杂度，考虑哈希表"
   ]
  },
  {
   "cell_type": "code",
   "execution_count": 6,
   "id": "69e0ced5",
   "metadata": {},
   "outputs": [],
   "source": [
    "from collections import defaultdict\n",
    "from typing import List\n",
    "class Solution:\n",
    "    def twoSum(self, nums: List[int], target: int) -> List[int]:\n",
    "        memo = defaultdict(int)\n",
    "        for i, n in enumerate(nums):\n",
    "            if memo[target-n]: return [memo[target-n] - 1, i]\n",
    "            memo[n] = i + 1"
   ]
  },
  {
   "cell_type": "code",
   "execution_count": 7,
   "id": "1be0bc81",
   "metadata": {},
   "outputs": [
    {
     "data": {
      "text/plain": [
       "[0, 1]"
      ]
     },
     "execution_count": 7,
     "metadata": {},
     "output_type": "execute_result"
    }
   ],
   "source": [
    "nums = [3,3]\n",
    "target = 6\n",
    "s = Solution()\n",
    "s.twoSum(nums, target)"
   ]
  },
  {
   "cell_type": "markdown",
   "id": "a2941cea",
   "metadata": {},
   "source": [
    "时间复杂度降为on，但memo占用一些内存"
   ]
  },
  {
   "cell_type": "markdown",
   "id": "19f41cf4",
   "metadata": {},
   "source": [
    "## 9，回文数"
   ]
  },
  {
   "cell_type": "markdown",
   "id": "86abe753",
   "metadata": {},
   "source": [
    "1. num2str -> str(12321)\n",
    "2. str2num -> int('12321')\n",
    "3. 除法向下取整 -> 5//2 == 2"
   ]
  },
  {
   "cell_type": "code",
   "execution_count": 24,
   "id": "63628cd0",
   "metadata": {},
   "outputs": [
    {
     "data": {
      "text/plain": [
       "2"
      ]
     },
     "execution_count": 24,
     "metadata": {},
     "output_type": "execute_result"
    }
   ],
   "source": [
    "a = 12321\n",
    "a = str(a)\n",
    "len(a)\n",
    "a[1]\n",
    "int(a[1])"
   ]
  },
  {
   "cell_type": "code",
   "execution_count": 16,
   "id": "cb7d253a",
   "metadata": {},
   "outputs": [
    {
     "data": {
      "text/plain": [
       "2"
      ]
     },
     "execution_count": 16,
     "metadata": {},
     "output_type": "execute_result"
    }
   ],
   "source": [
    "5//2"
   ]
  },
  {
   "cell_type": "code",
   "execution_count": 28,
   "id": "4816ecfb",
   "metadata": {},
   "outputs": [],
   "source": [
    "class Solution(object):\n",
    "    def isPalindrome(self, x):\n",
    "        \"\"\"\n",
    "        :type x: int\n",
    "        :rtype: bool\n",
    "        \"\"\"\n",
    "        x = str(x)\n",
    "        length = len(x) - 1\n",
    "        half_len = len(x)//2\n",
    "        for i in range(half_len):\n",
    "            num1 = x[i]\n",
    "            num2 = x[length - i]\n",
    "            if num1 == num2:\n",
    "                continue\n",
    "            else:\n",
    "                return False\n",
    "        return True"
   ]
  },
  {
   "cell_type": "code",
   "execution_count": 31,
   "id": "723ab528",
   "metadata": {},
   "outputs": [
    {
     "data": {
      "text/plain": [
       "True"
      ]
     },
     "execution_count": 31,
     "metadata": {},
     "output_type": "execute_result"
    }
   ],
   "source": [
    "a = 123321\n",
    "s = Solution()\n",
    "s.isPalindrome(a)"
   ]
  },
  {
   "cell_type": "markdown",
   "id": "0976db43",
   "metadata": {},
   "source": [
    "上面是最笨的方法！！！"
   ]
  },
  {
   "cell_type": "code",
   "execution_count": 33,
   "id": "a493b194",
   "metadata": {},
   "outputs": [
    {
     "data": {
      "text/plain": [
       "'54321'"
      ]
     },
     "execution_count": 33,
     "metadata": {},
     "output_type": "execute_result"
    }
   ],
   "source": [
    "a = '12345'\n",
    "b = a[::-1]\n",
    "b"
   ]
  },
  {
   "cell_type": "code",
   "execution_count": 34,
   "id": "03641bd6",
   "metadata": {},
   "outputs": [],
   "source": [
    "# 回文数可以直接将字符串倒过来与源字符串比较\n",
    "\n",
    "class Solution(object):\n",
    "    def isPalindrome(self, x):\n",
    "        \"\"\"\n",
    "        :type x: int\n",
    "        :rtype: bool\n",
    "        \"\"\"\n",
    "        x = str(x)\n",
    "        y = x[::-1]\n",
    "        return x == y"
   ]
  },
  {
   "cell_type": "code",
   "execution_count": 36,
   "id": "506fcb6f",
   "metadata": {},
   "outputs": [
    {
     "data": {
      "text/plain": [
       "False"
      ]
     },
     "execution_count": 36,
     "metadata": {},
     "output_type": "execute_result"
    }
   ],
   "source": [
    "a = 12332\n",
    "s = Solution()\n",
    "s.isPalindrome(a)"
   ]
  },
  {
   "cell_type": "markdown",
   "id": "35baa699",
   "metadata": {},
   "source": [
    "这种方法tnbl，wsfw"
   ]
  },
  {
   "cell_type": "code",
   "execution_count": 38,
   "id": "06318f7e",
   "metadata": {},
   "outputs": [],
   "source": [
    "# 一行写法\n",
    "class Solution(object):\n",
    "    def isPalindrome(self, x):\n",
    "        \"\"\"\n",
    "        :type x: int\n",
    "        :rtype: bool\n",
    "        \"\"\"\n",
    "        return str(x) == str(x)[::-1]"
   ]
  },
  {
   "cell_type": "code",
   "execution_count": 39,
   "id": "95574b81",
   "metadata": {},
   "outputs": [
    {
     "data": {
      "text/plain": [
       "False"
      ]
     },
     "execution_count": 39,
     "metadata": {},
     "output_type": "execute_result"
    }
   ],
   "source": [
    "a = 12332\n",
    "s = Solution()\n",
    "s.isPalindrome(a)"
   ]
  },
  {
   "cell_type": "markdown",
   "id": "d479c5ae",
   "metadata": {},
   "source": [
    "## 13. 罗马数字转整数"
   ]
  },
  {
   "cell_type": "markdown",
   "id": "8f8868e7",
   "metadata": {},
   "source": [
    "初步想法：创建字典，包含六种特殊情况，传入字符串先判断是否整体在字典里，有的话直接输出，没有的话按照规则翻译"
   ]
  },
  {
   "cell_type": "code",
   "execution_count": 42,
   "id": "fa890909",
   "metadata": {},
   "outputs": [
    {
     "data": {
      "text/plain": [
       "4"
      ]
     },
     "execution_count": 42,
     "metadata": {},
     "output_type": "execute_result"
    }
   ],
   "source": [
    "roman_ele = {'I':1, 'V':5, 'X':10, 'L':50, 'C':100, 'D':500, 'M':1000,\n",
    "                     'IV':4, 'IX':9, 'XL':40, 'XC':90, 'CD':400, 'CM':900}\n",
    "roman_ele['IV']"
   ]
  },
  {
   "cell_type": "code",
   "execution_count": 47,
   "id": "40cb45d5",
   "metadata": {},
   "outputs": [],
   "source": [
    "class Solution(object):\n",
    "    def romanToInt(self, s):\n",
    "        \"\"\"\n",
    "        :type s: str\n",
    "        :rtype: int\n",
    "        \"\"\"\n",
    "        count = 0\n",
    "        roman_ele = {'I':1, 'V':5, 'X':10, 'L':50, 'C':100, 'D':500, 'M':1000,\n",
    "                     'IV':4, 'IX':9, 'XL':40, 'XC':90, 'CD':400, 'CM':900}\n",
    "        if s in roman_ele:\n",
    "            return roman_ele[s]\n",
    "        else:\n",
    "            for i in range(len(s)):\n",
    "                count += roman_ele[s[i]]\n",
    "            return count"
   ]
  },
  {
   "cell_type": "code",
   "execution_count": 49,
   "id": "09ba9aec",
   "metadata": {},
   "outputs": [
    {
     "data": {
      "text/plain": [
       "2216"
      ]
     },
     "execution_count": 49,
     "metadata": {},
     "output_type": "execute_result"
    }
   ],
   "source": [
    "s = Solution()\n",
    "s.romanToInt('MCMXCIV')\n",
    "# 正确答案 1994 M CM XC IV"
   ]
  },
  {
   "cell_type": "markdown",
   "id": "1fc50314",
   "metadata": {},
   "source": [
    "问题1：字符串中有六种特殊情况的组合需额外判断"
   ]
  },
  {
   "cell_type": "code",
   "execution_count": 58,
   "id": "ca4589d4",
   "metadata": {},
   "outputs": [
    {
     "data": {
      "text/plain": [
       "True"
      ]
     },
     "execution_count": 58,
     "metadata": {},
     "output_type": "execute_result"
    }
   ],
   "source": [
    "\"IV\" in \"CCCIVCCCC\""
   ]
  },
  {
   "cell_type": "markdown",
   "id": "b6f7e4a2",
   "metadata": {},
   "source": [
    "进一步想法：从左边开始匹配，每次一起判断该字符及后一字符，如在字典里则按特殊处理，不在则按正常处理"
   ]
  },
  {
   "cell_type": "code",
   "execution_count": 62,
   "id": "ef50bc9a",
   "metadata": {},
   "outputs": [
    {
     "name": "stdout",
     "output_type": "stream",
     "text": [
      "0\n",
      "1\n",
      "0\n",
      "3\n",
      "4\n"
     ]
    }
   ],
   "source": [
    "for i in range(5):\n",
    "    if i == 2:\n",
    "        i = 0\n",
    "        print(i)\n",
    "    else:\n",
    "        print(i)"
   ]
  },
  {
   "cell_type": "markdown",
   "id": "88e94992",
   "metadata": {},
   "source": [
    "可以看出在循环中改变i的值并不影响循环的效果，故换个思路，遇到特殊数字直接\n",
    "正常累加，最后结果再减去二倍的前一字符：\n",
    "如：\"IV\" -> 1+5-1-1 = 4\n",
    "\n",
    "**ps: 此处可以运用while后手动判断索引移动一位或两位的方式从而避免使用for循环**"
   ]
  },
  {
   "cell_type": "code",
   "execution_count": 116,
   "id": "b1aca467",
   "metadata": {},
   "outputs": [],
   "source": [
    "class Solution(object):\n",
    "    def romanToInt(self, s):\n",
    "        \"\"\"\n",
    "        :type s: str\n",
    "        :rtype: int\n",
    "        \"\"\"\n",
    "        count = 0\n",
    "        roman_ele = {'I':1, 'V':5, 'X':10, 'L':50, 'C':100, 'D':500, 'M':1000,\n",
    "                     'IV':4, 'IX':9, 'XL':40, 'XC':90, 'CD':400, 'CM':900}\n",
    "        if s in roman_ele:\n",
    "            return roman_ele[s]\n",
    "        else:\n",
    "            for i in range(1, len(s)):\n",
    "                count += roman_ele[s[i]]\n",
    "                if roman_ele[s[i]] > roman_ele[s[i-1]]:\n",
    "                    count -= 2 * roman_ele[s[i-1]]\n",
    "            count += roman_ele[s[0]]\n",
    "            \n",
    "        return count"
   ]
  },
  {
   "cell_type": "code",
   "execution_count": 118,
   "id": "e1c3e2a7",
   "metadata": {},
   "outputs": [
    {
     "data": {
      "text/plain": [
       "1994"
      ]
     },
     "execution_count": 118,
     "metadata": {},
     "output_type": "execute_result"
    }
   ],
   "source": [
    "s = Solution()\n",
    "s.romanToInt('MCMXCIV')\n",
    "# 正确答案 1994 M CM XC IV"
   ]
  },
  {
   "cell_type": "code",
   "execution_count": 128,
   "id": "22663019",
   "metadata": {},
   "outputs": [
    {
     "name": "stdout",
     "output_type": "stream",
     "text": [
      "0\n",
      "1\n",
      "2\n"
     ]
    }
   ],
   "source": [
    "for i in range(3):\n",
    "    print(i)\n",
    "    if i>1 and 2>3:\n",
    "        print(999)"
   ]
  },
  {
   "cell_type": "code",
   "execution_count": 129,
   "id": "3daaff8b",
   "metadata": {},
   "outputs": [],
   "source": [
    "class Solution(object):\n",
    "    def romanToInt(self, s):\n",
    "        \"\"\"\n",
    "        :type s: str\n",
    "        :rtype: int\n",
    "        \"\"\"\n",
    "        count = 0\n",
    "        roman_ele = {'I':1, 'V':5, 'X':10, 'L':50, 'C':100, 'D':500, 'M':1000,\n",
    "                     'IV':4, 'IX':9, 'XL':40, 'XC':90, 'CD':400, 'CM':900}\n",
    "        if s in roman_ele:\n",
    "            return roman_ele[s]\n",
    "        else:\n",
    "            for i in range(len(s)):\n",
    "                count += roman_ele[s[i]]\n",
    "                if roman_ele[s[i]] > roman_ele[s[i-1]] and i>0:\n",
    "                    count -= 2 * roman_ele[s[i-1]]\n",
    "            \n",
    "        return count"
   ]
  },
  {
   "cell_type": "code",
   "execution_count": 132,
   "id": "d5102c21",
   "metadata": {},
   "outputs": [
    {
     "data": {
      "text/plain": [
       "1994"
      ]
     },
     "execution_count": 132,
     "metadata": {},
     "output_type": "execute_result"
    }
   ],
   "source": [
    "s = Solution()\n",
    "s.romanToInt('MCMXCIV')\n",
    "# 正确答案 1994 M CM XC IV"
   ]
  },
  {
   "cell_type": "markdown",
   "id": "714fd4ba",
   "metadata": {},
   "source": [
    "使用while循环的方法："
   ]
  },
  {
   "cell_type": "code",
   "execution_count": 11,
   "id": "5bc677b1",
   "metadata": {},
   "outputs": [],
   "source": [
    "class Solution(object):\n",
    "    def romanToInt(self, s):\n",
    "        \"\"\"\n",
    "        :type s: str\n",
    "        :rtype: int\n",
    "        \"\"\"\n",
    "        i = 0\n",
    "        count = 0\n",
    "        roman_ele = {'I':1, 'V':5, 'X':10, 'L':50, 'C':100, 'D':500, 'M':1000,\n",
    "                     'IV':4, 'IX':9, 'XL':40, 'XC':90, 'CD':400, 'CM':900}\n",
    "        \n",
    "        while i < len(s):\n",
    "            if roman_ele[s[i]] < roman_ele[s[i+1]]:\n",
    "                count += roman_ele[s[i:i+2]]\n",
    "                i += 2\n",
    "            else:\n",
    "                count += roman_ele[s[i]]\n",
    "                i += 1\n",
    "\n",
    "        return count"
   ]
  },
  {
   "cell_type": "code",
   "execution_count": 12,
   "id": "a8dd4f30",
   "metadata": {},
   "outputs": [
    {
     "data": {
      "text/plain": [
       "1994"
      ]
     },
     "execution_count": 12,
     "metadata": {},
     "output_type": "execute_result"
    }
   ],
   "source": [
    "s = Solution()\n",
    "s.romanToInt(\"MCMXCIV\")\n",
    "# 正确答案 1994 M CM XC IV"
   ]
  },
  {
   "cell_type": "markdown",
   "id": "2327fa0f",
   "metadata": {},
   "source": [
    "**有bug，暂时不想了**"
   ]
  },
  {
   "cell_type": "markdown",
   "id": "d55b9d66",
   "metadata": {},
   "source": [
    "### 二周目"
   ]
  },
  {
   "cell_type": "markdown",
   "id": "9f3dfb32",
   "metadata": {},
   "source": [
    "通常情况下，罗马数字中小的数字在大的数字的右边。但也存在特例。则对特例单独判断即可"
   ]
  },
  {
   "cell_type": "code",
   "execution_count": 20,
   "id": "205abfd5",
   "metadata": {},
   "outputs": [],
   "source": [
    "class Solution:\n",
    "    def romanToInt(self, s: str) -> int:\n",
    "        dic = {'I':1, 'V':5, 'X':10, 'L':50, 'C':100, 'D':500, 'M':1000}\n",
    "        i = 0\n",
    "        ans = 0\n",
    "        while i < len(s):\n",
    "            a = dic[s[i]]\n",
    "            b = dic[s[min(i+1, len(s)-1)]]\n",
    "            if a < b: ans -= a\n",
    "            else: ans += a\n",
    "            i += 1\n",
    "        return ans"
   ]
  },
  {
   "cell_type": "code",
   "execution_count": 21,
   "id": "a3ec0584",
   "metadata": {},
   "outputs": [
    {
     "data": {
      "text/plain": [
       "58"
      ]
     },
     "execution_count": 21,
     "metadata": {},
     "output_type": "execute_result"
    }
   ],
   "source": [
    "c = \"LVIII\"\n",
    "s = Solution()\n",
    "s.romanToInt(c)"
   ]
  },
  {
   "cell_type": "markdown",
   "id": "56638f67",
   "metadata": {},
   "source": [
    "on , o1"
   ]
  },
  {
   "cell_type": "markdown",
   "id": "48103504",
   "metadata": {},
   "source": [
    "## 14. 最长公共前缀"
   ]
  },
  {
   "cell_type": "code",
   "execution_count": 191,
   "id": "4d2699fc",
   "metadata": {},
   "outputs": [
    {
     "data": {
      "text/plain": [
       "0"
      ]
     },
     "execution_count": 191,
     "metadata": {},
     "output_type": "execute_result"
    }
   ],
   "source": [
    "l1 = [1, 2, 3, 4, 0]\n",
    "a = min(l1)\n",
    "a"
   ]
  },
  {
   "cell_type": "code",
   "execution_count": 212,
   "id": "745560f8",
   "metadata": {},
   "outputs": [
    {
     "data": {
      "text/plain": [
       "''"
      ]
     },
     "execution_count": 212,
     "metadata": {},
     "output_type": "execute_result"
    }
   ],
   "source": [
    "a = ['a', 'ab', 'abc', 'c']\n",
    "b = []\n",
    "count2 = 0\n",
    "\n",
    "for i in range(len(a)):\n",
    "    b.append(len(a[i]))\n",
    "b = min(b)\n",
    "for j in range(b):\n",
    "    count1 = 0\n",
    "    for k in range(len(a)):\n",
    "        if a[k][j] == a[1][j]:\n",
    "            count1 += 1\n",
    "    if count1 == len(a):\n",
    "        count2 += 1\n",
    "a[0][0:count2]        "
   ]
  },
  {
   "cell_type": "code",
   "execution_count": 199,
   "id": "342358ce",
   "metadata": {},
   "outputs": [
    {
     "data": {
      "text/plain": [
       "'a'"
      ]
     },
     "execution_count": 199,
     "metadata": {},
     "output_type": "execute_result"
    }
   ],
   "source": [
    "a = 'abcd'\n",
    "a[0:1]"
   ]
  },
  {
   "cell_type": "code",
   "execution_count": 222,
   "id": "64b25b90",
   "metadata": {},
   "outputs": [
    {
     "data": {
      "text/plain": [
       "'b'"
      ]
     },
     "execution_count": 222,
     "metadata": {},
     "output_type": "execute_result"
    }
   ],
   "source": [
    "a = ['a', 'ab', 'abc']\n",
    "a[1][1]"
   ]
  },
  {
   "cell_type": "markdown",
   "id": "c11646c2",
   "metadata": {},
   "source": [
    "初步思路：遍历列表找到最短字符串，因为公共前缀长度一定不会超过最短的字符串长度。随后双层循环遍历列表前缀，找到公共前缀，最后返回一个字符串的切片"
   ]
  },
  {
   "cell_type": "code",
   "execution_count": 284,
   "id": "76e3b8a2",
   "metadata": {},
   "outputs": [],
   "source": [
    "class Solution(object):\n",
    "    def longestCommonPrefix(self, strs):\n",
    "        \"\"\"\n",
    "        :type strs: List[str]\n",
    "        :rtype: str\n",
    "        \"\"\"\n",
    "        l1 = []\n",
    "        count2 = 0\n",
    "        strlen = len(strs)\n",
    "#         print(strlen)\n",
    "        for i in range(strlen):\n",
    "            l1.append(len(strs[i]))\n",
    "#         print(l1)\n",
    "        l1 = min(l1)\n",
    "#         print(l1)\n",
    "        \n",
    "        if l1 == 0:\n",
    "            return ''\n",
    "        else:\n",
    "            for j in range(l1):\n",
    "                count1 = 0\n",
    "                for k in range(strlen):\n",
    "#                     print(f'{strs[k][j]}== {strs[0][j]}')\n",
    "                    if strs[k][j] == strs[0][j]:\n",
    "                        count1 += 1\n",
    "                if count1 == strlen:\n",
    "                    count2 += 1\n",
    "                else:\n",
    "                    break\n",
    "        \n",
    "        return strs[0][0: count2]"
   ]
  },
  {
   "cell_type": "code",
   "execution_count": 285,
   "id": "246f1e9e",
   "metadata": {},
   "outputs": [
    {
     "data": {
      "text/plain": [
       "'f'"
      ]
     },
     "execution_count": 285,
     "metadata": {},
     "output_type": "execute_result"
    }
   ],
   "source": [
    "strs = [\"f\",\"flow\",\"flight\"]\n",
    "s = Solution()\n",
    "s.longestCommonPrefix(strs)"
   ]
  },
  {
   "cell_type": "markdown",
   "id": "14f2dde4",
   "metadata": {},
   "source": [
    "bug1: 返回的并非最长前缀而是相同的字符个数"
   ]
  },
  {
   "cell_type": "markdown",
   "id": "ea02b715",
   "metadata": {},
   "source": [
    "修改：第一次count1小于列表长度的时候就返回截止到当前j的字符串切片，若对count1与列表长度\n",
    "相等的次数进行计数则返回的为相同字符个数"
   ]
  },
  {
   "cell_type": "code",
   "execution_count": 277,
   "id": "78ad4fe0",
   "metadata": {},
   "outputs": [
    {
     "data": {
      "text/plain": [
       "'ab'"
      ]
     },
     "execution_count": 277,
     "metadata": {},
     "output_type": "execute_result"
    }
   ],
   "source": [
    "'a'+'b'"
   ]
  },
  {
   "cell_type": "markdown",
   "id": "0ca08b41",
   "metadata": {},
   "source": [
    "bug2: 当最长相同前缀长度为最短字符串长度时，返回空值，主要由于修复bug1时直接写了当count1小于strlen时返回对应切片，而上述例子并不会使count1小于strlen故要再做调整"
   ]
  },
  {
   "cell_type": "markdown",
   "id": "5e1da9fc",
   "metadata": {},
   "source": [
    "**最终pass思路：首先找到列表里最短字符串长度，以此为基准对列表各字符串的字符进行遍历，从第一个字符开始逐个比较，若相等的次数等于列表长度，则count2 + 1，若不相等则直接跳出循环，最终返回\\[ 0, count2\\]的字符串切片。此外最短字符串为空时直接返回空字符串**"
   ]
  },
  {
   "cell_type": "markdown",
   "id": "749769eb",
   "metadata": {},
   "source": [
    "### 二周目"
   ]
  },
  {
   "cell_type": "code",
   "execution_count": 37,
   "id": "f99f5b20",
   "metadata": {},
   "outputs": [],
   "source": [
    "class Solution:\n",
    "    def longestCommonPrefix(self, strs: List[str]) -> str:\n",
    "        res = \"\"\n",
    "        for ch in zip(*strs):\n",
    "            if len(set(ch)) != 1: return res\n",
    "            res += ch[0]\n",
    "        return res"
   ]
  },
  {
   "cell_type": "code",
   "execution_count": 39,
   "id": "dca67004",
   "metadata": {},
   "outputs": [
    {
     "data": {
      "text/plain": [
       "''"
      ]
     },
     "execution_count": 39,
     "metadata": {},
     "output_type": "execute_result"
    }
   ],
   "source": [
    "strs = [\"\"]\n",
    "s = Solution()\n",
    "s.longestCommonPrefix(strs)"
   ]
  },
  {
   "cell_type": "markdown",
   "id": "74be90e0",
   "metadata": {},
   "source": [
    "omn 其中 m 是字符串数组中的字符串的平均长度，n 是字符串的数量。最坏情况下，字符串数组中的每个字符串的每个字符都会被比较一次。 \n",
    "\n",
    "O(n), 因为使用了set"
   ]
  },
  {
   "cell_type": "markdown",
   "id": "30d1127b",
   "metadata": {},
   "source": [
    "## 20. 有效的括号"
   ]
  },
  {
   "cell_type": "code",
   "execution_count": 287,
   "id": "b9b9c5fb",
   "metadata": {},
   "outputs": [
    {
     "data": {
      "text/plain": [
       "')}][{('"
      ]
     },
     "execution_count": 287,
     "metadata": {},
     "output_type": "execute_result"
    }
   ],
   "source": [
    "a = '({[]})'\n",
    "a[::-1]"
   ]
  },
  {
   "cell_type": "code",
   "execution_count": 309,
   "id": "dd318c70",
   "metadata": {},
   "outputs": [
    {
     "name": "stdout",
     "output_type": "stream",
     "text": [
      "{ -> 123\n",
      "[ -> 91\n",
      "( -> 40\n",
      ") -> 41\n",
      "] -> 93\n",
      "} -> 125\n"
     ]
    }
   ],
   "source": [
    "a = '{[()]}'\n",
    "for i in range(len(a)):\n",
    "    print(f'{a[i]} -> {ord(a[i])}')"
   ]
  },
  {
   "cell_type": "code",
   "execution_count": 290,
   "id": "f009119c",
   "metadata": {},
   "outputs": [
    {
     "data": {
      "text/plain": [
       "41"
      ]
     },
     "execution_count": 290,
     "metadata": {},
     "output_type": "execute_result"
    }
   ],
   "source": [
    "ord(')')"
   ]
  },
  {
   "cell_type": "code",
   "execution_count": 306,
   "id": "669374ed",
   "metadata": {},
   "outputs": [],
   "source": [
    "class Solution(object):\n",
    "    def isValid(self, s):\n",
    "        \"\"\"\n",
    "        :type s: str\n",
    "        :rtype: bool\n",
    "        \"\"\"\n",
    "        length = len(s) - 1\n",
    "        half_len = len(s)//2\n",
    "        for i in range(half_len):\n",
    "            chr1 = s[i]\n",
    "            chr2 = s[length - i]\n",
    "            if ord(chr1) - ord(chr2) <= -1:\n",
    "                continue\n",
    "            else:\n",
    "                return False\n",
    "        return True"
   ]
  },
  {
   "cell_type": "code",
   "execution_count": 308,
   "id": "d5b9065a",
   "metadata": {},
   "outputs": [
    {
     "data": {
      "text/plain": [
       "False"
      ]
     },
     "execution_count": 308,
     "metadata": {},
     "output_type": "execute_result"
    }
   ],
   "source": [
    "s = ''\n",
    "solu1 = Solution()\n",
    "solu1.isValid(s)"
   ]
  },
  {
   "cell_type": "markdown",
   "id": "c7ca7446",
   "metadata": {},
   "source": [
    "初步想法：一个完整闭合的括号集合（即从第一个左括号到第一个同类型右括号）视为一个子集，对它递归使用判断算法，判断完成后指针移动到\n",
    "系统末端向后判断下一个集合；\n",
    "如：{\\[()\\]}({})\n",
    "先判断{\\[()\\]}集合再判断({})\n",
    "具体方法为从外到内递归判断"
   ]
  },
  {
   "cell_type": "code",
   "execution_count": null,
   "id": "69933052",
   "metadata": {},
   "outputs": [],
   "source": [
    "# {[()]}({})\n",
    "# {: 123 [:91 (:40 ):41 ]:93 }:125\n",
    "class Solution(object):\n",
    "    def isValid(self, s):\n",
    "        \"\"\"\n",
    "        :type s: str\n",
    "        :rtype: bool\n",
    "        \"\"\"\n",
    "        brk_len = len(s)\n",
    "        asc = []\n",
    "        brk_dic = {123:125, 91:93, 40:41}\n",
    "        \n",
    "        for i in range(brk_len):\n",
    "            asc.append(ord(s[i]))\n",
    "        \n",
    "        while s[0] in brk_dic:\n",
    "            for i in range(brk_len):\n",
    "                if s[i] == brk_dic[s[0]]\n",
    "                \n",
    "            \n",
    "        "
   ]
  },
  {
   "cell_type": "code",
   "execution_count": 311,
   "id": "075453a6",
   "metadata": {},
   "outputs": [
    {
     "data": {
      "text/plain": [
       "True"
      ]
     },
     "execution_count": 311,
     "metadata": {},
     "output_type": "execute_result"
    }
   ],
   "source": [
    "brackets = {123:125, 91:93, 40:41}\n",
    "123 in brackets"
   ]
  },
  {
   "cell_type": "code",
   "execution_count": 312,
   "id": "8a462f5c",
   "metadata": {},
   "outputs": [
    {
     "data": {
      "text/plain": [
       "int"
      ]
     },
     "execution_count": 312,
     "metadata": {},
     "output_type": "execute_result"
    }
   ],
   "source": [
    "type(ord(')'))"
   ]
  },
  {
   "cell_type": "code",
   "execution_count": 316,
   "id": "b5b11c40",
   "metadata": {},
   "outputs": [
    {
     "name": "stdout",
     "output_type": "stream",
     "text": [
      "[123, 91, 40, 41, 93, 125]\n"
     ]
    }
   ],
   "source": [
    "a = '{[()]}'\n",
    "b = []\n",
    "for i in range(len(a)):\n",
    "    b.append(ord(a[i]))\n",
    "print(b)"
   ]
  },
  {
   "cell_type": "code",
   "execution_count": null,
   "id": "44b3cda1",
   "metadata": {},
   "outputs": [],
   "source": [
    "def brk_match(start, end):\n",
    "    while s[start] in brackets:\n",
    "        for i in range(start, end):\n",
    "                if s[i] not in brackets:\n",
    "                    if brackets[s[i-1]] == s[i]:\n",
    "                        start -= 1\n",
    "                        end += 1"
   ]
  },
  {
   "cell_type": "code",
   "execution_count": 399,
   "id": "9f212e3e",
   "metadata": {},
   "outputs": [],
   "source": [
    "# {[()]}\n",
    "class Solution(object):\n",
    "    def isValid(self, s):\n",
    "        \"\"\"\n",
    "        :type s: str\n",
    "        :rtype: bool\n",
    "        \"\"\"\n",
    "        brk1 = [40, 91, 123]  # (\n",
    "        brk2 = [41, 93, 125]  # )\n",
    "        slen = len(s)\n",
    "        asc = []\n",
    "        \n",
    "        for i in range(slen):\n",
    "            asc.append(ord(s[i]))\n",
    "#         print(asc)\n",
    "        \n",
    "        if asc[0] in brk2 or slen%2 != 0 or asc[slen-1] in brk1:\n",
    "#             print(1)\n",
    "            return False\n",
    "        else:\n",
    "            for i in range(slen):\n",
    "#                 print(2)\n",
    "                if asc[i] in brk2 :\n",
    "#                     print(3)\n",
    "                    for j in range(i-1,-1,-1):\n",
    "#                         print(f'{j} -> {asc[j]}')\n",
    "#                         print(4)\n",
    "                        if asc[j] in brk1:\n",
    "#                             print(5)\n",
    "                            if asc[i]-asc[j] > 0 and asc[i]-asc[j] < 3:\n",
    "                                asc[i]=asc[j]=0\n",
    "#                                 print(asc)\n",
    "                                break  # 表示一个括号配对完成，跳出当前循环\n",
    "                            else:\n",
    "                                return False\n",
    "                                \n",
    "        result = asc.count(asc[0])==slen\n",
    "        \n",
    "        return result\n",
    "        "
   ]
  },
  {
   "cell_type": "code",
   "execution_count": 400,
   "id": "3302f6ad",
   "metadata": {},
   "outputs": [
    {
     "data": {
      "text/plain": [
       "True"
      ]
     },
     "execution_count": 400,
     "metadata": {},
     "output_type": "execute_result"
    }
   ],
   "source": [
    "s = '{[]}'\n",
    "su = Solution()\n",
    "su.isValid(s)"
   ]
  },
  {
   "cell_type": "code",
   "execution_count": 322,
   "id": "91ce5766",
   "metadata": {},
   "outputs": [
    {
     "data": {
      "text/plain": [
       "1"
      ]
     },
     "execution_count": 322,
     "metadata": {},
     "output_type": "execute_result"
    }
   ],
   "source": [
    "9%2"
   ]
  },
  {
   "cell_type": "code",
   "execution_count": 331,
   "id": "d5ba78b2",
   "metadata": {},
   "outputs": [
    {
     "name": "stdout",
     "output_type": "stream",
     "text": [
      "6\n",
      "5\n",
      "4\n",
      "3\n",
      "2\n",
      "1\n"
     ]
    }
   ],
   "source": [
    "for i in range(6,0,-1):\n",
    "    print(i)"
   ]
  },
  {
   "cell_type": "code",
   "execution_count": 336,
   "id": "17b63f9f",
   "metadata": {},
   "outputs": [
    {
     "data": {
      "text/plain": [
       "True"
      ]
     },
     "execution_count": 336,
     "metadata": {},
     "output_type": "execute_result"
    }
   ],
   "source": [
    "bool(-888)"
   ]
  },
  {
   "cell_type": "code",
   "execution_count": 338,
   "id": "94aae507",
   "metadata": {},
   "outputs": [
    {
     "data": {
      "text/plain": [
       "False"
      ]
     },
     "execution_count": 338,
     "metadata": {},
     "output_type": "execute_result"
    }
   ],
   "source": [
    "a = [1,1,1,2]\n",
    "b = a.count(a[0]) == len(a)\n",
    "b"
   ]
  },
  {
   "cell_type": "markdown",
   "id": "e06e5c4b",
   "metadata": {},
   "source": [
    "**缺少栈相关的知识导致这题做起来异常复杂**"
   ]
  },
  {
   "cell_type": "code",
   "execution_count": 4,
   "id": "4ecd362a",
   "metadata": {},
   "outputs": [
    {
     "data": {
      "text/plain": [
       "list"
      ]
     },
     "execution_count": 4,
     "metadata": {},
     "output_type": "execute_result"
    }
   ],
   "source": [
    "s = list()\n",
    "type(s)"
   ]
  },
  {
   "cell_type": "markdown",
   "id": "dcee2e52",
   "metadata": {},
   "source": [
    "栈是含有一组对象的容器，支持快速后进先出（LIFO）的插入和删除操作。与列表或数组不同，栈通常不允许随机访问所包含的对象。插入和删除操作通常称为入栈（push）和出栈（pop）。Python的内置列表类型能在正常的时间内完成入栈和出栈操作，因此适合作为栈数据结构。"
   ]
  },
  {
   "cell_type": "code",
   "execution_count": 5,
   "id": "9abc40c9",
   "metadata": {},
   "outputs": [
    {
     "data": {
      "text/plain": [
       "[1]"
      ]
     },
     "execution_count": 5,
     "metadata": {},
     "output_type": "execute_result"
    }
   ],
   "source": [
    "s = []\n",
    "s.append(1)  # 入栈\n",
    "s"
   ]
  },
  {
   "cell_type": "code",
   "execution_count": 6,
   "id": "327cbaae",
   "metadata": {},
   "outputs": [
    {
     "data": {
      "text/plain": [
       "[]"
      ]
     },
     "execution_count": 6,
     "metadata": {},
     "output_type": "execute_result"
    }
   ],
   "source": [
    "s.pop()  # 出栈\n",
    "s"
   ]
  },
  {
   "cell_type": "code",
   "execution_count": 13,
   "id": "59bc9f4f",
   "metadata": {},
   "outputs": [
    {
     "data": {
      "text/plain": [
       "[1, 2, 3]"
      ]
     },
     "execution_count": 13,
     "metadata": {},
     "output_type": "execute_result"
    }
   ],
   "source": [
    "s = [1, 2, 3, 4]\n",
    "s.pop()\n",
    "s"
   ]
  },
  {
   "cell_type": "code",
   "execution_count": 14,
   "id": "738bf492",
   "metadata": {},
   "outputs": [
    {
     "data": {
      "text/plain": [
       "[1, 3]"
      ]
     },
     "execution_count": 14,
     "metadata": {},
     "output_type": "execute_result"
    }
   ],
   "source": [
    "s.pop(1)   # pop(index) 删除指定位置元素，默认最后一位\n",
    "s"
   ]
  },
  {
   "cell_type": "markdown",
   "id": "08d898e5",
   "metadata": {},
   "source": [
    "利用栈的思想来做这道题:\n",
    "\n",
    "遍历字符串，将遇到的左括号堆栈，遇到右括号则与栈中第一个元素匹配，匹配成功则出栈，最后判断栈是否空，若空则说明括号有效"
   ]
  },
  {
   "cell_type": "code",
   "execution_count": 29,
   "id": "b6dfae9d",
   "metadata": {},
   "outputs": [],
   "source": [
    "class Solution(object):\n",
    "    def isValid(self, s):\n",
    "        \"\"\"\n",
    "        :type s: str\n",
    "        :rtype: bool\n",
    "        \"\"\"\n",
    "        brk = {')':'(', ']':'[', '}':'{'}\n",
    "        stack = list()\n",
    "        \n",
    "        for i in range(len(s)):\n",
    "            if s[i] in brk:\n",
    "                if brk[s[i]] == stack[-1]:\n",
    "                    stack.pop()\n",
    "                    print(stack)\n",
    "                else:\n",
    "                    return False\n",
    "            else:\n",
    "                stack.append(s[i])\n",
    "                print(stack)\n",
    "        \n",
    "        return not stack"
   ]
  },
  {
   "cell_type": "code",
   "execution_count": 30,
   "id": "577cac94",
   "metadata": {},
   "outputs": [
    {
     "name": "stdout",
     "output_type": "stream",
     "text": [
      "['(']\n",
      "[]\n"
     ]
    },
    {
     "data": {
      "text/plain": [
       "True"
      ]
     },
     "execution_count": 30,
     "metadata": {},
     "output_type": "execute_result"
    }
   ],
   "source": [
    "s = '()'\n",
    "solu = Solution()\n",
    "solu.isValid(s)"
   ]
  },
  {
   "cell_type": "markdown",
   "id": "f6e0aec1",
   "metadata": {},
   "source": [
    "上述算法仍然无法针对\"}\"这种情况，因为栈为空无法查询，因此思想应该为：\n",
    "**优先判断不符合的情况而非符合的情况**，因为这样可以直接返回false值从而避免很多问题，若先进入判断符合的流程则容易产生很多没考虑到的情况"
   ]
  },
  {
   "cell_type": "code",
   "execution_count": 37,
   "id": "6168b7dc",
   "metadata": {},
   "outputs": [],
   "source": [
    "class Solution(object):\n",
    "    def isValid(self, s):\n",
    "        \"\"\"\n",
    "        :type s: str\n",
    "        :rtype: bool\n",
    "        \"\"\"\n",
    "        brk = {')':'(', ']':'[', '}':'{'}\n",
    "        stack = list()\n",
    "        \n",
    "        for i in range(len(s)):\n",
    "            if s[i] in brk:\n",
    "                if not stack or brk[s[i]] != stack[-1]: # 若栈为空或不匹配直接返回false\n",
    "                    return False\n",
    "                stack.pop()  # 进入到这里说明已经匹配\n",
    "                print(stack)\n",
    "            else:\n",
    "                stack.append(s[i])\n",
    "                print(stack)\n",
    "        \n",
    "        return not stack"
   ]
  },
  {
   "cell_type": "code",
   "execution_count": 38,
   "id": "87bc1ca4",
   "metadata": {},
   "outputs": [
    {
     "data": {
      "text/plain": [
       "False"
      ]
     },
     "execution_count": 38,
     "metadata": {},
     "output_type": "execute_result"
    }
   ],
   "source": [
    "s = ')'\n",
    "solu = Solution()\n",
    "solu.isValid(s)"
   ]
  },
  {
   "cell_type": "markdown",
   "id": "fc46f32f",
   "metadata": {},
   "source": [
    "优化：1. 可事先判断奇偶性，砍掉一半的输入 2. 遍历时可直接遍历字符串的字符而并非要用索引"
   ]
  },
  {
   "cell_type": "code",
   "execution_count": 54,
   "id": "5269514c",
   "metadata": {},
   "outputs": [
    {
     "name": "stdout",
     "output_type": "stream",
     "text": [
      "200,200\n",
      "for i in range:0.15400004386901855,for i in b:0.10792756080627441\n"
     ]
    }
   ],
   "source": [
    "import time\n",
    "\n",
    "a = [2*x for x in range(10000000)]\n",
    "\n",
    "t1 = time.time()\n",
    "for i in range(len(a)):  # 这种方法遍历更慢但可以修改内容\n",
    "    pass\n",
    "t2 = time.time()\n",
    "\n",
    "b = [2*x for x in range(10000000)]\n",
    "\n",
    "t3 = time.time()\n",
    "for i in b:    # 这种方法遍历更快但无法修改内容\n",
    "    pass\n",
    "t4 = time.time()\n",
    "\n",
    "print(f'{a[100]},{b[100]}')\n",
    "print(f'for i in range:{t2-t1},for i in b:{t4-t3}')"
   ]
  },
  {
   "cell_type": "code",
   "execution_count": 59,
   "id": "a6ca3a35",
   "metadata": {},
   "outputs": [],
   "source": [
    "class Solution(object):\n",
    "    def isValid(self, s):\n",
    "        \"\"\"\n",
    "        :type s: str\n",
    "        :rtype: bool\n",
    "        \"\"\"\n",
    "        brk = {')':'(', ']':'[', '}':'{'}\n",
    "        stack = list()\n",
    "        \n",
    "        if len(s)%2 != 0:\n",
    "            return False\n",
    "        \n",
    "        for ch in s:\n",
    "            if ch in brk:\n",
    "                if not stack or brk[ch] != stack[-1]: # 若栈为空或不匹配直接返回false\n",
    "                    return False\n",
    "                stack.pop()  # 进入到这里说明已经匹配\n",
    "#                 print(stack)\n",
    "            else:\n",
    "                stack.append(ch)\n",
    "#                 print(stack)\n",
    "        \n",
    "        return not stack"
   ]
  },
  {
   "cell_type": "code",
   "execution_count": 60,
   "id": "d3bd5291",
   "metadata": {},
   "outputs": [
    {
     "data": {
      "text/plain": [
       "True"
      ]
     },
     "execution_count": 60,
     "metadata": {},
     "output_type": "execute_result"
    }
   ],
   "source": [
    "s = '()'\n",
    "solu = Solution()\n",
    "solu.isValid(s)"
   ]
  },
  {
   "cell_type": "markdown",
   "id": "215949c7",
   "metadata": {},
   "source": [
    "### 二周目"
   ]
  },
  {
   "cell_type": "markdown",
   "id": "d556be7a",
   "metadata": {},
   "source": [
    "后出现的左括号一定先闭合，完美符合栈的定义"
   ]
  },
  {
   "cell_type": "code",
   "execution_count": 58,
   "id": "d2c585ec",
   "metadata": {},
   "outputs": [],
   "source": [
    "class Solution:\n",
    "    def isValid(self, s: str) -> bool:\n",
    "        if len(s) % 2 != 0: return False\n",
    "        dic = {\")\":\"(\", \"]\":\"[\", \"}\":\"{\"}\n",
    "        stk = []\n",
    "        for ch in s:\n",
    "            if ch in dic:\n",
    "                if not stk: return False\n",
    "                key = stk.pop()\n",
    "                if dic[ch] != key: return False\n",
    "            else: stk.append(ch)\n",
    "        return not stk"
   ]
  },
  {
   "cell_type": "code",
   "execution_count": 59,
   "id": "c628423f",
   "metadata": {},
   "outputs": [
    {
     "data": {
      "text/plain": [
       "True"
      ]
     },
     "execution_count": 59,
     "metadata": {},
     "output_type": "execute_result"
    }
   ],
   "source": [
    "strs = \"{[]}\"\n",
    "s = Solution()\n",
    "s.isValid(strs)"
   ]
  },
  {
   "cell_type": "markdown",
   "id": "3770482b",
   "metadata": {},
   "source": [
    "## 21.合并两个有序链表"
   ]
  },
  {
   "cell_type": "code",
   "execution_count": null,
   "id": "7c6d4d87",
   "metadata": {},
   "outputs": [],
   "source": [
    "# Definition for singly-linked list.\n",
    "# class ListNode(object):\n",
    "#     def __init__(self, val=0, next=None):\n",
    "#         self.val = val\n",
    "#         self.next = next\n",
    "class Solution(object):\n",
    "    def mergeTwoLists(self, list1, list2):\n",
    "        \"\"\"\n",
    "        :type list1: Optional[ListNode]\n",
    "        :type list2: Optional[ListNode]\n",
    "        :rtype: Optional[ListNode]\n",
    "        \"\"\"\n",
    "        "
   ]
  },
  {
   "cell_type": "code",
   "execution_count": 87,
   "id": "9b901e7c",
   "metadata": {},
   "outputs": [
    {
     "data": {
      "text/plain": [
       "3"
      ]
     },
     "execution_count": 87,
     "metadata": {},
     "output_type": "execute_result"
    }
   ],
   "source": [
    "# Definition for singly-linked list.\n",
    "class ListNode(object):\n",
    "    def __init__(self, val=0, next=None):\n",
    "        self.val = val\n",
    "        self.next = next\n",
    "l1_3 = ListNode(4,None)\n",
    "l1_2 = ListNode(2, l1_3)\n",
    "l1_1 = ListNode(1,l1_2)\n",
    "\n",
    "i = l1_1\n",
    "count = 0\n",
    "while i != None:\n",
    "    i = i.next\n",
    "    count += 1\n",
    "count"
   ]
  },
  {
   "cell_type": "code",
   "execution_count": 81,
   "id": "a0776e37",
   "metadata": {},
   "outputs": [
    {
     "data": {
      "text/plain": [
       "1"
      ]
     },
     "execution_count": 81,
     "metadata": {},
     "output_type": "execute_result"
    }
   ],
   "source": [
    "l1.val"
   ]
  },
  {
   "cell_type": "markdown",
   "id": "a3065ad3",
   "metadata": {},
   "source": [
    "才搞懂题目意思：预先定义了链表数据类型ListNode，含两个属性val与next，其中val代表当前节点的值，next指向下一节点，函数返回值为第一节点即可，而并非列表数据类型"
   ]
  },
  {
   "cell_type": "code",
   "execution_count": 171,
   "id": "029afe10",
   "metadata": {},
   "outputs": [],
   "source": [
    "# Definition for singly-linked list.\n",
    "# class ListNode(object):\n",
    "#     def __init__(self, val=0, next=None):\n",
    "#         self.val = val\n",
    "#         self.next = next\n",
    "class Solution(object):\n",
    "    def mergeTwoLists(self, list1, list2):\n",
    "        \"\"\"\n",
    "        :type list1: Optional[ListNode]\n",
    "        :type list2: Optional[ListNode]\n",
    "        :rtype: Optional[ListNode]\n",
    "        \"\"\"\n",
    "        prenode = pre = ListNode()\n",
    "        \n",
    "        while list1 and list2:\n",
    "            if list1.val <= list2.val:\n",
    "                prenode.next = list1\n",
    "                list1 = list1.next\n",
    "            else:\n",
    "                prenode.next = list2\n",
    "                list2 = list2.next\n",
    "                \n",
    "            prenode = prenode.next\n",
    "        \n",
    "        prenode.next = list2 if list1 == None else list1\n",
    "        \n",
    "        return pre.next"
   ]
  },
  {
   "cell_type": "code",
   "execution_count": 179,
   "id": "d18e8b06",
   "metadata": {},
   "outputs": [],
   "source": [
    "l1_3 = ListNode(4,None)\n",
    "l1_2 = ListNode(2, l1_3)\n",
    "l1_1 = ListNode(1,l1_2)\n",
    "\n",
    "l2_3 = ListNode(4,None)\n",
    "l2_2 = ListNode(3, l2_3)\n",
    "l2_1 = ListNode(1,l2_2)"
   ]
  },
  {
   "cell_type": "code",
   "execution_count": 173,
   "id": "91ccab62",
   "metadata": {},
   "outputs": [
    {
     "name": "stdout",
     "output_type": "stream",
     "text": [
      "1\n",
      "1\n",
      "2\n",
      "3\n",
      "4\n",
      "4\n"
     ]
    }
   ],
   "source": [
    "s = Solution()\n",
    "a = s.mergeTwoLists(l1_1,l2_1)\n",
    "while a:\n",
    "    print(a.val)\n",
    "    a = a.next"
   ]
  },
  {
   "cell_type": "markdown",
   "id": "714210b8",
   "metadata": {},
   "source": [
    "递归做法：无法理解"
   ]
  },
  {
   "cell_type": "code",
   "execution_count": 9,
   "id": "28820f1b",
   "metadata": {},
   "outputs": [],
   "source": [
    "class Solution:\n",
    "    def mergeTwoLists(self, l1: ListNode, l2: ListNode) -> ListNode:\n",
    "        if not l1: return l2  # 终止条件，直到两个链表都空\n",
    "        if not l2: return l1\n",
    "        if l1.val <= l2.val:  # 递归调用\n",
    "            l1.next = self.mergeTwoLists(l1.next,l2)\n",
    "            return l1\n",
    "        else:\n",
    "            l2.next = self.mergeTwoLists(l1,l2.next)\n",
    "            return l2"
   ]
  },
  {
   "cell_type": "code",
   "execution_count": 10,
   "id": "ed4f7f83",
   "metadata": {},
   "outputs": [
    {
     "name": "stdout",
     "output_type": "stream",
     "text": [
      "1\n",
      "1\n",
      "2\n",
      "3\n",
      "4\n",
      "4\n"
     ]
    }
   ],
   "source": [
    "l1_3 = ListNode(4,None)\n",
    "l1_2 = ListNode(2, l1_3)\n",
    "l1_1 = ListNode(1,l1_2)\n",
    "\n",
    "l2_3 = ListNode(4,None)\n",
    "l2_2 = ListNode(3, l2_3)\n",
    "l2_1 = ListNode(1,l2_2)\n",
    "\n",
    "s = Solution()\n",
    "a = s.mergeTwoLists(l1_1,l2_1)\n",
    "while a:\n",
    "    print(a.val)\n",
    "    a = a.next"
   ]
  },
  {
   "cell_type": "markdown",
   "id": "8e1ce996-b584-400f-b2ac-c895a14ac77d",
   "metadata": {},
   "source": [
    "### 二周目"
   ]
  },
  {
   "cell_type": "code",
   "execution_count": 2,
   "id": "95367365-09de-448d-acc5-c47cbbd6098e",
   "metadata": {},
   "outputs": [],
   "source": [
    "# Definition for singly-linked list.\n",
    "class ListNode:\n",
    "    def __init__(self, val=0, next=None):\n",
    "        self.val = val\n",
    "        self.next = next"
   ]
  },
  {
   "cell_type": "markdown",
   "id": "7a518c8f-9745-4b76-8597-c311d168711a",
   "metadata": {},
   "source": [
    "#### 1. 双指针"
   ]
  },
  {
   "cell_type": "markdown",
   "id": "795e28b9-35b1-41f9-b06c-3e13a81cedca",
   "metadata": {},
   "source": [
    "创建一个哑节点与一个指示目前位置的指针，同时遍历两个链表，每次都连接较小的那个数字，直到某一链表遍历完；再在指针尾部连接上未遍历完的链表。"
   ]
  },
  {
   "cell_type": "code",
   "execution_count": 6,
   "id": "7e46c954-a65c-443f-8900-f605fe45adb6",
   "metadata": {},
   "outputs": [],
   "source": [
    "from typing import Optional\n",
    "class Solution:\n",
    "    def mergeTwoLists(self, list1: Optional[ListNode], list2: Optional[ListNode]) -> Optional[ListNode]:\n",
    "        head = cur = ListNode()\n",
    "        while list1 and list2:\n",
    "            if list1.val <= list2.val:\n",
    "                cur.next = list1\n",
    "                list1 = list1.next\n",
    "            else: \n",
    "                cur.next = list2\n",
    "                list2 = list2.next\n",
    "            cur = cur.next\n",
    "        \n",
    "        cur.next = list1 if list1 else list2\n",
    "        \n",
    "        return head.next"
   ]
  },
  {
   "cell_type": "markdown",
   "id": "a704a377-5561-4056-9674-7e45c4563dd8",
   "metadata": {},
   "source": [
    "#### 2. 递归"
   ]
  },
  {
   "cell_type": "markdown",
   "id": "7c3978c0-851d-4773-873f-17397b37fdfd",
   "metadata": {},
   "source": [
    "函数返回连接之后的头"
   ]
  },
  {
   "cell_type": "code",
   "execution_count": 11,
   "id": "ab53d2e3-3c41-47a9-ba8d-73336f6e3eba",
   "metadata": {},
   "outputs": [],
   "source": [
    "class Solution:\n",
    "    def mergeTwoLists(self, list1: Optional[ListNode], list2: Optional[ListNode]) -> Optional[ListNode]:\n",
    "        if not list1: return list2\n",
    "        if not list2: return list1\n",
    "        if list1.val <= list2.val:\n",
    "            list1.next = self.mergeTwoLists(list1.next, list2)\n",
    "            return list1\n",
    "        list2.next = self.mergeTwoLists(list1, list2.next)\n",
    "        return list2"
   ]
  },
  {
   "cell_type": "markdown",
   "id": "af410dff",
   "metadata": {},
   "source": [
    "## 26. 删除有序数组中的重复项"
   ]
  },
  {
   "cell_type": "markdown",
   "id": "ceff55f0",
   "metadata": {},
   "source": [
    "**快慢指针问题**"
   ]
  },
  {
   "cell_type": "code",
   "execution_count": 185,
   "id": "fdd17bcd",
   "metadata": {},
   "outputs": [
    {
     "data": {
      "text/plain": [
       "{1, 2}"
      ]
     },
     "execution_count": 185,
     "metadata": {},
     "output_type": "execute_result"
    }
   ],
   "source": [
    "set((1,1,2))"
   ]
  },
  {
   "cell_type": "code",
   "execution_count": 186,
   "id": "a1809bf3",
   "metadata": {},
   "outputs": [
    {
     "data": {
      "text/plain": [
       "2195209060104"
      ]
     },
     "execution_count": 186,
     "metadata": {},
     "output_type": "execute_result"
    }
   ],
   "source": [
    "a = [1, 1, 2]\n",
    "id(a)"
   ]
  },
  {
   "cell_type": "code",
   "execution_count": 187,
   "id": "603d3f00",
   "metadata": {},
   "outputs": [
    {
     "data": {
      "text/plain": [
       "2195971476616"
      ]
     },
     "execution_count": 187,
     "metadata": {},
     "output_type": "execute_result"
    }
   ],
   "source": [
    "b = set(a)\n",
    "id(b)"
   ]
  },
  {
   "cell_type": "code",
   "execution_count": 267,
   "id": "28e2504c",
   "metadata": {},
   "outputs": [],
   "source": [
    "class Solution(object):\n",
    "    def removeDuplicates(self, nums):\n",
    "        \"\"\"\n",
    "        :type nums: List[int]\n",
    "        :rtype: int\n",
    "        \"\"\"\n",
    "        num1 = nums[0]\n",
    "        count = 1\n",
    "        i = 0\n",
    "        j = 1\n",
    "        for n in nums:\n",
    "            if n != num1:\n",
    "                count += 1\n",
    "                num1 = n\n",
    "#         print(count)\n",
    "        \n",
    "        count1 = 0\n",
    "        count2 = len(nums)-count\n",
    "        while count1 < count2:\n",
    "            if nums[j] != nums[i]:\n",
    "                i += 1\n",
    "                j += 1\n",
    "            else:\n",
    "                nums.pop(j)\n",
    "                count1 += 1\n",
    "        return count"
   ]
  },
  {
   "cell_type": "code",
   "execution_count": 268,
   "id": "b427a668",
   "metadata": {},
   "outputs": [
    {
     "data": {
      "text/plain": [
       "1"
      ]
     },
     "execution_count": 268,
     "metadata": {},
     "output_type": "execute_result"
    }
   ],
   "source": [
    "nums = [0,0,0,0,0,0,0]\n",
    "# print(id(nums))\n",
    "s = Solution()\n",
    "s.removeDuplicates(nums)\n",
    "# print(f'{nums},{id(nums)}')"
   ]
  },
  {
   "cell_type": "markdown",
   "id": "43fce23b",
   "metadata": {},
   "source": [
    "用时有点久，应该是pop的锅，优化一下"
   ]
  },
  {
   "cell_type": "code",
   "execution_count": 285,
   "id": "1eb843d9",
   "metadata": {},
   "outputs": [],
   "source": [
    "class Solution(object):\n",
    "    def removeDuplicates(self, nums):\n",
    "        \"\"\"\n",
    "        :type nums: List[int]\n",
    "        :rtype: int\n",
    "        \"\"\"\n",
    "        nlen = len(nums)\n",
    "        sp = fp = 1\n",
    "\n",
    "        if not nums:\n",
    "            return 0\n",
    "        \n",
    "        while fp < nlen:\n",
    "            if nums[fp] != nums[fp-1]:\n",
    "                nums[sp] = nums[fp]\n",
    "                sp += 1\n",
    "                fp += 1\n",
    "            else: fp += 1\n",
    "        \n",
    "        return sp"
   ]
  },
  {
   "cell_type": "code",
   "execution_count": 288,
   "id": "ac437e89",
   "metadata": {},
   "outputs": [
    {
     "data": {
      "text/plain": [
       "4"
      ]
     },
     "execution_count": 288,
     "metadata": {},
     "output_type": "execute_result"
    }
   ],
   "source": [
    "nums = [0,0,1,1,1,2,2,3,3,3,3,3]\n",
    "# print(id(nums))\n",
    "s = Solution()\n",
    "s.removeDuplicates(nums)\n",
    "# print(f'{nums},{id(nums)}')"
   ]
  },
  {
   "cell_type": "markdown",
   "id": "e7262771",
   "metadata": {},
   "source": [
    "优化到最后发现就是快慢指针为最优解"
   ]
  },
  {
   "cell_type": "markdown",
   "id": "a84a96e6",
   "metadata": {},
   "source": [
    "## 27. 移除元素"
   ]
  },
  {
   "cell_type": "markdown",
   "id": "5af58325",
   "metadata": {},
   "source": [
    "感觉和上一题思路有些类似，最优解应为前后快慢指针"
   ]
  },
  {
   "cell_type": "code",
   "execution_count": 323,
   "id": "3737a5d9",
   "metadata": {},
   "outputs": [],
   "source": [
    "class Solution(object):\n",
    "    def removeElement(self, nums, val):\n",
    "        \"\"\"\n",
    "        :type nums: List[int]\n",
    "        :type val: int\n",
    "        :rtype: int\n",
    "        \"\"\"\n",
    "        l = len(nums)\n",
    "        fp = 0\n",
    "        sp = l - 1\n",
    "        \n",
    "        while sp > fp:\n",
    "            while nums[sp] == val and sp > 0:\n",
    "                sp -= 1\n",
    "            for i in range(fp, sp):\n",
    "                if nums[fp] != val:\n",
    "                    fp += 1\n",
    "                else:\n",
    "                    nums[fp], nums[sp] = nums[sp], nums[fp]\n",
    "                    fp += 1\n",
    "                    sp -= 1\n",
    "                    break\n",
    "        count = 0\n",
    "        for i in range(l):\n",
    "            if nums[i] != val:\n",
    "                count += 1\n",
    "                \n",
    "        return count"
   ]
  },
  {
   "cell_type": "code",
   "execution_count": 325,
   "id": "1c8669a4",
   "metadata": {},
   "outputs": [
    {
     "data": {
      "text/plain": [
       "0"
      ]
     },
     "execution_count": 325,
     "metadata": {},
     "output_type": "execute_result"
    }
   ],
   "source": [
    "nums = [3,3]\n",
    "\n",
    "s = Solution()\n",
    "s.removeElement(nums, 3)"
   ]
  },
  {
   "cell_type": "markdown",
   "id": "ea7a56cd",
   "metadata": {},
   "source": [
    "## 28. 字符串匹配"
   ]
  },
  {
   "cell_type": "markdown",
   "id": "ee7b8b31",
   "metadata": {},
   "source": [
    "死去的数据结构记忆突然开始攻击我，隐约知道有kmp算法但还是先写暴力法"
   ]
  },
  {
   "cell_type": "code",
   "execution_count": 361,
   "id": "7024d93a",
   "metadata": {},
   "outputs": [],
   "source": [
    "def strStr(haystack, needle):\n",
    "        \"\"\"\n",
    "        :type haystack: str\n",
    "        :type needle: str\n",
    "        :rtype: int\n",
    "        \"\"\"\n",
    "        if not needle or not haystack:\n",
    "            return 0\n",
    "        \n",
    "        for i in range(len(haystack)-len(needle)+1):\n",
    "            count = 0\n",
    "            for j in range(len(needle)):\n",
    "                if haystack[i+j] != needle[j]:\n",
    "                    break\n",
    "                else: count += 1\n",
    "            if count == len(needle): return i\n",
    "        return -1"
   ]
  },
  {
   "cell_type": "code",
   "execution_count": 362,
   "id": "cc9f24a6",
   "metadata": {},
   "outputs": [
    {
     "data": {
      "text/plain": [
       "1"
      ]
     },
     "execution_count": 362,
     "metadata": {},
     "output_type": "execute_result"
    }
   ],
   "source": [
    "haystack = \"abbb\"\n",
    "needle = \"b\"\n",
    "strStr(haystack, needle)"
   ]
  },
  {
   "cell_type": "code",
   "execution_count": 350,
   "id": "6478b226",
   "metadata": {},
   "outputs": [
    {
     "data": {
      "text/plain": [
       "0"
      ]
     },
     "execution_count": 350,
     "metadata": {},
     "output_type": "execute_result"
    }
   ],
   "source": [
    "for i in range(5):\n",
    "    break\n",
    "i"
   ]
  },
  {
   "cell_type": "markdown",
   "id": "841d9551",
   "metadata": {},
   "source": [
    "kmp算法：再议"
   ]
  },
  {
   "cell_type": "code",
   "execution_count": null,
   "id": "6058feb8",
   "metadata": {},
   "outputs": [],
   "source": []
  }
 ],
 "metadata": {
  "kernelspec": {
   "display_name": "Python 3 (ipykernel)",
   "language": "python",
   "name": "python3"
  },
  "language_info": {
   "codemirror_mode": {
    "name": "ipython",
    "version": 3
   },
   "file_extension": ".py",
   "mimetype": "text/x-python",
   "name": "python",
   "nbconvert_exporter": "python",
   "pygments_lexer": "ipython3",
   "version": "3.6.3"
  },
  "toc-autonumbering": false,
  "toc-showcode": false,
  "toc-showmarkdowntxt": false
 },
 "nbformat": 4,
 "nbformat_minor": 5
}
