{
 "cells": [
  {
   "cell_type": "markdown",
   "id": "c5df96cd-a683-4b71-8e67-787bcbe62df6",
   "metadata": {},
   "source": [
    "## P1002"
   ]
  },
  {
   "cell_type": "code",
   "execution_count": 6,
   "id": "ec02083c-9e12-4494-9880-7d8665fd74b6",
   "metadata": {},
   "outputs": [],
   "source": [
    "def solution(inputs):\n",
    "    def dfs(x, y):\n",
    "        if x == n and y == m: return 1\n",
    "        ans = 0\n",
    "        for dx, dy in ((1, 0), (0, 1)):\n",
    "            nx, ny = x + dx, y + dy\n",
    "            if 0 <= nx <= n and 0 <= ny <= m:\n",
    "                if (nx, ny) not in banned:\n",
    "                    ans += dfs(nx, ny)\n",
    "        return ans\n",
    "    \n",
    "    s = inputs.split(\" \")\n",
    "    s = [int(n) for n in s]\n",
    "    n, m, hx, hy = s\n",
    "    banned = []\n",
    "    for i in (-1, 1, -2, 2):\n",
    "        for j in (-1, 1, -2, 2):\n",
    "            if abs(i) != abs(j):\n",
    "                banned.append((hx + i, hy + j))\n",
    "    banned = set(banned)\n",
    "    \n",
    "    return dfs(0, 0)"
   ]
  },
  {
   "cell_type": "code",
   "execution_count": 8,
   "id": "e3c83316-c909-48e6-92ec-20af3f814495",
   "metadata": {},
   "outputs": [
    {
     "name": "stdin",
     "output_type": "stream",
     "text": [
      " 6 6 3 3\n"
     ]
    },
    {
     "name": "stdout",
     "output_type": "stream",
     "text": [
      "6 6 3 3\n"
     ]
    },
    {
     "data": {
      "text/plain": [
       "10"
      ]
     },
     "execution_count": 8,
     "metadata": {},
     "output_type": "execute_result"
    }
   ],
   "source": [
    "solution(input())"
   ]
  },
  {
   "cell_type": "code",
   "execution_count": 14,
   "id": "e839e6e4-3f9a-4937-ae45-7ccfc784f708",
   "metadata": {},
   "outputs": [
    {
     "name": "stdin",
     "output_type": "stream",
     "text": [
      " 20 20 3 3\n"
     ]
    },
    {
     "name": "stdout",
     "output_type": "stream",
     "text": [
      "4951934730\n"
     ]
    }
   ],
   "source": [
    "def dfs(x, y):\n",
    "    if (x, y) in memo: return memo[(x, y)]\n",
    "    if x == n and y == m: return 1\n",
    "    ans = 0\n",
    "    for dx, dy in ((1, 0), (0, 1)):\n",
    "        nx, ny = x + dx, y + dy\n",
    "        if 0 <= nx <= n and 0 <= ny <= m:\n",
    "            if (nx, ny) not in banned:\n",
    "                ans += dfs(nx, ny)\n",
    "    memo[(x, y)] = ans\n",
    "    return ans\n",
    "\n",
    "s = input().split(\" \"); s = [int(n) for n in s]\n",
    "n, m, hx, hy = s\n",
    "\n",
    "banned = [(hx, hy)]\n",
    "for i in (-1, 1, -2, 2):\n",
    "    for j in (-1, 1, -2, 2):\n",
    "        if abs(i) != abs(j):\n",
    "            banned.append((hx + i, hy + j))\n",
    "banned = set(banned)\n",
    "memo = {}\n",
    "print(dfs(0, 0))"
   ]
  },
  {
   "cell_type": "markdown",
   "id": "f7ac2f2a-fe51-4b7e-b55c-2939bdd93c6d",
   "metadata": {},
   "source": [
    "## P1003"
   ]
  },
  {
   "cell_type": "code",
   "execution_count": 20,
   "id": "6759c7d3-375f-413d-b25b-7b2a98113fc8",
   "metadata": {},
   "outputs": [
    {
     "name": "stdin",
     "output_type": "stream",
     "text": [
      " 3\n",
      " 1 0 2 3\n",
      " 0 2 3 3\n",
      " 2 1 3 3\n",
      " 2 2\n"
     ]
    },
    {
     "name": "stdout",
     "output_type": "stream",
     "text": [
      "3\n"
     ]
    }
   ],
   "source": [
    "def solution(x, y):\n",
    "    ans = -1\n",
    "    for i, (a, b, g, k) in enumerate(res):\n",
    "        if a <= x <= a + g and b <= y <= b + k:\n",
    "            ans = i + 1\n",
    "    return ans\n",
    "\n",
    "res = []\n",
    "for i in range(int(input())):\n",
    "    cur = input().split(\" \")\n",
    "    cur = tuple(int(n) for n in cur)\n",
    "    res.append(cur)\n",
    "\n",
    "s = input().split(\" \")\n",
    "x, y = int(s[0]), int(s[-1])\n",
    "print(solution(x, y))"
   ]
  },
  {
   "cell_type": "markdown",
   "id": "b9d3a874-e084-47d2-8274-b188d4a2f98a",
   "metadata": {},
   "source": [
    "## P1004"
   ]
  },
  {
   "cell_type": "code",
   "execution_count": 61,
   "id": "80b14ce4-cb38-41f9-bc97-e68e28c47898",
   "metadata": {},
   "outputs": [
    {
     "name": "stdin",
     "output_type": "stream",
     "text": [
      " 0\n",
      " 0 0 0\n"
     ]
    },
    {
     "name": "stdout",
     "output_type": "stream",
     "text": [
      "0\n"
     ]
    }
   ],
   "source": [
    "from collections import defaultdict\n",
    "\n",
    "def solution():\n",
    "    ans = 0\n",
    "    # 第一遍\n",
    "    dp = [[0] * (N + 1) for _ in range(N + 1)]\n",
    "    path = [[set() for _ in range(N + 1)] for _ in range(N + 1)]\n",
    "    for i in range(N + 1):\n",
    "        for j in range(N + 1):\n",
    "            if (i, j) in val:\n",
    "                path[i][j].add((i, j))\n",
    "    # print(path)\n",
    "\n",
    "    for i in range(1, N + 1):\n",
    "        for j in range(1, N + 1):\n",
    "            dp[i][j] = val[(i, j)]\n",
    "            if dp[i - 1][j] >= dp[i][j - 1]:\n",
    "                dp[i][j] += dp[i - 1][j]\n",
    "                path[i][j] |= path[i - 1][j]\n",
    "            elif dp[i][j - 1] > dp[i - 1][j]:\n",
    "                dp[i][j] += dp[i][j - 1]\n",
    "                path[i][j] |= path[i][j - 1]\n",
    "    \n",
    "    # print(path)\n",
    "    # print(dp)\n",
    "    ans += dp[-1][-1]\n",
    "    for key in path[-1][-1]:\n",
    "        del(val[key])\n",
    "    \n",
    "    # 第二遍\n",
    "    dp = [[0] * (N + 1) for _ in range(N + 1)]\n",
    "    for i in range(1, N + 1):\n",
    "        for j in range(1, N + 1):\n",
    "            dp[i][j] = max(dp[i - 1][j], dp[i][j - 1]) + val[(i, j)]\n",
    "    \n",
    "    # print(dp)\n",
    "    ans += dp[-1][-1]\n",
    "    \n",
    "    print(ans)\n",
    "\n",
    "\n",
    "N = int(input())\n",
    "val = defaultdict(int)\n",
    "\n",
    "while True:\n",
    "    s = input().split(\" \")\n",
    "    if s[0] == s[1] == s[2] == \"0\": break\n",
    "    val[(int(s[0]), int(s[1]))] = int(s[2])\n",
    "\n",
    "solution()  "
   ]
  },
  {
   "cell_type": "code",
   "execution_count": 64,
   "id": "c723fbf4-6cfc-4e36-9c06-e91a4bb400e1",
   "metadata": {},
   "outputs": [
    {
     "data": {
      "text/plain": [
       "['2', '3', '', '13']"
      ]
     },
     "execution_count": 64,
     "metadata": {},
     "output_type": "execute_result"
    }
   ],
   "source": [
    "res"
   ]
  },
  {
   "cell_type": "code",
   "execution_count": null,
   "id": "496eac27-ad42-40e1-a79a-fffde8e422b6",
   "metadata": {},
   "outputs": [],
   "source": []
  },
  {
   "cell_type": "code",
   "execution_count": null,
   "id": "deefe352-c440-4aad-98df-7b7386d86f21",
   "metadata": {},
   "outputs": [],
   "source": []
  },
  {
   "cell_type": "code",
   "execution_count": null,
   "id": "4a831561-100b-473b-b47c-281249f59227",
   "metadata": {},
   "outputs": [],
   "source": []
  },
  {
   "cell_type": "code",
   "execution_count": null,
   "id": "fffb1ea5-2425-49ba-ae96-13ed0fc01b88",
   "metadata": {},
   "outputs": [],
   "source": []
  },
  {
   "cell_type": "code",
   "execution_count": null,
   "id": "82888b47-c711-4e95-8cfe-5e7dd4682707",
   "metadata": {},
   "outputs": [],
   "source": []
  },
  {
   "cell_type": "code",
   "execution_count": null,
   "id": "ccd2ad7a-5849-4887-8c79-b25c62f77590",
   "metadata": {},
   "outputs": [],
   "source": []
  },
  {
   "cell_type": "code",
   "execution_count": null,
   "id": "d2efadf0-1ddb-4a09-9599-4c01e7a9b4d2",
   "metadata": {},
   "outputs": [],
   "source": []
  },
  {
   "cell_type": "code",
   "execution_count": null,
   "id": "9425e89c-7f44-4b4a-8c9e-edb973a5e0d8",
   "metadata": {},
   "outputs": [],
   "source": []
  }
 ],
 "metadata": {
  "kernelspec": {
   "display_name": "Python 3 (ipykernel)",
   "language": "python",
   "name": "python3"
  },
  "language_info": {
   "codemirror_mode": {
    "name": "ipython",
    "version": 3
   },
   "file_extension": ".py",
   "mimetype": "text/x-python",
   "name": "python",
   "nbconvert_exporter": "python",
   "pygments_lexer": "ipython3",
   "version": "3.6.3"
  }
 },
 "nbformat": 4,
 "nbformat_minor": 5
}
