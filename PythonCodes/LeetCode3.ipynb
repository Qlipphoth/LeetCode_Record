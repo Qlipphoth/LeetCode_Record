{
 "cells": [
  {
   "cell_type": "markdown",
   "id": "839a885f",
   "metadata": {},
   "source": [
    "## 593. 有效的正方形"
   ]
  },
  {
   "cell_type": "code",
   "execution_count": 10,
   "id": "9fdb0bc0",
   "metadata": {},
   "outputs": [],
   "source": [
    "class Solution(object):\n",
    "    def validSquare(self, p1, p2, p3, p4):\n",
    "        \"\"\"\n",
    "        :type p1: List[int]\n",
    "        :type p2: List[int]\n",
    "        :type p3: List[int]\n",
    "        :type p4: List[int]\n",
    "        :rtype: bool\n",
    "        \"\"\"\n",
    "        res = []\n",
    "        def distance(a,b):\n",
    "            return pow((a[0]-b[0])**2 + (a[1]-b[1])**2, 0.5)\n",
    "        \n",
    "        res.append(distance(p1,p2))\n",
    "        res.append(distance(p1,p3))\n",
    "        res.append(distance(p1,p4))\n",
    "        res.append(distance(p2,p3))\n",
    "        res.append(distance(p2,p4))\n",
    "        res.append(distance(p3,p4))\n",
    "        \n",
    "        res.sort()\n",
    "        \n",
    "        if res[0]==res[3] and res[4]==res[5] and res[0] != res[5]:\n",
    "            return True\n",
    "        else: return False"
   ]
  },
  {
   "cell_type": "code",
   "execution_count": 11,
   "id": "a18691b0",
   "metadata": {},
   "outputs": [
    {
     "data": {
      "text/plain": [
       "True"
      ]
     },
     "execution_count": 11,
     "metadata": {},
     "output_type": "execute_result"
    }
   ],
   "source": [
    "s = Solution()\n",
    "p1 = [0,0]\n",
    "p2 = [1,1]\n",
    "p3 = [1,0]\n",
    "p4 = [0,1]\n",
    "s.validSquare(p1,p2,p3,p4)"
   ]
  },
  {
   "cell_type": "markdown",
   "id": "7aaffdf9",
   "metadata": {},
   "source": [
    "## 1462. 课程表IV"
   ]
  },
  {
   "cell_type": "code",
   "execution_count": null,
   "id": "762ad313",
   "metadata": {},
   "outputs": [],
   "source": [
    "class Solution(object):\n",
    "    def checkIfPrerequisite(self, numCourses, prerequisites, queries):\n",
    "        \"\"\"\n",
    "        :type numCourses: int\n",
    "        :type prerequisites: List[List[int]]\n",
    "        :type queries: List[List[int]]\n",
    "        :rtype: List[bool]\n",
    "        \"\"\"\n",
    "        keys = []\n",
    "        vals = []\n",
    "        res = []\n",
    "        queue = []\n",
    "        for p in prerequisites:\n",
    "            keys.append(p[0])\n",
    "            vals.append(p[1])\n",
    "            \n",
    "        def check(que):\n",
    "            if que[1] not in val:\n",
    "                return False\n",
    "            \n",
    "        \n",
    "        for query in queries:\n",
    "            if query in prerequisites:\n",
    "                res.append(True)\n",
    "            else:\n",
    "                "
   ]
  },
  {
   "cell_type": "markdown",
   "id": "31767d35",
   "metadata": {},
   "source": [
    "递归寻找过程：\n",
    "1. 重复问题：查询query是否在prerequisites中\n",
    "2. 终止条件：query\\[1\\]   not   in   prerequisites\\[1\\]"
   ]
  },
  {
   "cell_type": "code",
   "execution_count": 17,
   "id": "3035fa4d",
   "metadata": {},
   "outputs": [
    {
     "data": {
      "text/plain": [
       "[[], [], [], [], []]"
      ]
     },
     "execution_count": 17,
     "metadata": {},
     "output_type": "execute_result"
    }
   ],
   "source": [
    "a = [[] for _ in range(5)]\n",
    "a"
   ]
  },
  {
   "cell_type": "code",
   "execution_count": 24,
   "id": "b17c2842",
   "metadata": {},
   "outputs": [
    {
     "data": {
      "text/plain": [
       "[[1], [2], [3], [4], []]"
      ]
     },
     "execution_count": 24,
     "metadata": {},
     "output_type": "execute_result"
    }
   ],
   "source": [
    "prerequisites = [[0,1],[1,2],[2,3],[3,4]]\n",
    "gra = [[] for _ in range(5)]\n",
    "for key,value in prerequisites:\n",
    "    gra[key].append(value)\n",
    "gra"
   ]
  },
  {
   "cell_type": "code",
   "execution_count": 46,
   "id": "e8aed101",
   "metadata": {},
   "outputs": [],
   "source": [
    "class Solution(object):\n",
    "    def checkIfPrerequisite(self, numCourses, prerequisites, queries):\n",
    "        \"\"\"\n",
    "        :type numCourses: int\n",
    "        :type prerequisites: List[List[int]]\n",
    "        :type queries: List[List[int]]\n",
    "        :rtype: List[bool]\n",
    "        \"\"\"\n",
    "        # 建立邻接列表\n",
    "        adjlist = [[] for _ in range(numCourses)]\n",
    "        for key,value in prerequisites:\n",
    "            adjlist[key].append(value)\n",
    "        # 递归遍历\n",
    "        def dfs(start, target):  # 由于此题图中无环故不用记录是否访问过某节点\n",
    "            if start == target:\n",
    "                return True\n",
    "            judge = False\n",
    "            if adjlist[start]:\n",
    "                for cur in adjlist[start]:\n",
    "                    judge = judge or dfs(cur,target)\n",
    "            return judge\n",
    "        \n",
    "        res = []\n",
    "        for query in queries:\n",
    "            res.append(dfs(query[0],query[1]))\n",
    "            \n",
    "        return res"
   ]
  },
  {
   "cell_type": "code",
   "execution_count": 47,
   "id": "ef6cdc9c",
   "metadata": {},
   "outputs": [
    {
     "data": {
      "text/plain": [
       "[True, True]"
      ]
     },
     "execution_count": 47,
     "metadata": {},
     "output_type": "execute_result"
    }
   ],
   "source": [
    "s = Solution()\n",
    "numCourses = 3\n",
    "prerequisites = [[1,2],[1,0],[2,0]]\n",
    "queries = [[1,0],[1,2]]\n",
    "s.checkIfPrerequisite(numCourses,prerequisites,queries)"
   ]
  },
  {
   "cell_type": "markdown",
   "id": "2e270695",
   "metadata": {},
   "source": [
    "**超时了，再议**"
   ]
  },
  {
   "cell_type": "markdown",
   "id": "a5820dd8",
   "metadata": {},
   "source": [
    "# 新手村的题目"
   ]
  },
  {
   "cell_type": "markdown",
   "id": "485831b7",
   "metadata": {},
   "source": [
    "## 1480. 一维数组的动态和"
   ]
  },
  {
   "cell_type": "code",
   "execution_count": 8,
   "id": "ab032147",
   "metadata": {},
   "outputs": [],
   "source": [
    "class Solution(object):\n",
    "    def runningSum(self, nums):\n",
    "        \"\"\"\n",
    "        :type nums: List[int]\n",
    "        :rtype: List[int]\n",
    "        \"\"\"\n",
    "        res = [nums[0]]\n",
    "        for i in range(1,len(nums)):\n",
    "            res.append(res[i-1]+nums[i])\n",
    "        return res"
   ]
  },
  {
   "cell_type": "code",
   "execution_count": 9,
   "id": "e1cccd62",
   "metadata": {},
   "outputs": [
    {
     "data": {
      "text/plain": [
       "[1, 3, 6]"
      ]
     },
     "execution_count": 9,
     "metadata": {},
     "output_type": "execute_result"
    }
   ],
   "source": [
    "s = Solution()\n",
    "s.runningSum([1,2,3])"
   ]
  },
  {
   "cell_type": "code",
   "execution_count": 30,
   "id": "a7712911",
   "metadata": {},
   "outputs": [],
   "source": [
    "class Solution:\n",
    "    def runningSum(self, nums):\n",
    "        n = len(nums)\n",
    "        for i in range(1, n):\n",
    "            nums[i] += nums[i - 1]\n",
    "        return nums"
   ]
  },
  {
   "cell_type": "code",
   "execution_count": 31,
   "id": "275b979b",
   "metadata": {},
   "outputs": [
    {
     "data": {
      "text/plain": [
       "[1, 3, 6]"
      ]
     },
     "execution_count": 31,
     "metadata": {},
     "output_type": "execute_result"
    }
   ],
   "source": [
    "s = Solution()\n",
    "s.runningSum([1,2,3])"
   ]
  },
  {
   "cell_type": "markdown",
   "id": "a0c4485b",
   "metadata": {},
   "source": [
    "## 383. 赎金信"
   ]
  },
  {
   "cell_type": "code",
   "execution_count": 39,
   "id": "5079f1ea",
   "metadata": {},
   "outputs": [
    {
     "data": {
      "text/plain": [
       "{'a', 'b', 'c'}"
      ]
     },
     "execution_count": 39,
     "metadata": {},
     "output_type": "execute_result"
    }
   ],
   "source": [
    "set(list('abca'))"
   ]
  },
  {
   "cell_type": "code",
   "execution_count": 50,
   "id": "aaa4beba",
   "metadata": {},
   "outputs": [],
   "source": [
    "class Solution(object):\n",
    "    def canConstruct(self, ransomNote, magazine):\n",
    "        \"\"\"\n",
    "        :type ransomNote: str\n",
    "        :type magazine: str\n",
    "        :rtype: bool\n",
    "        \"\"\"\n",
    "        listr = list(ransomNote)\n",
    "        listm = list(magazine)\n",
    "        setr = set(listr)\n",
    "        setm = set(listm)\n",
    "       \n",
    "        if setr|setm != setm:\n",
    "            return False\n",
    "        for ch in setr:\n",
    "            if listr.count(ch) > listm.count(ch):\n",
    "                return False\n",
    "        return True"
   ]
  },
  {
   "cell_type": "code",
   "execution_count": 55,
   "id": "3ee1b527",
   "metadata": {},
   "outputs": [
    {
     "data": {
      "text/plain": [
       "False"
      ]
     },
     "execution_count": 55,
     "metadata": {},
     "output_type": "execute_result"
    }
   ],
   "source": [
    "s = Solution()\n",
    "s.canConstruct('a','b')"
   ]
  },
  {
   "cell_type": "code",
   "execution_count": 42,
   "id": "3d0e5ead",
   "metadata": {},
   "outputs": [
    {
     "data": {
      "text/plain": [
       "{1, 2, 4, 5}"
      ]
     },
     "execution_count": 42,
     "metadata": {},
     "output_type": "execute_result"
    }
   ],
   "source": [
    "set1 = {1,2,4}\n",
    "set2 = {2,1,5}\n",
    "set1|set2"
   ]
  },
  {
   "cell_type": "code",
   "execution_count": 49,
   "id": "2d226e6d",
   "metadata": {},
   "outputs": [
    {
     "data": {
      "text/plain": [
       "2"
      ]
     },
     "execution_count": 49,
     "metadata": {},
     "output_type": "execute_result"
    }
   ],
   "source": [
    "a = [1,2,1]\n",
    "a.count(1)"
   ]
  },
  {
   "cell_type": "markdown",
   "id": "f6fd7955",
   "metadata": {},
   "source": [
    "内存占的比较多"
   ]
  },
  {
   "cell_type": "code",
   "execution_count": 59,
   "id": "b67a9aca",
   "metadata": {},
   "outputs": [
    {
     "data": {
      "text/plain": [
       "1"
      ]
     },
     "execution_count": 59,
     "metadata": {},
     "output_type": "execute_result"
    }
   ],
   "source": [
    "a = 'aabbccd'\n",
    "a.count('d')"
   ]
  },
  {
   "cell_type": "code",
   "execution_count": 80,
   "id": "e5d0edc7",
   "metadata": {},
   "outputs": [],
   "source": [
    "# 发现字符串也可以直接count，优化一下\n",
    "class Solution(object):\n",
    "    def canConstruct(self, ransomNote, magazine):\n",
    "        \"\"\"\n",
    "        :type ransomNote: str\n",
    "        :type magazine: str\n",
    "        :rtype: bool\n",
    "        \"\"\"\n",
    "        list1 = []\n",
    "        for ch in ransomNote:\n",
    "            if ch not in list1:\n",
    "                list1.append(ch)\n",
    "                if ransomNote.count(ch) > magazine.count(ch):\n",
    "                    return False\n",
    "            else: continue\n",
    "        return True"
   ]
  },
  {
   "cell_type": "code",
   "execution_count": 81,
   "id": "7c8cff80",
   "metadata": {},
   "outputs": [
    {
     "data": {
      "text/plain": [
       "False"
      ]
     },
     "execution_count": 81,
     "metadata": {},
     "output_type": "execute_result"
    }
   ],
   "source": [
    "s = Solution()\n",
    "s.canConstruct('abbbbcc','bbbbbbbbbbbbbbbbbbbbbbbca')"
   ]
  },
  {
   "cell_type": "markdown",
   "id": "d680f0ab",
   "metadata": {},
   "source": [
    "### python知识：collections.Counter()"
   ]
  },
  {
   "cell_type": "markdown",
   "id": "be12c71f",
   "metadata": {},
   "source": [
    "collection在英文当中有容器的意思，所以顾名思义，这是一个容器的集合。\n",
    "\n",
    "在很多场景中经常会用到统计计数的需求，比如在实现 kNN 算法时统计 k 个标签值的个数，进而找出标签个数最多的标签值作为最终 kNN 算法的预测结果。Python内建的 collections 集合模块中的 Counter 类能够简洁、高效的实现统计计数。\n",
    "\n",
    "Counter 是 dict 字典的子类，Counter 拥有类似字典的 key 键和 value 值，只不过 Counter 中的键为待计数的元素，而 value 值为对应元素出现的次数 count，为了方便介绍统一使用元素和 count 计数来表示。虽然 Counter 中的 count 表示的是计数，但是 Counter 允许 count 的值为 0 或者负值。"
   ]
  },
  {
   "cell_type": "code",
   "execution_count": 83,
   "id": "68f938e7",
   "metadata": {},
   "outputs": [
    {
     "name": "stdout",
     "output_type": "stream",
     "text": [
      "Counter({'a': 2, 'b': 2, 'c': 2, 'd': 2}),<class 'collections.Counter'>\n"
     ]
    }
   ],
   "source": [
    "from collections import Counter\n",
    "\n",
    "a = 'aabbccdd'\n",
    "print(f'{Counter(a)},{type(Counter(a))}')"
   ]
  },
  {
   "cell_type": "code",
   "execution_count": 86,
   "id": "a71cd61d",
   "metadata": {},
   "outputs": [
    {
     "data": {
      "text/plain": [
       "Counter({'d': 1})"
      ]
     },
     "execution_count": 86,
     "metadata": {},
     "output_type": "execute_result"
    }
   ],
   "source": [
    "a = 'aabbccdd'\n",
    "b = 'aabbccddd'\n",
    "Counter(b)-Counter(a)"
   ]
  },
  {
   "cell_type": "markdown",
   "id": "4c65b572",
   "metadata": {},
   "source": [
    "Counter类型居然是支持加减操作的，草。但是时间比较长"
   ]
  },
  {
   "cell_type": "code",
   "execution_count": 89,
   "id": "f8239872",
   "metadata": {},
   "outputs": [],
   "source": [
    "import collections\n",
    "\n",
    "class Solution:\n",
    "    def canConstruct(self, ransomNote: str, magazine: str) -> bool:\n",
    "        if len(ransomNote) > len(magazine):\n",
    "            return False\n",
    "        return not collections.Counter(ransomNote) - collections.Counter(magazine)"
   ]
  },
  {
   "cell_type": "code",
   "execution_count": 90,
   "id": "e63673a1",
   "metadata": {},
   "outputs": [
    {
     "data": {
      "text/plain": [
       "False"
      ]
     },
     "execution_count": 90,
     "metadata": {},
     "output_type": "execute_result"
    }
   ],
   "source": [
    "s = Solution()\n",
    "s.canConstruct('abbbbcc','bbbbbbbbbbbbbbbbbbbbbbbca')"
   ]
  },
  {
   "cell_type": "markdown",
   "id": "df5bb291",
   "metadata": {},
   "source": [
    "## 412. Fizz Buzz"
   ]
  },
  {
   "cell_type": "code",
   "execution_count": 100,
   "id": "bb3a92e9",
   "metadata": {},
   "outputs": [
    {
     "data": {
      "text/plain": [
       "['', '', '', '', '']"
      ]
     },
     "execution_count": 100,
     "metadata": {},
     "output_type": "execute_result"
    }
   ],
   "source": [
    "a = ['' for i in range(5)]\n",
    "a"
   ]
  },
  {
   "cell_type": "code",
   "execution_count": 101,
   "id": "916cb14f",
   "metadata": {},
   "outputs": [],
   "source": [
    "a[0] += 'aaa'"
   ]
  },
  {
   "cell_type": "code",
   "execution_count": 102,
   "id": "b04fae9c",
   "metadata": {},
   "outputs": [
    {
     "data": {
      "text/plain": [
       "['aaabbb', '', '', '', '']"
      ]
     },
     "execution_count": 102,
     "metadata": {},
     "output_type": "execute_result"
    }
   ],
   "source": [
    "a[0] += 'bbb'\n",
    "a"
   ]
  },
  {
   "cell_type": "code",
   "execution_count": 104,
   "id": "f1093aab",
   "metadata": {},
   "outputs": [
    {
     "data": {
      "text/plain": [
       "['aaabbb', 2, '', '', '']"
      ]
     },
     "execution_count": 104,
     "metadata": {},
     "output_type": "execute_result"
    }
   ],
   "source": [
    "a[1] = 2\n",
    "a"
   ]
  },
  {
   "cell_type": "code",
   "execution_count": 137,
   "id": "c2b2dddf",
   "metadata": {},
   "outputs": [],
   "source": [
    "class Solution(object):\n",
    "    def fizzBuzz(self, n):\n",
    "        \"\"\"\n",
    "        :type n: int\n",
    "        :rtype: List[str]\n",
    "        \"\"\"\n",
    "        res = ['' for i in range(n)]\n",
    "        \n",
    "        for i in range(1,n+1):\n",
    "            if i%3 == 0:\n",
    "                res[i-1] = 'Fizz'\n",
    "                if i%5 == 0:\n",
    "                    res[i-1] += 'Buzz'\n",
    "            elif i%5 == 0:\n",
    "                res[i-1] = 'Buzz'\n",
    "            else:\n",
    "                res[i-1] = str(i)\n",
    "        return res"
   ]
  },
  {
   "cell_type": "code",
   "execution_count": 138,
   "id": "0f9c9912",
   "metadata": {},
   "outputs": [
    {
     "data": {
      "text/plain": [
       "['1',\n",
       " '2',\n",
       " 'Fizz',\n",
       " '4',\n",
       " 'Buzz',\n",
       " 'Fizz',\n",
       " '7',\n",
       " '8',\n",
       " 'Fizz',\n",
       " 'Buzz',\n",
       " '11',\n",
       " 'Fizz',\n",
       " '13',\n",
       " '14',\n",
       " 'FizzBuzz']"
      ]
     },
     "execution_count": 138,
     "metadata": {},
     "output_type": "execute_result"
    }
   ],
   "source": [
    "s = Solution()\n",
    "s.fizzBuzz(15)"
   ]
  },
  {
   "cell_type": "markdown",
   "id": "120bba65",
   "metadata": {},
   "source": [
    "先开了数组内存占用高，并且时间也不短，优化"
   ]
  },
  {
   "cell_type": "code",
   "execution_count": 140,
   "id": "b24a6a99",
   "metadata": {},
   "outputs": [],
   "source": [
    "class Solution(object):\n",
    "    def fizzBuzz(self, n):\n",
    "        \"\"\"\n",
    "        :type n: int\n",
    "        :rtype: List[str]\n",
    "        \"\"\"\n",
    "        res = []\n",
    "        \n",
    "        for i in range(1,n+1):\n",
    "            if i%3 == 0:\n",
    "                res.append('Fizz')\n",
    "                if i%5 == 0:\n",
    "                    res[i-1] += 'Buzz'\n",
    "            elif i%5 == 0:\n",
    "                res.append('Buzz')\n",
    "            else:\n",
    "                res.append(str(i))\n",
    "        return res"
   ]
  },
  {
   "cell_type": "code",
   "execution_count": 141,
   "id": "cd243d29",
   "metadata": {},
   "outputs": [
    {
     "data": {
      "text/plain": [
       "['1',\n",
       " '2',\n",
       " 'Fizz',\n",
       " '4',\n",
       " 'Buzz',\n",
       " 'Fizz',\n",
       " '7',\n",
       " '8',\n",
       " 'Fizz',\n",
       " 'Buzz',\n",
       " '11',\n",
       " 'Fizz',\n",
       " '13',\n",
       " '14',\n",
       " 'FizzBuzz']"
      ]
     },
     "execution_count": 141,
     "metadata": {},
     "output_type": "execute_result"
    }
   ],
   "source": [
    "s = Solution()\n",
    "s.fizzBuzz(15)"
   ]
  },
  {
   "cell_type": "markdown",
   "id": "753dd61c",
   "metadata": {},
   "source": [
    "反向优化了（"
   ]
  },
  {
   "cell_type": "code",
   "execution_count": 142,
   "id": "9ff4c415",
   "metadata": {},
   "outputs": [],
   "source": [
    "class Solution(object):\n",
    "    def fizzBuzz(self, n):\n",
    "        \"\"\"\n",
    "        :type n: int\n",
    "        :rtype: List[str]\n",
    "        \"\"\"\n",
    "        res = [str(i) for i in range(1,n+1)]\n",
    "        \n",
    "        for i in range(1,n+1):\n",
    "            if i%15 == 0:\n",
    "                res[i-1] = \"FizzBuzz\"\n",
    "            elif i%3 == 0:\n",
    "                res[i-1] = 'Fizz'\n",
    "            elif i%5 == 0:\n",
    "                res[i-1] = 'Buzz'\n",
    "                \n",
    "        return res"
   ]
  },
  {
   "cell_type": "code",
   "execution_count": 143,
   "id": "b1e2c34d",
   "metadata": {},
   "outputs": [
    {
     "data": {
      "text/plain": [
       "['1',\n",
       " '2',\n",
       " 'Fizz',\n",
       " '4',\n",
       " 'Buzz',\n",
       " 'Fizz',\n",
       " '7',\n",
       " '8',\n",
       " 'Fizz',\n",
       " 'Buzz',\n",
       " '11',\n",
       " 'Fizz',\n",
       " '13',\n",
       " '14',\n",
       " 'FizzBuzz']"
      ]
     },
     "execution_count": 143,
     "metadata": {},
     "output_type": "execute_result"
    }
   ],
   "source": [
    "s = Solution()\n",
    "s.fizzBuzz(15)"
   ]
  },
  {
   "cell_type": "markdown",
   "id": "1bbfcadf-2f1d-4f4e-9952-87337520f944",
   "metadata": {},
   "source": [
    "### 二周目"
   ]
  },
  {
   "cell_type": "code",
   "execution_count": 2,
   "id": "c37851fa-ae23-4aee-89fa-60588f9e7bbc",
   "metadata": {},
   "outputs": [],
   "source": [
    "from typing import List\n",
    "class Solution:\n",
    "    def fizzBuzz(self, n: int) -> List[str]:\n",
    "        res = []\n",
    "        for i in range(1, n+1):\n",
    "            cur = \"\"\n",
    "            if not i % 3: cur += \"Fizz\"\n",
    "            if not i % 5: cur += \"Buzz\"\n",
    "            if not cur: cur = str(i)\n",
    "            res.append(cur)\n",
    "        return res"
   ]
  },
  {
   "cell_type": "markdown",
   "id": "04bfb770",
   "metadata": {},
   "source": [
    "## 876. 链表的中间节点"
   ]
  },
  {
   "cell_type": "code",
   "execution_count": 144,
   "id": "6c1d1e00",
   "metadata": {},
   "outputs": [],
   "source": [
    "# Definition for singly-linked list.\n",
    "class ListNode(object):\n",
    "    def __init__(self, val=0, next=None):\n",
    "        self.val = val\n",
    "        self.next = next"
   ]
  },
  {
   "cell_type": "code",
   "execution_count": 145,
   "id": "afb424a3",
   "metadata": {},
   "outputs": [],
   "source": [
    "node1 = ListNode(5)\n",
    "node2 = ListNode(4,node1)\n",
    "node3 = ListNode(3,node2)\n",
    "node4 = ListNode(2,node3)\n",
    "node5 = ListNode(1,node4)\n",
    "head = ListNode(0,node5)"
   ]
  },
  {
   "cell_type": "code",
   "execution_count": 150,
   "id": "00f0ad2f",
   "metadata": {},
   "outputs": [],
   "source": [
    "class Solution(object):\n",
    "    def middleNode(self, head):\n",
    "        \"\"\"\n",
    "        :type head: ListNode\n",
    "        :rtype: ListNode\n",
    "        \"\"\"\n",
    "        slow = fast = head\n",
    "        while fast:\n",
    "            if not fast.next:\n",
    "                return slow\n",
    "            elif  not fast.next.next:\n",
    "                return slow.next\n",
    "            fast = fast.next.next\n",
    "            slow = slow.next"
   ]
  },
  {
   "cell_type": "code",
   "execution_count": 155,
   "id": "7eda7c1b",
   "metadata": {},
   "outputs": [
    {
     "data": {
      "text/plain": [
       "5"
      ]
     },
     "execution_count": 155,
     "metadata": {},
     "output_type": "execute_result"
    }
   ],
   "source": [
    "s = Solution()\n",
    "a = s.middleNode(node1)\n",
    "a.val"
   ]
  },
  {
   "cell_type": "markdown",
   "id": "d02fe7a8",
   "metadata": {},
   "source": [
    "由于尾节点的next为none，依然可以遍历到，故可以简化判断条件"
   ]
  },
  {
   "cell_type": "code",
   "execution_count": 157,
   "id": "0d9033f0",
   "metadata": {},
   "outputs": [],
   "source": [
    "class Solution:\n",
    "    def middleNode(self, head: ListNode):\n",
    "        slow = fast = head\n",
    "        while fast and fast.next:\n",
    "            slow = slow.next\n",
    "            fast = fast.next.next\n",
    "        return slow"
   ]
  },
  {
   "cell_type": "code",
   "execution_count": 158,
   "id": "1217d9b4",
   "metadata": {},
   "outputs": [
    {
     "data": {
      "text/plain": [
       "5"
      ]
     },
     "execution_count": 158,
     "metadata": {},
     "output_type": "execute_result"
    }
   ],
   "source": [
    "s = Solution()\n",
    "a = s.middleNode(node1)\n",
    "a.val"
   ]
  },
  {
   "cell_type": "markdown",
   "id": "cc60a195",
   "metadata": {},
   "source": [
    "## 1342. 将数字变成0的操作次数"
   ]
  },
  {
   "cell_type": "code",
   "execution_count": 8,
   "id": "8cca1b88",
   "metadata": {},
   "outputs": [],
   "source": [
    "class Solution:\n",
    "    def numberOfSteps(self, num: int) -> int:\n",
    "        \n",
    "        count = 0\n",
    "        \n",
    "#         @functools.lru_cache 此处有bug，不然用cache能节省时间\n",
    "        def num2zero(num):\n",
    "            nonlocal count\n",
    "            if num == 0:\n",
    "                return count\n",
    "            elif num%2 == 0:\n",
    "                count += 1\n",
    "                num //= 2\n",
    "                num2zero(num)\n",
    "            else:\n",
    "                count += 1\n",
    "                num -= 1\n",
    "                num2zero(num)\n",
    "            return count\n",
    "        \n",
    "        return num2zero(num)"
   ]
  },
  {
   "cell_type": "code",
   "execution_count": 9,
   "id": "cb81f6c9",
   "metadata": {},
   "outputs": [
    {
     "data": {
      "text/plain": [
       "12"
      ]
     },
     "execution_count": 9,
     "metadata": {},
     "output_type": "execute_result"
    }
   ],
   "source": [
    "s = Solution()\n",
    "s.numberOfSteps(123)"
   ]
  },
  {
   "cell_type": "markdown",
   "id": "e4208d1f",
   "metadata": {},
   "source": [
    "递归太慢"
   ]
  },
  {
   "cell_type": "code",
   "execution_count": 1,
   "id": "906e67a1",
   "metadata": {},
   "outputs": [],
   "source": [
    "class Solution:\n",
    "    def numberOfSteps(self, num: int) -> int:\n",
    "        count = 0\n",
    "        while num:\n",
    "            if num%2 == 0:\n",
    "                num //= 2\n",
    "            else:\n",
    "                num -= 1\n",
    "            count += 1\n",
    "        return count"
   ]
  },
  {
   "cell_type": "code",
   "execution_count": 3,
   "id": "9ece7f9d",
   "metadata": {},
   "outputs": [
    {
     "data": {
      "text/plain": [
       "6"
      ]
     },
     "execution_count": 3,
     "metadata": {},
     "output_type": "execute_result"
    }
   ],
   "source": [
    "s = Solution()\n",
    "s.numberOfSteps(14)"
   ]
  },
  {
   "cell_type": "markdown",
   "id": "b8b08e67",
   "metadata": {},
   "source": [
    "## 1673. 最富有客户的资产总量"
   ]
  },
  {
   "cell_type": "code",
   "execution_count": 12,
   "id": "bd3aa6f3",
   "metadata": {},
   "outputs": [],
   "source": [
    "from typing import List\n",
    "\n",
    "class Solution:\n",
    "    def maximumWealth(self, accounts: List[List[int]]) -> int:\n",
    "        ans = 0\n",
    "        for ac in accounts:\n",
    "            if sum(ac) > ans:\n",
    "                ans = sum(ac)\n",
    "        return ans"
   ]
  },
  {
   "cell_type": "code",
   "execution_count": 15,
   "id": "9d5c3755",
   "metadata": {},
   "outputs": [
    {
     "data": {
      "text/plain": [
       "17"
      ]
     },
     "execution_count": 15,
     "metadata": {},
     "output_type": "execute_result"
    }
   ],
   "source": [
    "s = Solution()\n",
    "accounts = [[2,8,7],[7,1,3],[1,9,5]]\n",
    "s.maximumWealth(accounts)"
   ]
  },
  {
   "cell_type": "markdown",
   "id": "13756d94",
   "metadata": {},
   "source": [
    "草草草，忘了还能map"
   ]
  },
  {
   "cell_type": "code",
   "execution_count": 19,
   "id": "fed24005",
   "metadata": {},
   "outputs": [
    {
     "data": {
      "text/plain": [
       "[17, 11, 15]"
      ]
     },
     "execution_count": 19,
     "metadata": {},
     "output_type": "execute_result"
    }
   ],
   "source": [
    "list(map(sum,accounts))"
   ]
  },
  {
   "cell_type": "code",
   "execution_count": 20,
   "id": "c25df9c4",
   "metadata": {},
   "outputs": [
    {
     "data": {
      "text/plain": [
       "17"
      ]
     },
     "execution_count": 20,
     "metadata": {},
     "output_type": "execute_result"
    }
   ],
   "source": [
    "max(map(sum,accounts))"
   ]
  },
  {
   "cell_type": "code",
   "execution_count": 21,
   "id": "88d2e0aa",
   "metadata": {},
   "outputs": [],
   "source": [
    "from typing import List\n",
    "\n",
    "class Solution:\n",
    "    def maximumWealth(self, accounts: List[List[int]]) -> int:\n",
    "        return max(map(sum,accounts))"
   ]
  },
  {
   "cell_type": "code",
   "execution_count": 22,
   "id": "9a52ee53",
   "metadata": {},
   "outputs": [
    {
     "data": {
      "text/plain": [
       "17"
      ]
     },
     "execution_count": 22,
     "metadata": {},
     "output_type": "execute_result"
    }
   ],
   "source": [
    "s = Solution()\n",
    "accounts = [[2,8,7],[7,1,3],[1,9,5]]\n",
    "s.maximumWealth(accounts)"
   ]
  },
  {
   "cell_type": "markdown",
   "id": "7fd45278",
   "metadata": {},
   "source": [
    "## 2236. 判断根结点是否等于子结点之和"
   ]
  },
  {
   "cell_type": "code",
   "execution_count": 23,
   "id": "c5c98f1d",
   "metadata": {},
   "outputs": [],
   "source": [
    "# Definition for a binary tree node.\n",
    "class TreeNode:\n",
    "    def __init__(self, val=0, left=None, right=None):\n",
    "        self.val = val\n",
    "        self.left = left\n",
    "        self.right = right"
   ]
  },
  {
   "cell_type": "code",
   "execution_count": 25,
   "id": "177f06ac",
   "metadata": {},
   "outputs": [],
   "source": [
    "from typing import Optional\n",
    "\n",
    "class Solution:\n",
    "    def checkTree(self, root: Optional[TreeNode]) -> bool:\n",
    "        return root.val == root.left.val + root.right.val"
   ]
  },
  {
   "cell_type": "code",
   "execution_count": 26,
   "id": "b9b542d4",
   "metadata": {},
   "outputs": [],
   "source": [
    "left = TreeNode(4)\n",
    "right = TreeNode(6)\n",
    "root = TreeNode(10,left,right)"
   ]
  },
  {
   "cell_type": "code",
   "execution_count": 27,
   "id": "eb0a2f25",
   "metadata": {},
   "outputs": [
    {
     "data": {
      "text/plain": [
       "True"
      ]
     },
     "execution_count": 27,
     "metadata": {},
     "output_type": "execute_result"
    }
   ],
   "source": [
    "s = Solution()\n",
    "s.checkTree(root)"
   ]
  },
  {
   "cell_type": "markdown",
   "id": "39ec9bfc",
   "metadata": {},
   "source": [
    "## 215. 数组中第K个最大元素"
   ]
  },
  {
   "cell_type": "markdown",
   "id": "57401f36",
   "metadata": {},
   "source": [
    "bug：当前版本下set会自动排序，因此甚至不用sort"
   ]
  },
  {
   "cell_type": "code",
   "execution_count": 84,
   "id": "7a95e990",
   "metadata": {},
   "outputs": [],
   "source": [
    "class Solution:\n",
    "    def findKthLargest(self, nums: List[int], k: int) -> int:\n",
    "        nums.sort()\n",
    "        return nums[len(nums)-k]"
   ]
  },
  {
   "cell_type": "code",
   "execution_count": 85,
   "id": "ea5a5c0b",
   "metadata": {},
   "outputs": [],
   "source": [
    "nums = [3,2,3,1,2,4,5,5,6]\n",
    "k = 4"
   ]
  },
  {
   "cell_type": "code",
   "execution_count": 86,
   "id": "a4b7927a",
   "metadata": {},
   "outputs": [
    {
     "data": {
      "text/plain": [
       "4"
      ]
     },
     "execution_count": 86,
     "metadata": {},
     "output_type": "execute_result"
    }
   ],
   "source": [
    "s = Solution()\n",
    "s.findKthLargest(nums,k)"
   ]
  },
  {
   "cell_type": "code",
   "execution_count": 87,
   "id": "6451f827",
   "metadata": {},
   "outputs": [],
   "source": [
    "class Solution:\n",
    "    def findKthLargest(self, nums: List[int], k: int) -> int:\n",
    "        res = sorted(nums,reverse=True)\n",
    "        return res[k-1]"
   ]
  },
  {
   "cell_type": "code",
   "execution_count": 88,
   "id": "3cda8cb6",
   "metadata": {},
   "outputs": [
    {
     "data": {
      "text/plain": [
       "4"
      ]
     },
     "execution_count": 88,
     "metadata": {},
     "output_type": "execute_result"
    }
   ],
   "source": [
    "s = Solution()\n",
    "s.findKthLargest(nums,k)"
   ]
  },
  {
   "cell_type": "markdown",
   "id": "26d7fb1a",
   "metadata": {},
   "source": [
    "看来是考堆排和快排，学习一下"
   ]
  },
  {
   "cell_type": "markdown",
   "id": "1efdc26f",
   "metadata": {},
   "source": [
    "## 221. 最大正方形"
   ]
  },
  {
   "cell_type": "markdown",
   "id": "98742a8b",
   "metadata": {},
   "source": [
    "为什么感觉可以用卷积做\n",
    "\n",
    "卷积确实可以，不过复杂度感觉太高，再议"
   ]
  },
  {
   "cell_type": "code",
   "execution_count": null,
   "id": "ca9c50a3",
   "metadata": {},
   "outputs": [],
   "source": [
    "class Solution:\n",
    "    def maximalSquare(self, matrix: List[List[str]]) -> int:\n",
    "        "
   ]
  },
  {
   "cell_type": "markdown",
   "id": "9713b704",
   "metadata": {},
   "source": [
    "## 1161. 最大层内元素和"
   ]
  },
  {
   "cell_type": "code",
   "execution_count": 96,
   "id": "9208917e",
   "metadata": {},
   "outputs": [],
   "source": [
    "# 此为104题的代码\n",
    "# 广度优先，即迭代遍历\n",
    "\n",
    "class Solution:\n",
    "    def maxDepth(self, root) -> int:\n",
    "        if not root:\n",
    "            return 0\n",
    "        ans = 0\n",
    "        stack = [(root, 1)]\n",
    "        while stack:\n",
    "            curr, curr_l = stack.pop()\n",
    "            ans = max(ans, curr_l)\n",
    "            if curr.left:\n",
    "                stack.append((curr.left, curr_l + 1))\n",
    "            if curr.right:\n",
    "                stack.append((curr.right, curr_l + 1))\n",
    "        return ans"
   ]
  },
  {
   "cell_type": "code",
   "execution_count": 165,
   "id": "22a953d4",
   "metadata": {},
   "outputs": [],
   "source": [
    "class Solution:\n",
    "    def maxLevelSum(self, root: Optional[TreeNode]) -> int:\n",
    "        res = [0]\n",
    "        res[0] = root.val\n",
    "        stack = [[root,0]]\n",
    "        while stack:\n",
    "            cur,layer = stack.pop()\n",
    "            res[layer] += cur.val\n",
    "            if cur.left or cur.right:\n",
    "                res.append(0)\n",
    "                if cur.left:\n",
    "                    stack.append([cur.left,layer+1])\n",
    "                if cur.right:\n",
    "                    stack.append([cur.right,layer+1])\n",
    "        print(res)\n",
    "        print(layer)\n",
    "        return res.index(max(res[:layer+1]))+1"
   ]
  },
  {
   "cell_type": "code",
   "execution_count": 166,
   "id": "d9d90ab7",
   "metadata": {},
   "outputs": [],
   "source": [
    "nodeF = TreeNode(-10)\n",
    "nodeD = TreeNode(-5)\n",
    "nodeE = TreeNode(-20)\n",
    "nodeB = TreeNode(-200,nodeD,nodeE)\n",
    "nodeC = TreeNode(-300,nodeF)\n",
    "nodeA = TreeNode(-100,nodeB,nodeC)"
   ]
  },
  {
   "cell_type": "code",
   "execution_count": 167,
   "id": "ded1bf95",
   "metadata": {},
   "outputs": [
    {
     "name": "stdout",
     "output_type": "stream",
     "text": [
      "[-200, -500, -35, 0]\n",
      "2\n"
     ]
    },
    {
     "data": {
      "text/plain": [
       "3"
      ]
     },
     "execution_count": 167,
     "metadata": {},
     "output_type": "execute_result"
    }
   ],
   "source": [
    "s = Solution()\n",
    "s.maxLevelSum(nodeA)"
   ]
  },
  {
   "cell_type": "code",
   "execution_count": 170,
   "id": "c43daf54",
   "metadata": {},
   "outputs": [
    {
     "data": {
      "text/plain": [
       "0"
      ]
     },
     "execution_count": 170,
     "metadata": {},
     "output_type": "execute_result"
    }
   ],
   "source": [
    "a = [1,5,5,5,5,5]\n",
    "a.index(max(a[:1]))"
   ]
  },
  {
   "cell_type": "code",
   "execution_count": 175,
   "id": "6baf7d4e",
   "metadata": {},
   "outputs": [],
   "source": [
    "class Solution:\n",
    "    def maxLevelSum(self, root: Optional[TreeNode]) -> int:\n",
    "        maxlay = 0\n",
    "        stack = [[root,1]]\n",
    "        while stack:\n",
    "            cur,layer = stack.pop()\n",
    "            if cur.left or cur.right:\n",
    "                if cur.left:\n",
    "                    stack.append([cur.left,layer+1])\n",
    "                if cur.right:\n",
    "                    stack.append([cur.right,layer+1])\n",
    "            maxlay = layer if layer >maxlay else maxlay\n",
    "        res = [0 for i in range(maxlay)]\n",
    "        \n",
    "        res[0] = root.val\n",
    "        stack = [[root,0]]\n",
    "        while stack:\n",
    "            cur,layer = stack.pop()\n",
    "            res[layer] += cur.val\n",
    "            if cur.left or cur.right:\n",
    "                if cur.left:\n",
    "                    stack.append([cur.left,layer+1])\n",
    "                if cur.right:\n",
    "                    stack.append([cur.right,layer+1])\n",
    "\n",
    "        return res.index(max(res))+1"
   ]
  },
  {
   "cell_type": "code",
   "execution_count": 176,
   "id": "248c5e62",
   "metadata": {},
   "outputs": [
    {
     "name": "stdout",
     "output_type": "stream",
     "text": [
      "[0, 0, 0]\n",
      "[-200, -500, -35]\n",
      "2\n"
     ]
    },
    {
     "data": {
      "text/plain": [
       "3"
      ]
     },
     "execution_count": 176,
     "metadata": {},
     "output_type": "execute_result"
    }
   ],
   "source": [
    "s = Solution()\n",
    "s.maxLevelSum(nodeA)"
   ]
  },
  {
   "cell_type": "markdown",
   "id": "5678e520",
   "metadata": {},
   "source": [
    "这种又能pass，为什么呢"
   ]
  },
  {
   "cell_type": "code",
   "execution_count": 189,
   "id": "e82cdb9e",
   "metadata": {},
   "outputs": [],
   "source": [
    "class Solution:\n",
    "    def maxLevelSum(self, root: Optional[TreeNode]) -> int:\n",
    "        maxlay = 0\n",
    "        res = [0]\n",
    "        res[0] = root.val\n",
    "        stack = [(root,0)]\n",
    "        while stack:\n",
    "            cur,layer = stack.pop()\n",
    "            res[layer] += cur.val\n",
    "            if cur.left or cur.right:\n",
    "                res.append(0)\n",
    "                if cur.left:\n",
    "                    stack.append((cur.left,layer+1))\n",
    "                if cur.right:\n",
    "                    stack.append((cur.right,layer+1))\n",
    "            maxlay = layer if layer > maxlay else maxlay\n",
    "            \n",
    "        res = res[:maxlay+1]\n",
    "        \n",
    "        return res.index(max(res))+1"
   ]
  },
  {
   "cell_type": "code",
   "execution_count": 190,
   "id": "9ec856a3",
   "metadata": {},
   "outputs": [
    {
     "data": {
      "text/plain": [
       "3"
      ]
     },
     "execution_count": 190,
     "metadata": {},
     "output_type": "execute_result"
    }
   ],
   "source": [
    "s = Solution()\n",
    "s.maxLevelSum(nodeA)"
   ]
  },
  {
   "cell_type": "markdown",
   "id": "f3812c24",
   "metadata": {},
   "source": [
    "实际上，使用带着层数信息的遍历方式即可，不一定是BFS，DFS也可携带层数信息，这里优化一下判断条件"
   ]
  },
  {
   "cell_type": "code",
   "execution_count": 194,
   "id": "4a98ee3a",
   "metadata": {},
   "outputs": [],
   "source": [
    "class Solution:\n",
    "    def maxLevelSum(self, root: Optional[TreeNode]) -> int:\n",
    "        res = []\n",
    "        stack = [(root,0)]\n",
    "        while stack:\n",
    "            cur,layer = stack.pop()\n",
    "            if layer == len(res):\n",
    "                res.append(cur.val)\n",
    "            else:\n",
    "                res[layer] += cur.val\n",
    "            if cur.left:\n",
    "                stack.append((cur.left,layer+1))\n",
    "            if cur.right:\n",
    "                stack.append((cur.right,layer+1))\n",
    "        \n",
    "        return res.index(max(res))+1"
   ]
  },
  {
   "cell_type": "code",
   "execution_count": 195,
   "id": "5662f1bc",
   "metadata": {},
   "outputs": [
    {
     "data": {
      "text/plain": [
       "3"
      ]
     },
     "execution_count": 195,
     "metadata": {},
     "output_type": "execute_result"
    }
   ],
   "source": [
    "s = Solution()\n",
    "s.maxLevelSum(nodeA)"
   ]
  },
  {
   "cell_type": "code",
   "execution_count": 197,
   "id": "aa01c306",
   "metadata": {},
   "outputs": [],
   "source": [
    "# DFS版本\n",
    "\n",
    "class Solution:\n",
    "    def maxLevelSum(self, root: Optional[TreeNode]) -> int:\n",
    "        \n",
    "        res = []\n",
    "        def Traversal(node,layer):\n",
    "            if not node:\n",
    "                return\n",
    "            if layer == len(res):\n",
    "                res.append(node.val)\n",
    "            else:\n",
    "                res[layer] += node.val\n",
    "            Traversal(node.left,layer+1)\n",
    "            Traversal(node.right,layer+1)\n",
    "        \n",
    "            return res.index(max(res))\n",
    "        \n",
    "        return Traversal(root,0)+1"
   ]
  },
  {
   "cell_type": "code",
   "execution_count": 198,
   "id": "a2d5ec3f",
   "metadata": {},
   "outputs": [
    {
     "data": {
      "text/plain": [
       "3"
      ]
     },
     "execution_count": 198,
     "metadata": {},
     "output_type": "execute_result"
    }
   ],
   "source": [
    "s = Solution()\n",
    "s.maxLevelSum(nodeA)"
   ]
  },
  {
   "cell_type": "code",
   "execution_count": 201,
   "id": "c7f07a8c",
   "metadata": {},
   "outputs": [],
   "source": [
    "# BFS再写一遍\n",
    "\n",
    "class Solution:\n",
    "    def maxLevelSum(self, root: Optional[TreeNode]) -> int:\n",
    "        res = []\n",
    "        stack = [(root,0)]\n",
    "        \n",
    "        while stack:\n",
    "            cur,layer = stack.pop()\n",
    "            if len(res) == layer:\n",
    "                res.append(cur.val)\n",
    "            else:\n",
    "                res[layer] += cur.val\n",
    "            if cur.left:\n",
    "                stack.append((cur.left,layer+1))\n",
    "            if cur.right:\n",
    "                stack.append((cur.right,layer+1))\n",
    "            \n",
    "        return res.index(max(res))+1"
   ]
  },
  {
   "cell_type": "code",
   "execution_count": 202,
   "id": "3dd0ea3b",
   "metadata": {},
   "outputs": [
    {
     "data": {
      "text/plain": [
       "3"
      ]
     },
     "execution_count": 202,
     "metadata": {},
     "output_type": "execute_result"
    }
   ],
   "source": [
    "s = Solution()\n",
    "s.maxLevelSum(nodeA)"
   ]
  },
  {
   "cell_type": "code",
   "execution_count": null,
   "id": "ba0d588b",
   "metadata": {},
   "outputs": [],
   "source": []
  },
  {
   "cell_type": "code",
   "execution_count": null,
   "id": "c12c9439",
   "metadata": {},
   "outputs": [],
   "source": []
  },
  {
   "cell_type": "code",
   "execution_count": null,
   "id": "f0493242",
   "metadata": {},
   "outputs": [],
   "source": []
  },
  {
   "cell_type": "code",
   "execution_count": null,
   "id": "8f887108",
   "metadata": {},
   "outputs": [],
   "source": []
  },
  {
   "cell_type": "code",
   "execution_count": null,
   "id": "45ad3c43",
   "metadata": {},
   "outputs": [],
   "source": []
  },
  {
   "cell_type": "code",
   "execution_count": null,
   "id": "1be3b5e2",
   "metadata": {},
   "outputs": [],
   "source": []
  },
  {
   "cell_type": "code",
   "execution_count": null,
   "id": "14c85f10",
   "metadata": {},
   "outputs": [],
   "source": []
  },
  {
   "cell_type": "code",
   "execution_count": null,
   "id": "a2827e5a",
   "metadata": {},
   "outputs": [],
   "source": []
  }
 ],
 "metadata": {
  "kernelspec": {
   "display_name": "Python 3 (ipykernel)",
   "language": "python",
   "name": "python3"
  },
  "language_info": {
   "codemirror_mode": {
    "name": "ipython",
    "version": 3
   },
   "file_extension": ".py",
   "mimetype": "text/x-python",
   "name": "python",
   "nbconvert_exporter": "python",
   "pygments_lexer": "ipython3",
   "version": "3.6.3"
  }
 },
 "nbformat": 4,
 "nbformat_minor": 5
}
