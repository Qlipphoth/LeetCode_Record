{
 "cells": [
  {
   "cell_type": "markdown",
   "id": "e4e742d3-fedb-4bc2-aae6-b7d1d611e1cb",
   "metadata": {},
   "source": [
    "## [88. 合并两个有序数组](https://leetcode.cn/problems/merge-sorted-array/)"
   ]
  },
  {
   "cell_type": "code",
   "execution_count": 1,
   "id": "5344012a-73ab-4cb3-936a-377f94d5b72b",
   "metadata": {},
   "outputs": [],
   "source": [
    "from typing import List\n",
    "class Solution:\n",
    "    def merge(self, nums1: List[int], m: int, nums2: List[int], n: int) -> None:\n",
    "        \"\"\"\n",
    "        Do not return anything, modify nums1 in-place instead.\n",
    "        \"\"\"\n",
    "        curIdx = m + n - 1\n",
    "        m -= 1\n",
    "        n -= 1\n",
    "        while (m >= 0) and (n >= 0):\n",
    "            if nums1[m] >= nums2[n]:\n",
    "                nums1[curIdx] = nums1[m]\n",
    "                m -= 1\n",
    "            else:\n",
    "                nums1[curIdx] = nums2[n]\n",
    "                n -= 1\n",
    "            curIdx -= 1\n",
    "        while n >= 0:\n",
    "            nums1[n] = nums2[n]\n",
    "            n -= 1"
   ]
  },
  {
   "cell_type": "markdown",
   "id": "69aeba69-dea4-4c9d-9ae1-2b0552394fe2",
   "metadata": {},
   "source": [
    "## [27. 移除元素](https://leetcode.cn/problems/remove-element/)(边界条件太复杂，还是背了吧)"
   ]
  },
  {
   "cell_type": "markdown",
   "id": "f94a9532-f7e3-4e9f-8a61-2f320184f579",
   "metadata": {},
   "source": [
    "边界条件如何确定？\n",
    "\n",
    "首先，一定是 `left >= right` 就结束循环，因为两个指针重叠时值会相等，会多进行一部交换，容易产生许多 bug；其次，最终结果的范围为 `0 ~ n`，`n` 为数组长度，如果想让一个指针，如 `left` 能够覆盖所有的结果，就需要 `left = 0, right = n`，才有可能处理边界情况。"
   ]
  },
  {
   "cell_type": "code",
   "execution_count": 2,
   "id": "2ef4caf6-d837-4f8c-9a9f-79decfeb34da",
   "metadata": {},
   "outputs": [],
   "source": [
    "class Solution:\n",
    "    def removeElement(self, nums: List[int], val: int) -> int:\n",
    "        n = len(nums)\n",
    "        left, right = 0, n\n",
    "        while left < right:\n",
    "            if nums[left] == val:\n",
    "                nums[left] = nums[right - 1]\n",
    "                right -= 1\n",
    "            else: left += 1\n",
    "        return left"
   ]
  },
  {
   "cell_type": "markdown",
   "id": "31cc5607-eaf7-4143-99cd-6a393ae2ba9f",
   "metadata": {},
   "source": [
    "## [26. 删除有序数组中的重复项](https://leetcode.cn/problems/remove-duplicates-from-sorted-array/)"
   ]
  },
  {
   "cell_type": "markdown",
   "id": "4e2348d3-7beb-4d58-b79c-ab1775657c0c",
   "metadata": {},
   "source": [
    "思考边界：合理的方法应该是左指针始终指向独特的元素，右指针遍历，当右指针发现新元素时左指针 `++` 并记录新元素，右指针越界时退出循环，最后返回 `left + 1`，理清了总体框架里面的内容就比较好写了。"
   ]
  },
  {
   "cell_type": "code",
   "execution_count": 3,
   "id": "d0a47502-be9d-457a-8878-ba67ecf6a158",
   "metadata": {},
   "outputs": [],
   "source": [
    "class Solution:\n",
    "    def removeDuplicates(self, nums: List[int]) -> int:\n",
    "        n = len(nums)\n",
    "        left, right = 0, 1\n",
    "        while right < n:\n",
    "            if nums[right] == nums[left]: right += 1\n",
    "            else:\n",
    "                left += 1\n",
    "                nums[left] = nums[right]\n",
    "        return left + 1"
   ]
  },
  {
   "cell_type": "markdown",
   "id": "a59aa5f1-7cea-43db-b546-5907e5cb9f98",
   "metadata": {},
   "source": [
    "## [80. 删除有序数组中的重复项 II](https://leetcode.cn/problems/remove-duplicates-from-sorted-array-ii/)"
   ]
  },
  {
   "cell_type": "code",
   "execution_count": 14,
   "id": "2621ffd6-6425-4eed-9354-33f41adaf323",
   "metadata": {},
   "outputs": [],
   "source": [
    "from typing import List\n",
    "class Solution:\n",
    "    def removeDuplicates(self, nums: List[int]) -> int:\n",
    "        nums.append(float(\"Inf\"))\n",
    "        n = len(nums)\n",
    "        left, start, right = 0, 0, 1\n",
    "        while right < n:\n",
    "            if nums[right] != nums[start]:\n",
    "                cur = nums[start]\n",
    "                for _ in range(min(2, right - start)):\n",
    "                    nums[left] = cur\n",
    "                    left += 1\n",
    "                start = right\n",
    "            right += 1\n",
    "        # print(nums)\n",
    "        return left"
   ]
  },
  {
   "cell_type": "code",
   "execution_count": 15,
   "id": "b2baa6e8-a1ec-47d7-9cb9-c8084ec295dc",
   "metadata": {},
   "outputs": [],
   "source": [
    "nums = [0,0,1,1,1,1,2,3,3]"
   ]
  },
  {
   "cell_type": "code",
   "execution_count": 16,
   "id": "11c1bbe1-f753-403d-880f-217dbadbfad1",
   "metadata": {},
   "outputs": [
    {
     "data": {
      "text/plain": [
       "7"
      ]
     },
     "execution_count": 16,
     "metadata": {},
     "output_type": "execute_result"
    }
   ],
   "source": [
    "s = Solution()\n",
    "s.removeDuplicates(nums)"
   ]
  },
  {
   "cell_type": "code",
   "execution_count": 13,
   "id": "0a5aa68c-228c-4b1a-b7a1-0edfca128f30",
   "metadata": {},
   "outputs": [],
   "source": [
    "from typing import List\n",
    "class Solution:\n",
    "    def removeDuplicates(self, nums: List[int]) -> int:\n",
    "        n = len(nums)\n",
    "        if n <= 2: return n\n",
    "        slow = fast = 2\n",
    "        while fast < n:\n",
    "            if (nums[slow - 2] != nums[fast]):\n",
    "                nums[slow] = nums[fast]\n",
    "                slow += 1\n",
    "            fast += 1\n",
    "        return slow"
   ]
  },
  {
   "cell_type": "markdown",
   "id": "329b948e-f3d6-44d8-91d9-af03a5114a3b",
   "metadata": {},
   "source": [
    "## [169.多数元素](https://leetcode.cn/problems/majority-element/)"
   ]
  },
  {
   "cell_type": "markdown",
   "id": "f873ad98-9f76-4c0b-af44-9a7c8d446e28",
   "metadata": {},
   "source": [
    "投票算法核心：众数就是即使所有其他数全投反对票，众数的票数依然多于其他所有票数的总和。\n",
    "\n",
    "题目保证一定存在众数，如果没有此保证则需要遍历两遍看两次结果是否相等。"
   ]
  },
  {
   "cell_type": "code",
   "execution_count": 20,
   "id": "34c6e9f7-15fe-495d-9ea0-2f9c4ea3804b",
   "metadata": {},
   "outputs": [],
   "source": [
    "class Solution:\n",
    "    def majorityElement(self, nums: List[int]) -> int:\n",
    "        count = 0\n",
    "        x = nums[0]\n",
    "        for n in nums:\n",
    "            if n == x: count += 1\n",
    "            else: count -= 1\n",
    "            if count <= 0: \n",
    "                x = n\n",
    "                count = 1\n",
    "        return x"
   ]
  },
  {
   "cell_type": "code",
   "execution_count": 21,
   "id": "cf3b7d81-8cc1-4162-96f5-7ca010bd5bd9",
   "metadata": {},
   "outputs": [],
   "source": [
    "nums = [1,3,1,1,4,1,1,5,1,1,6,2,2]"
   ]
  },
  {
   "cell_type": "code",
   "execution_count": 22,
   "id": "919f91f8-fa25-4022-9e71-28676860346e",
   "metadata": {},
   "outputs": [
    {
     "data": {
      "text/plain": [
       "1"
      ]
     },
     "execution_count": 22,
     "metadata": {},
     "output_type": "execute_result"
    }
   ],
   "source": [
    "s = Solution()\n",
    "s.majorityElement(nums)"
   ]
  },
  {
   "cell_type": "markdown",
   "id": "f3f429d9-9799-4e2b-8ee6-ad36b441676e",
   "metadata": {},
   "source": [
    "先更新候选人再更新票数会更加简洁与合理"
   ]
  },
  {
   "cell_type": "code",
   "execution_count": 23,
   "id": "4ae888b2-7f24-4160-8bbb-26e338beb5ba",
   "metadata": {},
   "outputs": [],
   "source": [
    "class Solution:\n",
    "    def majorityElement(self, nums: List[int]) -> int:\n",
    "        count = 0\n",
    "        candidate = None\n",
    "\n",
    "        for num in nums:\n",
    "            # 先更新候选人\n",
    "            if count == 0: candidate = num\n",
    "            # 再更新票数\n",
    "            count += (1 if num == candidate else -1)\n",
    "\n",
    "        return candidate"
   ]
  },
  {
   "cell_type": "markdown",
   "id": "560fe700-e977-4cf8-aac5-a48a3d8c0a3f",
   "metadata": {},
   "source": [
    "## [189. 轮转数组](https://leetcode.cn/problems/rotate-array/)"
   ]
  },
  {
   "cell_type": "markdown",
   "id": "e321ee2e-404a-45c9-bb21-ca88b0d861cc",
   "metadata": {},
   "source": [
    "记，先翻转 `[0, n)` 再前后分别翻转 `[0, k)` 和 `[k, n)` 等于轮转"
   ]
  },
  {
   "cell_type": "code",
   "execution_count": 58,
   "id": "9ed0102e-e049-4a9b-9a84-07613aa24eab",
   "metadata": {},
   "outputs": [],
   "source": [
    "class Solution:\n",
    "    def rotate(self, nums: List[int], k: int) -> None:\n",
    "        \"\"\"\n",
    "        Do not return anything, modify nums in-place instead.\n",
    "        \"\"\"\n",
    "        def reverse(left, right):\n",
    "            size = right - left\n",
    "            for i in range(size >> 1):\n",
    "                nums[left + i], nums[right - 1 - i] = nums[right - 1 - i], nums[left + i]\n",
    "        n = len(nums)\n",
    "        k %= n\n",
    "        reverse(0, n)\n",
    "        reverse(0, k)\n",
    "        reverse(k, n)"
   ]
  },
  {
   "cell_type": "markdown",
   "id": "16631f8e-9cc2-4a73-b62f-6fce0978230d",
   "metadata": {},
   "source": [
    "## [121. 买卖股票的最佳时机](https://leetcode.cn/problems/best-time-to-buy-and-sell-stock/)"
   ]
  },
  {
   "cell_type": "markdown",
   "id": "beb3f1ef-b8de-4d02-9699-77066122fd99",
   "metadata": {},
   "source": [
    "单调栈"
   ]
  },
  {
   "cell_type": "code",
   "execution_count": 61,
   "id": "d09a004a-cd64-4194-bdd0-eb972c2a6299",
   "metadata": {},
   "outputs": [],
   "source": [
    "class Solution:\n",
    "    def maxProfit(self, prices: List[int]) -> int:\n",
    "        stk = []\n",
    "        ans = 0\n",
    "        for p in prices:\n",
    "            if stk and p < stk[-1]: \n",
    "                while stk and stk[-1] > p: \n",
    "                    stk.pop()\n",
    "            stk.append(p)\n",
    "            ans = max(ans, stk[-1] - stk[0])\n",
    "        return ans"
   ]
  },
  {
   "cell_type": "markdown",
   "id": "bccc93f9-9142-4454-928d-8de8486fbb32",
   "metadata": {},
   "source": [
    "dp(其实仅仅是遍历)\n",
    "\n",
    "- ans 维护到目前为止的最大收入\n",
    "- premin 维护到目前为止的最低价格"
   ]
  },
  {
   "cell_type": "code",
   "execution_count": 62,
   "id": "4ff1d7f6-55eb-4aee-b727-66ce71e872c3",
   "metadata": {},
   "outputs": [],
   "source": [
    "class Solution:\n",
    "    def maxProfit(self, prices: List[int]) -> int:\n",
    "        ans = 0  # 代表dp数组，由于后一状态只与前一状态有关故使用一个变量即可\n",
    "        premin = prices[0]\n",
    "        for n in prices:\n",
    "            premin = min(premin, n)\n",
    "            ans = max(ans, n - premin)\n",
    "        return ans"
   ]
  },
  {
   "cell_type": "markdown",
   "id": "4aa36ab3-d70d-43a7-9d88-eee008271fa7",
   "metadata": {},
   "source": [
    "## [122. 买卖股票的最佳时机 II](https://leetcode.cn/problems/best-time-to-buy-and-sell-stock-ii/)"
   ]
  },
  {
   "cell_type": "markdown",
   "id": "6e38c514-c1c9-4482-8883-bd5008a0dd67",
   "metadata": {},
   "source": [
    "dp 的状态如何确定？\n",
    "\n",
    "考虑到「不能同时参与多笔交易」，因此每天交易结束后只可能存在**手里有一支股票**或者**没有股票**的状态。\n",
    "再想想前一天与后一天的状态如何转移就能解决了。"
   ]
  },
  {
   "cell_type": "code",
   "execution_count": 64,
   "id": "b9bbb36f-ad36-473f-aca8-9653b1267e02",
   "metadata": {},
   "outputs": [],
   "source": [
    "class Solution:\n",
    "    def maxProfit(self, prices: List[int]) -> int:\n",
    "        # a 代表当前手中没有股票的最大收益\n",
    "        # b 代表当前手中有股票的最大收益\n",
    "        a, b = 0, -prices[0]\n",
    "        for p in prices:\n",
    "            a = max(a, b + p)  # 继续不买或者把之前买的给卖了\n",
    "            b = max(b, a - p)  # 保持当前的股票或买今天的股票\n",
    "        return a"
   ]
  },
  {
   "cell_type": "markdown",
   "id": "37086b10-bc43-4034-be6c-a9e786ed5710",
   "metadata": {},
   "source": [
    "## [55. 跳跃游戏](https://leetcode.cn/problems/jump-game/)"
   ]
  },
  {
   "cell_type": "markdown",
   "id": "bb1d755b-f551-40f5-89a3-1350cf19a416",
   "metadata": {},
   "source": [
    "遍历数组，维护目前所能到达的最远距离，若目前的下标已经超过了最远距离，则不能抵达最后；若最远距离超过了最后一个下标，则能够抵达。"
   ]
  },
  {
   "cell_type": "code",
   "execution_count": 66,
   "id": "36618a99-4b66-436d-8f84-e98ddce97211",
   "metadata": {},
   "outputs": [],
   "source": [
    "class Solution:\n",
    "    def canJump(self, nums: List[int]) -> bool:\n",
    "        right = 0\n",
    "        n = len(nums)\n",
    "        for i in range(n):\n",
    "            if right < i: return False\n",
    "            if right >= n - 1: return True\n",
    "            right = max(right, i + nums[i])\n",
    "        return False"
   ]
  },
  {
   "cell_type": "markdown",
   "id": "661c36e3-0859-40ce-8e31-a682f42dbc75",
   "metadata": {},
   "source": [
    "## [45. 跳跃游戏 II](https://leetcode.cn/problems/jump-game-ii/)"
   ]
  },
  {
   "cell_type": "markdown",
   "id": "fcbb0600-2f51-49c3-a9c2-999246c600f0",
   "metadata": {},
   "source": [
    "需要一个变量储存以目前的步数下一步最远能到达哪里，以及目前的步数能到达的边界，到达目前的边界了就 `step + 1`，并且在新的步数能够到达的范围内继续更新下一步最远能到达的距离。"
   ]
  },
  {
   "cell_type": "code",
   "execution_count": 72,
   "id": "8982b936-912e-455c-b826-c1d23372eee0",
   "metadata": {},
   "outputs": [],
   "source": [
    "class Solution:\n",
    "    def jump(self, nums: List[int]) -> int:\n",
    "        step = curMax = bound = 0\n",
    "        n = len(nums)\n",
    "        for i in range(n - 1):\n",
    "            curMax = max(curMax, i + nums[i])\n",
    "            # 题目保证不会出现 i > bound 的情况\n",
    "            # 若此时处于倒数第二个元素位置，且处于目前的bound，step会自动加一\n",
    "            if i == bound:\n",
    "                step += 1\n",
    "                bound = curMax\n",
    "        return step"
   ]
  },
  {
   "cell_type": "markdown",
   "id": "f4a04be0-d401-4877-80fb-cd57704598d0",
   "metadata": {},
   "source": [
    "## [274. H指数](https://leetcode.cn/problems/h-index/)"
   ]
  },
  {
   "cell_type": "markdown",
   "id": "4bf159e7-c3ac-4a4c-8264-f4e5a3c27121",
   "metadata": {},
   "source": [
    "首先我们可以将初始的 $H$ 指数 $h$ 设为 $0$，然后将引用次数排序，并且对排序后的数组从大到小遍历。\n",
    "\n",
    "根据 $H$ 指数的定义，**如果当前 $H$ 指数为 $h$ 并且在遍历过程中找到当前值 $citations[i] > h$，则说明我们找到了一篇被引用了至少 $h + 1$ 次的论文**，所以将现有的 $h$ 值加 $1$。继续遍历直到 $h$ 无法继续增大。最后返回 $h$ 作为最终答案。"
   ]
  },
  {
   "cell_type": "code",
   "execution_count": 37,
   "id": "172ae7ad-cf37-4f1e-9963-7508ce074b4d",
   "metadata": {},
   "outputs": [],
   "source": [
    "class Solution:\n",
    "    def hIndex(self, citations: List[int]) -> int:\n",
    "        n = len(citations)\n",
    "        citations.sort(reverse=True)\n",
    "        h = 0\n",
    "        for c in citations:\n",
    "            if c > h: h += 1\n",
    "        return h"
   ]
  },
  {
   "cell_type": "markdown",
   "id": "090b9b01-4178-4337-84b2-e6afdb6485b4",
   "metadata": {},
   "source": [
    "根据上述解法我们发现，最终的时间复杂度与排序算法的时间复杂度有关，所以我们可以使用计数排序算法，新建并维护一个数组 $counter$ 用来记录当前引用次数的论文有几篇。\n",
    "\n",
    "根据定义，我们可以发现 $H$ 指数不可能大于总的论文发表数，所以对于引用次数超过论文发表数的情况，我们可以将其按照总的论文发表数来计算即可。这样我们可以限制参与排序的数的大小为 $[0, n]$（其中 $n$ 为总的论文发表数），使得计数排序的时间复杂度降低到 $O(n)$。\n",
    "\n",
    "最后我们可以从后向前遍历数组 $counter$，对于每个 $0 \\leq i \\leq n$，在数组 $counter$ 中得到大于或等于当前引用次数 $i$ 的总论文数。当我们找到一个 $H$ 指数时跳出循环，并返回结果。"
   ]
  },
  {
   "cell_type": "code",
   "execution_count": null,
   "id": "3d38395b-72f5-42fc-8e2a-1722e0972915",
   "metadata": {},
   "outputs": [],
   "source": [
    "class Solution:\n",
    "    def hIndex(self, citations: List[int]) -> int:\n",
    "        n = len(citations); tot = 0\n",
    "        counter = [0] * (n+1)\n",
    "        for c in citations:\n",
    "            if c >= n: counter[n] += 1\n",
    "            else: counter[c] += 1\n",
    "        # 枚举 H 因子\n",
    "        for i in range(n, -1, -1):\n",
    "            tot += counter[i]\n",
    "            # 文章总数大于等于引用次数\n",
    "            if tot >= i: return i\n",
    "        return 0"
   ]
  },
  {
   "cell_type": "code",
   "execution_count": 3,
   "id": "8ac4e4df-fea9-450d-b9ff-77ae2e0d9a06",
   "metadata": {},
   "outputs": [
    {
     "data": {
      "text/plain": [
       "[1]"
      ]
     },
     "execution_count": 3,
     "metadata": {},
     "output_type": "execute_result"
    }
   ],
   "source": [
    "a = {1}\n",
    "a.add(1)\n",
    "list(a)"
   ]
  },
  {
   "cell_type": "markdown",
   "id": "6667f87b-7613-4920-8a62-9404129c1470",
   "metadata": {},
   "source": [
    "## [380. O(1) 时间插入、删除和获取随机元素](https://leetcode.cn/problems/insert-delete-getrandom-o1/)"
   ]
  },
  {
   "cell_type": "markdown",
   "id": "2a2fb62e-96c3-40f4-92f0-7c927493a095",
   "metadata": {},
   "source": [
    "变长数组可以在 $O(1)$ 的时间内完成获取随机元素操作，但是由于无法在 $O(1)$ 的时间内判断元素是否存在，因此不能在 $O(1)$ 的时间内完成插入和删除操作。哈希表可以在 $O(1)$ 的时间内完成插入和删除操作，但是由于无法根据下标定位到特定元素，因此不能在 $O(1)$ 的时间内完成获取随机元素操作。为了满足插入、删除和获取随机元素操作的时间复杂度都是 $O(1)$，**需要将变长数组和哈希表结合，变长数组中存储元素，哈希表中存储每个元素在变长数组中的下标。**"
   ]
  },
  {
   "cell_type": "code",
   "execution_count": 11,
   "id": "0c0f0b44-8fb9-4ed4-bb28-43685e679171",
   "metadata": {},
   "outputs": [],
   "source": [
    "class RandomizedSet:\n",
    "\n",
    "    def __init__(self):\n",
    "        self.keys = list()\n",
    "        self.hashmap = dict()\n",
    "\n",
    "    def insert(self, val: int) -> bool:\n",
    "        if val in self.hashmap: return False\n",
    "        self.hashmap[val] = len(self.keys)  # 先记录下标\n",
    "        self.keys.append(val)  # 再插入 keys\n",
    "        return True\n",
    "\n",
    "    def remove(self, val: int) -> bool:\n",
    "        if val not in self.hashmap: return False\n",
    "        idx = self.hashmap[val]\n",
    "        self.keys[idx] = self.keys[-1]\n",
    "        # 更新索引位置\n",
    "        self.hashmap[self.keys[idx]] = idx\n",
    "        self.keys.pop()\n",
    "        del self.hashmap[val]\n",
    "        return True\n",
    "        \n",
    "    def getRandom(self) -> int:\n",
    "        return random.choice(self.keys)"
   ]
  },
  {
   "cell_type": "markdown",
   "id": "dd506f3f-3fdd-4a5e-9d35-a7496bb65a2c",
   "metadata": {},
   "source": [
    "## [238. 除自身以外数组的乘积](https://leetcode.cn/problems/product-of-array-except-self/)"
   ]
  },
  {
   "cell_type": "code",
   "execution_count": 23,
   "id": "2caf8d01-9c46-42de-9be1-bd9a181b8cf5",
   "metadata": {},
   "outputs": [],
   "source": [
    "from typing import List\n",
    "class Solution:\n",
    "    def productExceptSelf(self, nums: List[int]) -> List[int]:\n",
    "        n = len(nums)\n",
    "        left, right = [1] * (n + 1), [1] * (n + 1)\n",
    "        for i in range(n):\n",
    "            left[i + 1] = left[i] * nums[i]\n",
    "            right[n - 1 - i] = right[n - i] * nums[n - 1 - i]\n",
    "        return [left[i] * right[i + 1] for i in range(n)]"
   ]
  },
  {
   "cell_type": "code",
   "execution_count": 26,
   "id": "a6e2897a-5119-4078-b7c8-2f4c19c28709",
   "metadata": {},
   "outputs": [],
   "source": [
    "nums = [1,2,3,4]"
   ]
  },
  {
   "cell_type": "code",
   "execution_count": 27,
   "id": "b1bbc981-01e9-455a-ba8e-2ea544fa8716",
   "metadata": {},
   "outputs": [
    {
     "data": {
      "text/plain": [
       "[24, 12, 8, 6]"
      ]
     },
     "execution_count": 27,
     "metadata": {},
     "output_type": "execute_result"
    }
   ],
   "source": [
    "s = Solution()\n",
    "s.productExceptSelf(nums)"
   ]
  },
  {
   "cell_type": "markdown",
   "id": "37147b40-f06a-420b-a2f1-6e1cf28161da",
   "metadata": {},
   "source": [
    "空间复杂度为 O(1) 的解法"
   ]
  },
  {
   "cell_type": "code",
   "execution_count": 30,
   "id": "66ff2129-0ef2-4757-a3d8-d64dc02ac998",
   "metadata": {},
   "outputs": [],
   "source": [
    "class Solution:\n",
    "    def productExceptSelf(self, nums: List[int]) -> List[int]:\n",
    "        n = len(nums)\n",
    "        ans = [1] * n  # 索引 i 的左侧元素乘积\n",
    "        for i in range(1, n):\n",
    "            ans[i] = nums[i - 1] * ans[i - 1]\n",
    "        r = 1\n",
    "        for i in range(n - 1, -1, -1):\n",
    "            ans[i] *= r  # 索引 i 位置的结果乘以右边元素\n",
    "            r *= nums[i]  # 右边元素累乘\n",
    "        return ans"
   ]
  },
  {
   "cell_type": "markdown",
   "id": "c0d341f4-88d5-44c0-b0dc-962b2ffdc8c8",
   "metadata": {},
   "source": [
    "## [134. 加油站](https://leetcode.cn/problems/gas-station/)"
   ]
  },
  {
   "cell_type": "markdown",
   "id": "9bbcf90a-b108-4beb-a73e-bc05929849cb",
   "metadata": {},
   "source": [
    "> 已经在谷底了，怎么走都是往上"
   ]
  },
  {
   "cell_type": "markdown",
   "id": "bf86db2b-2322-436d-bec3-e8ca26396457",
   "metadata": {},
   "source": [
    "计算每一个站获得油量与消耗油量的差值，计算前缀和，若最终的差值之和小于零说明不可以绕一圈，否则可以，且从差值累计最低点的下一站出发，就必然能绕一圈"
   ]
  },
  {
   "cell_type": "code",
   "execution_count": 41,
   "id": "b0485343-df48-4923-a922-b18e933cb29d",
   "metadata": {},
   "outputs": [],
   "source": [
    "class Solution:\n",
    "    def canCompleteCircuit(self, gas: List[int], cost: List[int]) -> int:\n",
    "        n = len(gas)\n",
    "        curMin, pre, ans = 0, 0, -1\n",
    "        for i in range(n):\n",
    "            pre += gas[i] - cost[i]\n",
    "            if (pre < curMin):\n",
    "                curMin = pre\n",
    "                ans = i\n",
    "        return -1 if pre < 0 else (ans + 1) % n"
   ]
  },
  {
   "cell_type": "markdown",
   "id": "227119b6-1ee2-4fad-b192-34df049537d8",
   "metadata": {},
   "source": [
    "## [135. 分发糖果](https://leetcode.cn/problems/candy/)"
   ]
  },
  {
   "cell_type": "code",
   "execution_count": 42,
   "id": "47244558-65d9-4e29-87fb-2f179117d976",
   "metadata": {},
   "outputs": [],
   "source": [
    "from collections import deque\n",
    "class Solution:\n",
    "    def candy(self, ratings: List[int]) -> int:\n",
    "        stk = deque()\n",
    "        hashSet = set()\n",
    "        res = [0]\n",
    "        for n in ratings:\n",
    "            if not stk: \n",
    "                stk.append(n)\n",
    "                hashSet.add(n)\n",
    "                continue\n",
    "            if n > stk[-1]:\n",
    "                curSize = len(hashSet)\n",
    "                endVal = max(curSize, res[-1]) + 1\n",
    "                left, right = 0, 0\n",
    "                while right < n:\n",
    "                    if stk[left]\n",
    "                "
   ]
  },
  {
   "cell_type": "code",
   "execution_count": null,
   "id": "545b0f46-7bc1-4b0b-bfde-9702c3a43a37",
   "metadata": {},
   "outputs": [],
   "source": []
  },
  {
   "cell_type": "code",
   "execution_count": null,
   "id": "d55cfd7c-01ef-4da8-8229-7cc5a0d36f12",
   "metadata": {},
   "outputs": [],
   "source": []
  },
  {
   "cell_type": "code",
   "execution_count": null,
   "id": "eb19d784-cbd8-4435-a7de-cedc18c3c59d",
   "metadata": {},
   "outputs": [],
   "source": []
  },
  {
   "cell_type": "code",
   "execution_count": null,
   "id": "bbb4f85f-41a6-46bc-a3d1-f5908be600f5",
   "metadata": {},
   "outputs": [],
   "source": []
  },
  {
   "cell_type": "code",
   "execution_count": null,
   "id": "66ebfadb-fc2d-46bc-b0f9-dbe70cfa44fc",
   "metadata": {},
   "outputs": [],
   "source": []
  },
  {
   "cell_type": "code",
   "execution_count": null,
   "id": "4f48a08b-024c-43a2-85e4-745c77bffeb3",
   "metadata": {},
   "outputs": [],
   "source": []
  },
  {
   "cell_type": "code",
   "execution_count": null,
   "id": "fd3682ac-6641-4f15-85be-216cd4cc3686",
   "metadata": {},
   "outputs": [],
   "source": []
  },
  {
   "cell_type": "code",
   "execution_count": null,
   "id": "8dac1ffe-e4a2-4937-af67-359e4f17b484",
   "metadata": {},
   "outputs": [],
   "source": []
  },
  {
   "cell_type": "code",
   "execution_count": null,
   "id": "91e86fff-90d6-4397-b57d-f0e2501800c5",
   "metadata": {},
   "outputs": [],
   "source": []
  },
  {
   "cell_type": "code",
   "execution_count": null,
   "id": "9353e99f-d344-4009-a65c-879f5a4fb197",
   "metadata": {},
   "outputs": [],
   "source": []
  },
  {
   "cell_type": "code",
   "execution_count": null,
   "id": "ccdbab14-8d74-4b9a-8326-4fa8f9925f6b",
   "metadata": {},
   "outputs": [],
   "source": []
  },
  {
   "cell_type": "code",
   "execution_count": null,
   "id": "1af7b312-3426-4b18-913b-b02b28858130",
   "metadata": {},
   "outputs": [],
   "source": []
  }
 ],
 "metadata": {
  "kernelspec": {
   "display_name": "Python 3 (ipykernel)",
   "language": "python",
   "name": "python3"
  },
  "language_info": {
   "codemirror_mode": {
    "name": "ipython",
    "version": 3
   },
   "file_extension": ".py",
   "mimetype": "text/x-python",
   "name": "python",
   "nbconvert_exporter": "python",
   "pygments_lexer": "ipython3",
   "version": "3.9.7"
  }
 },
 "nbformat": 4,
 "nbformat_minor": 5
}
