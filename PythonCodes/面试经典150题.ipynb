{
 "cells": [
  {
   "cell_type": "markdown",
   "id": "e4e742d3-fedb-4bc2-aae6-b7d1d611e1cb",
   "metadata": {},
   "source": [
    "## [88.合并两个有序数组](https://leetcode.cn/problems/merge-sorted-array/)"
   ]
  },
  {
   "cell_type": "code",
   "execution_count": 2,
   "id": "5344012a-73ab-4cb3-936a-377f94d5b72b",
   "metadata": {},
   "outputs": [],
   "source": [
    "from typing import List\n",
    "class Solution:\n",
    "    def merge(self, nums1: List[int], m: int, nums2: List[int], n: int) -> None:\n",
    "        \"\"\"\n",
    "        Do not return anything, modify nums1 in-place instead.\n",
    "        \"\"\"\n",
    "        curIdx = m + n - 1\n",
    "        m -= 1\n",
    "        n -= 1\n",
    "        while (m >= 0) and (n >= 0):\n",
    "            if nums1[m] >= nums2[n]:\n",
    "                nums1[curIdx] = nums1[m]\n",
    "                m -= 1\n",
    "            else:\n",
    "                nums1[curIdx] = nums2[n]\n",
    "                n -= 1\n",
    "            curIdx -= 1\n",
    "        while n >= 0:\n",
    "            nums1[n] = nums2[n]\n",
    "            n -= 1"
   ]
  },
  {
   "cell_type": "markdown",
   "id": "69aeba69-dea4-4c9d-9ae1-2b0552394fe2",
   "metadata": {},
   "source": [
    "## [27.移除元素](https://leetcode.cn/problems/remove-element/)(边界条件太复杂，还是背了吧)"
   ]
  },
  {
   "cell_type": "markdown",
   "id": "f94a9532-f7e3-4e9f-8a61-2f320184f579",
   "metadata": {},
   "source": [
    "边界条件如何确定？\n",
    "\n",
    "首先，一定是 `left >= right` 就结束循环，因为两个指针重叠时值会相等，会多进行一部交换，容易产生许多 bug；其次，最终结果的范围为 `0 ~ n`，`n` 为数组长度，如果想让一个指针，如 `left` 能够覆盖所有的结果，就需要 `left = 0, right = n`，才有可能处理边界情况。"
   ]
  },
  {
   "cell_type": "code",
   "execution_count": 16,
   "id": "2ef4caf6-d837-4f8c-9a9f-79decfeb34da",
   "metadata": {},
   "outputs": [],
   "source": [
    "class Solution:\n",
    "    def removeElement(self, nums: List[int], val: int) -> int:\n",
    "        n = len(nums)\n",
    "        left, right = 0, n\n",
    "        while left < right:\n",
    "            if nums[left] == val:\n",
    "                nums[left] = nums[right - 1]\n",
    "                right -= 1\n",
    "            else: left += 1\n",
    "        return left"
   ]
  },
  {
   "cell_type": "markdown",
   "id": "31cc5607-eaf7-4143-99cd-6a393ae2ba9f",
   "metadata": {},
   "source": [
    "## [26.删除有序数组中的重复项](https://leetcode.cn/problems/remove-duplicates-from-sorted-array/)"
   ]
  },
  {
   "cell_type": "markdown",
   "id": "4e2348d3-7beb-4d58-b79c-ab1775657c0c",
   "metadata": {},
   "source": [
    "思考边界：合理的方法应该是左指针始终指向独特的元素，右指针遍历，当右指针发现新元素时左指针 `++` 并记录新元素，右指针越界时退出循环，最后返回 `left + 1`，理清了总体框架里面的内容就比较好写了。"
   ]
  },
  {
   "cell_type": "code",
   "execution_count": 18,
   "id": "d0a47502-be9d-457a-8878-ba67ecf6a158",
   "metadata": {},
   "outputs": [],
   "source": [
    "class Solution:\n",
    "    def removeDuplicates(self, nums: List[int]) -> int:\n",
    "        n = len(nums)\n",
    "        left, right = 0, 1\n",
    "        while right < n:\n",
    "            if nums[right] == nums[left]: right += 1\n",
    "            else:\n",
    "                left += 1\n",
    "                nums[left] = nums[right]\n",
    "        return left + 1"
   ]
  },
  {
   "cell_type": "code",
   "execution_count": null,
   "id": "a59aa5f1-7cea-43db-b546-5907e5cb9f98",
   "metadata": {},
   "outputs": [],
   "source": []
  },
  {
   "cell_type": "code",
   "execution_count": null,
   "id": "2621ffd6-6425-4eed-9354-33f41adaf323",
   "metadata": {},
   "outputs": [],
   "source": []
  },
  {
   "cell_type": "code",
   "execution_count": null,
   "id": "b2baa6e8-a1ec-47d7-9cb9-c8084ec295dc",
   "metadata": {},
   "outputs": [],
   "source": []
  },
  {
   "cell_type": "code",
   "execution_count": null,
   "id": "11c1bbe1-f753-403d-880f-217dbadbfad1",
   "metadata": {},
   "outputs": [],
   "source": []
  },
  {
   "cell_type": "code",
   "execution_count": null,
   "id": "0a5aa68c-228c-4b1a-b7a1-0edfca128f30",
   "metadata": {},
   "outputs": [],
   "source": []
  },
  {
   "cell_type": "code",
   "execution_count": null,
   "id": "59990a41-966e-4d98-8edc-0b1022d24e48",
   "metadata": {},
   "outputs": [],
   "source": []
  },
  {
   "cell_type": "code",
   "execution_count": null,
   "id": "34c6e9f7-15fe-495d-9ea0-2f9c4ea3804b",
   "metadata": {},
   "outputs": [],
   "source": []
  },
  {
   "cell_type": "code",
   "execution_count": null,
   "id": "cf3b7d81-8cc1-4162-96f5-7ca010bd5bd9",
   "metadata": {},
   "outputs": [],
   "source": []
  },
  {
   "cell_type": "code",
   "execution_count": null,
   "id": "919f91f8-fa25-4022-9e71-28676860346e",
   "metadata": {},
   "outputs": [],
   "source": []
  },
  {
   "cell_type": "code",
   "execution_count": null,
   "id": "4ae888b2-7f24-4160-8bbb-26e338beb5ba",
   "metadata": {},
   "outputs": [],
   "source": []
  },
  {
   "cell_type": "code",
   "execution_count": null,
   "id": "6d8edde3-1256-4241-a19d-6addb09c30e0",
   "metadata": {},
   "outputs": [],
   "source": []
  },
  {
   "cell_type": "code",
   "execution_count": null,
   "id": "9ed0102e-e049-4a9b-9a84-07613aa24eab",
   "metadata": {},
   "outputs": [],
   "source": []
  },
  {
   "cell_type": "code",
   "execution_count": null,
   "id": "c6d132c9-a916-4c40-946b-e078b1df9b70",
   "metadata": {},
   "outputs": [],
   "source": []
  },
  {
   "cell_type": "code",
   "execution_count": null,
   "id": "a91f9596-43f9-4abf-b9a6-0f91d274b71c",
   "metadata": {},
   "outputs": [],
   "source": []
  },
  {
   "cell_type": "code",
   "execution_count": null,
   "id": "469d7933-f40b-4a78-bec6-cc56c4c9222c",
   "metadata": {},
   "outputs": [],
   "source": []
  },
  {
   "cell_type": "code",
   "execution_count": null,
   "id": "d09a004a-cd64-4194-bdd0-eb972c2a6299",
   "metadata": {},
   "outputs": [],
   "source": []
  },
  {
   "cell_type": "code",
   "execution_count": null,
   "id": "4ff1d7f6-55eb-4aee-b727-66ce71e872c3",
   "metadata": {},
   "outputs": [],
   "source": []
  },
  {
   "cell_type": "code",
   "execution_count": null,
   "id": "dc8e778a-8a3a-4e23-b112-8c6eda92f02c",
   "metadata": {},
   "outputs": [],
   "source": []
  },
  {
   "cell_type": "code",
   "execution_count": null,
   "id": "b9bbb36f-ad36-473f-aca8-9653b1267e02",
   "metadata": {},
   "outputs": [],
   "source": []
  },
  {
   "cell_type": "code",
   "execution_count": null,
   "id": "a1cc29bb-7b1a-4369-a160-184c44582fc3",
   "metadata": {},
   "outputs": [],
   "source": []
  },
  {
   "cell_type": "code",
   "execution_count": null,
   "id": "36618a99-4b66-436d-8f84-e98ddce97211",
   "metadata": {},
   "outputs": [],
   "source": []
  },
  {
   "cell_type": "code",
   "execution_count": null,
   "id": "ba741306-5fa3-4202-83ff-0c4fb378c786",
   "metadata": {},
   "outputs": [],
   "source": []
  },
  {
   "cell_type": "code",
   "execution_count": null,
   "id": "8982b936-912e-455c-b826-c1d23372eee0",
   "metadata": {},
   "outputs": [],
   "source": []
  },
  {
   "cell_type": "code",
   "execution_count": null,
   "id": "97b9f9e6-df35-47b2-bef6-e86ec89c671c",
   "metadata": {},
   "outputs": [],
   "source": []
  },
  {
   "cell_type": "code",
   "execution_count": null,
   "id": "234acbf0-f146-4c5c-996f-8e683a177799",
   "metadata": {},
   "outputs": [],
   "source": []
  },
  {
   "cell_type": "code",
   "execution_count": null,
   "id": "7c0f7694-378a-4595-b72b-09ab88bb05cc",
   "metadata": {},
   "outputs": [],
   "source": []
  },
  {
   "cell_type": "code",
   "execution_count": null,
   "id": "9963f5c4-63b2-4e86-aa69-40db822c49d1",
   "metadata": {},
   "outputs": [],
   "source": []
  },
  {
   "cell_type": "code",
   "execution_count": null,
   "id": "b58d8d05-fbb3-47c6-a64e-d797461ad14b",
   "metadata": {},
   "outputs": [],
   "source": []
  },
  {
   "cell_type": "code",
   "execution_count": null,
   "id": "0e75b678-a1e4-44ff-b4ed-d7528f4aaa95",
   "metadata": {},
   "outputs": [],
   "source": []
  },
  {
   "cell_type": "code",
   "execution_count": null,
   "id": "066e7ea9-8808-495c-96f8-2a1503abc10c",
   "metadata": {},
   "outputs": [],
   "source": []
  },
  {
   "cell_type": "code",
   "execution_count": null,
   "id": "4b6d4806-878b-496b-a524-2e62c0b4d588",
   "metadata": {},
   "outputs": [],
   "source": []
  },
  {
   "cell_type": "code",
   "execution_count": null,
   "id": "e431c698-e395-453f-bbd8-c31124934a2b",
   "metadata": {},
   "outputs": [],
   "source": []
  },
  {
   "cell_type": "code",
   "execution_count": null,
   "id": "172ae7ad-cf37-4f1e-9963-7508ce074b4d",
   "metadata": {},
   "outputs": [],
   "source": []
  },
  {
   "cell_type": "code",
   "execution_count": null,
   "id": "3d38395b-72f5-42fc-8e2a-1722e0972915",
   "metadata": {},
   "outputs": [],
   "source": []
  },
  {
   "cell_type": "code",
   "execution_count": null,
   "id": "f439758a-55cc-406c-81e5-497ae75223c3",
   "metadata": {},
   "outputs": [],
   "source": []
  },
  {
   "cell_type": "code",
   "execution_count": null,
   "id": "8ac4e4df-fea9-450d-b9ff-77ae2e0d9a06",
   "metadata": {},
   "outputs": [],
   "source": []
  },
  {
   "cell_type": "code",
   "execution_count": null,
   "id": "80955d53-52bb-4849-8aa4-ecc54100c714",
   "metadata": {},
   "outputs": [],
   "source": []
  },
  {
   "cell_type": "code",
   "execution_count": null,
   "id": "37d815ff-7f54-4bd8-a304-9badc8a2998d",
   "metadata": {},
   "outputs": [],
   "source": []
  },
  {
   "cell_type": "code",
   "execution_count": null,
   "id": "0c0f0b44-8fb9-4ed4-bb28-43685e679171",
   "metadata": {},
   "outputs": [],
   "source": []
  },
  {
   "cell_type": "code",
   "execution_count": null,
   "id": "6a6feaa4-bdf2-467e-ae74-ac69ce1abb4b",
   "metadata": {},
   "outputs": [],
   "source": []
  },
  {
   "cell_type": "code",
   "execution_count": null,
   "id": "4fd38725-fdf9-4baa-9760-201688a3dcb1",
   "metadata": {},
   "outputs": [],
   "source": []
  },
  {
   "cell_type": "code",
   "execution_count": null,
   "id": "92827f6a-68ac-4e04-8f1e-45b9cce615a1",
   "metadata": {},
   "outputs": [],
   "source": []
  },
  {
   "cell_type": "code",
   "execution_count": null,
   "id": "66ebfadb-fc2d-46bc-b0f9-dbe70cfa44fc",
   "metadata": {},
   "outputs": [],
   "source": []
  },
  {
   "cell_type": "code",
   "execution_count": null,
   "id": "4f48a08b-024c-43a2-85e4-745c77bffeb3",
   "metadata": {},
   "outputs": [],
   "source": []
  },
  {
   "cell_type": "code",
   "execution_count": null,
   "id": "fd3682ac-6641-4f15-85be-216cd4cc3686",
   "metadata": {},
   "outputs": [],
   "source": []
  },
  {
   "cell_type": "code",
   "execution_count": null,
   "id": "8dac1ffe-e4a2-4937-af67-359e4f17b484",
   "metadata": {},
   "outputs": [],
   "source": []
  },
  {
   "cell_type": "code",
   "execution_count": null,
   "id": "91e86fff-90d6-4397-b57d-f0e2501800c5",
   "metadata": {},
   "outputs": [],
   "source": []
  },
  {
   "cell_type": "code",
   "execution_count": null,
   "id": "9353e99f-d344-4009-a65c-879f5a4fb197",
   "metadata": {},
   "outputs": [],
   "source": []
  },
  {
   "cell_type": "code",
   "execution_count": null,
   "id": "ccdbab14-8d74-4b9a-8326-4fa8f9925f6b",
   "metadata": {},
   "outputs": [],
   "source": []
  },
  {
   "cell_type": "code",
   "execution_count": null,
   "id": "1af7b312-3426-4b18-913b-b02b28858130",
   "metadata": {},
   "outputs": [],
   "source": []
  }
 ],
 "metadata": {
  "kernelspec": {
   "display_name": "Python 3 (ipykernel)",
   "language": "python",
   "name": "python3"
  },
  "language_info": {
   "codemirror_mode": {
    "name": "ipython",
    "version": 3
   },
   "file_extension": ".py",
   "mimetype": "text/x-python",
   "name": "python",
   "nbconvert_exporter": "python",
   "pygments_lexer": "ipython3",
   "version": "3.6.3"
  }
 },
 "nbformat": 4,
 "nbformat_minor": 5
}
