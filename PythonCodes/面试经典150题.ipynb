{
 "cells": [
  {
   "cell_type": "markdown",
   "id": "e4e742d3-fedb-4bc2-aae6-b7d1d611e1cb",
   "metadata": {},
   "source": [
    "## [88. 合并两个有序数组](https://leetcode.cn/problems/merge-sorted-array/)"
   ]
  },
  {
   "cell_type": "code",
   "execution_count": 1,
   "id": "5344012a-73ab-4cb3-936a-377f94d5b72b",
   "metadata": {},
   "outputs": [],
   "source": [
    "from typing import List\n",
    "class Solution:\n",
    "    def merge(self, nums1: List[int], m: int, nums2: List[int], n: int) -> None:\n",
    "        \"\"\"\n",
    "        Do not return anything, modify nums1 in-place instead.\n",
    "        \"\"\"\n",
    "        curIdx = m + n - 1\n",
    "        m -= 1\n",
    "        n -= 1\n",
    "        while (m >= 0) and (n >= 0):\n",
    "            if nums1[m] >= nums2[n]:\n",
    "                nums1[curIdx] = nums1[m]\n",
    "                m -= 1\n",
    "            else:\n",
    "                nums1[curIdx] = nums2[n]\n",
    "                n -= 1\n",
    "            curIdx -= 1\n",
    "        while n >= 0:\n",
    "            nums1[n] = nums2[n]\n",
    "            n -= 1"
   ]
  },
  {
   "cell_type": "markdown",
   "id": "69aeba69-dea4-4c9d-9ae1-2b0552394fe2",
   "metadata": {},
   "source": [
    "## [27. 移除元素](https://leetcode.cn/problems/remove-element/)(边界条件太复杂，还是背了吧)"
   ]
  },
  {
   "cell_type": "markdown",
   "id": "f94a9532-f7e3-4e9f-8a61-2f320184f579",
   "metadata": {},
   "source": [
    "边界条件如何确定？\n",
    "\n",
    "首先，一定是 `left >= right` 就结束循环，因为两个指针重叠时值会相等，会多进行一部交换，容易产生许多 bug；其次，最终结果的范围为 `0 ~ n`，`n` 为数组长度，如果想让一个指针，如 `left` 能够覆盖所有的结果，就需要 `left = 0, right = n`，才有可能处理边界情况。"
   ]
  },
  {
   "cell_type": "code",
   "execution_count": 2,
   "id": "2ef4caf6-d837-4f8c-9a9f-79decfeb34da",
   "metadata": {},
   "outputs": [],
   "source": [
    "class Solution:\n",
    "    def removeElement(self, nums: List[int], val: int) -> int:\n",
    "        n = len(nums)\n",
    "        left, right = 0, n\n",
    "        while left < right:\n",
    "            if nums[left] == val:\n",
    "                nums[left] = nums[right - 1]\n",
    "                right -= 1\n",
    "            else: left += 1\n",
    "        return left"
   ]
  },
  {
   "cell_type": "markdown",
   "id": "31cc5607-eaf7-4143-99cd-6a393ae2ba9f",
   "metadata": {},
   "source": [
    "## [26. 删除有序数组中的重复项](https://leetcode.cn/problems/remove-duplicates-from-sorted-array/)"
   ]
  },
  {
   "cell_type": "markdown",
   "id": "4e2348d3-7beb-4d58-b79c-ab1775657c0c",
   "metadata": {},
   "source": [
    "思考边界：合理的方法应该是左指针始终指向独特的元素，右指针遍历，当右指针发现新元素时左指针 `++` 并记录新元素，右指针越界时退出循环，最后返回 `left + 1`，理清了总体框架里面的内容就比较好写了。"
   ]
  },
  {
   "cell_type": "code",
   "execution_count": 3,
   "id": "d0a47502-be9d-457a-8878-ba67ecf6a158",
   "metadata": {},
   "outputs": [],
   "source": [
    "class Solution:\n",
    "    def removeDuplicates(self, nums: List[int]) -> int:\n",
    "        n = len(nums)\n",
    "        left, right = 0, 1\n",
    "        while right < n:\n",
    "            if nums[right] == nums[left]: right += 1\n",
    "            else:\n",
    "                left += 1\n",
    "                nums[left] = nums[right]\n",
    "        return left + 1"
   ]
  },
  {
   "cell_type": "markdown",
   "id": "a59aa5f1-7cea-43db-b546-5907e5cb9f98",
   "metadata": {},
   "source": [
    "## [80. 删除有序数组中的重复项 II](https://leetcode.cn/problems/remove-duplicates-from-sorted-array-ii/)"
   ]
  },
  {
   "cell_type": "code",
   "execution_count": 14,
   "id": "2621ffd6-6425-4eed-9354-33f41adaf323",
   "metadata": {},
   "outputs": [],
   "source": [
    "from typing import List\n",
    "class Solution:\n",
    "    def removeDuplicates(self, nums: List[int]) -> int:\n",
    "        nums.append(float(\"Inf\"))\n",
    "        n = len(nums)\n",
    "        left, start, right = 0, 0, 1\n",
    "        while right < n:\n",
    "            if nums[right] != nums[start]:\n",
    "                cur = nums[start]\n",
    "                for _ in range(min(2, right - start)):\n",
    "                    nums[left] = cur\n",
    "                    left += 1\n",
    "                start = right\n",
    "            right += 1\n",
    "        # print(nums)\n",
    "        return left"
   ]
  },
  {
   "cell_type": "code",
   "execution_count": 15,
   "id": "b2baa6e8-a1ec-47d7-9cb9-c8084ec295dc",
   "metadata": {},
   "outputs": [],
   "source": [
    "nums = [0,0,1,1,1,1,2,3,3]"
   ]
  },
  {
   "cell_type": "code",
   "execution_count": 16,
   "id": "11c1bbe1-f753-403d-880f-217dbadbfad1",
   "metadata": {},
   "outputs": [
    {
     "data": {
      "text/plain": [
       "7"
      ]
     },
     "execution_count": 16,
     "metadata": {},
     "output_type": "execute_result"
    }
   ],
   "source": [
    "s = Solution()\n",
    "s.removeDuplicates(nums)"
   ]
  },
  {
   "cell_type": "code",
   "execution_count": 13,
   "id": "0a5aa68c-228c-4b1a-b7a1-0edfca128f30",
   "metadata": {},
   "outputs": [],
   "source": [
    "from typing import List\n",
    "class Solution:\n",
    "    def removeDuplicates(self, nums: List[int]) -> int:\n",
    "        n = len(nums)\n",
    "        if n <= 2: return n\n",
    "        slow = fast = 2\n",
    "        while fast < n:\n",
    "            if (nums[slow - 2] != nums[fast]):\n",
    "                nums[slow] = nums[fast]\n",
    "                slow += 1\n",
    "            fast += 1\n",
    "        return slow"
   ]
  },
  {
   "cell_type": "markdown",
   "id": "329b948e-f3d6-44d8-91d9-af03a5114a3b",
   "metadata": {},
   "source": [
    "## [169.多数元素](https://leetcode.cn/problems/majority-element/)"
   ]
  },
  {
   "cell_type": "markdown",
   "id": "f873ad98-9f76-4c0b-af44-9a7c8d446e28",
   "metadata": {},
   "source": [
    "投票算法核心：众数就是即使所有其他数全投反对票，众数的票数依然多于其他所有票数的总和。\n",
    "\n",
    "题目保证一定存在众数，如果没有此保证则需要遍历两遍看两次结果是否相等。"
   ]
  },
  {
   "cell_type": "code",
   "execution_count": 20,
   "id": "34c6e9f7-15fe-495d-9ea0-2f9c4ea3804b",
   "metadata": {},
   "outputs": [],
   "source": [
    "class Solution:\n",
    "    def majorityElement(self, nums: List[int]) -> int:\n",
    "        count = 0\n",
    "        x = nums[0]\n",
    "        for n in nums:\n",
    "            if n == x: count += 1\n",
    "            else: count -= 1\n",
    "            if count <= 0: \n",
    "                x = n\n",
    "                count = 1\n",
    "        return x"
   ]
  },
  {
   "cell_type": "code",
   "execution_count": 21,
   "id": "cf3b7d81-8cc1-4162-96f5-7ca010bd5bd9",
   "metadata": {},
   "outputs": [],
   "source": [
    "nums = [1,3,1,1,4,1,1,5,1,1,6,2,2]"
   ]
  },
  {
   "cell_type": "code",
   "execution_count": 22,
   "id": "919f91f8-fa25-4022-9e71-28676860346e",
   "metadata": {},
   "outputs": [
    {
     "data": {
      "text/plain": [
       "1"
      ]
     },
     "execution_count": 22,
     "metadata": {},
     "output_type": "execute_result"
    }
   ],
   "source": [
    "s = Solution()\n",
    "s.majorityElement(nums)"
   ]
  },
  {
   "cell_type": "markdown",
   "id": "f3f429d9-9799-4e2b-8ee6-ad36b441676e",
   "metadata": {},
   "source": [
    "先更新候选人再更新票数会更加简洁与合理"
   ]
  },
  {
   "cell_type": "code",
   "execution_count": 23,
   "id": "4ae888b2-7f24-4160-8bbb-26e338beb5ba",
   "metadata": {},
   "outputs": [],
   "source": [
    "class Solution:\n",
    "    def majorityElement(self, nums: List[int]) -> int:\n",
    "        count = 0\n",
    "        candidate = None\n",
    "\n",
    "        for num in nums:\n",
    "            # 先更新候选人\n",
    "            if count == 0: candidate = num\n",
    "            # 再更新票数\n",
    "            count += (1 if num == candidate else -1)\n",
    "\n",
    "        return candidate"
   ]
  },
  {
   "cell_type": "markdown",
   "id": "560fe700-e977-4cf8-aac5-a48a3d8c0a3f",
   "metadata": {},
   "source": [
    "## [189. 轮转数组](https://leetcode.cn/problems/rotate-array/)"
   ]
  },
  {
   "cell_type": "markdown",
   "id": "e321ee2e-404a-45c9-bb21-ca88b0d861cc",
   "metadata": {},
   "source": [
    "记，先翻转 `[0, n)` 再前后分别翻转 `[0, k)` 和 `[k, n)` 等于轮转"
   ]
  },
  {
   "cell_type": "code",
   "execution_count": 58,
   "id": "9ed0102e-e049-4a9b-9a84-07613aa24eab",
   "metadata": {},
   "outputs": [],
   "source": [
    "class Solution:\n",
    "    def rotate(self, nums: List[int], k: int) -> None:\n",
    "        \"\"\"\n",
    "        Do not return anything, modify nums in-place instead.\n",
    "        \"\"\"\n",
    "        def reverse(left, right):\n",
    "            size = right - left\n",
    "            for i in range(size >> 1):\n",
    "                nums[left + i], nums[right - 1 - i] = nums[right - 1 - i], nums[left + i]\n",
    "        n = len(nums)\n",
    "        k %= n\n",
    "        reverse(0, n)\n",
    "        reverse(0, k)\n",
    "        reverse(k, n)"
   ]
  },
  {
   "cell_type": "markdown",
   "id": "16631f8e-9cc2-4a73-b62f-6fce0978230d",
   "metadata": {},
   "source": [
    "## [121. 买卖股票的最佳时机](https://leetcode.cn/problems/best-time-to-buy-and-sell-stock/)"
   ]
  },
  {
   "cell_type": "markdown",
   "id": "beb3f1ef-b8de-4d02-9699-77066122fd99",
   "metadata": {},
   "source": [
    "单调栈"
   ]
  },
  {
   "cell_type": "code",
   "execution_count": 61,
   "id": "d09a004a-cd64-4194-bdd0-eb972c2a6299",
   "metadata": {},
   "outputs": [],
   "source": [
    "class Solution:\n",
    "    def maxProfit(self, prices: List[int]) -> int:\n",
    "        stk = []\n",
    "        ans = 0\n",
    "        for p in prices:\n",
    "            if stk and p < stk[-1]: \n",
    "                while stk and stk[-1] > p: \n",
    "                    stk.pop()\n",
    "            stk.append(p)\n",
    "            ans = max(ans, stk[-1] - stk[0])\n",
    "        return ans"
   ]
  },
  {
   "cell_type": "markdown",
   "id": "bccc93f9-9142-4454-928d-8de8486fbb32",
   "metadata": {},
   "source": [
    "dp(其实仅仅是遍历)\n",
    "\n",
    "- ans 维护到目前为止的最大收入\n",
    "- premin 维护到目前为止的最低价格"
   ]
  },
  {
   "cell_type": "code",
   "execution_count": 62,
   "id": "4ff1d7f6-55eb-4aee-b727-66ce71e872c3",
   "metadata": {},
   "outputs": [],
   "source": [
    "class Solution:\n",
    "    def maxProfit(self, prices: List[int]) -> int:\n",
    "        ans = 0  # 代表dp数组，由于后一状态只与前一状态有关故使用一个变量即可\n",
    "        premin = prices[0]\n",
    "        for n in prices:\n",
    "            premin = min(premin, n)\n",
    "            ans = max(ans, n - premin)\n",
    "        return ans"
   ]
  },
  {
   "cell_type": "markdown",
   "id": "4aa36ab3-d70d-43a7-9d88-eee008271fa7",
   "metadata": {},
   "source": [
    "## [122. 买卖股票的最佳时机 II](https://leetcode.cn/problems/best-time-to-buy-and-sell-stock-ii/)"
   ]
  },
  {
   "cell_type": "markdown",
   "id": "6e38c514-c1c9-4482-8883-bd5008a0dd67",
   "metadata": {},
   "source": [
    "dp 的状态如何确定？\n",
    "\n",
    "考虑到「不能同时参与多笔交易」，因此每天交易结束后只可能存在**手里有一支股票**或者**没有股票**的状态。\n",
    "再想想前一天与后一天的状态如何转移就能解决了。"
   ]
  },
  {
   "cell_type": "code",
   "execution_count": 64,
   "id": "b9bbb36f-ad36-473f-aca8-9653b1267e02",
   "metadata": {},
   "outputs": [],
   "source": [
    "class Solution:\n",
    "    def maxProfit(self, prices: List[int]) -> int:\n",
    "        # a 代表当前手中没有股票的最大收益\n",
    "        # b 代表当前手中有股票的最大收益\n",
    "        a, b = 0, -prices[0]\n",
    "        for p in prices:\n",
    "            a = max(a, b + p)  # 继续不买或者把之前买的给卖了\n",
    "            b = max(b, a - p)  # 保持当前的股票或买今天的股票\n",
    "        return a"
   ]
  },
  {
   "cell_type": "markdown",
   "id": "37086b10-bc43-4034-be6c-a9e786ed5710",
   "metadata": {},
   "source": [
    "## [55. 跳跃游戏](https://leetcode.cn/problems/jump-game/)"
   ]
  },
  {
   "cell_type": "markdown",
   "id": "bb1d755b-f551-40f5-89a3-1350cf19a416",
   "metadata": {},
   "source": [
    "遍历数组，维护目前所能到达的最远距离，若目前的下标已经超过了最远距离，则不能抵达最后；若最远距离超过了最后一个下标，则能够抵达。"
   ]
  },
  {
   "cell_type": "code",
   "execution_count": 66,
   "id": "36618a99-4b66-436d-8f84-e98ddce97211",
   "metadata": {},
   "outputs": [],
   "source": [
    "class Solution:\n",
    "    def canJump(self, nums: List[int]) -> bool:\n",
    "        right = 0\n",
    "        n = len(nums)\n",
    "        for i in range(n):\n",
    "            if right < i: return False\n",
    "            if right >= n - 1: return True\n",
    "            right = max(right, i + nums[i])\n",
    "        return False"
   ]
  },
  {
   "cell_type": "markdown",
   "id": "661c36e3-0859-40ce-8e31-a682f42dbc75",
   "metadata": {},
   "source": [
    "## [45. 跳跃游戏 II](https://leetcode.cn/problems/jump-game-ii/)"
   ]
  },
  {
   "cell_type": "markdown",
   "id": "fcbb0600-2f51-49c3-a9c2-999246c600f0",
   "metadata": {},
   "source": [
    "需要一个变量储存以目前的步数下一步最远能到达哪里，以及目前的步数能到达的边界，到达目前的边界了就 `step + 1`，并且在新的步数能够到达的范围内继续更新下一步最远能到达的距离。"
   ]
  },
  {
   "cell_type": "code",
   "execution_count": 72,
   "id": "8982b936-912e-455c-b826-c1d23372eee0",
   "metadata": {},
   "outputs": [],
   "source": [
    "class Solution:\n",
    "    def jump(self, nums: List[int]) -> int:\n",
    "        step = curMax = bound = 0\n",
    "        n = len(nums)\n",
    "        for i in range(n - 1):\n",
    "            curMax = max(curMax, i + nums[i])\n",
    "            # 题目保证不会出现 i > bound 的情况\n",
    "            # 若此时处于倒数第二个元素位置，且处于目前的bound，step会自动加一\n",
    "            if i == bound:\n",
    "                step += 1\n",
    "                bound = curMax\n",
    "        return step"
   ]
  },
  {
   "cell_type": "markdown",
   "id": "f4a04be0-d401-4877-80fb-cd57704598d0",
   "metadata": {},
   "source": [
    "## [274. H指数](https://leetcode.cn/problems/h-index/)"
   ]
  },
  {
   "cell_type": "markdown",
   "id": "4bf159e7-c3ac-4a4c-8264-f4e5a3c27121",
   "metadata": {},
   "source": [
    "首先我们可以将初始的 $H$ 指数 $h$ 设为 $0$，然后将引用次数排序，并且对排序后的数组从大到小遍历。\n",
    "\n",
    "根据 $H$ 指数的定义，**如果当前 $H$ 指数为 $h$ 并且在遍历过程中找到当前值 $citations[i] > h$，则说明我们找到了一篇被引用了至少 $h + 1$ 次的论文**，所以将现有的 $h$ 值加 $1$。继续遍历直到 $h$ 无法继续增大。最后返回 $h$ 作为最终答案。"
   ]
  },
  {
   "cell_type": "code",
   "execution_count": 37,
   "id": "172ae7ad-cf37-4f1e-9963-7508ce074b4d",
   "metadata": {},
   "outputs": [],
   "source": [
    "class Solution:\n",
    "    def hIndex(self, citations: List[int]) -> int:\n",
    "        n = len(citations)\n",
    "        citations.sort(reverse=True)\n",
    "        h = 0\n",
    "        for c in citations:\n",
    "            if c > h: h += 1\n",
    "        return h"
   ]
  },
  {
   "cell_type": "markdown",
   "id": "090b9b01-4178-4337-84b2-e6afdb6485b4",
   "metadata": {},
   "source": [
    "根据上述解法我们发现，最终的时间复杂度与排序算法的时间复杂度有关，所以我们可以使用计数排序算法，新建并维护一个数组 $counter$ 用来记录当前引用次数的论文有几篇。\n",
    "\n",
    "根据定义，我们可以发现 $H$ 指数不可能大于总的论文发表数，所以对于引用次数超过论文发表数的情况，我们可以将其按照总的论文发表数来计算即可。这样我们可以限制参与排序的数的大小为 $[0, n]$（其中 $n$ 为总的论文发表数），使得计数排序的时间复杂度降低到 $O(n)$。\n",
    "\n",
    "最后我们可以从后向前遍历数组 $counter$，对于每个 $0 \\leq i \\leq n$，在数组 $counter$ 中得到大于或等于当前引用次数 $i$ 的总论文数。当我们找到一个 $H$ 指数时跳出循环，并返回结果。"
   ]
  },
  {
   "cell_type": "code",
   "execution_count": null,
   "id": "3d38395b-72f5-42fc-8e2a-1722e0972915",
   "metadata": {},
   "outputs": [],
   "source": [
    "class Solution:\n",
    "    def hIndex(self, citations: List[int]) -> int:\n",
    "        n = len(citations); tot = 0\n",
    "        counter = [0] * (n+1)\n",
    "        for c in citations:\n",
    "            if c >= n: counter[n] += 1\n",
    "            else: counter[c] += 1\n",
    "        # 枚举 H 因子\n",
    "        for i in range(n, -1, -1):\n",
    "            tot += counter[i]\n",
    "            # 文章总数大于等于引用次数\n",
    "            if tot >= i: return i\n",
    "        return 0"
   ]
  },
  {
   "cell_type": "code",
   "execution_count": 3,
   "id": "8ac4e4df-fea9-450d-b9ff-77ae2e0d9a06",
   "metadata": {},
   "outputs": [
    {
     "data": {
      "text/plain": [
       "[1]"
      ]
     },
     "execution_count": 3,
     "metadata": {},
     "output_type": "execute_result"
    }
   ],
   "source": [
    "a = {1}\n",
    "a.add(1)\n",
    "list(a)"
   ]
  },
  {
   "cell_type": "markdown",
   "id": "6667f87b-7613-4920-8a62-9404129c1470",
   "metadata": {},
   "source": [
    "## [380. O(1) 时间插入、删除和获取随机元素](https://leetcode.cn/problems/insert-delete-getrandom-o1/)"
   ]
  },
  {
   "cell_type": "markdown",
   "id": "2a2fb62e-96c3-40f4-92f0-7c927493a095",
   "metadata": {},
   "source": [
    "变长数组可以在 $O(1)$ 的时间内完成获取随机元素操作，但是由于无法在 $O(1)$ 的时间内判断元素是否存在，因此不能在 $O(1)$ 的时间内完成插入和删除操作。哈希表可以在 $O(1)$ 的时间内完成插入和删除操作，但是由于无法根据下标定位到特定元素，因此不能在 $O(1)$ 的时间内完成获取随机元素操作。为了满足插入、删除和获取随机元素操作的时间复杂度都是 $O(1)$，**需要将变长数组和哈希表结合，变长数组中存储元素，哈希表中存储每个元素在变长数组中的下标。**"
   ]
  },
  {
   "cell_type": "code",
   "execution_count": 11,
   "id": "0c0f0b44-8fb9-4ed4-bb28-43685e679171",
   "metadata": {},
   "outputs": [],
   "source": [
    "class RandomizedSet:\n",
    "\n",
    "    def __init__(self):\n",
    "        self.keys = list()\n",
    "        self.hashmap = dict()\n",
    "\n",
    "    def insert(self, val: int) -> bool:\n",
    "        if val in self.hashmap: return False\n",
    "        self.hashmap[val] = len(self.keys)  # 先记录下标\n",
    "        self.keys.append(val)  # 再插入 keys\n",
    "        return True\n",
    "\n",
    "    def remove(self, val: int) -> bool:\n",
    "        if val not in self.hashmap: return False\n",
    "        idx = self.hashmap[val]\n",
    "        self.keys[idx] = self.keys[-1]\n",
    "        # 更新索引位置\n",
    "        self.hashmap[self.keys[idx]] = idx\n",
    "        self.keys.pop()\n",
    "        del self.hashmap[val]\n",
    "        return True\n",
    "        \n",
    "    def getRandom(self) -> int:\n",
    "        return random.choice(self.keys)"
   ]
  },
  {
   "cell_type": "markdown",
   "id": "dd506f3f-3fdd-4a5e-9d35-a7496bb65a2c",
   "metadata": {},
   "source": [
    "## [238. 除自身以外数组的乘积](https://leetcode.cn/problems/product-of-array-except-self/)"
   ]
  },
  {
   "cell_type": "code",
   "execution_count": 23,
   "id": "2caf8d01-9c46-42de-9be1-bd9a181b8cf5",
   "metadata": {},
   "outputs": [],
   "source": [
    "from typing import List\n",
    "class Solution:\n",
    "    def productExceptSelf(self, nums: List[int]) -> List[int]:\n",
    "        n = len(nums)\n",
    "        left, right = [1] * (n + 1), [1] * (n + 1)\n",
    "        for i in range(n):\n",
    "            left[i + 1] = left[i] * nums[i]\n",
    "            right[n - 1 - i] = right[n - i] * nums[n - 1 - i]\n",
    "        return [left[i] * right[i + 1] for i in range(n)]"
   ]
  },
  {
   "cell_type": "code",
   "execution_count": 26,
   "id": "a6e2897a-5119-4078-b7c8-2f4c19c28709",
   "metadata": {},
   "outputs": [],
   "source": [
    "nums = [1,2,3,4]"
   ]
  },
  {
   "cell_type": "code",
   "execution_count": 27,
   "id": "b1bbc981-01e9-455a-ba8e-2ea544fa8716",
   "metadata": {},
   "outputs": [
    {
     "data": {
      "text/plain": [
       "[24, 12, 8, 6]"
      ]
     },
     "execution_count": 27,
     "metadata": {},
     "output_type": "execute_result"
    }
   ],
   "source": [
    "s = Solution()\n",
    "s.productExceptSelf(nums)"
   ]
  },
  {
   "cell_type": "markdown",
   "id": "37147b40-f06a-420b-a2f1-6e1cf28161da",
   "metadata": {},
   "source": [
    "空间复杂度为 O(1) 的解法"
   ]
  },
  {
   "cell_type": "code",
   "execution_count": 30,
   "id": "66ff2129-0ef2-4757-a3d8-d64dc02ac998",
   "metadata": {},
   "outputs": [],
   "source": [
    "class Solution:\n",
    "    def productExceptSelf(self, nums: List[int]) -> List[int]:\n",
    "        n = len(nums)\n",
    "        ans = [1] * n  # 索引 i 的左侧元素乘积\n",
    "        for i in range(1, n):\n",
    "            ans[i] = nums[i - 1] * ans[i - 1]\n",
    "        r = 1\n",
    "        for i in range(n - 1, -1, -1):\n",
    "            ans[i] *= r  # 索引 i 位置的结果乘以右边元素\n",
    "            r *= nums[i]  # 右边元素累乘\n",
    "        return ans"
   ]
  },
  {
   "cell_type": "markdown",
   "id": "c0d341f4-88d5-44c0-b0dc-962b2ffdc8c8",
   "metadata": {},
   "source": [
    "## [134. 加油站](https://leetcode.cn/problems/gas-station/)"
   ]
  },
  {
   "cell_type": "markdown",
   "id": "9bbcf90a-b108-4beb-a73e-bc05929849cb",
   "metadata": {},
   "source": [
    "> 已经在谷底了，怎么走都是往上"
   ]
  },
  {
   "cell_type": "markdown",
   "id": "bf86db2b-2322-436d-bec3-e8ca26396457",
   "metadata": {},
   "source": [
    "计算每一个站获得油量与消耗油量的差值，计算前缀和，若最终的差值之和小于零说明不可以绕一圈，否则可以，且从差值累计最低点的下一站出发，就必然能绕一圈"
   ]
  },
  {
   "cell_type": "code",
   "execution_count": 41,
   "id": "b0485343-df48-4923-a922-b18e933cb29d",
   "metadata": {},
   "outputs": [],
   "source": [
    "class Solution:\n",
    "    def canCompleteCircuit(self, gas: List[int], cost: List[int]) -> int:\n",
    "        n = len(gas)\n",
    "        curMin, pre, ans = 0, 0, -1\n",
    "        for i in range(n):\n",
    "            pre += gas[i] - cost[i]\n",
    "            if (pre < curMin):\n",
    "                curMin = pre\n",
    "                ans = i\n",
    "        return -1 if pre < 0 else (ans + 1) % n"
   ]
  },
  {
   "cell_type": "markdown",
   "id": "227119b6-1ee2-4fad-b192-34df049537d8",
   "metadata": {},
   "source": [
    "## [135. 分发糖果](https://leetcode.cn/problems/candy/)"
   ]
  },
  {
   "cell_type": "markdown",
   "id": "c749e153-5c67-4b52-bb1a-4f4ee409d4a2",
   "metadata": {},
   "source": [
    "单调栈"
   ]
  },
  {
   "cell_type": "code",
   "execution_count": 71,
   "id": "47244558-65d9-4e29-87fb-2f179117d976",
   "metadata": {},
   "outputs": [],
   "source": [
    "from typing import List\n",
    "class Solution:\n",
    "    def candy(self, ratings: List[int]) -> int:\n",
    "        ratings.append(ratings[-1] + 1)\n",
    "        stk = []\n",
    "        res = [0]\n",
    "        for n in ratings:\n",
    "            if stk and n > stk[-1]:\n",
    "                resSize = len(res)\n",
    "                stkSize = len(stk)\n",
    "                res.extend([1] * stkSize)\n",
    "                \n",
    "                for i in range(stkSize - 2, 0, -1):\n",
    "                    res[resSize + i] = 1 if stk[i] == stk[i + 1] else res[resSize + i + 1] + 1\n",
    "                \n",
    "                if stkSize == 1: res[resSize] = res[resSize - 1] + 1\n",
    "                else: res[resSize] = res[resSize - 1] + 1 if stk[0] == stk[1] else \\\n",
    "                max(res[resSize + 1], res[resSize - 1]) + 1\n",
    "                stk = []\n",
    "            stk.append(n)\n",
    "        return sum(res)"
   ]
  },
  {
   "cell_type": "code",
   "execution_count": 72,
   "id": "545b0f46-7bc1-4b0b-bfde-9702c3a43a37",
   "metadata": {},
   "outputs": [],
   "source": [
    "ratings = [1, 8, 8, 7, 6, 5, 4, 3, 8, 9]"
   ]
  },
  {
   "cell_type": "code",
   "execution_count": 73,
   "id": "d55cfd7c-01ef-4da8-8229-7cc5a0d36f12",
   "metadata": {},
   "outputs": [
    {
     "data": {
      "text/plain": [
       "29"
      ]
     },
     "execution_count": 73,
     "metadata": {},
     "output_type": "execute_result"
    }
   ],
   "source": [
    "s = Solution()\n",
    "s.candy(ratings)"
   ]
  },
  {
   "cell_type": "markdown",
   "id": "827cc739-21ed-487f-a90f-91ba81f30e02",
   "metadata": {},
   "source": [
    "两次便利"
   ]
  },
  {
   "cell_type": "code",
   "execution_count": 69,
   "id": "910e24b5-208a-4489-9f12-f15db637ac32",
   "metadata": {},
   "outputs": [],
   "source": [
    "class Solution:\n",
    "    def candy(self, ratings: List[int]) -> int:\n",
    "        n = len(ratings)\n",
    "        left = [0] * n\n",
    "        for i in range(n):\n",
    "            if i > 0 and ratings[i] > ratings[i - 1]: left[i] = left[i - 1] + 1\n",
    "            else: left[i] = 1\n",
    "        \n",
    "        right = ret = 0\n",
    "        for i in range(n - 1, -1, -1):\n",
    "            if i < n - 1 and ratings[i] > ratings[i + 1]: right += 1\n",
    "            else: right = 1\n",
    "            ret += max(left[i], right)\n",
    "        \n",
    "        return ret"
   ]
  },
  {
   "cell_type": "markdown",
   "id": "5eb79805-7fce-46bd-8b75-377616be5e33",
   "metadata": {},
   "source": [
    "## [42. 接雨水](https://leetcode.cn/problems/trapping-rain-water/)"
   ]
  },
  {
   "cell_type": "markdown",
   "id": "4d3b21d8-96c6-49a8-b634-23ca01cec9f3",
   "metadata": {},
   "source": [
    "## [13. 罗马数字转整数](https://leetcode.cn/problems/roman-to-integer/)"
   ]
  },
  {
   "cell_type": "code",
   "execution_count": 23,
   "id": "66ebfadb-fc2d-46bc-b0f9-dbe70cfa44fc",
   "metadata": {},
   "outputs": [],
   "source": [
    "class Solution:\n",
    "    def romanToInt(self, s: str) -> int:\n",
    "        ch2num = {\"I\": 1, \"V\": 5, \"X\": 10, \"L\": 50, \"C\": 100, \"D\": 500, \"M\": 1000}\n",
    "        special = {\"I\": {\"V\", \"X\"}, \"X\" : {\"L\", \"C\"}, \"C\": {\"D\", \"M\"}}\n",
    "        n = len(s)\n",
    "        res = 0\n",
    "        for i in range(n):\n",
    "            if s[i] in special and i < n - 1:\n",
    "                if s[i + 1] in special[s[i]]:\n",
    "                    res -= 2 * ch2num[s[i]]\n",
    "            res += ch2num[s[i]]\n",
    "        return res"
   ]
  },
  {
   "cell_type": "markdown",
   "id": "b698dbfc-7417-4bbd-a5a1-26171fd85d87",
   "metadata": {},
   "source": [
    "## [12. 整数转罗马数字](https://leetcode.cn/problems/integer-to-roman/)"
   ]
  },
  {
   "cell_type": "code",
   "execution_count": 49,
   "id": "fd3682ac-6641-4f15-85be-216cd4cc3686",
   "metadata": {},
   "outputs": [],
   "source": [
    "class Solution:\n",
    "    def intToRoman(self, num: int) -> str:\n",
    "        num2ch = [[\"\", \"M\"], [\"D\", \"C\"], [\"L\", \"X\"], [\"V\", \"I\"]]\n",
    "        base = 1000\n",
    "        res = [0] * 4\n",
    "        ans = []\n",
    "        for i in range(4):\n",
    "            cur, num = divmod(num, base)\n",
    "            base //= 10\n",
    "            res[i] = cur\n",
    "            \n",
    "        for i in range(4):\n",
    "            a, b = divmod(res[i], 5)\n",
    "            if b == 4:\n",
    "                ans.append(num2ch[i][1])\n",
    "                ans.append(num2ch[i - 1][1]) if a else ans.append(num2ch[i][0])\n",
    "            else:\n",
    "                if a: ans.append(num2ch[i][0])\n",
    "                ans.extend([num2ch[i][1] * b])\n",
    "        return \"\".join(ans)"
   ]
  },
  {
   "cell_type": "code",
   "execution_count": 52,
   "id": "91e86fff-90d6-4397-b57d-f0e2501800c5",
   "metadata": {},
   "outputs": [
    {
     "data": {
      "text/plain": [
       "'X'"
      ]
     },
     "execution_count": 52,
     "metadata": {},
     "output_type": "execute_result"
    }
   ],
   "source": [
    "s = Solution()\n",
    "s.intToRoman(10)"
   ]
  },
  {
   "cell_type": "markdown",
   "id": "468fb859-1462-42ca-93a0-38a729e10882",
   "metadata": {},
   "source": [
    "## [58. 最后一个单词的长度](https://leetcode.cn/problems/length-of-last-word/)"
   ]
  },
  {
   "cell_type": "code",
   "execution_count": 54,
   "id": "bb7b3ac9-d69c-486c-b27f-79d2da21bbce",
   "metadata": {},
   "outputs": [],
   "source": [
    "class Solution:\n",
    "    def lengthOfLastWord(self, s: str) -> int:\n",
    "        n = len(s)\n",
    "        left = right = n - 1\n",
    "        while left >= 0:\n",
    "            if s[right] == \" \": \n",
    "                left  -= 1\n",
    "                right -= 1\n",
    "            else:\n",
    "                if s[left] == \" \": break\n",
    "                else: left -= 1\n",
    "        return right - left"
   ]
  },
  {
   "cell_type": "code",
   "execution_count": 76,
   "id": "5f87b1ca-8329-42ea-9e53-0ead67f935fb",
   "metadata": {},
   "outputs": [],
   "source": [
    "s = \" \""
   ]
  },
  {
   "cell_type": "code",
   "execution_count": 77,
   "id": "d03ac755-ecad-4bd7-97ac-ad661dfc92cd",
   "metadata": {},
   "outputs": [
    {
     "data": {
      "text/plain": [
       "0"
      ]
     },
     "execution_count": 77,
     "metadata": {},
     "output_type": "execute_result"
    }
   ],
   "source": [
    "ss = Solution()\n",
    "ss.lengthOfLastWord(s)"
   ]
  },
  {
   "cell_type": "code",
   "execution_count": 75,
   "id": "410461a3-ec7c-43f0-b6af-7e23537433ba",
   "metadata": {},
   "outputs": [],
   "source": [
    "class Solution:\n",
    "    def lengthOfLastWord(self, s: str) -> int:\n",
    "        return len(s.strip(\" \").split(\" \")[-1])"
   ]
  },
  {
   "cell_type": "markdown",
   "id": "4f918eb7-71e3-4ba3-b83e-cf9f83f15cc1",
   "metadata": {},
   "source": [
    "## [14. 最长公共前缀](https://leetcode.cn/problems/longest-common-prefix/)"
   ]
  },
  {
   "cell_type": "code",
   "execution_count": 137,
   "id": "9d5bda14-e356-4feb-a13d-3b949b996b05",
   "metadata": {},
   "outputs": [],
   "source": [
    "class Solution:\n",
    "    def longestCommonPrefix(self, strs: List[str]) -> str:\n",
    "        def lcp(idx):\n",
    "            nonlocal ans\n",
    "            n = len(strs[idx])\n",
    "            for i in range(min(ans, n)):\n",
    "                if strs[0][i] != strs[idx][i]:\n",
    "                    ans = i\n",
    "                    return\n",
    "            ans = min(ans, n)\n",
    "        \n",
    "        ans = len(strs[0])\n",
    "        for i in range(len(strs)):\n",
    "            if ans == 0: break\n",
    "            lcp(i)\n",
    "            # print(ans)\n",
    "        return \"\" if ans < 0 else strs[0][:ans]"
   ]
  },
  {
   "cell_type": "code",
   "execution_count": 138,
   "id": "a2a0db6f-3126-44c1-9003-495d9d7b329e",
   "metadata": {},
   "outputs": [],
   "source": [
    "strs = [\"ab\", \"a\"]"
   ]
  },
  {
   "cell_type": "code",
   "execution_count": 139,
   "id": "e15cbd6a-0f4d-4ff2-beb6-64139e225b50",
   "metadata": {},
   "outputs": [
    {
     "data": {
      "text/plain": [
       "'a'"
      ]
     },
     "execution_count": 139,
     "metadata": {},
     "output_type": "execute_result"
    }
   ],
   "source": [
    "s = Solution()\n",
    "s.longestCommonPrefix(strs)"
   ]
  },
  {
   "cell_type": "markdown",
   "id": "f68cbc3f-7ebc-4cc5-b9dd-d1c2e7d1c5f6",
   "metadata": {},
   "source": [
    "## [151. 反转字符串中的单词](https://leetcode.cn/problems/reverse-words-in-a-string/)"
   ]
  },
  {
   "cell_type": "code",
   "execution_count": 157,
   "id": "fd4893ca-e18d-4a8a-a1ae-d469f5e92614",
   "metadata": {},
   "outputs": [],
   "source": [
    "class Solution:\n",
    "    def reverseWords(self, s: str) -> str:\n",
    "        n = len(s)\n",
    "        left = right = n - 1\n",
    "        res = []\n",
    "        while left >= 0:\n",
    "            if s[right] == \" \":\n",
    "                left -= 1;\n",
    "                right -= 1;\n",
    "            else:\n",
    "                if s[left] == \" \":\n",
    "                    res.append(s[left + 1: right + 1])\n",
    "                    res.append(\" \")\n",
    "                    right = left\n",
    "                else: left -= 1\n",
    "        if s[left + 1] != \" \": res.append(s[left + 1: right + 1])\n",
    "        if res[-1] == \" \": res.pop()\n",
    "        return \"\".join(res)"
   ]
  },
  {
   "cell_type": "code",
   "execution_count": 160,
   "id": "76ac54c5-055d-45ff-aac1-8c48299f52ef",
   "metadata": {},
   "outputs": [],
   "source": [
    "s = \" a\""
   ]
  },
  {
   "cell_type": "code",
   "execution_count": 161,
   "id": "0cba69e0-b3fd-4735-bf30-126b1f8f6133",
   "metadata": {},
   "outputs": [
    {
     "data": {
      "text/plain": [
       "'a'"
      ]
     },
     "execution_count": 161,
     "metadata": {},
     "output_type": "execute_result"
    }
   ],
   "source": [
    "ss = Solution()\n",
    "ss.reverseWords(s)"
   ]
  },
  {
   "cell_type": "code",
   "execution_count": 168,
   "id": "9b9765a2-2c05-4fa5-b62e-8e2611ca865f",
   "metadata": {},
   "outputs": [],
   "source": [
    "class Solution:\n",
    "    def reverseWords(self, s: str) -> str:\n",
    "        s = s.strip()\n",
    "        s = s.split(\" \")\n",
    "        res = []\n",
    "        while s:\n",
    "            cur = s.pop().strip()\n",
    "            if cur: res.append(cur)\n",
    "        return \" \".join(res)"
   ]
  },
  {
   "cell_type": "markdown",
   "id": "1a9f1939-29ad-431b-977b-00939d5bd7e6",
   "metadata": {},
   "source": [
    "## [6. N 字形变换](https://leetcode.cn/problems/zigzag-conversion/)"
   ]
  },
  {
   "cell_type": "markdown",
   "id": "3cab54a4-3c4a-4581-a6d5-a74184315207",
   "metadata": {},
   "source": [
    "主打一个推公式"
   ]
  },
  {
   "cell_type": "code",
   "execution_count": 180,
   "id": "ec60d8c1-cec8-4693-8010-5800be6cc18a",
   "metadata": {},
   "outputs": [],
   "source": [
    "class Solution:\n",
    "    def convert(self, s: str, numRows: int) -> str:\n",
    "        if numRows == 1: return s\n",
    "        n = len(s)\n",
    "        # 每一列加上 z 的连接字母一共多少个，以这一因子切割 s \n",
    "        r = 2 * numRows - 2    \n",
    "        nr = (n + r - 1) // r  # 行数向上取整\n",
    "        res = [s[r * i] for i in range(nr)]  # 第一行\n",
    "        # 中间的 numRows - 2 行\n",
    "        for i in range(1, numRows - 1):\n",
    "            for j in range(nr):\n",
    "                idx1 = i + r * j\n",
    "                idx2 = r - i + r * j  \n",
    "                if idx1 < n: res.append(s[idx1])\n",
    "                if idx2 < n: res.append(s[idx2])\n",
    "        for i in range(nr):\n",
    "            idx = numRows - 1 + r * i\n",
    "            if idx < n: res.append(s[idx])\n",
    "        return \"\".join(res)"
   ]
  },
  {
   "cell_type": "code",
   "execution_count": 181,
   "id": "c8447113-f74e-405c-84a8-c2b5e3e0cd97",
   "metadata": {},
   "outputs": [],
   "source": [
    "s = \"A\"\n",
    "numRows = 1"
   ]
  },
  {
   "cell_type": "code",
   "execution_count": 182,
   "id": "25e30e8f-5bd8-4625-9d8a-9dc7a1d105cc",
   "metadata": {},
   "outputs": [
    {
     "data": {
      "text/plain": [
       "'A'"
      ]
     },
     "execution_count": 182,
     "metadata": {},
     "output_type": "execute_result"
    }
   ],
   "source": [
    "ss = Solution()\n",
    "ss.convert(s, numRows)"
   ]
  },
  {
   "cell_type": "markdown",
   "id": "1557de16-d751-4538-9b31-2e73b936ea45",
   "metadata": {},
   "source": [
    "## [28. 找出字符串中第一个匹配项的下标](https://leetcode.cn/problems/find-the-index-of-the-first-occurrence-in-a-string/)"
   ]
  },
  {
   "cell_type": "code",
   "execution_count": 200,
   "id": "2a0c4983-f6ab-41ad-8287-28a01b9c5359",
   "metadata": {},
   "outputs": [],
   "source": [
    "class Solution:\n",
    "    def strStr(self, haystack: str, needle: str) -> int:\n",
    "        n1, n2 = len(haystack), len(needle)\n",
    "        for i in range(n1 - n2 + 1):\n",
    "            if haystack[i : i + n2] == needle:\n",
    "                return i\n",
    "        return -1"
   ]
  },
  {
   "cell_type": "code",
   "execution_count": 201,
   "id": "6b0c058a-6013-4d9a-a136-d8194d941efc",
   "metadata": {},
   "outputs": [],
   "source": [
    "haystack = \"l\"\n",
    "needle = \"leeto\""
   ]
  },
  {
   "cell_type": "code",
   "execution_count": 202,
   "id": "a91922c5-d51d-40ab-a43b-89395f6a2425",
   "metadata": {},
   "outputs": [
    {
     "data": {
      "text/plain": [
       "-1"
      ]
     },
     "execution_count": 202,
     "metadata": {},
     "output_type": "execute_result"
    }
   ],
   "source": [
    "s = Solution()\n",
    "s.strStr(haystack, needle)"
   ]
  },
  {
   "cell_type": "markdown",
   "id": "1172f093-057d-4d83-afb7-607ce36808c2",
   "metadata": {},
   "source": [
    "TODO: KMP"
   ]
  },
  {
   "cell_type": "markdown",
   "id": "4f9dfbaf-8899-4b9a-b29b-9799e0560dfe",
   "metadata": {},
   "source": [
    "## [125. 验证回文串](https://leetcode.cn/problems/valid-palindrome/)"
   ]
  },
  {
   "cell_type": "code",
   "execution_count": 30,
   "id": "89710359-a0f4-403b-9a95-b8da3a7a26a3",
   "metadata": {},
   "outputs": [],
   "source": [
    "class Solution:\n",
    "    def isPalindrome(self, s: str) -> bool:\n",
    "        tar = []\n",
    "        for ch in s:\n",
    "            if ch.isalnum():\n",
    "                tar.append(ch.lower())\n",
    "        return tar == tar[::-1]"
   ]
  },
  {
   "cell_type": "code",
   "execution_count": 35,
   "id": "f89b8595-8625-4da7-bb74-7ee3d60f1f5f",
   "metadata": {},
   "outputs": [],
   "source": [
    "s = \"aaa\""
   ]
  },
  {
   "cell_type": "code",
   "execution_count": 36,
   "id": "deeaf5c8-083c-4cae-8838-f999cdfd46b9",
   "metadata": {},
   "outputs": [
    {
     "data": {
      "text/plain": [
       "True"
      ]
     },
     "execution_count": 36,
     "metadata": {},
     "output_type": "execute_result"
    }
   ],
   "source": [
    "ss = Solution()\n",
    "ss.isPalindrome(s)"
   ]
  },
  {
   "cell_type": "markdown",
   "id": "bbdf00c2-2f97-4ebf-8fcd-017473c199cd",
   "metadata": {},
   "source": [
    "## [392. 判断子序列](https://leetcode.cn/problems/is-subsequence/)"
   ]
  },
  {
   "cell_type": "code",
   "execution_count": 53,
   "id": "ba24fa40-1485-45f2-8f5c-a2b70def7fde",
   "metadata": {},
   "outputs": [],
   "source": [
    "class Solution:\n",
    "    def isSubsequence(self, s: str, t: str) -> bool:\n",
    "        ns, nt = len(s), len(t)\n",
    "        idx1 = idx2 = 0\n",
    "        while idx1 < ns:\n",
    "            if idx2 > nt - 1: return False\n",
    "            if s[idx1] == t[idx2]:\n",
    "                idx1 += 1\n",
    "                idx2 += 1\n",
    "            else: idx2 += 1\n",
    "        \n",
    "        return True"
   ]
  },
  {
   "cell_type": "code",
   "execution_count": 54,
   "id": "a95dd3f1-d7d1-4ba4-97c5-3bfb3a8e2ead",
   "metadata": {},
   "outputs": [],
   "source": [
    "s = \"a\"\n",
    "t = \"b\""
   ]
  },
  {
   "cell_type": "code",
   "execution_count": 55,
   "id": "d1125e7a-60c0-4e5c-b67e-6916c690669a",
   "metadata": {},
   "outputs": [
    {
     "data": {
      "text/plain": [
       "False"
      ]
     },
     "execution_count": 55,
     "metadata": {},
     "output_type": "execute_result"
    }
   ],
   "source": [
    "ss = Solution()\n",
    "ss.isSubsequence(s, t)"
   ]
  },
  {
   "cell_type": "markdown",
   "id": "9c53fa0b-1b72-4c08-aa7a-37e0796b672a",
   "metadata": {},
   "source": [
    "## [167. 两数之和 II - 输入有序数组](https://leetcode.cn/problems/two-sum-ii-input-array-is-sorted/)"
   ]
  },
  {
   "cell_type": "markdown",
   "id": "304beede-7c75-4d82-a3c9-9f02be529810",
   "metadata": {},
   "source": [
    "二分"
   ]
  },
  {
   "cell_type": "code",
   "execution_count": 68,
   "id": "30b1ed1c-b377-4ae0-8901-ab9259f1f7a5",
   "metadata": {},
   "outputs": [
    {
     "ename": "SyntaxError",
     "evalue": "invalid syntax (<ipython-input-68-1f75aefc1f96>, line 13)",
     "output_type": "error",
     "traceback": [
      "\u001b[1;36m  File \u001b[1;32m\"<ipython-input-68-1f75aefc1f96>\"\u001b[1;36m, line \u001b[1;32m13\u001b[0m\n\u001b[1;33m    if (res := bisearch(numbers[i:], target - numbers[i])) != -1:\u001b[0m\n\u001b[1;37m            ^\u001b[0m\n\u001b[1;31mSyntaxError\u001b[0m\u001b[1;31m:\u001b[0m invalid syntax\n"
     ]
    }
   ],
   "source": [
    "class Solution:\n",
    "    def twoSum(self, numbers: List[int], target: int) -> List[int]:\n",
    "        def bisearch(a, n):\n",
    "            left, right = 0, len(a)\n",
    "            while left < right:\n",
    "                mid = (left + right) >> 1\n",
    "                if a[mid] == n: return mid\n",
    "                elif a[mid] > n: right = mid\n",
    "                else: left = mid + 1\n",
    "            return -1\n",
    "        \n",
    "        for i in range(len(numbers) - 1):\n",
    "            if (res := bisearch(numbers[i:], target - numbers[i])) != -1:\n",
    "                return [i + 1, res + i + 1]\n",
    "        return -1"
   ]
  },
  {
   "cell_type": "markdown",
   "id": "a037adc4-5dd5-4fbf-b2f6-3dcf6ffe1f8d",
   "metadata": {},
   "source": [
    "双指针"
   ]
  },
  {
   "cell_type": "markdown",
   "id": "8b88182e-77e5-4404-a535-5fe8362f93a1",
   "metadata": {},
   "source": [
    "[双指针正确性证明](https://leetcode.cn/problems/two-sum-ii-input-array-is-sorted/solutions/337156/liang-shu-zhi-he-ii-shu-ru-you-xu-shu-zu-by-leet-2/)，使用双指针法一定不会错过正确的解。"
   ]
  },
  {
   "cell_type": "code",
   "execution_count": 87,
   "id": "674a13f0-d0e8-4021-8794-a96049620dca",
   "metadata": {},
   "outputs": [],
   "source": [
    "class Solution:\n",
    "    def twoSum(self, numbers: List[int], target: int) -> List[int]:\n",
    "        n = len(numbers)\n",
    "        left, right = 0, n - 1\n",
    "        while left < right:\n",
    "            curSum = numbers[left] + numbers[right]\n",
    "            if curSum == target: return [left + 1, right + 1]\n",
    "            elif curSum > target: right -= 1\n",
    "            else: left += 1\n",
    "        return -1"
   ]
  },
  {
   "cell_type": "markdown",
   "id": "b83a96c4-8167-4d62-b72e-2f0377b77243",
   "metadata": {},
   "source": [
    "## [11. 盛最多水的容器](https://leetcode.cn/problems/container-with-most-water/)"
   ]
  },
  {
   "cell_type": "markdown",
   "id": "05b0c33d-8ff2-4ce6-be76-21f875270256",
   "metadata": {},
   "source": [
    "只有当一端的指针遍历到大于另一端的指针指向的高度时，答案才有可能变大"
   ]
  },
  {
   "cell_type": "code",
   "execution_count": 91,
   "id": "274f95a0-7cff-4f13-b9e4-719709131e20",
   "metadata": {},
   "outputs": [],
   "source": [
    "class Solution:\n",
    "    def maxArea(self, height: List[int]) -> int:\n",
    "        n = len(height)\n",
    "        left, right = 0, n - 1\n",
    "        ans = 0\n",
    "        maxH = max(height)\n",
    "        while left < right:\n",
    "            if ans > maxH * (right - left): break  # 为什么加一个判断的 break 能快这么多\n",
    "            ans = max(ans, min(height[left], height[right]) * (right - left))\n",
    "            if height[left] < height[right]: left += 1\n",
    "            else: right -= 1\n",
    "        return ans"
   ]
  },
  {
   "cell_type": "markdown",
   "id": "a93edc75-d569-421a-a66b-5c8dbf26fee8",
   "metadata": {},
   "source": [
    "## [15.三数之和](https://leetcode.cn/problems/3sum/)"
   ]
  },
  {
   "cell_type": "markdown",
   "id": "240bac8e-ad3c-455e-9e07-46cccbdfb654",
   "metadata": {},
   "source": [
    "三个要点：\n",
    "1. i : 最外层 i 遍历去除重复情况，判断是否等于前一个值即可。\n",
    "2. j : 与 1 相同要去重但要去除 j 的前面刚好是 i 的情况，且要判断是否已经到 k。\n",
    "3. k : k 随着 i 的遍历而刷新，j < k（因此 while 的条件是 k > j + 1）。"
   ]
  },
  {
   "cell_type": "code",
   "execution_count": 44,
   "id": "badabfd7-d188-48ba-b6da-282be2dea6f1",
   "metadata": {},
   "outputs": [],
   "source": [
    "from typing import List\n",
    "class Solution:\n",
    "    def threeSum(self, nums: List[int]) -> List[List[int]]:\n",
    "        nums.sort()\n",
    "        n = len(nums)\n",
    "        res = []\n",
    "        for i in range(n):\n",
    "            if (i > 0 and nums[i] == nums[i - 1]): continue\n",
    "            k = n - 1\n",
    "            for j in range(i + 1, n - 1):\n",
    "                if j > k - 1: break\n",
    "                if (nums[j] == nums[j - 1] and j - 1 != i): continue\n",
    "                curTarget = -(nums[i] + nums[j])\n",
    "                while (k > j + 1 and nums[k] > curTarget): k -= 1\n",
    "                if nums[k] == curTarget: res.append([nums[i], nums[j], nums[k]])\n",
    "        return res"
   ]
  },
  {
   "cell_type": "code",
   "execution_count": 45,
   "id": "0b1b3eb8-79f2-4b15-a569-d46aa65a431e",
   "metadata": {},
   "outputs": [],
   "source": [
    "nums = [-2, 0, 1, 3]"
   ]
  },
  {
   "cell_type": "code",
   "execution_count": 46,
   "id": "a0c8c947-ef40-4b16-992a-6b9030a2faf1",
   "metadata": {},
   "outputs": [
    {
     "data": {
      "text/plain": [
       "[]"
      ]
     },
     "execution_count": 46,
     "metadata": {},
     "output_type": "execute_result"
    }
   ],
   "source": [
    "s = Solution()\n",
    "s.threeSum(nums)"
   ]
  },
  {
   "cell_type": "code",
   "execution_count": 53,
   "id": "f2a804ff-0e8b-4506-bb3a-4b4f3b1d7f7b",
   "metadata": {},
   "outputs": [],
   "source": [
    "from typing import List\n",
    "class Solution:\n",
    "    def threeSum(self, nums: List[int]) -> List[List[int]]:\n",
    "        nums.sort()\n",
    "        n = len(nums)\n",
    "        res = []\n",
    "        for i in range(n):\n",
    "            # 1. i 去重\n",
    "            if (i > 0 and nums[i] == nums[i - 1]): continue\n",
    "            # 3. 更新 k\n",
    "            k = n - 1\n",
    "            for j in range(i + 1, n - 1):\n",
    "                # 2. j 判断是否到 k\n",
    "                if j == k: break\n",
    "                # 2. j 去重\n",
    "                if (j - 1 != i and nums[j] == nums[j - 1]): continue\n",
    "                targetNum = -(nums[i] + nums[j])\n",
    "                # 3. k 一定不能与 j 重合\n",
    "                while (k > j + 1 and nums[k] > targetNum): k -= 1\n",
    "                if nums[k] == targetNum: res.append([nums[i], nums[j], nums[k]])\n",
    "        return res"
   ]
  },
  {
   "cell_type": "markdown",
   "id": "aef1052c-3743-48c2-a820-8fe7dbb99d9e",
   "metadata": {},
   "source": [
    "## [209. 长度最小的子数组](https://leetcode.cn/problems/minimum-size-subarray-sum/)"
   ]
  },
  {
   "cell_type": "code",
   "execution_count": 96,
   "id": "0146f065-72de-4fbb-bb32-f0415ffc418b",
   "metadata": {},
   "outputs": [],
   "source": [
    "class Solution:\n",
    "    def minSubArrayLen(self, target: int, nums: List[int]) -> int:\n",
    "        left = right = 0\n",
    "        n = len(nums)\n",
    "        res = n + 1\n",
    "        curSum = 0\n",
    "        \n",
    "        for i in range(n):\n",
    "            curSum += nums[i]\n",
    "            while curSum >= target:\n",
    "                res = min(res, i - left + 1)\n",
    "                left += 1\n",
    "                curSum -= nums[left - 1] \n",
    "        \n",
    "        return res if res != n + 1 else 0"
   ]
  },
  {
   "cell_type": "code",
   "execution_count": 99,
   "id": "044ff7b5-8d9c-492b-863e-138c18678d5a",
   "metadata": {},
   "outputs": [],
   "source": [
    "target = 9\n",
    "nums = [1,1,1,1,1,1,1,1]"
   ]
  },
  {
   "cell_type": "code",
   "execution_count": 100,
   "id": "070e53a4-305f-4d8f-a8b5-73f60b99d22d",
   "metadata": {},
   "outputs": [
    {
     "data": {
      "text/plain": [
       "0"
      ]
     },
     "execution_count": 100,
     "metadata": {},
     "output_type": "execute_result"
    }
   ],
   "source": [
    "s = Solution()\n",
    "s.minSubArrayLen(target, nums)"
   ]
  },
  {
   "cell_type": "markdown",
   "id": "b5d26b5d-8bd9-4645-8830-272df2ca3792",
   "metadata": {},
   "source": [
    "## [3. 无重复字符的最长子串](https://leetcode.cn/problems/longest-substring-without-repeating-characters/)"
   ]
  },
  {
   "cell_type": "code",
   "execution_count": 12,
   "id": "8b41ed5e-f468-4a40-b29d-0cd78420ca75",
   "metadata": {},
   "outputs": [],
   "source": [
    "class Solution:\n",
    "    def lengthOfLongestSubstring(self, s: str) -> int:\n",
    "        cnt = set()\n",
    "        left = 0\n",
    "        res = 0\n",
    "        n = len(s)\n",
    "        for i in range(n):\n",
    "            if s[i] in cnt:\n",
    "                while s[left] != s[i]:\n",
    "                    cnt.remove(s[left])\n",
    "                    left += 1\n",
    "                if (left < i): left += 1\n",
    "            res = max(res, i - left + 1)\n",
    "            cnt.add(s[i])\n",
    "        return res"
   ]
  },
  {
   "cell_type": "code",
   "execution_count": 15,
   "id": "bc913a3d-9d2d-4052-99fd-e36de814f856",
   "metadata": {},
   "outputs": [],
   "source": [
    "s = \"abbbb\""
   ]
  },
  {
   "cell_type": "code",
   "execution_count": 16,
   "id": "e6d39b84-14b5-460b-bc03-38916faca4f0",
   "metadata": {},
   "outputs": [
    {
     "data": {
      "text/plain": [
       "2"
      ]
     },
     "execution_count": 16,
     "metadata": {},
     "output_type": "execute_result"
    }
   ],
   "source": [
    "ss = Solution()\n",
    "ss.lengthOfLongestSubstring(s)"
   ]
  },
  {
   "cell_type": "markdown",
   "id": "3a88abc8-6f0c-4275-9170-8ee8f3c2ce5b",
   "metadata": {},
   "source": [
    "## [36. 有效的数独](https://leetcode.cn/problems/valid-sudoku/)"
   ]
  },
  {
   "cell_type": "code",
   "execution_count": 41,
   "id": "744cf8ae-681f-4fa0-9972-a528562f0f0c",
   "metadata": {},
   "outputs": [],
   "source": [
    "from typing import List\n",
    "class Solution:\n",
    "    def isValidSudoku(self, board: List[List[str]]) -> bool:\n",
    "        rowCnt = [set() for _ in range(9)]\n",
    "        colCnt = [set() for _ in range(9)]\n",
    "        GridCnt = [set() for _ in range(9)]\n",
    "        for i in range(9):\n",
    "            for j in range(9):\n",
    "                cur = board[i][j]\n",
    "                if cur != \".\":\n",
    "                    GridIdx = int((i // 3) * 3 + j // 3)\n",
    "                    if (cur in rowCnt[i]) or (cur in colCnt[j]) or \\\n",
    "                        (cur in GridCnt[GridIdx]):\n",
    "                        return False\n",
    "                    rowCnt[i].add(cur)\n",
    "                    colCnt[j].add(cur)\n",
    "                    GridCnt[GridIdx].add(cur)\n",
    "        return True"
   ]
  },
  {
   "cell_type": "markdown",
   "id": "bad53b70-1f27-4b43-8f0a-3be1f3191be1",
   "metadata": {},
   "source": [
    "## [54. 螺旋矩阵](https://leetcode.cn/problems/spiral-matrix/)"
   ]
  },
  {
   "cell_type": "code",
   "execution_count": 55,
   "id": "2c980c1d-bc8a-43c3-9a77-31c8577811a9",
   "metadata": {},
   "outputs": [],
   "source": [
    "class Solution:\n",
    "    def spiralOrder(self, matrix: List[List[int]]) -> List[int]:\n",
    "        res = []\n",
    "        while matrix:\n",
    "            res += matrix.pop(0)\n",
    "            matrix = list(zip(*matrix))[::-1]\n",
    "        return res"
   ]
  },
  {
   "cell_type": "markdown",
   "id": "6fc20872-60a5-40d2-84b0-62aeca889138",
   "metadata": {},
   "source": [
    "模拟"
   ]
  },
  {
   "cell_type": "code",
   "execution_count": 92,
   "id": "6d3e3e3b-adbc-44da-bd65-332842aadf3a",
   "metadata": {},
   "outputs": [],
   "source": [
    "class Solution:\n",
    "    def spiralOrder(self, matrix: List[List[int]]) -> List[int]:\n",
    "        m, n = len(matrix), len(matrix[0])\n",
    "        vis = [[0] * n for _ in range(m)]\n",
    "        res = []\n",
    "        dirs = ((1, 0), (0, 1), (-1, 0), (0, -1))\n",
    "        curDir = 0\n",
    "        r, c = 0, -1\n",
    "        while len(res) != m * n:\n",
    "            dr, dc = dirs[curDir]\n",
    "            nr, nc = r + dr, c + dc\n",
    "            if 0 <= nr < m and 0 <= nc < n and not vis[nr][nc]:\n",
    "                r, c = nr, nc\n",
    "                res.append(matrix[r][c])\n",
    "                vis[r][c] = 1\n",
    "            else: curDir = (curDir + 1) % 4\n",
    "        return res"
   ]
  },
  {
   "cell_type": "code",
   "execution_count": 100,
   "id": "cfc9f296-cda2-478a-bceb-77f623c0c91a",
   "metadata": {},
   "outputs": [],
   "source": [
    "matrix = [[1,2,3,4],[5,6,7,8],[9,10,11,12]]"
   ]
  },
  {
   "cell_type": "code",
   "execution_count": 101,
   "id": "ab70fd74-d0cd-4d80-86b9-e55065be3baf",
   "metadata": {},
   "outputs": [
    {
     "data": {
      "text/plain": [
       "[1, 2, 3, 4, 8, 12, 11, 10, 9, 5, 6, 7]"
      ]
     },
     "execution_count": 101,
     "metadata": {},
     "output_type": "execute_result"
    }
   ],
   "source": [
    "s = Solution()\n",
    "s.spiralOrder(matrix)"
   ]
  },
  {
   "cell_type": "markdown",
   "id": "f510304f-e6ea-4b57-a73f-f01ce43d6c4c",
   "metadata": {},
   "source": [
    "空间 `O(1)`"
   ]
  },
  {
   "cell_type": "code",
   "execution_count": 99,
   "id": "a394dbbb-8c73-4794-8af4-d351ac863a3c",
   "metadata": {},
   "outputs": [],
   "source": [
    "class Solution:\n",
    "    def spiralOrder(self, matrix: List[List[int]]) -> List[int]:\n",
    "        m, n = len(matrix), len(matrix[0])\n",
    "        step =  [m, n]\n",
    "        cnt = m * n\n",
    "        ds = ((0, 1), (1, 0), (0, -1), (-1, 0))\n",
    "        idx = 0\n",
    "        r, c = 0, -1\n",
    "        res = []\n",
    "        while len(res) < cnt:\n",
    "            dr, dc = ds[idx]\n",
    "            for _ in range(step[abs(dc)]):\n",
    "                r, c = r + dr, c + dc\n",
    "                res.append(matrix[r][c])\n",
    "            step[1 - abs(dc)] -= 1\n",
    "            idx = (idx + 1) % 4\n",
    "        return res"
   ]
  },
  {
   "cell_type": "markdown",
   "id": "6ff9f6f4-a13f-4a44-9966-45cc8eff338d",
   "metadata": {},
   "source": [
    "## [48. 旋转图像](https://leetcode.cn/problems/rotate-image/)"
   ]
  },
  {
   "cell_type": "code",
   "execution_count": 6,
   "id": "05b6d9d1-dc7e-4bef-92bc-0e834f4d4814",
   "metadata": {},
   "outputs": [],
   "source": [
    "from typing import List\n",
    "\n",
    "class Solution:\n",
    "    def rotate(self, matrix: List[List[int]]) -> None:\n",
    "        n = len(matrix)\n",
    "        for i in range(n):\n",
    "            for j in range(i + 1, n):\n",
    "                matrix[i][j], matrix[j][i] = matrix[j][i], matrix[i][j]\n",
    "\n",
    "        for i in range(n):\n",
    "            matrix[i] = matrix[i][::-1]\n",
    "        # return matrix"
   ]
  },
  {
   "cell_type": "code",
   "execution_count": 7,
   "id": "44d3a883-6cae-416f-992c-15dbeebdb57c",
   "metadata": {},
   "outputs": [],
   "source": [
    "matrix = [[5,1,9,11],[2,4,8,10],[13,3,6,7],[15,14,12,16]]"
   ]
  },
  {
   "cell_type": "code",
   "execution_count": 8,
   "id": "4d81968d-087f-45de-97cd-4d6b9e77f74a",
   "metadata": {},
   "outputs": [
    {
     "data": {
      "text/plain": [
       "[[15, 13, 2, 5], [14, 3, 4, 1], [12, 6, 8, 9], [16, 7, 10, 11]]"
      ]
     },
     "execution_count": 8,
     "metadata": {},
     "output_type": "execute_result"
    }
   ],
   "source": [
    "s = Solution()\n",
    "s.rotate(matrix)"
   ]
  },
  {
   "cell_type": "markdown",
   "id": "967f2a8f-a818-4698-bf39-40898bed3ffc",
   "metadata": {},
   "source": [
    "## [73. 矩阵置零](https://leetcode.cn/problems/set-matrix-zeroes/)"
   ]
  },
  {
   "cell_type": "markdown",
   "id": "757f615a-f31a-4ef2-bf7a-0a746479db6b",
   "metadata": {},
   "source": [
    "空间复杂度 `O(m + n)`"
   ]
  },
  {
   "cell_type": "code",
   "execution_count": 12,
   "id": "34428ec9-bf0d-490a-ada2-4a9989536dbc",
   "metadata": {},
   "outputs": [],
   "source": [
    "class Solution:\n",
    "    def setZeroes(self, matrix: List[List[int]]) -> None:\n",
    "        zRow = set()\n",
    "        zCol = set()\n",
    "        \n",
    "        m, n = len(matrix), len(matrix[0])\n",
    "        \n",
    "        for i in range(m):\n",
    "            for j in range(n):\n",
    "                if matrix[i][j] == 0:\n",
    "                    zRow.add(i)\n",
    "                    zCol.add(j)\n",
    "        \n",
    "        for i in range(m):\n",
    "            for j in range(n):\n",
    "                if (i in zRow) or (j in zCol):\n",
    "                    matrix[i][j] = 0\n",
    "        \n",
    "        return matrix"
   ]
  },
  {
   "cell_type": "code",
   "execution_count": 13,
   "id": "a4267b09-e93a-48db-ac17-888b9dde3444",
   "metadata": {},
   "outputs": [],
   "source": [
    "matrix = [[0,1,2,0],[3,4,5,2],[1,3,1,5]]"
   ]
  },
  {
   "cell_type": "code",
   "execution_count": 14,
   "id": "851ff151-222f-4726-8c1d-911b4f86c478",
   "metadata": {},
   "outputs": [
    {
     "data": {
      "text/plain": [
       "[[0, 0, 0, 0], [0, 4, 5, 0], [0, 3, 1, 0]]"
      ]
     },
     "execution_count": 14,
     "metadata": {},
     "output_type": "execute_result"
    }
   ],
   "source": [
    "s = Solution()\n",
    "s.setZeroes(matrix)"
   ]
  },
  {
   "cell_type": "markdown",
   "id": "7802e1e3-8ecb-4934-bce0-9b71b45e5f28",
   "metadata": {},
   "source": [
    "空间复杂度 `O(1)`"
   ]
  },
  {
   "cell_type": "code",
   "execution_count": 18,
   "id": "c7e36f44-7f5e-445f-9c66-8bfca4745d26",
   "metadata": {},
   "outputs": [],
   "source": [
    "class Solution:\n",
    "    def setZeroes(self, matrix: List[List[int]]) -> None:\n",
    "        m, n = len(matrix), len(matrix[0])\n",
    "        flag_col0 = False\n",
    "        \n",
    "        for i in range(m):\n",
    "            if matrix[i][0] == 0:\n",
    "                flag_col0 = True\n",
    "            for j in range(1, n):\n",
    "                if matrix[i][j] == 0:\n",
    "                    matrix[i][0] = matrix[0][j] = 0\n",
    "                    \n",
    "        for i in range(m - 1, -1, -1):\n",
    "            for j in range(1, n):\n",
    "                if matrix[i][0] == 0 or matrix[0][j] == 0:\n",
    "                    matrix[i][j] = 0\n",
    "        \n",
    "            if flag_col0: matrix[i][0] = 0"
   ]
  },
  {
   "cell_type": "code",
   "execution_count": null,
   "id": "f700af26-f942-49da-af8f-8fcd48ae67bc",
   "metadata": {},
   "outputs": [],
   "source": []
  },
  {
   "cell_type": "code",
   "execution_count": null,
   "id": "d57df459-f2b9-4d85-8b73-d49c99494437",
   "metadata": {},
   "outputs": [],
   "source": []
  },
  {
   "cell_type": "code",
   "execution_count": null,
   "id": "6b788323-8372-41bb-b666-7d126172589e",
   "metadata": {},
   "outputs": [],
   "source": []
  },
  {
   "cell_type": "code",
   "execution_count": null,
   "id": "a86ef810-03ea-40ff-b78c-abd01aa99bb1",
   "metadata": {},
   "outputs": [],
   "source": []
  },
  {
   "cell_type": "code",
   "execution_count": null,
   "id": "6291a2d8-c9e6-427e-a35a-13006f6d8de5",
   "metadata": {},
   "outputs": [],
   "source": []
  },
  {
   "cell_type": "code",
   "execution_count": null,
   "id": "21271d91-ed12-46c8-860f-a92c77b01fc9",
   "metadata": {},
   "outputs": [],
   "source": []
  },
  {
   "cell_type": "code",
   "execution_count": null,
   "id": "76768cc8-ef5e-4a21-a2c9-c83154bacbd7",
   "metadata": {},
   "outputs": [],
   "source": []
  },
  {
   "cell_type": "code",
   "execution_count": null,
   "id": "21517e34-4445-4c63-b964-0f5a10be88fc",
   "metadata": {},
   "outputs": [],
   "source": []
  },
  {
   "cell_type": "code",
   "execution_count": null,
   "id": "ef67a6d8-d70a-47ae-b58b-5a59b38b87fc",
   "metadata": {},
   "outputs": [],
   "source": []
  },
  {
   "cell_type": "code",
   "execution_count": null,
   "id": "229f6b6b-a7a4-41d6-89d3-b480ae24e88a",
   "metadata": {},
   "outputs": [],
   "source": []
  },
  {
   "cell_type": "code",
   "execution_count": null,
   "id": "2d925772-0d60-4d4d-8c76-ecfa4cd9d340",
   "metadata": {},
   "outputs": [],
   "source": []
  },
  {
   "cell_type": "code",
   "execution_count": null,
   "id": "d51114fc-d061-4614-ae2e-b5ad212b2c0d",
   "metadata": {},
   "outputs": [],
   "source": []
  },
  {
   "cell_type": "code",
   "execution_count": null,
   "id": "381cb2e0-18bc-48c3-a01a-735cff425312",
   "metadata": {},
   "outputs": [],
   "source": []
  },
  {
   "cell_type": "code",
   "execution_count": null,
   "id": "2a33a336-4155-41ef-a886-da352642c99e",
   "metadata": {},
   "outputs": [],
   "source": []
  },
  {
   "cell_type": "code",
   "execution_count": null,
   "id": "0af0d0c4-5dd0-4ce6-b39f-f30ffd990463",
   "metadata": {},
   "outputs": [],
   "source": []
  },
  {
   "cell_type": "code",
   "execution_count": null,
   "id": "1992f58f-3d85-46c6-aa46-d762eaa278f6",
   "metadata": {},
   "outputs": [],
   "source": []
  },
  {
   "cell_type": "code",
   "execution_count": null,
   "id": "f0485555-ed55-4cb0-be30-e2ee8d838d6b",
   "metadata": {},
   "outputs": [],
   "source": []
  },
  {
   "cell_type": "code",
   "execution_count": null,
   "id": "2ad06015-f3c9-4f51-8fee-daa7207ad4ba",
   "metadata": {},
   "outputs": [],
   "source": []
  },
  {
   "cell_type": "code",
   "execution_count": null,
   "id": "2133f4b8-521f-40cb-9480-2bbe3eb49d19",
   "metadata": {},
   "outputs": [],
   "source": []
  }
 ],
 "metadata": {
  "kernelspec": {
   "display_name": "Python 3 (ipykernel)",
   "language": "python",
   "name": "python3"
  },
  "language_info": {
   "codemirror_mode": {
    "name": "ipython",
    "version": 3
   },
   "file_extension": ".py",
   "mimetype": "text/x-python",
   "name": "python",
   "nbconvert_exporter": "python",
   "pygments_lexer": "ipython3",
   "version": "3.9.7"
  }
 },
 "nbformat": 4,
 "nbformat_minor": 5
}
