{
 "cells": [
  {
   "cell_type": "markdown",
   "id": "2d73168d-7a72-401e-b80b-2b7d07b4e13e",
   "metadata": {},
   "source": [
    "## 307. 区域和检索-数组可修改"
   ]
  },
  {
   "cell_type": "markdown",
   "id": "36339403-815c-4b7b-acdd-9edb60340430",
   "metadata": {},
   "source": [
    "### 线段树"
   ]
  },
  {
   "cell_type": "code",
   "execution_count": 23,
   "id": "f18916dd-9e0d-434e-8eba-0b141e709e6d",
   "metadata": {},
   "outputs": [],
   "source": [
    "from typing import List\n",
    "class NumArray:\n",
    "\n",
    "    def __init__(self, nums: List[int]):\n",
    "        def build(s, t, p):\n",
    "            if s == t:\n",
    "                d[p] = nums[s]\n",
    "                return\n",
    "            m = s + ((t - s) >> 1)  # (s + t) // 2\n",
    "            build(s, m, p << 1); build(m + 1, t, p << 1|1)\n",
    "            d[p] = d[p << 1] + d[p << 1|1]\n",
    "        n = len(nums)\n",
    "        d = [0] * (4 * n)\n",
    "        build(0, n - 1, 1)\n",
    "        self.len = n\n",
    "        self.d = d\n",
    "        \n",
    "        \n",
    "    def update(self, index: int, val: int) -> None:\n",
    "        def pointupdate(s, t, p, k, val):\n",
    "            if s == t == k:\n",
    "                d[p] = val\n",
    "                return\n",
    "            m = s + ((t - s) >> 1)\n",
    "            if k <= m:\n",
    "                pointupdate(s, m, p << 1, k, val)\n",
    "            else:\n",
    "                pointupdate(m + 1, t, p << 1|1, k, val)\n",
    "            d[p] = d[p << 1] + d[p << 1|1]\n",
    "        \n",
    "        d = self.d\n",
    "        pointupdate(0, self.len - 1, 1, index, val)\n",
    "\n",
    "    def sumRange(self, left: int, right: int) -> int:\n",
    "        def getsum(l, r, s, t, p):\n",
    "            # 当前区间为询问区间的子集时直接返回当前区间的和\n",
    "            if l <= s and t <= r:\n",
    "                return d[p]\n",
    "            m = s + ((t - s) >> 1); sum_ = 0\n",
    "            # 如果左儿子代表的区间 [s, m] 与询问区间有交集，则递归查询左儿子\n",
    "            if l <= m:\n",
    "                sum_ += getsum(l, r, s, m, p << 1)\n",
    "            # 同理查询右儿子\n",
    "            if r > m:\n",
    "                sum_ += getsum(l, r, m + 1, t, p << 1|1)\n",
    "            return sum_\n",
    "        return getsum(left, right, 0, self.len - 1, 1)"
   ]
  },
  {
   "cell_type": "code",
   "execution_count": 24,
   "id": "25147f0d-1a96-4068-a774-e64aec141f93",
   "metadata": {},
   "outputs": [],
   "source": [
    "nums = [1,2,3,4,5]\n",
    "array = NumArray(nums)\n",
    "array.update(0, 2)"
   ]
  },
  {
   "cell_type": "code",
   "execution_count": 25,
   "id": "3401fd36-652a-4d4c-a667-1bc259f66d69",
   "metadata": {},
   "outputs": [
    {
     "data": {
      "text/plain": [
       "[0, 16, 7, 9, 4, 3, 4, 5, 2, 2, 0, 0, 0, 0, 0, 0, 0, 0, 0, 0]"
      ]
     },
     "execution_count": 25,
     "metadata": {},
     "output_type": "execute_result"
    }
   ],
   "source": [
    "array.d"
   ]
  },
  {
   "cell_type": "markdown",
   "id": "f96d6199-715d-40cd-ad86-d56431a37f73",
   "metadata": {},
   "source": [
    "#### 复杂度分析"
   ]
  },
  {
   "cell_type": "markdown",
   "id": "fc0cc902-0a4b-4c3d-b590-e97b7a18788a",
   "metadata": {},
   "source": [
    "1. 时间复杂度：\n",
    "    - 构造函数 build：$O(n)$，其中 $n$ 是数组 $nums$ 的大小。二叉树的高度不超过 $\\lceil logn \\rceil + 1$，那么线段树的大小不超过\n",
    "    $2^{\\lceil logn \\rceil + 1} - 1 \\leq 4n$，所以 build 的时间复杂度为 $O(n)$。\n",
    "    - update 函数：$O(log n)$。因为数的高度不超过 $\\lceil log n \\rceil + 1$，所以涉及更新的节点数不超过 $\\lceil log n \\rceil + 1$。\n",
    "    - sumRange 函数：$O(log n)$。每层结点最多访问四个，总共访问的结点数不超过 $4 \\times (\\lceil log n \\rceil + 1)$。\n",
    "2. 空间复杂度：\n",
    "    - $O(n)$。保存线段树需要 $O(n)$ 的空间。"
   ]
  },
  {
   "cell_type": "markdown",
   "id": "df2aa832-9a83-4062-bfb6-2a92d2f596d8",
   "metadata": {},
   "source": [
    "### 树状数组"
   ]
  },
  {
   "cell_type": "markdown",
   "id": "58202b89-486a-49d3-b4e3-75bc22a03031",
   "metadata": {},
   "source": [
    "树状数组是一种支持 单点修改 和 区间查询 的，代码量小的数据结构。\n",
    "\n",
    "注意到，区间问题一般严格强于单点问题，因为对单点的操作相当于对一个长度为 1 的区间操作。\n",
    "\n",
    "事实上，树状数组能解决的问题是线段树能解决的问题的子集：树状数组能做的，线段树一定能做；线段树能做的，树状数组不一定可以。然而，树状数组的代码要远比线段树短，时间效率常数也更小，因此仍有学习价值。"
   ]
  },
  {
   "cell_type": "markdown",
   "id": "f89f664d-c2bf-433b-870f-d7e842ee3205",
   "metadata": {},
   "source": [
    "## 406. 根据身高重建序列"
   ]
  },
  {
   "cell_type": "markdown",
   "id": "ccf6d2fc-7b2c-44e0-91ca-8cda6489e762",
   "metadata": {},
   "source": [
    "> 一般这种数对，还涉及排序的，根据第一个元素正向排序，根据第二个元素反向排序，或者根据第一个元素反向排序，根据第二个元素正向排序，往往能够简化解题过程。"
   ]
  },
  {
   "cell_type": "markdown",
   "id": "85e84f82-5e60-4f4e-bbf2-8e85119ba465",
   "metadata": {},
   "source": [
    "[![LC406.png](https://i.postimg.cc/wj322wJ9/LC406.png)](https://postimg.cc/3k52JCnq)"
   ]
  },
  {
   "cell_type": "markdown",
   "id": "13a0492b-73fc-4066-b275-785fe1e84553",
   "metadata": {},
   "source": [
    "核心思想，从高向低排那么新插入的不会对已经排好顺序的造成影响。"
   ]
  },
  {
   "cell_type": "code",
   "execution_count": 31,
   "id": "66f541b3-cf1a-46d9-b616-fc9e182f76c6",
   "metadata": {},
   "outputs": [],
   "source": [
    "class Solution:\n",
    "    def reconstructQueue(self, people: List[List[int]]) -> List[List[int]]:\n",
    "        people.sort(key = lambda x: (-x[0], x[1]))\n",
    "        res = []\n",
    "        for p in people:\n",
    "            if p[1] >= len(res):\n",
    "                res.append(p)\n",
    "            else: res.insert(p[1], p)\n",
    "        return res"
   ]
  },
  {
   "cell_type": "code",
   "execution_count": 35,
   "id": "6e3a1876-5004-4284-83c4-c7009d3cb8c3",
   "metadata": {},
   "outputs": [],
   "source": [
    "class Solution:\n",
    "    def reconstructQueue(self, people: List[List[int]]) -> List[List[int]]:\n",
    "        people.sort(key = lambda x: (-x[0], x[1]))\n",
    "        res = []\n",
    "        for p in people:\n",
    "            if p[1] >= len(res):\n",
    "                res.append(p)\n",
    "            else: res[p[1]:p[1]] = [p]\n",
    "        return res"
   ]
  },
  {
   "cell_type": "code",
   "execution_count": null,
   "id": "b34ed5ec-dd03-46af-be3c-279317f634f0",
   "metadata": {},
   "outputs": [],
   "source": []
  },
  {
   "cell_type": "code",
   "execution_count": null,
   "id": "e9b7d63e-b454-4da5-bd0b-b796c91f3ec9",
   "metadata": {},
   "outputs": [],
   "source": []
  },
  {
   "cell_type": "code",
   "execution_count": null,
   "id": "ca1425eb-0d45-4c15-9f1e-b53e3b0cde2d",
   "metadata": {},
   "outputs": [],
   "source": []
  },
  {
   "cell_type": "code",
   "execution_count": null,
   "id": "933763a8-30e0-424e-8422-70b0bf837972",
   "metadata": {},
   "outputs": [],
   "source": []
  },
  {
   "cell_type": "code",
   "execution_count": null,
   "id": "151e2199-80bb-4a17-9937-e7891d528408",
   "metadata": {},
   "outputs": [],
   "source": []
  },
  {
   "cell_type": "code",
   "execution_count": null,
   "id": "7cb2c038-8d83-4939-8c06-8b008690f1dc",
   "metadata": {},
   "outputs": [],
   "source": []
  },
  {
   "cell_type": "code",
   "execution_count": null,
   "id": "2383cc4c-2bbe-48a3-8b63-2fbabec15e0b",
   "metadata": {},
   "outputs": [],
   "source": []
  },
  {
   "cell_type": "code",
   "execution_count": null,
   "id": "5afc68f2-088b-4ed6-92a2-5fb110d1d8db",
   "metadata": {},
   "outputs": [],
   "source": []
  },
  {
   "cell_type": "code",
   "execution_count": null,
   "id": "37231674-ba39-4b7d-b66c-3bf8c9f83858",
   "metadata": {},
   "outputs": [],
   "source": []
  },
  {
   "cell_type": "code",
   "execution_count": null,
   "id": "dcbce973-f735-45c3-bda9-7076bf6f5b4d",
   "metadata": {},
   "outputs": [],
   "source": []
  },
  {
   "cell_type": "code",
   "execution_count": null,
   "id": "2e214d19-e8fc-4bf3-a1ff-13da33270074",
   "metadata": {},
   "outputs": [],
   "source": []
  },
  {
   "cell_type": "code",
   "execution_count": null,
   "id": "25413d29-59d0-4fce-a252-b237dfd2869a",
   "metadata": {},
   "outputs": [],
   "source": []
  },
  {
   "cell_type": "code",
   "execution_count": null,
   "id": "2ec0365e-5420-4eb1-9e57-b232b7feed23",
   "metadata": {},
   "outputs": [],
   "source": []
  },
  {
   "cell_type": "code",
   "execution_count": null,
   "id": "12540e1e-2de1-4532-8362-950f4ca4c9db",
   "metadata": {},
   "outputs": [],
   "source": []
  },
  {
   "cell_type": "code",
   "execution_count": null,
   "id": "cb18c00f-cbd8-4ee2-818d-331b48356419",
   "metadata": {},
   "outputs": [],
   "source": []
  },
  {
   "cell_type": "code",
   "execution_count": null,
   "id": "bb6e1f20-d686-4f53-8730-81e4a2fc0171",
   "metadata": {},
   "outputs": [],
   "source": []
  },
  {
   "cell_type": "code",
   "execution_count": null,
   "id": "7cf3190f-b398-46b4-908a-fdcbef23bf37",
   "metadata": {},
   "outputs": [],
   "source": []
  },
  {
   "cell_type": "code",
   "execution_count": null,
   "id": "3565a29a-7bfe-4375-b623-b633142d8b30",
   "metadata": {},
   "outputs": [],
   "source": []
  },
  {
   "cell_type": "code",
   "execution_count": null,
   "id": "9dc01f6d-d86c-4859-b609-49a6a455d9da",
   "metadata": {},
   "outputs": [],
   "source": []
  },
  {
   "cell_type": "code",
   "execution_count": null,
   "id": "2a4848de-5782-4f4a-920d-cf28cc98f84c",
   "metadata": {},
   "outputs": [],
   "source": []
  },
  {
   "cell_type": "code",
   "execution_count": null,
   "id": "5ca84291-6977-4abd-a973-fe920502f8a9",
   "metadata": {},
   "outputs": [],
   "source": []
  },
  {
   "cell_type": "code",
   "execution_count": null,
   "id": "5107bde9-e5ca-41ff-86a4-ab6ff0b665a1",
   "metadata": {},
   "outputs": [],
   "source": []
  },
  {
   "cell_type": "code",
   "execution_count": null,
   "id": "5503a1bb-2b09-4fa6-b63d-9e0764756762",
   "metadata": {},
   "outputs": [],
   "source": []
  },
  {
   "cell_type": "code",
   "execution_count": null,
   "id": "7aaa7067-d6cc-4a64-b503-84a974109986",
   "metadata": {},
   "outputs": [],
   "source": []
  },
  {
   "cell_type": "code",
   "execution_count": null,
   "id": "c852e25f-8668-422b-a8f6-c50eaf2808d9",
   "metadata": {},
   "outputs": [],
   "source": []
  },
  {
   "cell_type": "code",
   "execution_count": null,
   "id": "ca4fbefb-0355-4e04-b817-e8fd0104bf6d",
   "metadata": {},
   "outputs": [],
   "source": []
  },
  {
   "cell_type": "code",
   "execution_count": null,
   "id": "7ef5ebe3-9371-45bb-9fff-34b49f5c5b72",
   "metadata": {},
   "outputs": [],
   "source": []
  },
  {
   "cell_type": "code",
   "execution_count": null,
   "id": "193e3382-00ea-4e76-b7a9-80e65b56ab61",
   "metadata": {},
   "outputs": [],
   "source": []
  }
 ],
 "metadata": {
  "kernelspec": {
   "display_name": "Python 3 (ipykernel)",
   "language": "python",
   "name": "python3"
  },
  "language_info": {
   "codemirror_mode": {
    "name": "ipython",
    "version": 3
   },
   "file_extension": ".py",
   "mimetype": "text/x-python",
   "name": "python",
   "nbconvert_exporter": "python",
   "pygments_lexer": "ipython3",
   "version": "3.6.3"
  }
 },
 "nbformat": 4,
 "nbformat_minor": 5
}
